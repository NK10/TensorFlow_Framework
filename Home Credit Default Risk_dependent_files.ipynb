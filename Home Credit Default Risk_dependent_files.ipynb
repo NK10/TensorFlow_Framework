{
 "cells": [
  {
   "cell_type": "code",
   "execution_count": 1,
   "metadata": {},
   "outputs": [],
   "source": [
    "import numpy as np\n",
    "import pandas as pd\n",
    "import matplotlib.pyplot as plt\n",
    "import seaborn as sas"
   ]
  },
  {
   "cell_type": "code",
   "execution_count": 2,
   "metadata": {},
   "outputs": [],
   "source": [
    "data_dir =  \"C:/Machine Learning/Hackathons/Kaggle/Home_Credit_Group/\""
   ]
  },
  {
   "cell_type": "code",
   "execution_count": 3,
   "metadata": {},
   "outputs": [],
   "source": [
    "bureau_balance =  pd.read_csv(data_dir+\"bureau_balance.csv\", )\n",
    "bureau =  pd.read_csv(data_dir+\"bureau.csv\")\n",
    "credit_card_balance =  pd.read_csv(data_dir+\"credit_card_balance.csv\")\n",
    "installments_payments =  pd.read_csv(data_dir+\"installments_payments.csv\")\n",
    "POS_CASH_balance =  pd.read_csv(data_dir+\"POS_CASH_balance.csv\")\n",
    "previous_application=  pd.read_csv(data_dir+\"previous_application.csv\")"
   ]
  },
  {
   "cell_type": "code",
   "execution_count": 5,
   "metadata": {},
   "outputs": [],
   "source": [
    "read_train1 = pd.read_csv(data_dir+\"application_train.csv\")\n",
    "read_test1 = pd.read_csv(data_dir+\"application_test.csv\")"
   ]
  },
  {
   "cell_type": "markdown",
   "metadata": {},
   "source": [
    "Use the below file for the combined features (merged with train and test file) of all the files for this project"
   ]
  },
  {
   "cell_type": "code",
   "execution_count": 6,
   "metadata": {},
   "outputs": [],
   "source": [
    "read_test2 = pd.read_csv(data_dir+\"final_combined_test_file.csv\")\n",
    "read_train2 =pd.read_csv(data_dir+\"final_combined_train_file.csv\")"
   ]
  },
  {
   "cell_type": "code",
   "execution_count": 7,
   "metadata": {},
   "outputs": [
    {
     "data": {
      "text/plain": [
       "((48744, 121), (307511, 122))"
      ]
     },
     "execution_count": 7,
     "metadata": {},
     "output_type": "execute_result"
    }
   ],
   "source": [
    "read_test1.shape, read_train1.shape"
   ]
  },
  {
   "cell_type": "code",
   "execution_count": 9,
   "metadata": {},
   "outputs": [
    {
     "name": "stdout",
     "output_type": "stream",
     "text": [
      "train shape  (307511, 122)\n",
      "test shape  (48744, 121)\n",
      "previous_application (1670214, 37)\n",
      "bureau (1716428, 17)\n",
      "bureau_balance (27299925, 3)\n",
      "credit_card_balance (3840312, 23)\n",
      "installments_payments (13605401, 8)\n",
      "POS_CASH_balance (10001358, 8)\n"
     ]
    }
   ],
   "source": [
    "print(\"train shape \",read_train1.shape)\n",
    "print(\"test shape \",read_test1.shape)\n",
    "print(\"previous_application\" , previous_application.shape)\n",
    "print(\"bureau\", bureau.shape)\n",
    "print(\"bureau_balance\",bureau_balance.shape)\n",
    "print(\"credit_card_balance\",credit_card_balance.shape)\n",
    "print(\"installments_payments\",installments_payments.shape)\n",
    "print(\"POS_CASH_balance\", POS_CASH_balance.shape)\n"
   ]
  },
  {
   "cell_type": "code",
   "execution_count": 10,
   "metadata": {},
   "outputs": [],
   "source": [
    "corr_train = read_train1.corr()"
   ]
  },
  {
   "cell_type": "code",
   "execution_count": 11,
   "metadata": {},
   "outputs": [
    {
     "data": {
      "text/html": [
       "<div>\n",
       "<style scoped>\n",
       "    .dataframe tbody tr th:only-of-type {\n",
       "        vertical-align: middle;\n",
       "    }\n",
       "\n",
       "    .dataframe tbody tr th {\n",
       "        vertical-align: top;\n",
       "    }\n",
       "\n",
       "    .dataframe thead th {\n",
       "        text-align: right;\n",
       "    }\n",
       "</style>\n",
       "<table border=\"1\" class=\"dataframe\">\n",
       "  <thead>\n",
       "    <tr style=\"text-align: right;\">\n",
       "      <th></th>\n",
       "      <th>SK_ID_CURR</th>\n",
       "      <th>TARGET</th>\n",
       "      <th>CNT_CHILDREN</th>\n",
       "      <th>AMT_INCOME_TOTAL</th>\n",
       "      <th>AMT_CREDIT</th>\n",
       "      <th>AMT_ANNUITY</th>\n",
       "      <th>AMT_GOODS_PRICE</th>\n",
       "      <th>REGION_POPULATION_RELATIVE</th>\n",
       "      <th>DAYS_BIRTH</th>\n",
       "      <th>DAYS_EMPLOYED</th>\n",
       "      <th>...</th>\n",
       "      <th>FLAG_DOCUMENT_18</th>\n",
       "      <th>FLAG_DOCUMENT_19</th>\n",
       "      <th>FLAG_DOCUMENT_20</th>\n",
       "      <th>FLAG_DOCUMENT_21</th>\n",
       "      <th>AMT_REQ_CREDIT_BUREAU_HOUR</th>\n",
       "      <th>AMT_REQ_CREDIT_BUREAU_DAY</th>\n",
       "      <th>AMT_REQ_CREDIT_BUREAU_WEEK</th>\n",
       "      <th>AMT_REQ_CREDIT_BUREAU_MON</th>\n",
       "      <th>AMT_REQ_CREDIT_BUREAU_QRT</th>\n",
       "      <th>AMT_REQ_CREDIT_BUREAU_YEAR</th>\n",
       "    </tr>\n",
       "  </thead>\n",
       "  <tbody>\n",
       "    <tr>\n",
       "      <th>SK_ID_CURR</th>\n",
       "      <td>1.000000</td>\n",
       "      <td>-0.002108</td>\n",
       "      <td>-0.001129</td>\n",
       "      <td>-0.001820</td>\n",
       "      <td>-0.000343</td>\n",
       "      <td>-0.000433</td>\n",
       "      <td>-0.000232</td>\n",
       "      <td>0.000849</td>\n",
       "      <td>-0.001500</td>\n",
       "      <td>0.001366</td>\n",
       "      <td>...</td>\n",
       "      <td>0.000509</td>\n",
       "      <td>0.000167</td>\n",
       "      <td>0.001073</td>\n",
       "      <td>0.000282</td>\n",
       "      <td>-0.002672</td>\n",
       "      <td>-0.002193</td>\n",
       "      <td>0.002099</td>\n",
       "      <td>0.000485</td>\n",
       "      <td>0.001025</td>\n",
       "      <td>0.004659</td>\n",
       "    </tr>\n",
       "    <tr>\n",
       "      <th>TARGET</th>\n",
       "      <td>-0.002108</td>\n",
       "      <td>1.000000</td>\n",
       "      <td>0.019187</td>\n",
       "      <td>-0.003982</td>\n",
       "      <td>-0.030369</td>\n",
       "      <td>-0.012817</td>\n",
       "      <td>-0.039645</td>\n",
       "      <td>-0.037227</td>\n",
       "      <td>0.078239</td>\n",
       "      <td>-0.044932</td>\n",
       "      <td>...</td>\n",
       "      <td>-0.007952</td>\n",
       "      <td>-0.001358</td>\n",
       "      <td>0.000215</td>\n",
       "      <td>0.003709</td>\n",
       "      <td>0.000930</td>\n",
       "      <td>0.002704</td>\n",
       "      <td>0.000788</td>\n",
       "      <td>-0.012462</td>\n",
       "      <td>-0.002022</td>\n",
       "      <td>0.019930</td>\n",
       "    </tr>\n",
       "    <tr>\n",
       "      <th>CNT_CHILDREN</th>\n",
       "      <td>-0.001129</td>\n",
       "      <td>0.019187</td>\n",
       "      <td>1.000000</td>\n",
       "      <td>0.012882</td>\n",
       "      <td>0.002145</td>\n",
       "      <td>0.021374</td>\n",
       "      <td>-0.001827</td>\n",
       "      <td>-0.025573</td>\n",
       "      <td>0.330938</td>\n",
       "      <td>-0.239818</td>\n",
       "      <td>...</td>\n",
       "      <td>0.004031</td>\n",
       "      <td>0.000864</td>\n",
       "      <td>0.000988</td>\n",
       "      <td>-0.002450</td>\n",
       "      <td>-0.000410</td>\n",
       "      <td>-0.000366</td>\n",
       "      <td>-0.002436</td>\n",
       "      <td>-0.010808</td>\n",
       "      <td>-0.007836</td>\n",
       "      <td>-0.041550</td>\n",
       "    </tr>\n",
       "    <tr>\n",
       "      <th>AMT_INCOME_TOTAL</th>\n",
       "      <td>-0.001820</td>\n",
       "      <td>-0.003982</td>\n",
       "      <td>0.012882</td>\n",
       "      <td>1.000000</td>\n",
       "      <td>0.156870</td>\n",
       "      <td>0.191657</td>\n",
       "      <td>0.159610</td>\n",
       "      <td>0.074796</td>\n",
       "      <td>0.027261</td>\n",
       "      <td>-0.064223</td>\n",
       "      <td>...</td>\n",
       "      <td>0.003130</td>\n",
       "      <td>0.002408</td>\n",
       "      <td>0.000242</td>\n",
       "      <td>-0.000589</td>\n",
       "      <td>0.000709</td>\n",
       "      <td>0.002944</td>\n",
       "      <td>0.002387</td>\n",
       "      <td>0.024700</td>\n",
       "      <td>0.004859</td>\n",
       "      <td>0.011690</td>\n",
       "    </tr>\n",
       "    <tr>\n",
       "      <th>AMT_CREDIT</th>\n",
       "      <td>-0.000343</td>\n",
       "      <td>-0.030369</td>\n",
       "      <td>0.002145</td>\n",
       "      <td>0.156870</td>\n",
       "      <td>1.000000</td>\n",
       "      <td>0.770138</td>\n",
       "      <td>0.986968</td>\n",
       "      <td>0.099738</td>\n",
       "      <td>-0.055436</td>\n",
       "      <td>-0.066838</td>\n",
       "      <td>...</td>\n",
       "      <td>0.034329</td>\n",
       "      <td>0.021082</td>\n",
       "      <td>0.031023</td>\n",
       "      <td>-0.016148</td>\n",
       "      <td>-0.003906</td>\n",
       "      <td>0.004238</td>\n",
       "      <td>-0.001275</td>\n",
       "      <td>0.054451</td>\n",
       "      <td>0.015925</td>\n",
       "      <td>-0.048448</td>\n",
       "    </tr>\n",
       "    <tr>\n",
       "      <th>AMT_ANNUITY</th>\n",
       "      <td>-0.000433</td>\n",
       "      <td>-0.012817</td>\n",
       "      <td>0.021374</td>\n",
       "      <td>0.191657</td>\n",
       "      <td>0.770138</td>\n",
       "      <td>1.000000</td>\n",
       "      <td>0.775109</td>\n",
       "      <td>0.118429</td>\n",
       "      <td>0.009445</td>\n",
       "      <td>-0.104332</td>\n",
       "      <td>...</td>\n",
       "      <td>-0.009745</td>\n",
       "      <td>0.004573</td>\n",
       "      <td>0.011718</td>\n",
       "      <td>-0.017598</td>\n",
       "      <td>0.003861</td>\n",
       "      <td>0.002185</td>\n",
       "      <td>0.013881</td>\n",
       "      <td>0.039148</td>\n",
       "      <td>0.010124</td>\n",
       "      <td>-0.011320</td>\n",
       "    </tr>\n",
       "    <tr>\n",
       "      <th>AMT_GOODS_PRICE</th>\n",
       "      <td>-0.000232</td>\n",
       "      <td>-0.039645</td>\n",
       "      <td>-0.001827</td>\n",
       "      <td>0.159610</td>\n",
       "      <td>0.986968</td>\n",
       "      <td>0.775109</td>\n",
       "      <td>1.000000</td>\n",
       "      <td>0.103520</td>\n",
       "      <td>-0.053442</td>\n",
       "      <td>-0.064842</td>\n",
       "      <td>...</td>\n",
       "      <td>0.032748</td>\n",
       "      <td>0.020279</td>\n",
       "      <td>0.031640</td>\n",
       "      <td>-0.014486</td>\n",
       "      <td>-0.003237</td>\n",
       "      <td>0.004677</td>\n",
       "      <td>-0.001007</td>\n",
       "      <td>0.056422</td>\n",
       "      <td>0.016432</td>\n",
       "      <td>-0.050998</td>\n",
       "    </tr>\n",
       "    <tr>\n",
       "      <th>REGION_POPULATION_RELATIVE</th>\n",
       "      <td>0.000849</td>\n",
       "      <td>-0.037227</td>\n",
       "      <td>-0.025573</td>\n",
       "      <td>0.074796</td>\n",
       "      <td>0.099738</td>\n",
       "      <td>0.118429</td>\n",
       "      <td>0.103520</td>\n",
       "      <td>1.000000</td>\n",
       "      <td>-0.029582</td>\n",
       "      <td>-0.003980</td>\n",
       "      <td>...</td>\n",
       "      <td>0.013367</td>\n",
       "      <td>0.002364</td>\n",
       "      <td>-0.000045</td>\n",
       "      <td>0.003437</td>\n",
       "      <td>-0.002225</td>\n",
       "      <td>0.001399</td>\n",
       "      <td>-0.002149</td>\n",
       "      <td>0.078607</td>\n",
       "      <td>-0.001279</td>\n",
       "      <td>0.001003</td>\n",
       "    </tr>\n",
       "    <tr>\n",
       "      <th>DAYS_BIRTH</th>\n",
       "      <td>-0.001500</td>\n",
       "      <td>0.078239</td>\n",
       "      <td>0.330938</td>\n",
       "      <td>0.027261</td>\n",
       "      <td>-0.055436</td>\n",
       "      <td>0.009445</td>\n",
       "      <td>-0.053442</td>\n",
       "      <td>-0.029582</td>\n",
       "      <td>1.000000</td>\n",
       "      <td>-0.615864</td>\n",
       "      <td>...</td>\n",
       "      <td>0.044498</td>\n",
       "      <td>0.003614</td>\n",
       "      <td>0.009015</td>\n",
       "      <td>0.027282</td>\n",
       "      <td>0.005285</td>\n",
       "      <td>0.002255</td>\n",
       "      <td>-0.001336</td>\n",
       "      <td>0.001372</td>\n",
       "      <td>-0.011799</td>\n",
       "      <td>-0.071983</td>\n",
       "    </tr>\n",
       "    <tr>\n",
       "      <th>DAYS_EMPLOYED</th>\n",
       "      <td>0.001366</td>\n",
       "      <td>-0.044932</td>\n",
       "      <td>-0.239818</td>\n",
       "      <td>-0.064223</td>\n",
       "      <td>-0.066838</td>\n",
       "      <td>-0.104332</td>\n",
       "      <td>-0.064842</td>\n",
       "      <td>-0.003980</td>\n",
       "      <td>-0.615864</td>\n",
       "      <td>1.000000</td>\n",
       "      <td>...</td>\n",
       "      <td>-0.040396</td>\n",
       "      <td>-0.010040</td>\n",
       "      <td>-0.010135</td>\n",
       "      <td>-0.008396</td>\n",
       "      <td>-0.004735</td>\n",
       "      <td>0.000472</td>\n",
       "      <td>0.003072</td>\n",
       "      <td>-0.034457</td>\n",
       "      <td>0.015345</td>\n",
       "      <td>0.049988</td>\n",
       "    </tr>\n",
       "    <tr>\n",
       "      <th>DAYS_REGISTRATION</th>\n",
       "      <td>-0.000973</td>\n",
       "      <td>0.041975</td>\n",
       "      <td>0.183395</td>\n",
       "      <td>0.027805</td>\n",
       "      <td>0.009621</td>\n",
       "      <td>0.038514</td>\n",
       "      <td>0.011565</td>\n",
       "      <td>-0.053820</td>\n",
       "      <td>0.331912</td>\n",
       "      <td>-0.210242</td>\n",
       "      <td>...</td>\n",
       "      <td>0.017040</td>\n",
       "      <td>0.004764</td>\n",
       "      <td>0.006971</td>\n",
       "      <td>0.003859</td>\n",
       "      <td>-0.002855</td>\n",
       "      <td>-0.000508</td>\n",
       "      <td>-0.001069</td>\n",
       "      <td>-0.011353</td>\n",
       "      <td>-0.001308</td>\n",
       "      <td>-0.024805</td>\n",
       "    </tr>\n",
       "    <tr>\n",
       "      <th>DAYS_ID_PUBLISH</th>\n",
       "      <td>-0.000384</td>\n",
       "      <td>0.051457</td>\n",
       "      <td>-0.028019</td>\n",
       "      <td>0.008506</td>\n",
       "      <td>-0.006575</td>\n",
       "      <td>0.011268</td>\n",
       "      <td>-0.009267</td>\n",
       "      <td>-0.003993</td>\n",
       "      <td>0.272691</td>\n",
       "      <td>-0.272378</td>\n",
       "      <td>...</td>\n",
       "      <td>0.014084</td>\n",
       "      <td>0.000903</td>\n",
       "      <td>0.000070</td>\n",
       "      <td>0.017246</td>\n",
       "      <td>0.004761</td>\n",
       "      <td>-0.000999</td>\n",
       "      <td>-0.001249</td>\n",
       "      <td>-0.009660</td>\n",
       "      <td>-0.006200</td>\n",
       "      <td>-0.035099</td>\n",
       "    </tr>\n",
       "    <tr>\n",
       "      <th>OWN_CAR_AGE</th>\n",
       "      <td>0.001818</td>\n",
       "      <td>0.037612</td>\n",
       "      <td>0.008494</td>\n",
       "      <td>-0.117273</td>\n",
       "      <td>-0.094191</td>\n",
       "      <td>-0.097057</td>\n",
       "      <td>-0.103733</td>\n",
       "      <td>-0.081429</td>\n",
       "      <td>0.005761</td>\n",
       "      <td>0.028830</td>\n",
       "      <td>...</td>\n",
       "      <td>-0.011043</td>\n",
       "      <td>-0.004992</td>\n",
       "      <td>-0.007458</td>\n",
       "      <td>0.001236</td>\n",
       "      <td>-0.000202</td>\n",
       "      <td>-0.008650</td>\n",
       "      <td>0.001661</td>\n",
       "      <td>-0.021867</td>\n",
       "      <td>-0.017632</td>\n",
       "      <td>-0.014384</td>\n",
       "    </tr>\n",
       "    <tr>\n",
       "      <th>FLAG_MOBIL</th>\n",
       "      <td>0.002804</td>\n",
       "      <td>0.000534</td>\n",
       "      <td>0.001041</td>\n",
       "      <td>0.000325</td>\n",
       "      <td>0.001436</td>\n",
       "      <td>0.000149</td>\n",
       "      <td>0.001399</td>\n",
       "      <td>0.001333</td>\n",
       "      <td>-0.003084</td>\n",
       "      <td>0.000818</td>\n",
       "      <td>...</td>\n",
       "      <td>-0.019919</td>\n",
       "      <td>0.000044</td>\n",
       "      <td>0.000041</td>\n",
       "      <td>0.000033</td>\n",
       "      <td>NaN</td>\n",
       "      <td>NaN</td>\n",
       "      <td>NaN</td>\n",
       "      <td>NaN</td>\n",
       "      <td>NaN</td>\n",
       "      <td>NaN</td>\n",
       "    </tr>\n",
       "    <tr>\n",
       "      <th>FLAG_EMP_PHONE</th>\n",
       "      <td>-0.001337</td>\n",
       "      <td>0.045982</td>\n",
       "      <td>0.240714</td>\n",
       "      <td>0.063994</td>\n",
       "      <td>0.065519</td>\n",
       "      <td>0.103533</td>\n",
       "      <td>0.063487</td>\n",
       "      <td>0.004045</td>\n",
       "      <td>0.619888</td>\n",
       "      <td>-0.999755</td>\n",
       "      <td>...</td>\n",
       "      <td>0.040548</td>\n",
       "      <td>0.010049</td>\n",
       "      <td>0.010183</td>\n",
       "      <td>0.008579</td>\n",
       "      <td>0.004619</td>\n",
       "      <td>-0.000438</td>\n",
       "      <td>-0.003028</td>\n",
       "      <td>0.034092</td>\n",
       "      <td>-0.015271</td>\n",
       "      <td>-0.049949</td>\n",
       "    </tr>\n",
       "    <tr>\n",
       "      <th>FLAG_WORK_PHONE</th>\n",
       "      <td>-0.000415</td>\n",
       "      <td>0.028524</td>\n",
       "      <td>0.055630</td>\n",
       "      <td>-0.017193</td>\n",
       "      <td>-0.021085</td>\n",
       "      <td>-0.024803</td>\n",
       "      <td>0.001086</td>\n",
       "      <td>-0.015628</td>\n",
       "      <td>0.172457</td>\n",
       "      <td>-0.233972</td>\n",
       "      <td>...</td>\n",
       "      <td>0.032049</td>\n",
       "      <td>0.011854</td>\n",
       "      <td>0.001771</td>\n",
       "      <td>0.001541</td>\n",
       "      <td>-0.005358</td>\n",
       "      <td>-0.004434</td>\n",
       "      <td>-0.004404</td>\n",
       "      <td>-0.001829</td>\n",
       "      <td>-0.022964</td>\n",
       "      <td>-0.075875</td>\n",
       "    </tr>\n",
       "    <tr>\n",
       "      <th>FLAG_CONT_MOBILE</th>\n",
       "      <td>0.002815</td>\n",
       "      <td>0.000370</td>\n",
       "      <td>-0.000794</td>\n",
       "      <td>-0.008290</td>\n",
       "      <td>0.023653</td>\n",
       "      <td>0.022350</td>\n",
       "      <td>0.020706</td>\n",
       "      <td>-0.012478</td>\n",
       "      <td>-0.014985</td>\n",
       "      <td>0.012745</td>\n",
       "      <td>...</td>\n",
       "      <td>-0.043068</td>\n",
       "      <td>-0.005123</td>\n",
       "      <td>0.000974</td>\n",
       "      <td>-0.015677</td>\n",
       "      <td>-0.004600</td>\n",
       "      <td>-0.002481</td>\n",
       "      <td>-0.008496</td>\n",
       "      <td>0.005922</td>\n",
       "      <td>0.006934</td>\n",
       "      <td>0.026700</td>\n",
       "    </tr>\n",
       "    <tr>\n",
       "      <th>FLAG_PHONE</th>\n",
       "      <td>0.002753</td>\n",
       "      <td>-0.023806</td>\n",
       "      <td>-0.029906</td>\n",
       "      <td>0.000159</td>\n",
       "      <td>0.026213</td>\n",
       "      <td>0.010802</td>\n",
       "      <td>0.042179</td>\n",
       "      <td>0.090939</td>\n",
       "      <td>-0.042402</td>\n",
       "      <td>0.015291</td>\n",
       "      <td>...</td>\n",
       "      <td>0.004055</td>\n",
       "      <td>0.009660</td>\n",
       "      <td>0.000692</td>\n",
       "      <td>0.000020</td>\n",
       "      <td>-0.003251</td>\n",
       "      <td>-0.000833</td>\n",
       "      <td>-0.000201</td>\n",
       "      <td>0.031992</td>\n",
       "      <td>-0.009969</td>\n",
       "      <td>-0.031587</td>\n",
       "    </tr>\n",
       "    <tr>\n",
       "      <th>FLAG_EMAIL</th>\n",
       "      <td>0.000281</td>\n",
       "      <td>-0.001758</td>\n",
       "      <td>0.022619</td>\n",
       "      <td>0.038378</td>\n",
       "      <td>0.016632</td>\n",
       "      <td>0.071709</td>\n",
       "      <td>0.017048</td>\n",
       "      <td>0.040012</td>\n",
       "      <td>0.088208</td>\n",
       "      <td>-0.062112</td>\n",
       "      <td>...</td>\n",
       "      <td>-0.008110</td>\n",
       "      <td>-0.002525</td>\n",
       "      <td>-0.001778</td>\n",
       "      <td>-0.000647</td>\n",
       "      <td>0.003390</td>\n",
       "      <td>0.003849</td>\n",
       "      <td>0.021581</td>\n",
       "      <td>0.025669</td>\n",
       "      <td>0.013426</td>\n",
       "      <td>0.053354</td>\n",
       "    </tr>\n",
       "    <tr>\n",
       "      <th>CNT_FAM_MEMBERS</th>\n",
       "      <td>-0.002895</td>\n",
       "      <td>0.009308</td>\n",
       "      <td>0.879161</td>\n",
       "      <td>0.016342</td>\n",
       "      <td>0.063160</td>\n",
       "      <td>0.075539</td>\n",
       "      <td>0.061185</td>\n",
       "      <td>-0.024209</td>\n",
       "      <td>0.278894</td>\n",
       "      <td>-0.233549</td>\n",
       "      <td>...</td>\n",
       "      <td>0.001485</td>\n",
       "      <td>0.002205</td>\n",
       "      <td>0.000188</td>\n",
       "      <td>-0.005801</td>\n",
       "      <td>0.000660</td>\n",
       "      <td>-0.001215</td>\n",
       "      <td>-0.001174</td>\n",
       "      <td>-0.008021</td>\n",
       "      <td>-0.004739</td>\n",
       "      <td>-0.028571</td>\n",
       "    </tr>\n",
       "    <tr>\n",
       "      <th>REGION_RATING_CLIENT</th>\n",
       "      <td>-0.001075</td>\n",
       "      <td>0.058899</td>\n",
       "      <td>0.025423</td>\n",
       "      <td>-0.085465</td>\n",
       "      <td>-0.101776</td>\n",
       "      <td>-0.128525</td>\n",
       "      <td>-0.103786</td>\n",
       "      <td>-0.532877</td>\n",
       "      <td>0.009361</td>\n",
       "      <td>0.032750</td>\n",
       "      <td>...</td>\n",
       "      <td>-0.012532</td>\n",
       "      <td>-0.001205</td>\n",
       "      <td>0.002217</td>\n",
       "      <td>-0.001887</td>\n",
       "      <td>0.006312</td>\n",
       "      <td>-0.002241</td>\n",
       "      <td>0.001683</td>\n",
       "      <td>-0.069712</td>\n",
       "      <td>0.005436</td>\n",
       "      <td>0.011494</td>\n",
       "    </tr>\n",
       "    <tr>\n",
       "      <th>REGION_RATING_CLIENT_W_CITY</th>\n",
       "      <td>-0.001138</td>\n",
       "      <td>0.060893</td>\n",
       "      <td>0.024781</td>\n",
       "      <td>-0.091735</td>\n",
       "      <td>-0.110915</td>\n",
       "      <td>-0.141682</td>\n",
       "      <td>-0.112208</td>\n",
       "      <td>-0.531535</td>\n",
       "      <td>0.008073</td>\n",
       "      <td>0.034624</td>\n",
       "      <td>...</td>\n",
       "      <td>-0.013672</td>\n",
       "      <td>-0.001530</td>\n",
       "      <td>0.002609</td>\n",
       "      <td>-0.001501</td>\n",
       "      <td>0.006239</td>\n",
       "      <td>-0.001953</td>\n",
       "      <td>0.001102</td>\n",
       "      <td>-0.067741</td>\n",
       "      <td>0.004773</td>\n",
       "      <td>0.010683</td>\n",
       "    </tr>\n",
       "    <tr>\n",
       "      <th>HOUR_APPR_PROCESS_START</th>\n",
       "      <td>0.000350</td>\n",
       "      <td>-0.024166</td>\n",
       "      <td>-0.007292</td>\n",
       "      <td>0.036459</td>\n",
       "      <td>0.052738</td>\n",
       "      <td>0.052269</td>\n",
       "      <td>0.062320</td>\n",
       "      <td>0.171285</td>\n",
       "      <td>0.091064</td>\n",
       "      <td>-0.091138</td>\n",
       "      <td>...</td>\n",
       "      <td>0.021584</td>\n",
       "      <td>0.002507</td>\n",
       "      <td>0.003277</td>\n",
       "      <td>0.003998</td>\n",
       "      <td>-0.016005</td>\n",
       "      <td>0.002274</td>\n",
       "      <td>-0.002985</td>\n",
       "      <td>0.037673</td>\n",
       "      <td>-0.000680</td>\n",
       "      <td>-0.030943</td>\n",
       "    </tr>\n",
       "    <tr>\n",
       "      <th>REG_REGION_NOT_LIVE_REGION</th>\n",
       "      <td>-0.000283</td>\n",
       "      <td>0.005576</td>\n",
       "      <td>-0.013319</td>\n",
       "      <td>0.031191</td>\n",
       "      <td>0.024010</td>\n",
       "      <td>0.041299</td>\n",
       "      <td>0.026111</td>\n",
       "      <td>0.002118</td>\n",
       "      <td>0.065486</td>\n",
       "      <td>-0.035803</td>\n",
       "      <td>...</td>\n",
       "      <td>0.008344</td>\n",
       "      <td>-0.001934</td>\n",
       "      <td>-0.002794</td>\n",
       "      <td>0.005006</td>\n",
       "      <td>-0.002044</td>\n",
       "      <td>-0.001342</td>\n",
       "      <td>0.001227</td>\n",
       "      <td>0.000316</td>\n",
       "      <td>-0.001813</td>\n",
       "      <td>-0.017095</td>\n",
       "    </tr>\n",
       "    <tr>\n",
       "      <th>REG_REGION_NOT_WORK_REGION</th>\n",
       "      <td>0.001097</td>\n",
       "      <td>0.006942</td>\n",
       "      <td>0.008185</td>\n",
       "      <td>0.062340</td>\n",
       "      <td>0.051929</td>\n",
       "      <td>0.079420</td>\n",
       "      <td>0.053171</td>\n",
       "      <td>0.056944</td>\n",
       "      <td>0.095819</td>\n",
       "      <td>-0.107150</td>\n",
       "      <td>...</td>\n",
       "      <td>0.007436</td>\n",
       "      <td>0.001038</td>\n",
       "      <td>-0.001263</td>\n",
       "      <td>-0.000995</td>\n",
       "      <td>-0.001749</td>\n",
       "      <td>-0.001775</td>\n",
       "      <td>-0.000705</td>\n",
       "      <td>0.008360</td>\n",
       "      <td>-0.004959</td>\n",
       "      <td>-0.021587</td>\n",
       "    </tr>\n",
       "    <tr>\n",
       "      <th>LIVE_REGION_NOT_WORK_REGION</th>\n",
       "      <td>0.002903</td>\n",
       "      <td>0.002819</td>\n",
       "      <td>0.014835</td>\n",
       "      <td>0.058059</td>\n",
       "      <td>0.052609</td>\n",
       "      <td>0.074550</td>\n",
       "      <td>0.052864</td>\n",
       "      <td>0.081016</td>\n",
       "      <td>0.069567</td>\n",
       "      <td>-0.095539</td>\n",
       "      <td>...</td>\n",
       "      <td>0.004282</td>\n",
       "      <td>0.003078</td>\n",
       "      <td>-0.000251</td>\n",
       "      <td>-0.001969</td>\n",
       "      <td>-0.000996</td>\n",
       "      <td>-0.000993</td>\n",
       "      <td>-0.001486</td>\n",
       "      <td>0.010246</td>\n",
       "      <td>-0.005655</td>\n",
       "      <td>-0.017429</td>\n",
       "    </tr>\n",
       "    <tr>\n",
       "      <th>REG_CITY_NOT_LIVE_CITY</th>\n",
       "      <td>-0.001885</td>\n",
       "      <td>0.044395</td>\n",
       "      <td>0.020072</td>\n",
       "      <td>0.003574</td>\n",
       "      <td>-0.026886</td>\n",
       "      <td>-0.006214</td>\n",
       "      <td>-0.027212</td>\n",
       "      <td>-0.050499</td>\n",
       "      <td>0.180382</td>\n",
       "      <td>-0.090516</td>\n",
       "      <td>...</td>\n",
       "      <td>0.013432</td>\n",
       "      <td>-0.005119</td>\n",
       "      <td>-0.001181</td>\n",
       "      <td>0.002614</td>\n",
       "      <td>0.000549</td>\n",
       "      <td>-0.002152</td>\n",
       "      <td>-0.001517</td>\n",
       "      <td>-0.010881</td>\n",
       "      <td>0.000933</td>\n",
       "      <td>-0.004793</td>\n",
       "    </tr>\n",
       "    <tr>\n",
       "      <th>REG_CITY_NOT_WORK_CITY</th>\n",
       "      <td>-0.001582</td>\n",
       "      <td>0.050994</td>\n",
       "      <td>0.070650</td>\n",
       "      <td>0.006431</td>\n",
       "      <td>-0.018856</td>\n",
       "      <td>0.000896</td>\n",
       "      <td>-0.020333</td>\n",
       "      <td>-0.044057</td>\n",
       "      <td>0.242401</td>\n",
       "      <td>-0.254559</td>\n",
       "      <td>...</td>\n",
       "      <td>0.013919</td>\n",
       "      <td>-0.003854</td>\n",
       "      <td>0.000703</td>\n",
       "      <td>0.003487</td>\n",
       "      <td>0.000481</td>\n",
       "      <td>-0.001982</td>\n",
       "      <td>-0.002753</td>\n",
       "      <td>-0.012182</td>\n",
       "      <td>-0.005227</td>\n",
       "      <td>-0.008013</td>\n",
       "    </tr>\n",
       "    <tr>\n",
       "      <th>LIVE_CITY_NOT_WORK_CITY</th>\n",
       "      <td>0.000067</td>\n",
       "      <td>0.032518</td>\n",
       "      <td>0.069957</td>\n",
       "      <td>0.008285</td>\n",
       "      <td>0.000081</td>\n",
       "      <td>0.010084</td>\n",
       "      <td>-0.001309</td>\n",
       "      <td>-0.015188</td>\n",
       "      <td>0.158882</td>\n",
       "      <td>-0.218101</td>\n",
       "      <td>...</td>\n",
       "      <td>0.006332</td>\n",
       "      <td>-0.002035</td>\n",
       "      <td>0.001877</td>\n",
       "      <td>0.004401</td>\n",
       "      <td>-0.000924</td>\n",
       "      <td>-0.001960</td>\n",
       "      <td>-0.003325</td>\n",
       "      <td>-0.007592</td>\n",
       "      <td>-0.006792</td>\n",
       "      <td>-0.008415</td>\n",
       "    </tr>\n",
       "    <tr>\n",
       "      <th>EXT_SOURCE_1</th>\n",
       "      <td>0.000082</td>\n",
       "      <td>-0.155317</td>\n",
       "      <td>-0.138470</td>\n",
       "      <td>0.026232</td>\n",
       "      <td>0.168429</td>\n",
       "      <td>0.119398</td>\n",
       "      <td>0.175502</td>\n",
       "      <td>0.099997</td>\n",
       "      <td>-0.600610</td>\n",
       "      <td>0.289848</td>\n",
       "      <td>...</td>\n",
       "      <td>-0.025739</td>\n",
       "      <td>0.005131</td>\n",
       "      <td>-0.005102</td>\n",
       "      <td>-0.019208</td>\n",
       "      <td>-0.003963</td>\n",
       "      <td>-0.005087</td>\n",
       "      <td>-0.001801</td>\n",
       "      <td>0.030820</td>\n",
       "      <td>-0.003631</td>\n",
       "      <td>0.006562</td>\n",
       "    </tr>\n",
       "    <tr>\n",
       "      <th>EXT_SOURCE_2</th>\n",
       "      <td>0.002342</td>\n",
       "      <td>-0.160472</td>\n",
       "      <td>-0.018015</td>\n",
       "      <td>0.060925</td>\n",
       "      <td>0.131228</td>\n",
       "      <td>0.125804</td>\n",
       "      <td>0.139367</td>\n",
       "      <td>0.198924</td>\n",
       "      <td>-0.091996</td>\n",
       "      <td>-0.020767</td>\n",
       "      <td>...</td>\n",
       "      <td>0.001874</td>\n",
       "      <td>0.003256</td>\n",
       "      <td>0.000614</td>\n",
       "      <td>-0.007236</td>\n",
       "      <td>-0.004077</td>\n",
       "      <td>0.000553</td>\n",
       "      <td>0.001507</td>\n",
       "      <td>0.051981</td>\n",
       "      <td>-0.002849</td>\n",
       "      <td>-0.021984</td>\n",
       "    </tr>\n",
       "    <tr>\n",
       "      <th>EXT_SOURCE_3</th>\n",
       "      <td>0.000222</td>\n",
       "      <td>-0.178919</td>\n",
       "      <td>-0.042710</td>\n",
       "      <td>-0.030229</td>\n",
       "      <td>0.043516</td>\n",
       "      <td>0.030752</td>\n",
       "      <td>0.047717</td>\n",
       "      <td>-0.006001</td>\n",
       "      <td>-0.205478</td>\n",
       "      <td>0.113434</td>\n",
       "      <td>...</td>\n",
       "      <td>-0.016152</td>\n",
       "      <td>-0.002590</td>\n",
       "      <td>-0.013837</td>\n",
       "      <td>-0.013058</td>\n",
       "      <td>-0.001193</td>\n",
       "      <td>-0.007190</td>\n",
       "      <td>-0.021258</td>\n",
       "      <td>-0.007856</td>\n",
       "      <td>-0.025131</td>\n",
       "      <td>-0.071449</td>\n",
       "    </tr>\n",
       "    <tr>\n",
       "      <th>APARTMENTS_AVG</th>\n",
       "      <td>0.001556</td>\n",
       "      <td>-0.029498</td>\n",
       "      <td>-0.013222</td>\n",
       "      <td>0.034501</td>\n",
       "      <td>0.060439</td>\n",
       "      <td>0.076213</td>\n",
       "      <td>0.064918</td>\n",
       "      <td>0.205942</td>\n",
       "      <td>0.004779</td>\n",
       "      <td>-0.016359</td>\n",
       "      <td>...</td>\n",
       "      <td>0.004799</td>\n",
       "      <td>-0.000071</td>\n",
       "      <td>-0.002904</td>\n",
       "      <td>-0.003998</td>\n",
       "      <td>0.001933</td>\n",
       "      <td>0.004938</td>\n",
       "      <td>0.000099</td>\n",
       "      <td>0.035420</td>\n",
       "      <td>-0.002787</td>\n",
       "      <td>-0.016496</td>\n",
       "    </tr>\n",
       "    <tr>\n",
       "      <th>BASEMENTAREA_AVG</th>\n",
       "      <td>-0.002070</td>\n",
       "      <td>-0.022746</td>\n",
       "      <td>-0.008464</td>\n",
       "      <td>0.017303</td>\n",
       "      <td>0.039226</td>\n",
       "      <td>0.044507</td>\n",
       "      <td>0.043982</td>\n",
       "      <td>0.098423</td>\n",
       "      <td>-0.004400</td>\n",
       "      <td>-0.001382</td>\n",
       "      <td>...</td>\n",
       "      <td>0.004651</td>\n",
       "      <td>-0.002357</td>\n",
       "      <td>-0.000050</td>\n",
       "      <td>-0.003815</td>\n",
       "      <td>-0.000676</td>\n",
       "      <td>0.005157</td>\n",
       "      <td>-0.000650</td>\n",
       "      <td>0.021661</td>\n",
       "      <td>-0.000945</td>\n",
       "      <td>-0.012364</td>\n",
       "    </tr>\n",
       "    <tr>\n",
       "      <th>YEARS_BEGINEXPLUATATION_AVG</th>\n",
       "      <td>0.001551</td>\n",
       "      <td>-0.009728</td>\n",
       "      <td>0.006902</td>\n",
       "      <td>0.005658</td>\n",
       "      <td>0.006249</td>\n",
       "      <td>0.013298</td>\n",
       "      <td>0.007245</td>\n",
       "      <td>-0.006683</td>\n",
       "      <td>0.000744</td>\n",
       "      <td>0.008629</td>\n",
       "      <td>...</td>\n",
       "      <td>0.003945</td>\n",
       "      <td>0.000936</td>\n",
       "      <td>0.000939</td>\n",
       "      <td>-0.000052</td>\n",
       "      <td>0.000628</td>\n",
       "      <td>-0.001838</td>\n",
       "      <td>0.003530</td>\n",
       "      <td>-0.000557</td>\n",
       "      <td>0.001891</td>\n",
       "      <td>-0.008315</td>\n",
       "    </tr>\n",
       "    <tr>\n",
       "      <th>YEARS_BUILD_AVG</th>\n",
       "      <td>0.005900</td>\n",
       "      <td>-0.022149</td>\n",
       "      <td>0.030172</td>\n",
       "      <td>0.042334</td>\n",
       "      <td>0.035875</td>\n",
       "      <td>0.034195</td>\n",
       "      <td>0.041937</td>\n",
       "      <td>-0.056566</td>\n",
       "      <td>0.026623</td>\n",
       "      <td>-0.005830</td>\n",
       "      <td>...</td>\n",
       "      <td>0.006981</td>\n",
       "      <td>0.001916</td>\n",
       "      <td>-0.005382</td>\n",
       "      <td>-0.008957</td>\n",
       "      <td>0.001762</td>\n",
       "      <td>0.002482</td>\n",
       "      <td>-0.004234</td>\n",
       "      <td>-0.002554</td>\n",
       "      <td>-0.007246</td>\n",
       "      <td>-0.025874</td>\n",
       "    </tr>\n",
       "    <tr>\n",
       "      <th>COMMONAREA_AVG</th>\n",
       "      <td>-0.001463</td>\n",
       "      <td>-0.018550</td>\n",
       "      <td>0.000140</td>\n",
       "      <td>0.089616</td>\n",
       "      <td>0.049537</td>\n",
       "      <td>0.057628</td>\n",
       "      <td>0.050507</td>\n",
       "      <td>0.164806</td>\n",
       "      <td>0.008364</td>\n",
       "      <td>-0.012528</td>\n",
       "      <td>...</td>\n",
       "      <td>0.015269</td>\n",
       "      <td>0.006676</td>\n",
       "      <td>-0.001106</td>\n",
       "      <td>-0.005055</td>\n",
       "      <td>0.006829</td>\n",
       "      <td>0.005493</td>\n",
       "      <td>-0.008238</td>\n",
       "      <td>0.024331</td>\n",
       "      <td>-0.009804</td>\n",
       "      <td>-0.014049</td>\n",
       "    </tr>\n",
       "    <tr>\n",
       "      <th>ELEVATORS_AVG</th>\n",
       "      <td>0.004862</td>\n",
       "      <td>-0.034199</td>\n",
       "      <td>-0.007060</td>\n",
       "      <td>0.045053</td>\n",
       "      <td>0.080635</td>\n",
       "      <td>0.101439</td>\n",
       "      <td>0.083736</td>\n",
       "      <td>0.280685</td>\n",
       "      <td>-0.001448</td>\n",
       "      <td>-0.009792</td>\n",
       "      <td>...</td>\n",
       "      <td>0.007212</td>\n",
       "      <td>0.001160</td>\n",
       "      <td>-0.004101</td>\n",
       "      <td>-0.004347</td>\n",
       "      <td>0.001187</td>\n",
       "      <td>0.004841</td>\n",
       "      <td>-0.000343</td>\n",
       "      <td>0.043076</td>\n",
       "      <td>-0.004788</td>\n",
       "      <td>-0.018544</td>\n",
       "    </tr>\n",
       "    <tr>\n",
       "      <th>ENTRANCES_AVG</th>\n",
       "      <td>-0.002879</td>\n",
       "      <td>-0.019172</td>\n",
       "      <td>-0.008341</td>\n",
       "      <td>0.005394</td>\n",
       "      <td>0.014929</td>\n",
       "      <td>0.014745</td>\n",
       "      <td>0.018764</td>\n",
       "      <td>0.036840</td>\n",
       "      <td>-0.010281</td>\n",
       "      <td>0.004018</td>\n",
       "      <td>...</td>\n",
       "      <td>-0.000502</td>\n",
       "      <td>-0.000885</td>\n",
       "      <td>-0.003519</td>\n",
       "      <td>-0.000461</td>\n",
       "      <td>-0.003643</td>\n",
       "      <td>0.006608</td>\n",
       "      <td>0.001921</td>\n",
       "      <td>0.012894</td>\n",
       "      <td>-0.000139</td>\n",
       "      <td>-0.010362</td>\n",
       "    </tr>\n",
       "    <tr>\n",
       "      <th>FLOORSMAX_AVG</th>\n",
       "      <td>0.004851</td>\n",
       "      <td>-0.044003</td>\n",
       "      <td>-0.009705</td>\n",
       "      <td>0.060171</td>\n",
       "      <td>0.103296</td>\n",
       "      <td>0.130174</td>\n",
       "      <td>0.108512</td>\n",
       "      <td>0.322652</td>\n",
       "      <td>0.001634</td>\n",
       "      <td>-0.015970</td>\n",
       "      <td>...</td>\n",
       "      <td>0.012230</td>\n",
       "      <td>0.000900</td>\n",
       "      <td>-0.002702</td>\n",
       "      <td>-0.005814</td>\n",
       "      <td>0.003101</td>\n",
       "      <td>0.002946</td>\n",
       "      <td>-0.000050</td>\n",
       "      <td>0.046762</td>\n",
       "      <td>-0.000841</td>\n",
       "      <td>-0.019750</td>\n",
       "    </tr>\n",
       "    <tr>\n",
       "      <th>FLOORSMIN_AVG</th>\n",
       "      <td>0.003083</td>\n",
       "      <td>-0.033614</td>\n",
       "      <td>-0.008753</td>\n",
       "      <td>0.139860</td>\n",
       "      <td>0.078832</td>\n",
       "      <td>0.099812</td>\n",
       "      <td>0.081411</td>\n",
       "      <td>0.294349</td>\n",
       "      <td>0.001538</td>\n",
       "      <td>-0.015894</td>\n",
       "      <td>...</td>\n",
       "      <td>0.011188</td>\n",
       "      <td>0.004354</td>\n",
       "      <td>-0.001684</td>\n",
       "      <td>-0.004220</td>\n",
       "      <td>0.003623</td>\n",
       "      <td>0.004115</td>\n",
       "      <td>-0.000593</td>\n",
       "      <td>0.039120</td>\n",
       "      <td>-0.004213</td>\n",
       "      <td>-0.010189</td>\n",
       "    </tr>\n",
       "    <tr>\n",
       "      <th>LANDAREA_AVG</th>\n",
       "      <td>0.001465</td>\n",
       "      <td>-0.010885</td>\n",
       "      <td>-0.003121</td>\n",
       "      <td>-0.001598</td>\n",
       "      <td>0.006218</td>\n",
       "      <td>0.008611</td>\n",
       "      <td>0.013297</td>\n",
       "      <td>-0.051160</td>\n",
       "      <td>0.003013</td>\n",
       "      <td>-0.009609</td>\n",
       "      <td>...</td>\n",
       "      <td>-0.001443</td>\n",
       "      <td>-0.000341</td>\n",
       "      <td>0.000947</td>\n",
       "      <td>-0.004053</td>\n",
       "      <td>-0.001597</td>\n",
       "      <td>0.006243</td>\n",
       "      <td>0.009960</td>\n",
       "      <td>0.015587</td>\n",
       "      <td>0.005662</td>\n",
       "      <td>-0.011767</td>\n",
       "    </tr>\n",
       "    <tr>\n",
       "      <th>LIVINGAPARTMENTS_AVG</th>\n",
       "      <td>0.003119</td>\n",
       "      <td>-0.025031</td>\n",
       "      <td>-0.008648</td>\n",
       "      <td>0.106920</td>\n",
       "      <td>0.058788</td>\n",
       "      <td>0.075293</td>\n",
       "      <td>0.061850</td>\n",
       "      <td>0.194452</td>\n",
       "      <td>0.011184</td>\n",
       "      <td>-0.020192</td>\n",
       "      <td>...</td>\n",
       "      <td>0.007126</td>\n",
       "      <td>0.001360</td>\n",
       "      <td>-0.003760</td>\n",
       "      <td>-0.005357</td>\n",
       "      <td>0.002935</td>\n",
       "      <td>0.006782</td>\n",
       "      <td>-0.003702</td>\n",
       "      <td>0.034461</td>\n",
       "      <td>-0.007919</td>\n",
       "      <td>-0.013920</td>\n",
       "    </tr>\n",
       "    <tr>\n",
       "      <th>LIVINGAREA_AVG</th>\n",
       "      <td>0.001770</td>\n",
       "      <td>-0.032997</td>\n",
       "      <td>-0.010116</td>\n",
       "      <td>0.039976</td>\n",
       "      <td>0.072146</td>\n",
       "      <td>0.089659</td>\n",
       "      <td>0.077307</td>\n",
       "      <td>0.213491</td>\n",
       "      <td>-0.000334</td>\n",
       "      <td>-0.012438</td>\n",
       "      <td>...</td>\n",
       "      <td>0.006662</td>\n",
       "      <td>0.000582</td>\n",
       "      <td>-0.002948</td>\n",
       "      <td>-0.003910</td>\n",
       "      <td>0.004188</td>\n",
       "      <td>0.010214</td>\n",
       "      <td>-0.001297</td>\n",
       "      <td>0.035706</td>\n",
       "      <td>-0.002432</td>\n",
       "      <td>-0.019041</td>\n",
       "    </tr>\n",
       "    <tr>\n",
       "      <th>NONLIVINGAPARTMENTS_AVG</th>\n",
       "      <td>-0.002575</td>\n",
       "      <td>-0.003176</td>\n",
       "      <td>0.004051</td>\n",
       "      <td>0.029520</td>\n",
       "      <td>0.014362</td>\n",
       "      <td>0.021306</td>\n",
       "      <td>0.015424</td>\n",
       "      <td>0.024293</td>\n",
       "      <td>0.002229</td>\n",
       "      <td>-0.004680</td>\n",
       "      <td>...</td>\n",
       "      <td>0.000523</td>\n",
       "      <td>-0.002216</td>\n",
       "      <td>-0.001577</td>\n",
       "      <td>-0.000514</td>\n",
       "      <td>-0.000173</td>\n",
       "      <td>-0.000714</td>\n",
       "      <td>-0.002525</td>\n",
       "      <td>0.001306</td>\n",
       "      <td>0.001956</td>\n",
       "      <td>-0.001210</td>\n",
       "    </tr>\n",
       "    <tr>\n",
       "      <th>NONLIVINGAREA_AVG</th>\n",
       "      <td>0.003042</td>\n",
       "      <td>-0.013578</td>\n",
       "      <td>0.000028</td>\n",
       "      <td>0.074604</td>\n",
       "      <td>0.037885</td>\n",
       "      <td>0.049593</td>\n",
       "      <td>0.041912</td>\n",
       "      <td>0.074816</td>\n",
       "      <td>0.005712</td>\n",
       "      <td>-0.012858</td>\n",
       "      <td>...</td>\n",
       "      <td>0.003771</td>\n",
       "      <td>0.001147</td>\n",
       "      <td>-0.001482</td>\n",
       "      <td>-0.000183</td>\n",
       "      <td>0.003974</td>\n",
       "      <td>0.002923</td>\n",
       "      <td>-0.006022</td>\n",
       "      <td>0.013877</td>\n",
       "      <td>-0.003135</td>\n",
       "      <td>-0.009096</td>\n",
       "    </tr>\n",
       "    <tr>\n",
       "      <th>APARTMENTS_MODE</th>\n",
       "      <td>0.001961</td>\n",
       "      <td>-0.027284</td>\n",
       "      <td>-0.012105</td>\n",
       "      <td>0.029994</td>\n",
       "      <td>0.053072</td>\n",
       "      <td>0.066401</td>\n",
       "      <td>0.057523</td>\n",
       "      <td>0.175029</td>\n",
       "      <td>0.004959</td>\n",
       "      <td>-0.014632</td>\n",
       "      <td>...</td>\n",
       "      <td>0.005093</td>\n",
       "      <td>0.000312</td>\n",
       "      <td>-0.002888</td>\n",
       "      <td>-0.004040</td>\n",
       "      <td>0.002080</td>\n",
       "      <td>0.004368</td>\n",
       "      <td>0.000432</td>\n",
       "      <td>0.032814</td>\n",
       "      <td>-0.002393</td>\n",
       "      <td>-0.014626</td>\n",
       "    </tr>\n",
       "    <tr>\n",
       "      <th>BASEMENTAREA_MODE</th>\n",
       "      <td>-0.001411</td>\n",
       "      <td>-0.019952</td>\n",
       "      <td>-0.008513</td>\n",
       "      <td>0.012821</td>\n",
       "      <td>0.031213</td>\n",
       "      <td>0.034443</td>\n",
       "      <td>0.035811</td>\n",
       "      <td>0.065779</td>\n",
       "      <td>-0.004319</td>\n",
       "      <td>-0.000243</td>\n",
       "      <td>...</td>\n",
       "      <td>0.004596</td>\n",
       "      <td>-0.002427</td>\n",
       "      <td>-0.000056</td>\n",
       "      <td>-0.003702</td>\n",
       "      <td>-0.000004</td>\n",
       "      <td>0.004809</td>\n",
       "      <td>-0.000794</td>\n",
       "      <td>0.020001</td>\n",
       "      <td>-0.000861</td>\n",
       "      <td>-0.011243</td>\n",
       "    </tr>\n",
       "    <tr>\n",
       "      <th>YEARS_BEGINEXPLUATATION_MODE</th>\n",
       "      <td>0.001890</td>\n",
       "      <td>-0.009036</td>\n",
       "      <td>0.006199</td>\n",
       "      <td>0.005284</td>\n",
       "      <td>0.004804</td>\n",
       "      <td>0.012555</td>\n",
       "      <td>0.005799</td>\n",
       "      <td>-0.006837</td>\n",
       "      <td>0.000714</td>\n",
       "      <td>0.008637</td>\n",
       "      <td>...</td>\n",
       "      <td>0.003297</td>\n",
       "      <td>0.001863</td>\n",
       "      <td>0.000968</td>\n",
       "      <td>0.000069</td>\n",
       "      <td>0.000461</td>\n",
       "      <td>-0.002151</td>\n",
       "      <td>0.002856</td>\n",
       "      <td>-0.000402</td>\n",
       "      <td>0.002113</td>\n",
       "      <td>-0.008162</td>\n",
       "    </tr>\n",
       "    <tr>\n",
       "      <th>YEARS_BUILD_MODE</th>\n",
       "      <td>0.005245</td>\n",
       "      <td>-0.022068</td>\n",
       "      <td>0.029549</td>\n",
       "      <td>0.037299</td>\n",
       "      <td>0.033478</td>\n",
       "      <td>0.030932</td>\n",
       "      <td>0.039410</td>\n",
       "      <td>-0.063779</td>\n",
       "      <td>0.025844</td>\n",
       "      <td>-0.005053</td>\n",
       "      <td>...</td>\n",
       "      <td>0.007190</td>\n",
       "      <td>0.000902</td>\n",
       "      <td>-0.005694</td>\n",
       "      <td>-0.009375</td>\n",
       "      <td>0.001304</td>\n",
       "      <td>0.001469</td>\n",
       "      <td>-0.004390</td>\n",
       "      <td>-0.002829</td>\n",
       "      <td>-0.006996</td>\n",
       "      <td>-0.025018</td>\n",
       "    </tr>\n",
       "  </tbody>\n",
       "</table>\n",
       "<p>50 rows × 106 columns</p>\n",
       "</div>"
      ],
      "text/plain": [
       "                              SK_ID_CURR    TARGET  CNT_CHILDREN  \\\n",
       "SK_ID_CURR                      1.000000 -0.002108     -0.001129   \n",
       "TARGET                         -0.002108  1.000000      0.019187   \n",
       "CNT_CHILDREN                   -0.001129  0.019187      1.000000   \n",
       "AMT_INCOME_TOTAL               -0.001820 -0.003982      0.012882   \n",
       "AMT_CREDIT                     -0.000343 -0.030369      0.002145   \n",
       "AMT_ANNUITY                    -0.000433 -0.012817      0.021374   \n",
       "AMT_GOODS_PRICE                -0.000232 -0.039645     -0.001827   \n",
       "REGION_POPULATION_RELATIVE      0.000849 -0.037227     -0.025573   \n",
       "DAYS_BIRTH                     -0.001500  0.078239      0.330938   \n",
       "DAYS_EMPLOYED                   0.001366 -0.044932     -0.239818   \n",
       "DAYS_REGISTRATION              -0.000973  0.041975      0.183395   \n",
       "DAYS_ID_PUBLISH                -0.000384  0.051457     -0.028019   \n",
       "OWN_CAR_AGE                     0.001818  0.037612      0.008494   \n",
       "FLAG_MOBIL                      0.002804  0.000534      0.001041   \n",
       "FLAG_EMP_PHONE                 -0.001337  0.045982      0.240714   \n",
       "FLAG_WORK_PHONE                -0.000415  0.028524      0.055630   \n",
       "FLAG_CONT_MOBILE                0.002815  0.000370     -0.000794   \n",
       "FLAG_PHONE                      0.002753 -0.023806     -0.029906   \n",
       "FLAG_EMAIL                      0.000281 -0.001758      0.022619   \n",
       "CNT_FAM_MEMBERS                -0.002895  0.009308      0.879161   \n",
       "REGION_RATING_CLIENT           -0.001075  0.058899      0.025423   \n",
       "REGION_RATING_CLIENT_W_CITY    -0.001138  0.060893      0.024781   \n",
       "HOUR_APPR_PROCESS_START         0.000350 -0.024166     -0.007292   \n",
       "REG_REGION_NOT_LIVE_REGION     -0.000283  0.005576     -0.013319   \n",
       "REG_REGION_NOT_WORK_REGION      0.001097  0.006942      0.008185   \n",
       "LIVE_REGION_NOT_WORK_REGION     0.002903  0.002819      0.014835   \n",
       "REG_CITY_NOT_LIVE_CITY         -0.001885  0.044395      0.020072   \n",
       "REG_CITY_NOT_WORK_CITY         -0.001582  0.050994      0.070650   \n",
       "LIVE_CITY_NOT_WORK_CITY         0.000067  0.032518      0.069957   \n",
       "EXT_SOURCE_1                    0.000082 -0.155317     -0.138470   \n",
       "EXT_SOURCE_2                    0.002342 -0.160472     -0.018015   \n",
       "EXT_SOURCE_3                    0.000222 -0.178919     -0.042710   \n",
       "APARTMENTS_AVG                  0.001556 -0.029498     -0.013222   \n",
       "BASEMENTAREA_AVG               -0.002070 -0.022746     -0.008464   \n",
       "YEARS_BEGINEXPLUATATION_AVG     0.001551 -0.009728      0.006902   \n",
       "YEARS_BUILD_AVG                 0.005900 -0.022149      0.030172   \n",
       "COMMONAREA_AVG                 -0.001463 -0.018550      0.000140   \n",
       "ELEVATORS_AVG                   0.004862 -0.034199     -0.007060   \n",
       "ENTRANCES_AVG                  -0.002879 -0.019172     -0.008341   \n",
       "FLOORSMAX_AVG                   0.004851 -0.044003     -0.009705   \n",
       "FLOORSMIN_AVG                   0.003083 -0.033614     -0.008753   \n",
       "LANDAREA_AVG                    0.001465 -0.010885     -0.003121   \n",
       "LIVINGAPARTMENTS_AVG            0.003119 -0.025031     -0.008648   \n",
       "LIVINGAREA_AVG                  0.001770 -0.032997     -0.010116   \n",
       "NONLIVINGAPARTMENTS_AVG        -0.002575 -0.003176      0.004051   \n",
       "NONLIVINGAREA_AVG               0.003042 -0.013578      0.000028   \n",
       "APARTMENTS_MODE                 0.001961 -0.027284     -0.012105   \n",
       "BASEMENTAREA_MODE              -0.001411 -0.019952     -0.008513   \n",
       "YEARS_BEGINEXPLUATATION_MODE    0.001890 -0.009036      0.006199   \n",
       "YEARS_BUILD_MODE                0.005245 -0.022068      0.029549   \n",
       "\n",
       "                              AMT_INCOME_TOTAL  AMT_CREDIT  AMT_ANNUITY  \\\n",
       "SK_ID_CURR                           -0.001820   -0.000343    -0.000433   \n",
       "TARGET                               -0.003982   -0.030369    -0.012817   \n",
       "CNT_CHILDREN                          0.012882    0.002145     0.021374   \n",
       "AMT_INCOME_TOTAL                      1.000000    0.156870     0.191657   \n",
       "AMT_CREDIT                            0.156870    1.000000     0.770138   \n",
       "AMT_ANNUITY                           0.191657    0.770138     1.000000   \n",
       "AMT_GOODS_PRICE                       0.159610    0.986968     0.775109   \n",
       "REGION_POPULATION_RELATIVE            0.074796    0.099738     0.118429   \n",
       "DAYS_BIRTH                            0.027261   -0.055436     0.009445   \n",
       "DAYS_EMPLOYED                        -0.064223   -0.066838    -0.104332   \n",
       "DAYS_REGISTRATION                     0.027805    0.009621     0.038514   \n",
       "DAYS_ID_PUBLISH                       0.008506   -0.006575     0.011268   \n",
       "OWN_CAR_AGE                          -0.117273   -0.094191    -0.097057   \n",
       "FLAG_MOBIL                            0.000325    0.001436     0.000149   \n",
       "FLAG_EMP_PHONE                        0.063994    0.065519     0.103533   \n",
       "FLAG_WORK_PHONE                      -0.017193   -0.021085    -0.024803   \n",
       "FLAG_CONT_MOBILE                     -0.008290    0.023653     0.022350   \n",
       "FLAG_PHONE                            0.000159    0.026213     0.010802   \n",
       "FLAG_EMAIL                            0.038378    0.016632     0.071709   \n",
       "CNT_FAM_MEMBERS                       0.016342    0.063160     0.075539   \n",
       "REGION_RATING_CLIENT                 -0.085465   -0.101776    -0.128525   \n",
       "REGION_RATING_CLIENT_W_CITY          -0.091735   -0.110915    -0.141682   \n",
       "HOUR_APPR_PROCESS_START               0.036459    0.052738     0.052269   \n",
       "REG_REGION_NOT_LIVE_REGION            0.031191    0.024010     0.041299   \n",
       "REG_REGION_NOT_WORK_REGION            0.062340    0.051929     0.079420   \n",
       "LIVE_REGION_NOT_WORK_REGION           0.058059    0.052609     0.074550   \n",
       "REG_CITY_NOT_LIVE_CITY                0.003574   -0.026886    -0.006214   \n",
       "REG_CITY_NOT_WORK_CITY                0.006431   -0.018856     0.000896   \n",
       "LIVE_CITY_NOT_WORK_CITY               0.008285    0.000081     0.010084   \n",
       "EXT_SOURCE_1                          0.026232    0.168429     0.119398   \n",
       "EXT_SOURCE_2                          0.060925    0.131228     0.125804   \n",
       "EXT_SOURCE_3                         -0.030229    0.043516     0.030752   \n",
       "APARTMENTS_AVG                        0.034501    0.060439     0.076213   \n",
       "BASEMENTAREA_AVG                      0.017303    0.039226     0.044507   \n",
       "YEARS_BEGINEXPLUATATION_AVG           0.005658    0.006249     0.013298   \n",
       "YEARS_BUILD_AVG                       0.042334    0.035875     0.034195   \n",
       "COMMONAREA_AVG                        0.089616    0.049537     0.057628   \n",
       "ELEVATORS_AVG                         0.045053    0.080635     0.101439   \n",
       "ENTRANCES_AVG                         0.005394    0.014929     0.014745   \n",
       "FLOORSMAX_AVG                         0.060171    0.103296     0.130174   \n",
       "FLOORSMIN_AVG                         0.139860    0.078832     0.099812   \n",
       "LANDAREA_AVG                         -0.001598    0.006218     0.008611   \n",
       "LIVINGAPARTMENTS_AVG                  0.106920    0.058788     0.075293   \n",
       "LIVINGAREA_AVG                        0.039976    0.072146     0.089659   \n",
       "NONLIVINGAPARTMENTS_AVG               0.029520    0.014362     0.021306   \n",
       "NONLIVINGAREA_AVG                     0.074604    0.037885     0.049593   \n",
       "APARTMENTS_MODE                       0.029994    0.053072     0.066401   \n",
       "BASEMENTAREA_MODE                     0.012821    0.031213     0.034443   \n",
       "YEARS_BEGINEXPLUATATION_MODE          0.005284    0.004804     0.012555   \n",
       "YEARS_BUILD_MODE                      0.037299    0.033478     0.030932   \n",
       "\n",
       "                              AMT_GOODS_PRICE  REGION_POPULATION_RELATIVE  \\\n",
       "SK_ID_CURR                          -0.000232                    0.000849   \n",
       "TARGET                              -0.039645                   -0.037227   \n",
       "CNT_CHILDREN                        -0.001827                   -0.025573   \n",
       "AMT_INCOME_TOTAL                     0.159610                    0.074796   \n",
       "AMT_CREDIT                           0.986968                    0.099738   \n",
       "AMT_ANNUITY                          0.775109                    0.118429   \n",
       "AMT_GOODS_PRICE                      1.000000                    0.103520   \n",
       "REGION_POPULATION_RELATIVE           0.103520                    1.000000   \n",
       "DAYS_BIRTH                          -0.053442                   -0.029582   \n",
       "DAYS_EMPLOYED                       -0.064842                   -0.003980   \n",
       "DAYS_REGISTRATION                    0.011565                   -0.053820   \n",
       "DAYS_ID_PUBLISH                     -0.009267                   -0.003993   \n",
       "OWN_CAR_AGE                         -0.103733                   -0.081429   \n",
       "FLAG_MOBIL                           0.001399                    0.001333   \n",
       "FLAG_EMP_PHONE                       0.063487                    0.004045   \n",
       "FLAG_WORK_PHONE                      0.001086                   -0.015628   \n",
       "FLAG_CONT_MOBILE                     0.020706                   -0.012478   \n",
       "FLAG_PHONE                           0.042179                    0.090939   \n",
       "FLAG_EMAIL                           0.017048                    0.040012   \n",
       "CNT_FAM_MEMBERS                      0.061185                   -0.024209   \n",
       "REGION_RATING_CLIENT                -0.103786                   -0.532877   \n",
       "REGION_RATING_CLIENT_W_CITY         -0.112208                   -0.531535   \n",
       "HOUR_APPR_PROCESS_START              0.062320                    0.171285   \n",
       "REG_REGION_NOT_LIVE_REGION           0.026111                    0.002118   \n",
       "REG_REGION_NOT_WORK_REGION           0.053171                    0.056944   \n",
       "LIVE_REGION_NOT_WORK_REGION          0.052864                    0.081016   \n",
       "REG_CITY_NOT_LIVE_CITY              -0.027212                   -0.050499   \n",
       "REG_CITY_NOT_WORK_CITY              -0.020333                   -0.044057   \n",
       "LIVE_CITY_NOT_WORK_CITY             -0.001309                   -0.015188   \n",
       "EXT_SOURCE_1                         0.175502                    0.099997   \n",
       "EXT_SOURCE_2                         0.139367                    0.198924   \n",
       "EXT_SOURCE_3                         0.047717                   -0.006001   \n",
       "APARTMENTS_AVG                       0.064918                    0.205942   \n",
       "BASEMENTAREA_AVG                     0.043982                    0.098423   \n",
       "YEARS_BEGINEXPLUATATION_AVG          0.007245                   -0.006683   \n",
       "YEARS_BUILD_AVG                      0.041937                   -0.056566   \n",
       "COMMONAREA_AVG                       0.050507                    0.164806   \n",
       "ELEVATORS_AVG                        0.083736                    0.280685   \n",
       "ENTRANCES_AVG                        0.018764                    0.036840   \n",
       "FLOORSMAX_AVG                        0.108512                    0.322652   \n",
       "FLOORSMIN_AVG                        0.081411                    0.294349   \n",
       "LANDAREA_AVG                         0.013297                   -0.051160   \n",
       "LIVINGAPARTMENTS_AVG                 0.061850                    0.194452   \n",
       "LIVINGAREA_AVG                       0.077307                    0.213491   \n",
       "NONLIVINGAPARTMENTS_AVG              0.015424                    0.024293   \n",
       "NONLIVINGAREA_AVG                    0.041912                    0.074816   \n",
       "APARTMENTS_MODE                      0.057523                    0.175029   \n",
       "BASEMENTAREA_MODE                    0.035811                    0.065779   \n",
       "YEARS_BEGINEXPLUATATION_MODE         0.005799                   -0.006837   \n",
       "YEARS_BUILD_MODE                     0.039410                   -0.063779   \n",
       "\n",
       "                              DAYS_BIRTH  DAYS_EMPLOYED  \\\n",
       "SK_ID_CURR                     -0.001500       0.001366   \n",
       "TARGET                          0.078239      -0.044932   \n",
       "CNT_CHILDREN                    0.330938      -0.239818   \n",
       "AMT_INCOME_TOTAL                0.027261      -0.064223   \n",
       "AMT_CREDIT                     -0.055436      -0.066838   \n",
       "AMT_ANNUITY                     0.009445      -0.104332   \n",
       "AMT_GOODS_PRICE                -0.053442      -0.064842   \n",
       "REGION_POPULATION_RELATIVE     -0.029582      -0.003980   \n",
       "DAYS_BIRTH                      1.000000      -0.615864   \n",
       "DAYS_EMPLOYED                  -0.615864       1.000000   \n",
       "DAYS_REGISTRATION               0.331912      -0.210242   \n",
       "DAYS_ID_PUBLISH                 0.272691      -0.272378   \n",
       "OWN_CAR_AGE                     0.005761       0.028830   \n",
       "FLAG_MOBIL                     -0.003084       0.000818   \n",
       "FLAG_EMP_PHONE                  0.619888      -0.999755   \n",
       "FLAG_WORK_PHONE                 0.172457      -0.233972   \n",
       "FLAG_CONT_MOBILE               -0.014985       0.012745   \n",
       "FLAG_PHONE                     -0.042402       0.015291   \n",
       "FLAG_EMAIL                      0.088208      -0.062112   \n",
       "CNT_FAM_MEMBERS                 0.278894      -0.233549   \n",
       "REGION_RATING_CLIENT            0.009361       0.032750   \n",
       "REGION_RATING_CLIENT_W_CITY     0.008073       0.034624   \n",
       "HOUR_APPR_PROCESS_START         0.091064      -0.091138   \n",
       "REG_REGION_NOT_LIVE_REGION      0.065486      -0.035803   \n",
       "REG_REGION_NOT_WORK_REGION      0.095819      -0.107150   \n",
       "LIVE_REGION_NOT_WORK_REGION     0.069567      -0.095539   \n",
       "REG_CITY_NOT_LIVE_CITY          0.180382      -0.090516   \n",
       "REG_CITY_NOT_WORK_CITY          0.242401      -0.254559   \n",
       "LIVE_CITY_NOT_WORK_CITY         0.158882      -0.218101   \n",
       "EXT_SOURCE_1                   -0.600610       0.289848   \n",
       "EXT_SOURCE_2                   -0.091996      -0.020767   \n",
       "EXT_SOURCE_3                   -0.205478       0.113434   \n",
       "APARTMENTS_AVG                  0.004779      -0.016359   \n",
       "BASEMENTAREA_AVG               -0.004400      -0.001382   \n",
       "YEARS_BEGINEXPLUATATION_AVG     0.000744       0.008629   \n",
       "YEARS_BUILD_AVG                 0.026623      -0.005830   \n",
       "COMMONAREA_AVG                  0.008364      -0.012528   \n",
       "ELEVATORS_AVG                  -0.001448      -0.009792   \n",
       "ENTRANCES_AVG                  -0.010281       0.004018   \n",
       "FLOORSMAX_AVG                   0.001634      -0.015970   \n",
       "FLOORSMIN_AVG                   0.001538      -0.015894   \n",
       "LANDAREA_AVG                    0.003013      -0.009609   \n",
       "LIVINGAPARTMENTS_AVG            0.011184      -0.020192   \n",
       "LIVINGAREA_AVG                 -0.000334      -0.012438   \n",
       "NONLIVINGAPARTMENTS_AVG         0.002229      -0.004680   \n",
       "NONLIVINGAREA_AVG               0.005712      -0.012858   \n",
       "APARTMENTS_MODE                 0.004959      -0.014632   \n",
       "BASEMENTAREA_MODE              -0.004319      -0.000243   \n",
       "YEARS_BEGINEXPLUATATION_MODE    0.000714       0.008637   \n",
       "YEARS_BUILD_MODE                0.025844      -0.005053   \n",
       "\n",
       "                                         ...              FLAG_DOCUMENT_18  \\\n",
       "SK_ID_CURR                               ...                      0.000509   \n",
       "TARGET                                   ...                     -0.007952   \n",
       "CNT_CHILDREN                             ...                      0.004031   \n",
       "AMT_INCOME_TOTAL                         ...                      0.003130   \n",
       "AMT_CREDIT                               ...                      0.034329   \n",
       "AMT_ANNUITY                              ...                     -0.009745   \n",
       "AMT_GOODS_PRICE                          ...                      0.032748   \n",
       "REGION_POPULATION_RELATIVE               ...                      0.013367   \n",
       "DAYS_BIRTH                               ...                      0.044498   \n",
       "DAYS_EMPLOYED                            ...                     -0.040396   \n",
       "DAYS_REGISTRATION                        ...                      0.017040   \n",
       "DAYS_ID_PUBLISH                          ...                      0.014084   \n",
       "OWN_CAR_AGE                              ...                     -0.011043   \n",
       "FLAG_MOBIL                               ...                     -0.019919   \n",
       "FLAG_EMP_PHONE                           ...                      0.040548   \n",
       "FLAG_WORK_PHONE                          ...                      0.032049   \n",
       "FLAG_CONT_MOBILE                         ...                     -0.043068   \n",
       "FLAG_PHONE                               ...                      0.004055   \n",
       "FLAG_EMAIL                               ...                     -0.008110   \n",
       "CNT_FAM_MEMBERS                          ...                      0.001485   \n",
       "REGION_RATING_CLIENT                     ...                     -0.012532   \n",
       "REGION_RATING_CLIENT_W_CITY              ...                     -0.013672   \n",
       "HOUR_APPR_PROCESS_START                  ...                      0.021584   \n",
       "REG_REGION_NOT_LIVE_REGION               ...                      0.008344   \n",
       "REG_REGION_NOT_WORK_REGION               ...                      0.007436   \n",
       "LIVE_REGION_NOT_WORK_REGION              ...                      0.004282   \n",
       "REG_CITY_NOT_LIVE_CITY                   ...                      0.013432   \n",
       "REG_CITY_NOT_WORK_CITY                   ...                      0.013919   \n",
       "LIVE_CITY_NOT_WORK_CITY                  ...                      0.006332   \n",
       "EXT_SOURCE_1                             ...                     -0.025739   \n",
       "EXT_SOURCE_2                             ...                      0.001874   \n",
       "EXT_SOURCE_3                             ...                     -0.016152   \n",
       "APARTMENTS_AVG                           ...                      0.004799   \n",
       "BASEMENTAREA_AVG                         ...                      0.004651   \n",
       "YEARS_BEGINEXPLUATATION_AVG              ...                      0.003945   \n",
       "YEARS_BUILD_AVG                          ...                      0.006981   \n",
       "COMMONAREA_AVG                           ...                      0.015269   \n",
       "ELEVATORS_AVG                            ...                      0.007212   \n",
       "ENTRANCES_AVG                            ...                     -0.000502   \n",
       "FLOORSMAX_AVG                            ...                      0.012230   \n",
       "FLOORSMIN_AVG                            ...                      0.011188   \n",
       "LANDAREA_AVG                             ...                     -0.001443   \n",
       "LIVINGAPARTMENTS_AVG                     ...                      0.007126   \n",
       "LIVINGAREA_AVG                           ...                      0.006662   \n",
       "NONLIVINGAPARTMENTS_AVG                  ...                      0.000523   \n",
       "NONLIVINGAREA_AVG                        ...                      0.003771   \n",
       "APARTMENTS_MODE                          ...                      0.005093   \n",
       "BASEMENTAREA_MODE                        ...                      0.004596   \n",
       "YEARS_BEGINEXPLUATATION_MODE             ...                      0.003297   \n",
       "YEARS_BUILD_MODE                         ...                      0.007190   \n",
       "\n",
       "                              FLAG_DOCUMENT_19  FLAG_DOCUMENT_20  \\\n",
       "SK_ID_CURR                            0.000167          0.001073   \n",
       "TARGET                               -0.001358          0.000215   \n",
       "CNT_CHILDREN                          0.000864          0.000988   \n",
       "AMT_INCOME_TOTAL                      0.002408          0.000242   \n",
       "AMT_CREDIT                            0.021082          0.031023   \n",
       "AMT_ANNUITY                           0.004573          0.011718   \n",
       "AMT_GOODS_PRICE                       0.020279          0.031640   \n",
       "REGION_POPULATION_RELATIVE            0.002364         -0.000045   \n",
       "DAYS_BIRTH                            0.003614          0.009015   \n",
       "DAYS_EMPLOYED                        -0.010040         -0.010135   \n",
       "DAYS_REGISTRATION                     0.004764          0.006971   \n",
       "DAYS_ID_PUBLISH                       0.000903          0.000070   \n",
       "OWN_CAR_AGE                          -0.004992         -0.007458   \n",
       "FLAG_MOBIL                            0.000044          0.000041   \n",
       "FLAG_EMP_PHONE                        0.010049          0.010183   \n",
       "FLAG_WORK_PHONE                       0.011854          0.001771   \n",
       "FLAG_CONT_MOBILE                     -0.005123          0.000974   \n",
       "FLAG_PHONE                            0.009660          0.000692   \n",
       "FLAG_EMAIL                           -0.002525         -0.001778   \n",
       "CNT_FAM_MEMBERS                       0.002205          0.000188   \n",
       "REGION_RATING_CLIENT                 -0.001205          0.002217   \n",
       "REGION_RATING_CLIENT_W_CITY          -0.001530          0.002609   \n",
       "HOUR_APPR_PROCESS_START               0.002507          0.003277   \n",
       "REG_REGION_NOT_LIVE_REGION           -0.001934         -0.002794   \n",
       "REG_REGION_NOT_WORK_REGION            0.001038         -0.001263   \n",
       "LIVE_REGION_NOT_WORK_REGION           0.003078         -0.000251   \n",
       "REG_CITY_NOT_LIVE_CITY               -0.005119         -0.001181   \n",
       "REG_CITY_NOT_WORK_CITY               -0.003854          0.000703   \n",
       "LIVE_CITY_NOT_WORK_CITY              -0.002035          0.001877   \n",
       "EXT_SOURCE_1                          0.005131         -0.005102   \n",
       "EXT_SOURCE_2                          0.003256          0.000614   \n",
       "EXT_SOURCE_3                         -0.002590         -0.013837   \n",
       "APARTMENTS_AVG                       -0.000071         -0.002904   \n",
       "BASEMENTAREA_AVG                     -0.002357         -0.000050   \n",
       "YEARS_BEGINEXPLUATATION_AVG           0.000936          0.000939   \n",
       "YEARS_BUILD_AVG                       0.001916         -0.005382   \n",
       "COMMONAREA_AVG                        0.006676         -0.001106   \n",
       "ELEVATORS_AVG                         0.001160         -0.004101   \n",
       "ENTRANCES_AVG                        -0.000885         -0.003519   \n",
       "FLOORSMAX_AVG                         0.000900         -0.002702   \n",
       "FLOORSMIN_AVG                         0.004354         -0.001684   \n",
       "LANDAREA_AVG                         -0.000341          0.000947   \n",
       "LIVINGAPARTMENTS_AVG                  0.001360         -0.003760   \n",
       "LIVINGAREA_AVG                        0.000582         -0.002948   \n",
       "NONLIVINGAPARTMENTS_AVG              -0.002216         -0.001577   \n",
       "NONLIVINGAREA_AVG                     0.001147         -0.001482   \n",
       "APARTMENTS_MODE                       0.000312         -0.002888   \n",
       "BASEMENTAREA_MODE                    -0.002427         -0.000056   \n",
       "YEARS_BEGINEXPLUATATION_MODE          0.001863          0.000968   \n",
       "YEARS_BUILD_MODE                      0.000902         -0.005694   \n",
       "\n",
       "                              FLAG_DOCUMENT_21  AMT_REQ_CREDIT_BUREAU_HOUR  \\\n",
       "SK_ID_CURR                            0.000282                   -0.002672   \n",
       "TARGET                                0.003709                    0.000930   \n",
       "CNT_CHILDREN                         -0.002450                   -0.000410   \n",
       "AMT_INCOME_TOTAL                     -0.000589                    0.000709   \n",
       "AMT_CREDIT                           -0.016148                   -0.003906   \n",
       "AMT_ANNUITY                          -0.017598                    0.003861   \n",
       "AMT_GOODS_PRICE                      -0.014486                   -0.003237   \n",
       "REGION_POPULATION_RELATIVE            0.003437                   -0.002225   \n",
       "DAYS_BIRTH                            0.027282                    0.005285   \n",
       "DAYS_EMPLOYED                        -0.008396                   -0.004735   \n",
       "DAYS_REGISTRATION                     0.003859                   -0.002855   \n",
       "DAYS_ID_PUBLISH                       0.017246                    0.004761   \n",
       "OWN_CAR_AGE                           0.001236                   -0.000202   \n",
       "FLAG_MOBIL                            0.000033                         NaN   \n",
       "FLAG_EMP_PHONE                        0.008579                    0.004619   \n",
       "FLAG_WORK_PHONE                       0.001541                   -0.005358   \n",
       "FLAG_CONT_MOBILE                     -0.015677                   -0.004600   \n",
       "FLAG_PHONE                            0.000020                   -0.003251   \n",
       "FLAG_EMAIL                           -0.000647                    0.003390   \n",
       "CNT_FAM_MEMBERS                      -0.005801                    0.000660   \n",
       "REGION_RATING_CLIENT                 -0.001887                    0.006312   \n",
       "REGION_RATING_CLIENT_W_CITY          -0.001501                    0.006239   \n",
       "HOUR_APPR_PROCESS_START               0.003998                   -0.016005   \n",
       "REG_REGION_NOT_LIVE_REGION            0.005006                   -0.002044   \n",
       "REG_REGION_NOT_WORK_REGION           -0.000995                   -0.001749   \n",
       "LIVE_REGION_NOT_WORK_REGION          -0.001969                   -0.000996   \n",
       "REG_CITY_NOT_LIVE_CITY                0.002614                    0.000549   \n",
       "REG_CITY_NOT_WORK_CITY                0.003487                    0.000481   \n",
       "LIVE_CITY_NOT_WORK_CITY               0.004401                   -0.000924   \n",
       "EXT_SOURCE_1                         -0.019208                   -0.003963   \n",
       "EXT_SOURCE_2                         -0.007236                   -0.004077   \n",
       "EXT_SOURCE_3                         -0.013058                   -0.001193   \n",
       "APARTMENTS_AVG                       -0.003998                    0.001933   \n",
       "BASEMENTAREA_AVG                     -0.003815                   -0.000676   \n",
       "YEARS_BEGINEXPLUATATION_AVG          -0.000052                    0.000628   \n",
       "YEARS_BUILD_AVG                      -0.008957                    0.001762   \n",
       "COMMONAREA_AVG                       -0.005055                    0.006829   \n",
       "ELEVATORS_AVG                        -0.004347                    0.001187   \n",
       "ENTRANCES_AVG                        -0.000461                   -0.003643   \n",
       "FLOORSMAX_AVG                        -0.005814                    0.003101   \n",
       "FLOORSMIN_AVG                        -0.004220                    0.003623   \n",
       "LANDAREA_AVG                         -0.004053                   -0.001597   \n",
       "LIVINGAPARTMENTS_AVG                 -0.005357                    0.002935   \n",
       "LIVINGAREA_AVG                       -0.003910                    0.004188   \n",
       "NONLIVINGAPARTMENTS_AVG              -0.000514                   -0.000173   \n",
       "NONLIVINGAREA_AVG                    -0.000183                    0.003974   \n",
       "APARTMENTS_MODE                      -0.004040                    0.002080   \n",
       "BASEMENTAREA_MODE                    -0.003702                   -0.000004   \n",
       "YEARS_BEGINEXPLUATATION_MODE          0.000069                    0.000461   \n",
       "YEARS_BUILD_MODE                     -0.009375                    0.001304   \n",
       "\n",
       "                              AMT_REQ_CREDIT_BUREAU_DAY  \\\n",
       "SK_ID_CURR                                    -0.002193   \n",
       "TARGET                                         0.002704   \n",
       "CNT_CHILDREN                                  -0.000366   \n",
       "AMT_INCOME_TOTAL                               0.002944   \n",
       "AMT_CREDIT                                     0.004238   \n",
       "AMT_ANNUITY                                    0.002185   \n",
       "AMT_GOODS_PRICE                                0.004677   \n",
       "REGION_POPULATION_RELATIVE                     0.001399   \n",
       "DAYS_BIRTH                                     0.002255   \n",
       "DAYS_EMPLOYED                                  0.000472   \n",
       "DAYS_REGISTRATION                             -0.000508   \n",
       "DAYS_ID_PUBLISH                               -0.000999   \n",
       "OWN_CAR_AGE                                   -0.008650   \n",
       "FLAG_MOBIL                                          NaN   \n",
       "FLAG_EMP_PHONE                                -0.000438   \n",
       "FLAG_WORK_PHONE                               -0.004434   \n",
       "FLAG_CONT_MOBILE                              -0.002481   \n",
       "FLAG_PHONE                                    -0.000833   \n",
       "FLAG_EMAIL                                     0.003849   \n",
       "CNT_FAM_MEMBERS                               -0.001215   \n",
       "REGION_RATING_CLIENT                          -0.002241   \n",
       "REGION_RATING_CLIENT_W_CITY                   -0.001953   \n",
       "HOUR_APPR_PROCESS_START                        0.002274   \n",
       "REG_REGION_NOT_LIVE_REGION                    -0.001342   \n",
       "REG_REGION_NOT_WORK_REGION                    -0.001775   \n",
       "LIVE_REGION_NOT_WORK_REGION                   -0.000993   \n",
       "REG_CITY_NOT_LIVE_CITY                        -0.002152   \n",
       "REG_CITY_NOT_WORK_CITY                        -0.001982   \n",
       "LIVE_CITY_NOT_WORK_CITY                       -0.001960   \n",
       "EXT_SOURCE_1                                  -0.005087   \n",
       "EXT_SOURCE_2                                   0.000553   \n",
       "EXT_SOURCE_3                                  -0.007190   \n",
       "APARTMENTS_AVG                                 0.004938   \n",
       "BASEMENTAREA_AVG                               0.005157   \n",
       "YEARS_BEGINEXPLUATATION_AVG                   -0.001838   \n",
       "YEARS_BUILD_AVG                                0.002482   \n",
       "COMMONAREA_AVG                                 0.005493   \n",
       "ELEVATORS_AVG                                  0.004841   \n",
       "ENTRANCES_AVG                                  0.006608   \n",
       "FLOORSMAX_AVG                                  0.002946   \n",
       "FLOORSMIN_AVG                                  0.004115   \n",
       "LANDAREA_AVG                                   0.006243   \n",
       "LIVINGAPARTMENTS_AVG                           0.006782   \n",
       "LIVINGAREA_AVG                                 0.010214   \n",
       "NONLIVINGAPARTMENTS_AVG                       -0.000714   \n",
       "NONLIVINGAREA_AVG                              0.002923   \n",
       "APARTMENTS_MODE                                0.004368   \n",
       "BASEMENTAREA_MODE                              0.004809   \n",
       "YEARS_BEGINEXPLUATATION_MODE                  -0.002151   \n",
       "YEARS_BUILD_MODE                               0.001469   \n",
       "\n",
       "                              AMT_REQ_CREDIT_BUREAU_WEEK  \\\n",
       "SK_ID_CURR                                      0.002099   \n",
       "TARGET                                          0.000788   \n",
       "CNT_CHILDREN                                   -0.002436   \n",
       "AMT_INCOME_TOTAL                                0.002387   \n",
       "AMT_CREDIT                                     -0.001275   \n",
       "AMT_ANNUITY                                     0.013881   \n",
       "AMT_GOODS_PRICE                                -0.001007   \n",
       "REGION_POPULATION_RELATIVE                     -0.002149   \n",
       "DAYS_BIRTH                                     -0.001336   \n",
       "DAYS_EMPLOYED                                   0.003072   \n",
       "DAYS_REGISTRATION                              -0.001069   \n",
       "DAYS_ID_PUBLISH                                -0.001249   \n",
       "OWN_CAR_AGE                                     0.001661   \n",
       "FLAG_MOBIL                                           NaN   \n",
       "FLAG_EMP_PHONE                                 -0.003028   \n",
       "FLAG_WORK_PHONE                                -0.004404   \n",
       "FLAG_CONT_MOBILE                               -0.008496   \n",
       "FLAG_PHONE                                     -0.000201   \n",
       "FLAG_EMAIL                                      0.021581   \n",
       "CNT_FAM_MEMBERS                                -0.001174   \n",
       "REGION_RATING_CLIENT                            0.001683   \n",
       "REGION_RATING_CLIENT_W_CITY                     0.001102   \n",
       "HOUR_APPR_PROCESS_START                        -0.002985   \n",
       "REG_REGION_NOT_LIVE_REGION                      0.001227   \n",
       "REG_REGION_NOT_WORK_REGION                     -0.000705   \n",
       "LIVE_REGION_NOT_WORK_REGION                    -0.001486   \n",
       "REG_CITY_NOT_LIVE_CITY                         -0.001517   \n",
       "REG_CITY_NOT_WORK_CITY                         -0.002753   \n",
       "LIVE_CITY_NOT_WORK_CITY                        -0.003325   \n",
       "EXT_SOURCE_1                                   -0.001801   \n",
       "EXT_SOURCE_2                                    0.001507   \n",
       "EXT_SOURCE_3                                   -0.021258   \n",
       "APARTMENTS_AVG                                  0.000099   \n",
       "BASEMENTAREA_AVG                               -0.000650   \n",
       "YEARS_BEGINEXPLUATATION_AVG                     0.003530   \n",
       "YEARS_BUILD_AVG                                -0.004234   \n",
       "COMMONAREA_AVG                                 -0.008238   \n",
       "ELEVATORS_AVG                                  -0.000343   \n",
       "ENTRANCES_AVG                                   0.001921   \n",
       "FLOORSMAX_AVG                                  -0.000050   \n",
       "FLOORSMIN_AVG                                  -0.000593   \n",
       "LANDAREA_AVG                                    0.009960   \n",
       "LIVINGAPARTMENTS_AVG                           -0.003702   \n",
       "LIVINGAREA_AVG                                 -0.001297   \n",
       "NONLIVINGAPARTMENTS_AVG                        -0.002525   \n",
       "NONLIVINGAREA_AVG                              -0.006022   \n",
       "APARTMENTS_MODE                                 0.000432   \n",
       "BASEMENTAREA_MODE                              -0.000794   \n",
       "YEARS_BEGINEXPLUATATION_MODE                    0.002856   \n",
       "YEARS_BUILD_MODE                               -0.004390   \n",
       "\n",
       "                              AMT_REQ_CREDIT_BUREAU_MON  \\\n",
       "SK_ID_CURR                                     0.000485   \n",
       "TARGET                                        -0.012462   \n",
       "CNT_CHILDREN                                  -0.010808   \n",
       "AMT_INCOME_TOTAL                               0.024700   \n",
       "AMT_CREDIT                                     0.054451   \n",
       "AMT_ANNUITY                                    0.039148   \n",
       "AMT_GOODS_PRICE                                0.056422   \n",
       "REGION_POPULATION_RELATIVE                     0.078607   \n",
       "DAYS_BIRTH                                     0.001372   \n",
       "DAYS_EMPLOYED                                 -0.034457   \n",
       "DAYS_REGISTRATION                             -0.011353   \n",
       "DAYS_ID_PUBLISH                               -0.009660   \n",
       "OWN_CAR_AGE                                   -0.021867   \n",
       "FLAG_MOBIL                                          NaN   \n",
       "FLAG_EMP_PHONE                                 0.034092   \n",
       "FLAG_WORK_PHONE                               -0.001829   \n",
       "FLAG_CONT_MOBILE                               0.005922   \n",
       "FLAG_PHONE                                     0.031992   \n",
       "FLAG_EMAIL                                     0.025669   \n",
       "CNT_FAM_MEMBERS                               -0.008021   \n",
       "REGION_RATING_CLIENT                          -0.069712   \n",
       "REGION_RATING_CLIENT_W_CITY                   -0.067741   \n",
       "HOUR_APPR_PROCESS_START                        0.037673   \n",
       "REG_REGION_NOT_LIVE_REGION                     0.000316   \n",
       "REG_REGION_NOT_WORK_REGION                     0.008360   \n",
       "LIVE_REGION_NOT_WORK_REGION                    0.010246   \n",
       "REG_CITY_NOT_LIVE_CITY                        -0.010881   \n",
       "REG_CITY_NOT_WORK_CITY                        -0.012182   \n",
       "LIVE_CITY_NOT_WORK_CITY                       -0.007592   \n",
       "EXT_SOURCE_1                                   0.030820   \n",
       "EXT_SOURCE_2                                   0.051981   \n",
       "EXT_SOURCE_3                                  -0.007856   \n",
       "APARTMENTS_AVG                                 0.035420   \n",
       "BASEMENTAREA_AVG                               0.021661   \n",
       "YEARS_BEGINEXPLUATATION_AVG                   -0.000557   \n",
       "YEARS_BUILD_AVG                               -0.002554   \n",
       "COMMONAREA_AVG                                 0.024331   \n",
       "ELEVATORS_AVG                                  0.043076   \n",
       "ENTRANCES_AVG                                  0.012894   \n",
       "FLOORSMAX_AVG                                  0.046762   \n",
       "FLOORSMIN_AVG                                  0.039120   \n",
       "LANDAREA_AVG                                   0.015587   \n",
       "LIVINGAPARTMENTS_AVG                           0.034461   \n",
       "LIVINGAREA_AVG                                 0.035706   \n",
       "NONLIVINGAPARTMENTS_AVG                        0.001306   \n",
       "NONLIVINGAREA_AVG                              0.013877   \n",
       "APARTMENTS_MODE                                0.032814   \n",
       "BASEMENTAREA_MODE                              0.020001   \n",
       "YEARS_BEGINEXPLUATATION_MODE                  -0.000402   \n",
       "YEARS_BUILD_MODE                              -0.002829   \n",
       "\n",
       "                              AMT_REQ_CREDIT_BUREAU_QRT  \\\n",
       "SK_ID_CURR                                     0.001025   \n",
       "TARGET                                        -0.002022   \n",
       "CNT_CHILDREN                                  -0.007836   \n",
       "AMT_INCOME_TOTAL                               0.004859   \n",
       "AMT_CREDIT                                     0.015925   \n",
       "AMT_ANNUITY                                    0.010124   \n",
       "AMT_GOODS_PRICE                                0.016432   \n",
       "REGION_POPULATION_RELATIVE                    -0.001279   \n",
       "DAYS_BIRTH                                    -0.011799   \n",
       "DAYS_EMPLOYED                                  0.015345   \n",
       "DAYS_REGISTRATION                             -0.001308   \n",
       "DAYS_ID_PUBLISH                               -0.006200   \n",
       "OWN_CAR_AGE                                   -0.017632   \n",
       "FLAG_MOBIL                                          NaN   \n",
       "FLAG_EMP_PHONE                                -0.015271   \n",
       "FLAG_WORK_PHONE                               -0.022964   \n",
       "FLAG_CONT_MOBILE                               0.006934   \n",
       "FLAG_PHONE                                    -0.009969   \n",
       "FLAG_EMAIL                                     0.013426   \n",
       "CNT_FAM_MEMBERS                               -0.004739   \n",
       "REGION_RATING_CLIENT                           0.005436   \n",
       "REGION_RATING_CLIENT_W_CITY                    0.004773   \n",
       "HOUR_APPR_PROCESS_START                       -0.000680   \n",
       "REG_REGION_NOT_LIVE_REGION                    -0.001813   \n",
       "REG_REGION_NOT_WORK_REGION                    -0.004959   \n",
       "LIVE_REGION_NOT_WORK_REGION                   -0.005655   \n",
       "REG_CITY_NOT_LIVE_CITY                         0.000933   \n",
       "REG_CITY_NOT_WORK_CITY                        -0.005227   \n",
       "LIVE_CITY_NOT_WORK_CITY                       -0.006792   \n",
       "EXT_SOURCE_1                                  -0.003631   \n",
       "EXT_SOURCE_2                                  -0.002849   \n",
       "EXT_SOURCE_3                                  -0.025131   \n",
       "APARTMENTS_AVG                                -0.002787   \n",
       "BASEMENTAREA_AVG                              -0.000945   \n",
       "YEARS_BEGINEXPLUATATION_AVG                    0.001891   \n",
       "YEARS_BUILD_AVG                               -0.007246   \n",
       "COMMONAREA_AVG                                -0.009804   \n",
       "ELEVATORS_AVG                                 -0.004788   \n",
       "ENTRANCES_AVG                                 -0.000139   \n",
       "FLOORSMAX_AVG                                 -0.000841   \n",
       "FLOORSMIN_AVG                                 -0.004213   \n",
       "LANDAREA_AVG                                   0.005662   \n",
       "LIVINGAPARTMENTS_AVG                          -0.007919   \n",
       "LIVINGAREA_AVG                                -0.002432   \n",
       "NONLIVINGAPARTMENTS_AVG                        0.001956   \n",
       "NONLIVINGAREA_AVG                             -0.003135   \n",
       "APARTMENTS_MODE                               -0.002393   \n",
       "BASEMENTAREA_MODE                             -0.000861   \n",
       "YEARS_BEGINEXPLUATATION_MODE                   0.002113   \n",
       "YEARS_BUILD_MODE                              -0.006996   \n",
       "\n",
       "                              AMT_REQ_CREDIT_BUREAU_YEAR  \n",
       "SK_ID_CURR                                      0.004659  \n",
       "TARGET                                          0.019930  \n",
       "CNT_CHILDREN                                   -0.041550  \n",
       "AMT_INCOME_TOTAL                                0.011690  \n",
       "AMT_CREDIT                                     -0.048448  \n",
       "AMT_ANNUITY                                    -0.011320  \n",
       "AMT_GOODS_PRICE                                -0.050998  \n",
       "REGION_POPULATION_RELATIVE                      0.001003  \n",
       "DAYS_BIRTH                                     -0.071983  \n",
       "DAYS_EMPLOYED                                   0.049988  \n",
       "DAYS_REGISTRATION                              -0.024805  \n",
       "DAYS_ID_PUBLISH                                -0.035099  \n",
       "OWN_CAR_AGE                                    -0.014384  \n",
       "FLAG_MOBIL                                           NaN  \n",
       "FLAG_EMP_PHONE                                 -0.049949  \n",
       "FLAG_WORK_PHONE                                -0.075875  \n",
       "FLAG_CONT_MOBILE                                0.026700  \n",
       "FLAG_PHONE                                     -0.031587  \n",
       "FLAG_EMAIL                                      0.053354  \n",
       "CNT_FAM_MEMBERS                                -0.028571  \n",
       "REGION_RATING_CLIENT                            0.011494  \n",
       "REGION_RATING_CLIENT_W_CITY                     0.010683  \n",
       "HOUR_APPR_PROCESS_START                        -0.030943  \n",
       "REG_REGION_NOT_LIVE_REGION                     -0.017095  \n",
       "REG_REGION_NOT_WORK_REGION                     -0.021587  \n",
       "LIVE_REGION_NOT_WORK_REGION                    -0.017429  \n",
       "REG_CITY_NOT_LIVE_CITY                         -0.004793  \n",
       "REG_CITY_NOT_WORK_CITY                         -0.008013  \n",
       "LIVE_CITY_NOT_WORK_CITY                        -0.008415  \n",
       "EXT_SOURCE_1                                    0.006562  \n",
       "EXT_SOURCE_2                                   -0.021984  \n",
       "EXT_SOURCE_3                                   -0.071449  \n",
       "APARTMENTS_AVG                                 -0.016496  \n",
       "BASEMENTAREA_AVG                               -0.012364  \n",
       "YEARS_BEGINEXPLUATATION_AVG                    -0.008315  \n",
       "YEARS_BUILD_AVG                                -0.025874  \n",
       "COMMONAREA_AVG                                 -0.014049  \n",
       "ELEVATORS_AVG                                  -0.018544  \n",
       "ENTRANCES_AVG                                  -0.010362  \n",
       "FLOORSMAX_AVG                                  -0.019750  \n",
       "FLOORSMIN_AVG                                  -0.010189  \n",
       "LANDAREA_AVG                                   -0.011767  \n",
       "LIVINGAPARTMENTS_AVG                           -0.013920  \n",
       "LIVINGAREA_AVG                                 -0.019041  \n",
       "NONLIVINGAPARTMENTS_AVG                        -0.001210  \n",
       "NONLIVINGAREA_AVG                              -0.009096  \n",
       "APARTMENTS_MODE                                -0.014626  \n",
       "BASEMENTAREA_MODE                              -0.011243  \n",
       "YEARS_BEGINEXPLUATATION_MODE                   -0.008162  \n",
       "YEARS_BUILD_MODE                               -0.025018  \n",
       "\n",
       "[50 rows x 106 columns]"
      ]
     },
     "execution_count": 11,
     "metadata": {},
     "output_type": "execute_result"
    }
   ],
   "source": [
    "corr_train.head(50)"
   ]
  },
  {
   "cell_type": "code",
   "execution_count": 12,
   "metadata": {},
   "outputs": [
    {
     "name": "stderr",
     "output_type": "stream",
     "text": [
      "C:\\ProgramData\\Anaconda3\\lib\\site-packages\\matplotlib\\axes\\_axes.py:6462: UserWarning: The 'normed' kwarg is deprecated, and has been replaced by the 'density' kwarg.\n",
      "  warnings.warn(\"The 'normed' kwarg is deprecated, and has been \"\n"
     ]
    },
    {
     "data": {
      "text/plain": [
       "<matplotlib.axes._subplots.AxesSubplot at 0x27b8009c438>"
      ]
     },
     "execution_count": 12,
     "metadata": {},
     "output_type": "execute_result"
    },
    {
     "data": {
      "image/png": "[encoded data removed]",
      "text/plain": [
       "<Figure size 432x288 with 1 Axes>"
      ]
     },
     "metadata": {},
     "output_type": "display_data"
    }
   ],
   "source": [
    "sas.distplot(read_train1[\"TARGET\"])"
   ]
  },
  {
   "cell_type": "code",
   "execution_count": null,
   "metadata": {},
   "outputs": [],
   "source": [
    "missing_val_col_name  = (read_train1.isnull().sum()*100/len(read_train1)).sort_values(ascending=False) > 0.0\n",
    "read_train1[missing_val_col_name.index].head()"
   ]
  },
  {
   "cell_type": "code",
   "execution_count": null,
   "metadata": {},
   "outputs": [],
   "source": [
    "for i in range(len(missing_val_col_name)):\n",
    "    \n",
    "    if  missing_val_col_name[i]:\n",
    "        #temp = read_train[missing_val_col_name.index[i]].mode()[0]\n",
    "        if read_train1[missing_val_col_name.index[i]].dtypes == \"object\":\n",
    "            #print(read_train[missing_val_col_name.index[i]].groupby(read_train[missing_val_col_name.index[i]]).size())\n",
    "            read_train1[missing_val_col_name.index[i]] = read_train1[missing_val_col_name.index[i]].fillna(read_train1[missing_val_col_name.index[i]].mode()[0])\n",
    "            \n",
    "            #read_train[missing_val_col_name.index[i]] = read_train[missing_val_col_name.index[i]].fillna(temp)\n",
    "        if read_train1[missing_val_col_name.index[i]].dtypes == \"float64\":\n",
    "            #read_train[missing_val_col_name.index[i]] = read_train[missing_val_col_name.index[i]].fillna(0)\n",
    "            read_train1[missing_val_col_name.index[i]] = read_train1[missing_val_col_name.index[i]].fillna(read_train1[missing_val_col_name.index[i]].mean())\n",
    "            "
   ]
  },
  {
   "cell_type": "code",
   "execution_count": null,
   "metadata": {},
   "outputs": [],
   "source": [
    "read_train1.loc[read_train1[\"CODE_GENDER\"] == \"XNA\",'CODE_GENDER'] = \"F\"\n",
    "read_train1.loc[read_train1[\"NAME_INCOME_TYPE\"] == \"Maternity leave\",'NAME_INCOME_TYPE'] = \"Working\"\n",
    "read_train1.loc[read_train1[\"NAME_FAMILY_STATUS\"] == \"Unknown\",'NAME_FAMILY_STATUS'] = \"Married\""
   ]
  },
  {
   "cell_type": "code",
   "execution_count": null,
   "metadata": {},
   "outputs": [],
   "source": [
    "read_train1 = pd.get_dummies(data= read_train1)"
   ]
  },
  {
   "cell_type": "code",
   "execution_count": null,
   "metadata": {},
   "outputs": [],
   "source": [
    "missing_val_col_name_test  = (read_test1.isnull().sum()*100/len(read_test1)).sort_values(ascending=False) > 0.0"
   ]
  },
  {
   "cell_type": "code",
   "execution_count": null,
   "metadata": {},
   "outputs": [],
   "source": [
    "for i in range(len(missing_val_col_name_test)):\n",
    "    if  missing_val_col_name_test[i]:\n",
    "        if read_test1[missing_val_col_name_test.index[i]].dtypes == \"object\":\n",
    "            \n",
    "            #print(read_train[missing_val_col_name.index[i]].dtypes, \"value of i : \",i)\n",
    "            #read_test1[missing_val_col_name_test.index[i]] = read_test1[missing_val_col_name_test.index[i]].fillna('None')\n",
    "            read_test1[missing_val_col_name_test.index[i]] = read_test1[missing_val_col_name_test.index[i]].fillna(read_test1[missing_val_col_name_test.index[i]].mode()[0])\n",
    "        if read_test1[missing_val_col_name_test.index[i]].dtypes == \"float64\":\n",
    "            \n",
    "            #print(read_train[missing_val_col_name.index[i]].dtypes, \"value of i : \",i)\n",
    "            #read_test1[missing_val_col_name_test.index[i]] = read_test1[missing_val_col_name_test.index[i]].fillna(0)\n",
    "            read_test1[missing_val_col_name_test.index[i]] = read_test1[missing_val_col_name_test.index[i]].fillna(read_test1[missing_val_col_name_test.index[i]].mean())"
   ]
  },
  {
   "cell_type": "code",
   "execution_count": null,
   "metadata": {},
   "outputs": [],
   "source": [
    "read_test1 = pd.get_dummies(read_test1)"
   ]
  },
  {
   "cell_type": "markdown",
   "metadata": {},
   "source": [
    "## POS_CASH_Balance data"
   ]
  },
  {
   "cell_type": "code",
   "execution_count": null,
   "metadata": {},
   "outputs": [],
   "source": [
    "POS_CASH_balance.head()"
   ]
  },
  {
   "cell_type": "code",
   "execution_count": null,
   "metadata": {},
   "outputs": [],
   "source": [
    "POS_CASH_balance.corr()"
   ]
  },
  {
   "cell_type": "code",
   "execution_count": null,
   "metadata": {},
   "outputs": [],
   "source": [
    "POS_CASH_balance.loc[POS_CASH_balance[\"NAME_CONTRACT_STATUS\"] ==  \"Amortized debt\",\"NAME_CONTRACT_STATUS\" ] = \"Active\"\n",
    "POS_CASH_balance.loc[POS_CASH_balance[\"NAME_CONTRACT_STATUS\"] ==  \"Approved\",\"NAME_CONTRACT_STATUS\" ] = \"Active\"\n",
    "POS_CASH_balance.loc[POS_CASH_balance[\"NAME_CONTRACT_STATUS\"] ==  \"Canceled\",\"NAME_CONTRACT_STATUS\" ] = \"Completed\"\n",
    "POS_CASH_balance.loc[POS_CASH_balance[\"NAME_CONTRACT_STATUS\"] ==  \"Demand\",\"NAME_CONTRACT_STATUS\" ] = \"Active\"\n",
    "POS_CASH_balance.loc[POS_CASH_balance[\"NAME_CONTRACT_STATUS\"] ==  \"Returned to the store\",\"NAME_CONTRACT_STATUS\" ] = \"Active\"\n",
    "POS_CASH_balance.loc[POS_CASH_balance[\"NAME_CONTRACT_STATUS\"] ==  \"Signed\",\"NAME_CONTRACT_STATUS\" ] = \"Active\"\n",
    "POS_CASH_balance.loc[POS_CASH_balance[\"NAME_CONTRACT_STATUS\"] ==  \"XNA\",\"NAME_CONTRACT_STATUS\" ] = \"Active\""
   ]
  },
  {
   "cell_type": "code",
   "execution_count": null,
   "metadata": {},
   "outputs": [],
   "source": [
    "prev_loans = POS_CASH_balance.groupby([POS_CASH_balance[ \"SK_ID_CURR\"],POS_CASH_balance[ \"NAME_CONTRACT_STATUS\"]  ]).size()"
   ]
  },
  {
   "cell_type": "code",
   "execution_count": null,
   "metadata": {},
   "outputs": [],
   "source": [
    "prev_loans = prev_loans.reset_index()"
   ]
  },
  {
   "cell_type": "code",
   "execution_count": null,
   "metadata": {},
   "outputs": [],
   "source": [
    "#prev_loans.head(3)"
   ]
  },
  {
   "cell_type": "code",
   "execution_count": null,
   "metadata": {},
   "outputs": [],
   "source": [
    "#POS_CASH_balance.head(5)"
   ]
  },
  {
   "cell_type": "code",
   "execution_count": null,
   "metadata": {},
   "outputs": [],
   "source": [
    "prev_loans_active = prev_loans[prev_loans[\"NAME_CONTRACT_STATUS\"] ==  \"Active\"].copy()\n",
    "prev_loans_completed = prev_loans[prev_loans[\"NAME_CONTRACT_STATUS\"] ==  \"Completed\"].copy()"
   ]
  },
  {
   "cell_type": "code",
   "execution_count": null,
   "metadata": {},
   "outputs": [],
   "source": [
    "#prev_loans_completed.shape, prev_loans_active.shape"
   ]
  },
  {
   "cell_type": "code",
   "execution_count": null,
   "metadata": {},
   "outputs": [],
   "source": [
    "prev_loans_active.rename(columns={0:\"#_Active_Prev_Cont\"}, inplace=True)\n",
    "prev_loans_completed.rename(columns={0:\"#_Completed_Prev_Cont\"}, inplace=True)"
   ]
  },
  {
   "cell_type": "code",
   "execution_count": null,
   "metadata": {},
   "outputs": [],
   "source": [
    "#prev_loans_completed[\"SK_ID_CURR\"].nunique(), prev_loans_active[\"SK_ID_CURR\"].nunique()"
   ]
  },
  {
   "cell_type": "code",
   "execution_count": null,
   "metadata": {},
   "outputs": [],
   "source": [
    "prev_loans_active.drop(\"NAME_CONTRACT_STATUS\",axis = 1, inplace=True)"
   ]
  },
  {
   "cell_type": "code",
   "execution_count": null,
   "metadata": {},
   "outputs": [],
   "source": [
    "prev_loans_completed.drop(\"NAME_CONTRACT_STATUS\", axis=1, inplace=True)"
   ]
  },
  {
   "cell_type": "code",
   "execution_count": null,
   "metadata": {},
   "outputs": [],
   "source": [
    "#prev_loans.groupby(prev_loans[\"NAME_CONTRACT_STATUS\"]).size()"
   ]
  },
  {
   "cell_type": "code",
   "execution_count": null,
   "metadata": {},
   "outputs": [],
   "source": [
    "POS_CASH_balance_mod = POS_CASH_balance.groupby([POS_CASH_balance[ \"SK_ID_CURR\"]]).sum().copy()"
   ]
  },
  {
   "cell_type": "code",
   "execution_count": null,
   "metadata": {},
   "outputs": [],
   "source": [
    "POS_CASH_balance_mod.drop(\"SK_ID_PREV\", axis = 1, inplace=True)"
   ]
  },
  {
   "cell_type": "code",
   "execution_count": null,
   "metadata": {},
   "outputs": [],
   "source": [
    "POS_CASH_balance_mod.head()"
   ]
  },
  {
   "cell_type": "code",
   "execution_count": null,
   "metadata": {},
   "outputs": [],
   "source": [
    "POS_CASH_balance_mod = POS_CASH_balance_mod.reset_index()"
   ]
  },
  {
   "cell_type": "code",
   "execution_count": null,
   "metadata": {},
   "outputs": [],
   "source": [
    "read_train1 =  read_train1.merge(POS_CASH_balance_mod, on = \"SK_ID_CURR\" , how  = \"left\", suffixes=(\"POS_C_B\",\"DS\"))"
   ]
  },
  {
   "cell_type": "code",
   "execution_count": null,
   "metadata": {},
   "outputs": [],
   "source": [
    "read_train1 =  read_train1.merge(prev_loans_active, on = \"SK_ID_CURR\" , how  = \"left\", suffixes=(\"POS_C_B_A\",\"DS\"))\n",
    "read_train1 =  read_train1.merge(prev_loans_completed, on = \"SK_ID_CURR\" , how  = \"left\", suffixes=(\"POS_C_B_C\",\"DS\"))"
   ]
  },
  {
   "cell_type": "code",
   "execution_count": null,
   "metadata": {},
   "outputs": [],
   "source": [
    "#prev_loans_active.shape, prev_loans_active[\"SK_ID_CURR\"].nunique()"
   ]
  },
  {
   "cell_type": "code",
   "execution_count": null,
   "metadata": {},
   "outputs": [],
   "source": [
    "read_train1.shape, read_test1.shape"
   ]
  },
  {
   "cell_type": "code",
   "execution_count": null,
   "metadata": {},
   "outputs": [],
   "source": [
    "#read_train1.head(2)"
   ]
  },
  {
   "cell_type": "code",
   "execution_count": null,
   "metadata": {},
   "outputs": [],
   "source": [
    "#read_train1.drop([\"NAME_CONTRACT_STATUS_x\",\"0_x\",\"NAME_CONTRACT_STATUS_y\",\"0_y\"], axis=1, inplace=True)"
   ]
  },
  {
   "cell_type": "code",
   "execution_count": null,
   "metadata": {},
   "outputs": [],
   "source": [
    "read_test1 = read_test1.merge(POS_CASH_balance_mod, on = \"SK_ID_CURR\" , how  = \"left\", suffixes=(\"POS_C_B\",\"DS\"))"
   ]
  },
  {
   "cell_type": "code",
   "execution_count": null,
   "metadata": {},
   "outputs": [],
   "source": [
    "read_test1 = read_test1.merge(prev_loans_active, on = \"SK_ID_CURR\" , how  = \"left\",suffixes=(\"POS_C_B_A\",\"DS\"))\n",
    "read_test1 = read_test1.merge(prev_loans_completed, on = \"SK_ID_CURR\" , how  = \"left\",suffixes=(\"POS_C_B_A\",\"DS\"))"
   ]
  },
  {
   "cell_type": "code",
   "execution_count": null,
   "metadata": {},
   "outputs": [],
   "source": [
    "#read_test1.shape, read_train1.shape "
   ]
  },
  {
   "cell_type": "code",
   "execution_count": null,
   "metadata": {
    "scrolled": true
   },
   "outputs": [],
   "source": [
    "#read_test1[\"SK_ID_CURR\"].nunique(), read_train1[\"SK_ID_CURR\"].nunique()"
   ]
  },
  {
   "cell_type": "markdown",
   "metadata": {},
   "source": [
    "# # installments_payments Data"
   ]
  },
  {
   "cell_type": "code",
   "execution_count": null,
   "metadata": {},
   "outputs": [],
   "source": [
    "#installments_payments.head(3)"
   ]
  },
  {
   "cell_type": "code",
   "execution_count": null,
   "metadata": {},
   "outputs": [],
   "source": [
    "#installments_payments.shape"
   ]
  },
  {
   "cell_type": "code",
   "execution_count": null,
   "metadata": {},
   "outputs": [],
   "source": [
    "installments_payments_mod =  installments_payments.groupby(installments_payments[\"SK_ID_CURR\"]).sum()"
   ]
  },
  {
   "cell_type": "code",
   "execution_count": null,
   "metadata": {},
   "outputs": [],
   "source": [
    "installments_payments_mod = installments_payments_mod.reset_index()"
   ]
  },
  {
   "cell_type": "code",
   "execution_count": null,
   "metadata": {},
   "outputs": [],
   "source": [
    "#installments_payments_mod.head(4)"
   ]
  },
  {
   "cell_type": "code",
   "execution_count": null,
   "metadata": {},
   "outputs": [],
   "source": [
    "#read_train1.shape, read_test1.shape, installments_payments_mod.shape"
   ]
  },
  {
   "cell_type": "code",
   "execution_count": null,
   "metadata": {},
   "outputs": [],
   "source": [
    "installments_payments_mod.drop(\"SK_ID_PREV\", axis=1, inplace=True)"
   ]
  },
  {
   "cell_type": "code",
   "execution_count": null,
   "metadata": {},
   "outputs": [],
   "source": [
    "read_train1 = read_train1.merge(installments_payments_mod, on = \"SK_ID_CURR\", how  = \"left\",suffixes=(\"instal_pay\",\"DS\"))"
   ]
  },
  {
   "cell_type": "code",
   "execution_count": null,
   "metadata": {},
   "outputs": [],
   "source": [
    "read_test1 =  read_test1.merge(installments_payments_mod, on = \"SK_ID_CURR\", how  = \"left\",suffixes=(\"instal_pay\",\"DS\"))"
   ]
  },
  {
   "cell_type": "code",
   "execution_count": null,
   "metadata": {},
   "outputs": [],
   "source": [
    "read_train1.shape, read_test1.shape, installments_payments_mod.shape"
   ]
  },
  {
   "cell_type": "markdown",
   "metadata": {},
   "source": [
    "# # Credit_Card_balance Data"
   ]
  },
  {
   "cell_type": "code",
   "execution_count": null,
   "metadata": {},
   "outputs": [],
   "source": [
    "#print(credit_card_balance.shape)\n",
    "#credit_card_balance.head(3)"
   ]
  },
  {
   "cell_type": "code",
   "execution_count": null,
   "metadata": {},
   "outputs": [],
   "source": [
    "#credit_card_balance.groupby(credit_card_balance[\"NAME_CONTRACT_STATUS\"]).size()"
   ]
  },
  {
   "cell_type": "code",
   "execution_count": null,
   "metadata": {},
   "outputs": [],
   "source": [
    "credit_card_balance.loc[credit_card_balance[\"NAME_CONTRACT_STATUS\"] ==  \"Signed\",\"NAME_CONTRACT_STATUS\" ] = \"Active\"\n",
    "credit_card_balance.loc[credit_card_balance[\"NAME_CONTRACT_STATUS\"] ==  \"Sent proposal\",\"NAME_CONTRACT_STATUS\" ] = \"Active\"\n",
    "credit_card_balance.loc[credit_card_balance[\"NAME_CONTRACT_STATUS\"] ==  \"Refused\",\"NAME_CONTRACT_STATUS\" ] = \"Completed\"\n",
    "credit_card_balance.loc[credit_card_balance[\"NAME_CONTRACT_STATUS\"] ==  \"Demand\",\"NAME_CONTRACT_STATUS\" ] = \"Active\"\n",
    "credit_card_balance.loc[credit_card_balance[\"NAME_CONTRACT_STATUS\"] ==  \"Approved\",\"NAME_CONTRACT_STATUS\" ] = \"Active\""
   ]
  },
  {
   "cell_type": "code",
   "execution_count": null,
   "metadata": {},
   "outputs": [],
   "source": [
    "credit_card_balance_mod = credit_card_balance.groupby(credit_card_balance[\"SK_ID_CURR\"]).sum().copy()"
   ]
  },
  {
   "cell_type": "code",
   "execution_count": null,
   "metadata": {},
   "outputs": [],
   "source": [
    "credit_card_balance_mod = credit_card_balance_mod.reset_index()"
   ]
  },
  {
   "cell_type": "code",
   "execution_count": null,
   "metadata": {},
   "outputs": [],
   "source": [
    "#credit_card_balance_mod.head(3)"
   ]
  },
  {
   "cell_type": "code",
   "execution_count": null,
   "metadata": {},
   "outputs": [],
   "source": [
    "credit_card_balance_mod.drop(\"SK_ID_PREV\", axis=1, inplace=True)"
   ]
  },
  {
   "cell_type": "code",
   "execution_count": null,
   "metadata": {},
   "outputs": [],
   "source": [
    "read_train1 =  read_train1.merge(credit_card_balance_mod, on = \"SK_ID_CURR\" , how  = \"left\",suffixes=(\"CC_bal\",\"DS\"))"
   ]
  },
  {
   "cell_type": "code",
   "execution_count": null,
   "metadata": {},
   "outputs": [],
   "source": [
    "read_test1 = read_test1.merge(credit_card_balance_mod, on = \"SK_ID_CURR\" , how  = \"left\",suffixes=(\"CC_bal\",\"DS\"))"
   ]
  },
  {
   "cell_type": "code",
   "execution_count": null,
   "metadata": {},
   "outputs": [],
   "source": [
    "#read_test1.shape, read_train1.shape"
   ]
  },
  {
   "cell_type": "code",
   "execution_count": null,
   "metadata": {},
   "outputs": [],
   "source": [
    "#read_train1.head(5)"
   ]
  },
  {
   "cell_type": "code",
   "execution_count": null,
   "metadata": {},
   "outputs": [],
   "source": [
    "prev_balance = credit_card_balance.groupby([credit_card_balance[\"SK_ID_CURR\"], credit_card_balance[\"NAME_CONTRACT_STATUS\"]]).size().copy()"
   ]
  },
  {
   "cell_type": "code",
   "execution_count": null,
   "metadata": {},
   "outputs": [],
   "source": [
    "prev_balance = prev_balance.reset_index()\n",
    "#prev_balance.head(6)"
   ]
  },
  {
   "cell_type": "code",
   "execution_count": null,
   "metadata": {},
   "outputs": [],
   "source": [
    "prev_balance_active = prev_balance[prev_balance[\"NAME_CONTRACT_STATUS\"] == \"Active\"].copy()\n",
    "prev_balance_completed = prev_balance[prev_balance[\"NAME_CONTRACT_STATUS\"] == \"Completed\"].copy()"
   ]
  },
  {
   "cell_type": "code",
   "execution_count": null,
   "metadata": {},
   "outputs": [],
   "source": [
    "#prev_balance_active.shape"
   ]
  },
  {
   "cell_type": "code",
   "execution_count": null,
   "metadata": {},
   "outputs": [],
   "source": [
    "prev_balance_active.rename(columns={0:\"#_Active_Prev_balance\"}, inplace=True)\n",
    "prev_balance_completed.rename(columns={0:\"#_Completed_Prev_balance\"}, inplace=True)"
   ]
  },
  {
   "cell_type": "code",
   "execution_count": null,
   "metadata": {},
   "outputs": [],
   "source": [
    "prev_balance_active.drop(\"NAME_CONTRACT_STATUS\",axis = 1, inplace=True)"
   ]
  },
  {
   "cell_type": "code",
   "execution_count": null,
   "metadata": {},
   "outputs": [],
   "source": [
    "prev_balance_completed.drop(\"NAME_CONTRACT_STATUS\",axis = 1, inplace=True)"
   ]
  },
  {
   "cell_type": "code",
   "execution_count": null,
   "metadata": {},
   "outputs": [],
   "source": [
    "#prev_balance_active.head(6)"
   ]
  },
  {
   "cell_type": "code",
   "execution_count": null,
   "metadata": {},
   "outputs": [],
   "source": [
    "read_train1 =  read_train1.merge(prev_balance_active, on = \"SK_ID_CURR\" , how  = \"left\",suffixes=(\"Prev_bal\",\"DS\"))\n",
    "read_train1 =  read_train1.merge(prev_balance_completed, on = \"SK_ID_CURR\" , how  = \"left\",suffixes=(\"Prev_bal\",\"DS\"))"
   ]
  },
  {
   "cell_type": "code",
   "execution_count": null,
   "metadata": {},
   "outputs": [],
   "source": [
    "#read_test1.shape, read_train1.shape"
   ]
  },
  {
   "cell_type": "code",
   "execution_count": null,
   "metadata": {},
   "outputs": [],
   "source": [
    "read_test1 = read_test1.merge(prev_balance_active, on = \"SK_ID_CURR\" , how  = \"left\",suffixes=(\"Prev_bal\",\"DS\"))\n",
    "read_test1 = read_test1.merge(prev_balance_completed, on = \"SK_ID_CURR\" , how  = \"left\",suffixes=(\"Prev_bal\",\"DS\"))"
   ]
  },
  {
   "cell_type": "code",
   "execution_count": null,
   "metadata": {},
   "outputs": [],
   "source": [
    "read_test1.shape, read_train1.shape"
   ]
  },
  {
   "cell_type": "code",
   "execution_count": null,
   "metadata": {},
   "outputs": [],
   "source": [
    "#read_test1.head(3)"
   ]
  },
  {
   "cell_type": "code",
   "execution_count": null,
   "metadata": {},
   "outputs": [],
   "source": [
    "#read_train1.head(3)"
   ]
  },
  {
   "cell_type": "markdown",
   "metadata": {},
   "source": [
    "# Bureau_balance Data"
   ]
  },
  {
   "cell_type": "code",
   "execution_count": null,
   "metadata": {},
   "outputs": [],
   "source": [
    "bureau_balance.head(3)"
   ]
  },
  {
   "cell_type": "code",
   "execution_count": null,
   "metadata": {},
   "outputs": [],
   "source": [
    "#bureau_balance.groupby(bureau_balance[\"STATUS\"]).size()"
   ]
  },
  {
   "cell_type": "code",
   "execution_count": null,
   "metadata": {},
   "outputs": [],
   "source": [
    "bureau_balance.loc[bureau_balance[\"STATUS\"]== \"0\",\"STATUS\" ] = \"Other_0-5\"\n",
    "bureau_balance.loc[bureau_balance[\"STATUS\"]== \"1\",\"STATUS\" ] = \"Other_0-5\"\n",
    "bureau_balance.loc[bureau_balance[\"STATUS\"]== \"2\",\"STATUS\" ] = \"Other_0-5\"\n",
    "bureau_balance.loc[bureau_balance[\"STATUS\"]== \"3\",\"STATUS\" ] = \"Other_0-5\"\n",
    "bureau_balance.loc[bureau_balance[\"STATUS\"]== \"4\",\"STATUS\" ] = \"Other_0-5\"\n",
    "bureau_balance.loc[bureau_balance[\"STATUS\"]== \"5\",\"STATUS\" ] = \"Other_0-5\""
   ]
  },
  {
   "cell_type": "code",
   "execution_count": null,
   "metadata": {},
   "outputs": [],
   "source": [
    "bureau_balance_mod = bureau_balance.groupby([bureau_balance[\"SK_ID_BUREAU\"], bureau_balance[\"STATUS\"]]).size().copy()"
   ]
  },
  {
   "cell_type": "code",
   "execution_count": null,
   "metadata": {},
   "outputs": [],
   "source": [
    "#bureau_balance_mod.head(6)"
   ]
  },
  {
   "cell_type": "code",
   "execution_count": null,
   "metadata": {},
   "outputs": [],
   "source": [
    "bureau_balance_mod = bureau_balance_mod.reset_index()"
   ]
  },
  {
   "cell_type": "code",
   "execution_count": null,
   "metadata": {},
   "outputs": [],
   "source": [
    "bureau_balance_mod_C = bureau_balance_mod[bureau_balance_mod[\"STATUS\"] == \"C\"].copy()\n",
    "bureau_balance_mod_X = bureau_balance_mod[bureau_balance_mod[\"STATUS\"] == \"X\"].copy()\n",
    "bureau_balance_mod_Other_0_5 = bureau_balance_mod[bureau_balance_mod[\"STATUS\"] == \"Other_0-5\"].copy()"
   ]
  },
  {
   "cell_type": "code",
   "execution_count": null,
   "metadata": {},
   "outputs": [],
   "source": [
    "bureau_balance_mod_C.rename(columns={0: \"bureau_balance_C\"}, inplace= True)\n",
    "bureau_balance_mod_X.rename(columns={0: \"bureau_balance_X\"}, inplace= True)\n",
    "bureau_balance_mod_Other_0_5.rename(columns={0: \"bureau_balance_Other_0_5\"}, inplace= True)"
   ]
  },
  {
   "cell_type": "code",
   "execution_count": null,
   "metadata": {},
   "outputs": [],
   "source": [
    "bureau_balance_mod_C.drop(\"STATUS\", axis  =1 , inplace=True)\n",
    "bureau_balance_mod_X.drop(\"STATUS\", axis  =1 , inplace=True)\n",
    "bureau_balance_mod_Other_0_5.drop(\"STATUS\", axis  =1 , inplace=True)"
   ]
  },
  {
   "cell_type": "code",
   "execution_count": null,
   "metadata": {},
   "outputs": [],
   "source": [
    "#len(bureau_balance[\"SK_ID_BUREAU\"]), bureau_balance[\"SK_ID_BUREAU\"].unique()"
   ]
  },
  {
   "cell_type": "code",
   "execution_count": null,
   "metadata": {},
   "outputs": [],
   "source": [
    "bureau_balance_sum = bureau_balance.groupby(bureau_balance[\"SK_ID_BUREAU\"]).sum().copy()"
   ]
  },
  {
   "cell_type": "code",
   "execution_count": null,
   "metadata": {},
   "outputs": [],
   "source": [
    "bureau_balance_sum.rename(columns={'MONTHS_BALANCE' : \"bureau_balance_MNTH_BAL\"}, inplace=True)"
   ]
  },
  {
   "cell_type": "code",
   "execution_count": null,
   "metadata": {},
   "outputs": [],
   "source": [
    "bureau_balance_sum.head()"
   ]
  },
  {
   "cell_type": "code",
   "execution_count": null,
   "metadata": {
    "scrolled": true
   },
   "outputs": [],
   "source": [
    "bureau_balance_sum = bureau_balance_sum.reset_index()"
   ]
  },
  {
   "cell_type": "code",
   "execution_count": null,
   "metadata": {},
   "outputs": [],
   "source": [
    "#list(bureau_balance_sum), bureau_balance_sum.shape"
   ]
  },
  {
   "cell_type": "markdown",
   "metadata": {},
   "source": [
    "# Bureau Data"
   ]
  },
  {
   "cell_type": "code",
   "execution_count": null,
   "metadata": {},
   "outputs": [],
   "source": [
    "#bureau.head(3)"
   ]
  },
  {
   "cell_type": "code",
   "execution_count": null,
   "metadata": {},
   "outputs": [],
   "source": [
    "#bureau_org = bureau.copy()"
   ]
  },
  {
   "cell_type": "code",
   "execution_count": null,
   "metadata": {},
   "outputs": [],
   "source": [
    "bureau = bureau.merge(bureau_balance_mod_C, on =\"SK_ID_BUREAU\", how = \"left\",suffixes=(\"Bur_d\",\"DS\"))\n",
    "bureau = bureau.merge(bureau_balance_mod_X, on =\"SK_ID_BUREAU\", how = \"left\",suffixes=(\"Bur_d\",\"DS\"))\n",
    "bureau = bureau.merge(bureau_balance_mod_Other_0_5, on =\"SK_ID_BUREAU\", how = \"left\",suffixes=(\"Bur_d\",\"DS\"))"
   ]
  },
  {
   "cell_type": "code",
   "execution_count": null,
   "metadata": {},
   "outputs": [],
   "source": [
    "#list(bureau_balance_sum), type(bureau_balance_sum[\"SK_ID_BUREAU\"])"
   ]
  },
  {
   "cell_type": "code",
   "execution_count": null,
   "metadata": {},
   "outputs": [],
   "source": [
    "#bureau.drop(\"MONTHS_BALANCE\", axis = 1, inplace=True)"
   ]
  },
  {
   "cell_type": "code",
   "execution_count": null,
   "metadata": {},
   "outputs": [],
   "source": [
    "bureau = bureau.merge(bureau_balance_sum, on=\"SK_ID_BUREAU\", how = \"left\",suffixes=(\"Bur_b_sum\",\"DS\"))"
   ]
  },
  {
   "cell_type": "code",
   "execution_count": null,
   "metadata": {},
   "outputs": [],
   "source": [
    "#len(bureau), bureau.shape"
   ]
  },
  {
   "cell_type": "code",
   "execution_count": null,
   "metadata": {},
   "outputs": [],
   "source": [
    "bureau.drop(\"CREDIT_CURRENCY\", axis=1, inplace=True)"
   ]
  },
  {
   "cell_type": "code",
   "execution_count": null,
   "metadata": {},
   "outputs": [],
   "source": [
    "bureau.loc[bureau[\"CREDIT_TYPE\"] == \"Another type of loan\", \"CREDIT_TYPE\"] = \"Loan\"\n",
    "bureau.loc[bureau[\"CREDIT_TYPE\"] == \"Car loan\", \"CREDIT_TYPE\"] = \"Loan\"\n",
    "bureau.loc[bureau[\"CREDIT_TYPE\"] == \"Consumer credit\", \"CREDIT_TYPE\"] = \"Credit\"\n",
    "bureau.loc[bureau[\"CREDIT_TYPE\"] == \"Credit card\", \"CREDIT_TYPE\"] = \"Credit\"\n",
    "bureau.loc[bureau[\"CREDIT_TYPE\"] == \"Interbank credit\", \"CREDIT_TYPE\"] = \"Credit\"\n",
    "bureau.loc[bureau[\"CREDIT_TYPE\"] == \"Loan for business development\", \"CREDIT_TYPE\"] = \"Loan\"\n",
    "bureau.loc[bureau[\"CREDIT_TYPE\"] == \"Cash loan (non-earmarked)\", \"CREDIT_TYPE\"] = \"Loan\"\n",
    "bureau.loc[bureau[\"CREDIT_TYPE\"] == \"Loan for purchase of shares (margin lending)\", \"CREDIT_TYPE\"] = \"Loan\"\n",
    "bureau.loc[bureau[\"CREDIT_TYPE\"] == \"Loan for the purchase of equipment\", \"CREDIT_TYPE\"] = \"Loan\"\n",
    "bureau.loc[bureau[\"CREDIT_TYPE\"] == \"Microloan\", \"CREDIT_TYPE\"] = \"Loan\"\n",
    "bureau.loc[bureau[\"CREDIT_TYPE\"] == \"Mobile operator loan\", \"CREDIT_TYPE\"] = \"Loan\"\n",
    "bureau.loc[bureau[\"CREDIT_TYPE\"] == \"Mortgage\", \"CREDIT_TYPE\"] = \"Loan\"\n",
    "bureau.loc[bureau[\"CREDIT_TYPE\"] == \"Real estate loan\", \"CREDIT_TYPE\"] = \"Loan\"\n",
    "bureau.loc[bureau[\"CREDIT_TYPE\"] == \"Unknown type of loan\", \"CREDIT_TYPE\"] = \"Loan\"\n",
    "bureau.loc[bureau[\"CREDIT_TYPE\"] == \"Loan for working capital replenishment\", \"CREDIT_TYPE\"] = \"Loan\"\n",
    "\n",
    "bureau.loc[bureau[\"CREDIT_ACTIVE\"] == \"Bad debt\", \"CREDIT_ACTIVE\"] = \"Sold\""
   ]
  },
  {
   "cell_type": "code",
   "execution_count": null,
   "metadata": {},
   "outputs": [],
   "source": [
    "for i in list(bureau.select_dtypes([\"object\"])):\n",
    "    print(bureau.groupby(i).size(), \"\\n\")"
   ]
  },
  {
   "cell_type": "code",
   "execution_count": null,
   "metadata": {},
   "outputs": [],
   "source": [
    "bureau_mod_active = bureau.groupby([bureau[\"SK_ID_CURR\"],bureau[\"CREDIT_ACTIVE\"]]).size().copy()\n",
    "bureau_mod_type = bureau.groupby([bureau[\"SK_ID_CURR\"],bureau[\"CREDIT_TYPE\"]]).size().copy()"
   ]
  },
  {
   "cell_type": "code",
   "execution_count": null,
   "metadata": {},
   "outputs": [],
   "source": [
    "#bureau_mod_type.head(6)"
   ]
  },
  {
   "cell_type": "code",
   "execution_count": null,
   "metadata": {},
   "outputs": [],
   "source": [
    "bureau_mod_active = bureau_mod_active.reset_index()\n",
    "bureau_mod_type = bureau_mod_type.reset_index()"
   ]
  },
  {
   "cell_type": "code",
   "execution_count": null,
   "metadata": {},
   "outputs": [],
   "source": [
    "bureau_mod_active_act = bureau_mod_active.loc[bureau_mod_active[\"CREDIT_ACTIVE\"] == \"Active\"].copy()\n",
    "bureau_mod_active_cls = bureau_mod_active.loc[bureau_mod_active[\"CREDIT_ACTIVE\"] == \"Closed\"].copy()"
   ]
  },
  {
   "cell_type": "code",
   "execution_count": null,
   "metadata": {},
   "outputs": [],
   "source": [
    "bureau_mod_active_act.rename(columns={0: \"bureau_mod_active_act\"}, inplace=True)\n",
    "bureau_mod_active_cls.rename(columns={0: \"bureau_mod_active_cls\"}, inplace=True)"
   ]
  },
  {
   "cell_type": "code",
   "execution_count": null,
   "metadata": {},
   "outputs": [],
   "source": [
    "bureau_mod_active_act.drop(\"CREDIT_ACTIVE\",axis=1, inplace=True)\n",
    "bureau_mod_active_cls.drop(\"CREDIT_ACTIVE\",axis=1, inplace=True)"
   ]
  },
  {
   "cell_type": "code",
   "execution_count": null,
   "metadata": {},
   "outputs": [],
   "source": [
    "bureau_mod_type_credit = bureau_mod_type.loc[bureau_mod_type[\"CREDIT_TYPE\"] == \"Credit\"].copy()\n",
    "bureau_mod_type_loan = bureau_mod_type.loc[bureau_mod_type[\"CREDIT_TYPE\"] == \"Loan\"].copy()"
   ]
  },
  {
   "cell_type": "code",
   "execution_count": null,
   "metadata": {},
   "outputs": [],
   "source": [
    "bureau_mod_type_credit.rename(columns={0: \"bureau_mod_type_credit\"}, inplace=True)\n",
    "bureau_mod_type_loan.rename(columns={0: \"bureau_mod_type_loan\"}, inplace=True)"
   ]
  },
  {
   "cell_type": "code",
   "execution_count": null,
   "metadata": {},
   "outputs": [],
   "source": [
    "#bureau_mod_type_credit.head(3)"
   ]
  },
  {
   "cell_type": "code",
   "execution_count": null,
   "metadata": {},
   "outputs": [],
   "source": [
    "bureau_mod_type_credit.drop(\"CREDIT_TYPE\",axis=1, inplace=True)\n",
    "bureau_mod_type_loan.drop(\"CREDIT_TYPE\",axis=1, inplace=True)"
   ]
  },
  {
   "cell_type": "code",
   "execution_count": null,
   "metadata": {},
   "outputs": [],
   "source": [
    "#bureau_mod_active_act.head(2), bureau_mod_active_cls.head(2), bureau_mod_type_credit.head(2), bureau_mod_type_loan.head(2)"
   ]
  },
  {
   "cell_type": "code",
   "execution_count": null,
   "metadata": {},
   "outputs": [],
   "source": [
    "#bureau_mod_active_act.reset_index(), bureau_mod_active_cls.reset_index(), bureau_mod_type_credit.reset_index(), bureau_mod_type_loan.reset_index()"
   ]
  },
  {
   "cell_type": "code",
   "execution_count": null,
   "metadata": {},
   "outputs": [],
   "source": [
    "#bureau.head(5),\n",
    "#bureau.shape"
   ]
  },
  {
   "cell_type": "code",
   "execution_count": null,
   "metadata": {},
   "outputs": [],
   "source": [
    "bureau = bureau.merge(bureau_mod_active_act, on = \"SK_ID_CURR\", how = \"left\",suffixes=(\"Bur\",\"Bur_aa\"))\n",
    "bureau = bureau.merge(bureau_mod_active_cls, on = \"SK_ID_CURR\", how = \"left\",suffixes=(\"Bur_d\",\"Bur_ac\"))\n",
    "bureau = bureau.merge(bureau_mod_type_credit, on = \"SK_ID_CURR\", how = \"left\",suffixes=(\"Bur_d\",\"Bur_tc\"))\n",
    "bureau = bureau.merge(bureau_mod_type_loan, on = \"SK_ID_CURR\", how = \"left\",suffixes=(\"Bur_d\",\"Bur_tl\"))"
   ]
  },
  {
   "cell_type": "code",
   "execution_count": null,
   "metadata": {},
   "outputs": [],
   "source": [
    "bureau.drop(\"SK_ID_BUREAU\", axis=1, inplace=True)"
   ]
  },
  {
   "cell_type": "code",
   "execution_count": null,
   "metadata": {},
   "outputs": [],
   "source": [
    "bureau_mod = bureau.groupby(bureau[\"SK_ID_CURR\"]).sum().copy()"
   ]
  },
  {
   "cell_type": "code",
   "execution_count": null,
   "metadata": {},
   "outputs": [],
   "source": [
    "bureau_mod.head(5)"
   ]
  },
  {
   "cell_type": "code",
   "execution_count": null,
   "metadata": {},
   "outputs": [],
   "source": [
    "bureau_mod = bureau_mod.reset_index()"
   ]
  },
  {
   "cell_type": "code",
   "execution_count": null,
   "metadata": {},
   "outputs": [],
   "source": [
    "read_test1 = read_test1.merge(bureau_mod, on = \"SK_ID_CURR\", how  = \"left\",suffixes=(\"Bur_mod\",\"DS\"))\n",
    "read_train1 = read_train1.merge(bureau_mod, on = \"SK_ID_CURR\", how  = \"left\",suffixes=(\"Bur_mod\",\"DS\"))"
   ]
  },
  {
   "cell_type": "code",
   "execution_count": null,
   "metadata": {},
   "outputs": [],
   "source": [
    "#read_test1.shape, read_train1.shape"
   ]
  },
  {
   "cell_type": "markdown",
   "metadata": {},
   "source": [
    "# Previous_application data"
   ]
  },
  {
   "cell_type": "code",
   "execution_count": null,
   "metadata": {},
   "outputs": [],
   "source": [
    "#previous_application.head(4)"
   ]
  },
  {
   "cell_type": "code",
   "execution_count": null,
   "metadata": {},
   "outputs": [],
   "source": [
    "#previous_application_org = previous_application.copy()"
   ]
  },
  {
   "cell_type": "code",
   "execution_count": null,
   "metadata": {},
   "outputs": [],
   "source": [
    "#previous_application =previous_application_org"
   ]
  },
  {
   "cell_type": "code",
   "execution_count": null,
   "metadata": {},
   "outputs": [],
   "source": [
    "#for i in list(previous_application.select_dtypes([\"object\"])):\n",
    "#    print(previous_application.groupby(i).size(), \"\\n\")"
   ]
  },
  {
   "cell_type": "code",
   "execution_count": null,
   "metadata": {},
   "outputs": [],
   "source": [
    "previous_application.loc[previous_application[\"NAME_CASH_LOAN_PURPOSE\"]== \"Building a house or an annex\", \"NAME_CASH_LOAN_PURPOSE\"] = \"Personal\"\n",
    "previous_application.loc[previous_application[\"NAME_CASH_LOAN_PURPOSE\"]== \"Business development\", \"NAME_CASH_LOAN_PURPOSE\"] = \"Personal\"\n",
    "previous_application.loc[previous_application[\"NAME_CASH_LOAN_PURPOSE\"]== \"Buying a garage\", \"NAME_CASH_LOAN_PURPOSE\"] = \"Personal\"\n",
    "previous_application.loc[previous_application[\"NAME_CASH_LOAN_PURPOSE\"]== \"Buying a holiday home / land\", \"NAME_CASH_LOAN_PURPOSE\"] = \"Personal\"\n",
    "previous_application.loc[previous_application[\"NAME_CASH_LOAN_PURPOSE\"]== \"Buying a home\", \"NAME_CASH_LOAN_PURPOSE\"] = \"Personal\"\n",
    "previous_application.loc[previous_application[\"NAME_CASH_LOAN_PURPOSE\"]== \"Buying a new car\", \"NAME_CASH_LOAN_PURPOSE\"] = \"Personal\"\n",
    "previous_application.loc[previous_application[\"NAME_CASH_LOAN_PURPOSE\"]== \"Buying a used car\", \"NAME_CASH_LOAN_PURPOSE\"] = \"Personal\"\n",
    "previous_application.loc[previous_application[\"NAME_CASH_LOAN_PURPOSE\"]== \"Car repairs\", \"NAME_CASH_LOAN_PURPOSE\"] = \"Personal\"\n",
    "previous_application.loc[previous_application[\"NAME_CASH_LOAN_PURPOSE\"]== \"Education\", \"NAME_CASH_LOAN_PURPOSE\"] = \"Personal\"\n",
    "previous_application.loc[previous_application[\"NAME_CASH_LOAN_PURPOSE\"]== \"Everyday expenses\", \"NAME_CASH_LOAN_PURPOSE\"] = \"Personal\"\n",
    "previous_application.loc[previous_application[\"NAME_CASH_LOAN_PURPOSE\"]== \"Furniture\", \"NAME_CASH_LOAN_PURPOSE\"] = \"Personal\"\n",
    "previous_application.loc[previous_application[\"NAME_CASH_LOAN_PURPOSE\"]== \"Gasification / water supply\", \"NAME_CASH_LOAN_PURPOSE\"] = \"Personal\"\n",
    "\n",
    "previous_application.loc[previous_application[\"NAME_CASH_LOAN_PURPOSE\"]== \"Hobby\", \"NAME_CASH_LOAN_PURPOSE\"] = \"Personal\"\n",
    "previous_application.loc[previous_application[\"NAME_CASH_LOAN_PURPOSE\"]== \"Journey\", \"NAME_CASH_LOAN_PURPOSE\"] = \"Personal\"\n",
    "previous_application.loc[previous_application[\"NAME_CASH_LOAN_PURPOSE\"]== \"Medicine\", \"NAME_CASH_LOAN_PURPOSE\"] = \"Personal\"\n",
    "previous_application.loc[previous_application[\"NAME_CASH_LOAN_PURPOSE\"]== \"Money for a third person\", \"NAME_CASH_LOAN_PURPOSE\"] = \"Personal\"\n",
    "previous_application.loc[previous_application[\"NAME_CASH_LOAN_PURPOSE\"]== \"Payments on other loans\", \"NAME_CASH_LOAN_PURPOSE\"] = \"Personal\"\n",
    "previous_application.loc[previous_application[\"NAME_CASH_LOAN_PURPOSE\"]== \"Purchase of electronic equipment\", \"NAME_CASH_LOAN_PURPOSE\"] = \"Personal\"\n",
    "previous_application.loc[previous_application[\"NAME_CASH_LOAN_PURPOSE\"]== \"Repairs\", \"NAME_CASH_LOAN_PURPOSE\"] = \"Personal\"\n",
    "previous_application.loc[previous_application[\"NAME_CASH_LOAN_PURPOSE\"]== \"Urgent needs\", \"NAME_CASH_LOAN_PURPOSE\"] = \"Personal\"\n",
    "previous_application.loc[previous_application[\"NAME_CASH_LOAN_PURPOSE\"]== \"Wedding / gift / holiday\", \"NAME_CASH_LOAN_PURPOSE\"] = \"Personal\"\n",
    "\n",
    "\n",
    "previous_application.loc[previous_application[\"NAME_CASH_LOAN_PURPOSE\"]== \"Refusal to name the goal\", \"NAME_CASH_LOAN_PURPOSE\"] = \"Other\"\n",
    "previous_application.loc[previous_application[\"NAME_CASH_LOAN_PURPOSE\"]== \"XAP\", \"NAME_CASH_LOAN_PURPOSE\"] = \"Other\"\n",
    "previous_application.loc[previous_application[\"NAME_CASH_LOAN_PURPOSE\"]== \"XNA\", \"NAME_CASH_LOAN_PURPOSE\"] = \"Other\""
   ]
  },
  {
   "cell_type": "code",
   "execution_count": null,
   "metadata": {},
   "outputs": [],
   "source": [
    "previous_application.loc[previous_application[\"NAME_CONTRACT_STATUS\"]== \"Unused offer\", \"NAME_CONTRACT_STATUS\"] = \"Approved\""
   ]
  },
  {
   "cell_type": "code",
   "execution_count": null,
   "metadata": {},
   "outputs": [],
   "source": [
    "previous_application.loc[previous_application[\"PRODUCT_COMBINATION\"]== \"Card Street\", \"PRODUCT_COMBINATION\"] = \"Card\"\n",
    "previous_application.loc[previous_application[\"PRODUCT_COMBINATION\"]== \"Card X-Sell\", \"PRODUCT_COMBINATION\"] = \"Card\"\n",
    "previous_application.loc[previous_application[\"PRODUCT_COMBINATION\"]== \"Cash Street: high\", \"PRODUCT_COMBINATION\"] = \"Cash\"\n",
    "previous_application.loc[previous_application[\"PRODUCT_COMBINATION\"]== \"Cash Street: low\", \"PRODUCT_COMBINATION\"] = \"Cash\"\n",
    "previous_application.loc[previous_application[\"PRODUCT_COMBINATION\"]== \"Cash Street: middle\", \"PRODUCT_COMBINATION\"] = \"Cash\"\n",
    "previous_application.loc[previous_application[\"PRODUCT_COMBINATION\"]== \"Cash X-Sell: high\", \"PRODUCT_COMBINATION\"] = \"Cash\"\n",
    "previous_application.loc[previous_application[\"PRODUCT_COMBINATION\"]== \"Cash X-Sell: low\", \"PRODUCT_COMBINATION\"] = \"Cash\"\n",
    "previous_application.loc[previous_application[\"PRODUCT_COMBINATION\"]== \"Cash X-Sell: middle\", \"PRODUCT_COMBINATION\"] = \"Cash\"\n",
    "\n",
    "previous_application.loc[previous_application[\"PRODUCT_COMBINATION\"]== \"POS household with interest\", \"PRODUCT_COMBINATION\"] = \"POS\"\n",
    "previous_application.loc[previous_application[\"PRODUCT_COMBINATION\"]== \"POS household without interest\", \"PRODUCT_COMBINATION\"] = \"POS\"\n",
    "previous_application.loc[previous_application[\"PRODUCT_COMBINATION\"]== \"POS industry with interest\", \"PRODUCT_COMBINATION\"] = \"POS\"\n",
    "previous_application.loc[previous_application[\"PRODUCT_COMBINATION\"]== \"POS industry without interest\", \"PRODUCT_COMBINATION\"] = \"POS\"\n",
    "previous_application.loc[previous_application[\"PRODUCT_COMBINATION\"]== \"POS mobile with interest\", \"PRODUCT_COMBINATION\"] = \"POS\"\n",
    "previous_application.loc[previous_application[\"PRODUCT_COMBINATION\"]== \"POS mobile without interest\", \"PRODUCT_COMBINATION\"] = \"POS\"\n",
    "previous_application.loc[previous_application[\"PRODUCT_COMBINATION\"]== \"POS other with interest\", \"PRODUCT_COMBINATION\"] = \"POS\"\n",
    "previous_application.loc[previous_application[\"PRODUCT_COMBINATION\"]== \"POS others without interest\", \"PRODUCT_COMBINATION\"] = \"POS\""
   ]
  },
  {
   "cell_type": "code",
   "execution_count": null,
   "metadata": {},
   "outputs": [],
   "source": [
    "previous_application_dum = previous_application.copy()"
   ]
  },
  {
   "cell_type": "code",
   "execution_count": null,
   "metadata": {},
   "outputs": [],
   "source": [
    "#previous_application_temp.shape"
   ]
  },
  {
   "cell_type": "code",
   "execution_count": null,
   "metadata": {},
   "outputs": [],
   "source": [
    "previous_application_dum = pd.get_dummies(data=previous_application )"
   ]
  },
  {
   "cell_type": "code",
   "execution_count": null,
   "metadata": {},
   "outputs": [],
   "source": [
    "#previous_application_dum.shape"
   ]
  },
  {
   "cell_type": "code",
   "execution_count": null,
   "metadata": {},
   "outputs": [],
   "source": [
    "#previous_application_dum.head(5)"
   ]
  },
  {
   "cell_type": "code",
   "execution_count": null,
   "metadata": {},
   "outputs": [],
   "source": [
    "previous_application_dum.drop(\"SK_ID_PREV\", axis=1, inplace=True)"
   ]
  },
  {
   "cell_type": "code",
   "execution_count": null,
   "metadata": {},
   "outputs": [],
   "source": [
    "previous_application_sum = previous_application_dum.groupby(previous_application_dum[\"SK_ID_CURR\"]).sum().copy()"
   ]
  },
  {
   "cell_type": "code",
   "execution_count": null,
   "metadata": {},
   "outputs": [],
   "source": [
    "#previous_application_sum.head(5)"
   ]
  },
  {
   "cell_type": "code",
   "execution_count": null,
   "metadata": {},
   "outputs": [],
   "source": [
    "previous_application_sum = previous_application_sum.reset_index()"
   ]
  },
  {
   "cell_type": "code",
   "execution_count": null,
   "metadata": {},
   "outputs": [],
   "source": [
    "#previous_application_sum[\"WEEKDAY_APPR_PROCESS_START_FRIDAY\"].head()"
   ]
  },
  {
   "cell_type": "code",
   "execution_count": null,
   "metadata": {},
   "outputs": [],
   "source": [
    "#read_train2[\"WEEKDAY_APPR_PROCESS_START_FRIDAY\"].head()"
   ]
  },
  {
   "cell_type": "code",
   "execution_count": null,
   "metadata": {},
   "outputs": [],
   "source": [
    "#previous_application_sum.head()"
   ]
  },
  {
   "cell_type": "code",
   "execution_count": null,
   "metadata": {},
   "outputs": [],
   "source": [
    "#read_test2 = read_test1.copy()\n",
    "#read_train2 = read_train1.copy()"
   ]
  },
  {
   "cell_type": "code",
   "execution_count": null,
   "metadata": {},
   "outputs": [],
   "source": [
    "read_test1 = read_test1.merge(previous_application_sum, on = \"SK_ID_CURR\", how  = \"left\", suffixes=(\"Pre_app\",\"DS\"))\n",
    "read_train1 = read_train1.merge(previous_application_sum, on = \"SK_ID_CURR\", how  = \"left\", suffixes=(\"Pre_app\",\"DS\"))"
   ]
  },
  {
   "cell_type": "code",
   "execution_count": null,
   "metadata": {},
   "outputs": [],
   "source": [
    "read_test1.shape, read_train1.shape"
   ]
  },
  {
   "cell_type": "code",
   "execution_count": null,
   "metadata": {},
   "outputs": [],
   "source": [
    "col_list = read_train1.isnull().sum()> 0\n",
    "for i in range(len(col_list)):\n",
    "    if col_list[i]:\n",
    "        print(col_list.index[i])\n",
    "#read_train1.loc[col_list]"
   ]
  },
  {
   "cell_type": "code",
   "execution_count": null,
   "metadata": {},
   "outputs": [],
   "source": [
    "#read_test1.to_csv(data_dir+\"final_combined_test_file.csv\",index = False)\n",
    "#read_train1.to_csv(data_dir+\"final_combined_train_file.csv\",index = False)"
   ]
  },
  {
   "cell_type": "code",
   "execution_count": 6,
   "metadata": {},
   "outputs": [],
   "source": [
    "from sklearn.ensemble import GradientBoostingClassifier, RandomForestClassifier \n",
    "from sklearn.model_selection import train_test_split\n",
    "from sklearn.metrics import roc_curve, roc_auc_score\n",
    "from sklearn.model_selection import KFold\n",
    "from sklearn.feature_selection import SelectKBest, chi2\n",
    "import xgboost as xgb\n",
    "from lightgbm import LGBMClassifier"
   ]
  },
  {
   "cell_type": "code",
   "execution_count": 7,
   "metadata": {},
   "outputs": [
    {
     "data": {
      "text/html": [
       "<div>\n",
       "<style scoped>\n",
       "    .dataframe tbody tr th:only-of-type {\n",
       "        vertical-align: middle;\n",
       "    }\n",
       "\n",
       "    .dataframe tbody tr th {\n",
       "        vertical-align: top;\n",
       "    }\n",
       "\n",
       "    .dataframe thead th {\n",
       "        text-align: right;\n",
       "    }\n",
       "</style>\n",
       "<table border=\"1\" class=\"dataframe\">\n",
       "  <thead>\n",
       "    <tr style=\"text-align: right;\">\n",
       "      <th></th>\n",
       "      <th>SK_ID_CURR</th>\n",
       "      <th>TARGET</th>\n",
       "      <th>CNT_CHILDREN</th>\n",
       "      <th>AMT_INCOME_TOTAL</th>\n",
       "      <th>AMT_CREDITPre_app</th>\n",
       "      <th>AMT_ANNUITYBur_mod</th>\n",
       "      <th>AMT_GOODS_PRICEPre_app</th>\n",
       "      <th>REGION_POPULATION_RELATIVE</th>\n",
       "      <th>DAYS_BIRTH</th>\n",
       "      <th>DAYS_EMPLOYED</th>\n",
       "      <th>...</th>\n",
       "      <th>NAME_SELLER_INDUSTRY_Tourism</th>\n",
       "      <th>NAME_SELLER_INDUSTRY_XNA</th>\n",
       "      <th>NAME_YIELD_GROUP_XNA</th>\n",
       "      <th>NAME_YIELD_GROUP_high</th>\n",
       "      <th>NAME_YIELD_GROUP_low_action</th>\n",
       "      <th>NAME_YIELD_GROUP_low_normal</th>\n",
       "      <th>NAME_YIELD_GROUP_middle</th>\n",
       "      <th>PRODUCT_COMBINATION_Card</th>\n",
       "      <th>PRODUCT_COMBINATION_Cash</th>\n",
       "      <th>PRODUCT_COMBINATION_POS</th>\n",
       "    </tr>\n",
       "  </thead>\n",
       "  <tbody>\n",
       "    <tr>\n",
       "      <th>0</th>\n",
       "      <td>100002</td>\n",
       "      <td>1</td>\n",
       "      <td>0</td>\n",
       "      <td>202500.0</td>\n",
       "      <td>406597.5</td>\n",
       "      <td>24700.5</td>\n",
       "      <td>351000.0</td>\n",
       "      <td>0.018801</td>\n",
       "      <td>-9461</td>\n",
       "      <td>-637</td>\n",
       "      <td>...</td>\n",
       "      <td>0.0</td>\n",
       "      <td>0.0</td>\n",
       "      <td>0.0</td>\n",
       "      <td>0.0</td>\n",
       "      <td>0.0</td>\n",
       "      <td>1.0</td>\n",
       "      <td>0.0</td>\n",
       "      <td>0.0</td>\n",
       "      <td>0.0</td>\n",
       "      <td>1.0</td>\n",
       "    </tr>\n",
       "    <tr>\n",
       "      <th>1</th>\n",
       "      <td>100003</td>\n",
       "      <td>0</td>\n",
       "      <td>0</td>\n",
       "      <td>270000.0</td>\n",
       "      <td>1293502.5</td>\n",
       "      <td>35698.5</td>\n",
       "      <td>1129500.0</td>\n",
       "      <td>0.003541</td>\n",
       "      <td>-16765</td>\n",
       "      <td>-1188</td>\n",
       "      <td>...</td>\n",
       "      <td>0.0</td>\n",
       "      <td>1.0</td>\n",
       "      <td>0.0</td>\n",
       "      <td>0.0</td>\n",
       "      <td>0.0</td>\n",
       "      <td>1.0</td>\n",
       "      <td>2.0</td>\n",
       "      <td>0.0</td>\n",
       "      <td>1.0</td>\n",
       "      <td>2.0</td>\n",
       "    </tr>\n",
       "    <tr>\n",
       "      <th>2</th>\n",
       "      <td>100004</td>\n",
       "      <td>0</td>\n",
       "      <td>0</td>\n",
       "      <td>67500.0</td>\n",
       "      <td>135000.0</td>\n",
       "      <td>6750.0</td>\n",
       "      <td>135000.0</td>\n",
       "      <td>0.010032</td>\n",
       "      <td>-19046</td>\n",
       "      <td>-225</td>\n",
       "      <td>...</td>\n",
       "      <td>0.0</td>\n",
       "      <td>0.0</td>\n",
       "      <td>0.0</td>\n",
       "      <td>0.0</td>\n",
       "      <td>0.0</td>\n",
       "      <td>0.0</td>\n",
       "      <td>1.0</td>\n",
       "      <td>0.0</td>\n",
       "      <td>0.0</td>\n",
       "      <td>1.0</td>\n",
       "    </tr>\n",
       "    <tr>\n",
       "      <th>3</th>\n",
       "      <td>100006</td>\n",
       "      <td>0</td>\n",
       "      <td>0</td>\n",
       "      <td>135000.0</td>\n",
       "      <td>312682.5</td>\n",
       "      <td>29686.5</td>\n",
       "      <td>297000.0</td>\n",
       "      <td>0.008019</td>\n",
       "      <td>-19005</td>\n",
       "      <td>-3039</td>\n",
       "      <td>...</td>\n",
       "      <td>0.0</td>\n",
       "      <td>7.0</td>\n",
       "      <td>4.0</td>\n",
       "      <td>2.0</td>\n",
       "      <td>0.0</td>\n",
       "      <td>2.0</td>\n",
       "      <td>1.0</td>\n",
       "      <td>2.0</td>\n",
       "      <td>5.0</td>\n",
       "      <td>2.0</td>\n",
       "    </tr>\n",
       "    <tr>\n",
       "      <th>4</th>\n",
       "      <td>100007</td>\n",
       "      <td>0</td>\n",
       "      <td>0</td>\n",
       "      <td>121500.0</td>\n",
       "      <td>513000.0</td>\n",
       "      <td>21865.5</td>\n",
       "      <td>513000.0</td>\n",
       "      <td>0.028663</td>\n",
       "      <td>-19932</td>\n",
       "      <td>-3038</td>\n",
       "      <td>...</td>\n",
       "      <td>0.0</td>\n",
       "      <td>2.0</td>\n",
       "      <td>0.0</td>\n",
       "      <td>3.0</td>\n",
       "      <td>0.0</td>\n",
       "      <td>0.0</td>\n",
       "      <td>3.0</td>\n",
       "      <td>0.0</td>\n",
       "      <td>4.0</td>\n",
       "      <td>2.0</td>\n",
       "    </tr>\n",
       "  </tbody>\n",
       "</table>\n",
       "<p>5 rows × 422 columns</p>\n",
       "</div>"
      ],
      "text/plain": [
       "   SK_ID_CURR  TARGET  CNT_CHILDREN  AMT_INCOME_TOTAL  AMT_CREDITPre_app  \\\n",
       "0      100002       1             0          202500.0           406597.5   \n",
       "1      100003       0             0          270000.0          1293502.5   \n",
       "2      100004       0             0           67500.0           135000.0   \n",
       "3      100006       0             0          135000.0           312682.5   \n",
       "4      100007       0             0          121500.0           513000.0   \n",
       "\n",
       "   AMT_ANNUITYBur_mod  AMT_GOODS_PRICEPre_app  REGION_POPULATION_RELATIVE  \\\n",
       "0             24700.5                351000.0                    0.018801   \n",
       "1             35698.5               1129500.0                    0.003541   \n",
       "2              6750.0                135000.0                    0.010032   \n",
       "3             29686.5                297000.0                    0.008019   \n",
       "4             21865.5                513000.0                    0.028663   \n",
       "\n",
       "   DAYS_BIRTH  DAYS_EMPLOYED           ...             \\\n",
       "0       -9461           -637           ...              \n",
       "1      -16765          -1188           ...              \n",
       "2      -19046           -225           ...              \n",
       "3      -19005          -3039           ...              \n",
       "4      -19932          -3038           ...              \n",
       "\n",
       "   NAME_SELLER_INDUSTRY_Tourism  NAME_SELLER_INDUSTRY_XNA  \\\n",
       "0                           0.0                       0.0   \n",
       "1                           0.0                       1.0   \n",
       "2                           0.0                       0.0   \n",
       "3                           0.0                       7.0   \n",
       "4                           0.0                       2.0   \n",
       "\n",
       "   NAME_YIELD_GROUP_XNA  NAME_YIELD_GROUP_high  NAME_YIELD_GROUP_low_action  \\\n",
       "0                   0.0                    0.0                          0.0   \n",
       "1                   0.0                    0.0                          0.0   \n",
       "2                   0.0                    0.0                          0.0   \n",
       "3                   4.0                    2.0                          0.0   \n",
       "4                   0.0                    3.0                          0.0   \n",
       "\n",
       "   NAME_YIELD_GROUP_low_normal  NAME_YIELD_GROUP_middle  \\\n",
       "0                          1.0                      0.0   \n",
       "1                          1.0                      2.0   \n",
       "2                          0.0                      1.0   \n",
       "3                          2.0                      1.0   \n",
       "4                          0.0                      3.0   \n",
       "\n",
       "   PRODUCT_COMBINATION_Card  PRODUCT_COMBINATION_Cash  PRODUCT_COMBINATION_POS  \n",
       "0                       0.0                       0.0                      1.0  \n",
       "1                       0.0                       1.0                      2.0  \n",
       "2                       0.0                       0.0                      1.0  \n",
       "3                       2.0                       5.0                      2.0  \n",
       "4                       0.0                       4.0                      2.0  \n",
       "\n",
       "[5 rows x 422 columns]"
      ]
     },
     "execution_count": 7,
     "metadata": {},
     "output_type": "execute_result"
    }
   ],
   "source": [
    "read_train1.head()"
   ]
  },
  {
   "cell_type": "code",
   "execution_count": 5,
   "metadata": {},
   "outputs": [
    {
     "ename": "NameError",
     "evalue": "name 'train_test_split' is not defined",
     "output_type": "error",
     "traceback": [
      "\u001b[1;31m---------------------------------------------------------------------------\u001b[0m",
      "\u001b[1;31mNameError\u001b[0m                                 Traceback (most recent call last)",
      "\u001b[1;32m<ipython-input-5-c33bb07703b9>\u001b[0m in \u001b[0;36m<module>\u001b[1;34m()\u001b[0m\n\u001b[1;32m----> 1\u001b[1;33m train_x, test_x, train_y,test_y = train_test_split(read_train1.loc[:, 'NAME_CONTRACT_TYPE':'NFLAG_INSURED_ON_APPROVAL']\n\u001b[0m\u001b[0;32m      2\u001b[0m                                                    ,read_train1[\"TARGET\"],test_size=.1, random_state=1)\n",
      "\u001b[1;31mNameError\u001b[0m: name 'train_test_split' is not defined"
     ]
    }
   ],
   "source": [
    "train_x, test_x, train_y,test_y = train_test_split(read_train1.loc[:, 'NAME_CONTRACT_TYPE':'NFLAG_INSURED_ON_APPROVAL']\n",
    "                                                   ,read_train1[\"TARGET\"],test_size=.1, random_state=1)"
   ]
  },
  {
   "cell_type": "code",
   "execution_count": 10,
   "metadata": {},
   "outputs": [],
   "source": [
    "train_x, test_x, train_y,test_y = train_test_split(read_train1.loc[:, 'CNT_CHILDREN':'PRODUCT_COMBINATION_POS']\n",
    "                                                   ,read_train1[\"TARGET\"],test_size=.1, random_state=1)"
   ]
  },
  {
   "cell_type": "code",
   "execution_count": 11,
   "metadata": {},
   "outputs": [
    {
     "data": {
      "text/plain": [
       "((276759, 420), (276759,), (30752, 420), (30752,))"
      ]
     },
     "execution_count": 11,
     "metadata": {},
     "output_type": "execute_result"
    }
   ],
   "source": [
    "train_x.shape, train_y.shape, test_x.shape,test_y.shape"
   ]
  },
  {
   "cell_type": "code",
   "execution_count": 12,
   "metadata": {},
   "outputs": [],
   "source": [
    "tree_count = 1500\n",
    "learn_rt = .01\n",
    "tree_depth = 3\n",
    "min_ch_wt =  1e-3\n",
    "colsample_tree = .632\n",
    "alpha=0.4640\n",
    "subsam= .8\n",
    "lambd=.05\n",
    "min_samples_spt = 500\n",
    "warm_st = True\n",
    "max_feat = \"auto\"\n",
    "num_leave = 64"
   ]
  },
  {
   "cell_type": "code",
   "execution_count": 149,
   "metadata": {},
   "outputs": [],
   "source": [
    "def missing_value_count_col(df,threshold = 0):\n",
    "    column = [] \n",
    "    count= []\n",
    "    percent = []\n",
    "    missing_count = df.isnull().sum().sort_values(ascending = False) > 0\n",
    "    for i in range(len(missing_count)):\n",
    "        if missing_count[i]:\n",
    "            column.append(missing_count.index[i])\n",
    "            count.append(df[missing_count.index[i]].isnull().sum())\n",
    "            percent.append(((df[missing_count.index[i]].isnull().sum())/len(df))*100)\n",
    "            # use the list and zip to concatanate the two list\n",
    "    dff =  pd.DataFrame(list(zip(column,count,percent)),columns=[\"Column\", \"Count\",\"Percent_Missing\"])\n",
    "    dff = dff[dff[ \"Percent_Missing\"] > threshold]\n",
    "    del column ,count, percent\n",
    "    print(dff.info())\n",
    "    return dff.sort_values(\"Count\", ascending=False)  \n"
   ]
  },
  {
   "cell_type": "code",
   "execution_count": 13,
   "metadata": {},
   "outputs": [],
   "source": [
    "rf = RandomForestClassifier(criterion=\"entropy\",n_estimators= tree_count,max_depth = \n",
    "                            tree_depth,min_samples_leaf = num_leave,min_samples_split = min_samples_spt)\n",
    "\n",
    "\n",
    "xgb_model = xgb.XGBClassifier(n_estimators=tree_count,learning_rate=learn_rt,\n",
    "                              max_depth=tree_depth,min_child_weight=min_ch_wt, \n",
    "                              colsample_bytree=colsample_tree, gamma=0.1, \n",
    "                              reg_alpha=alpha, reg_lambda=lambd,subsample=subsam, silent=1,\n",
    "                              random_state =8, nthread = -1, \n",
    "                              warm_start = warm_st,max_features =max_feat)\n",
    "\n",
    "\n",
    "GBoost = GradientBoostingClassifier(n_estimators=tree_count, learning_rate=0.05,\n",
    "                                   max_depth=tree_depth, max_features=max_feat ,\n",
    "                                   min_samples_leaf=15, min_samples_split=min_samples_spt,\n",
    "                                   loss='deviance',warm_start = warm_st )\n",
    "\n",
    "clf1 = LGBMClassifier(\n",
    "    \n",
    "            n_estimators=tree_count,\n",
    "            learning_rate=0.01,\n",
    "            max_depth=tree_depth,\n",
    "            num_leaves=128,\n",
    "            colsample_bytree=colsample_tree,\n",
    "            subsample=subsam,       \n",
    "            reg_alpha=alpha,\n",
    "            reg_lambda=lambd,\n",
    "            min_split_gain=.02,\n",
    "            min_child_weight=min_ch_wt,\n",
    "            verbose=-1,objective = 'binary',boosting_type = \"gbdt\")"
   ]
  },
  {
   "cell_type": "code",
   "execution_count": null,
   "metadata": {},
   "outputs": [],
   "source": [
    "read_test1_org = read_test1.copy()"
   ]
  },
  {
   "cell_type": "code",
   "execution_count": null,
   "metadata": {},
   "outputs": [],
   "source": [
    "read_test1.info()"
   ]
  },
  {
   "cell_type": "code",
   "execution_count": null,
   "metadata": {},
   "outputs": [],
   "source": [
    "train_x.shape, train_y.shape"
   ]
  },
  {
   "cell_type": "code",
   "execution_count": 14,
   "metadata": {},
   "outputs": [],
   "source": [
    "for i in range(len(test_x.columns)):\n",
    "    if (test_x[test_x.columns[i]]).dtypes == \"object\":\n",
    "        test_x[test_x.columns[i]] = (test_x[test_x.columns[i]]).astype('category')"
   ]
  },
  {
   "cell_type": "code",
   "execution_count": 15,
   "metadata": {},
   "outputs": [],
   "source": [
    "for i in range(len(train_x.columns)):\n",
    "    if (train_x[train_x.columns[i]]).dtypes == \"object\":\n",
    "        train_x[train_x.columns[i]] = (train_x[train_x.columns[i]]).astype('category')"
   ]
  },
  {
   "cell_type": "code",
   "execution_count": null,
   "metadata": {},
   "outputs": [],
   "source": [
    "for i in range(len(read_test1.columns)):\n",
    "    if (read_test1[read_test1.columns[i]]).dtypes == \"object\":\n",
    "        read_test1[read_test1.columns[i]] = (read_test1[read_test1.columns[i]]).astype('category')"
   ]
  },
  {
   "cell_type": "code",
   "execution_count": 16,
   "metadata": {},
   "outputs": [],
   "source": [
    "for i in range(len(train_x.columns)):\n",
    "    if (((train_x[train_x.columns[i]]).dtypes == \"float64\") or ((train_x[train_x.columns[i]]).dtypes == \"int64\")):\n",
    "        #test_x[test_x.columns[i]] = (test_x[test_x.columns[i]]).astype('category')\n",
    "        mean = (train_x[train_x.columns[i]]).mean()\n",
    "        std = (train_x[train_x.columns[i]]).std()\n",
    "        train_x[train_x.columns[i]] = (train_x[train_x.columns[i]] - mean)/std\n",
    "        test_x[train_x.columns[i]] = (test_x[train_x.columns[i]] - mean)/std\n",
    "        read_test1[train_x.columns[i]] = (read_test1[train_x.columns[i]] - mean)/std\n",
    "        "
   ]
  },
  {
   "cell_type": "code",
   "execution_count": null,
   "metadata": {},
   "outputs": [],
   "source": [
    "read_test1.head()"
   ]
  },
  {
   "cell_type": "code",
   "execution_count": 21,
   "metadata": {},
   "outputs": [],
   "source": [
    "from sklearn.preprocessing import StandardScaler\n",
    "sc = StandardScaler()"
   ]
  },
  {
   "cell_type": "code",
   "execution_count": null,
   "metadata": {},
   "outputs": [],
   "source": [
    "read_train_std = sc.fit_transform(train_x)\n",
    "read_test_std = sc.transform(read_test1)"
   ]
  },
  {
   "cell_type": "code",
   "execution_count": 17,
   "metadata": {},
   "outputs": [
    {
     "name": "stdout",
     "output_type": "stream",
     "text": [
      "<class 'pandas.core.frame.DataFrame'>\n",
      "Int64Index: 276759 entries, 73113 to 128037\n",
      "Columns: 420 entries, CNT_CHILDREN to PRODUCT_COMBINATION_POS\n",
      "dtypes: float64(420)\n",
      "memory usage: 888.9 MB\n"
     ]
    }
   ],
   "source": [
    "train_x.info()"
   ]
  },
  {
   "cell_type": "code",
   "execution_count": null,
   "metadata": {},
   "outputs": [],
   "source": [
    "xgb_model.fit(train_x,train_y)\n",
    "y_pred_xgb = xgb_model.predict_proba(test_x)[:,1]\n",
    "y_pred_xgb_train = xgb_model.predict_proba(train_x)[:,1]"
   ]
  },
  {
   "cell_type": "code",
   "execution_count": 176,
   "metadata": {},
   "outputs": [],
   "source": [
    "from scipy.stats import randint\n",
    "from sklearn.model_selection import RandomizedSearchCV\n",
    "from random import uniform\n"
   ]
  },
  {
   "cell_type": "code",
   "execution_count": 177,
   "metadata": {},
   "outputs": [],
   "source": [
    "param_dist = {\n",
    "            \"max_depth\": randint.rvs(2, 10, size=5),\n",
    "            \"boosting_type\": ['gbdt', 'goss', 'dart'],\n",
    "            \"subsample_for_bin\": randint.rvs(10000, 75000, size=10),\n",
    "            #\"min_samples_leaf\": randint(1, 11),\n",
    "            \"learning_rate\": np.random.uniform(low=0.001, high = 0.5, size=(10,)),\n",
    "            \"num_leaves\":randint.rvs(10, 100, size=10),\n",
    "                \n",
    "        }\n",
    "clf3 = LGBMClassifier(n_estimators= 1500,n_iter=10,random_state=10,objective = 'binary')"
   ]
  },
  {
   "cell_type": "code",
   "execution_count": 178,
   "metadata": {},
   "outputs": [],
   "source": [
    "        random_search = RandomizedSearchCV(\n",
    "            clf3, param_distributions=param_dist, refit=True,\n",
    "            scoring='roc_auc',\n",
    "            )"
   ]
  },
  {
   "cell_type": "code",
   "execution_count": 179,
   "metadata": {},
   "outputs": [],
   "source": [
    "best_model = random_search.fit(X= train_x,y= train_y) "
   ]
  },
  {
   "cell_type": "code",
   "execution_count": 180,
   "metadata": {},
   "outputs": [
    {
     "data": {
      "text/plain": [
       "LGBMClassifier(boosting_type='gbdt', class_weight=None, colsample_bytree=1.0,\n",
       "        learning_rate=0.03534312746092663, max_depth=5,\n",
       "        min_child_samples=20, min_child_weight=0.001, min_split_gain=0.0,\n",
       "        n_estimators=1500, n_iter=10, n_jobs=-1, num_leaves=82,\n",
       "        objective='binary', random_state=10, reg_alpha=0.0, reg_lambda=0.0,\n",
       "        silent=True, subsample=1.0, subsample_for_bin=55934,\n",
       "        subsample_freq=0)"
      ]
     },
     "execution_count": 180,
     "metadata": {},
     "output_type": "execute_result"
    }
   ],
   "source": [
    "best_model.best_estimator_"
   ]
  },
  {
   "cell_type": "code",
   "execution_count": null,
   "metadata": {},
   "outputs": [],
   "source": [
    "best_modelt_modelt_model"
   ]
  },
  {
   "cell_type": "code",
   "execution_count": 153,
   "metadata": {},
   "outputs": [],
   "source": [
    "y_pred_lgbm_train = clf1.predict_proba(ouu)[:,1]"
   ]
  },
  {
   "cell_type": "code",
   "execution_count": 201,
   "metadata": {},
   "outputs": [],
   "source": [
    "clf1 = LGBMClassifier(boosting_type='gbdt', class_weight=None, colsample_bytree=1.0,\n",
    "        learning_rate=0.03534312746092663, max_depth=4,\n",
    "        min_child_samples=200, min_child_weight=0.001, min_split_gain=0.0,\n",
    "        n_estimators=1500, n_iter=10, n_jobs=-1, num_leaves=256,\n",
    "        objective='binary', random_state=10, reg_alpha=0.0, reg_lambda=0.0,\n",
    "        silent=True, subsample=1.0, subsample_for_bin=55934,\n",
    "        subsample_freq=0)"
   ]
  },
  {
   "cell_type": "code",
   "execution_count": 202,
   "metadata": {},
   "outputs": [],
   "source": [
    "clf1.fit(train_x, train_y, eval_metric= 'auc', verbose= 100, early_stopping_rounds= None)\n",
    "y_pred_lgbm = clf1.predict_proba(test_x)[:,1]\n",
    "y_pred_lgbm_train = clf1.predict_proba(train_x)[:,1]"
   ]
  },
  {
   "cell_type": "code",
   "execution_count": 203,
   "metadata": {},
   "outputs": [
    {
     "name": "stdout",
     "output_type": "stream",
     "text": [
      "LightGBM AOC test : -  0.7894981161278665\n",
      "LightGBM AOC train: -  0.8323372088895022\n"
     ]
    },
    {
     "data": {
      "text/plain": [
       "'print(\"RF AOC test: - \", roc_auc_score(test_y, y_pred_rf))\\nprint(\"RF AOC train: - \", roc_auc_score(train_y, y_pred_rf_train))\\nprint(\"GradientBoosting AOC test: - \", roc_auc_score(test_y, y_pred_gb))\\nprint(\"GradientBoosting AOC train: - \", roc_auc_score(train_y, y_pred_gb_train))'"
      ]
     },
     "execution_count": 203,
     "metadata": {},
     "output_type": "execute_result"
    }
   ],
   "source": [
    "#print(\"XGBoost AOC test : - \", roc_auc_score(test_y, y_pred_xgb))\n",
    "#print(\"XGBoost AOC train: - \", roc_auc_score(train_y, y_pred_xgb_train))\n",
    "print(\"LightGBM AOC test : - \", roc_auc_score(test_y, y_pred_lgbm))\n",
    "print(\"LightGBM AOC train: - \", roc_auc_score(train_y, y_pred_lgbm_train))\n",
    "'''print(\"RF AOC test: - \", roc_auc_score(test_y, y_pred_rf))\n",
    "print(\"RF AOC train: - \", roc_auc_score(train_y, y_pred_rf_train))\n",
    "print(\"GradientBoosting AOC test: - \", roc_auc_score(test_y, y_pred_gb))\n",
    "print(\"GradientBoosting AOC train: - \", roc_auc_score(train_y, y_pred_gb_train))'''"
   ]
  },
  {
   "cell_type": "markdown",
   "metadata": {},
   "source": [
    "LightGBM AOC test : -  0.7887271233847358\n",
    "LightGBM AOC train: -  0.8719917578838822\n",
    "\n",
    "LightGBM AOC test : -  0.7877645862056746\n",
    "LightGBM AOC train: -  0.8124535976197363\n",
    "\n",
    "LightGBM AOC test : -  0.7892305872418102\n",
    "LightGBM AOC train: -  0.8813112674531898\n",
    "\n",
    "LightGBM AOC test : -  0.7892593760220578\n",
    "LightGBM AOC train: -  0.8409247808324583"
   ]
  },
  {
   "cell_type": "code",
   "execution_count": 148,
   "metadata": {},
   "outputs": [
    {
     "name": "stdout",
     "output_type": "stream",
     "text": [
      "<class 'pandas.core.frame.DataFrame'>\n",
      "Int64Index: 43 entries, 0 to 42\n",
      "Data columns (total 3 columns):\n",
      "Column             43 non-null object\n",
      "Count              43 non-null int64\n",
      "Percent_Missing    43 non-null float64\n",
      "dtypes: float64(1), int64(1), object(1)\n",
      "memory usage: 1.3+ KB\n",
      "None\n"
     ]
    }
   ],
   "source": [
    "t = missing_value_count_col(read_train1,threshold = 10)\n",
    "#print(t)"
   ]
  },
  {
   "cell_type": "code",
   "execution_count": 156,
   "metadata": {},
   "outputs": [],
   "source": [
    "train_x.fillna(0,inplace=True)\n",
    "test_x.fillna(0,inplace=True)"
   ]
  },
  {
   "cell_type": "code",
   "execution_count": 204,
   "metadata": {},
   "outputs": [],
   "source": [
    "from sklearn.decomposition import PCA\n",
    "from sklearn.discriminant_analysis import LinearDiscriminantAnalysis as LDA"
   ]
  },
  {
   "cell_type": "code",
   "execution_count": 205,
   "metadata": {},
   "outputs": [],
   "source": [
    "def calculate_dim_reduction(func = \"PCA\", train_x = None,train_y = None,component = None, ):\n",
    "    if component == None:\n",
    "        component = train_x.shape[1]\n",
    "        \n",
    "    if func == \"PCA\":\n",
    "        from sklearn.decomposition import PCA as func\n",
    "        dim_reduc = func(n_components=component)\n",
    "        hand = dim_reduc.fit(train_x)\n",
    "        trans_x = dim_reduc.fit_transform(train_x)\n",
    "    elif func == \"LDA\":\n",
    "        from  sklearn.discriminant_analysis import LinearDiscriminantAnalysis as func\n",
    "        dim_reduc = func(n_components=component)\n",
    "        hand = dim_reduc.fit(train_x, train_y)\n",
    "        trans_x = dim_reduc.fit_transform(train_x, train_y)\n",
    "    \n",
    "    \n",
    "    return trans_x, hand"
   ]
  },
  {
   "cell_type": "code",
   "execution_count": 161,
   "metadata": {},
   "outputs": [
    {
     "data": {
      "text/plain": [
       "((30752, 200), (276759, 200))"
      ]
     },
     "execution_count": 161,
     "metadata": {},
     "output_type": "execute_result"
    }
   ],
   "source": [
    "op_test.shape, op_train.shape"
   ]
  },
  {
   "cell_type": "code",
   "execution_count": null,
   "metadata": {},
   "outputs": [],
   "source": [
    "p.explained_variance_ratio_"
   ]
  },
  {
   "cell_type": "code",
   "execution_count": null,
   "metadata": {},
   "outputs": [],
   "source": [
    "y_pred_lgbm_output = clf1.predict_proba(read_test1.loc[:, 'NAME_CONTRACT_TYPE':'NFLAG_INSURED_ON_APPROVAL'])[:,1]"
   ]
  },
  {
   "cell_type": "code",
   "execution_count": null,
   "metadata": {},
   "outputs": [],
   "source": [
    "clf1.feature_importances_"
   ]
  },
  {
   "cell_type": "code",
   "execution_count": null,
   "metadata": {},
   "outputs": [],
   "source": [
    "feat_imp = pd.Series(clf1.feature_importances_, index=train_x.columns)\n",
    "feat_imp.nlargest(30).plot(kind='barh', figsize=(10,30))"
   ]
  },
  {
   "cell_type": "code",
   "execution_count": null,
   "metadata": {},
   "outputs": [],
   "source": [
    "#def calculate_LDA(train = None,train_y = None, test = None, test_y = None, component = None):\n",
    "    lda = LDA(n_components=200)\n",
    "    lda_val = lda.fit_transform(train_x, train_y)\n",
    "    "
   ]
  },
  {
   "cell_type": "code",
   "execution_count": null,
   "metadata": {},
   "outputs": [],
   "source": [
    "rf.fit(train_x,train_y)\n",
    "y_pred_rf = rf.predict_proba(test_x)[:,1]\n",
    "y_pred_rf_train = rf.predict_proba(train_x)[:,1]"
   ]
  },
  {
   "cell_type": "code",
   "execution_count": null,
   "metadata": {},
   "outputs": [],
   "source": [
    "GBoost.fit(train_x,train_y)\n",
    "y_pred_gb = GBoost.predict_proba(test_x)[:,1]\n",
    "y_pred_gb_train = GBoost.predict_proba(train_x)[:,1]"
   ]
  },
  {
   "cell_type": "markdown",
   "metadata": {},
   "source": [
    "\n",
    "LightGBM AOC test : -  0.7827453212722641\n",
    "LightGBM AOC train: -  0.8012365478472023"
   ]
  },
  {
   "cell_type": "code",
   "execution_count": null,
   "metadata": {},
   "outputs": [],
   "source": [
    "mixed_test = .25*y_pred_xgb + .75*y_pred_lgbm\n",
    "mixed_train = .4*y_pred_xgb_train + .6*y_pred_lgbm_train"
   ]
  },
  {
   "cell_type": "code",
   "execution_count": null,
   "metadata": {},
   "outputs": [],
   "source": [
    "print(\"Mixed AOC train: - \", roc_auc_score(train_y, mixed_train))\n",
    "print(\"Mixed AOC test : - \", roc_auc_score(test_y, mixed_test))"
   ]
  },
  {
   "cell_type": "code",
   "execution_count": null,
   "metadata": {},
   "outputs": [],
   "source": [
    "target =pd.DataFrame(ypred2[:,1],columns = [\"TARGET\"])\n",
    "sub  = read_test1[\"SK_ID_CURR\"]\n",
    "submission = pd.concat([sub,target], axis = 1)\n",
    "submission.to_csv(data_dir+\"lightgbm8.csv\",index = False)"
   ]
  },
  {
   "cell_type": "code",
   "execution_count": null,
   "metadata": {},
   "outputs": [],
   "source": [
    "XGBoost AOC test : -  0.7625767749261743\n",
    "XGBoost AOC train: -  0.7629340490685187\n",
    "LightGBM AOC test : -  0.7692120600773731\n",
    "LightGBM AOC train: -  0.7715573265867662"
   ]
  },
  {
   "cell_type": "code",
   "execution_count": null,
   "metadata": {},
   "outputs": [],
   "source": [
    "train_x.fillna(0,inplace=True,)"
   ]
  },
  {
   "cell_type": "code",
   "execution_count": null,
   "metadata": {},
   "outputs": [],
   "source": [
    "test_x.fillna(0, inplace=True)"
   ]
  },
  {
   "cell_type": "code",
   "execution_count": null,
   "metadata": {},
   "outputs": [],
   "source": [
    "feature_imp = {\"Column Names\": train_x.columns,\"XGB\" : xgb_model.feature_importances_, \n",
    "               'GB': GBoost.feature_importances_, \n",
    "               \"RF\": rf.feature_importances_,,\n",
    "               \"LGBM\": clf1.feature_importances_}"
   ]
  },
  {
   "cell_type": "code",
   "execution_count": null,
   "metadata": {},
   "outputs": [],
   "source": [
    "feature_df  = pd.DataFrame(data = feature_imp)"
   ]
  },
  {
   "cell_type": "code",
   "execution_count": null,
   "metadata": {},
   "outputs": [],
   "source": []
  },
  {
   "cell_type": "code",
   "execution_count": null,
   "metadata": {},
   "outputs": [],
   "source": [
    "train_x_fe = train_x[feature_df[feature_df[\"XGB\"]> 0][\"Column Names\"]]\n",
    "test_x_fe = test_x[feature_df[feature_df[\"XGB\"]> 0][\"Column Names\"]]"
   ]
  },
  {
   "cell_type": "code",
   "execution_count": null,
   "metadata": {},
   "outputs": [],
   "source": [
    "len(test_x_fe.columns), len(train_x_fe.columns)"
   ]
  },
  {
   "cell_type": "code",
   "execution_count": null,
   "metadata": {},
   "outputs": [],
   "source": [
    "read_test1.fillna(0, inplace=True)"
   ]
  },
  {
   "cell_type": "code",
   "execution_count": null,
   "metadata": {},
   "outputs": [],
   "source": [
    "read_test1_fe = read_test1[feature_df[feature_df[\"XGB\"]> 0][\"Column Names\"]]"
   ]
  },
  {
   "cell_type": "code",
   "execution_count": null,
   "metadata": {},
   "outputs": [],
   "source": [
    "read_test1_fe.head()"
   ]
  },
  {
   "cell_type": "code",
   "execution_count": null,
   "metadata": {},
   "outputs": [],
   "source": [
    "log_reg_pred_xgb  = xgb_model.predict_proba(read_test1.loc[:, 'CNT_CHILDREN':'PRODUCT_COMBINATION_POS'])[:,1]\n",
    "log_reg_pred_gb  = GBoost.predict_proba(read_test1.loc[:, 'CNT_CHILDREN':'PRODUCT_COMBINATION_POS'])[:,1]\n",
    "log_reg_pred_rf  = rf.predict_proba(read_test1.loc[:, 'CNT_CHILDREN':'PRODUCT_COMBINATION_POS'])[:,1]"
   ]
  },
  {
   "cell_type": "code",
   "execution_count": null,
   "metadata": {},
   "outputs": [],
   "source": [
    "#log_reg_pred_xgb  = xgb_model.predict_proba(read_test1_fe)[:,1]\n",
    "log_reg_pred_gb  = GBoost.predict_proba(read_test1_fe)[:,1]\n",
    "#log_reg_pred_rf  = rf.predict_proba(read_test1.loc[:, 'CNT_CHILDREN':'PRODUCT_COMBINATION_POS'])[:,1]"
   ]
  },
  {
   "cell_type": "code",
   "execution_count": null,
   "metadata": {},
   "outputs": [],
   "source": [
    "final_output = 0.2*(log_reg_pred_xgb) + .8*(log_reg_pred_gb)# + .1*(log_reg_pred_rf)"
   ]
  },
  {
   "cell_type": "code",
   "execution_count": null,
   "metadata": {},
   "outputs": [],
   "source": [
    "target =pd.DataFrame(y_pred_lgbm_output,columns = [\"TARGET\"])\n",
    "sub  = read_test1[\"SK_ID_CURR\"]\n",
    "submission = pd.concat([sub,target], axis = 1)\n",
    "submission.to_csv(data_dir+\"lightgbmrandom3.csv\",index = False)"
   ]
  },
  {
   "cell_type": "code",
   "execution_count": null,
   "metadata": {},
   "outputs": [],
   "source": [
    "ypred2[:,1].shape"
   ]
  },
  {
   "cell_type": "code",
   "execution_count": null,
   "metadata": {},
   "outputs": [],
   "source": [
    "y_pred_lgbm_output"
   ]
  },
  {
   "cell_type": "code",
   "execution_count": null,
   "metadata": {},
   "outputs": [],
   "source": [
    "df1 = pd.DataFrame({'Nit': ['A', 'B', 'B', 'D',\"H\" ],'vakk': np.random.randn(5), 'va': np.random.randn(5)})"
   ]
  },
  {
   "cell_type": "code",
   "execution_count": null,
   "metadata": {},
   "outputs": [],
   "source": [
    "df2 = pd.DataFrame({'Nit': ['B', 'D', 'E'],'vak': [\"a\",\"w\",\"w\"]})"
   ]
  },
  {
   "cell_type": "code",
   "execution_count": null,
   "metadata": {},
   "outputs": [],
   "source": [
    "df1"
   ]
  },
  {
   "cell_type": "code",
   "execution_count": null,
   "metadata": {},
   "outputs": [],
   "source": [
    "list(df1)"
   ]
  },
  {
   "cell_type": "code",
   "execution_count": null,
   "metadata": {},
   "outputs": [],
   "source": [
    "df3 = df1.merge( df2, on='Nit', how = \"left\",indicator= \"True\",)"
   ]
  },
  {
   "cell_type": "code",
   "execution_count": null,
   "metadata": {},
   "outputs": [],
   "source": [
    "list(df3)"
   ]
  },
  {
   "cell_type": "code",
   "execution_count": null,
   "metadata": {},
   "outputs": [],
   "source": [
    "df3.columns.get_duplicates"
   ]
  },
  {
   "cell_type": "code",
   "execution_count": null,
   "metadata": {},
   "outputs": [],
   "source": [
    "df1[\"va\"] < 0"
   ]
  },
  {
   "cell_type": "code",
   "execution_count": null,
   "metadata": {},
   "outputs": [],
   "source": [
    "df1[df1[\"va\"] < 0]"
   ]
  },
  {
   "cell_type": "code",
   "execution_count": null,
   "metadata": {},
   "outputs": [],
   "source": [
    "df1.loc[3,\"Nit\"]"
   ]
  },
  {
   "cell_type": "code",
   "execution_count": null,
   "metadata": {},
   "outputs": [],
   "source": [
    "df1.iloc[4,1]"
   ]
  },
  {
   "cell_type": "code",
   "execution_count": null,
   "metadata": {},
   "outputs": [],
   "source": [
    "previous_application.columns"
   ]
  },
  {
   "cell_type": "code",
   "execution_count": null,
   "metadata": {},
   "outputs": [],
   "source": []
  }
 ],
 "metadata": {
  "kernelspec": {
   "display_name": "Python 3",
   "language": "python",
   "name": "python3"
  },
  "language_info": {
   "codemirror_mode": {
    "name": "ipython",
    "version": 3
   },
   "file_extension": ".py",
   "mimetype": "text/x-python",
   "name": "python",
   "nbconvert_exporter": "python",
   "pygments_lexer": "ipython3",
   "version": "3.6.5"
  }
 },
 "nbformat": 4,
 "nbformat_minor": 2
}
