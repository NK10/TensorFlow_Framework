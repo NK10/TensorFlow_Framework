{
 "cells": [
  {
   "cell_type": "code",
   "execution_count": 1,
   "metadata": {},
   "outputs": [],
   "source": [
    "import numpy as np\n",
    "import pandas as pd\n",
    "import matplotlib.pyplot as plt\n",
    "import seaborn as sas"
   ]
  },
  {
   "cell_type": "code",
   "execution_count": 2,
   "metadata": {},
   "outputs": [],
   "source": [
    "data_dir =  \"C:/Machine Learning/Hackathons/Kaggle/Home_Credit_Group/\""
   ]
  },
  {
   "cell_type": "code",
   "execution_count": null,
   "metadata": {},
   "outputs": [],
   "source": [
    "bureau_balance =  pd.read_csv(data_dir+\"bureau_balance.csv\", )\n",
    "bureau =  pd.read_csv(data_dir+\"bureau.csv\")\n",
    "credit_card_balance =  pd.read_csv(data_dir+\"credit_card_balance.csv\")\n",
    "installments_payments =  pd.read_csv(data_dir+\"installments_payments.csv\")\n",
    "POS_CASH_balance =  pd.read_csv(data_dir+\"POS_CASH_balance.csv\")\n",
    "previous_application=  pd.read_csv(data_dir+\"previous_application.csv\")"
   ]
  },
  {
   "cell_type": "code",
   "execution_count": null,
   "metadata": {},
   "outputs": [],
   "source": [
    "read_train1 = pd.read_csv(data_dir+\"application_train.csv\")\n",
    "read_test1 = pd.read_csv(data_dir+\"application_test.csv\")"
   ]
  },
  {
   "cell_type": "markdown",
   "metadata": {},
   "source": [
    "Use the below file for the combined features (merged with train and test file) of all the files for this project"
   ]
  },
  {
   "cell_type": "code",
   "execution_count": 3,
   "metadata": {},
   "outputs": [],
   "source": [
    "read_test1 = pd.read_csv(data_dir+\"final_combined_test_file.csv\")\n",
    "read_train1 =pd.read_csv(data_dir+\"final_combined_train_file.csv\")"
   ]
  },
  {
   "cell_type": "code",
   "execution_count": 4,
   "metadata": {},
   "outputs": [
    {
     "data": {
      "text/plain": [
       "((48744, 421), (307511, 422))"
      ]
     },
     "execution_count": 4,
     "metadata": {},
     "output_type": "execute_result"
    }
   ],
   "source": [
    "read_test1.shape, read_train1.shape"
   ]
  },
  {
   "cell_type": "code",
   "execution_count": null,
   "metadata": {},
   "outputs": [],
   "source": [
    "print(\"train shape \",read_train1.shape)\n",
    "print(\"test shape \",read_test1.shape)\n",
    "print(\"previous_application\" , previous_application.shape)\n",
    "print(\"bureau\", bureau.shape)\n",
    "print(\"bureau_balance\",bureau_balance.shape)\n",
    "print(\"credit_card_balance\",credit_card_balance.shape)\n",
    "print(\"installments_payments\",installments_payments.shape)\n",
    "print(\"POS_CASH_balance\", POS_CASH_balance.shape)\n"
   ]
  },
  {
   "cell_type": "code",
   "execution_count": null,
   "metadata": {},
   "outputs": [],
   "source": [
    "corr_train = read_train1.corr()"
   ]
  },
  {
   "cell_type": "code",
   "execution_count": null,
   "metadata": {},
   "outputs": [],
   "source": [
    "corr_train.head(50)"
   ]
  },
  {
   "cell_type": "code",
   "execution_count": null,
   "metadata": {},
   "outputs": [],
   "source": [
    "sas.distplot(read_train1[\"TARGET\"])"
   ]
  },
  {
   "cell_type": "code",
   "execution_count": null,
   "metadata": {},
   "outputs": [],
   "source": [
    "missing_val_col_name  = (read_train1.isnull().sum()*100/len(read_train1)).sort_values(ascending=False) > 0.0\n",
    "read_train1[missing_val_col_name.index].head()"
   ]
  },
  {
   "cell_type": "code",
   "execution_count": null,
   "metadata": {},
   "outputs": [],
   "source": [
    "for i in range(len(missing_val_col_name)):\n",
    "    \n",
    "    if  missing_val_col_name[i]:\n",
    "        #temp = read_train[missing_val_col_name.index[i]].mode()[0]\n",
    "        if read_train1[missing_val_col_name.index[i]].dtypes == \"object\":\n",
    "            #print(read_train[missing_val_col_name.index[i]].groupby(read_train[missing_val_col_name.index[i]]).size())\n",
    "            read_train1[missing_val_col_name.index[i]] = read_train1[missing_val_col_name.index[i]].fillna(read_train1[missing_val_col_name.index[i]].mode()[0])\n",
    "            \n",
    "            #read_train[missing_val_col_name.index[i]] = read_train[missing_val_col_name.index[i]].fillna(temp)\n",
    "        if read_train1[missing_val_col_name.index[i]].dtypes == \"float64\":\n",
    "            #read_train[missing_val_col_name.index[i]] = read_train[missing_val_col_name.index[i]].fillna(0)\n",
    "            read_train1[missing_val_col_name.index[i]] = read_train1[missing_val_col_name.index[i]].fillna(read_train1[missing_val_col_name.index[i]].mean())\n",
    "            "
   ]
  },
  {
   "cell_type": "code",
   "execution_count": null,
   "metadata": {},
   "outputs": [],
   "source": [
    "read_train1.loc[read_train1[\"CODE_GENDER\"] == \"XNA\",'CODE_GENDER'] = \"F\"\n",
    "read_train1.loc[read_train1[\"NAME_INCOME_TYPE\"] == \"Maternity leave\",'NAME_INCOME_TYPE'] = \"Working\"\n",
    "read_train1.loc[read_train1[\"NAME_FAMILY_STATUS\"] == \"Unknown\",'NAME_FAMILY_STATUS'] = \"Married\""
   ]
  },
  {
   "cell_type": "code",
   "execution_count": null,
   "metadata": {},
   "outputs": [],
   "source": [
    "read_train1 = pd.get_dummies(data= read_train1)"
   ]
  },
  {
   "cell_type": "code",
   "execution_count": null,
   "metadata": {},
   "outputs": [],
   "source": [
    "missing_val_col_name_test  = (read_test1.isnull().sum()*100/len(read_test1)).sort_values(ascending=False) > 0.0"
   ]
  },
  {
   "cell_type": "code",
   "execution_count": null,
   "metadata": {},
   "outputs": [],
   "source": [
    "for i in range(len(missing_val_col_name_test)):\n",
    "    if  missing_val_col_name_test[i]:\n",
    "        if read_test1[missing_val_col_name_test.index[i]].dtypes == \"object\":\n",
    "            \n",
    "            #print(read_train[missing_val_col_name.index[i]].dtypes, \"value of i : \",i)\n",
    "            #read_test1[missing_val_col_name_test.index[i]] = read_test1[missing_val_col_name_test.index[i]].fillna('None')\n",
    "            read_test1[missing_val_col_name_test.index[i]] = read_test1[missing_val_col_name_test.index[i]].fillna(read_test1[missing_val_col_name_test.index[i]].mode()[0])\n",
    "        if read_test1[missing_val_col_name_test.index[i]].dtypes == \"float64\":\n",
    "            \n",
    "            #print(read_train[missing_val_col_name.index[i]].dtypes, \"value of i : \",i)\n",
    "            #read_test1[missing_val_col_name_test.index[i]] = read_test1[missing_val_col_name_test.index[i]].fillna(0)\n",
    "            read_test1[missing_val_col_name_test.index[i]] = read_test1[missing_val_col_name_test.index[i]].fillna(read_test1[missing_val_col_name_test.index[i]].mean())"
   ]
  },
  {
   "cell_type": "code",
   "execution_count": null,
   "metadata": {},
   "outputs": [],
   "source": [
    "read_test1 = pd.get_dummies(read_test1)"
   ]
  },
  {
   "cell_type": "markdown",
   "metadata": {},
   "source": [
    "## POS_CASH_Balance data"
   ]
  },
  {
   "cell_type": "code",
   "execution_count": null,
   "metadata": {},
   "outputs": [],
   "source": [
    "POS_CASH_balance.head()"
   ]
  },
  {
   "cell_type": "code",
   "execution_count": null,
   "metadata": {},
   "outputs": [],
   "source": [
    "POS_CASH_balance.corr()"
   ]
  },
  {
   "cell_type": "code",
   "execution_count": null,
   "metadata": {},
   "outputs": [],
   "source": [
    "POS_CASH_balance.loc[POS_CASH_balance[\"NAME_CONTRACT_STATUS\"] ==  \"Amortized debt\",\"NAME_CONTRACT_STATUS\" ] = \"Active\"\n",
    "POS_CASH_balance.loc[POS_CASH_balance[\"NAME_CONTRACT_STATUS\"] ==  \"Approved\",\"NAME_CONTRACT_STATUS\" ] = \"Active\"\n",
    "POS_CASH_balance.loc[POS_CASH_balance[\"NAME_CONTRACT_STATUS\"] ==  \"Canceled\",\"NAME_CONTRACT_STATUS\" ] = \"Completed\"\n",
    "POS_CASH_balance.loc[POS_CASH_balance[\"NAME_CONTRACT_STATUS\"] ==  \"Demand\",\"NAME_CONTRACT_STATUS\" ] = \"Active\"\n",
    "POS_CASH_balance.loc[POS_CASH_balance[\"NAME_CONTRACT_STATUS\"] ==  \"Returned to the store\",\"NAME_CONTRACT_STATUS\" ] = \"Active\"\n",
    "POS_CASH_balance.loc[POS_CASH_balance[\"NAME_CONTRACT_STATUS\"] ==  \"Signed\",\"NAME_CONTRACT_STATUS\" ] = \"Active\"\n",
    "POS_CASH_balance.loc[POS_CASH_balance[\"NAME_CONTRACT_STATUS\"] ==  \"XNA\",\"NAME_CONTRACT_STATUS\" ] = \"Active\""
   ]
  },
  {
   "cell_type": "code",
   "execution_count": null,
   "metadata": {},
   "outputs": [],
   "source": [
    "prev_loans = POS_CASH_balance.groupby([POS_CASH_balance[ \"SK_ID_CURR\"],POS_CASH_balance[ \"NAME_CONTRACT_STATUS\"]  ]).size()"
   ]
  },
  {
   "cell_type": "code",
   "execution_count": null,
   "metadata": {},
   "outputs": [],
   "source": [
    "prev_loans = prev_loans.reset_index()"
   ]
  },
  {
   "cell_type": "code",
   "execution_count": null,
   "metadata": {},
   "outputs": [],
   "source": [
    "#prev_loans.head(3)"
   ]
  },
  {
   "cell_type": "code",
   "execution_count": null,
   "metadata": {},
   "outputs": [],
   "source": [
    "#POS_CASH_balance.head(5)"
   ]
  },
  {
   "cell_type": "code",
   "execution_count": null,
   "metadata": {},
   "outputs": [],
   "source": [
    "prev_loans_active = prev_loans[prev_loans[\"NAME_CONTRACT_STATUS\"] ==  \"Active\"].copy()\n",
    "prev_loans_completed = prev_loans[prev_loans[\"NAME_CONTRACT_STATUS\"] ==  \"Completed\"].copy()"
   ]
  },
  {
   "cell_type": "code",
   "execution_count": null,
   "metadata": {},
   "outputs": [],
   "source": [
    "#prev_loans_completed.shape, prev_loans_active.shape"
   ]
  },
  {
   "cell_type": "code",
   "execution_count": null,
   "metadata": {},
   "outputs": [],
   "source": [
    "prev_loans_active.rename(columns={0:\"#_Active_Prev_Cont\"}, inplace=True)\n",
    "prev_loans_completed.rename(columns={0:\"#_Completed_Prev_Cont\"}, inplace=True)"
   ]
  },
  {
   "cell_type": "code",
   "execution_count": null,
   "metadata": {},
   "outputs": [],
   "source": [
    "#prev_loans_completed[\"SK_ID_CURR\"].nunique(), prev_loans_active[\"SK_ID_CURR\"].nunique()"
   ]
  },
  {
   "cell_type": "code",
   "execution_count": null,
   "metadata": {},
   "outputs": [],
   "source": [
    "prev_loans_active.drop(\"NAME_CONTRACT_STATUS\",axis = 1, inplace=True)"
   ]
  },
  {
   "cell_type": "code",
   "execution_count": null,
   "metadata": {},
   "outputs": [],
   "source": [
    "prev_loans_completed.drop(\"NAME_CONTRACT_STATUS\", axis=1, inplace=True)"
   ]
  },
  {
   "cell_type": "code",
   "execution_count": null,
   "metadata": {},
   "outputs": [],
   "source": [
    "#prev_loans.groupby(prev_loans[\"NAME_CONTRACT_STATUS\"]).size()"
   ]
  },
  {
   "cell_type": "code",
   "execution_count": null,
   "metadata": {},
   "outputs": [],
   "source": [
    "POS_CASH_balance_mod = POS_CASH_balance.groupby([POS_CASH_balance[ \"SK_ID_CURR\"]]).sum().copy()"
   ]
  },
  {
   "cell_type": "code",
   "execution_count": null,
   "metadata": {},
   "outputs": [],
   "source": [
    "POS_CASH_balance_mod.drop(\"SK_ID_PREV\", axis = 1, inplace=True)"
   ]
  },
  {
   "cell_type": "code",
   "execution_count": null,
   "metadata": {},
   "outputs": [],
   "source": [
    "POS_CASH_balance_mod.head()"
   ]
  },
  {
   "cell_type": "code",
   "execution_count": null,
   "metadata": {},
   "outputs": [],
   "source": [
    "POS_CASH_balance_mod = POS_CASH_balance_mod.reset_index()"
   ]
  },
  {
   "cell_type": "code",
   "execution_count": null,
   "metadata": {},
   "outputs": [],
   "source": [
    "read_train1 =  read_train1.merge(POS_CASH_balance_mod, on = \"SK_ID_CURR\" , how  = \"left\", suffixes=(\"POS_C_B\",\"DS\"))"
   ]
  },
  {
   "cell_type": "code",
   "execution_count": null,
   "metadata": {},
   "outputs": [],
   "source": [
    "read_train1 =  read_train1.merge(prev_loans_active, on = \"SK_ID_CURR\" , how  = \"left\", suffixes=(\"POS_C_B_A\",\"DS\"))\n",
    "read_train1 =  read_train1.merge(prev_loans_completed, on = \"SK_ID_CURR\" , how  = \"left\", suffixes=(\"POS_C_B_C\",\"DS\"))"
   ]
  },
  {
   "cell_type": "code",
   "execution_count": null,
   "metadata": {},
   "outputs": [],
   "source": [
    "#prev_loans_active.shape, prev_loans_active[\"SK_ID_CURR\"].nunique()"
   ]
  },
  {
   "cell_type": "code",
   "execution_count": null,
   "metadata": {},
   "outputs": [],
   "source": [
    "read_train1.shape, read_test1.shape"
   ]
  },
  {
   "cell_type": "code",
   "execution_count": null,
   "metadata": {},
   "outputs": [],
   "source": [
    "#read_train1.head(2)"
   ]
  },
  {
   "cell_type": "code",
   "execution_count": null,
   "metadata": {},
   "outputs": [],
   "source": [
    "#read_train1.drop([\"NAME_CONTRACT_STATUS_x\",\"0_x\",\"NAME_CONTRACT_STATUS_y\",\"0_y\"], axis=1, inplace=True)"
   ]
  },
  {
   "cell_type": "code",
   "execution_count": null,
   "metadata": {},
   "outputs": [],
   "source": [
    "read_test1 = read_test1.merge(POS_CASH_balance_mod, on = \"SK_ID_CURR\" , how  = \"left\", suffixes=(\"POS_C_B\",\"DS\"))"
   ]
  },
  {
   "cell_type": "code",
   "execution_count": null,
   "metadata": {},
   "outputs": [],
   "source": [
    "read_test1 = read_test1.merge(prev_loans_active, on = \"SK_ID_CURR\" , how  = \"left\",suffixes=(\"POS_C_B_A\",\"DS\"))\n",
    "read_test1 = read_test1.merge(prev_loans_completed, on = \"SK_ID_CURR\" , how  = \"left\",suffixes=(\"POS_C_B_A\",\"DS\"))"
   ]
  },
  {
   "cell_type": "code",
   "execution_count": null,
   "metadata": {},
   "outputs": [],
   "source": [
    "#read_test1.shape, read_train1.shape "
   ]
  },
  {
   "cell_type": "code",
   "execution_count": null,
   "metadata": {
    "scrolled": true
   },
   "outputs": [],
   "source": [
    "#read_test1[\"SK_ID_CURR\"].nunique(), read_train1[\"SK_ID_CURR\"].nunique()"
   ]
  },
  {
   "cell_type": "markdown",
   "metadata": {},
   "source": [
    "# # installments_payments Data"
   ]
  },
  {
   "cell_type": "code",
   "execution_count": null,
   "metadata": {},
   "outputs": [],
   "source": [
    "#installments_payments.head(3)"
   ]
  },
  {
   "cell_type": "code",
   "execution_count": null,
   "metadata": {},
   "outputs": [],
   "source": [
    "#installments_payments.shape"
   ]
  },
  {
   "cell_type": "code",
   "execution_count": null,
   "metadata": {},
   "outputs": [],
   "source": [
    "installments_payments_mod =  installments_payments.groupby(installments_payments[\"SK_ID_CURR\"]).sum()"
   ]
  },
  {
   "cell_type": "code",
   "execution_count": null,
   "metadata": {},
   "outputs": [],
   "source": [
    "installments_payments_mod = installments_payments_mod.reset_index()"
   ]
  },
  {
   "cell_type": "code",
   "execution_count": null,
   "metadata": {},
   "outputs": [],
   "source": [
    "#installments_payments_mod.head(4)"
   ]
  },
  {
   "cell_type": "code",
   "execution_count": null,
   "metadata": {},
   "outputs": [],
   "source": [
    "#read_train1.shape, read_test1.shape, installments_payments_mod.shape"
   ]
  },
  {
   "cell_type": "code",
   "execution_count": null,
   "metadata": {},
   "outputs": [],
   "source": [
    "installments_payments_mod.drop(\"SK_ID_PREV\", axis=1, inplace=True)"
   ]
  },
  {
   "cell_type": "code",
   "execution_count": null,
   "metadata": {},
   "outputs": [],
   "source": [
    "read_train1 = read_train1.merge(installments_payments_mod, on = \"SK_ID_CURR\", how  = \"left\",suffixes=(\"instal_pay\",\"DS\"))"
   ]
  },
  {
   "cell_type": "code",
   "execution_count": null,
   "metadata": {},
   "outputs": [],
   "source": [
    "read_test1 =  read_test1.merge(installments_payments_mod, on = \"SK_ID_CURR\", how  = \"left\",suffixes=(\"instal_pay\",\"DS\"))"
   ]
  },
  {
   "cell_type": "code",
   "execution_count": null,
   "metadata": {},
   "outputs": [],
   "source": [
    "read_train1.shape, read_test1.shape, installments_payments_mod.shape"
   ]
  },
  {
   "cell_type": "markdown",
   "metadata": {},
   "source": [
    "# # Credit_Card_balance Data"
   ]
  },
  {
   "cell_type": "code",
   "execution_count": null,
   "metadata": {},
   "outputs": [],
   "source": [
    "#print(credit_card_balance.shape)\n",
    "#credit_card_balance.head(3)"
   ]
  },
  {
   "cell_type": "code",
   "execution_count": null,
   "metadata": {},
   "outputs": [],
   "source": [
    "#credit_card_balance.groupby(credit_card_balance[\"NAME_CONTRACT_STATUS\"]).size()"
   ]
  },
  {
   "cell_type": "code",
   "execution_count": null,
   "metadata": {},
   "outputs": [],
   "source": [
    "credit_card_balance.loc[credit_card_balance[\"NAME_CONTRACT_STATUS\"] ==  \"Signed\",\"NAME_CONTRACT_STATUS\" ] = \"Active\"\n",
    "credit_card_balance.loc[credit_card_balance[\"NAME_CONTRACT_STATUS\"] ==  \"Sent proposal\",\"NAME_CONTRACT_STATUS\" ] = \"Active\"\n",
    "credit_card_balance.loc[credit_card_balance[\"NAME_CONTRACT_STATUS\"] ==  \"Refused\",\"NAME_CONTRACT_STATUS\" ] = \"Completed\"\n",
    "credit_card_balance.loc[credit_card_balance[\"NAME_CONTRACT_STATUS\"] ==  \"Demand\",\"NAME_CONTRACT_STATUS\" ] = \"Active\"\n",
    "credit_card_balance.loc[credit_card_balance[\"NAME_CONTRACT_STATUS\"] ==  \"Approved\",\"NAME_CONTRACT_STATUS\" ] = \"Active\""
   ]
  },
  {
   "cell_type": "code",
   "execution_count": null,
   "metadata": {},
   "outputs": [],
   "source": [
    "credit_card_balance_mod = credit_card_balance.groupby(credit_card_balance[\"SK_ID_CURR\"]).sum().copy()"
   ]
  },
  {
   "cell_type": "code",
   "execution_count": null,
   "metadata": {},
   "outputs": [],
   "source": [
    "credit_card_balance_mod = credit_card_balance_mod.reset_index()"
   ]
  },
  {
   "cell_type": "code",
   "execution_count": null,
   "metadata": {},
   "outputs": [],
   "source": [
    "#credit_card_balance_mod.head(3)"
   ]
  },
  {
   "cell_type": "code",
   "execution_count": null,
   "metadata": {},
   "outputs": [],
   "source": [
    "credit_card_balance_mod.drop(\"SK_ID_PREV\", axis=1, inplace=True)"
   ]
  },
  {
   "cell_type": "code",
   "execution_count": null,
   "metadata": {},
   "outputs": [],
   "source": [
    "read_train1 =  read_train1.merge(credit_card_balance_mod, on = \"SK_ID_CURR\" , how  = \"left\",suffixes=(\"CC_bal\",\"DS\"))"
   ]
  },
  {
   "cell_type": "code",
   "execution_count": null,
   "metadata": {},
   "outputs": [],
   "source": [
    "read_test1 = read_test1.merge(credit_card_balance_mod, on = \"SK_ID_CURR\" , how  = \"left\",suffixes=(\"CC_bal\",\"DS\"))"
   ]
  },
  {
   "cell_type": "code",
   "execution_count": null,
   "metadata": {},
   "outputs": [],
   "source": [
    "#read_test1.shape, read_train1.shape"
   ]
  },
  {
   "cell_type": "code",
   "execution_count": null,
   "metadata": {},
   "outputs": [],
   "source": [
    "#read_train1.head(5)"
   ]
  },
  {
   "cell_type": "code",
   "execution_count": null,
   "metadata": {},
   "outputs": [],
   "source": [
    "prev_balance = credit_card_balance.groupby([credit_card_balance[\"SK_ID_CURR\"], credit_card_balance[\"NAME_CONTRACT_STATUS\"]]).size().copy()"
   ]
  },
  {
   "cell_type": "code",
   "execution_count": null,
   "metadata": {},
   "outputs": [],
   "source": [
    "prev_balance = prev_balance.reset_index()\n",
    "#prev_balance.head(6)"
   ]
  },
  {
   "cell_type": "code",
   "execution_count": null,
   "metadata": {},
   "outputs": [],
   "source": [
    "prev_balance_active = prev_balance[prev_balance[\"NAME_CONTRACT_STATUS\"] == \"Active\"].copy()\n",
    "prev_balance_completed = prev_balance[prev_balance[\"NAME_CONTRACT_STATUS\"] == \"Completed\"].copy()"
   ]
  },
  {
   "cell_type": "code",
   "execution_count": null,
   "metadata": {},
   "outputs": [],
   "source": [
    "#prev_balance_active.shape"
   ]
  },
  {
   "cell_type": "code",
   "execution_count": null,
   "metadata": {},
   "outputs": [],
   "source": [
    "prev_balance_active.rename(columns={0:\"#_Active_Prev_balance\"}, inplace=True)\n",
    "prev_balance_completed.rename(columns={0:\"#_Completed_Prev_balance\"}, inplace=True)"
   ]
  },
  {
   "cell_type": "code",
   "execution_count": null,
   "metadata": {},
   "outputs": [],
   "source": [
    "prev_balance_active.drop(\"NAME_CONTRACT_STATUS\",axis = 1, inplace=True)"
   ]
  },
  {
   "cell_type": "code",
   "execution_count": null,
   "metadata": {},
   "outputs": [],
   "source": [
    "prev_balance_completed.drop(\"NAME_CONTRACT_STATUS\",axis = 1, inplace=True)"
   ]
  },
  {
   "cell_type": "code",
   "execution_count": null,
   "metadata": {},
   "outputs": [],
   "source": [
    "#prev_balance_active.head(6)"
   ]
  },
  {
   "cell_type": "code",
   "execution_count": null,
   "metadata": {},
   "outputs": [],
   "source": [
    "read_train1 =  read_train1.merge(prev_balance_active, on = \"SK_ID_CURR\" , how  = \"left\",suffixes=(\"Prev_bal\",\"DS\"))\n",
    "read_train1 =  read_train1.merge(prev_balance_completed, on = \"SK_ID_CURR\" , how  = \"left\",suffixes=(\"Prev_bal\",\"DS\"))"
   ]
  },
  {
   "cell_type": "code",
   "execution_count": null,
   "metadata": {},
   "outputs": [],
   "source": [
    "#read_test1.shape, read_train1.shape"
   ]
  },
  {
   "cell_type": "code",
   "execution_count": null,
   "metadata": {},
   "outputs": [],
   "source": [
    "read_test1 = read_test1.merge(prev_balance_active, on = \"SK_ID_CURR\" , how  = \"left\",suffixes=(\"Prev_bal\",\"DS\"))\n",
    "read_test1 = read_test1.merge(prev_balance_completed, on = \"SK_ID_CURR\" , how  = \"left\",suffixes=(\"Prev_bal\",\"DS\"))"
   ]
  },
  {
   "cell_type": "code",
   "execution_count": null,
   "metadata": {},
   "outputs": [],
   "source": [
    "read_test1.shape, read_train1.shape"
   ]
  },
  {
   "cell_type": "code",
   "execution_count": null,
   "metadata": {},
   "outputs": [],
   "source": [
    "#read_test1.head(3)"
   ]
  },
  {
   "cell_type": "code",
   "execution_count": null,
   "metadata": {},
   "outputs": [],
   "source": [
    "#read_train1.head(3)"
   ]
  },
  {
   "cell_type": "markdown",
   "metadata": {},
   "source": [
    "# Bureau_balance Data"
   ]
  },
  {
   "cell_type": "code",
   "execution_count": null,
   "metadata": {},
   "outputs": [],
   "source": [
    "bureau_balance.head(3)"
   ]
  },
  {
   "cell_type": "code",
   "execution_count": null,
   "metadata": {},
   "outputs": [],
   "source": [
    "#bureau_balance.groupby(bureau_balance[\"STATUS\"]).size()"
   ]
  },
  {
   "cell_type": "code",
   "execution_count": null,
   "metadata": {},
   "outputs": [],
   "source": [
    "bureau_balance.loc[bureau_balance[\"STATUS\"]== \"0\",\"STATUS\" ] = \"Other_0-5\"\n",
    "bureau_balance.loc[bureau_balance[\"STATUS\"]== \"1\",\"STATUS\" ] = \"Other_0-5\"\n",
    "bureau_balance.loc[bureau_balance[\"STATUS\"]== \"2\",\"STATUS\" ] = \"Other_0-5\"\n",
    "bureau_balance.loc[bureau_balance[\"STATUS\"]== \"3\",\"STATUS\" ] = \"Other_0-5\"\n",
    "bureau_balance.loc[bureau_balance[\"STATUS\"]== \"4\",\"STATUS\" ] = \"Other_0-5\"\n",
    "bureau_balance.loc[bureau_balance[\"STATUS\"]== \"5\",\"STATUS\" ] = \"Other_0-5\""
   ]
  },
  {
   "cell_type": "code",
   "execution_count": null,
   "metadata": {},
   "outputs": [],
   "source": [
    "bureau_balance_mod = bureau_balance.groupby([bureau_balance[\"SK_ID_BUREAU\"], bureau_balance[\"STATUS\"]]).size().copy()"
   ]
  },
  {
   "cell_type": "code",
   "execution_count": null,
   "metadata": {},
   "outputs": [],
   "source": [
    "#bureau_balance_mod.head(6)"
   ]
  },
  {
   "cell_type": "code",
   "execution_count": null,
   "metadata": {},
   "outputs": [],
   "source": [
    "bureau_balance_mod = bureau_balance_mod.reset_index()"
   ]
  },
  {
   "cell_type": "code",
   "execution_count": null,
   "metadata": {},
   "outputs": [],
   "source": [
    "bureau_balance_mod_C = bureau_balance_mod[bureau_balance_mod[\"STATUS\"] == \"C\"].copy()\n",
    "bureau_balance_mod_X = bureau_balance_mod[bureau_balance_mod[\"STATUS\"] == \"X\"].copy()\n",
    "bureau_balance_mod_Other_0_5 = bureau_balance_mod[bureau_balance_mod[\"STATUS\"] == \"Other_0-5\"].copy()"
   ]
  },
  {
   "cell_type": "code",
   "execution_count": null,
   "metadata": {},
   "outputs": [],
   "source": [
    "bureau_balance_mod_C.rename(columns={0: \"bureau_balance_C\"}, inplace= True)\n",
    "bureau_balance_mod_X.rename(columns={0: \"bureau_balance_X\"}, inplace= True)\n",
    "bureau_balance_mod_Other_0_5.rename(columns={0: \"bureau_balance_Other_0_5\"}, inplace= True)"
   ]
  },
  {
   "cell_type": "code",
   "execution_count": null,
   "metadata": {},
   "outputs": [],
   "source": [
    "bureau_balance_mod_C.drop(\"STATUS\", axis  =1 , inplace=True)\n",
    "bureau_balance_mod_X.drop(\"STATUS\", axis  =1 , inplace=True)\n",
    "bureau_balance_mod_Other_0_5.drop(\"STATUS\", axis  =1 , inplace=True)"
   ]
  },
  {
   "cell_type": "code",
   "execution_count": null,
   "metadata": {},
   "outputs": [],
   "source": [
    "#len(bureau_balance[\"SK_ID_BUREAU\"]), bureau_balance[\"SK_ID_BUREAU\"].unique()"
   ]
  },
  {
   "cell_type": "code",
   "execution_count": null,
   "metadata": {},
   "outputs": [],
   "source": [
    "bureau_balance_sum = bureau_balance.groupby(bureau_balance[\"SK_ID_BUREAU\"]).sum().copy()"
   ]
  },
  {
   "cell_type": "code",
   "execution_count": null,
   "metadata": {},
   "outputs": [],
   "source": [
    "bureau_balance_sum.rename(columns={'MONTHS_BALANCE' : \"bureau_balance_MNTH_BAL\"}, inplace=True)"
   ]
  },
  {
   "cell_type": "code",
   "execution_count": null,
   "metadata": {},
   "outputs": [],
   "source": [
    "bureau_balance_sum.head()"
   ]
  },
  {
   "cell_type": "code",
   "execution_count": null,
   "metadata": {
    "scrolled": true
   },
   "outputs": [],
   "source": [
    "bureau_balance_sum = bureau_balance_sum.reset_index()"
   ]
  },
  {
   "cell_type": "code",
   "execution_count": null,
   "metadata": {},
   "outputs": [],
   "source": [
    "#list(bureau_balance_sum), bureau_balance_sum.shape"
   ]
  },
  {
   "cell_type": "markdown",
   "metadata": {},
   "source": [
    "# Bureau Data"
   ]
  },
  {
   "cell_type": "code",
   "execution_count": null,
   "metadata": {},
   "outputs": [],
   "source": [
    "#bureau.head(3)"
   ]
  },
  {
   "cell_type": "code",
   "execution_count": null,
   "metadata": {},
   "outputs": [],
   "source": [
    "#bureau_org = bureau.copy()"
   ]
  },
  {
   "cell_type": "code",
   "execution_count": null,
   "metadata": {},
   "outputs": [],
   "source": [
    "bureau = bureau.merge(bureau_balance_mod_C, on =\"SK_ID_BUREAU\", how = \"left\",suffixes=(\"Bur_d\",\"DS\"))\n",
    "bureau = bureau.merge(bureau_balance_mod_X, on =\"SK_ID_BUREAU\", how = \"left\",suffixes=(\"Bur_d\",\"DS\"))\n",
    "bureau = bureau.merge(bureau_balance_mod_Other_0_5, on =\"SK_ID_BUREAU\", how = \"left\",suffixes=(\"Bur_d\",\"DS\"))"
   ]
  },
  {
   "cell_type": "code",
   "execution_count": null,
   "metadata": {},
   "outputs": [],
   "source": [
    "#list(bureau_balance_sum), type(bureau_balance_sum[\"SK_ID_BUREAU\"])"
   ]
  },
  {
   "cell_type": "code",
   "execution_count": null,
   "metadata": {},
   "outputs": [],
   "source": [
    "#bureau.drop(\"MONTHS_BALANCE\", axis = 1, inplace=True)"
   ]
  },
  {
   "cell_type": "code",
   "execution_count": null,
   "metadata": {},
   "outputs": [],
   "source": [
    "bureau = bureau.merge(bureau_balance_sum, on=\"SK_ID_BUREAU\", how = \"left\",suffixes=(\"Bur_b_sum\",\"DS\"))"
   ]
  },
  {
   "cell_type": "code",
   "execution_count": null,
   "metadata": {},
   "outputs": [],
   "source": [
    "#len(bureau), bureau.shape"
   ]
  },
  {
   "cell_type": "code",
   "execution_count": null,
   "metadata": {},
   "outputs": [],
   "source": [
    "bureau.drop(\"CREDIT_CURRENCY\", axis=1, inplace=True)"
   ]
  },
  {
   "cell_type": "code",
   "execution_count": null,
   "metadata": {},
   "outputs": [],
   "source": [
    "bureau.loc[bureau[\"CREDIT_TYPE\"] == \"Another type of loan\", \"CREDIT_TYPE\"] = \"Loan\"\n",
    "bureau.loc[bureau[\"CREDIT_TYPE\"] == \"Car loan\", \"CREDIT_TYPE\"] = \"Loan\"\n",
    "bureau.loc[bureau[\"CREDIT_TYPE\"] == \"Consumer credit\", \"CREDIT_TYPE\"] = \"Credit\"\n",
    "bureau.loc[bureau[\"CREDIT_TYPE\"] == \"Credit card\", \"CREDIT_TYPE\"] = \"Credit\"\n",
    "bureau.loc[bureau[\"CREDIT_TYPE\"] == \"Interbank credit\", \"CREDIT_TYPE\"] = \"Credit\"\n",
    "bureau.loc[bureau[\"CREDIT_TYPE\"] == \"Loan for business development\", \"CREDIT_TYPE\"] = \"Loan\"\n",
    "bureau.loc[bureau[\"CREDIT_TYPE\"] == \"Cash loan (non-earmarked)\", \"CREDIT_TYPE\"] = \"Loan\"\n",
    "bureau.loc[bureau[\"CREDIT_TYPE\"] == \"Loan for purchase of shares (margin lending)\", \"CREDIT_TYPE\"] = \"Loan\"\n",
    "bureau.loc[bureau[\"CREDIT_TYPE\"] == \"Loan for the purchase of equipment\", \"CREDIT_TYPE\"] = \"Loan\"\n",
    "bureau.loc[bureau[\"CREDIT_TYPE\"] == \"Microloan\", \"CREDIT_TYPE\"] = \"Loan\"\n",
    "bureau.loc[bureau[\"CREDIT_TYPE\"] == \"Mobile operator loan\", \"CREDIT_TYPE\"] = \"Loan\"\n",
    "bureau.loc[bureau[\"CREDIT_TYPE\"] == \"Mortgage\", \"CREDIT_TYPE\"] = \"Loan\"\n",
    "bureau.loc[bureau[\"CREDIT_TYPE\"] == \"Real estate loan\", \"CREDIT_TYPE\"] = \"Loan\"\n",
    "bureau.loc[bureau[\"CREDIT_TYPE\"] == \"Unknown type of loan\", \"CREDIT_TYPE\"] = \"Loan\"\n",
    "bureau.loc[bureau[\"CREDIT_TYPE\"] == \"Loan for working capital replenishment\", \"CREDIT_TYPE\"] = \"Loan\"\n",
    "\n",
    "bureau.loc[bureau[\"CREDIT_ACTIVE\"] == \"Bad debt\", \"CREDIT_ACTIVE\"] = \"Sold\""
   ]
  },
  {
   "cell_type": "code",
   "execution_count": null,
   "metadata": {},
   "outputs": [],
   "source": [
    "for i in list(bureau.select_dtypes([\"object\"])):\n",
    "    print(bureau.groupby(i).size(), \"\\n\")"
   ]
  },
  {
   "cell_type": "code",
   "execution_count": null,
   "metadata": {},
   "outputs": [],
   "source": [
    "bureau_mod_active = bureau.groupby([bureau[\"SK_ID_CURR\"],bureau[\"CREDIT_ACTIVE\"]]).size().copy()\n",
    "bureau_mod_type = bureau.groupby([bureau[\"SK_ID_CURR\"],bureau[\"CREDIT_TYPE\"]]).size().copy()"
   ]
  },
  {
   "cell_type": "code",
   "execution_count": null,
   "metadata": {},
   "outputs": [],
   "source": [
    "#bureau_mod_type.head(6)"
   ]
  },
  {
   "cell_type": "code",
   "execution_count": null,
   "metadata": {},
   "outputs": [],
   "source": [
    "bureau_mod_active = bureau_mod_active.reset_index()\n",
    "bureau_mod_type = bureau_mod_type.reset_index()"
   ]
  },
  {
   "cell_type": "code",
   "execution_count": null,
   "metadata": {},
   "outputs": [],
   "source": [
    "bureau_mod_active_act = bureau_mod_active.loc[bureau_mod_active[\"CREDIT_ACTIVE\"] == \"Active\"].copy()\n",
    "bureau_mod_active_cls = bureau_mod_active.loc[bureau_mod_active[\"CREDIT_ACTIVE\"] == \"Closed\"].copy()"
   ]
  },
  {
   "cell_type": "code",
   "execution_count": null,
   "metadata": {},
   "outputs": [],
   "source": [
    "bureau_mod_active_act.rename(columns={0: \"bureau_mod_active_act\"}, inplace=True)\n",
    "bureau_mod_active_cls.rename(columns={0: \"bureau_mod_active_cls\"}, inplace=True)"
   ]
  },
  {
   "cell_type": "code",
   "execution_count": null,
   "metadata": {},
   "outputs": [],
   "source": [
    "bureau_mod_active_act.drop(\"CREDIT_ACTIVE\",axis=1, inplace=True)\n",
    "bureau_mod_active_cls.drop(\"CREDIT_ACTIVE\",axis=1, inplace=True)"
   ]
  },
  {
   "cell_type": "code",
   "execution_count": null,
   "metadata": {},
   "outputs": [],
   "source": [
    "bureau_mod_type_credit = bureau_mod_type.loc[bureau_mod_type[\"CREDIT_TYPE\"] == \"Credit\"].copy()\n",
    "bureau_mod_type_loan = bureau_mod_type.loc[bureau_mod_type[\"CREDIT_TYPE\"] == \"Loan\"].copy()"
   ]
  },
  {
   "cell_type": "code",
   "execution_count": null,
   "metadata": {},
   "outputs": [],
   "source": [
    "bureau_mod_type_credit.rename(columns={0: \"bureau_mod_type_credit\"}, inplace=True)\n",
    "bureau_mod_type_loan.rename(columns={0: \"bureau_mod_type_loan\"}, inplace=True)"
   ]
  },
  {
   "cell_type": "code",
   "execution_count": null,
   "metadata": {},
   "outputs": [],
   "source": [
    "#bureau_mod_type_credit.head(3)"
   ]
  },
  {
   "cell_type": "code",
   "execution_count": null,
   "metadata": {},
   "outputs": [],
   "source": [
    "bureau_mod_type_credit.drop(\"CREDIT_TYPE\",axis=1, inplace=True)\n",
    "bureau_mod_type_loan.drop(\"CREDIT_TYPE\",axis=1, inplace=True)"
   ]
  },
  {
   "cell_type": "code",
   "execution_count": null,
   "metadata": {},
   "outputs": [],
   "source": [
    "#bureau_mod_active_act.head(2), bureau_mod_active_cls.head(2), bureau_mod_type_credit.head(2), bureau_mod_type_loan.head(2)"
   ]
  },
  {
   "cell_type": "code",
   "execution_count": null,
   "metadata": {},
   "outputs": [],
   "source": [
    "#bureau_mod_active_act.reset_index(), bureau_mod_active_cls.reset_index(), bureau_mod_type_credit.reset_index(), bureau_mod_type_loan.reset_index()"
   ]
  },
  {
   "cell_type": "code",
   "execution_count": null,
   "metadata": {},
   "outputs": [],
   "source": [
    "#bureau.head(5),\n",
    "#bureau.shape"
   ]
  },
  {
   "cell_type": "code",
   "execution_count": null,
   "metadata": {},
   "outputs": [],
   "source": [
    "bureau = bureau.merge(bureau_mod_active_act, on = \"SK_ID_CURR\", how = \"left\",suffixes=(\"Bur\",\"Bur_aa\"))\n",
    "bureau = bureau.merge(bureau_mod_active_cls, on = \"SK_ID_CURR\", how = \"left\",suffixes=(\"Bur_d\",\"Bur_ac\"))\n",
    "bureau = bureau.merge(bureau_mod_type_credit, on = \"SK_ID_CURR\", how = \"left\",suffixes=(\"Bur_d\",\"Bur_tc\"))\n",
    "bureau = bureau.merge(bureau_mod_type_loan, on = \"SK_ID_CURR\", how = \"left\",suffixes=(\"Bur_d\",\"Bur_tl\"))"
   ]
  },
  {
   "cell_type": "code",
   "execution_count": null,
   "metadata": {},
   "outputs": [],
   "source": [
    "bureau.drop(\"SK_ID_BUREAU\", axis=1, inplace=True)"
   ]
  },
  {
   "cell_type": "code",
   "execution_count": null,
   "metadata": {},
   "outputs": [],
   "source": [
    "bureau_mod = bureau.groupby(bureau[\"SK_ID_CURR\"]).sum().copy()"
   ]
  },
  {
   "cell_type": "code",
   "execution_count": null,
   "metadata": {},
   "outputs": [],
   "source": [
    "bureau_mod.head(5)"
   ]
  },
  {
   "cell_type": "code",
   "execution_count": null,
   "metadata": {},
   "outputs": [],
   "source": [
    "bureau_mod = bureau_mod.reset_index()"
   ]
  },
  {
   "cell_type": "code",
   "execution_count": null,
   "metadata": {},
   "outputs": [],
   "source": [
    "read_test1 = read_test1.merge(bureau_mod, on = \"SK_ID_CURR\", how  = \"left\",suffixes=(\"Bur_mod\",\"DS\"))\n",
    "read_train1 = read_train1.merge(bureau_mod, on = \"SK_ID_CURR\", how  = \"left\",suffixes=(\"Bur_mod\",\"DS\"))"
   ]
  },
  {
   "cell_type": "code",
   "execution_count": null,
   "metadata": {},
   "outputs": [],
   "source": [
    "#read_test1.shape, read_train1.shape"
   ]
  },
  {
   "cell_type": "markdown",
   "metadata": {},
   "source": [
    "# Previous_application data"
   ]
  },
  {
   "cell_type": "code",
   "execution_count": null,
   "metadata": {},
   "outputs": [],
   "source": [
    "#previous_application.head(4)"
   ]
  },
  {
   "cell_type": "code",
   "execution_count": null,
   "metadata": {},
   "outputs": [],
   "source": [
    "#previous_application_org = previous_application.copy()"
   ]
  },
  {
   "cell_type": "code",
   "execution_count": null,
   "metadata": {},
   "outputs": [],
   "source": [
    "#previous_application =previous_application_org"
   ]
  },
  {
   "cell_type": "code",
   "execution_count": null,
   "metadata": {},
   "outputs": [],
   "source": [
    "#for i in list(previous_application.select_dtypes([\"object\"])):\n",
    "#    print(previous_application.groupby(i).size(), \"\\n\")"
   ]
  },
  {
   "cell_type": "code",
   "execution_count": null,
   "metadata": {},
   "outputs": [],
   "source": [
    "previous_application.loc[previous_application[\"NAME_CASH_LOAN_PURPOSE\"]== \"Building a house or an annex\", \"NAME_CASH_LOAN_PURPOSE\"] = \"Personal\"\n",
    "previous_application.loc[previous_application[\"NAME_CASH_LOAN_PURPOSE\"]== \"Business development\", \"NAME_CASH_LOAN_PURPOSE\"] = \"Personal\"\n",
    "previous_application.loc[previous_application[\"NAME_CASH_LOAN_PURPOSE\"]== \"Buying a garage\", \"NAME_CASH_LOAN_PURPOSE\"] = \"Personal\"\n",
    "previous_application.loc[previous_application[\"NAME_CASH_LOAN_PURPOSE\"]== \"Buying a holiday home / land\", \"NAME_CASH_LOAN_PURPOSE\"] = \"Personal\"\n",
    "previous_application.loc[previous_application[\"NAME_CASH_LOAN_PURPOSE\"]== \"Buying a home\", \"NAME_CASH_LOAN_PURPOSE\"] = \"Personal\"\n",
    "previous_application.loc[previous_application[\"NAME_CASH_LOAN_PURPOSE\"]== \"Buying a new car\", \"NAME_CASH_LOAN_PURPOSE\"] = \"Personal\"\n",
    "previous_application.loc[previous_application[\"NAME_CASH_LOAN_PURPOSE\"]== \"Buying a used car\", \"NAME_CASH_LOAN_PURPOSE\"] = \"Personal\"\n",
    "previous_application.loc[previous_application[\"NAME_CASH_LOAN_PURPOSE\"]== \"Car repairs\", \"NAME_CASH_LOAN_PURPOSE\"] = \"Personal\"\n",
    "previous_application.loc[previous_application[\"NAME_CASH_LOAN_PURPOSE\"]== \"Education\", \"NAME_CASH_LOAN_PURPOSE\"] = \"Personal\"\n",
    "previous_application.loc[previous_application[\"NAME_CASH_LOAN_PURPOSE\"]== \"Everyday expenses\", \"NAME_CASH_LOAN_PURPOSE\"] = \"Personal\"\n",
    "previous_application.loc[previous_application[\"NAME_CASH_LOAN_PURPOSE\"]== \"Furniture\", \"NAME_CASH_LOAN_PURPOSE\"] = \"Personal\"\n",
    "previous_application.loc[previous_application[\"NAME_CASH_LOAN_PURPOSE\"]== \"Gasification / water supply\", \"NAME_CASH_LOAN_PURPOSE\"] = \"Personal\"\n",
    "\n",
    "previous_application.loc[previous_application[\"NAME_CASH_LOAN_PURPOSE\"]== \"Hobby\", \"NAME_CASH_LOAN_PURPOSE\"] = \"Personal\"\n",
    "previous_application.loc[previous_application[\"NAME_CASH_LOAN_PURPOSE\"]== \"Journey\", \"NAME_CASH_LOAN_PURPOSE\"] = \"Personal\"\n",
    "previous_application.loc[previous_application[\"NAME_CASH_LOAN_PURPOSE\"]== \"Medicine\", \"NAME_CASH_LOAN_PURPOSE\"] = \"Personal\"\n",
    "previous_application.loc[previous_application[\"NAME_CASH_LOAN_PURPOSE\"]== \"Money for a third person\", \"NAME_CASH_LOAN_PURPOSE\"] = \"Personal\"\n",
    "previous_application.loc[previous_application[\"NAME_CASH_LOAN_PURPOSE\"]== \"Payments on other loans\", \"NAME_CASH_LOAN_PURPOSE\"] = \"Personal\"\n",
    "previous_application.loc[previous_application[\"NAME_CASH_LOAN_PURPOSE\"]== \"Purchase of electronic equipment\", \"NAME_CASH_LOAN_PURPOSE\"] = \"Personal\"\n",
    "previous_application.loc[previous_application[\"NAME_CASH_LOAN_PURPOSE\"]== \"Repairs\", \"NAME_CASH_LOAN_PURPOSE\"] = \"Personal\"\n",
    "previous_application.loc[previous_application[\"NAME_CASH_LOAN_PURPOSE\"]== \"Urgent needs\", \"NAME_CASH_LOAN_PURPOSE\"] = \"Personal\"\n",
    "previous_application.loc[previous_application[\"NAME_CASH_LOAN_PURPOSE\"]== \"Wedding / gift / holiday\", \"NAME_CASH_LOAN_PURPOSE\"] = \"Personal\"\n",
    "\n",
    "\n",
    "previous_application.loc[previous_application[\"NAME_CASH_LOAN_PURPOSE\"]== \"Refusal to name the goal\", \"NAME_CASH_LOAN_PURPOSE\"] = \"Other\"\n",
    "previous_application.loc[previous_application[\"NAME_CASH_LOAN_PURPOSE\"]== \"XAP\", \"NAME_CASH_LOAN_PURPOSE\"] = \"Other\"\n",
    "previous_application.loc[previous_application[\"NAME_CASH_LOAN_PURPOSE\"]== \"XNA\", \"NAME_CASH_LOAN_PURPOSE\"] = \"Other\""
   ]
  },
  {
   "cell_type": "code",
   "execution_count": null,
   "metadata": {},
   "outputs": [],
   "source": [
    "previous_application.loc[previous_application[\"NAME_CONTRACT_STATUS\"]== \"Unused offer\", \"NAME_CONTRACT_STATUS\"] = \"Approved\""
   ]
  },
  {
   "cell_type": "code",
   "execution_count": null,
   "metadata": {},
   "outputs": [],
   "source": [
    "previous_application.loc[previous_application[\"PRODUCT_COMBINATION\"]== \"Card Street\", \"PRODUCT_COMBINATION\"] = \"Card\"\n",
    "previous_application.loc[previous_application[\"PRODUCT_COMBINATION\"]== \"Card X-Sell\", \"PRODUCT_COMBINATION\"] = \"Card\"\n",
    "previous_application.loc[previous_application[\"PRODUCT_COMBINATION\"]== \"Cash Street: high\", \"PRODUCT_COMBINATION\"] = \"Cash\"\n",
    "previous_application.loc[previous_application[\"PRODUCT_COMBINATION\"]== \"Cash Street: low\", \"PRODUCT_COMBINATION\"] = \"Cash\"\n",
    "previous_application.loc[previous_application[\"PRODUCT_COMBINATION\"]== \"Cash Street: middle\", \"PRODUCT_COMBINATION\"] = \"Cash\"\n",
    "previous_application.loc[previous_application[\"PRODUCT_COMBINATION\"]== \"Cash X-Sell: high\", \"PRODUCT_COMBINATION\"] = \"Cash\"\n",
    "previous_application.loc[previous_application[\"PRODUCT_COMBINATION\"]== \"Cash X-Sell: low\", \"PRODUCT_COMBINATION\"] = \"Cash\"\n",
    "previous_application.loc[previous_application[\"PRODUCT_COMBINATION\"]== \"Cash X-Sell: middle\", \"PRODUCT_COMBINATION\"] = \"Cash\"\n",
    "\n",
    "previous_application.loc[previous_application[\"PRODUCT_COMBINATION\"]== \"POS household with interest\", \"PRODUCT_COMBINATION\"] = \"POS\"\n",
    "previous_application.loc[previous_application[\"PRODUCT_COMBINATION\"]== \"POS household without interest\", \"PRODUCT_COMBINATION\"] = \"POS\"\n",
    "previous_application.loc[previous_application[\"PRODUCT_COMBINATION\"]== \"POS industry with interest\", \"PRODUCT_COMBINATION\"] = \"POS\"\n",
    "previous_application.loc[previous_application[\"PRODUCT_COMBINATION\"]== \"POS industry without interest\", \"PRODUCT_COMBINATION\"] = \"POS\"\n",
    "previous_application.loc[previous_application[\"PRODUCT_COMBINATION\"]== \"POS mobile with interest\", \"PRODUCT_COMBINATION\"] = \"POS\"\n",
    "previous_application.loc[previous_application[\"PRODUCT_COMBINATION\"]== \"POS mobile without interest\", \"PRODUCT_COMBINATION\"] = \"POS\"\n",
    "previous_application.loc[previous_application[\"PRODUCT_COMBINATION\"]== \"POS other with interest\", \"PRODUCT_COMBINATION\"] = \"POS\"\n",
    "previous_application.loc[previous_application[\"PRODUCT_COMBINATION\"]== \"POS others without interest\", \"PRODUCT_COMBINATION\"] = \"POS\""
   ]
  },
  {
   "cell_type": "code",
   "execution_count": null,
   "metadata": {},
   "outputs": [],
   "source": [
    "previous_application_dum = previous_application.copy()"
   ]
  },
  {
   "cell_type": "code",
   "execution_count": null,
   "metadata": {},
   "outputs": [],
   "source": [
    "#previous_application_temp.shape"
   ]
  },
  {
   "cell_type": "code",
   "execution_count": null,
   "metadata": {},
   "outputs": [],
   "source": [
    "previous_application_dum = pd.get_dummies(data=previous_application )"
   ]
  },
  {
   "cell_type": "code",
   "execution_count": null,
   "metadata": {},
   "outputs": [],
   "source": [
    "#previous_application_dum.shape"
   ]
  },
  {
   "cell_type": "code",
   "execution_count": null,
   "metadata": {},
   "outputs": [],
   "source": [
    "#previous_application_dum.head(5)"
   ]
  },
  {
   "cell_type": "code",
   "execution_count": null,
   "metadata": {},
   "outputs": [],
   "source": [
    "previous_application_dum.drop(\"SK_ID_PREV\", axis=1, inplace=True)"
   ]
  },
  {
   "cell_type": "code",
   "execution_count": null,
   "metadata": {},
   "outputs": [],
   "source": [
    "previous_application_sum = previous_application_dum.groupby(previous_application_dum[\"SK_ID_CURR\"]).sum().copy()"
   ]
  },
  {
   "cell_type": "code",
   "execution_count": null,
   "metadata": {},
   "outputs": [],
   "source": [
    "#previous_application_sum.head(5)"
   ]
  },
  {
   "cell_type": "code",
   "execution_count": null,
   "metadata": {},
   "outputs": [],
   "source": [
    "previous_application_sum = previous_application_sum.reset_index()"
   ]
  },
  {
   "cell_type": "code",
   "execution_count": null,
   "metadata": {},
   "outputs": [],
   "source": [
    "#previous_application_sum[\"WEEKDAY_APPR_PROCESS_START_FRIDAY\"].head()"
   ]
  },
  {
   "cell_type": "code",
   "execution_count": null,
   "metadata": {},
   "outputs": [],
   "source": [
    "#read_train2[\"WEEKDAY_APPR_PROCESS_START_FRIDAY\"].head()"
   ]
  },
  {
   "cell_type": "code",
   "execution_count": null,
   "metadata": {},
   "outputs": [],
   "source": [
    "#previous_application_sum.head()"
   ]
  },
  {
   "cell_type": "code",
   "execution_count": null,
   "metadata": {},
   "outputs": [],
   "source": [
    "#read_test2 = read_test1.copy()\n",
    "#read_train2 = read_train1.copy()"
   ]
  },
  {
   "cell_type": "code",
   "execution_count": null,
   "metadata": {},
   "outputs": [],
   "source": [
    "read_test1 = read_test1.merge(previous_application_sum, on = \"SK_ID_CURR\", how  = \"left\", suffixes=(\"Pre_app\",\"DS\"))\n",
    "read_train1 = read_train1.merge(previous_application_sum, on = \"SK_ID_CURR\", how  = \"left\", suffixes=(\"Pre_app\",\"DS\"))"
   ]
  },
  {
   "cell_type": "code",
   "execution_count": null,
   "metadata": {},
   "outputs": [],
   "source": [
    "read_test1.shape, read_train1.shape"
   ]
  },
  {
   "cell_type": "code",
   "execution_count": null,
   "metadata": {},
   "outputs": [],
   "source": [
    "col_list = read_train1.isnull().sum()> 0\n",
    "for i in range(len(col_list)):\n",
    "    if col_list[i]:\n",
    "        print(col_list.index[i])\n",
    "#read_train1.loc[col_list]"
   ]
  },
  {
   "cell_type": "code",
   "execution_count": null,
   "metadata": {},
   "outputs": [],
   "source": [
    "#read_test1.to_csv(data_dir+\"final_combined_test_file.csv\",index = False)\n",
    "#read_train1.to_csv(data_dir+\"final_combined_train_file.csv\",index = False)"
   ]
  },
  {
   "cell_type": "code",
   "execution_count": 6,
   "metadata": {},
   "outputs": [],
   "source": [
    "from sklearn.ensemble import GradientBoostingClassifier, RandomForestClassifier \n",
    "from sklearn.model_selection import train_test_split\n",
    "from sklearn.metrics import roc_curve, roc_auc_score\n",
    "from sklearn.model_selection import KFold\n",
    "from sklearn.feature_selection import SelectKBest, chi2\n",
    "import xgboost as xgb\n",
    "from lightgbm import LGBMClassifier"
   ]
  },
  {
   "cell_type": "code",
   "execution_count": 7,
   "metadata": {},
   "outputs": [
    {
     "data": {
      "text/html": [
       "<div>\n",
       "<style scoped>\n",
       "    .dataframe tbody tr th:only-of-type {\n",
       "        vertical-align: middle;\n",
       "    }\n",
       "\n",
       "    .dataframe tbody tr th {\n",
       "        vertical-align: top;\n",
       "    }\n",
       "\n",
       "    .dataframe thead th {\n",
       "        text-align: right;\n",
       "    }\n",
       "</style>\n",
       "<table border=\"1\" class=\"dataframe\">\n",
       "  <thead>\n",
       "    <tr style=\"text-align: right;\">\n",
       "      <th></th>\n",
       "      <th>SK_ID_CURR</th>\n",
       "      <th>TARGET</th>\n",
       "      <th>CNT_CHILDREN</th>\n",
       "      <th>AMT_INCOME_TOTAL</th>\n",
       "      <th>AMT_CREDITPre_app</th>\n",
       "      <th>AMT_ANNUITYBur_mod</th>\n",
       "      <th>AMT_GOODS_PRICEPre_app</th>\n",
       "      <th>REGION_POPULATION_RELATIVE</th>\n",
       "      <th>DAYS_BIRTH</th>\n",
       "      <th>DAYS_EMPLOYED</th>\n",
       "      <th>...</th>\n",
       "      <th>NAME_SELLER_INDUSTRY_Tourism</th>\n",
       "      <th>NAME_SELLER_INDUSTRY_XNA</th>\n",
       "      <th>NAME_YIELD_GROUP_XNA</th>\n",
       "      <th>NAME_YIELD_GROUP_high</th>\n",
       "      <th>NAME_YIELD_GROUP_low_action</th>\n",
       "      <th>NAME_YIELD_GROUP_low_normal</th>\n",
       "      <th>NAME_YIELD_GROUP_middle</th>\n",
       "      <th>PRODUCT_COMBINATION_Card</th>\n",
       "      <th>PRODUCT_COMBINATION_Cash</th>\n",
       "      <th>PRODUCT_COMBINATION_POS</th>\n",
       "    </tr>\n",
       "  </thead>\n",
       "  <tbody>\n",
       "    <tr>\n",
       "      <th>0</th>\n",
       "      <td>100002</td>\n",
       "      <td>1</td>\n",
       "      <td>0</td>\n",
       "      <td>202500.0</td>\n",
       "      <td>406597.5</td>\n",
       "      <td>24700.5</td>\n",
       "      <td>351000.0</td>\n",
       "      <td>0.018801</td>\n",
       "      <td>-9461</td>\n",
       "      <td>-637</td>\n",
       "      <td>...</td>\n",
       "      <td>0.0</td>\n",
       "      <td>0.0</td>\n",
       "      <td>0.0</td>\n",
       "      <td>0.0</td>\n",
       "      <td>0.0</td>\n",
       "      <td>1.0</td>\n",
       "      <td>0.0</td>\n",
       "      <td>0.0</td>\n",
       "      <td>0.0</td>\n",
       "      <td>1.0</td>\n",
       "    </tr>\n",
       "    <tr>\n",
       "      <th>1</th>\n",
       "      <td>100003</td>\n",
       "      <td>0</td>\n",
       "      <td>0</td>\n",
       "      <td>270000.0</td>\n",
       "      <td>1293502.5</td>\n",
       "      <td>35698.5</td>\n",
       "      <td>1129500.0</td>\n",
       "      <td>0.003541</td>\n",
       "      <td>-16765</td>\n",
       "      <td>-1188</td>\n",
       "      <td>...</td>\n",
       "      <td>0.0</td>\n",
       "      <td>1.0</td>\n",
       "      <td>0.0</td>\n",
       "      <td>0.0</td>\n",
       "      <td>0.0</td>\n",
       "      <td>1.0</td>\n",
       "      <td>2.0</td>\n",
       "      <td>0.0</td>\n",
       "      <td>1.0</td>\n",
       "      <td>2.0</td>\n",
       "    </tr>\n",
       "    <tr>\n",
       "      <th>2</th>\n",
       "      <td>100004</td>\n",
       "      <td>0</td>\n",
       "      <td>0</td>\n",
       "      <td>67500.0</td>\n",
       "      <td>135000.0</td>\n",
       "      <td>6750.0</td>\n",
       "      <td>135000.0</td>\n",
       "      <td>0.010032</td>\n",
       "      <td>-19046</td>\n",
       "      <td>-225</td>\n",
       "      <td>...</td>\n",
       "      <td>0.0</td>\n",
       "      <td>0.0</td>\n",
       "      <td>0.0</td>\n",
       "      <td>0.0</td>\n",
       "      <td>0.0</td>\n",
       "      <td>0.0</td>\n",
       "      <td>1.0</td>\n",
       "      <td>0.0</td>\n",
       "      <td>0.0</td>\n",
       "      <td>1.0</td>\n",
       "    </tr>\n",
       "    <tr>\n",
       "      <th>3</th>\n",
       "      <td>100006</td>\n",
       "      <td>0</td>\n",
       "      <td>0</td>\n",
       "      <td>135000.0</td>\n",
       "      <td>312682.5</td>\n",
       "      <td>29686.5</td>\n",
       "      <td>297000.0</td>\n",
       "      <td>0.008019</td>\n",
       "      <td>-19005</td>\n",
       "      <td>-3039</td>\n",
       "      <td>...</td>\n",
       "      <td>0.0</td>\n",
       "      <td>7.0</td>\n",
       "      <td>4.0</td>\n",
       "      <td>2.0</td>\n",
       "      <td>0.0</td>\n",
       "      <td>2.0</td>\n",
       "      <td>1.0</td>\n",
       "      <td>2.0</td>\n",
       "      <td>5.0</td>\n",
       "      <td>2.0</td>\n",
       "    </tr>\n",
       "    <tr>\n",
       "      <th>4</th>\n",
       "      <td>100007</td>\n",
       "      <td>0</td>\n",
       "      <td>0</td>\n",
       "      <td>121500.0</td>\n",
       "      <td>513000.0</td>\n",
       "      <td>21865.5</td>\n",
       "      <td>513000.0</td>\n",
       "      <td>0.028663</td>\n",
       "      <td>-19932</td>\n",
       "      <td>-3038</td>\n",
       "      <td>...</td>\n",
       "      <td>0.0</td>\n",
       "      <td>2.0</td>\n",
       "      <td>0.0</td>\n",
       "      <td>3.0</td>\n",
       "      <td>0.0</td>\n",
       "      <td>0.0</td>\n",
       "      <td>3.0</td>\n",
       "      <td>0.0</td>\n",
       "      <td>4.0</td>\n",
       "      <td>2.0</td>\n",
       "    </tr>\n",
       "  </tbody>\n",
       "</table>\n",
       "<p>5 rows × 422 columns</p>\n",
       "</div>"
      ],
      "text/plain": [
       "   SK_ID_CURR  TARGET  CNT_CHILDREN  AMT_INCOME_TOTAL  AMT_CREDITPre_app  \\\n",
       "0      100002       1             0          202500.0           406597.5   \n",
       "1      100003       0             0          270000.0          1293502.5   \n",
       "2      100004       0             0           67500.0           135000.0   \n",
       "3      100006       0             0          135000.0           312682.5   \n",
       "4      100007       0             0          121500.0           513000.0   \n",
       "\n",
       "   AMT_ANNUITYBur_mod  AMT_GOODS_PRICEPre_app  REGION_POPULATION_RELATIVE  \\\n",
       "0             24700.5                351000.0                    0.018801   \n",
       "1             35698.5               1129500.0                    0.003541   \n",
       "2              6750.0                135000.0                    0.010032   \n",
       "3             29686.5                297000.0                    0.008019   \n",
       "4             21865.5                513000.0                    0.028663   \n",
       "\n",
       "   DAYS_BIRTH  DAYS_EMPLOYED           ...             \\\n",
       "0       -9461           -637           ...              \n",
       "1      -16765          -1188           ...              \n",
       "2      -19046           -225           ...              \n",
       "3      -19005          -3039           ...              \n",
       "4      -19932          -3038           ...              \n",
       "\n",
       "   NAME_SELLER_INDUSTRY_Tourism  NAME_SELLER_INDUSTRY_XNA  \\\n",
       "0                           0.0                       0.0   \n",
       "1                           0.0                       1.0   \n",
       "2                           0.0                       0.0   \n",
       "3                           0.0                       7.0   \n",
       "4                           0.0                       2.0   \n",
       "\n",
       "   NAME_YIELD_GROUP_XNA  NAME_YIELD_GROUP_high  NAME_YIELD_GROUP_low_action  \\\n",
       "0                   0.0                    0.0                          0.0   \n",
       "1                   0.0                    0.0                          0.0   \n",
       "2                   0.0                    0.0                          0.0   \n",
       "3                   4.0                    2.0                          0.0   \n",
       "4                   0.0                    3.0                          0.0   \n",
       "\n",
       "   NAME_YIELD_GROUP_low_normal  NAME_YIELD_GROUP_middle  \\\n",
       "0                          1.0                      0.0   \n",
       "1                          1.0                      2.0   \n",
       "2                          0.0                      1.0   \n",
       "3                          2.0                      1.0   \n",
       "4                          0.0                      3.0   \n",
       "\n",
       "   PRODUCT_COMBINATION_Card  PRODUCT_COMBINATION_Cash  PRODUCT_COMBINATION_POS  \n",
       "0                       0.0                       0.0                      1.0  \n",
       "1                       0.0                       1.0                      2.0  \n",
       "2                       0.0                       0.0                      1.0  \n",
       "3                       2.0                       5.0                      2.0  \n",
       "4                       0.0                       4.0                      2.0  \n",
       "\n",
       "[5 rows x 422 columns]"
      ]
     },
     "execution_count": 7,
     "metadata": {},
     "output_type": "execute_result"
    }
   ],
   "source": [
    "read_train1.head()"
   ]
  },
  {
   "cell_type": "code",
   "execution_count": 5,
   "metadata": {},
   "outputs": [
    {
     "ename": "NameError",
     "evalue": "name 'train_test_split' is not defined",
     "output_type": "error",
     "traceback": [
      "\u001b[1;31m---------------------------------------------------------------------------\u001b[0m",
      "\u001b[1;31mNameError\u001b[0m                                 Traceback (most recent call last)",
      "\u001b[1;32m<ipython-input-5-c33bb07703b9>\u001b[0m in \u001b[0;36m<module>\u001b[1;34m()\u001b[0m\n\u001b[1;32m----> 1\u001b[1;33m train_x, test_x, train_y,test_y = train_test_split(read_train1.loc[:, 'NAME_CONTRACT_TYPE':'NFLAG_INSURED_ON_APPROVAL']\n\u001b[0m\u001b[0;32m      2\u001b[0m                                                    ,read_train1[\"TARGET\"],test_size=.1, random_state=1)\n",
      "\u001b[1;31mNameError\u001b[0m: name 'train_test_split' is not defined"
     ]
    }
   ],
   "source": [
    "train_x, test_x, train_y,test_y = train_test_split(read_train1.loc[:, 'NAME_CONTRACT_TYPE':'NFLAG_INSURED_ON_APPROVAL']\n",
    "                                                   ,read_train1[\"TARGET\"],test_size=.1, random_state=1)"
   ]
  },
  {
   "cell_type": "code",
   "execution_count": 10,
   "metadata": {},
   "outputs": [],
   "source": [
    "train_x, test_x, train_y,test_y = train_test_split(read_train1.loc[:, 'CNT_CHILDREN':'PRODUCT_COMBINATION_POS']\n",
    "                                                   ,read_train1[\"TARGET\"],test_size=.1, random_state=1)"
   ]
  },
  {
   "cell_type": "code",
   "execution_count": 11,
   "metadata": {},
   "outputs": [
    {
     "data": {
      "text/plain": [
       "((276759, 420), (276759,), (30752, 420), (30752,))"
      ]
     },
     "execution_count": 11,
     "metadata": {},
     "output_type": "execute_result"
    }
   ],
   "source": [
    "train_x.shape, train_y.shape, test_x.shape,test_y.shape"
   ]
  },
  {
   "cell_type": "code",
   "execution_count": 12,
   "metadata": {},
   "outputs": [],
   "source": [
    "tree_count = 1500\n",
    "learn_rt = .01\n",
    "tree_depth = 3\n",
    "min_ch_wt =  1e-3\n",
    "colsample_tree = .632\n",
    "alpha=0.4640\n",
    "subsam= .8\n",
    "lambd=.05\n",
    "min_samples_spt = 500\n",
    "warm_st = True\n",
    "max_feat = \"auto\"\n",
    "num_leave = 64"
   ]
  },
  {
   "cell_type": "code",
   "execution_count": 149,
   "metadata": {},
   "outputs": [],
   "source": [
    "def missing_value_count_col(df,threshold = 0):\n",
    "    column = [] \n",
    "    count= []\n",
    "    percent = []\n",
    "    missing_count = df.isnull().sum().sort_values(ascending = False) > 0\n",
    "    for i in range(len(missing_count)):\n",
    "        if missing_count[i]:\n",
    "            column.append(missing_count.index[i])\n",
    "            count.append(df[missing_count.index[i]].isnull().sum())\n",
    "            percent.append(((df[missing_count.index[i]].isnull().sum())/len(df))*100)\n",
    "            # use the list and zip to concatanate the two list\n",
    "    dff =  pd.DataFrame(list(zip(column,count,percent)),columns=[\"Column\", \"Count\",\"Percent_Missing\"])\n",
    "    dff = dff[dff[ \"Percent_Missing\"] > threshold]\n",
    "    del column ,count, percent\n",
    "    print(dff.info())\n",
    "    return dff.sort_values(\"Count\", ascending=False)  \n"
   ]
  },
  {
   "cell_type": "code",
   "execution_count": 13,
   "metadata": {},
   "outputs": [],
   "source": [
    "rf = RandomForestClassifier(criterion=\"entropy\",n_estimators= tree_count,max_depth = \n",
    "                            tree_depth,min_samples_leaf = num_leave,min_samples_split = min_samples_spt)\n",
    "\n",
    "\n",
    "xgb_model = xgb.XGBClassifier(n_estimators=tree_count,learning_rate=learn_rt,\n",
    "                              max_depth=tree_depth,min_child_weight=min_ch_wt, \n",
    "                              colsample_bytree=colsample_tree, gamma=0.1, \n",
    "                              reg_alpha=alpha, reg_lambda=lambd,subsample=subsam, silent=1,\n",
    "                              random_state =8, nthread = -1, \n",
    "                              warm_start = warm_st,max_features =max_feat)\n",
    "\n",
    "\n",
    "GBoost = GradientBoostingClassifier(n_estimators=tree_count, learning_rate=0.05,\n",
    "                                   max_depth=tree_depth, max_features=max_feat ,\n",
    "                                   min_samples_leaf=15, min_samples_split=min_samples_spt,\n",
    "                                   loss='deviance',warm_start = warm_st )\n",
    "\n",
    "clf1 = LGBMClassifier(\n",
    "    \n",
    "            n_estimators=tree_count,\n",
    "            learning_rate=0.01,\n",
    "            max_depth=tree_depth,\n",
    "            num_leaves=128,\n",
    "            colsample_bytree=colsample_tree,\n",
    "            subsample=subsam,       \n",
    "            reg_alpha=alpha,\n",
    "            reg_lambda=lambd,\n",
    "            min_split_gain=.02,\n",
    "            min_child_weight=min_ch_wt,\n",
    "            verbose=-1,objective = 'binary',boosting_type = \"gbdt\")"
   ]
  },
  {
   "cell_type": "code",
   "execution_count": null,
   "metadata": {},
   "outputs": [],
   "source": [
    "read_test1_org = read_test1.copy()"
   ]
  },
  {
   "cell_type": "code",
   "execution_count": null,
   "metadata": {},
   "outputs": [],
   "source": [
    "read_test1.info()"
   ]
  },
  {
   "cell_type": "code",
   "execution_count": null,
   "metadata": {},
   "outputs": [],
   "source": [
    "train_x.shape, train_y.shape"
   ]
  },
  {
   "cell_type": "code",
   "execution_count": 14,
   "metadata": {},
   "outputs": [],
   "source": [
    "for i in range(len(test_x.columns)):\n",
    "    if (test_x[test_x.columns[i]]).dtypes == \"object\":\n",
    "        test_x[test_x.columns[i]] = (test_x[test_x.columns[i]]).astype('category')"
   ]
  },
  {
   "cell_type": "code",
   "execution_count": 15,
   "metadata": {},
   "outputs": [],
   "source": [
    "for i in range(len(train_x.columns)):\n",
    "    if (train_x[train_x.columns[i]]).dtypes == \"object\":\n",
    "        train_x[train_x.columns[i]] = (train_x[train_x.columns[i]]).astype('category')"
   ]
  },
  {
   "cell_type": "code",
   "execution_count": null,
   "metadata": {},
   "outputs": [],
   "source": [
    "for i in range(len(read_test1.columns)):\n",
    "    if (read_test1[read_test1.columns[i]]).dtypes == \"object\":\n",
    "        read_test1[read_test1.columns[i]] = (read_test1[read_test1.columns[i]]).astype('category')"
   ]
  },
  {
   "cell_type": "code",
   "execution_count": 16,
   "metadata": {},
   "outputs": [],
   "source": [
    "for i in range(len(train_x.columns)):\n",
    "    if (((train_x[train_x.columns[i]]).dtypes == \"float64\") or ((train_x[train_x.columns[i]]).dtypes == \"int64\")):\n",
    "        #test_x[test_x.columns[i]] = (test_x[test_x.columns[i]]).astype('category')\n",
    "        mean = (train_x[train_x.columns[i]]).mean()\n",
    "        std = (train_x[train_x.columns[i]]).std()\n",
    "        train_x[train_x.columns[i]] = (train_x[train_x.columns[i]] - mean)/std\n",
    "        test_x[train_x.columns[i]] = (test_x[train_x.columns[i]] - mean)/std\n",
    "        read_test1[train_x.columns[i]] = (read_test1[train_x.columns[i]] - mean)/std\n",
    "        "
   ]
  },
  {
   "cell_type": "code",
   "execution_count": null,
   "metadata": {},
   "outputs": [],
   "source": [
    "read_test1.head()"
   ]
  },
  {
   "cell_type": "code",
   "execution_count": 21,
   "metadata": {},
   "outputs": [],
   "source": [
    "from sklearn.preprocessing import StandardScaler\n",
    "sc = StandardScaler()"
   ]
  },
  {
   "cell_type": "code",
   "execution_count": null,
   "metadata": {},
   "outputs": [],
   "source": [
    "read_train_std = sc.fit_transform(train_x)\n",
    "read_test_std = sc.transform(read_test1)"
   ]
  },
  {
   "cell_type": "code",
   "execution_count": 17,
   "metadata": {},
   "outputs": [
    {
     "name": "stdout",
     "output_type": "stream",
     "text": [
      "<class 'pandas.core.frame.DataFrame'>\n",
      "Int64Index: 276759 entries, 73113 to 128037\n",
      "Columns: 420 entries, CNT_CHILDREN to PRODUCT_COMBINATION_POS\n",
      "dtypes: float64(420)\n",
      "memory usage: 888.9 MB\n"
     ]
    }
   ],
   "source": [
    "train_x.info()"
   ]
  },
  {
   "cell_type": "code",
   "execution_count": null,
   "metadata": {},
   "outputs": [],
   "source": [
    "xgb_model.fit(train_x,train_y)\n",
    "y_pred_xgb = xgb_model.predict_proba(test_x)[:,1]\n",
    "y_pred_xgb_train = xgb_model.predict_proba(train_x)[:,1]"
   ]
  },
  {
   "cell_type": "code",
   "execution_count": 176,
   "metadata": {},
   "outputs": [],
   "source": [
    "from scipy.stats import randint\n",
    "from sklearn.model_selection import RandomizedSearchCV\n",
    "from random import uniform\n"
   ]
  },
  {
   "cell_type": "code",
   "execution_count": 177,
   "metadata": {},
   "outputs": [],
   "source": [
    "param_dist = {\n",
    "            \"max_depth\": randint.rvs(2, 10, size=5),\n",
    "            \"boosting_type\": ['gbdt', 'goss', 'dart'],\n",
    "            \"subsample_for_bin\": randint.rvs(10000, 75000, size=10),\n",
    "            #\"min_samples_leaf\": randint(1, 11),\n",
    "            \"learning_rate\": np.random.uniform(low=0.001, high = 0.5, size=(10,)),\n",
    "            \"num_leaves\":randint.rvs(10, 100, size=10),\n",
    "                \n",
    "        }\n",
    "clf3 = LGBMClassifier(n_estimators= 1500,n_iter=10,random_state=10,objective = 'binary')"
   ]
  },
  {
   "cell_type": "code",
   "execution_count": 178,
   "metadata": {},
   "outputs": [],
   "source": [
    "        random_search = RandomizedSearchCV(\n",
    "            clf3, param_distributions=param_dist, refit=True,\n",
    "            scoring='roc_auc',\n",
    "            )"
   ]
  },
  {
   "cell_type": "code",
   "execution_count": 179,
   "metadata": {},
   "outputs": [],
   "source": [
    "best_model = random_search.fit(X= train_x,y= train_y) "
   ]
  },
  {
   "cell_type": "code",
   "execution_count": 180,
   "metadata": {},
   "outputs": [
    {
     "data": {
      "text/plain": [
       "LGBMClassifier(boosting_type='gbdt', class_weight=None, colsample_bytree=1.0,\n",
       "        learning_rate=0.03534312746092663, max_depth=5,\n",
       "        min_child_samples=20, min_child_weight=0.001, min_split_gain=0.0,\n",
       "        n_estimators=1500, n_iter=10, n_jobs=-1, num_leaves=82,\n",
       "        objective='binary', random_state=10, reg_alpha=0.0, reg_lambda=0.0,\n",
       "        silent=True, subsample=1.0, subsample_for_bin=55934,\n",
       "        subsample_freq=0)"
      ]
     },
     "execution_count": 180,
     "metadata": {},
     "output_type": "execute_result"
    }
   ],
   "source": [
    "best_model.best_estimator_"
   ]
  },
  {
   "cell_type": "code",
   "execution_count": null,
   "metadata": {},
   "outputs": [],
   "source": [
    "best_modelt_modelt_model"
   ]
  },
  {
   "cell_type": "code",
   "execution_count": 153,
   "metadata": {},
   "outputs": [],
   "source": [
    "y_pred_lgbm_train = clf1.predict_proba(ouu)[:,1]"
   ]
  },
  {
   "cell_type": "code",
   "execution_count": 201,
   "metadata": {},
   "outputs": [],
   "source": [
    "clf1 = LGBMClassifier(boosting_type='gbdt', class_weight=None, colsample_bytree=1.0,\n",
    "        learning_rate=0.03534312746092663, max_depth=4,\n",
    "        min_child_samples=200, min_child_weight=0.001, min_split_gain=0.0,\n",
    "        n_estimators=1500, n_iter=10, n_jobs=-1, num_leaves=256,\n",
    "        objective='binary', random_state=10, reg_alpha=0.0, reg_lambda=0.0,\n",
    "        silent=True, subsample=1.0, subsample_for_bin=55934,\n",
    "        subsample_freq=0)"
   ]
  },
  {
   "cell_type": "code",
   "execution_count": 202,
   "metadata": {},
   "outputs": [],
   "source": [
    "clf1.fit(train_x, train_y, eval_metric= 'auc', verbose= 100, early_stopping_rounds= None)\n",
    "y_pred_lgbm = clf1.predict_proba(test_x)[:,1]\n",
    "y_pred_lgbm_train = clf1.predict_proba(train_x)[:,1]"
   ]
  },
  {
   "cell_type": "code",
   "execution_count": 203,
   "metadata": {},
   "outputs": [
    {
     "name": "stdout",
     "output_type": "stream",
     "text": [
      "LightGBM AOC test : -  0.7894981161278665\n",
      "LightGBM AOC train: -  0.8323372088895022\n"
     ]
    },
    {
     "data": {
      "text/plain": [
       "'print(\"RF AOC test: - \", roc_auc_score(test_y, y_pred_rf))\\nprint(\"RF AOC train: - \", roc_auc_score(train_y, y_pred_rf_train))\\nprint(\"GradientBoosting AOC test: - \", roc_auc_score(test_y, y_pred_gb))\\nprint(\"GradientBoosting AOC train: - \", roc_auc_score(train_y, y_pred_gb_train))'"
      ]
     },
     "execution_count": 203,
     "metadata": {},
     "output_type": "execute_result"
    }
   ],
   "source": [
    "#print(\"XGBoost AOC test : - \", roc_auc_score(test_y, y_pred_xgb))\n",
    "#print(\"XGBoost AOC train: - \", roc_auc_score(train_y, y_pred_xgb_train))\n",
    "print(\"LightGBM AOC test : - \", roc_auc_score(test_y, y_pred_lgbm))\n",
    "print(\"LightGBM AOC train: - \", roc_auc_score(train_y, y_pred_lgbm_train))\n",
    "'''print(\"RF AOC test: - \", roc_auc_score(test_y, y_pred_rf))\n",
    "print(\"RF AOC train: - \", roc_auc_score(train_y, y_pred_rf_train))\n",
    "print(\"GradientBoosting AOC test: - \", roc_auc_score(test_y, y_pred_gb))\n",
    "print(\"GradientBoosting AOC train: - \", roc_auc_score(train_y, y_pred_gb_train))'''"
   ]
  },
  {
   "cell_type": "markdown",
   "metadata": {},
   "source": [
    "LightGBM AOC test : -  0.7887271233847358\n",
    "LightGBM AOC train: -  0.8719917578838822\n",
    "\n",
    "LightGBM AOC test : -  0.7877645862056746\n",
    "LightGBM AOC train: -  0.8124535976197363\n",
    "\n",
    "LightGBM AOC test : -  0.7892305872418102\n",
    "LightGBM AOC train: -  0.8813112674531898\n",
    "\n",
    "LightGBM AOC test : -  0.7892593760220578\n",
    "LightGBM AOC train: -  0.8409247808324583"
   ]
  },
  {
   "cell_type": "code",
   "execution_count": 148,
   "metadata": {},
   "outputs": [
    {
     "name": "stdout",
     "output_type": "stream",
     "text": [
      "<class 'pandas.core.frame.DataFrame'>\n",
      "Int64Index: 43 entries, 0 to 42\n",
      "Data columns (total 3 columns):\n",
      "Column             43 non-null object\n",
      "Count              43 non-null int64\n",
      "Percent_Missing    43 non-null float64\n",
      "dtypes: float64(1), int64(1), object(1)\n",
      "memory usage: 1.3+ KB\n",
      "None\n"
     ]
    }
   ],
   "source": [
    "t = missing_value_count_col(read_train1,threshold = 10)\n",
    "#print(t)"
   ]
  },
  {
   "cell_type": "code",
   "execution_count": 156,
   "metadata": {},
   "outputs": [],
   "source": [
    "train_x.fillna(0,inplace=True)\n",
    "test_x.fillna(0,inplace=True)"
   ]
  },
  {
   "cell_type": "code",
   "execution_count": 204,
   "metadata": {},
   "outputs": [],
   "source": [
    "from sklearn.decomposition import PCA\n",
    "from sklearn.discriminant_analysis import LinearDiscriminantAnalysis as LDA"
   ]
  },
  {
   "cell_type": "code",
   "execution_count": 205,
   "metadata": {},
   "outputs": [],
   "source": [
    "def calculate_dim_reduction(func = \"PCA\", train_x = None,train_y = None,component = None, ):\n",
    "    if component == None:\n",
    "        component = train_x.shape[1]\n",
    "        \n",
    "    if func == \"PCA\":\n",
    "        from sklearn.decomposition import PCA as func\n",
    "        dim_reduc = func(n_components=component)\n",
    "        hand = dim_reduc.fit(train_x)\n",
    "        trans_x = dim_reduc.fit_transform(train_x)\n",
    "    elif func == \"LDA\":\n",
    "        from  sklearn.discriminant_analysis import LinearDiscriminantAnalysis as func\n",
    "        dim_reduc = func(n_components=component)\n",
    "        hand = dim_reduc.fit(train_x, train_y)\n",
    "        trans_x = dim_reduc.fit_transform(train_x, train_y)\n",
    "    \n",
    "    \n",
    "    return trans_x, hand"
   ]
  },
  {
   "cell_type": "code",
   "execution_count": 161,
   "metadata": {},
   "outputs": [
    {
     "data": {
      "text/plain": [
       "((30752, 200), (276759, 200))"
      ]
     },
     "execution_count": 161,
     "metadata": {},
     "output_type": "execute_result"
    }
   ],
   "source": [
    "op_test.shape, op_train.shape"
   ]
  },
  {
   "cell_type": "code",
   "execution_count": null,
   "metadata": {},
   "outputs": [],
   "source": [
    "p.explained_variance_ratio_"
   ]
  },
  {
   "cell_type": "code",
   "execution_count": null,
   "metadata": {},
   "outputs": [],
   "source": [
    "y_pred_lgbm_output = clf1.predict_proba(read_test1.loc[:, 'NAME_CONTRACT_TYPE':'NFLAG_INSURED_ON_APPROVAL'])[:,1]"
   ]
  },
  {
   "cell_type": "code",
   "execution_count": null,
   "metadata": {},
   "outputs": [],
   "source": [
    "clf1.feature_importances_"
   ]
  },
  {
   "cell_type": "code",
   "execution_count": null,
   "metadata": {},
   "outputs": [],
   "source": [
    "feat_imp = pd.Series(clf1.feature_importances_, index=train_x.columns)\n",
    "feat_imp.nlargest(30).plot(kind='barh', figsize=(10,30))"
   ]
  },
  {
   "cell_type": "code",
   "execution_count": null,
   "metadata": {},
   "outputs": [],
   "source": [
    "#def calculate_LDA(train = None,train_y = None, test = None, test_y = None, component = None):\n",
    "    lda = LDA(n_components=200)\n",
    "    lda_val = lda.fit_transform(train_x, train_y)\n",
    "    "
   ]
  },
  {
   "cell_type": "code",
   "execution_count": null,
   "metadata": {},
   "outputs": [],
   "source": [
    "rf.fit(train_x,train_y)\n",
    "y_pred_rf = rf.predict_proba(test_x)[:,1]\n",
    "y_pred_rf_train = rf.predict_proba(train_x)[:,1]"
   ]
  },
  {
   "cell_type": "code",
   "execution_count": null,
   "metadata": {},
   "outputs": [],
   "source": [
    "GBoost.fit(train_x,train_y)\n",
    "y_pred_gb = GBoost.predict_proba(test_x)[:,1]\n",
    "y_pred_gb_train = GBoost.predict_proba(train_x)[:,1]"
   ]
  },
  {
   "cell_type": "markdown",
   "metadata": {},
   "source": [
    "\n",
    "LightGBM AOC test : -  0.7827453212722641\n",
    "LightGBM AOC train: -  0.8012365478472023"
   ]
  },
  {
   "cell_type": "code",
   "execution_count": null,
   "metadata": {},
   "outputs": [],
   "source": [
    "mixed_test = .25*y_pred_xgb + .75*y_pred_lgbm\n",
    "mixed_train = .4*y_pred_xgb_train + .6*y_pred_lgbm_train"
   ]
  },
  {
   "cell_type": "code",
   "execution_count": null,
   "metadata": {},
   "outputs": [],
   "source": [
    "print(\"Mixed AOC train: - \", roc_auc_score(train_y, mixed_train))\n",
    "print(\"Mixed AOC test : - \", roc_auc_score(test_y, mixed_test))"
   ]
  },
  {
   "cell_type": "code",
   "execution_count": null,
   "metadata": {},
   "outputs": [],
   "source": [
    "target =pd.DataFrame(ypred2[:,1],columns = [\"TARGET\"])\n",
    "sub  = read_test1[\"SK_ID_CURR\"]\n",
    "submission = pd.concat([sub,target], axis = 1)\n",
    "submission.to_csv(data_dir+\"lightgbm8.csv\",index = False)"
   ]
  },
  {
   "cell_type": "code",
   "execution_count": null,
   "metadata": {},
   "outputs": [],
   "source": [
    "XGBoost AOC test : -  0.7625767749261743\n",
    "XGBoost AOC train: -  0.7629340490685187\n",
    "LightGBM AOC test : -  0.7692120600773731\n",
    "LightGBM AOC train: -  0.7715573265867662"
   ]
  },
  {
   "cell_type": "code",
   "execution_count": null,
   "metadata": {},
   "outputs": [],
   "source": [
    "train_x.fillna(0,inplace=True,)"
   ]
  },
  {
   "cell_type": "code",
   "execution_count": null,
   "metadata": {},
   "outputs": [],
   "source": [
    "test_x.fillna(0, inplace=True)"
   ]
  },
  {
   "cell_type": "code",
   "execution_count": null,
   "metadata": {},
   "outputs": [],
   "source": [
    "feature_imp = {\"Column Names\": train_x.columns,\"XGB\" : xgb_model.feature_importances_, \n",
    "               'GB': GBoost.feature_importances_, \n",
    "               \"RF\": rf.feature_importances_,,\n",
    "               \"LGBM\": clf1.feature_importances_}"
   ]
  },
  {
   "cell_type": "code",
   "execution_count": null,
   "metadata": {},
   "outputs": [],
   "source": [
    "feature_df  = pd.DataFrame(data = feature_imp)"
   ]
  },
  {
   "cell_type": "code",
   "execution_count": null,
   "metadata": {},
   "outputs": [],
   "source": []
  },
  {
   "cell_type": "code",
   "execution_count": null,
   "metadata": {},
   "outputs": [],
   "source": [
    "train_x_fe = train_x[feature_df[feature_df[\"XGB\"]> 0][\"Column Names\"]]\n",
    "test_x_fe = test_x[feature_df[feature_df[\"XGB\"]> 0][\"Column Names\"]]"
   ]
  },
  {
   "cell_type": "code",
   "execution_count": null,
   "metadata": {},
   "outputs": [],
   "source": [
    "len(test_x_fe.columns), len(train_x_fe.columns)"
   ]
  },
  {
   "cell_type": "code",
   "execution_count": null,
   "metadata": {},
   "outputs": [],
   "source": [
    "read_test1.fillna(0, inplace=True)"
   ]
  },
  {
   "cell_type": "code",
   "execution_count": null,
   "metadata": {},
   "outputs": [],
   "source": [
    "read_test1_fe = read_test1[feature_df[feature_df[\"XGB\"]> 0][\"Column Names\"]]"
   ]
  },
  {
   "cell_type": "code",
   "execution_count": null,
   "metadata": {},
   "outputs": [],
   "source": [
    "read_test1_fe.head()"
   ]
  },
  {
   "cell_type": "code",
   "execution_count": null,
   "metadata": {},
   "outputs": [],
   "source": [
    "log_reg_pred_xgb  = xgb_model.predict_proba(read_test1.loc[:, 'CNT_CHILDREN':'PRODUCT_COMBINATION_POS'])[:,1]\n",
    "log_reg_pred_gb  = GBoost.predict_proba(read_test1.loc[:, 'CNT_CHILDREN':'PRODUCT_COMBINATION_POS'])[:,1]\n",
    "log_reg_pred_rf  = rf.predict_proba(read_test1.loc[:, 'CNT_CHILDREN':'PRODUCT_COMBINATION_POS'])[:,1]"
   ]
  },
  {
   "cell_type": "code",
   "execution_count": null,
   "metadata": {},
   "outputs": [],
   "source": [
    "#log_reg_pred_xgb  = xgb_model.predict_proba(read_test1_fe)[:,1]\n",
    "log_reg_pred_gb  = GBoost.predict_proba(read_test1_fe)[:,1]\n",
    "#log_reg_pred_rf  = rf.predict_proba(read_test1.loc[:, 'CNT_CHILDREN':'PRODUCT_COMBINATION_POS'])[:,1]"
   ]
  },
  {
   "cell_type": "code",
   "execution_count": null,
   "metadata": {},
   "outputs": [],
   "source": [
    "final_output = 0.2*(log_reg_pred_xgb) + .8*(log_reg_pred_gb)# + .1*(log_reg_pred_rf)"
   ]
  },
  {
   "cell_type": "code",
   "execution_count": null,
   "metadata": {},
   "outputs": [],
   "source": [
    "target =pd.DataFrame(y_pred_lgbm_output,columns = [\"TARGET\"])\n",
    "sub  = read_test1[\"SK_ID_CURR\"]\n",
    "submission = pd.concat([sub,target], axis = 1)\n",
    "submission.to_csv(data_dir+\"lightgbmrandom3.csv\",index = False)"
   ]
  },
  {
   "cell_type": "code",
   "execution_count": null,
   "metadata": {},
   "outputs": [],
   "source": [
    "ypred2[:,1].shape"
   ]
  },
  {
   "cell_type": "code",
   "execution_count": null,
   "metadata": {},
   "outputs": [],
   "source": [
    "y_pred_lgbm_output"
   ]
  },
  {
   "cell_type": "code",
   "execution_count": null,
   "metadata": {},
   "outputs": [],
   "source": [
    "df1 = pd.DataFrame({'Nit': ['A', 'B', 'B', 'D',\"H\" ],'vakk': np.random.randn(5), 'va': np.random.randn(5)})"
   ]
  },
  {
   "cell_type": "code",
   "execution_count": null,
   "metadata": {},
   "outputs": [],
   "source": [
    "df2 = pd.DataFrame({'Nit': ['B', 'D', 'E'],'vak': [\"a\",\"w\",\"w\"]})"
   ]
  },
  {
   "cell_type": "code",
   "execution_count": null,
   "metadata": {},
   "outputs": [],
   "source": [
    "df1"
   ]
  },
  {
   "cell_type": "code",
   "execution_count": null,
   "metadata": {},
   "outputs": [],
   "source": [
    "list(df1)"
   ]
  },
  {
   "cell_type": "code",
   "execution_count": null,
   "metadata": {},
   "outputs": [],
   "source": [
    "df3 = df1.merge( df2, on='Nit', how = \"left\",indicator= \"True\",)"
   ]
  },
  {
   "cell_type": "code",
   "execution_count": null,
   "metadata": {},
   "outputs": [],
   "source": [
    "list(df3)"
   ]
  },
  {
   "cell_type": "code",
   "execution_count": null,
   "metadata": {},
   "outputs": [],
   "source": [
    "df3.columns.get_duplicates"
   ]
  },
  {
   "cell_type": "code",
   "execution_count": null,
   "metadata": {},
   "outputs": [],
   "source": [
    "df1[\"va\"] < 0"
   ]
  },
  {
   "cell_type": "code",
   "execution_count": null,
   "metadata": {},
   "outputs": [],
   "source": [
    "df1[df1[\"va\"] < 0]"
   ]
  },
  {
   "cell_type": "code",
   "execution_count": null,
   "metadata": {},
   "outputs": [],
   "source": [
    "df1.loc[3,\"Nit\"]"
   ]
  },
  {
   "cell_type": "code",
   "execution_count": null,
   "metadata": {},
   "outputs": [],
   "source": [
    "df1.iloc[4,1]"
   ]
  },
  {
   "cell_type": "code",
   "execution_count": null,
   "metadata": {},
   "outputs": [],
   "source": [
    "previous_application.columns"
   ]
  },
  {
   "cell_type": "code",
   "execution_count": null,
   "metadata": {},
   "outputs": [],
   "source": []
  }
 ],
 "metadata": {
  "kernelspec": {
   "display_name": "Python 3",
   "language": "python",
   "name": "python3"
  },
  "language_info": {
   "codemirror_mode": {
    "name": "ipython",
    "version": 3
   },
   "file_extension": ".py",
   "mimetype": "text/x-python",
   "name": "python",
   "nbconvert_exporter": "python",
   "pygments_lexer": "ipython3",
   "version": "3.6.5"
  }
 },
 "nbformat": 4,
 "nbformat_minor": 2
}
