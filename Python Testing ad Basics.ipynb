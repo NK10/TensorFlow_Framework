{
 "cells": [
  {
   "cell_type": "code",
   "execution_count": 1,
   "metadata": {},
   "outputs": [],
   "source": [
    "import numpy as np\n",
    "import pandas as pd"
   ]
  },
  {
   "cell_type": "markdown",
   "metadata": {},
   "source": [
    "There are four collection data types in the Python programming language:\n",
    "\n",
    "1) List is a collection which is indexed and ordered(meaning, The elements have a defined order. )\n",
    "d= [11,2,3,]\n",
    "\n",
    "2) Tuple is a collection which is ordered and unchangeable. Allows duplicate members. It is represented by parentheses.\n",
    "    a = (1,2,3,4)\n",
    "\n",
    "3) Set is a collection which is unordered and unindexed. No duplicate members.It is represented by by curly({) bracket.\n",
    "    b=  {1,2,3,4,}\n",
    "    Frozen Sets Frozen sets are immutable objects that only support methods and operators that produce a result without     a?ecting the frozen set or sets to which they are applied.\n",
    "    frozen_set = frozenset([\"e\", \"f\", \"g\"]) \n",
    "\n",
    "4) Dictionary is a collection which is unordered, changeable and indexed. No duplicate members.It is represented by curly({) bracket.\n",
    "    c=  {\"A\":34,\"B\":33}\n",
    "    \n",
    "\n",
    "http://www.thelearningpoint.net/computer-science/learning-python-programming-and-data-structures/learning-python-programming-and-data-structures--tutorial-4--built-in-data-structures-strings-lists-tuples-dictionaries-mutability"
   ]
  },
  {
   "cell_type": "markdown",
   "metadata": {},
   "source": [
    "Tuples are fixed size in nature whereas lists are dynamic.\n",
    "In other words, a tuple is immutable whereas a list is mutable.\n",
    "\n",
    "You can't add elements to a tuple. Tuples have no append or extend method.\n",
    "You can't remove elements from a tuple. Tuples have no remove or pop method.\n",
    "You can find elements in a tuple, since this doesn’t change the tuple.\n",
    "You can also use the in operator to check if an element exists in the tuple.\n",
    "Tuples are faster than lists. If you're defining a constant set of values and all you're ever going to do with it is iterate through it, use a tuple instead of a list.\n",
    "\n",
    "It makes your code safer if you “write-protect” data that does not need to be changed. Using a tuple instead of a list is like having an implied assert statement that this data is constant, and that special thought (and a specific function) is required to override that.\n",
    "\n",
    "Some tuples can be used as dictionary keys (specifically, tuples that contain immutable values like strings, numbers, and other tuples). Lists can never be used as dictionary keys, because lists are not immutable.\n",
    "\n",
    "Source: Dive into Python "
   ]
  },
  {
   "cell_type": "markdown",
   "metadata": {},
   "source": [
    "# List Operations"
   ]
  },
  {
   "cell_type": "code",
   "execution_count": null,
   "metadata": {},
   "outputs": [],
   "source": [
    "arr = list()\n",
    "# or simply\n",
    "arr = []\n",
    "arr = [1,2,3]\n",
    "print(arr[0])\n",
    "# result is 1\n",
    "print (arr[0] + arr[1] + arr[2])\n",
    "\n",
    "# result is 6"
   ]
  },
  {
   "cell_type": "code",
   "execution_count": null,
   "metadata": {},
   "outputs": [],
   "source": [
    "#Adds a single element x to the end of a list.\n",
    "arr.append(9) \n",
    "print(\"Append:\", arr)\n",
    "#Merges another list L to the end.\n",
    "arr.extend([10,11])\n",
    "print(\"Extend:\",arr)\n",
    "#Inserts element x at position i.\n",
    "arr.insert(3,7)\n",
    "print(\"Insert:\",arr)\n",
    "#Removes the first occurrence of element x.\n",
    "arr.remove(9)\n",
    "print(\"Remove:\",arr)\n",
    "#Removes the last element of a list. If an argument is passed, that index item is popped out.\n",
    "print(arr.pop())\n",
    "#Returns the first index of a value in the list. Throws an error if it's not found.\n",
    "print(arr.index(3))\n",
    "#Counts the number of occurrences of an element x.\n",
    "print(arr.count(1))\n",
    "#Sorts the list.\n",
    "arr.sort()\n",
    "print(\"Sort:\",arr)\n",
    "#Reverses the list.\n",
    "arr.reverse()\n",
    "print(\"Reverse:\", arr)"
   ]
  },
  {
   "cell_type": "markdown",
   "metadata": {},
   "source": [
    "# Sets"
   ]
  },
  {
   "cell_type": "code",
   "execution_count": 6,
   "metadata": {},
   "outputs": [
    {
     "data": {
      "text/plain": [
       "{'a', 'b'}"
      ]
     },
     "execution_count": 6,
     "metadata": {},
     "output_type": "execute_result"
    }
   ],
   "source": [
    "myset = {1, 2} # Directly assigning values to a set\n",
    "myset = set()  # Initializing a set\n",
    "myset = set(['a', 'b']) # Creating a set from a list\n",
    "frozen_set = frozenset([\"e\", \"f\", \"g\"]) \n",
    "myset"
   ]
  },
  {
   "cell_type": "markdown",
   "metadata": {},
   "source": [
    "## MODIFYING SETS"
   ]
  },
  {
   "cell_type": "markdown",
   "metadata": {},
   "source": [
    "add() function"
   ]
  },
  {
   "cell_type": "code",
   "execution_count": 8,
   "metadata": {},
   "outputs": [
    {
     "data": {
      "text/plain": [
       "{(5, 4), 'a', 'b', 'c'}"
      ]
     },
     "execution_count": 8,
     "metadata": {},
     "output_type": "execute_result"
    }
   ],
   "source": [
    "myset.add('c')\n",
    "myset\n",
    "myset.add('a') # As 'a' already exists in the set, nothing happens\n",
    "myset.add((5, 4))\n",
    "myset"
   ]
  },
  {
   "cell_type": "markdown",
   "metadata": {},
   "source": [
    "update() function"
   ]
  },
  {
   "cell_type": "code",
   "execution_count": 9,
   "metadata": {},
   "outputs": [
    {
     "name": "stdout",
     "output_type": "stream",
     "text": [
      "{1, (5, 4), 2, 3, 4, 'c', 'a', 'b'}\n",
      "{1, (5, 4), 2, 3, 4, 7, 8, 'c', 'a', 'b'}\n",
      "{1, (5, 4), 2, 3, 4, 6, 7, 8, 'c', 5, 13, 'a', 'b'}\n"
     ]
    }
   ],
   "source": [
    "myset.update([1, 2, 3, 4]) # update() only works for iterable objects\n",
    "print(myset)\n",
    "myset.update({1, 7, 8})\n",
    "print(myset)\n",
    "myset.update({1, 6}, [5, 13])\n",
    "print(myset)"
   ]
  },
  {
   "cell_type": "code",
   "execution_count": 11,
   "metadata": {},
   "outputs": [
    {
     "name": "stdout",
     "output_type": "stream",
     "text": [
      "{2, 4, 5, 9, 11, 12}\n",
      "{2, 4}\n",
      "{9, 5}\n"
     ]
    }
   ],
   "source": [
    "a = {2, 4, 5, 9}\n",
    "b = {2, 4, 11, 12}\n",
    "print(a.union(b)) # Values which exist in a or b\n",
    "print(a.intersection(b)) # Values which exist in a and b\n",
    "print(a.difference(b)) # Values which exist in a but not in b"
   ]
  },
  {
   "cell_type": "code",
   "execution_count": 7,
   "metadata": {},
   "outputs": [
    {
     "name": "stdout",
     "output_type": "stream",
     "text": [
      "Set1 =  {1, 2, 3, 4, 5}\n",
      "Set2 =  {3, 4, 5, 6, 7}\n",
      "\n",
      "\n",
      "Union of Set1 & Set2: Set3 =  {1, 2, 3, 4, 5, 6, 7}\n",
      "Intersection of Set1 & Set2: Set4 =  {3, 4, 5}\n",
      "\n",
      "\n",
      "Set3 is superset of Set4\n",
      "Set4 is subset of Set3\n",
      "\n",
      "\n",
      "Elements in Set3 and not in Set4: Set5 =  {1, 2, 6, 7}\n",
      "\n",
      "\n",
      "Set4 and Set5 have nothing in common\n",
      "\n",
      "After applying clear on sets Set5: \n",
      "Set5 =  set()\n"
     ]
    }
   ],
   "source": [
    "# Python program to demonstrate working# of \n",
    "# Set in Python \n",
    "\n",
    "# Creating two sets \n",
    "set1 = set() \n",
    "set2 = set() \n",
    "\n",
    "# Adding elements to set1 \n",
    "for i in range(1, 6): \n",
    "\tset1.add(i) \n",
    "\n",
    "# Adding elements to set2 \n",
    "for i in range(3, 8): \n",
    "\tset2.add(i) \n",
    "\n",
    "print(\"Set1 = \", set1) \n",
    "print(\"Set2 = \", set2) \n",
    "print(\"\\n\") \n",
    "\n",
    "# Union of set1 and set2 \n",
    "set3 = set1 | set2# set1.union(set2) \n",
    "print(\"Union of Set1 & Set2: Set3 = \", set3) \n",
    "\n",
    "# Intersection of set1 and set2 \n",
    "set4 = set1 & set2# set1.intersection(set2) \n",
    "print(\"Intersection of Set1 & Set2: Set4 = \", set4) \n",
    "print(\"\\n\") \n",
    "\n",
    "# Checking relation between set3 and set4 \n",
    "if set3 > set4: # set3.issuperset(set4) \n",
    "\tprint(\"Set3 is superset of Set4\") \n",
    "elif set3 < set4: # set3.issubset(set4) \n",
    "\tprint(\"Set3 is subset of Set4\") \n",
    "else : # set3 == set4 \n",
    "\tprint(\"Set3 is same as Set4\") \n",
    "\n",
    "# displaying relation between set4 and set3 \n",
    "if set4 < set3: # set4.issubset(set3) \n",
    "\tprint(\"Set4 is subset of Set3\") \n",
    "\tprint(\"\\n\") \n",
    "\n",
    "# difference between set3 and set4 \n",
    "set5 = set3 - set4 \n",
    "print(\"Elements in Set3 and not in Set4: Set5 = \", set5) \n",
    "print(\"\\n\") \n",
    "\n",
    "# checkv if set4 and set5 are disjoint sets \n",
    "if set4.isdisjoint(set5): \n",
    "\tprint(\"Set4 and Set5 have nothing in common\\n\") \n",
    "\n",
    "# Removing all the values of set5 \n",
    "set5.clear() \n",
    "\n",
    "print(\"After applying clear on sets Set5: \") \n",
    "print(\"Set5 = \", set5) \n"
   ]
  },
  {
   "cell_type": "markdown",
   "metadata": {},
   "source": [
    "# Formating of Values"
   ]
  },
  {
   "cell_type": "code",
   "execution_count": null,
   "metadata": {},
   "outputs": [],
   "source": []
  },
  {
   "cell_type": "code",
   "execution_count": null,
   "metadata": {},
   "outputs": [],
   "source": []
  },
  {
   "cell_type": "code",
   "execution_count": null,
   "metadata": {},
   "outputs": [],
   "source": []
  },
  {
   "cell_type": "code",
   "execution_count": null,
   "metadata": {},
   "outputs": [],
   "source": []
  },
  {
   "cell_type": "code",
   "execution_count": null,
   "metadata": {},
   "outputs": [],
   "source": []
  },
  {
   "cell_type": "code",
   "execution_count": null,
   "metadata": {},
   "outputs": [],
   "source": [
    "my_string = \"Hello, World!\"\n",
    "print(my_string)"
   ]
  },
  {
   "cell_type": "markdown",
   "metadata": {},
   "source": [
    "Given an integer, , perform the following conditional actions:\n",
    "\n",
    "If n is odd, print Weird\n",
    "\n",
    "If n is even and in the inclusive range of 2 to 5, print Not Weird\n",
    "\n",
    "If n is even and in the inclusive range of 6 to 20, print Weird\n",
    "\n",
    "If n is even and greater than 20, print Not Weird"
   ]
  },
  {
   "cell_type": "code",
   "execution_count": null,
   "metadata": {},
   "outputs": [],
   "source": [
    "N = int(input())\n",
    "if (N%2 != 0):\n",
    "    print(\"Weird\")\n",
    "elif (N>=2 and N<=5):\n",
    "    print(\"Not Weird\")\n",
    "elif(N>=6 and N<=20):\n",
    "    print(\"Weird\")\n",
    "elif(N>20):\n",
    "    print(\"Not Weird\")"
   ]
  },
  {
   "cell_type": "markdown",
   "metadata": {},
   "source": [
    "Read two integers and print two lines. \n",
    "The first line should contain integer division,  // . \n",
    "The second line should contain float division,  / .\n",
    "\n",
    "You don't need to perform any rounding or formatting operations."
   ]
  },
  {
   "cell_type": "code",
   "execution_count": null,
   "metadata": {},
   "outputs": [],
   "source": [
    "    a = int(input())\n",
    "    b = int(input())\n",
    "    print(int(a/b))\n",
    "    print(a/b)"
   ]
  },
  {
   "cell_type": "markdown",
   "metadata": {},
   "source": [
    "Read an integer N . For all non-negative integers i<N, print i2. See the sample for details."
   ]
  },
  {
   "cell_type": "code",
   "execution_count": null,
   "metadata": {},
   "outputs": [],
   "source": [
    "    n = int(input())\n",
    "    for i in range(n):\n",
    "     print(i*i)"
   ]
  },
  {
   "cell_type": "markdown",
   "metadata": {},
   "source": [
    "We add a Leap Day on February 29, almost every four years. The leap day is an extra, or intercalary day and we add it to the shortest month of the year, February. \n",
    "In the Gregorian calendar three criteria must be taken into account to identify leap years:\n",
    "\n",
    "The year can be evenly divided by 4, is a leap year, unless:\n",
    "\n",
    "    The year can be evenly divided by 100, it is NOT a leap year, unless:\n",
    "\n",
    "        The year is also evenly divisible by 400. Then it is a leap year.\n",
    "\n",
    "This means that in the Gregorian calendar, the years 2000 and 2400 are leap years, while 1800, 1900, 2100, 2200, 2300 and 2500 are NOT leap years.Source\n",
    "\n",
    "Task \n",
    "You are given the year, and you have to write a function to check if the year is leap or not.\n",
    "\n",
    "Note that you have to complete the function and remaining code is given as template."
   ]
  },
  {
   "cell_type": "code",
   "execution_count": null,
   "metadata": {},
   "outputs": [],
   "source": [
    "def is_leap(year):\n",
    "    leap = False\n",
    "    \n",
    "    if ((year%4 ==0) ):\n",
    "        leap = True\n",
    "        if(year%100==0 ):\n",
    "            leap = False\n",
    "            if((year%400==0)):\n",
    "        \n",
    "                leap = True\n",
    "    return leap\n",
    "\n",
    "year = int(input())\n",
    "print(is_leap(year))\n",
    "\n",
    "\n",
    "year = int(input())\n",
    "print(is_leap(year))"
   ]
  },
  {
   "cell_type": "markdown",
   "metadata": {},
   "source": [
    "Read an integer .\n",
    "\n",
    "Without using any string methods, try to print the following:\n",
    "123...N\n",
    "end in the print statement is used to supress the new line"
   ]
  },
  {
   "cell_type": "code",
   "execution_count": 25,
   "metadata": {},
   "outputs": [
    {
     "name": "stdout",
     "output_type": "stream",
     "text": [
      "3\n",
      "123"
     ]
    }
   ],
   "source": [
    "n = int(input())\n",
    "for i in range(n):\n",
    "    print(i+1, end='')"
   ]
  },
  {
   "cell_type": "code",
   "execution_count": 23,
   "metadata": {},
   "outputs": [
    {
     "name": "stdout",
     "output_type": "stream",
     "text": [
      "hACKERrANK.COM PRESENTS pYTHONIST 2\n"
     ]
    }
   ],
   "source": [
    "s =  \"HackerRank.com presents Pythonist 2\"\n",
    "print(s.swapcase())"
   ]
  },
  {
   "cell_type": "code",
   "execution_count": 33,
   "metadata": {},
   "outputs": [
    {
     "name": "stdout",
     "output_type": "stream",
     "text": [
      "thisisgood\n"
     ]
    }
   ],
   "source": [
    "t= [\"this\", \"is\", \"good\"]\n",
    "print(\"\".join([t[i] for i in range(len(t))]))"
   ]
  },
  {
   "cell_type": "markdown",
   "metadata": {},
   "source": [
    "#### String Split and Join"
   ]
  },
  {
   "cell_type": "code",
   "execution_count": 35,
   "metadata": {},
   "outputs": [
    {
     "name": "stdout",
     "output_type": "stream",
     "text": [
      "['this', 'is', 'a', 'string']\n",
      "this-is-a-string\n"
     ]
    }
   ],
   "source": [
    "a = \"this is a string\"\n",
    "a = a.split(\" \") # a is converted to a list of strings. \n",
    "print( a)\n",
    "a = \"-\".join(a)\n",
    "print( a)"
   ]
  },
  {
   "cell_type": "code",
   "execution_count": 36,
   "metadata": {},
   "outputs": [
    {
     "name": "stdout",
     "output_type": "stream",
     "text": [
      "this-is-a-string\n"
     ]
    }
   ],
   "source": [
    "a = \"this is a string\"\n",
    "print(\"-\".join(a.split()))"
   ]
  },
  {
   "cell_type": "code",
   "execution_count": 47,
   "metadata": {},
   "outputs": [
    {
     "name": "stdout",
     "output_type": "stream",
     "text": [
      "Nit\n",
      "Ku\n",
      "Hello Nit Ku ! You just delved into python.\n"
     ]
    }
   ],
   "source": [
    "fn = str(input())\n",
    "ln= str(input())\n",
    "print(\"Hello {0} {1}! You just delved into python.\".format(fn,ln))"
   ]
  },
  {
   "cell_type": "markdown",
   "metadata": {},
   "source": [
    "#### String Manipluation"
   ]
  },
  {
   "cell_type": "markdown",
   "metadata": {},
   "source": [
    "We have seen that lists are mutable (they can be changed), and tuples are immutable (they cannot be changed).\n",
    "\n",
    "Let's try to understand this with an example.\n",
    "\n",
    "You are given an immutable string, and you want to make changes to it.\n",
    "You can access an index by:\n",
    "    print string[5]\n",
    "    What if you would like to assign a value?\n",
    "    string[5] = 'k' \n",
    "Traceback (most recent call last):\n",
    "  File \"<stdin>\", line 1, in <module>\n",
    "TypeError: 'str' object does not support item assignment"
   ]
  },
  {
   "cell_type": "code",
   "execution_count": 55,
   "metadata": {},
   "outputs": [
    {
     "name": "stdout",
     "output_type": "stream",
     "text": [
      "One solution is to convert the string to a list and then change the value.\n",
      "before: abracadabra\n",
      "after: abracYdabra\n",
      "Another approach is to slice the string and join it back.\n",
      "abrackdabra\n"
     ]
    }
   ],
   "source": [
    "print(\"One solution is to convert the string to a list and then change the value.\")\n",
    "string = \"abracadabra\"\n",
    "print(\"before:\",string)\n",
    "l = list(string)\n",
    "l[5] = 'Y'\n",
    "string = ''.join(l)\n",
    "print(\"after:\",string)\n",
    "\n",
    "print(\"Another approach is to slice the string and join it back.\")\n",
    "string = string[:5] + \"k\" + string[6:]\n",
    "print (string)"
   ]
  },
  {
   "cell_type": "code",
   "execution_count": 157,
   "metadata": {},
   "outputs": [
    {
     "name": "stdout",
     "output_type": "stream",
     "text": [
      "0\n"
     ]
    }
   ],
   "source": [
    "string = \"ininini\"\n",
    "substr = \"ini\"\n",
    "print(string.find(substr))\n",
    "#print(string[string.find(substr)+1:len(string)])"
   ]
  },
  {
   "cell_type": "code",
   "execution_count": 158,
   "metadata": {},
   "outputs": [
    {
     "name": "stdout",
     "output_type": "stream",
     "text": [
      "3\n"
     ]
    }
   ],
   "source": [
    "l= 0\n",
    "count= 0\n",
    "while(l>=0):\n",
    "    l = string.find(substr,l,len(string))\n",
    "    #print(l)\n",
    "    if(l==0):\n",
    "        l+=1\n",
    "    if(l>=0):\n",
    "        count+=1\n",
    "        string = string[l:len(string)]\n",
    "        #print(string, count)\n",
    "print(count)"
   ]
  },
  {
   "cell_type": "markdown",
   "metadata": {},
   "source": [
    "Python any() function. The any() function tests whether any item in the iterable evaluates to True to not. \n",
    "It accepts an iterable and returns True, if at least one item in the iterable is true, otherwise, it returns False.\n",
    "\n",
    "Below functions can can check on a string or at a character level as shown below with a for loop"
   ]
  },
  {
   "cell_type": "code",
   "execution_count": 166,
   "metadata": {},
   "outputs": [
    {
     "name": "stdout",
     "output_type": "stream",
     "text": [
      "True\n",
      "False\n",
      "False\n",
      "False\n",
      "False\n"
     ]
    }
   ],
   "source": [
    "s = \"Th23\"\n",
    "print(s.isalnum())\n",
    "print(s.isalpha())\n",
    "print(s.isdigit())\n",
    "print(s.islower())\n",
    "print(s.isupper())\n"
   ]
  },
  {
   "cell_type": "code",
   "execution_count": 167,
   "metadata": {},
   "outputs": [
    {
     "name": "stdout",
     "output_type": "stream",
     "text": [
      "w2E\n",
      "True\n",
      "True\n",
      "True\n",
      "True\n",
      "True\n"
     ]
    }
   ],
   "source": [
    "    str = input()\n",
    "    print (any(c.isalnum()  for c in str))\n",
    "    print (any(c.isalpha() for c in str))\n",
    "    print (any(c.isdigit() for c in str))\n",
    "    print (any(c.islower() for c in str))\n",
    "    print (any(c.isupper() for c in str))"
   ]
  },
  {
   "cell_type": "markdown",
   "metadata": {},
   "source": [
    "in Python, a string of text can be aligned left, right and center.\n",
    "\n",
    ".ljust(width)           This method returns a left aligned string of length width.\n",
    "\n",
    ".center(width)          This method returns a centered string of length width.\n",
    "\n",
    ".rjust(width)           This method returns a right aligned string of length width.\n"
   ]
  },
  {
   "cell_type": "code",
   "execution_count": 170,
   "metadata": {},
   "outputs": [
    {
     "name": "stdout",
     "output_type": "stream",
     "text": [
      "HackerRank----------\n",
      "----------HackerRank\n",
      "-----HackerRank-----\n"
     ]
    }
   ],
   "source": [
    "width = 20\n",
    "print( 'HackerRank'.ljust(width,'-'))\n",
    "print( 'HackerRank'.rjust(width,'-'))\n",
    "print( 'HackerRank'.center(width,'-'))"
   ]
  },
  {
   "cell_type": "code",
   "execution_count": 171,
   "metadata": {},
   "outputs": [
    {
     "name": "stdout",
     "output_type": "stream",
     "text": [
      "11\n",
      "          H          \n",
      "         HHH         \n",
      "        HHHHH        \n",
      "       HHHHHHH       \n",
      "      HHHHHHHHH      \n",
      "     HHHHHHHHHHH     \n",
      "    HHHHHHHHHHHHH    \n",
      "   HHHHHHHHHHHHHHH   \n",
      "  HHHHHHHHHHHHHHHHH  \n",
      " HHHHHHHHHHHHHHHHHHH \n",
      "HHHHHHHHHHHHHHHHHHHHH\n",
      "     HHHHHHHHHHH                                 HHHHHHHHHHH                            \n",
      "     HHHHHHHHHHH                                 HHHHHHHHHHH                            \n",
      "     HHHHHHHHHHH                                 HHHHHHHHHHH                            \n",
      "     HHHHHHHHHHH                                 HHHHHHHHHHH                            \n",
      "     HHHHHHHHHHH                                 HHHHHHHHHHH                            \n",
      "     HHHHHHHHHHH                                 HHHHHHHHHHH                            \n",
      "     HHHHHHHHHHH                                 HHHHHHHHHHH                            \n",
      "     HHHHHHHHHHH                                 HHHHHHHHHHH                            \n",
      "     HHHHHHHHHHH                                 HHHHHHHHHHH                            \n",
      "     HHHHHHHHHHH                                 HHHHHHHHHHH                            \n",
      "     HHHHHHHHHHH                                 HHHHHHHHHHH                            \n",
      "     HHHHHHHHHHH                                 HHHHHHHHHHH                            \n",
      "     HHHHHHHHHHHHHHHHHHHHHHHHHHHHHHHHHHHHHHHHHHHHHHHHHHHHHHH      \n",
      "     HHHHHHHHHHHHHHHHHHHHHHHHHHHHHHHHHHHHHHHHHHHHHHHHHHHHHHH      \n",
      "     HHHHHHHHHHHHHHHHHHHHHHHHHHHHHHHHHHHHHHHHHHHHHHHHHHHHHHH      \n",
      "     HHHHHHHHHHHHHHHHHHHHHHHHHHHHHHHHHHHHHHHHHHHHHHHHHHHHHHH      \n",
      "     HHHHHHHHHHHHHHHHHHHHHHHHHHHHHHHHHHHHHHHHHHHHHHHHHHHHHHH      \n",
      "     HHHHHHHHHHHHHHHHHHHHHHHHHHHHHHHHHHHHHHHHHHHHHHHHHHHHHHH      \n",
      "     HHHHHHHHHHH                                 HHHHHHHHHHH                            \n",
      "     HHHHHHHHHHH                                 HHHHHHHHHHH                            \n",
      "     HHHHHHHHHHH                                 HHHHHHHHHHH                            \n",
      "     HHHHHHHHHHH                                 HHHHHHHHHHH                            \n",
      "     HHHHHHHHHHH                                 HHHHHHHHHHH                            \n",
      "     HHHHHHHHHHH                                 HHHHHHHHHHH                            \n",
      "     HHHHHHHHHHH                                 HHHHHHHHHHH                            \n",
      "     HHHHHHHHHHH                                 HHHHHHHHHHH                            \n",
      "     HHHHHHHHHHH                                 HHHHHHHHHHH                            \n",
      "     HHHHHHHHHHH                                 HHHHHHHHHHH                            \n",
      "     HHHHHHHHHHH                                 HHHHHHHHHHH                            \n",
      "     HHHHHHHHHHH                                 HHHHHHHHHHH                            \n",
      "                                            HHHHHHHHHHHHHHHHHHHHH \n",
      "                                             HHHHHHHHHHHHHHHHHHH  \n",
      "                                              HHHHHHHHHHHHHHHHH   \n",
      "                                               HHHHHHHHHHHHHHH    \n",
      "                                                HHHHHHHHHHHHH     \n",
      "                                                 HHHHHHHHHHH      \n",
      "                                                  HHHHHHHHH       \n",
      "                                                   HHHHHHH        \n",
      "                                                    HHHHH         \n",
      "                                                     HHH          \n",
      "                                                      H           \n"
     ]
    }
   ],
   "source": [
    "# Replace all ______ with rjust, ljust or center.\n",
    "\n",
    "thickness = int(input()) # This must be an odd number\n",
    "c = 'H'\n",
    "\n",
    "# Top Cone\n",
    "for i in range(thickness):\n",
    "    print((c*i).rjust(thickness-1)+c+(c*i).ljust(thickness-1))\n",
    "\n",
    "# Top Pillars\n",
    "for i in range(thickness+1):\n",
    "    print((c*thickness).center(thickness*2)+(c*thickness).center(thickness*6))\n",
    "\n",
    "# Middle Belt\n",
    "for i in range((thickness+1)//2):\n",
    "    print((c*thickness*5).center(thickness*6))\n",
    "\n",
    "# Bottom Pillars\n",
    "for i in range(thickness+1):\n",
    "    print((c*thickness).center(thickness*2)+(c*thickness).center(thickness*6))\n",
    "\n",
    "# Bottom Cone\n",
    "for i in range(thickness):\n",
    "    print(((c*(thickness-i-1)).rjust(thickness)+c+(c*(thickness-i-1)).ljust(thickness)).rjust(thickness*6))"
   ]
  },
  {
   "cell_type": "markdown",
   "metadata": {},
   "source": [
    "https://www.geeksforgeeks.org/python-format-function/\n",
    "\n",
    "s – strings\n",
    "\n",
    "d – decimal integers (base-10)\n",
    "f – floating point display\n",
    "c – character\n",
    "b – binary\n",
    "o – octal\n",
    "x – hexadecimal with lowercase letters after 9\n",
    "X – hexadecimal with uppercase letters after 9\n",
    "e – exponent notation"
   ]
  },
  {
   "cell_type": "code",
   "execution_count": 175,
   "metadata": {},
   "outputs": [
    {
     "name": "stdout",
     "output_type": "stream",
     "text": [
      "5\n"
     ]
    }
   ],
   "source": [
    "number = int(input())"
   ]
  },
  {
   "cell_type": "code",
   "execution_count": 210,
   "metadata": {},
   "outputs": [
    {
     "name": "stdout",
     "output_type": "stream",
     "text": [
      "101\n",
      "1 1 1 1\n",
      "2 2 2 10\n",
      "3 3 3 11\n",
      "4 4 4 100\n",
      "5 5 5 101\n"
     ]
    }
   ],
   "source": [
    "width = len(\"{0:b}\".format(number))\n",
    "for i in range(1, number + 1):\n",
    "        print(\"{0:{width}d} {0:{width}o} {0:{width}X} {0:{width}b}\".format(i, width=width))"
   ]
  },
  {
   "cell_type": "code",
   "execution_count": 215,
   "metadata": {},
   "outputs": [
    {
     "name": "stdout",
     "output_type": "stream",
     "text": [
      "Hello Nitin Kumar, how are you doing. You owe 10000900.000 2\n"
     ]
    }
   ],
   "source": [
    "print(\"Hello {0} {1}, how are you doing. You owe {2:.3f} {3:d}\".format(\"Nitin\",\"Kumar\",10000900,2))"
   ]
  },
  {
   "cell_type": "markdown",
   "metadata": {},
   "source": [
    "If sep is not specified or is None, a different splitting algorithm is applied: runs of consecutive whitespace \n",
    "    are regarded as a single separator, and the result will contain no empty strings at the start or end if the \n",
    "    string has leading or trailing whitespace. Consequently, splitting an empty string or a string consisting of \n",
    "    just whitespace with a None separator returns []."
   ]
  },
  {
   "cell_type": "code",
   "execution_count": 277,
   "metadata": {},
   "outputs": [],
   "source": [
    "s = \"hello   world  lol\""
   ]
  },
  {
   "cell_type": "code",
   "execution_count": 292,
   "metadata": {},
   "outputs": [
    {
     "name": "stdout",
     "output_type": "stream",
     "text": [
      "Hello   World  Lol\n"
     ]
    }
   ],
   "source": [
    "t = s.split( \" \")\n",
    "print(' '.join([t[i].capitalize() for i in range(len(t))] ))"
   ]
  },
  {
   "cell_type": "code",
   "execution_count": 290,
   "metadata": {},
   "outputs": [
    {
     "data": {
      "text/plain": [
       "['hello', 'world', 'lol']"
      ]
     },
     "execution_count": 290,
     "metadata": {},
     "output_type": "execute_result"
    }
   ],
   "source": [
    "\"hello   world  lol\".split()"
   ]
  },
  {
   "cell_type": "code",
   "execution_count": 299,
   "metadata": {},
   "outputs": [],
   "source": []
  },
  {
   "cell_type": "code",
   "execution_count": 300,
   "metadata": {},
   "outputs": [],
   "source": []
  },
  {
   "cell_type": "code",
   "execution_count": 47,
   "metadata": {},
   "outputs": [
    {
     "data": {
      "text/plain": [
       "['B', 'A', 'N', 'A', 'N', 'A']"
      ]
     },
     "execution_count": 47,
     "metadata": {},
     "output_type": "execute_result"
    }
   ],
   "source": []
  },
  {
   "cell_type": "code",
   "execution_count": 52,
   "metadata": {},
   "outputs": [
    {
     "name": "stdout",
     "output_type": "stream",
     "text": [
      "con ['B']\n",
      "con ['B', 'A']\n",
      "con ['B', 'A', 'N']\n",
      "con ['B', 'A', 'N', 'A']\n",
      "con ['B', 'A', 'N', 'A', 'N']\n",
      "con ['B', 'A', 'N', 'A', 'N', 'A']\n",
      "vol ['A']\n",
      "vol ['A', 'N']\n",
      "vol ['A', 'N', 'A']\n",
      "vol ['A', 'N', 'A', 'N']\n",
      "vol ['A', 'N', 'A', 'N', 'A']\n",
      "con ['B', 'A', 'N', 'A', 'N', 'A', 'N']\n",
      "con ['B', 'A', 'N', 'A', 'N', 'A', 'N', 'A']\n",
      "con ['B', 'A', 'N', 'A', 'N', 'A', 'N', 'A', 'N']\n",
      "con ['B', 'A', 'N', 'A', 'N', 'A', 'N', 'A', 'N', 'A']\n",
      "vol ['A', 'N', 'A', 'N', 'A', 'A']\n",
      "vol ['A', 'N', 'A', 'N', 'A', 'A', 'N']\n",
      "vol ['A', 'N', 'A', 'N', 'A', 'A', 'N', 'A']\n",
      "con ['B', 'A', 'N', 'A', 'N', 'A', 'N', 'A', 'N', 'A', 'N']\n",
      "con ['B', 'A', 'N', 'A', 'N', 'A', 'N', 'A', 'N', 'A', 'N', 'A']\n",
      "vol ['A', 'N', 'A', 'N', 'A', 'A', 'N', 'A', 'A']\n",
      "Stuart 12\n",
      "Count of Cont is: 12 and Count of Vol is 9\n"
     ]
    }
   ],
   "source": [
    "p = \"BANANA\"\n",
    "p = list(p)\n",
    "vow = [\"A\",\"E\",\"I\",\"O\",\"U\"]\n",
    "count_vol = 0\n",
    "count_cons = 0\n",
    "vol =[]\n",
    "con = []\n",
    "t = []\n",
    "for i in range(len(p)):\n",
    "    for j in range(i,len(p)):\n",
    "        #print(\"inside j\",i,j)\n",
    "        if(p[i]in vow):\n",
    "            #vol.append(p[i]+[j])\n",
    "            vol.append(p[j])\n",
    "            print(\"vol\" ,vol)\n",
    "            count_vol+=1\n",
    "        else:\n",
    "            #con.append(p[i]+[j])\n",
    "            con.append(p[j])\n",
    "            count_cons+=1\n",
    "            print(\"con\",con )\n",
    "\n",
    "if(count_cons>=count_vol):\n",
    "    print(\"Stuart\", count_cons)\n",
    "else:\n",
    "    print(\"Kevin\", count_vol)   \n",
    "print(\"Count of Cont is: {} and Count of Vol is {}\" .format(count_cons, count_vol))     "
   ]
  },
  {
   "cell_type": "code",
   "execution_count": 43,
   "metadata": {},
   "outputs": [],
   "source": [
    "arrr = [-10., -8.,   4.,   3.,   2.,   1.]"
   ]
  },
  {
   "cell_type": "code",
   "execution_count": 49,
   "metadata": {},
   "outputs": [],
   "source": [
    "arrr.reverse()"
   ]
  },
  {
   "cell_type": "code",
   "execution_count": 50,
   "metadata": {},
   "outputs": [
    {
     "name": "stdout",
     "output_type": "stream",
     "text": [
      "[  1.   2.   3.   4.  -8. -10.]\n"
     ]
    }
   ],
   "source": [
    "print(np.array(arrr, float))"
   ]
  },
  {
   "cell_type": "code",
   "execution_count": 47,
   "metadata": {},
   "outputs": [
    {
     "name": "stdout",
     "output_type": "stream",
     "text": [
      "List :  None\n"
     ]
    }
   ],
   "source": [
    "aList = [123, 'xyz', 'zara', 'abc', 'xyz'];\n",
    "print (\"List : \", aList.reverse())"
   ]
  },
  {
   "cell_type": "code",
   "execution_count": 61,
   "metadata": {},
   "outputs": [
    {
     "name": "stdout",
     "output_type": "stream",
     "text": [
      "1 2 3 4 5 6 7 8 9\n",
      "[[1 2 3]\n",
      " [4 5 6]\n",
      " [7 8 9]]\n"
     ]
    }
   ],
   "source": [
    "num = input()\n",
    "a = (np.array(num.split(\" \"),int)).reshape(3,3)\n",
    "print(a)"
   ]
  },
  {
   "cell_type": "code",
   "execution_count": 63,
   "metadata": {},
   "outputs": [
    {
     "name": "stdout",
     "output_type": "stream",
     "text": [
      "1 2 3 4 5 6 7 8 9\n",
      "[[1 2 3]\n",
      " [4 5 6]\n",
      " [7 8 9]]\n"
     ]
    }
   ],
   "source": [
    "import numpy as np\n",
    "print(np.array(input().split(),int).reshape(3,3))"
   ]
  },
  {
   "cell_type": "code",
   "execution_count": 64,
   "metadata": {},
   "outputs": [],
   "source": [
    "a = [[1,2],[3,4]]"
   ]
  },
  {
   "cell_type": "code",
   "execution_count": 66,
   "metadata": {},
   "outputs": [],
   "source": [
    "t = np.array(a)"
   ]
  },
  {
   "cell_type": "code",
   "execution_count": 67,
   "metadata": {},
   "outputs": [
    {
     "data": {
      "text/plain": [
       "array([1, 2, 3, 4])"
      ]
     },
     "execution_count": 67,
     "metadata": {},
     "output_type": "execute_result"
    }
   ],
   "source": [
    "t.flatten()"
   ]
  },
  {
   "cell_type": "code",
   "execution_count": 98,
   "metadata": {},
   "outputs": [
    {
     "name": "stdout",
     "output_type": "stream",
     "text": [
      "[[ 1  2  3 10 20 30]\n",
      " [ 0  0  0  7  8  9]]\n",
      "[[ 1  2  3]\n",
      " [ 0  0  0]\n",
      " [10 20 30]\n",
      " [ 7  8  9]]\n"
     ]
    }
   ],
   "source": [
    "array_1 = np.array([[1,2,3],[0,0,0]])\n",
    "array_2 = np.array([[10,20,30],[7,8,9]])\n",
    "\n",
    "print(np.concatenate((array_1, array_2), axis = 1)  ) \n",
    "print(np.concatenate((array_1, array_2), axis = 0)  ) "
   ]
  },
  {
   "cell_type": "code",
   "execution_count": 74,
   "metadata": {},
   "outputs": [
    {
     "name": "stdout",
     "output_type": "stream",
     "text": [
      "4 3 2\n",
      "1 2\n",
      "1 2\n",
      "1 2\n",
      "1 2\n",
      "3 4\n",
      "3 4\n",
      "3 4\n",
      "[[1 2]\n",
      " [1 2]\n",
      " [1 2]\n",
      " [1 2]\n",
      " [3 4]\n",
      " [3 4]\n",
      " [3 4]]\n"
     ]
    }
   ],
   "source": [
    "a, b, c = map(int,input().split())\n",
    "arrA = np.array([input().split() for _ in range(a)],int)\n",
    "arrB = np.array([input().split() for _ in range(b)],int)\n",
    "print(np.concatenate((arrA, arrB), axis = 0))"
   ]
  },
  {
   "cell_type": "code",
   "execution_count": 81,
   "metadata": {},
   "outputs": [],
   "source": [
    "image = np.array([[[ 0.67826139,  0.29380381],\n",
    "        [ 0.90714982,  0.52835647],\n",
    "        [ 0.4215251 ,  0.45017551]],\n",
    "\n",
    "       [[ 0.92814219,  0.96677647],\n",
    "        [ 0.85304703,  0.52351845],\n",
    "        [ 0.19981397,  0.27417313]],\n",
    "\n",
    "       [[ 0.60659855,  0.00533165],\n",
    "        [ 0.10820313,  0.49978937],\n",
    "        [ 0.34144279,  0.94630077]]])"
   ]
  },
  {
   "cell_type": "code",
   "execution_count": 82,
   "metadata": {},
   "outputs": [
    {
     "data": {
      "text/plain": [
       "array([[[0.67826139, 0.29380381],\n",
       "        [0.90714982, 0.52835647],\n",
       "        [0.4215251 , 0.45017551]],\n",
       "\n",
       "       [[0.92814219, 0.96677647],\n",
       "        [0.85304703, 0.52351845],\n",
       "        [0.19981397, 0.27417313]],\n",
       "\n",
       "       [[0.60659855, 0.00533165],\n",
       "        [0.10820313, 0.49978937],\n",
       "        [0.34144279, 0.94630077]]])"
      ]
     },
     "execution_count": 82,
     "metadata": {},
     "output_type": "execute_result"
    }
   ],
   "source": [
    "image"
   ]
  },
  {
   "cell_type": "code",
   "execution_count": 83,
   "metadata": {},
   "outputs": [
    {
     "data": {
      "text/plain": [
       "array([0.67826139, 0.29380381, 0.90714982, 0.52835647, 0.4215251 ,\n",
       "       0.45017551, 0.92814219, 0.96677647, 0.85304703, 0.52351845,\n",
       "       0.19981397, 0.27417313, 0.60659855, 0.00533165, 0.10820313,\n",
       "       0.49978937, 0.34144279, 0.94630077])"
      ]
     },
     "execution_count": 83,
     "metadata": {},
     "output_type": "execute_result"
    }
   ],
   "source": [
    "image.flatten()"
   ]
  },
  {
   "cell_type": "code",
   "execution_count": 84,
   "metadata": {},
   "outputs": [
    {
     "data": {
      "text/plain": [
       "array([[0.67826139],\n",
       "       [0.29380381],\n",
       "       [0.90714982],\n",
       "       [0.52835647],\n",
       "       [0.4215251 ],\n",
       "       [0.45017551],\n",
       "       [0.92814219],\n",
       "       [0.96677647],\n",
       "       [0.85304703],\n",
       "       [0.52351845],\n",
       "       [0.19981397],\n",
       "       [0.27417313],\n",
       "       [0.60659855],\n",
       "       [0.00533165],\n",
       "       [0.10820313],\n",
       "       [0.49978937],\n",
       "       [0.34144279],\n",
       "       [0.94630077]])"
      ]
     },
     "execution_count": 84,
     "metadata": {},
     "output_type": "execute_result"
    }
   ],
   "source": [
    "image.reshape(-1,1)"
   ]
  },
  {
   "cell_type": "code",
   "execution_count": 91,
   "metadata": {},
   "outputs": [
    {
     "data": {
      "text/plain": [
       "array([[[2.21300213, 1.26591193],\n",
       "        [1.86839998, 1.55166429],\n",
       "        [0.96278186, 1.67064941]]])"
      ]
     },
     "execution_count": 91,
     "metadata": {},
     "output_type": "execute_result"
    }
   ],
   "source": [
    "image.sum(axis=0,keepdims=True)"
   ]
  },
  {
   "cell_type": "code",
   "execution_count": 24,
   "metadata": {},
   "outputs": [],
   "source": [
    "a  =  np.array([[1,2,1],[1,2,3],[4,5,6]])"
   ]
  },
  {
   "cell_type": "code",
   "execution_count": 25,
   "metadata": {},
   "outputs": [
    {
     "name": "stdout",
     "output_type": "stream",
     "text": [
      "2\n"
     ]
    },
    {
     "data": {
      "text/plain": [
       "array([[1, 2, 1],\n",
       "       [1, 2, 3],\n",
       "       [4, 5, 6]])"
      ]
     },
     "execution_count": 25,
     "metadata": {},
     "output_type": "execute_result"
    }
   ],
   "source": [
    "print(a.ndim)\n",
    "a"
   ]
  },
  {
   "cell_type": "code",
   "execution_count": 29,
   "metadata": {},
   "outputs": [
    {
     "data": {
      "text/plain": [
       "array([ 6,  9, 10])"
      ]
     },
     "execution_count": 29,
     "metadata": {},
     "output_type": "execute_result"
    }
   ],
   "source": [
    "a.sum(axis=0)"
   ]
  },
  {
   "cell_type": "code",
   "execution_count": 154,
   "metadata": {
    "collapsed": true
   },
   "outputs": [
    {
     "name": "stdout",
     "output_type": "stream",
     "text": [
      "(1, 3, 3)\n"
     ]
    },
    {
     "data": {
      "text/plain": [
       "array([[[ 2,  4,  2],\n",
       "        [ 2,  4,  6],\n",
       "        [ 8, 10, 12]]])"
      ]
     },
     "execution_count": 154,
     "metadata": {},
     "output_type": "execute_result"
    }
   ],
   "source": [
    "print(a.sum(axis =0,keepdims = True).shape)\n",
    "a.sum(axis =0, keepdims = True)"
   ]
  },
  {
   "cell_type": "code",
   "execution_count": 119,
   "metadata": {},
   "outputs": [
    {
     "name": "stdout",
     "output_type": "stream",
     "text": [
      "(2, 3)\n"
     ]
    },
    {
     "data": {
      "text/plain": [
       "array([[ 6,  9, 10],\n",
       "       [ 6,  9, 10]])"
      ]
     },
     "execution_count": 119,
     "metadata": {},
     "output_type": "execute_result"
    }
   ],
   "source": [
    "print(a.sum(axis=1).shape)\n",
    "a.sum(axis=1,keepdims = True)"
   ]
  },
  {
   "cell_type": "code",
   "execution_count": 122,
   "metadata": {},
   "outputs": [
    {
     "name": "stdout",
     "output_type": "stream",
     "text": [
      "(2, 3)\n"
     ]
    },
    {
     "data": {
      "text/plain": [
       "array([[ 4,  6, 15],\n",
       "       [ 4,  6, 15]])"
      ]
     },
     "execution_count": 122,
     "metadata": {},
     "output_type": "execute_result"
    }
   ],
   "source": [
    "print(a.sum(axis=2).shape)\n",
    "a.sum(axis=2)"
   ]
  },
  {
   "cell_type": "code",
   "execution_count": 2,
   "metadata": {},
   "outputs": [],
   "source": [
    "x = np.array([\n",
    "    [1, 2, 3, 0, 0],\n",
    "    [4, 5, 0, 0 ,0]])"
   ]
  },
  {
   "cell_type": "code",
   "execution_count": 3,
   "metadata": {},
   "outputs": [
    {
     "data": {
      "text/plain": [
       "(2, 5)"
      ]
     },
     "execution_count": 3,
     "metadata": {},
     "output_type": "execute_result"
    }
   ],
   "source": [
    "x.shape"
   ]
  },
  {
   "cell_type": "code",
   "execution_count": 4,
   "metadata": {},
   "outputs": [
    {
     "data": {
      "text/plain": [
       "array([[6],\n",
       "       [9]])"
      ]
     },
     "execution_count": 4,
     "metadata": {},
     "output_type": "execute_result"
    }
   ],
   "source": [
    "np.sum(x, axis=1, keepdims=True)"
   ]
  },
  {
   "cell_type": "code",
   "execution_count": 5,
   "metadata": {},
   "outputs": [
    {
     "data": {
      "text/plain": [
       "array([[5, 7, 3, 0, 0]])"
      ]
     },
     "execution_count": 5,
     "metadata": {},
     "output_type": "execute_result"
    }
   ],
   "source": [
    "np.sum(x, axis = 0,keepdims=True )"
   ]
  },
  {
   "cell_type": "code",
   "execution_count": 6,
   "metadata": {},
   "outputs": [
    {
     "data": {
      "text/plain": [
       "array([6, 9])"
      ]
     },
     "execution_count": 6,
     "metadata": {},
     "output_type": "execute_result"
    }
   ],
   "source": [
    "np.sum(x, axis = 1)"
   ]
  },
  {
   "cell_type": "code",
   "execution_count": 8,
   "metadata": {},
   "outputs": [
    {
     "data": {
      "text/plain": [
       "array([[0.16666667, 0.33333333, 0.5       , 0.        , 0.        ],\n",
       "       [0.44444444, 0.55555556, 0.        , 0.        , 0.        ]])"
      ]
     },
     "execution_count": 8,
     "metadata": {},
     "output_type": "execute_result"
    }
   ],
   "source": [
    "x/(np.sum(x, axis=1, keepdims=True))"
   ]
  },
  {
   "cell_type": "code",
   "execution_count": 138,
   "metadata": {},
   "outputs": [
    {
     "name": "stdout",
     "output_type": "stream",
     "text": [
      "2 2 2\n",
      "[[[0. 0.]\n",
      "  [0. 0.]]\n",
      "\n",
      " [[0. 0.]\n",
      "  [0. 0.]]]\n",
      "[[[1. 1.]\n",
      "  [1. 1.]]\n",
      "\n",
      " [[1. 1.]\n",
      "  [1. 1.]]]\n"
     ]
    }
   ],
   "source": [
    "dim = list(map(int,input().split()))\n",
    "print(np.zeros((dim[0],dim[1],dim[2])))\n",
    "print(np.ones((dim[0],dim[1],dim[2])))"
   ]
  },
  {
   "cell_type": "code",
   "execution_count": 135,
   "metadata": {},
   "outputs": [
    {
     "name": "stdout",
     "output_type": "stream",
     "text": [
      "2 2 2\n"
     ]
    }
   ],
   "source": [
    "a = list(map(int,input().split()))"
   ]
  },
  {
   "cell_type": "code",
   "execution_count": 136,
   "metadata": {},
   "outputs": [
    {
     "data": {
      "text/plain": [
       "[2, 2, 2]"
      ]
     },
     "execution_count": 136,
     "metadata": {},
     "output_type": "execute_result"
    }
   ],
   "source": [
    "a"
   ]
  },
  {
   "cell_type": "code",
   "execution_count": 139,
   "metadata": {},
   "outputs": [],
   "source": [
    "import numpy"
   ]
  },
  {
   "cell_type": "code",
   "execution_count": 142,
   "metadata": {},
   "outputs": [
    {
     "name": "stdout",
     "output_type": "stream",
     "text": [
      "3 3\n"
     ]
    },
    {
     "data": {
      "text/plain": [
       "array([[1., 0., 0.],\n",
       "       [0., 1., 0.],\n",
       "       [0., 0., 1.]])"
      ]
     },
     "execution_count": 142,
     "metadata": {},
     "output_type": "execute_result"
    }
   ],
   "source": [
    "num = list(map(int,input().split()))\n",
    "numpy.identity((num[0]))"
   ]
  },
  {
   "cell_type": "code",
   "execution_count": 144,
   "metadata": {},
   "outputs": [
    {
     "name": "stdout",
     "output_type": "stream",
     "text": [
      "2 3\n",
      "[[1. 0. 0.]\n",
      " [0. 1. 0.]]\n"
     ]
    }
   ],
   "source": [
    "num = list(map(int,input().split()))\n",
    "print(numpy.eye(num[0],num[1],k=0))"
   ]
  },
  {
   "cell_type": "code",
   "execution_count": 145,
   "metadata": {},
   "outputs": [
    {
     "name": "stdout",
     "output_type": "stream",
     "text": [
      "3 4\n",
      "3 4\n",
      "[[1. 0. 0. 0.]\n",
      " [0. 1. 0. 0.]\n",
      " [0. 0. 1. 0.]]\n"
     ]
    }
   ],
   "source": [
    "n,m = map(int,input().split(\" \"))\n",
    "print(n,m)\n",
    "print(numpy.eye(n,m,k=0))"
   ]
  },
  {
   "cell_type": "code",
   "execution_count": 5,
   "metadata": {},
   "outputs": [],
   "source": [
    "x =np.random.randn(2,3,4)"
   ]
  },
  {
   "cell_type": "code",
   "execution_count": 7,
   "metadata": {},
   "outputs": [
    {
     "data": {
      "text/plain": [
       "array([-1.28966479e+00,  2.43880817e+00,  4.66849332e-02,  1.78837441e-01,\n",
       "       -3.46160880e-01,  7.34041153e-01,  8.19778731e-01, -1.33777866e+00,\n",
       "       -6.86430955e-01, -1.84418712e-01, -8.16059460e-01,  1.41623402e+00,\n",
       "       -1.40606986e+00, -1.96955018e+00, -1.87116973e-01,  6.85316115e-01,\n",
       "       -9.39016211e-01, -3.13983413e-01, -3.34585055e-01, -1.53013075e+00,\n",
       "        1.00092446e+00, -7.50434252e-05,  2.35310821e-01,  2.37622792e-01])"
      ]
     },
     "execution_count": 7,
     "metadata": {},
     "output_type": "execute_result"
    }
   ],
   "source": [
    "x.flatten()"
   ]
  },
  {
   "cell_type": "code",
   "execution_count": 9,
   "metadata": {},
   "outputs": [
    {
     "data": {
      "text/plain": [
       "array([[-1.28966479e+00,  2.43880817e+00,  4.66849332e-02,\n",
       "         1.78837441e-01, -3.46160880e-01,  7.34041153e-01,\n",
       "         8.19778731e-01, -1.33777866e+00, -6.86430955e-01,\n",
       "        -1.84418712e-01, -8.16059460e-01,  1.41623402e+00],\n",
       "       [-1.40606986e+00, -1.96955018e+00, -1.87116973e-01,\n",
       "         6.85316115e-01, -9.39016211e-01, -3.13983413e-01,\n",
       "        -3.34585055e-01, -1.53013075e+00,  1.00092446e+00,\n",
       "        -7.50434252e-05,  2.35310821e-01,  2.37622792e-01]])"
      ]
     },
     "execution_count": 9,
     "metadata": {},
     "output_type": "execute_result"
    }
   ],
   "source": [
    "x.reshape(x.shape[0],-1)"
   ]
  },
  {
   "cell_type": "code",
   "execution_count": 24,
   "metadata": {},
   "outputs": [],
   "source": [
    "costs = [1,2,3,4,5,6,7,8,9]\n",
    "val =[1,2,3,4,5,6,7,8,19]"
   ]
  },
  {
   "cell_type": "code",
   "execution_count": 28,
   "metadata": {},
   "outputs": [
    {
     "data": {
      "image/png": "[encoded data removed]",
      "text/plain": [
       "<Figure size 432x288 with 1 Axes>"
      ]
     },
     "metadata": {},
     "output_type": "display_data"
    }
   ],
   "source": [
    "plt.plot(val,costs)\n",
    "#print(costs.shape)\n",
    "plt.ylabel('cost')\n",
    "plt.xlabel('iterations (per hundreds)')\n",
    "plt.title(\"Learning rate =\" + str(.05))\n",
    "plt.show()"
   ]
  },
  {
   "cell_type": "code",
   "execution_count": 26,
   "metadata": {},
   "outputs": [],
   "source": [
    "import matplotlib.pyplot as plt"
   ]
  },
  {
   "cell_type": "code",
   "execution_count": 29,
   "metadata": {},
   "outputs": [],
   "source": [
    "import os"
   ]
  },
  {
   "cell_type": "code",
   "execution_count": 32,
   "metadata": {},
   "outputs": [],
   "source": [
    "os.chdir(\"C:/Users/USX28939/PYTHON_CODE_BASE/Deep-Learning-Specialization-Andrew-Ng-DeepLearning.ai-Coursera/Neural networks and deep learning/C1A3 - Data classification with a hidden layer\")"
   ]
  },
  {
   "cell_type": "code",
   "execution_count": 2,
   "metadata": {},
   "outputs": [],
   "source": [
    "string = \"geeksforgeeks\""
   ]
  },
  {
   "cell_type": "code",
   "execution_count": 3,
   "metadata": {},
   "outputs": [],
   "source": [
    "se =set(string)"
   ]
  },
  {
   "cell_type": "code",
   "execution_count": 4,
   "metadata": {},
   "outputs": [
    {
     "name": "stdout",
     "output_type": "stream",
     "text": [
      "{'k', 'r', 's', 'f', 'g', 'o', 'e'}\n"
     ]
    }
   ],
   "source": [
    "print(se)"
   ]
  },
  {
   "cell_type": "code",
   "execution_count": 5,
   "metadata": {},
   "outputs": [
    {
     "data": {
      "text/plain": [
       "['e', 'f', 'g', 'k', 'o', 'r', 's']"
      ]
     },
     "execution_count": 5,
     "metadata": {},
     "output_type": "execute_result"
    }
   ],
   "source": [
    "sorted(se)"
   ]
  },
  {
   "cell_type": "code",
   "execution_count": 9,
   "metadata": {},
   "outputs": [],
   "source": [
    "a  = np.array([(1,2,3,4,5),(1,2,3,4,5)])"
   ]
  },
  {
   "cell_type": "code",
   "execution_count": 10,
   "metadata": {},
   "outputs": [
    {
     "data": {
      "text/plain": [
       "array([[1, 2, 3, 4, 5],\n",
       "       [1, 2, 3, 4, 5]])"
      ]
     },
     "execution_count": 10,
     "metadata": {},
     "output_type": "execute_result"
    }
   ],
   "source": [
    "a"
   ]
  },
  {
   "cell_type": "code",
   "execution_count": null,
   "metadata": {},
   "outputs": [],
   "source": []
  }
 ],
 "metadata": {
  "kernelspec": {
   "display_name": "Python 3",
   "language": "python",
   "name": "python3"
  },
  "language_info": {
   "codemirror_mode": {
    "name": "ipython",
    "version": 3
   },
   "file_extension": ".py",
   "mimetype": "text/x-python",
   "name": "python",
   "nbconvert_exporter": "python",
   "pygments_lexer": "ipython3",
   "version": "3.6.5"
  }
 },
 "nbformat": 4,
 "nbformat_minor": 2
}
