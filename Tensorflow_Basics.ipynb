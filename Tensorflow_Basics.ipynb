{
 "cells": [
  {
   "cell_type": "code",
   "execution_count": 2,
   "metadata": {
    "collapsed": true
   },
   "outputs": [],
   "source": [
    "import tensorflow as tf\n",
    "import numpy as np"
   ]
  },
  {
   "cell_type": "code",
   "execution_count": null,
   "metadata": {},
   "outputs": [],
   "source": [
    "node1 = tf.constant(3.0, dtype=tf.float32,name = \"X\", shape = (), verify_shape = True)\n",
    "# shape will tell what is the shape of the constant and verify will enforce it to be true, if not give the error\n",
    "# if the shape is different from what the value is and verify_shape is false then tensor will broadcast the value to\n",
    "# be in compliant with shape\n",
    "node2 = tf.constant(4.0,dtype =tf.float32, name = \"Y\") # also tf.float32 implicitly\n",
    "#print(node1, node2)"
   ]
  },
  {
   "cell_type": "code",
   "execution_count": null,
   "metadata": {
    "collapsed": true
   },
   "outputs": [],
   "source": [
    "#tf.zeros(shape, dtype = ,name), tf.ones(shape, dtype = ,name)\n",
    "#tf.zeros_like(input_tensor,dtype = ,name,optimize = True ), tf.ones_like(input_tensor,dtype = ,name,optimize = True )"
   ]
  },
  {
   "cell_type": "code",
   "execution_count": null,
   "metadata": {
    "collapsed": true
   },
   "outputs": [],
   "source": [
    "#tf.fill(dims, value, name = None)\n",
    "# it fills the dim with the value ( it is a scalar)"
   ]
  },
  {
   "cell_type": "code",
   "execution_count": null,
   "metadata": {
    "collapsed": true
   },
   "outputs": [],
   "source": [
    "#tf.linspace(start, stop, name = None)#start and stop is float\n",
    "#tf.range(start = ,limit = None, delta = 1, dtype =, name = None)\n"
   ]
  },
  {
   "cell_type": "code",
   "execution_count": null,
   "metadata": {
    "collapsed": true
   },
   "outputs": [],
   "source": [
    "#tf.random_normal()\n",
    "#tf.turncated_normal()\n",
    "#tf.random_uniform()\n",
    "#tf.random_shuffle()\n",
    "#tf.random_crop()\n",
    "#tf.multinomial()\n",
    "#tf.random_gamma()\n",
    "#tf.set_random_seed()"
   ]
  },
  {
   "cell_type": "code",
   "execution_count": null,
   "metadata": {
    "collapsed": true
   },
   "outputs": [],
   "source": [
    "add = tf.add(node1, node2)\n",
    "#tf.matmul(a,b) do a matrix multiplication. similar to np.dot\n"
   ]
  },
  {
   "cell_type": "code",
   "execution_count": null,
   "metadata": {},
   "outputs": [],
   "source": [
    "with tf.Session() as sess:\n",
    "    writer = tf.summary.FileWriter(\"C:/Users/USX28939/PYTHON_CODE_BASE/graphs\",sess.graph)\n",
    "    print(sess.run(add))\n",
    "    #print(sess.graph.as_graph_def()) # print out the graph def\n",
    "    writer.close()"
   ]
  },
  {
   "cell_type": "code",
   "execution_count": null,
   "metadata": {
    "collapsed": true
   },
   "outputs": [],
   "source": [
    "h = tf.constant(\"Hello\", name = \"h\")\n",
    "w = tf.constant(\" World\", name = \"w\")\n",
    "hw = h+w"
   ]
  },
  {
   "cell_type": "code",
   "execution_count": null,
   "metadata": {},
   "outputs": [],
   "source": [
    "print(hw)"
   ]
  },
  {
   "cell_type": "code",
   "execution_count": null,
   "metadata": {
    "collapsed": true
   },
   "outputs": [],
   "source": [
    "with tf.Session() as sess:\n",
    "    ans = sess.run(hw)"
   ]
  },
  {
   "cell_type": "code",
   "execution_count": null,
   "metadata": {},
   "outputs": [],
   "source": [
    "print(ans)"
   ]
  },
  {
   "cell_type": "code",
   "execution_count": null,
   "metadata": {},
   "outputs": [],
   "source": [
    "#from tensorflow.examples.tutorials.mnist import input_data\n",
    "#DATA_DIR = 'C:/R_Lang/Deep_Learning_Python/MNIST/data'\n",
    "#NUM_STEPS = 1000\n",
    "#MINIBATCH_SIZE = 100\n",
    "#data = input_data.read_data_sets(DATA_DIR, one_hot=True)"
   ]
  },
  {
   "cell_type": "code",
   "execution_count": null,
   "metadata": {},
   "outputs": [],
   "source": [
    "    a = tf.constant(5, name = \"A1\")\n",
    "    b = tf.constant(2, name = \"B1\")\n",
    "    c = tf.constant(3, name = \"C1\")\n",
    "    d = tf.multiply(a,b, name = \"Multiply1\")\n",
    "    e = tf.add(c,b , name = \"Add1\")\n",
    "    f = tf.subtract(d,e, name = \"Subtract1\")\n",
    "    final= tf.add(tf.add(d,e, name = \"partial_add1\"),f, name = \"finaloutput1\")"
   ]
  },
  {
   "cell_type": "markdown",
   "metadata": {},
   "source": [
    "# How to use the different graph "
   ]
  },
  {
   "cell_type": "code",
   "execution_count": null,
   "metadata": {
    "collapsed": true
   },
   "outputs": [],
   "source": [
    "temp_graph = tf.Graph()"
   ]
  },
  {
   "cell_type": "code",
   "execution_count": null,
   "metadata": {},
   "outputs": [],
   "source": [
    "with temp_graph.as_default():\n",
    "    a = tf.constant(5, name = \"A\")\n",
    "    b = tf.constant(2, name = \"B\")\n",
    "    c = tf.constant(3, name = \"C\")\n",
    "    d = tf.multiply(a,b, name = \"Multiply\")\n",
    "    e = tf.add(d,b , name = \"Add\")"
   ]
  },
  {
   "cell_type": "code",
   "execution_count": null,
   "metadata": {},
   "outputs": [],
   "source": [
    "ses = tf.Session(graph = temp_graph) # important to show which graph to use for this session\n",
    "writer = tf.summary.FileWriter(\"C:/Users/USX28939/PYTHON_CODE_BASE/graphs\",graph = temp_graph)\n",
    "print(ses.run(e))\n",
    "print(a.eval(session = ses))\n",
    "#print(sess.graph.as_graph_def()) # print out the graph def  tf.get_default_graph()\n",
    "writer.close()\n",
    "sess.close"
   ]
  },
  {
   "cell_type": "markdown",
   "metadata": {},
   "source": [
    "# Another way to use the session funtion \"with\" command, don't need to close the session"
   ]
  },
  {
   "cell_type": "code",
   "execution_count": null,
   "metadata": {},
   "outputs": [],
   "source": [
    "with tf.Session(graph = temp_graph) as sess:\n",
    "    writer = tf.summary.FileWriter(\"C:/Users/USX28939/PYTHON_CODE_BASE/graphs\",graph = temp_graph)\n",
    "    print(sess.run(e))\n",
    "    #print(sess.graph.as_graph_def()) # print out the graph def  tf.get_default_graph()\n",
    "    writer.close()"
   ]
  },
  {
   "cell_type": "code",
   "execution_count": null,
   "metadata": {
    "collapsed": true
   },
   "outputs": [],
   "source": [
    "x = tf.constant([1,0,1])"
   ]
  },
  {
   "cell_type": "code",
   "execution_count": null,
   "metadata": {},
   "outputs": [],
   "source": [
    "print(x.get_shape())"
   ]
  },
  {
   "cell_type": "code",
   "execution_count": null,
   "metadata": {},
   "outputs": [],
   "source": [
    "xy = tf.reshape(x,[3,1])\n",
    "print(xy.get_shape())"
   ]
  },
  {
   "cell_type": "code",
   "execution_count": null,
   "metadata": {
    "collapsed": true
   },
   "outputs": [],
   "source": [
    "x = tf.expand_dims(x,1) # same as reshape it adds one dimension to the tensor"
   ]
  },
  {
   "cell_type": "markdown",
   "metadata": {},
   "source": [
    "# Variables"
   ]
  },
  {
   "cell_type": "code",
   "execution_count": null,
   "metadata": {},
   "outputs": [],
   "source": [
    "init_val = tf.random_normal((1,5),0,1)\n",
    "var = tf.Variable(init_val, name='var')\n",
    "print(\"pre run: \\n{}\".format(var))\n",
    "init = tf.global_variables_initializer()\n",
    "with tf.Session() as sess:\n",
    "    sess.run(init)\n",
    "    post_var = sess.run(var)\n",
    "    print(\"\\npost run: \\n{}\".format(post_var))"
   ]
  },
  {
   "cell_type": "markdown",
   "metadata": {},
   "source": [
    "Note that if we run the code again, we see that a new variable is created each time, as indicated by the\n",
    "automatic concatenation of _1 to its name:\n",
    "\n",
    "This could be very inefficient when we want to reuse the model (complex models could have many\n",
    "variables!); for example, when we wish to feed it with several different inputs. To reuse the same\n",
    "variable, we can use the tf.get_variables() function instead of tf.Variable(). More on this can be\n",
    "found in “Model Structuring” of the appendix."
   ]
  },
  {
   "cell_type": "markdown",
   "metadata": {},
   "source": [
    "# Placeholder"
   ]
  },
  {
   "cell_type": "code",
   "execution_count": null,
   "metadata": {},
   "outputs": [],
   "source": [
    "x_data = np.random.randn(5,10)\n",
    "w_data = np.random.randn(10,1)\n",
    "with tf.Graph().as_default():\n",
    "    x = tf.placeholder(tf.float32,shape=(5,10))\n",
    "    w = tf.placeholder(tf.float32,shape=(10,1))\n",
    "    b = tf.fill((5,1),-1.)\n",
    "    xw = tf.matmul(x,w)\n",
    "    xwb = xw + b\n",
    "    s = tf.reduce_max(xwb)\n",
    "    with tf.Session() as sess:\n",
    "        outs = sess.run(s,feed_dict={x: x_data, w: w_data})\n",
    "        print(\"outs = {}\".format(outs))\n",
    "        print( sess.run(xwb,feed_dict={x: x_data, w: w_data}))"
   ]
  },
  {
   "cell_type": "markdown",
   "metadata": {},
   "source": [
    "Placeholders can be\n",
    "thought of as empty Variables that will be filled with data later on. We use them by first constructing our\n",
    "graph and only when it is executed feeding them with the input data.\n",
    "\n",
    "Placeholders have an optional shape argument. If a shape is not fed or is passed as None, then the\n",
    "placeholder can be fed with data of any size. It is common to use None for the dimension of a matrix that\n",
    "corresponds to the number of samples (usually rows), while having the length of the features (usually\n",
    "columns) fixed:\n",
    "ph = tf.placeholder(tf.float32,shape=(None,10))\n",
    "\n",
    "Whenever we define a placeholder, we must feed it with some input values or else an exception will be\n",
    "thrown. The input data is passed to the session.run() method as a dictionary, where each key\n",
    "corresponds to a placeholder variable name, and the matching values are the data values given in the form\n",
    "of a list or a NumPy array:\n",
    "\n",
    "sess.run(s,feed_dict={x: X_data,w: w_data})"
   ]
  },
  {
   "cell_type": "code",
   "execution_count": null,
   "metadata": {
    "collapsed": true
   },
   "outputs": [],
   "source": []
  }
 ],
 "metadata": {
  "kernelspec": {
   "display_name": "Python 3",
   "language": "python",
   "name": "python3"
  },
  "language_info": {
   "codemirror_mode": {
    "name": "ipython",
    "version": 3
   },
   "file_extension": ".py",
   "mimetype": "text/x-python",
   "name": "python",
   "nbconvert_exporter": "python",
   "pygments_lexer": "ipython3",
   "version": "3.6.1"
  }
 },
 "nbformat": 4,
 "nbformat_minor": 2
}
