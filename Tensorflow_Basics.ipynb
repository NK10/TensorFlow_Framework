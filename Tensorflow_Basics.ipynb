{
 "cells": [
  {
   "cell_type": "code",
   "execution_count": 2,
   "metadata": {
    "collapsed": true
   },
   "outputs": [],
   "source": [
    "import tensorflow as tf\n",
    "import numpy as np"
   ]
  },
  {
   "cell_type": "code",
   "execution_count": 3,
   "metadata": {},
   "outputs": [
    {
     "name": "stdout",
     "output_type": "stream",
     "text": [
      "Tensor(\"X:0\", shape=(), dtype=float32) Tensor(\"Y:0\", shape=(), dtype=float32)\n"
     ]
    }
   ],
   "source": [
    "node1 = tf.constant(3.0, dtype=tf.float32,name = \"X\", shape = (), verify_shape = True)\n",
    "# shape will tell what is the shape of the constant and verify will enforce it to be true, if not give the error\n",
    "# if the shape is different from what the value is and verify_shape is false then tensor will broadcast the value to\n",
    "# be in compliant with shape\n",
    "node2 = tf.constant(4.0,dtype =tf.float32, name = \"Y\") # also tf.float32 implicitly\n",
    "print(node1, node2)"
   ]
  },
  {
   "cell_type": "code",
   "execution_count": 4,
   "metadata": {
    "collapsed": true
   },
   "outputs": [],
   "source": [
    "#tf.zeros(shape, dtype = ,name), tf.ones(shape, dtype = ,name)\n",
    "#tf.zeros_like(input_tensor,dtype = ,name,optimize = True ), tf.ones_like(input_tensor,dtype = ,name,optimize = True )"
   ]
  },
  {
   "cell_type": "code",
   "execution_count": 5,
   "metadata": {
    "collapsed": true
   },
   "outputs": [],
   "source": [
    "#tf.fill(dims, value, name = None)\n",
    "# it fills the dim with the value ( it is a scalar)"
   ]
  },
  {
   "cell_type": "code",
   "execution_count": 6,
   "metadata": {
    "collapsed": true
   },
   "outputs": [],
   "source": [
    "#tf.linspace(start, stop, name = None)#start and stop is float\n",
    "#tf.range(start = ,limit = None, delta = 1, dtype =, name = None)\n"
   ]
  },
  {
   "cell_type": "code",
   "execution_count": 7,
   "metadata": {
    "collapsed": true
   },
   "outputs": [],
   "source": [
    "#tf.random_normal()\n",
    "#tf.turncated_normal()\n",
    "#tf.random_uniform()\n",
    "#tf.random_shuffle()\n",
    "#tf.random_crop()\n",
    "#tf.multinomial()\n",
    "#tf.random_gamma()\n",
    "#tf.set_random_seed()"
   ]
  },
  {
   "cell_type": "code",
   "execution_count": 8,
   "metadata": {
    "collapsed": true
   },
   "outputs": [],
   "source": [
    "add = tf.add(node1, node2)\n",
    "#tf.matmul(a,b) do a matrix multiplication. similar to np.dot\n"
   ]
  },
  {
   "cell_type": "code",
   "execution_count": 9,
   "metadata": {},
   "outputs": [
    {
     "name": "stdout",
     "output_type": "stream",
     "text": [
      "7.0\n"
     ]
    }
   ],
   "source": [
    "with tf.Session() as sess:\n",
    "    writer = tf.summary.FileWriter(\"C:/Users/USX28939/PYTHON_CODE_BASE/graphs\",sess.graph)\n",
    "    print(sess.run(add))\n",
    "    #print(sess.graph.as_graph_def()) # print out the graph def\n",
    "    writer.close()"
   ]
  },
  {
   "cell_type": "code",
   "execution_count": null,
   "metadata": {
    "collapsed": true
   },
   "outputs": [],
   "source": []
  }
 ],
 "metadata": {
  "kernelspec": {
   "display_name": "Python 3",
   "language": "python",
   "name": "python3"
  },
  "language_info": {
   "codemirror_mode": {
    "name": "ipython",
    "version": 3
   },
   "file_extension": ".py",
   "mimetype": "text/x-python",
   "name": "python",
   "nbconvert_exporter": "python",
   "pygments_lexer": "ipython3",
   "version": "3.6.1"
  }
 },
 "nbformat": 4,
 "nbformat_minor": 2
}
