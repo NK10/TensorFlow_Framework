{
 "cells": [
  {
   "cell_type": "code",
   "execution_count": 1,
   "metadata": {},
   "outputs": [],
   "source": [
    "import numpy as np\n",
    "import pandas as pd\n",
    "import os"
   ]
  },
  {
   "cell_type": "code",
   "execution_count": 10,
   "metadata": {},
   "outputs": [],
   "source": [
    "a = set([1,2,3,4,4])\n",
    "b = {2,3,4,5,\"s\"}"
   ]
  },
  {
   "cell_type": "code",
   "execution_count": 11,
   "metadata": {},
   "outputs": [
    {
     "name": "stdout",
     "output_type": "stream",
     "text": [
      "<class 'set'> {1, 2, 3, 4}\n"
     ]
    }
   ],
   "source": [
    "print(type(b), a)"
   ]
  },
  {
   "cell_type": "code",
   "execution_count": 30,
   "metadata": {},
   "outputs": [
    {
     "name": "stdout",
     "output_type": "stream",
     "text": [
      "2  2 2\n"
     ]
    }
   ],
   "source": [
    "M = list(map(int,input().split()))"
   ]
  },
  {
   "cell_type": "code",
   "execution_count": 36,
   "metadata": {},
   "outputs": [
    {
     "name": "stdout",
     "output_type": "stream",
     "text": [
      "1\n",
      "2\n",
      "3\n",
      "4\n"
     ]
    },
    {
     "data": {
      "text/plain": [
       "'2\\n4'"
      ]
     },
     "execution_count": 36,
     "metadata": {},
     "output_type": "execute_result"
    }
   ],
   "source": [
    "\"\\n\".join([input() for _ in range(4)][1::2])"
   ]
  },
  {
   "cell_type": "code",
   "execution_count": 179,
   "metadata": {},
   "outputs": [],
   "source": [
    "a = np.array([[1,23,43,33,98],[4,2,3,2,32]])\n",
    "np.arange(2,20,2).reshape(3,3)\n",
    "b = np.array([[1,223,43,313,2],[4,22,3,2,2]])\n",
    "n = np.concatenate((a,b),axis = 1)"
   ]
  },
  {
   "cell_type": "code",
   "execution_count": 180,
   "metadata": {},
   "outputs": [
    {
     "data": {
      "text/plain": [
       "array([[  1,  23,  43,  33,  98,   1, 223,  43, 313,   2],\n",
       "       [  4,   2,   3,   2,  32,   4,  22,   3,   2,   2]])"
      ]
     },
     "execution_count": 180,
     "metadata": {},
     "output_type": "execute_result"
    }
   ],
   "source": [
    "n"
   ]
  },
  {
   "cell_type": "code",
   "execution_count": 174,
   "metadata": {},
   "outputs": [],
   "source": [
    "n.reshape(1,-1).sort()"
   ]
  },
  {
   "cell_type": "code",
   "execution_count": 143,
   "metadata": {},
   "outputs": [],
   "source": [
    "n.sort(axis=0)"
   ]
  },
  {
   "cell_type": "code",
   "execution_count": 177,
   "metadata": {},
   "outputs": [
    {
     "data": {
      "text/plain": [
       "(2, 10)"
      ]
     },
     "execution_count": 177,
     "metadata": {},
     "output_type": "execute_result"
    }
   ],
   "source": [
    "n.shape"
   ]
  },
  {
   "cell_type": "code",
   "execution_count": 150,
   "metadata": {},
   "outputs": [],
   "source": [
    "n.reshape(1,-1).sort()"
   ]
  },
  {
   "cell_type": "code",
   "execution_count": 181,
   "metadata": {},
   "outputs": [],
   "source": [
    "n = n.ravel()"
   ]
  },
  {
   "cell_type": "code",
   "execution_count": 183,
   "metadata": {},
   "outputs": [],
   "source": [
    "n.sort()"
   ]
  },
  {
   "cell_type": "code",
   "execution_count": 184,
   "metadata": {},
   "outputs": [
    {
     "data": {
      "text/plain": [
       "array([  1,   1,   2,   2,   2,   2,   2,   3,   3,   4,   4,  22,  23,\n",
       "        32,  33,  43,  43,  98, 223, 313])"
      ]
     },
     "execution_count": 184,
     "metadata": {},
     "output_type": "execute_result"
    }
   ],
   "source": [
    "n"
   ]
  },
  {
   "cell_type": "code",
   "execution_count": 185,
   "metadata": {},
   "outputs": [],
   "source": [
    "aa = np.arange(20).reshape(5,4)"
   ]
  },
  {
   "cell_type": "code",
   "execution_count": 190,
   "metadata": {},
   "outputs": [
    {
     "data": {
      "text/plain": [
       "array([40, 45, 50, 55])"
      ]
     },
     "execution_count": 190,
     "metadata": {},
     "output_type": "execute_result"
    }
   ],
   "source": [
    "aa.sum(axis  = 0)"
   ]
  },
  {
   "cell_type": "code",
   "execution_count": 2,
   "metadata": {},
   "outputs": [
    {
     "name": "stdout",
     "output_type": "stream",
     "text": [
      "8\n",
      "7\n",
      "6\n",
      "5\n",
      "4\n",
      "3\n",
      "2\n",
      "1\n",
      "[17, 20, 26, 31, 44, 54, 55, 77, 93]\n"
     ]
    }
   ],
   "source": [
    "def bubbleSort(alist):\n",
    "    for passnum in range(len(alist)-1,0,-1):\n",
    "        print(passnum)\n",
    "        for i in range(passnum):\n",
    "            if alist[i]>alist[i+1]:\n",
    "                temp = alist[i]\n",
    "                alist[i] = alist[i+1]\n",
    "                alist[i+1] = temp\n",
    "\n",
    "alist = [54,26,93,17,77,31,44,55,20]\n",
    "bubbleSort(alist)\n",
    "print(alist)\n"
   ]
  },
  {
   "cell_type": "code",
   "execution_count": 22,
   "metadata": {},
   "outputs": [
    {
     "name": "stdout",
     "output_type": "stream",
     "text": [
      "bubble sorting is :: [1, 17, 20, 26, 31, 44, 54, 55, 77, 93]\n",
      "my function [17, 20, 26, 31, 44, 54, 55, 77, 93]\n"
     ]
    }
   ],
   "source": [
    "def bubbleSort(alist):\n",
    "    for passnum in range(len(alist)-1,0,-1):\n",
    "#        print(passnum)\n",
    "        for i in range(passnum):\n",
    "            if alist[i]>alist[i+1]:\n",
    "                #temp = alist[i]\n",
    "                alist[i],alist[i+1] = alist[i+1],alist[i]\n",
    "                #alist[i+1] = temp\n",
    "\n",
    "alist = [54,26,93,17,77,31,44,55,20,1]\n",
    "bubbleSort(alist)\n",
    "print(\"bubble sorting is ::\",alist)\n",
    "\n",
    "def n_selection_sort(L):\n",
    "    for i in range(0,len(L)-1):\n",
    "        for j in range(i,len(L)-1 ):\n",
    "#            print(i,j)\n",
    "            if L[j+1] < L[i]:\n",
    "                L[i], L[j+1] = L[j+1], L[i]\n",
    "#            print(L)    \n",
    "alist = [54,26,93,17,77,31,44,55,20]\n",
    "n_selection_sort(alist)\n",
    "print(\"my function\",alist)          "
   ]
  },
  {
   "cell_type": "code",
   "execution_count": 4,
   "metadata": {},
   "outputs": [
    {
     "name": "stdout",
     "output_type": "stream",
     "text": [
      "\n",
      "merge sort: [1, 3, 2, 7, 5, 6, 25, 18, 13]\n",
      "merge sort: [1, 3, 2, 7]\n",
      "merge sort: [1, 3]\n",
      "merge sort: [1]\n",
      "merge sort: [3]\n",
      "left [1], Right is [3]\n",
      "merge: [1]&[3] to [1, 3]\n",
      "merge sort: [2, 7]\n",
      "merge sort: [2]\n",
      "merge sort: [7]\n",
      "left [2], Right is [7]\n",
      "merge: [2]&[7] to [2, 7]\n",
      "left [1, 3], Right is [2, 7]\n",
      "merge: [1, 3]&[2, 7] to [1, 2, 3, 7]\n",
      "merge sort: [5, 6, 25, 18, 13]\n",
      "merge sort: [5, 6]\n",
      "merge sort: [5]\n",
      "merge sort: [6]\n",
      "left [5], Right is [6]\n",
      "merge: [5]&[6] to [5, 6]\n",
      "merge sort: [25, 18, 13]\n",
      "merge sort: [25]\n",
      "merge sort: [18, 13]\n",
      "merge sort: [18]\n",
      "merge sort: [13]\n",
      "left [18], Right is [13]\n",
      "merge: [18]&[13] to [13, 18]\n",
      "left [25], Right is [13, 18]\n",
      "merge: [25]&[13, 18] to [13, 18, 25]\n",
      "left [5, 6], Right is [13, 18, 25]\n",
      "merge: [5, 6]&[13, 18, 25] to [5, 6, 13, 18, 25]\n",
      "left [1, 2, 3, 7], Right is [5, 6, 13, 18, 25]\n",
      "merge: [1, 2, 3, 7]&[5, 6, 13, 18, 25] to [1, 2, 3, 5, 6, 7, 13, 18, 25]\n",
      "[1, 2, 3, 5, 6, 7, 13, 18, 25]\n"
     ]
    }
   ],
   "source": [
    "def merge(left, right):\n",
    "    print(\"left {}, Right is {}\" .format(left, right))\n",
    "    result = []\n",
    "    i,j = 0,0\n",
    "    while i < len(left) and j < len(right):\n",
    "        if left[i] < right[j]:\n",
    "            result.append(left[i])\n",
    "            i += 1\n",
    "        else:\n",
    "            result.append(right[j])\n",
    "            j += 1\n",
    "    while (i < len(left)):\n",
    "        result.append(left[i])\n",
    "        i += 1\n",
    "    while (j < len(right)):\n",
    "        result.append(right[j])\n",
    "        j += 1\n",
    "    print('merge: ' + str(left) + '&' + str(right) + ' to ' +str(result))\n",
    "    return result\n",
    "\n",
    "def merge_sort(L):\n",
    "    print('merge sort: ' + str(L))\n",
    "    if len(L) < 2:\n",
    "        return L[:]\n",
    "    else:\n",
    "        middle = len(L)//2\n",
    "        left = merge_sort(L[:middle])\n",
    "        right = merge_sort(L[middle:])\n",
    "        return merge(left, right)\n",
    "        \n",
    "testList = [1,3,2,7,5,6,25,18,13]\n",
    "\n",
    "print('')\n",
    "print(merge_sort(testList))\n"
   ]
  },
  {
   "cell_type": "code",
   "execution_count": null,
   "metadata": {},
   "outputs": [],
   "source": []
  },
  {
   "cell_type": "code",
   "execution_count": 16,
   "metadata": {},
   "outputs": [
    {
     "name": "stdout",
     "output_type": "stream",
     "text": [
      "[17, 20, 26, 31, 44, 54, 55, 77, 93]\n"
     ]
    }
   ],
   "source": [
    "def insertionSort(alist):\n",
    "   for index in range(1,len(alist)):\n",
    "\n",
    "     currentvalue = alist[index]\n",
    "     position = index\n",
    "\n",
    "     while position>0 and alist[position-1]>currentvalue:\n",
    "         alist[position]=alist[position-1]\n",
    "         position = position-1\n",
    "\n",
    "     alist[position]=currentvalue\n",
    "\n",
    "alist = [54,26,93,17,77,31,44,55,20]\n",
    "insertionSort(alist)\n",
    "print(alist)"
   ]
  },
  {
   "cell_type": "code",
   "execution_count": 80,
   "metadata": {},
   "outputs": [],
   "source": [
    "def isPalindrome(s):\n",
    "\n",
    "    def toChars(s):\n",
    "        s = s.lower()\n",
    "        ans = ''\n",
    "        for c in s:\n",
    "            if c in 'abcdefghijklmnopqrstuvwxyz':\n",
    "                ans = ans + c\n",
    "        return ans\n",
    "\n",
    "    def isPal(s):\n",
    "        if len(s) <= 1:\n",
    "            return True\n",
    "        else:\n",
    "            print(\"s[1:-1]\",s[1:-1], \"s[0]\",s[0], \"s[-1]\", s[-1])\n",
    "            return s[0] == s[-1] and isPal(s[1:-1])\n",
    "\n",
    "    return isPal(toChars(s))"
   ]
  },
  {
   "cell_type": "code",
   "execution_count": 83,
   "metadata": {},
   "outputs": [
    {
     "name": "stdout",
     "output_type": "stream",
     "text": [
      "s[1:-1] itii s[0] n s[-1] n\n",
      "s[1:-1] ti s[0] i s[-1] i\n",
      "s[1:-1]  s[0] t s[-1] i\n"
     ]
    },
    {
     "data": {
      "text/plain": [
       "False"
      ]
     },
     "execution_count": 83,
     "metadata": {},
     "output_type": "execute_result"
    }
   ],
   "source": [
    "isPalindrome(\"nitiin\")"
   ]
  },
  {
   "cell_type": "code",
   "execution_count": 84,
   "metadata": {},
   "outputs": [
    {
     "name": "stdout",
     "output_type": "stream",
     "text": [
      "\n",
      "using fib\n",
      "9227465\n",
      "\n",
      "using fib_efficient\n",
      "9227465\n"
     ]
    }
   ],
   "source": [
    "#####################################\n",
    "# EXAMPLE: comparing fibonacci using memoization\n",
    "#####################################\n",
    "\n",
    "\n",
    "def fib(n):\n",
    "    if n == 1:\n",
    "        return 1\n",
    "    elif n == 2:\n",
    "        return 2\n",
    "    else:\n",
    "        return fib(n-1) + fib(n-2)\n",
    "\n",
    "\n",
    "def fib_efficient(n, d):\n",
    "    if n in d:\n",
    "        return d[n]\n",
    "    else:\n",
    "        ans = fib_efficient(n-1, d)+fib_efficient(n-2, d)\n",
    "        d[n] = ans\n",
    "        return ans\n",
    "        \n",
    "d = {1:1, 2:2}\n",
    "\n",
    "argToUse = 34\n",
    "print(\"\")\n",
    "print('using fib')\n",
    "print(fib(argToUse))\n",
    "print(\"\")\n",
    "print('using fib_efficient')\n",
    "print(fib_efficient(argToUse, d))"
   ]
  },
  {
   "cell_type": "code",
   "execution_count": 86,
   "metadata": {},
   "outputs": [
    {
     "name": "stdout",
     "output_type": "stream",
     "text": [
      "3.54 s ± 269 ms per loop (mean ± std. dev. of 7 runs, 1 loop each)\n",
      "307 ns ± 55.5 ns per loop (mean ± std. dev. of 7 runs, 1000000 loops each)\n"
     ]
    }
   ],
   "source": [
    "%timeit fib(argToUse)\n",
    "%timeit fib_efficient(argToUse, d)"
   ]
  },
  {
   "cell_type": "code",
   "execution_count": 21,
   "metadata": {},
   "outputs": [
    {
     "data": {
      "text/plain": [
       "' Hello World!!!! Hello World!!!! Hello World!!!! Hello World!!!! Hello World!!!! Hello World!!!! Hello World!!!! Hello World!!!! Hello World!!!! Hello World!!!!'"
      ]
     },
     "execution_count": 21,
     "metadata": {},
     "output_type": "execute_result"
    }
   ],
   "source": [
    "name  = \" Hello\"\n",
    "nag = \"World!!!!\"\n",
    "\n",
    "final = name + \" \" + nag\n",
    "final*10"
   ]
  },
  {
   "cell_type": "code",
   "execution_count": 125,
   "metadata": {},
   "outputs": [
    {
     "name": "stdout",
     "output_type": "stream",
     "text": [
      "old function [17, 20, 26, 31, 44, 54, 55, 77, 93]\n",
      "new function [17, 20, 26, 31, 44, 54, 55, 77, 93]\n",
      "my function [17, 20, 26, 31, 44, 54, 55, 77, 93]\n"
     ]
    }
   ],
   "source": [
    "def selectionSort(alist):\n",
    "   for fillslot in range(len(alist)-1,0,-1):\n",
    "       positionOfMax=0\n",
    "       for location in range(1,fillslot+1):\n",
    "           if alist[location]>alist[positionOfMax]:\n",
    "               positionOfMax = location\n",
    "\n",
    "       temp = alist[fillslot]\n",
    "       alist[fillslot] = alist[positionOfMax]\n",
    "       alist[positionOfMax] = temp\n",
    "\n",
    "alist = [54,26,93,17,77,31,44,55,20]\n",
    "selectionSort(alist)\n",
    "print(\"old function\",alist)\n",
    "\n",
    "\n",
    "\n",
    "def selection_sort(L):\n",
    "    suffixSt = 0\n",
    "    while suffixSt != len(L):\n",
    "        for i in range(suffixSt, len(L)):\n",
    "            if L[i] < L[suffixSt]:\n",
    "                L[suffixSt], L[i] = L[i], L[suffixSt]\n",
    "        suffixSt += 1\n",
    "alist = [54,26,93,17,77,31,44,55,20]\n",
    "selection_sort(alist)\n",
    "print(\"new function\",alist)\n",
    "\n",
    "\n",
    "def n_selection_sort(L):\n",
    "    for i in range(0,len(L)-1):\n",
    "        for j in range(i,len(L)-1 ):\n",
    "#            print(i,j)\n",
    "            if L[j+1] < L[i]:\n",
    "                L[i], L[j+1] = L[j+1], L[i]\n",
    "#            print(L)    \n",
    "alist = [54,26,93,17,77,31,44,55,20]\n",
    "n_selection_sort(alist)\n",
    "print(\"my function\",alist)          "
   ]
  },
  {
   "cell_type": "code",
   "execution_count": 18,
   "metadata": {},
   "outputs": [
    {
     "name": "stdout",
     "output_type": "stream",
     "text": [
      "Please enter the value for the querynitin\n"
     ]
    },
    {
     "data": {
      "text/plain": [
       "'nitin'"
      ]
     },
     "execution_count": 18,
     "metadata": {},
     "output_type": "execute_result"
    }
   ],
   "source": [
    "input(\"Please enter the value for the query\")"
   ]
  },
  {
   "cell_type": "code",
   "execution_count": 34,
   "metadata": {},
   "outputs": [
    {
     "data": {
      "text/plain": [
       "False"
      ]
     },
     "execution_count": 34,
     "metadata": {},
     "output_type": "execute_result"
    }
   ],
   "source": [
    "\"aa\" > \"ar\""
   ]
  },
  {
   "cell_type": "code",
   "execution_count": 37,
   "metadata": {},
   "outputs": [
    {
     "name": "stdout",
     "output_type": "stream",
     "text": [
      "enter the value for x: 5\n",
      "enter the value for y: 3\n",
      "x>y\n"
     ]
    }
   ],
   "source": [
    "x=  input(\"enter the value for x: \")\n",
    "y=  input(\"enter the value for y: \")\n",
    "if x==y :\n",
    "    print(\"equal\")\n",
    "elif x>y:\n",
    "    print(\"x>y\")\n",
    "elif y >x:\n",
    "    print(\"Y>X\")\n",
    "else:\n",
    "    print(\"unknown\")"
   ]
  },
  {
   "cell_type": "code",
   "execution_count": 39,
   "metadata": {},
   "outputs": [
    {
     "name": "stdout",
     "output_type": "stream",
     "text": [
      "['nitin', 'an', 'nnn']\n"
     ]
    }
   ],
   "source": [
    "a = [\"nitin\",\"an\", \"nnn\"]\n",
    "print([i for i in a])"
   ]
  },
  {
   "cell_type": "code",
   "execution_count": 49,
   "metadata": {},
   "outputs": [
    {
     "name": "stdout",
     "output_type": "stream",
     "text": [
      "si_s\n",
      "@!nossel taerg eb ot gniog si_siht\n"
     ]
    },
    {
     "ename": "TypeError",
     "evalue": "'str' object does not support item assignment",
     "output_type": "error",
     "traceback": [
      "\u001b[1;31m---------------------------------------------------------------------------\u001b[0m",
      "\u001b[1;31mTypeError\u001b[0m                                 Traceback (most recent call last)",
      "\u001b[1;32m<ipython-input-49-d4d8496d3df7>\u001b[0m in \u001b[0;36m<module>\u001b[1;34m()\u001b[0m\n\u001b[0;32m      2\u001b[0m \u001b[0mprint\u001b[0m\u001b[1;33m(\u001b[0m\u001b[0mb\u001b[0m\u001b[1;33m[\u001b[0m\u001b[1;36m6\u001b[0m\u001b[1;33m:\u001b[0m\u001b[1;36m2\u001b[0m\u001b[1;33m:\u001b[0m\u001b[1;33m-\u001b[0m\u001b[1;36m1\u001b[0m\u001b[1;33m]\u001b[0m\u001b[1;33m)\u001b[0m\u001b[1;33m\u001b[0m\u001b[0m\n\u001b[0;32m      3\u001b[0m \u001b[0mprint\u001b[0m\u001b[1;33m(\u001b[0m\u001b[0mb\u001b[0m\u001b[1;33m[\u001b[0m\u001b[1;33m:\u001b[0m\u001b[1;33m:\u001b[0m\u001b[1;33m-\u001b[0m\u001b[1;36m1\u001b[0m\u001b[1;33m]\u001b[0m\u001b[1;33m)\u001b[0m\u001b[1;33m\u001b[0m\u001b[0m\n\u001b[1;32m----> 4\u001b[1;33m \u001b[0mb\u001b[0m\u001b[1;33m[\u001b[0m\u001b[1;36m0\u001b[0m\u001b[1;33m]\u001b[0m \u001b[1;33m=\u001b[0m \u001b[1;34m\"n\"\u001b[0m\u001b[1;33m\u001b[0m\u001b[0m\n\u001b[0m",
      "\u001b[1;31mTypeError\u001b[0m: 'str' object does not support item assignment"
     ]
    }
   ],
   "source": [
    "b = \"this_is going to be great lesson!@\"\n",
    "print(b[6:2:-1])\n",
    "print(b[::-1])\n",
    "b[0] = \"n\""
   ]
  },
  {
   "cell_type": "code",
   "execution_count": 63,
   "metadata": {},
   "outputs": [
    {
     "name": "stdout",
     "output_type": "stream",
     "text": [
      "value of i is  11\n",
      "before remove the list_X[11, 22, 3, 4] and value of i is 11 and value if list_Y[11, 22, 5, 6]\n",
      "after remove the list[22, 3, 4] and value of i is 11 and value if list_Y[11, 22, 5, 6]\n",
      "value of i is  3\n",
      "wqeqweqwe 3\n",
      "value of i is  4\n",
      "wqeqweqwe 4\n",
      "final value is  [22, 3, 4]\n"
     ]
    }
   ],
   "source": [
    "x = [11,22,3,4]\n",
    "y= [11,22,5,6]\n",
    "for i in x:\n",
    "    print(\"value of i is \",i)\n",
    "    if i in y:\n",
    "        print(\"before remove the list_X{} and value of i is {} and value if list_Y{}\".format(x,i,y))\n",
    "        x.remove(i)\n",
    "        print(\"after remove the list{} and value of i is {} and value if list_Y{}\".format(x,i,y))\n",
    "    else:\n",
    "        print(\"wqeqweqwe\",i)\n",
    "print(\"final value is \",x)"
   ]
  },
  {
   "cell_type": "code",
   "execution_count": 76,
   "metadata": {},
   "outputs": [
    {
     "name": "stdout",
     "output_type": "stream",
     "text": [
      "6\n",
      "starting :  g\n",
      "ending :  g\n",
      "starting :  3\n",
      "ending :  3\n",
      "starting :  o\n",
      "ending :  o\n",
      "starting :  o\n",
      "ending :  o\n",
      "starting :  3\n",
      "ending :  3\n",
      "starting :  g\n",
      "ending :  g\n",
      "True\n"
     ]
    }
   ],
   "source": [
    "a = \"g3oo3g\"\n",
    "print(len(a))\n",
    "if (len(a)<2):\n",
    "    print(\"pall!!\")\n",
    "if (len(a)%2 == 0):\n",
    "    pal = True\n",
    "    t = len(a)-1\n",
    "    for j in range(len(a)):\n",
    "        print(\"starting : \",a[j])\n",
    "        print(\"ending : \",a[t])\n",
    "        if (a[j] !=a[t]):\n",
    "            print(a[j], a[t])\n",
    "            pal = False\n",
    "        t-=1\n",
    "print(pal)    "
   ]
  },
  {
   "cell_type": "code",
   "execution_count": 6,
   "metadata": {},
   "outputs": [],
   "source": [
    "def intToStr(i):\n",
    "    digits = '0123456789'\n",
    "    if i == 0:\n",
    "         return '0'\n",
    "    result = ''\n",
    "    while i > 0:\n",
    "        result = digits[i%10] + result\n",
    "        i = i//10\n",
    "    return result\n",
    "    "
   ]
  },
  {
   "cell_type": "code",
   "execution_count": 7,
   "metadata": {},
   "outputs": [
    {
     "name": "stdout",
     "output_type": "stream",
     "text": [
      "{'t', 'i', 'n'}\n"
     ]
    }
   ],
   "source": [
    "a = \"nitin\"\n",
    "b = set(a)\n",
    "print(b)"
   ]
  },
  {
   "cell_type": "code",
   "execution_count": 105,
   "metadata": {},
   "outputs": [
    {
     "name": "stdout",
     "output_type": "stream",
     "text": [
      "string a\n",
      "['s', 't', 'r', 'i', 'n', 'g', ' ', 'a']\n"
     ]
    }
   ],
   "source": [
    "a = \"striingg nitinas\"\n",
    "no_dup = []\n",
    "no_dup.append(a[0])\n",
    "for cha in a:\n",
    "    if cha not in no_dup:\n",
    "        no_dup.append(cha)\n",
    "print(\"\".join(no_dup))\n",
    "print(no_dup)"
   ]
  },
  {
   "cell_type": "code",
   "execution_count": 107,
   "metadata": {},
   "outputs": [
    {
     "data": {
      "text/plain": [
       "'sanitin ggniirts'"
      ]
     },
     "execution_count": 107,
     "metadata": {},
     "output_type": "execute_result"
    }
   ],
   "source": [
    "a[::-1]"
   ]
  },
  {
   "cell_type": "code",
   "execution_count": 3,
   "metadata": {},
   "outputs": [
    {
     "name": "stdout",
     "output_type": "stream",
     "text": [
      "innner loop\n",
      "innner loop\n",
      "outerloop\n",
      "innner loop\n",
      "innner loop\n",
      "outerloop\n",
      "innner loop\n",
      "innner loop\n",
      "outerloop\n",
      "innner loop\n",
      "innner loop\n",
      "outerloop\n",
      "finalloop\n"
     ]
    }
   ],
   "source": [
    "for i in range(1,5):\n",
    "    for j in range(1,3):\n",
    "        print(\"innner loop\")\n",
    "    print(\"outerloop\")\n",
    "print(\"finalloop\")"
   ]
  },
  {
   "cell_type": "code",
   "execution_count": 4,
   "metadata": {},
   "outputs": [
    {
     "name": "stdout",
     "output_type": "stream",
     "text": [
      "ni\n"
     ]
    }
   ],
   "source": [
    "a =\"nitin\"\n",
    "print(a[0:2])"
   ]
  },
  {
   "cell_type": "code",
   "execution_count": 15,
   "metadata": {},
   "outputs": [
    {
     "name": "stdout",
     "output_type": "stream",
     "text": [
      "[1, 4, 9, 16, 25] (<function <lambda> at 0x000002080824FB70>, [1, 2, 3, 4, 5])\n"
     ]
    }
   ],
   "source": [
    "L  = [1,2,3,4,5]\n",
    "a = list(map(lambda x:x**2, L))\n",
    "b = lambda x:x**2, L\n",
    "print(a,b)"
   ]
  },
  {
   "cell_type": "code",
   "execution_count": 54,
   "metadata": {},
   "outputs": [],
   "source": [
    "a = set()\n",
    "a = {1,2,3,4,4,5}\n",
    "b = set()\n",
    "b = {1,2,3,4,4}"
   ]
  },
  {
   "cell_type": "code",
   "execution_count": 55,
   "metadata": {},
   "outputs": [
    {
     "data": {
      "text/plain": [
       "False"
      ]
     },
     "execution_count": 55,
     "metadata": {},
     "output_type": "execute_result"
    }
   ],
   "source": [
    "a== b"
   ]
  },
  {
   "cell_type": "code",
   "execution_count": null,
   "metadata": {},
   "outputs": [],
   "source": []
  },
  {
   "cell_type": "code",
   "execution_count": null,
   "metadata": {},
   "outputs": [],
   "source": []
  },
  {
   "cell_type": "code",
   "execution_count": 38,
   "metadata": {},
   "outputs": [
    {
     "name": "stdout",
     "output_type": "stream",
     "text": [
      "<map object at 0x000002080826D128>\n"
     ]
    },
    {
     "data": {
      "text/plain": [
       "(1, 1)"
      ]
     },
     "execution_count": 38,
     "metadata": {},
     "output_type": "execute_result"
    }
   ],
   "source": [
    "to_tuple('1 1')"
   ]
  },
  {
   "cell_type": "code",
   "execution_count": null,
   "metadata": {},
   "outputs": [],
   "source": [
    "def non_duplicates(x):\n",
    "    if (x[0][0]= x[1][0] and x[0][1]= x[1][1]):"
   ]
  },
  {
   "cell_type": "code",
   "execution_count": null,
   "metadata": {},
   "outputs": [],
   "source": []
  }
 ],
 "metadata": {
  "kernelspec": {
   "display_name": "Python 3",
   "language": "python",
   "name": "python3"
  },
  "language_info": {
   "codemirror_mode": {
    "name": "ipython",
    "version": 3
   },
   "file_extension": ".py",
   "mimetype": "text/x-python",
   "name": "python",
   "nbconvert_exporter": "python",
   "pygments_lexer": "ipython3",
   "version": "3.6.5"
  }
 },
 "nbformat": 4,
 "nbformat_minor": 2
}
