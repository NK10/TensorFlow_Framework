{
 "cells": [
  {
   "cell_type": "code",
   "execution_count": null,
   "metadata": {},
   "outputs": [],
   "source": [
    "import numpy as np\n",
    "import pandas as pd\n",
    "import os"
   ]
  },
  {
   "cell_type": "code",
   "execution_count": 139,
   "metadata": {},
   "outputs": [
    {
     "name": "stdout",
     "output_type": "stream",
     "text": [
      "bubble sorting is :: [1, 17, 20, 26, 31, 44, 54, 55, 77, 93]\n",
      "bubble sorting is my method :: [1, 17, 20, 26, 31, 44, 54, 55, 77, 93]\n"
     ]
    }
   ],
   "source": [
    "def bubbleSort(alist):\n",
    "    for passnum in range(len(alist)-1,0,-1):\n",
    "#        print(passnum)\n",
    "        for i in range(passnum):\n",
    "            if alist[i]>alist[i+1]:\n",
    "                #temp = alist[i]\n",
    "                alist[i],alist[i+1] = alist[i+1],alist[i]\n",
    "                #alist[i+1] = temp\n",
    "\n",
    "alist = [54,26,93,17,77,31,44,55,20,1]\n",
    "bubbleSort(alist)\n",
    "print(\"bubble sorting is ::\",alist)\n",
    "def bubbleSort(alist):\n",
    "    for i in range(len(alist)):\n",
    "        for j in range(0,len(alist)-1):\n",
    "            if alist[j]>alist[j+1]:\n",
    "                alist[j],alist[j+1]= alist[j+1],alist[j]\n",
    "            #print(alist)\n",
    "alist = [54,26,93,17,77,31,44,55,20,1]\n",
    "bubbleSort(alist)\n",
    "print(\"bubble sorting is my method ::\",alist)        "
   ]
  },
  {
   "cell_type": "code",
   "execution_count": 140,
   "metadata": {},
   "outputs": [
    {
     "name": "stdout",
     "output_type": "stream",
     "text": [
      "old function [17, 20, 26, 31, 44, 54, 55, 77, 93]\n",
      "new function [17, 20, 26, 31, 44, 54, 55, 77, 93]\n",
      "my function [17, 20, 26, 31, 44, 54, 55, 77, 93]\n"
     ]
    }
   ],
   "source": [
    "def selectionSort(alist):\n",
    "   for fillslot in range(len(alist)-1,0,-1):\n",
    "       positionOfMax=0\n",
    "       for location in range(1,fillslot+1):\n",
    "           if alist[location]>alist[positionOfMax]:\n",
    "               positionOfMax = location\n",
    "\n",
    "       temp = alist[fillslot]\n",
    "       alist[fillslot] = alist[positionOfMax]\n",
    "       alist[positionOfMax] = temp\n",
    "\n",
    "alist = [54,26,93,17,77,31,44,55,20]\n",
    "selectionSort(alist)\n",
    "print(\"old function\",alist)\n",
    "\n",
    "def selection_sort(L):\n",
    "    suffixSt = 0\n",
    "    while suffixSt != len(L):\n",
    "        for i in range(suffixSt, len(L)):\n",
    "            if L[i] < L[suffixSt]:\n",
    "                L[suffixSt], L[i] = L[i], L[suffixSt]\n",
    "        suffixSt += 1\n",
    "alist = [54,26,93,17,77,31,44,55,20]\n",
    "selection_sort(alist)\n",
    "print(\"new function\",alist)\n",
    "\n",
    "\n",
    "def n_selection_sort(L):\n",
    "    for i in range(0,len(L)-1):\n",
    "        for j in range(i,len(L)-1 ):\n",
    "#            print(i,j)\n",
    "            if L[j+1] < L[i]:\n",
    "                L[i], L[j+1] = L[j+1], L[i]\n",
    "#            print(L)    \n",
    "alist = [54,26,93,17,77,31,44,55,20]\n",
    "n_selection_sort(alist)\n",
    "print(\"my function\",alist)          "
   ]
  },
  {
   "cell_type": "code",
   "execution_count": null,
   "metadata": {},
   "outputs": [],
   "source": [
    "def merge(left, right):\n",
    "    print(\"left {}, Right is {}\" .format(left, right))\n",
    "    result = []\n",
    "    i,j = 0,0\n",
    "    while i < len(left) and j < len(right):\n",
    "        if left[i] < right[j]:\n",
    "            result.append(left[i])\n",
    "            i += 1\n",
    "        else:\n",
    "            result.append(right[j])\n",
    "            j += 1\n",
    "    while (i < len(left)):\n",
    "        result.append(left[i])\n",
    "        i += 1\n",
    "    while (j < len(right)):\n",
    "        result.append(right[j])\n",
    "        j += 1\n",
    "    #print('merge: ' + str(left) + '&' + str(right) + ' to ' +str(result))\n",
    "    return result\n",
    "\n",
    "def merge_sort(L):\n",
    "    print('merge sort: ' + str(L))\n",
    "    if len(L) < 2:\n",
    "        return L[:]\n",
    "    else:\n",
    "        middle = len(L)//2\n",
    "        left = merge_sort(L[:middle])\n",
    "        right = merge_sort(L[middle:])\n",
    "        return merge(left, right)\n",
    "        \n",
    "testList = [1,3,2,7,5,6,25,18,13]\n",
    "\n",
    "print('')\n",
    "print(merge_sort(testList))\n"
   ]
  },
  {
   "cell_type": "code",
   "execution_count": null,
   "metadata": {},
   "outputs": [],
   "source": [
    "def insertionSort(alist):\n",
    "   for index in range(1,len(alist)):\n",
    "\n",
    "     currentvalue = alist[index]\n",
    "     position = index\n",
    "\n",
    "     while position>0 and alist[position-1]>currentvalue:\n",
    "         alist[position]=alist[position-1]\n",
    "         position = position-1\n",
    "\n",
    "     alist[position]=currentvalue\n",
    "\n",
    "alist = [54,26,93,17,77,31,44,55,20]\n",
    "insertionSort(alist)\n",
    "print(alist)"
   ]
  },
  {
   "cell_type": "code",
   "execution_count": 7,
   "metadata": {},
   "outputs": [
    {
     "name": "stdout",
     "output_type": "stream",
     "text": [
      "False\n",
      "not pal\n"
     ]
    }
   ],
   "source": [
    "def isPalindrome(s):\n",
    "\n",
    "    def toChars(s):\n",
    "        s = s.lower()\n",
    "        ans = ''\n",
    "        for c in s:\n",
    "            if c in 'abcdefghijklmnopqrstuvwxyz':\n",
    "                ans = ans + c\n",
    "        return ans\n",
    "\n",
    "    def isPal(s):\n",
    "        if len(s) <= 1:\n",
    "            return True\n",
    "        else:\n",
    "            print(\"s[1:-1]\",s[1:-1], \"s[0]\",s[0], \"s[-1]\", s[-1])\n",
    "            return s[0] == s[-1] and isPal(s[1:-1])\n",
    "\n",
    "    return isPal(toChars(s))\n",
    "\n",
    "def pallindrome(s):\n",
    "    ss = list(s.lower())\n",
    "    leng= len(ss)\n",
    "    pal = True\n",
    "    for i in range(int(len(ss)/2)):\n",
    "        #print(\"i is {} and -i is {} and i is {}\".format(ss[i],ss[-i],i))\n",
    "        if(ss[i] ==ss[-i-1]):\n",
    "            pass\n",
    "        else:\n",
    "            pal= False\n",
    "    return pal\n",
    "print(pallindrome(\"naadn\"))\n",
    "\n",
    "def noloop_pal(s):\n",
    "    s_rev = s[::-1]\n",
    "    if(s==s_rev):\n",
    "        print(\"pal\")\n",
    "    else:\n",
    "        print(\"not pal\")\n",
    "noloop_pal(\"niwqin\")"
   ]
  },
  {
   "cell_type": "code",
   "execution_count": 8,
   "metadata": {},
   "outputs": [
    {
     "name": "stdout",
     "output_type": "stream",
     "text": [
      "\n",
      "using fib\n",
      "5\n",
      "\n",
      "using fib_efficient\n",
      "5\n"
     ]
    }
   ],
   "source": [
    "#####################################\n",
    "# EXAMPLE: comparing fibonacci using memoization\n",
    "#####################################\n",
    "\n",
    "\n",
    "def fib(n):\n",
    "    if n == 1:\n",
    "        return 1\n",
    "    elif n == 2:\n",
    "        return 2\n",
    "    else:\n",
    "        return fib(n-1) + fib(n-2)\n",
    "\n",
    "\n",
    "def fib_efficient(n, d):\n",
    "    if n in d:\n",
    "        return d[n]\n",
    "    else:\n",
    "        ans = fib_efficient(n-1, d)+fib_efficient(n-2, d)\n",
    "        d[n] = ans\n",
    "        return ans\n",
    "        \n",
    "d = {1:1, 2:2}\n",
    "\n",
    "argToUse = 4\n",
    "print(\"\")\n",
    "print('using fib')\n",
    "print(fib(argToUse))\n",
    "print(\"\")\n",
    "print('using fib_efficient')\n",
    "print(fib_efficient(argToUse, d))"
   ]
  },
  {
   "cell_type": "code",
   "execution_count": 4,
   "metadata": {},
   "outputs": [
    {
     "name": "stdout",
     "output_type": "stream",
     "text": [
      "6\n"
     ]
    }
   ],
   "source": [
    "def FirstFactorial(num):\n",
    "    # code goes here\n",
    "    sum = 1\n",
    "    for i in range(num):\n",
    "        sum*=(i+1)\n",
    "    \n",
    "    return sum\n",
    "# keep this function call here \n",
    "print(FirstFactorial(3))"
   ]
  },
  {
   "cell_type": "markdown",
   "metadata": {},
   "source": [
    "# Binary Search Tree"
   ]
  },
  {
   "cell_type": "code",
   "execution_count": 1,
   "metadata": {},
   "outputs": [],
   "source": [
    "class node:\n",
    "    def __init__(self,va):\n",
    "        self.left = None\n",
    "        self.right=None\n",
    "        self.val=va\n",
    "def  binary_insert(root, value):\n",
    "    if root is None:\n",
    "        root = value\n",
    "    else:\n",
    "        if root.val > value.val:\n",
    "            if root.left is None:\n",
    "                root.left = value\n",
    "            else:\n",
    "                binary_insert(root.left,value)\n",
    "        else:\n",
    "            if root.right is None:\n",
    "                root.right = value\n",
    "            else:\n",
    "                binary_insert(root.right, value)\n",
    "def in_order_print(root):\n",
    "    if not root:\n",
    "        return\n",
    "    in_order_print(root.left)\n",
    "    print (root.val)\n",
    "    in_order_print(root.right)\n",
    "\n",
    "def pre_order_print(root):\n",
    "    if not root:\n",
    "            return        \n",
    "    print (root.val)\n",
    "    pre_order_print(root.left)\n",
    "    pre_order_print(root.right)    \n",
    "def search(root, key):\n",
    "    if root is None or root.val == key:\n",
    "        return root.val\n",
    "    else:\n",
    "        if root.val> key:\n",
    "            return search(root.left,key)\n",
    "        else:\n",
    "            return search(root.right,key)"
   ]
  },
  {
   "cell_type": "code",
   "execution_count": 3,
   "metadata": {},
   "outputs": [
    {
     "name": "stdout",
     "output_type": "stream",
     "text": [
      "in order:\n",
      "1\n",
      "3\n",
      "5\n",
      "7\n",
      "pre order\n",
      "3\n",
      "1\n",
      "7\n",
      "5\n",
      "search 7\n"
     ]
    }
   ],
   "source": [
    "r = node(3)\n",
    "binary_insert(r, node(7))\n",
    "binary_insert(r, node(1))\n",
    "binary_insert(r, node(5))\n",
    "print (\"in order:\")\n",
    "in_order_print(r)\n",
    "\n",
    "print (\"pre order\")\n",
    "pre_order_print(r)\n",
    "print(\"search\" ,search(r,7))"
   ]
  },
  {
   "cell_type": "code",
   "execution_count": null,
   "metadata": {},
   "outputs": [],
   "source": []
  },
  {
   "cell_type": "code",
   "execution_count": null,
   "metadata": {},
   "outputs": [],
   "source": []
  }
 ],
 "metadata": {
  "kernelspec": {
   "display_name": "Python 3",
   "language": "python",
   "name": "python3"
  },
  "language_info": {
   "codemirror_mode": {
    "name": "ipython",
    "version": 3
   },
   "file_extension": ".py",
   "mimetype": "text/x-python",
   "name": "python",
   "nbconvert_exporter": "python",
   "pygments_lexer": "ipython3",
   "version": "3.6.9"
  }
 },
 "nbformat": 4,
 "nbformat_minor": 2
}
