{
 "cells": [
  {
   "cell_type": "code",
   "execution_count": 1,
   "metadata": {
    "collapsed": true
   },
   "outputs": [],
   "source": [
    "import numpy as np\n",
    "import tensorflow as tf"
   ]
  },
  {
   "cell_type": "code",
   "execution_count": 2,
   "metadata": {
    "collapsed": true
   },
   "outputs": [],
   "source": [
    "from tensorflow.examples.tutorials.mnist import input_data"
   ]
  },
  {
   "cell_type": "code",
   "execution_count": 37,
   "metadata": {
    "collapsed": true
   },
   "outputs": [],
   "source": [
    "data_dir = \"C:/R_Lang/Deep_Learning_Python/MNIST/data/\"\n",
    "NUM_STEPS = 5000\n",
    "MINIBATCH_SIZE = 50"
   ]
  },
  {
   "cell_type": "code",
   "execution_count": 4,
   "metadata": {},
   "outputs": [
    {
     "name": "stdout",
     "output_type": "stream",
     "text": [
      "Extracting C:/R_Lang/Deep_Learning_Python/MNIST/data/train-images-idx3-ubyte.gz\n",
      "Extracting C:/R_Lang/Deep_Learning_Python/MNIST/data/train-labels-idx1-ubyte.gz\n",
      "Extracting C:/R_Lang/Deep_Learning_Python/MNIST/data/t10k-images-idx3-ubyte.gz\n",
      "Extracting C:/R_Lang/Deep_Learning_Python/MNIST/data/t10k-labels-idx1-ubyte.gz\n"
     ]
    }
   ],
   "source": [
    "data = input_data.read_data_sets(data_dir, one_hot=True)"
   ]
  },
  {
   "cell_type": "code",
   "execution_count": 5,
   "metadata": {},
   "outputs": [
    {
     "data": {
      "text/plain": [
       "((55000, 784), (55000, 10))"
      ]
     },
     "execution_count": 5,
     "metadata": {},
     "output_type": "execute_result"
    }
   ],
   "source": [
    "data.train.images.shape,data.train.labels.shape"
   ]
  },
  {
   "cell_type": "code",
   "execution_count": 6,
   "metadata": {},
   "outputs": [
    {
     "data": {
      "text/plain": [
       "((10000, 784), (10000, 10))"
      ]
     },
     "execution_count": 6,
     "metadata": {},
     "output_type": "execute_result"
    }
   ],
   "source": [
    "data.test.images.shape,data.test.labels.shape"
   ]
  },
  {
   "cell_type": "code",
   "execution_count": null,
   "metadata": {
    "collapsed": true
   },
   "outputs": [],
   "source": [
    "tf.reset_default_graph() \n",
    "xx = tf.placeholder(tf.float32, [784,None])\n",
    "ww = tf.Variable(tf.zeros([784, 10]))\n",
    "y_t = tf.placeholder(tf.float32, [10,None])\n",
    "y_p = tf.matmul(tf.transpose(ww),xx)\n",
    "cross_ent = tf.reduce_mean(tf.nn.softmax_cross_entropy_with_logits(logits=y_p, labels=y_t), name = \"cross_ent\")\n",
    "print(cross_ent)\n",
    "gd_st = tf.train.GradientDescentOptimizer(0.5).minimize(cross_ent)\n",
    "correct_ma = tf.equal(tf.argmax(y_p, 0), tf.argmax(y_t, 0))\n",
    "accur = tf.reduce_mean(tf.cast(correct_ma, tf.float32))\n",
    "with tf.Session() as ses:\n",
    "# Train\n",
    "    ses.run(tf.global_variables_initializer())\n",
    "    for _ in range(NUM_STEPS):\n",
    "        batch_xs, batch_ys = data.train.next_batch(MINIBATCH_SIZE)\n",
    "        ses.run(gd_st, feed_dict={xx: np.transpose(batch_xs), y_t: np.transpose(batch_ys)})\n",
    "        # Test\n",
    "    ans = ses.run(accur, feed_dict={xx: np.transpose(data.test.images),y_t: np.transpose(data.test.labels)})\n",
    "print( \"Accuracy: {:.4}%\".format(ans*100))"
   ]
  },
  {
   "cell_type": "code",
   "execution_count": null,
   "metadata": {
    "collapsed": true
   },
   "outputs": [],
   "source": [
    "dat = data.train"
   ]
  },
  {
   "cell_type": "markdown",
   "metadata": {},
   "source": [
    "# AS PER COURSE , Having X and Y as [nx, mx] where nx is features and mx is total examples"
   ]
  },
  {
   "cell_type": "code",
   "execution_count": null,
   "metadata": {
    "collapsed": true
   },
   "outputs": [],
   "source": [
    "tf.reset_default_graph() \n",
    "Weights = tf.get_variable(name=\"Weights\", shape = [784, 10] ,initializer = tf.contrib.layers.xavier_initializer())\n",
    "X= tf.placeholder(name=\"InputX\",shape=[784,None], dtype=tf.float32)\n",
    "Y= tf.placeholder(name=\"InputY\",shape=[10, None], dtype=tf.float32)\n",
    "#X = tf.placeholder(tf.float32, [784,None])\n",
    "#Weights = tf.Variable(tf.zeros([784, 10]))\n",
    "#Y = tf.placeholder(tf.float32, [10,None])\n",
    "y_pr = tf.matmul(tf.transpose(Weights),X)\n",
    "loss = tf.reduce_mean(tf.nn.softmax_cross_entropy_with_logits(logits =tf.transpose(y_pr), labels=tf.transpose(Y)))\n",
    "gd_st = tf.train.AdamOptimizer(0.2).minimize(loss)\n",
    "correct_mas = tf.equal(tf.argmax(y_pr, 0), tf.argmax(Y, 0))\n",
    "accur = tf.reduce_mean(tf.cast(correct_mas, tf.float32))\n",
    "with tf.Session() as sess:\n",
    "    sess.run(tf.global_variables_initializer())\n",
    "    #writer = tf.summary.FileWriter('C:/Users/USX28939/PYTHON_CODE_BASE/graphs', tf.get_default_graph())\n",
    "    \n",
    "    for _ in range(NUM_STEPS):\n",
    "        batch_xs, batch_ys = dat.next_batch(MINIBATCH_SIZE)\n",
    "        sess.run(gd_st, feed_dict={X: np.transpose(batch_xs), Y: np.transpose(batch_ys)})\n",
    "        #print(\"\\n Weights\" , Weights.eval(), \"\\n\\n\")\n",
    "        #print(\"\\n Value of X\" , sess.run(X, feed_dict ={ X: np.transpose(batch_xss)}), \"\\n\\n\\n\")\n",
    "        #print(\"\\n y_pred\" , sess.run(y_pr, feed_dict ={ X: np.transpose(batch_xs)}), \"\\n\\n shape\\n\" , \"\\n\\n\")\n",
    "        ans = sess.run(accur, feed_dict={X: np.transpose(data.test.images),Y: np.transpose(data.test.labels)})\n",
    "        #print( \"Accuracy Test: {:.4}%\".format(ans*100))\n",
    "print(\"nnnn\",ans)\n",
    "#print \"Accuracy Train: {:.4}%\".format(accuracy*100)\n",
    "#writer.close()"
   ]
  },
  {
   "cell_type": "markdown",
   "metadata": {},
   "source": [
    "# AS PER BOOK"
   ]
  },
  {
   "cell_type": "code",
   "execution_count": null,
   "metadata": {
    "collapsed": true
   },
   "outputs": [],
   "source": [
    "MINIBATCH_SIZE = 70"
   ]
  },
  {
   "cell_type": "code",
   "execution_count": null,
   "metadata": {
    "collapsed": true
   },
   "outputs": [],
   "source": [
    "tf.reset_default_graph() \n",
    "x = tf.placeholder(tf.float32, [None, 784])\n",
    "#W = tf.Variable(tf.zeros([784, 10]))\n",
    "W = tf.get_variable(name=\"Wei\", shape = [784, 10] ,initializer = tf.random_uniform_initializer())#tf.contrib.layers.xavier_initializer())\n",
    "y_true = tf.placeholder(tf.float32, [None, 10])\n",
    "y_pred = tf.matmul(x, W)\n",
    "cross_entropy = tf.reduce_mean(tf.nn.softmax_cross_entropy_with_logits(logits=y_pred, labels=y_true))\n",
    "gd_step = tf.train.AdagradOptimizer(0.2).minimize(cross_entropy)\n",
    "correct_mask = tf.equal(tf.argmax(y_pred, 1), tf.argmax(y_true, 1))\n",
    "accuracy = tf.reduce_mean(tf.cast(correct_mask, tf.float32))\n",
    "with tf.Session() as sess:\n",
    "# Train\n",
    "    sess.run(tf.global_variables_initializer())\n",
    "    for _ in range(NUM_STEPS):\n",
    "        batch_xs, batch_ys = data.train.next_batch(MINIBATCH_SIZE)\n",
    "        sess.run(gd_step, feed_dict={x: batch_xs, y_true: batch_ys})\n",
    "        #print(\"Weights\" , W.eval(), \"\\n\\n\")\n",
    "        #print(\"\\n Value of X\" ,sess.run(x, feed_dict ={ x: batch_xs}), \"\\n\\n\\n\")\n",
    "        #print(\"\\n y_pred\" ,sess.run(y_pred, feed_dict ={x: batch_xs}), \"\\n\\n shape\\n\",\"\\n\\n\" )\n",
    "        # Test\n",
    "    ans = sess.run(accuracy, feed_dict={x: data.test.images,y_true: data.test.labels})\n",
    "print( \"Accuracy: {:.4}%\".format(ans*100))"
   ]
  },
  {
   "cell_type": "code",
   "execution_count": null,
   "metadata": {
    "collapsed": true
   },
   "outputs": [],
   "source": []
  },
  {
   "cell_type": "markdown",
   "metadata": {},
   "source": [
    "# Convolutional Neural Network"
   ]
  },
  {
   "cell_type": "markdown",
   "metadata": {},
   "source": [
    "Max pooling does two main things:\n",
    "\n",
    "Reduces the number of parameters within the model (as you can observe above, the output is smaller than the input) - this is called down-sampling or sub-sampling\n",
    "It generalises the results from a convolutional filter - making the detection of features invariant to scale or orientation changes.  See the diagram below from the same tutorial:\n",
    "http://adventuresinmachinelearning.com/convolutional-neural-networks-tutorial-tensorflow/"
   ]
  },
  {
   "cell_type": "code",
   "execution_count": 7,
   "metadata": {
    "collapsed": true
   },
   "outputs": [],
   "source": [
    "tf.reset_default_graph() "
   ]
  },
  {
   "cell_type": "code",
   "execution_count": null,
   "metadata": {
    "collapsed": true
   },
   "outputs": [],
   "source": [
    "data_x = data.train.images"
   ]
  },
  {
   "cell_type": "code",
   "execution_count": null,
   "metadata": {
    "collapsed": true
   },
   "outputs": [],
   "source": [
    "data_y = data.train.labels"
   ]
  },
  {
   "cell_type": "code",
   "execution_count": null,
   "metadata": {
    "collapsed": true
   },
   "outputs": [],
   "source": [
    "data_x.shape, data_y.shape"
   ]
  },
  {
   "cell_type": "code",
   "execution_count": 8,
   "metadata": {
    "collapsed": true
   },
   "outputs": [],
   "source": [
    "W1 = tf.get_variable(name = \"Weights1\", dtype = tf.float32, shape= (5, 5, 1, 32), initializer=tf.contrib.layers.xavier_initializer())\n",
    "W2 = tf.get_variable(name = \"Weights2\", dtype = tf.float32, shape= (5, 5, 32, 64), initializer=tf.contrib.layers.xavier_initializer())"
   ]
  },
  {
   "cell_type": "code",
   "execution_count": 9,
   "metadata": {
    "collapsed": true
   },
   "outputs": [],
   "source": [
    "inp_img = tf.placeholder(dtype = tf.float32,name=\"inp_img\",shape=(None, 28,28,1))"
   ]
  },
  {
   "cell_type": "code",
   "execution_count": 10,
   "metadata": {
    "collapsed": true
   },
   "outputs": [],
   "source": [
    "inp_y = tf.placeholder(dtype = tf.float32,name=\"inp_y\",shape=(None, 10))"
   ]
  },
  {
   "cell_type": "code",
   "execution_count": 12,
   "metadata": {
    "collapsed": true
   },
   "outputs": [],
   "source": [
    "# CONV2D: stride of 1, padding 'SAME'\n",
    "Z1 = tf.nn.conv2d(inp_img,W1, strides = [1,1,1,1], padding = 'SAME')\n",
    "# RELU\n",
    "A1 = tf.nn.relu(Z1)\n",
    "# MAXPOOL: window 8x8, sride 8, padding 'SAME'\n",
    "P1 = tf.nn.max_pool(A1, ksize = [1, 2, 2, 1], strides = [1, 2, 2, 1], padding = 'SAME')\n",
    "# CONV2D: filters W2, stride 1, padding 'SAME'\n",
    "Z2 = tf.nn.conv2d(P1,W2, strides = [1,1,1,1], padding = 'SAME')\n",
    "# RELU\n",
    "A2 = tf.nn.relu(Z2)\n",
    "# MAXPOOL: window 4x4, stride 4, padding 'SAME'\n",
    "P2 = tf.nn.max_pool(A2, ksize = [1, 2, 2, 1], strides = [1, 2, 2, 1], padding = 'SAME')\n",
    "# FLATTEN\n",
    "P2 = tf.contrib.layers.flatten(P2)\n",
    "# FULLY-CONNECTED without non-linear activation function (not not call softmax). \n",
    "Z3 = tf.contrib.layers.fully_connected(P2,10,activation_fn=None,)"
   ]
  },
  {
   "cell_type": "code",
   "execution_count": 13,
   "metadata": {
    "collapsed": true
   },
   "outputs": [],
   "source": [
    "cost = tf.reduce_mean(tf.nn.softmax_cross_entropy_with_logits(logits = Z3, labels = inp_y))"
   ]
  },
  {
   "cell_type": "code",
   "execution_count": 33,
   "metadata": {
    "collapsed": true
   },
   "outputs": [],
   "source": [
    "optimizer = tf.train.AdamOptimizer(learning_rate = .001).minimize(cost)"
   ]
  },
  {
   "cell_type": "code",
   "execution_count": 38,
   "metadata": {},
   "outputs": [
    {
     "name": "stdout",
     "output_type": "stream",
     "text": [
      "Accuracy: 99.27%\n"
     ]
    }
   ],
   "source": [
    "cor = tf.equal(tf.argmax(Z3, 1), tf.argmax(inp_y, 1))\n",
    "accu = tf.reduce_mean(tf.cast(cor, tf.float32))\n",
    "with tf.Session() as sessi:\n",
    "# Train\n",
    "    sessi.run(tf.global_variables_initializer())\n",
    "    for _ in range(NUM_STEPS):\n",
    "        batch = data.train.next_batch(MINIBATCH_SIZE)\n",
    "        sessi.run(optimizer, feed_dict={inp_img: np.reshape(batch[0],(-1,28,28,1)), inp_y: batch[1]})\n",
    "        #print(\"Weights\" , W.eval(), \"\\n\\n\")\n",
    "        #print(\"\\n Value of X\" ,sessi.run(x, feed_dict ={ x: batch_xs}), \"\\n\\n\\n\")\n",
    "        #print(\"\\n y_pred\" ,sessi.run(y_pred, feed_dict ={x: batch_xs}), \"\\n\\n shape\\n\",\"\\n\\n\" )\n",
    "        # Test\n",
    "    ans = sessi.run(accu, feed_dict={inp_img: np.reshape(data.test.images,(-1,28,28,1)),inp_y: data.test.labels})\n",
    "print( \"Accuracy: {:.4}%\".format(ans*100))"
   ]
  },
  {
   "cell_type": "code",
   "execution_count": 9,
   "metadata": {
    "collapsed": true
   },
   "outputs": [],
   "source": [
    "from sklearn.datasets import make_classification\n",
    "from sklearn.linear_model import LogisticRegression\n",
    "from sklearn import metrics"
   ]
  },
  {
   "cell_type": "code",
   "execution_count": 3,
   "metadata": {},
   "outputs": [],
   "source": [
    "X, y = make_classification(n_samples=10000, n_features=10, n_classes=2, n_informative=5)\n",
    "Xtrain = X[:9000]\n",
    "Xtest = X[9000:]\n",
    "ytrain = y[:9000]\n",
    "ytest = y[9000:]"
   ]
  },
  {
   "cell_type": "code",
   "execution_count": 4,
   "metadata": {},
   "outputs": [
    {
     "data": {
      "text/plain": [
       "LogisticRegression(C=1.0, class_weight=None, dual=False, fit_intercept=True,\n",
       "          intercept_scaling=1, max_iter=100, multi_class='ovr', n_jobs=1,\n",
       "          penalty='l2', random_state=None, solver='liblinear', tol=0.0001,\n",
       "          verbose=0, warm_start=False)"
      ]
     },
     "execution_count": 4,
     "metadata": {},
     "output_type": "execute_result"
    }
   ],
   "source": [
    "clf = LogisticRegression()\n",
    "clf.fit(Xtrain, ytrain)"
   ]
  },
  {
   "cell_type": "code",
   "execution_count": 5,
   "metadata": {},
   "outputs": [
    {
     "data": {
      "text/plain": [
       "array([1, 0, 1, ..., 1, 1, 0])"
      ]
     },
     "execution_count": 5,
     "metadata": {},
     "output_type": "execute_result"
    }
   ],
   "source": [
    "ytrain"
   ]
  },
  {
   "cell_type": "code",
   "execution_count": 6,
   "metadata": {
    "collapsed": true
   },
   "outputs": [],
   "source": [
    "preds = clf.predict_proba(Xtest)[:,1]"
   ]
  },
  {
   "cell_type": "code",
   "execution_count": 10,
   "metadata": {},
   "outputs": [],
   "source": [
    "fpr, tpr, _ = metrics.roc_curve(ytest, preds)"
   ]
  },
  {
   "cell_type": "code",
   "execution_count": 11,
   "metadata": {},
   "outputs": [
    {
     "data": {
      "text/plain": [
       "(array([ 0.        ,  0.        ,  0.00206186,  0.00206186,  0.00618557,\n",
       "         0.00618557,  0.00824742,  0.00824742,  0.01030928,  0.01030928,\n",
       "         0.01237113,  0.01237113,  0.01443299,  0.01443299,  0.01649485,\n",
       "         0.01649485,  0.0185567 ,  0.0185567 ,  0.02061856,  0.02061856,\n",
       "         0.02268041,  0.02268041,  0.02474227,  0.02474227,  0.02886598,\n",
       "         0.02886598,  0.03092784,  0.03092784,  0.03298969,  0.03298969,\n",
       "         0.03505155,  0.03505155,  0.03917526,  0.03917526,  0.04123711,\n",
       "         0.04123711,  0.04329897,  0.04329897,  0.04536082,  0.04536082,\n",
       "         0.04742268,  0.04742268,  0.04948454,  0.04948454,  0.05360825,\n",
       "         0.05360825,  0.0556701 ,  0.0556701 ,  0.05773196,  0.05773196,\n",
       "         0.05979381,  0.05979381,  0.06185567,  0.06185567,  0.06391753,\n",
       "         0.06391753,  0.06597938,  0.06597938,  0.07010309,  0.07010309,\n",
       "         0.07216495,  0.07216495,  0.07835052,  0.07835052,  0.08041237,\n",
       "         0.08041237,  0.08247423,  0.08247423,  0.08453608,  0.08453608,\n",
       "         0.08659794,  0.08659794,  0.08865979,  0.08865979,  0.09484536,\n",
       "         0.09484536,  0.09690722,  0.09690722,  0.09896907,  0.09896907,\n",
       "         0.10103093,  0.10103093,  0.10309278,  0.10309278,  0.10515464,\n",
       "         0.10515464,  0.10927835,  0.10927835,  0.11134021,  0.11134021,\n",
       "         0.11340206,  0.11340206,  0.11546392,  0.11546392,  0.12164948,\n",
       "         0.12164948,  0.12371134,  0.12371134,  0.1257732 ,  0.1257732 ,\n",
       "         0.12989691,  0.12989691,  0.13195876,  0.13195876,  0.13402062,\n",
       "         0.13402062,  0.13608247,  0.13608247,  0.14226804,  0.14226804,\n",
       "         0.1443299 ,  0.1443299 ,  0.14845361,  0.14845361,  0.15670103,\n",
       "         0.15670103,  0.16494845,  0.16494845,  0.16701031,  0.16701031,\n",
       "         0.16907216,  0.16907216,  0.17113402,  0.17113402,  0.17731959,\n",
       "         0.17731959,  0.17938144,  0.17938144,  0.18350515,  0.18350515,\n",
       "         0.18556701,  0.18556701,  0.18762887,  0.18762887,  0.19381443,\n",
       "         0.19381443,  0.19587629,  0.19587629,  0.20618557,  0.20618557,\n",
       "         0.20824742,  0.20824742,  0.2185567 ,  0.2185567 ,  0.22680412,\n",
       "         0.22680412,  0.22886598,  0.22886598,  0.23092784,  0.23092784,\n",
       "         0.23505155,  0.23505155,  0.24536082,  0.24536082,  0.24948454,\n",
       "         0.24948454,  0.25360825,  0.25360825,  0.2556701 ,  0.2556701 ,\n",
       "         0.25979381,  0.25979381,  0.26185567,  0.26185567,  0.27216495,\n",
       "         0.27216495,  0.27628866,  0.27628866,  0.28453608,  0.28453608,\n",
       "         0.28659794,  0.28659794,  0.28865979,  0.28865979,  0.29072165,\n",
       "         0.29072165,  0.29484536,  0.29484536,  0.29896907,  0.29896907,\n",
       "         0.30721649,  0.30721649,  0.31134021,  0.31134021,  0.31340206,\n",
       "         0.31340206,  0.31958763,  0.31958763,  0.32164948,  0.32164948,\n",
       "         0.32371134,  0.32371134,  0.32783505,  0.32783505,  0.32989691,\n",
       "         0.32989691,  0.33402062,  0.33402062,  0.33608247,  0.33608247,\n",
       "         0.34020619,  0.34020619,  0.34226804,  0.34226804,  0.36494845,\n",
       "         0.36494845,  0.36907216,  0.36907216,  0.37113402,  0.37113402,\n",
       "         0.37731959,  0.37731959,  0.38762887,  0.38762887,  0.39793814,\n",
       "         0.39793814,  0.4       ,  0.4       ,  0.40412371,  0.40412371,\n",
       "         0.41649485,  0.41649485,  0.4185567 ,  0.4185567 ,  0.42680412,\n",
       "         0.42680412,  0.44329897,  0.44329897,  0.45360825,  0.45360825,\n",
       "         0.46185567,  0.46185567,  0.46804124,  0.46804124,  0.47216495,\n",
       "         0.47216495,  0.47835052,  0.47835052,  0.48865979,  0.48865979,\n",
       "         0.53195876,  0.53195876,  0.53402062,  0.53402062,  0.55257732,\n",
       "         0.55257732,  0.56082474,  0.56082474,  0.60206186,  0.60206186,\n",
       "         0.63092784,  0.63092784,  0.63298969,  0.63298969,  0.65360825,\n",
       "         0.65360825,  0.69278351,  0.69278351,  0.69484536,  0.69484536,\n",
       "         0.69690722,  0.69690722,  0.70309278,  0.70309278,  0.70515464,\n",
       "         0.70515464,  0.77113402,  0.77113402,  0.79175258,  0.79175258,\n",
       "         0.80618557,  0.80618557,  0.82061856,  0.82061856,  0.82680412,\n",
       "         0.82680412,  0.88453608,  0.88453608,  0.96701031,  0.96701031,  1.        ]),\n",
       " array([ 0.00194175,  0.06019417,  0.06019417,  0.10097087,  0.10097087,\n",
       "         0.12427184,  0.12427184,  0.14563107,  0.14563107,  0.18252427,\n",
       "         0.18252427,  0.21747573,  0.21747573,  0.21941748,  0.21941748,\n",
       "         0.25048544,  0.25048544,  0.25242718,  0.25242718,  0.26019417,\n",
       "         0.26019417,  0.26213592,  0.26213592,  0.3184466 ,  0.3184466 ,\n",
       "         0.33592233,  0.33592233,  0.34563107,  0.34563107,  0.35533981,\n",
       "         0.35533981,  0.36504854,  0.36504854,  0.40776699,  0.40776699,\n",
       "         0.43106796,  0.43106796,  0.44854369,  0.44854369,  0.47378641,\n",
       "         0.47378641,  0.4815534 ,  0.4815534 ,  0.48349515,  0.48349515,\n",
       "         0.48737864,  0.48737864,  0.49514563,  0.49514563,  0.50485437,\n",
       "         0.50485437,  0.50679612,  0.50679612,  0.51262136,  0.51262136,\n",
       "         0.53009709,  0.53009709,  0.53398058,  0.53398058,  0.55339806,\n",
       "         0.55339806,  0.56116505,  0.56116505,  0.58058252,  0.58058252,\n",
       "         0.58834951,  0.58834951,  0.59805825,  0.59805825,  0.6038835 ,\n",
       "         0.6038835 ,  0.60582524,  0.60582524,  0.60970874,  0.60970874,\n",
       "         0.61747573,  0.61747573,  0.62135922,  0.62135922,  0.62524272,\n",
       "         0.62524272,  0.63883495,  0.63883495,  0.64271845,  0.64271845,\n",
       "         0.66019417,  0.66019417,  0.67961165,  0.67961165,  0.6815534 ,\n",
       "         0.6815534 ,  0.68543689,  0.68543689,  0.68932039,  0.68932039,\n",
       "         0.69320388,  0.69320388,  0.70097087,  0.70097087,  0.70291262,\n",
       "         0.70291262,  0.71067961,  0.71067961,  0.7184466 ,  0.7184466 ,\n",
       "         0.72815534,  0.72815534,  0.73398058,  0.73398058,  0.73786408,\n",
       "         0.73786408,  0.73980583,  0.73980583,  0.74174757,  0.74174757,\n",
       "         0.75728155,  0.75728155,  0.7592233 ,  0.7592233 ,  0.76116505,\n",
       "         0.76116505,  0.7631068 ,  0.7631068 ,  0.77087379,  0.77087379,\n",
       "         0.77475728,  0.77475728,  0.77669903,  0.77669903,  0.78446602,\n",
       "         0.78446602,  0.78640777,  0.78640777,  0.78834951,  0.78834951,\n",
       "         0.80582524,  0.80582524,  0.80970874,  0.80970874,  0.81165049,\n",
       "         0.81165049,  0.81359223,  0.81359223,  0.81747573,  0.81747573,\n",
       "         0.82524272,  0.82524272,  0.83106796,  0.83106796,  0.83300971,\n",
       "         0.83300971,  0.83883495,  0.83883495,  0.8407767 ,  0.8407767 ,\n",
       "         0.84271845,  0.84271845,  0.84466019,  0.84466019,  0.84854369,\n",
       "         0.84854369,  0.85048544,  0.85048544,  0.85242718,  0.85242718,\n",
       "         0.85436893,  0.85436893,  0.85631068,  0.85631068,  0.86407767,\n",
       "         0.86407767,  0.86601942,  0.86601942,  0.86796117,  0.86796117,\n",
       "         0.87572816,  0.87572816,  0.8776699 ,  0.8776699 ,  0.87961165,\n",
       "         0.87961165,  0.8815534 ,  0.8815534 ,  0.88349515,  0.88349515,\n",
       "         0.88543689,  0.88543689,  0.88737864,  0.88737864,  0.88932039,\n",
       "         0.88932039,  0.89126214,  0.89126214,  0.89320388,  0.89320388,\n",
       "         0.89514563,  0.89514563,  0.89708738,  0.89708738,  0.90097087,\n",
       "         0.90097087,  0.90291262,  0.90291262,  0.90485437,  0.90485437,\n",
       "         0.90679612,  0.90679612,  0.90873786,  0.90873786,  0.91067961,\n",
       "         0.91067961,  0.91650485,  0.91650485,  0.9184466 ,  0.9184466 ,\n",
       "         0.9223301 ,  0.9223301 ,  0.92427184,  0.92427184,  0.93398058,\n",
       "         0.93398058,  0.93592233,  0.93592233,  0.93786408,  0.93786408,\n",
       "         0.94174757,  0.94174757,  0.94368932,  0.94368932,  0.94563107,\n",
       "         0.94563107,  0.94951456,  0.94951456,  0.95145631,  0.95145631,\n",
       "         0.95728155,  0.95728155,  0.9592233 ,  0.9592233 ,  0.96116505,\n",
       "         0.96116505,  0.9631068 ,  0.9631068 ,  0.96504854,  0.96504854,\n",
       "         0.96699029,  0.96699029,  0.96893204,  0.96893204,  0.97087379,\n",
       "         0.97087379,  0.97281553,  0.97281553,  0.97475728,  0.97475728,\n",
       "         0.97669903,  0.97669903,  0.97864078,  0.97864078,  0.98058252,\n",
       "         0.98058252,  0.98252427,  0.98252427,  0.98446602,  0.98446602,\n",
       "         0.98640777,  0.98640777,  0.98834951,  0.98834951,  0.99029126,\n",
       "         0.99029126,  0.99223301,  0.99223301,  0.99417476,  0.99417476,\n",
       "         0.9961165 ,  0.9961165 ,  0.99805825,  0.99805825,  1.        ,  1.        ]))"
      ]
     },
     "execution_count": 11,
     "metadata": {},
     "output_type": "execute_result"
    }
   ],
   "source": [
    "fpr, tpr"
   ]
  },
  {
   "cell_type": "code",
   "execution_count": null,
   "metadata": {
    "collapsed": true
   },
   "outputs": [],
   "source": []
  }
 ],
 "metadata": {
  "kernelspec": {
   "display_name": "Python 3",
   "language": "python",
   "name": "python3"
  },
  "language_info": {
   "codemirror_mode": {
    "name": "ipython",
    "version": 3
   },
   "file_extension": ".py",
   "mimetype": "text/x-python",
   "name": "python",
   "nbconvert_exporter": "python",
   "pygments_lexer": "ipython3",
   "version": "3.6.5"
  }
 },
 "nbformat": 4,
 "nbformat_minor": 2
}
