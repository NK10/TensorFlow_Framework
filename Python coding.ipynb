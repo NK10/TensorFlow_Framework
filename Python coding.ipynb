{
 "cells": [
  {
   "cell_type": "code",
   "execution_count": 1,
   "metadata": {},
   "outputs": [],
   "source": [
    "import numpy as np"
   ]
  },
  {
   "cell_type": "code",
   "execution_count": 8,
   "metadata": {},
   "outputs": [
    {
     "data": {
      "text/plain": [
       "'255[.]100[.]50[.]0'"
      ]
     },
     "execution_count": 8,
     "metadata": {},
     "output_type": "execute_result"
    }
   ],
   "source": [
    "st=\"255.100.50.0\"\n",
    "\"[.]\".join(st.split(\".\"))"
   ]
  },
  {
   "cell_type": "code",
   "execution_count": 56,
   "metadata": {},
   "outputs": [
    {
     "name": "stdout",
     "output_type": "stream",
     "text": [
      "num 7.0\n",
      "num 6.0\n",
      "num 3.0\n",
      "num 2.0\n",
      "num 1.0\n",
      "num 0.0\n",
      "14 6\n"
     ]
    }
   ],
   "source": [
    "num = 14\n",
    "counter= 0\n",
    "while num:\n",
    "    if num % 2 == 0: \n",
    "        num /= 2\n",
    "        print(\"num\",num)\n",
    "    else: \n",
    "        num -= 1\n",
    "        print(\"num\",num)\n",
    "    counter += 1\n",
    "print(n, counter)"
   ]
  },
  {
   "cell_type": "code",
   "execution_count": 72,
   "metadata": {},
   "outputs": [
    {
     "data": {
      "text/plain": [
       "[4, 0, 1, 1, 3]"
      ]
     },
     "execution_count": 72,
     "metadata": {},
     "output_type": "execute_result"
    }
   ],
   "source": [
    "num = [8,1,2,2,3]\n",
    "def smallerNumbersThanCurrent(nums):\n",
    "    su=[]\n",
    "    for i,j in enumerate(num):\n",
    "        counter =0\n",
    "        for ii,jj in enumerate(num): \n",
    "            if i!=ii:\n",
    "                if j>jj:\n",
    "                    counter+=1\n",
    "        su.append(counter)\n",
    "    return(su)\n",
    "        \n",
    "smallerNumbersThanCurrent(num)\n",
    "\n",
    "def smallerNumbersThanCurrent(nums):\n",
    "    m = {}\n",
    "    for i, num in enumerate(sorted(nums)):\n",
    "        m.setdefault(num, i)\n",
    "    return map(m.get, nums)\n",
    "smallerNumbersThanCurrent(num)\n",
    "\n",
    "def smallerNumbersThanCurrent(nums):\n",
    "    sorted_nums = sorted(nums)\n",
    "    return [sorted_nums.index(num) for num in nums]\n",
    "smallerNumbersThanCurrent(num)"
   ]
  },
  {
   "cell_type": "code",
   "execution_count": 2,
   "metadata": {},
   "outputs": [
    {
     "data": {
      "text/plain": [
       "[2, 4, 4, 4]"
      ]
     },
     "execution_count": 2,
     "metadata": {},
     "output_type": "execute_result"
    }
   ],
   "source": [
    "nums = [1,2,3,4]\n",
    "\n",
    "def decompressRLElist(nums):\n",
    "    final =[]\n",
    "    for i in range(0,len(nums),2):\n",
    "        final+=([(nums[i+1])]*(nums[i]))\n",
    "    return(final)\n",
    "decompressRLElist(nums)\n",
    "def decompressRLElist(nums):\n",
    "    res = list()\n",
    "    for i in range(0,len(nums)-1,2):\n",
    "        res += [nums[i+1]]*nums[i]\n",
    "    return res\n",
    "decompressRLElist(nums)"
   ]
  },
  {
   "cell_type": "code",
   "execution_count": 18,
   "metadata": {},
   "outputs": [
    {
     "data": {
      "text/plain": [
       "3"
      ]
     },
     "execution_count": 18,
     "metadata": {},
     "output_type": "execute_result"
    }
   ],
   "source": [
    "#Given an array nums of integers, return how many of them contain an even number of digits.\n",
    "nums = [12,345,2,6,7896,11]\n",
    "\n",
    "def findNumbers(nums):\n",
    "    counter =0\n",
    "    for i in nums:\n",
    "        if len(str(i))%2 ==0:\n",
    "            counter+=1\n",
    "    return counter\n",
    "        \n",
    "findNumbers(nums)  \n",
    "import math \n",
    "def findNumbers(nums):\n",
    "    return sum(int(math.log10(n)) % 2 for n in nums) # log10(n) + 1 is the # of digits.\n",
    "findNumbers(nums) "
   ]
  },
  {
   "cell_type": "code",
   "execution_count": 73,
   "metadata": {},
   "outputs": [
    {
     "name": "stdout",
     "output_type": "stream",
     "text": [
      "23 4 4\n",
      "2 7 12\n",
      "0 9 24\n",
      "<map object at 0x000002381AB719B0>\n"
     ]
    },
    {
     "data": {
      "text/plain": [
       "24"
      ]
     },
     "execution_count": 73,
     "metadata": {},
     "output_type": "execute_result"
    }
   ],
   "source": [
    "#Given an integer number n, return the difference between the product of its digits and the sum of its digits.\n",
    "n = 234\n",
    "def subtractProductAndSum(n):\n",
    "    su = 0\n",
    "    product =1\n",
    "    while n> 0:\n",
    "        su+=n%10\n",
    "        product*=n%10\n",
    "        n = n//10\n",
    "        print(n, su, product)\n",
    "    return product - su\n",
    "subtractProductAndSum(n)     \n",
    "import functools\n",
    "def subtractProductAndSum(n):\n",
    "    l = map(int,list(str(n)))\n",
    "    print(l)\n",
    "    return functools.reduce(lambda x,y:x*y, l) - sum(l)\n",
    "subtractProductAndSum(n)"
   ]
  },
  {
   "cell_type": "code",
   "execution_count": 55,
   "metadata": {},
   "outputs": [
    {
     "data": {
      "text/plain": [
       "9"
      ]
     },
     "execution_count": 55,
     "metadata": {},
     "output_type": "execute_result"
    }
   ],
   "source": [
    "l=[2,3,4]\n",
    "functools.reduce(lambda x,y: x+y, l)"
   ]
  },
  {
   "cell_type": "code",
   "execution_count": 65,
   "metadata": {},
   "outputs": [
    {
     "name": "stdout",
     "output_type": "stream",
     "text": [
      "[0, 4, 1, 3, 2]\n"
     ]
    },
    {
     "data": {
      "text/plain": [
       "[0, 4, 1, 3, 2]"
      ]
     },
     "execution_count": 65,
     "metadata": {},
     "output_type": "execute_result"
    }
   ],
   "source": [
    "nums = [0,1,2,3,4]\n",
    "index = [0,1,2,2,1]\n",
    "'''Given two arrays of integers nums and index. Your task is to create target array under the following rules:\n",
    "\n",
    "Initially target array is empty.\n",
    "From left to right read nums[i] and index[i], insert at index index[i] the value nums[i] in target array.\n",
    "Repeat the previous step until there are no elements to read in nums and index.\n",
    "'''\n",
    "def createTargetArray(nums,index):\n",
    "    final = []\n",
    "    for i,j  in enumerate(index):\n",
    "        final.insert(j,nums[i])\n",
    "    return final\n",
    "print(createTargetArray(nums,index))\n",
    "\n",
    "def createTargetArray(nums,index):\n",
    "    final = []\n",
    "    arr = zip(index,nums)\n",
    "    for i in arr:\n",
    "        final.insert(i[0],i[1])\n",
    "    return final\n",
    "createTargetArray(nums,index)"
   ]
  },
  {
   "cell_type": "code",
   "execution_count": 74,
   "metadata": {},
   "outputs": [
    {
     "data": {
      "text/plain": [
       "1"
      ]
     },
     "execution_count": 74,
     "metadata": {},
     "output_type": "execute_result"
    }
   ],
   "source": [
    "s = \"RRLL\"\n",
    "def balancedStringSplit(s) :\n",
    "    counter =0\n",
    "    total= 0\n",
    "    for i in s:\n",
    "        if i==\"R\":\n",
    "            counter+=1\n",
    "        elif i==\"L\":\n",
    "            counter-=1\n",
    "        if counter==0:\n",
    "            total+=1\n",
    "    return total \n",
    "balancedStringSplit(s)"
   ]
  },
  {
   "cell_type": "markdown",
   "metadata": {},
   "source": [
    "<b>a=[1,22,3,4,3]  \n",
    "max(a[2:]) </b>  \n",
    "\n",
    "returns 4"
   ]
  },
  {
   "cell_type": "code",
   "execution_count": 89,
   "metadata": {},
   "outputs": [
    {
     "data": {
      "text/plain": [
       "[18, 6, 6, 6, 1, -1]"
      ]
     },
     "execution_count": 89,
     "metadata": {},
     "output_type": "execute_result"
    }
   ],
   "source": [
    "'''Given an array arr, replace every element in that array with the greatest element among the elements to its right, \n",
    "and replace the last element with -1.\n",
    "Input: arr = [17,18,5,4,6,1]\n",
    "Output: [18,6,6,6,1,-1]'''\n",
    "arr = [17,18,5,4,6,1]\n",
    "\n",
    "for i in range(len(arr)-1):\n",
    "    arr[i]= max(arr[i+1:])\n",
    "arr[-1]=-1\n",
    "arr"
   ]
  },
  {
   "cell_type": "code",
   "execution_count": 115,
   "metadata": {},
   "outputs": [
    {
     "name": "stdout",
     "output_type": "stream",
     "text": [
      "st 9969\n"
     ]
    },
    {
     "data": {
      "text/plain": [
       "9969"
      ]
     },
     "execution_count": 115,
     "metadata": {},
     "output_type": "execute_result"
    }
   ],
   "source": [
    "'''Given a positive integer num consisting only of digits 6 and 9.\n",
    "\n",
    "Return the maximum number you can get by changing at most one digit (6 becomes 9, and 9 becomes 6).\n",
    "Input: num = 9669\n",
    "Output: 9969\n",
    "Explanation: \n",
    "Changing the first digit results in 6669.\n",
    "Changing the second digit results in 9969.\n",
    "Changing the third digit results in 9699.\n",
    "Changing the fourth digit results in 9666. \n",
    "The maximum number is 9969.\n",
    "'''\n",
    "#This is good logic, as where ever the first 6 comes replace with 9 and that will give the highest number\n",
    "num = 9669\n",
    "def maximum69Number(num):\n",
    "    st= list(str(num))\n",
    "    for i in range(len(st)):\n",
    "        if st[i]=='6':\n",
    "            st[i]='9'\n",
    "            break\n",
    "    return \"\".join(st)\n",
    "print(\"st\",maximum69Number(num))\n",
    "\n",
    "### 2nd Solution\n",
    "def maximum69Number(num):\n",
    "    num = str(num)\n",
    "    for i in range(len(num)):\n",
    "        if num[i] == '6':\n",
    "            return int(num[:i] + '9' + num[i+1:])\n",
    "    else:\n",
    "        return int(num)\n",
    "maximum69Number(num)"
   ]
  },
  {
   "cell_type": "code",
   "execution_count": 123,
   "metadata": {},
   "outputs": [
    {
     "data": {
      "text/plain": [
       "8"
      ]
     },
     "execution_count": 123,
     "metadata": {},
     "output_type": "execute_result"
    }
   ],
   "source": [
    "'''Given a m * n matrix grid which is sorted in non-increasing order both row-wise and column-wise. \n",
    "\n",
    "Return the number of negative numbers in grid.'''\n",
    "\n",
    "grid = [[4,3,2,-1],[3,2,1,-1],[1,1,-1,-2],[-1,-1,-2,-3]]\n",
    "def countNegatives(grid):\n",
    "    counter =0\n",
    "    for i in grid:\n",
    "        le= len(i)\n",
    "        for j in i:\n",
    "            if j<0:\n",
    "                counter+=1\n",
    "    return counter\n",
    "countNegatives(grid)"
   ]
  },
  {
   "cell_type": "code",
   "execution_count": 80,
   "metadata": {},
   "outputs": [
    {
     "name": "stdout",
     "output_type": "stream",
     "text": [
      "[4, 3, 2, -1] 4 [[4, 3, 2, -1], [3, 2, 1, -1], [1, 1, -1, -2], [-1, -1, -2, -3]]\n"
     ]
    }
   ],
   "source": [
    "grid = [[4,3,2,-1],[3,2,1,-1],[1,1,-1,-2],[-1,-1,-2,-3]]\n",
    "print(grid[0],len(grid),grid)"
   ]
  },
  {
   "cell_type": "code",
   "execution_count": 76,
   "metadata": {},
   "outputs": [
    {
     "name": "stdout",
     "output_type": "stream",
     "text": [
      "3 0\n",
      "2 0\n",
      "2 1\n",
      "2 2\n",
      "1 2\n",
      "1 3\n",
      "0 3\n"
     ]
    },
    {
     "data": {
      "text/plain": [
       "8"
      ]
     },
     "execution_count": 76,
     "metadata": {},
     "output_type": "execute_result"
    }
   ],
   "source": [
    "def countNegatives(grid):\n",
    "    i = len(grid)-1\n",
    "    j = 0\n",
    "    count = 0\n",
    "    while i>=0 and j< len(grid[0]):\n",
    "        print(i,j)\n",
    "        if grid[i][j] < 0:\n",
    "            count +=len(grid[0])-j\n",
    "            i -= 1\n",
    "        else:\n",
    "            j +=1\n",
    "    return(count)\n",
    "countNegatives( grid)"
   ]
  },
  {
   "cell_type": "code",
   "execution_count": 228,
   "metadata": {},
   "outputs": [
    {
     "data": {
      "text/plain": [
       "['h', 'e', 'l', 'v']"
      ]
     },
     "execution_count": 228,
     "metadata": {},
     "output_type": "execute_result"
    }
   ],
   "source": [
    "# Reversing a string\n",
    "le = int(len(s)/2)\n",
    "for i in range(le):\n",
    "    #print(\"si is {} si-1 is {} and i is {}\".format(s[i],s[i-1],i))\n",
    "    s[i],s[-i-1]=s[-i-1],s[i]\n",
    "    #print (s)\n",
    "s"
   ]
  },
  {
   "cell_type": "code",
   "execution_count": 273,
   "metadata": {},
   "outputs": [
    {
     "name": "stdout",
     "output_type": "stream",
     "text": [
      "dict_keys([2])\n"
     ]
    },
    {
     "data": {
      "text/plain": [
       "[2]"
      ]
     },
     "execution_count": 273,
     "metadata": {},
     "output_type": "execute_result"
    }
   ],
   "source": [
    "#Find the odd element from a pair of elements\n",
    "nums =[2,2,2,1,1,1]\n",
    "def listpop(nums):\n",
    "    nu =[]\n",
    "    for i in nums:\n",
    "        if i in nu:\n",
    "            nu.pop(nu.index(i))\n",
    "        else:\n",
    "            nu.append(i)\n",
    "    return nu\n",
    "listpop(nums)\n",
    "#Find the odd element from a pair of elements using dictionary\n",
    "nums =[2,2,2,2,1,1,1,2,2,2,1,1,1,2,2,2,1,1,1,2,2,2,1,1,1,2,2,2,1,1,1,2,2,2,1,1,1,2,2,2,1,1,1,2,2,2,1,1,1,2,2,2,1,1,1,2,2,2,1,1,1,2,2,2,1,1,1,2,2,2,1,1,1,1,1,1,2,2,2,1,1,1,2,2,2,1,1,1,2,2,2,1,1,1,2,2,2,1,1,1,2,2,2,1,1,1,2,2,2,1,1,1,2,2,2,1,1,1,2,2,2,1,1,1,2,2,2,1,1,1,2,2,2,1,1,1,2,2,2,1,1,1,2,2,2,1,1,1,2,2,2,1,1,1,2,2,2,1,1,1,2,2,2,1,1,1,2,2,2,1,1,1,2,2,2,1,1,1,2,2,2,1,1,1,2,2,2,1,1,1,2,2,2,1,1,1,2,2,2,1,1,1,1,1,1,2,2,2,1,1,1,2,2,2,1,1,1,2,2,2,1,1,1,2,2,2,1,1,1,2,2,2,1,1,1,2,2,2,1,1,1,2,2,2,1,1,1,2,2,2,1,1,1,2,2,2,1,1,1,2,2,2,1,1,1,2,2,2,1,1,1,2,2,2,1,1,1,2,2,2,1,1,1,2,2,2,1,1,1,2,2,2,1,1,1,2,2,2,1,1,1,2,2,2,1,1,1,2,2,2,1,1,1,2,2,2,1,1,1,2,2,2,1,1,1,2,2,2,1,1,1,1,1,1,2,2,2,1,1,1,2,2,2,1,1,1,2,2,2,1,1,1,2,2,2,1,1,1,2,2,2,1,1,1,2,2,2,1,1,1,2,2,2,1,1,1,2,2,2,1,1,1,2,2,2,1,1,1,2,2,2,1,1,1,2,2,2,1,1,1,2,2,2,1,1,1,2,2,2,1,1,1,2,2,2,1,1,1,2,2,2,1,1,1,2,2,2,1,1,1,2,2,2,1,1,1,2,2,2,1,1,1,2,2,2,1,1,1,2,2,2,1,1,1,2,2,2,1,1,1,1,1,1,2,2,2,1,1,1,2,2,2,1,1,1,2,2,2,1,1,1,2,2,2,1,1,1,2,2,2,1,1,1,2,2,2,1,1,1,2,2,2,1,1,1,2,2,2,1,1,1,2,2,2,1,1,1,2,2,2,1,1,1,2,2,2,1,1,1,2,2,2,1,1,1,2,2,2,1,1,1,2,2,2,1,1,1,2,2,2,1,1,1,2,2,2,1,1,1,2,2,2,1,1,1,2,2,2,1,1,1,2,2,2,1,1,1,2,2,2,1,1,1,2,2,2,1,1,1,1,1,1,2,2,2,1,1,1,2,2,2,1,1,1,2,2,2,1,1,1,2,2,2,1,1,1,2,2,2,1,1,1,2,2,2,1,1,1,2,2,2,1,1,1,2,2,2,1,1,1,2,2,2,1,1,1,2,2,2,1,1,1,2,2,2,1,1,1,2,2,2,1,1,1,2,2,2,1,1,1,2,2,2,1,1,1,2,2,2,1,1,1,2,2,2,1,1,1,2,2,2,1,1,1,2,2,2,1,1,1,2,2,2,1,1,1,2,2,2,1,1,1,2,2,2,1,1,1,1,1,1,2,2,2,1,1,1,2,2,2,1,1,1,2,2,2,1,1,1,2,2,2,1,1,1,2,2,2,1,1,1,2,2,2,1,1,1,2,2,2,1,1,1,2,2,2,1,1,1,2,2,2,1,1,1]\n",
    "def dicpop(nums):\n",
    "    nu ={}\n",
    "    for i in nums:\n",
    "        if i in nu:\n",
    "            nu.pop(i)\n",
    "        else:\n",
    "            nu[i]=1\n",
    "    print(nu.keys()  )\n",
    "    return [*nu]\n",
    "dicpop(nums)\n",
    "#%timeit -n 100000 listpop(nums) \n",
    "#%timeit -n 100000 dicpop(nums)"
   ]
  },
  {
   "cell_type": "code",
   "execution_count": 289,
   "metadata": {},
   "outputs": [
    {
     "data": {
      "text/plain": [
       "['1',\n",
       " '2',\n",
       " 'Fizz',\n",
       " '4',\n",
       " 'Buzz',\n",
       " 'Fizz',\n",
       " '7',\n",
       " '8',\n",
       " 'Fizz',\n",
       " 'Buzz',\n",
       " '11',\n",
       " 'Fizz',\n",
       " '13',\n",
       " '14',\n",
       " 'FizzBuzz']"
      ]
     },
     "execution_count": 289,
     "metadata": {},
     "output_type": "execute_result"
    }
   ],
   "source": [
    "n= 15\n",
    "def fizzBuzz(n):\n",
    "        lis =[]\n",
    "        for i in range(1,n+1):\n",
    "            if (i)%3==0 and (i)%5 ==0:\n",
    "                lis.append(\"FizzBuzz\")\n",
    "            else:\n",
    "                if (i)%5 ==0:\n",
    "                    lis.append(\"Buzz\")\n",
    "                elif (i)%3==0:\n",
    "                    lis.append(\"Fizz\")\n",
    "                else:\n",
    "                    lis.append(str(i))\n",
    "        return lis\n",
    "fizzBuzz(n)"
   ]
  },
  {
   "cell_type": "code",
   "execution_count": 296,
   "metadata": {},
   "outputs": [
    {
     "data": {
      "text/plain": [
       "[1, 30, 12, 0, 0]"
      ]
     },
     "execution_count": 296,
     "metadata": {},
     "output_type": "execute_result"
    }
   ],
   "source": [
    "'''Given an array nums, write a function to move all 0's to the end of it while maintaining the relative order of \n",
    "the non-zero elements.\n",
    "\n",
    "Example:\n",
    "\n",
    "Input: [0,1,0,3,12]\n",
    "Output: [1,3,12,0,0]\n",
    "\n",
    "'''\n",
    "nums  = [0,0,1,30,12]\n",
    "ni=0\n",
    "for i in range(len(nums)):\n",
    "    if nums[i]!=0:\n",
    "        nums[ni],nums[i]= nums[i],nums[ni]\n",
    "        ni+=1\n",
    "        \n",
    "nums"
   ]
  },
  {
   "cell_type": "code",
   "execution_count": 327,
   "metadata": {},
   "outputs": [
    {
     "name": "stdout",
     "output_type": "stream",
     "text": [
      "5\n",
      "5\n",
      "52.7 ns ± 12.5 ns per loop (mean ± std. dev. of 7 runs, 100000 loops each)\n",
      "4.19 µs ± 745 ns per loop (mean ± std. dev. of 7 runs, 100000 loops each)\n"
     ]
    }
   ],
   "source": [
    "'''Given an array of size n, find the majority element. The majority element is the element that appears more \n",
    "than ⌊ n/2 ⌋ times.\n",
    "You may assume that the array is non-empty and the majority element always exist in the array.\n",
    "\n",
    "Example 1:\n",
    "\n",
    "Input: [3,2,3]\n",
    "Output: 3'''\n",
    "nums =[1,1,2,1,3,5,5,5,5,5,5]\n",
    "def majorityElement(nums):\n",
    "    \n",
    "    maj =len(nums)/2\n",
    "    di={}\n",
    "    for i in nums:\n",
    "        if i in di:\n",
    "            val = di[i]+1\n",
    "            di[i]=val\n",
    "            if val> maj:\n",
    "                return i\n",
    "        else:\n",
    "            di[i]=1\n",
    "    return nums\n",
    "print(majorityElement(nums))\n",
    "def te(nums):\n",
    "    n = len(nums)\n",
    "    np = sorted(nums)\n",
    "    np[n//2]\n",
    "print(majorityElement(nums) )   \n",
    "%timeit -n 100000 te\n",
    "%timeit -n 100000 majorityElement(nums)"
   ]
  },
  {
   "cell_type": "code",
   "execution_count": 330,
   "metadata": {},
   "outputs": [
    {
     "name": "stdout",
     "output_type": "stream",
     "text": [
      "True\n",
      "True\n",
      "5.51 µs ± 313 ns per loop (mean ± std. dev. of 7 runs, 10000000 loops each)\n",
      "2.28 µs ± 71.1 ns per loop (mean ± std. dev. of 7 runs, 10000000 loops each)\n"
     ]
    }
   ],
   "source": [
    "'''\n",
    "\n",
    "\n",
    "'''\n",
    "s ,t= \"anagram\" , \"nagaram\"\n",
    "def dic(s,t):\n",
    "    dic1, dic2 = {}, {}\n",
    "    for item in s:\n",
    "        dic1[item] = dic1.get(item, 0) + 1\n",
    "    for item in t:\n",
    "        dic2[item] = dic2.get(item, 0) + 1\n",
    "    return dic1 == dic2\n",
    "print(dic(s,t) ) \n",
    "def setr(s,t):\n",
    "    if len(s)==len(t):\n",
    "        for char in set(s):\n",
    "            if s.count(char)!=t.count(char):\n",
    "                return False\n",
    "            return True\n",
    "        else:\n",
    "            return False\n",
    "print(setr(s,t) )\n",
    "%timeit -n 10000000 dic(s,t)\n",
    "%timeit -n 10000000 setr(s,t)"
   ]
  },
  {
   "cell_type": "code",
   "execution_count": 345,
   "metadata": {},
   "outputs": [
    {
     "data": {
      "text/plain": [
       "([1, 3, 4, 5, 6, 7], [1, 2, 3, 4, 6, 55])"
      ]
     },
     "execution_count": 345,
     "metadata": {},
     "output_type": "execute_result"
    }
   ],
   "source": [
    "nums =[7,1,5,3,6,4]\n",
    "nums1 = [1,2,4,3,55,6]\n",
    "nums.sort(),nums1.sort()\n",
    "nums, nums1"
   ]
  },
  {
   "cell_type": "code",
   "execution_count": 346,
   "metadata": {},
   "outputs": [
    {
     "data": {
      "text/plain": [
       "[1, 1, 2, 3, 3, 4, 4, 5, 6, 6, 7, 55]"
      ]
     },
     "execution_count": 346,
     "metadata": {},
     "output_type": "execute_result"
    }
   ],
   "source": [
    "final =[]\n",
    "for i in zip(nums,nums1):\n",
    "    if i[0]>i[1]:\n",
    "        final.append(i[1])\n",
    "        final.append(i[0])\n",
    "    else:\n",
    "        final.append(i[0])\n",
    "        final.append(i[1])\n",
    "final   "
   ]
  },
  {
   "cell_type": "code",
   "execution_count": 355,
   "metadata": {},
   "outputs": [
    {
     "data": {
      "text/plain": [
       "2"
      ]
     },
     "execution_count": 355,
     "metadata": {},
     "output_type": "execute_result"
    }
   ],
   "source": [
    "'''Given a string, find the first non-repeating character in it and return it's index. If it doesn't exist, return -1.\n",
    "s = \"leetcode\"\n",
    "return 0.\n",
    "\n",
    "s = \"loveleetcode\",\n",
    "return 2.\n",
    "\n",
    "'''\n",
    "s = \"loveleetcode\"\n",
    "def firstUniqChar(s):\n",
    "    cout={}\n",
    "    for i in s:\n",
    "        if i in cout:\n",
    "            cout[i]= cout.get(i,0)+1\n",
    "        else:\n",
    "            cout[i]=1\n",
    "    for ke,val in cout.items():\n",
    "        if val==1:\n",
    "            return s.index(ke)\n",
    "    return -1\n",
    "firstUniqChar(s)  "
   ]
  },
  {
   "cell_type": "code",
   "execution_count": 363,
   "metadata": {},
   "outputs": [
    {
     "data": {
      "text/plain": [
       "[['1'], ['11'], ['111'], ['1111'], ['11111']]"
      ]
     },
     "execution_count": 363,
     "metadata": {},
     "output_type": "execute_result"
    }
   ],
   "source": [
    "'''\n",
    "Given a non-negative integer numRows, generate the first numRows of Pascal's triangle.\n",
    "'''\n",
    "n= 5\n",
    "final =[]\n",
    "for i in range(1,n+1):\n",
    "    temp =[]\n",
    "    temp.append(str(1)*i)\n",
    "    final.append(temp)\n",
    "final"
   ]
  },
  {
   "cell_type": "code",
   "execution_count": 23,
   "metadata": {},
   "outputs": [
    {
     "name": "stdout",
     "output_type": "stream",
     "text": [
      "8\n"
     ]
    },
    {
     "data": {
      "text/plain": [
       "8.0"
      ]
     },
     "execution_count": 23,
     "metadata": {},
     "output_type": "execute_result"
    }
   ],
   "source": [
    "'''Given an array containing n distinct numbers taken from 0, 1, 2, ..., n, find the one that is missing from the \n",
    "array.\n",
    "Input: [3,0,1]\n",
    "Output: 2\n",
    "Input: [9,6,4,2,3,5,7,0,1]\n",
    "Output: 8\n",
    "'''\n",
    "nums =[9,6,4,2,3,5,7,0,1]\n",
    "def missingNumber(nums):\n",
    "    num_set = set(nums)\n",
    "    n = len(nums) + 1\n",
    "    for number in range(n):\n",
    "        if number not in num_set:\n",
    "            return number\n",
    "\n",
    "print(missingNumber(nums))\n",
    "def missingNumber(nums):\n",
    "    n = len(nums)\n",
    "    return n * (n + 1) / 2 - sum(nums)\n",
    "missingNumber(nums)"
   ]
  },
  {
   "cell_type": "code",
   "execution_count": 14,
   "metadata": {},
   "outputs": [
    {
     "name": "stdout",
     "output_type": "stream",
     "text": [
      "129\n",
      "12 9\n",
      "1 2\n",
      "0 1\n"
     ]
    }
   ],
   "source": [
    "# get the digits in a number\n",
    "a=129\n",
    "print(a)\n",
    "while a>=1:\n",
    "    t = a%10\n",
    "    a=a//10\n",
    "    print(a,t)"
   ]
  },
  {
   "cell_type": "code",
   "execution_count": 24,
   "metadata": {},
   "outputs": [
    {
     "data": {
      "text/plain": [
       "3"
      ]
     },
     "execution_count": 24,
     "metadata": {},
     "output_type": "execute_result"
    }
   ],
   "source": [
    "n= list(\"00000000000000000000000000001011\")\n",
    "def hammingWeight(n):\n",
    "    n.sort()\n",
    "    le = len(n)-1\n",
    "    counter=0\n",
    "    while le > 0:\n",
    "        if n[le]=='1':\n",
    "            counter+=1\n",
    "            le-=1\n",
    "        else:\n",
    "            return counter\n",
    "    return counter\n",
    "hammingWeight(n)\n"
   ]
  },
  {
   "cell_type": "markdown",
   "metadata": {},
   "source": [
    "### Given an integer array nums, find the contiguous subarray (containing at least one number) which has the largest sum and return its sum.  This is called Kadane's algorithm"
   ]
  },
  {
   "cell_type": "code",
   "execution_count": 90,
   "metadata": {},
   "outputs": [
    {
     "data": {
      "text/plain": [
       "(-1, 2, 3)"
      ]
     },
     "execution_count": 90,
     "metadata": {},
     "output_type": "execute_result"
    }
   ],
   "source": [
    "numbers = [2,1,-5,1,3]\n",
    "def max_subarray(numbers):\n",
    "    \"\"\"Find the largest sum of any contiguous subarray.\"\"\"\n",
    "    best_sum = float('-inf')  # or: float('-inf')\n",
    "    current_sum = 0\n",
    "    for x in numbers:\n",
    "        current_sum = max(x, current_sum + x)\n",
    "        best_sum = max(best_sum, current_sum)\n",
    "    return best_sum\n",
    "max_subarray(numbers)\n",
    "numbers = [-2,-5,-1,-2,-1]\n",
    "def max_subarray1(numbers):\n",
    "    \"\"\"Find a contiguous subarray with the largest sum.\"\"\"\n",
    "    best_sum = float('-inf')  # or: float('-inf')\n",
    "    best_start = best_end = 0  # or: None\n",
    "    current_sum = float('-inf')\n",
    "    for current_end, x in enumerate(numbers):\n",
    "        if current_sum <= 0:\n",
    "            # Start a new sequence at the current element\n",
    "            current_start = current_end\n",
    "            current_sum = x\n",
    "        else:\n",
    "            # Extend the existing sequence with the current element\n",
    "            current_sum += x\n",
    "\n",
    "        if current_sum > best_sum:\n",
    "            best_sum = current_sum\n",
    "            best_start = current_start\n",
    "            best_end = current_end + 1  # the +1 is to make 'best_end' exclusive\n",
    "\n",
    "    return best_sum, best_start, best_end\n",
    "max_subarray1(numbers)"
   ]
  },
  {
   "cell_type": "code",
   "execution_count": 84,
   "metadata": {},
   "outputs": [
    {
     "name": "stdout",
     "output_type": "stream",
     "text": [
      "[1, 4]\n",
      "(3, 4)\n"
     ]
    }
   ],
   "source": [
    "# finding the sum of two numbers in a lst to a specfic target\n",
    "def twoSum(nums, target):\n",
    "    for index,value  in enumerate(nums):\n",
    "        n = target-value\n",
    "        if n in nums:\n",
    "            if nums.index(n) != index:\n",
    "                return [index, nums.index(n)]\n",
    "\n",
    "print(twoSum([3,2,4,2,1],3))\n",
    "def twoSum1(nums, target):\n",
    "    di ={}\n",
    "    #print(nums, di)\n",
    "    for index,value  in enumerate(nums):\n",
    "        n = target-value\n",
    "        #print(\"targe is {} and value is {} and n is {} \".format(target, value,n))\n",
    "        if n in di:\n",
    "            return ( di[n],index)\n",
    "        else:\n",
    "            di[value]=index\n",
    "\n",
    "print(twoSum1([3,2,4,2,1],3))"
   ]
  },
  {
   "cell_type": "code",
   "execution_count": 101,
   "metadata": {},
   "outputs": [
    {
     "name": "stdout",
     "output_type": "stream",
     "text": [
      "[1, 1, 2]\n"
     ]
    },
    {
     "data": {
      "text/plain": [
       "[1, 2]"
      ]
     },
     "execution_count": 101,
     "metadata": {},
     "output_type": "execute_result"
    }
   ],
   "source": [
    "'''Given a sorted array nums, remove the duplicates in-place such that each element appear only once and return the \n",
    "new length.\n",
    "\n",
    "Do not allocate extra space for another array, you must do this by modifying the input array in-place \n",
    "with O(1) extra memory.'''\n",
    "\n",
    "nums  = [1,1,2]\n",
    "def removeDuplicates(nums):\n",
    "    for i in range(len(nums)-1,0,-1):\n",
    "        if nums[i] ==nums[i-1]:\n",
    "            print(nums)\n",
    "            nums.pop(i)   \n",
    "    return len(nums)\n",
    "removeDuplicates(nums)\n",
    "nums"
   ]
  },
  {
   "cell_type": "code",
   "execution_count": 99,
   "metadata": {},
   "outputs": [
    {
     "name": "stdout",
     "output_type": "stream",
     "text": [
      "[1, 2, 3, 4, 5] 4\n",
      "[1, 2, 3, 4] 3\n",
      "[1, 2, 3] 2\n",
      "[1, 2] 1\n"
     ]
    },
    {
     "data": {
      "text/plain": [
       "[1]"
      ]
     },
     "execution_count": 99,
     "metadata": {},
     "output_type": "execute_result"
    }
   ],
   "source": [
    "nums = [1,2,3,4,5]\n",
    "for i in range(len(nums)-1,0,-1):\n",
    "    print(nums,i)\n",
    "    nums.pop(i)\n",
    "nums"
   ]
  },
  {
   "cell_type": "code",
   "execution_count": 117,
   "metadata": {},
   "outputs": [
    {
     "data": {
      "text/plain": [
       "False"
      ]
     },
     "execution_count": 117,
     "metadata": {},
     "output_type": "execute_result"
    }
   ],
   "source": [
    "def isPowerOfThree(n):\n",
    "    while n>1:\n",
    "        if n%3==0:\n",
    "            n = n/3\n",
    "            print(n)\n",
    "        else:\n",
    "            return False\n",
    "    return True\n",
    "isPowerOfThree(2)       "
   ]
  },
  {
   "cell_type": "markdown",
   "metadata": {},
   "source": [
    "## Resursive Progamming\n",
    "\n",
    "Algorithm:\n",
    "Solve by dynamic programming with the Optimal substructure (i.e., recurrence relationship) as following:  \n",
    "\n",
    "Let Optimal[i] denotes the highest value taking, considering from house_#0 to house_#i  \n",
    "\n",
    "Optimal[ i ]  \n",
    "= Optimization of ( Take house_#i , or Not to take house_#i )  \n",
    "= Max( Optimal[ i - 2 ] + nums[i] , Optimal[ i - 1 ] )"
   ]
  },
  {
   "cell_type": "code",
   "execution_count": 141,
   "metadata": {},
   "outputs": [
    {
     "name": "stdout",
     "output_type": "stream",
     "text": [
      "now is 1 and last is 0\n",
      "now is 4 and last is 1\n",
      "now is 4 and last is 4\n",
      "now is 5 and last is 4\n",
      "now is 9 and last is 5\n",
      "now is 9 and last is 9\n"
     ]
    },
    {
     "data": {
      "text/plain": [
       "9"
      ]
     },
     "execution_count": 141,
     "metadata": {},
     "output_type": "execute_result"
    }
   ],
   "source": [
    "nums = [1,4,2,1,5,3]\n",
    "def rob( nums):\n",
    "    last, now = 0, 0\n",
    "    for i in nums: \n",
    "        last, now = now, max(last + i, now)\n",
    "        print(\"now is {} and last is {}\".format(now, last))\n",
    "    return now\n",
    "rob(nums)    \n",
    "\n",
    " nums = [1,4,2,1,5,3]\n",
    "def rob( nums):\n",
    "    odd = even = 0\n",
    "    for i in range(len(nums)):\n",
    "        if i % 2 == 0:\n",
    "            odd = max(even, odd + nums[i])\n",
    "        else:\n",
    "            even = max(odd, even + nums[i])\n",
    "    return max(odd, even)\n",
    "rob(nums)  "
   ]
  },
  {
   "cell_type": "markdown",
   "metadata": {},
   "source": [
    "##  merging two sorted array"
   ]
  },
  {
   "cell_type": "code",
   "execution_count": 83,
   "metadata": {},
   "outputs": [
    {
     "name": "stdout",
     "output_type": "stream",
     "text": [
      "j 1\n",
      "j 2\n",
      "i 1\n",
      "i 2\n",
      "i 3\n"
     ]
    },
    {
     "data": {
      "text/plain": [
       "[-2, -5, 1, 2, 3, 0, 0, 0, 6]"
      ]
     },
     "execution_count": 83,
     "metadata": {},
     "output_type": "execute_result"
    }
   ],
   "source": [
    "li=[]\n",
    "nums1 = [1,2,3,0,0,0]\n",
    "m = 3\n",
    "nums2 = [-2,-5,6]       \n",
    "n = 3\n",
    "def merge(nums1,m,nums2,n) :\n",
    "    res = [] \n",
    "    i, j = 0, 0  \n",
    "    while i < m and j < n: \n",
    "        if nums1[i] < nums2[j]: \n",
    "            res.append(nums1[i]) \n",
    "            i += 1\n",
    "            print(\"i\",i)\n",
    "        \n",
    "        else: \n",
    "            res.append(nums2[j]) \n",
    "            j += 1\n",
    "            print(\"j\",j)\n",
    "    res = res + nums1[i:] + nums2[j:] \n",
    "    return res\n",
    "merge(nums1,m,nums2,n)"
   ]
  },
  {
   "cell_type": "markdown",
   "metadata": {},
   "source": [
    "### Checking the barackets are proper"
   ]
  },
  {
   "cell_type": "code",
   "execution_count": 182,
   "metadata": {},
   "outputs": [
    {
     "data": {
      "text/plain": [
       "True"
      ]
     },
     "execution_count": 182,
     "metadata": {},
     "output_type": "execute_result"
    }
   ],
   "source": [
    "s = \"()[]{}\"\n",
    "l=[]\n",
    "def isValid(s):\n",
    "    #openb = ['{','[','(']\n",
    "    #closeb = ['}',']',')']\n",
    "    openb = {'{':1,'[':2,'(':3}\n",
    "    closeb = {'}':1,']':2,')':3}\n",
    "    for char in list(s):\n",
    "        if char in openb:\n",
    "            l.append(char)\n",
    "        else:\n",
    "            if len(l)==0:\n",
    "                return False\n",
    "            poped = l.pop()\n",
    "            if openb[poped]!= closeb[char]:\n",
    "                return False\n",
    "    return len(l)==0\n",
    "isValid(s)\n"
   ]
  },
  {
   "cell_type": "markdown",
   "metadata": {},
   "source": [
    "### search string b in a"
   ]
  },
  {
   "cell_type": "code",
   "execution_count": 202,
   "metadata": {},
   "outputs": [
    {
     "name": "stdout",
     "output_type": "stream",
     "text": [
      "False\n"
     ]
    }
   ],
   "source": [
    "\n",
    "a = \"bnitni\" \n",
    "b=\"tn\"\n",
    "f= True\n",
    "for i in range(0,(len(a)-len(b))+1):\n",
    "    if a[i:i+len(b)]== b:\n",
    "        f=False\n",
    "print(f)"
   ]
  },
  {
   "cell_type": "markdown",
   "metadata": {},
   "source": [
    "### Rotating the elements in a list"
   ]
  },
  {
   "cell_type": "code",
   "execution_count": 242,
   "metadata": {},
   "outputs": [
    {
     "name": "stdout",
     "output_type": "stream",
     "text": [
      "2\n",
      "[6, 7, 1, 2, 3, 4, 5]\n"
     ]
    }
   ],
   "source": [
    "nums = [1,2,3,4,5,6,7] \n",
    "k =2\n",
    "k= k%len(nums)\n",
    "print(k)\n",
    "for i in range(k):\n",
    "    prv = nums[-1]\n",
    "    for i in range(len(nums)):\n",
    "        temp = nums[i]\n",
    "        nums[i]=prv\n",
    "        prv=temp\n",
    "print(nums)\n",
    "        \n",
    "nums = [1,2,3,4,5,6,7] \n",
    "k =2\n",
    "k %= len(nums)\n",
    "print(nums[-k:],\"\\n\", nums[:-k])\n",
    "nums[:] = nums[-k:]+nums[:-k]\n",
    "nums    "
   ]
  },
  {
   "cell_type": "code",
   "execution_count": 287,
   "metadata": {},
   "outputs": [
    {
     "name": "stdout",
     "output_type": "stream",
     "text": [
      "x vale 4.5 eee 11.25\n",
      "xx in if 2.25\n",
      "11.25\n",
      "val 2.25\n"
     ]
    }
   ],
   "source": [
    "def mySqrt(x):\n",
    "    l,r= 0,0\n",
    "    e=.5\n",
    "    n=x\n",
    "    while .5<=abs(e)<1:\n",
    "        x=x/2\n",
    "        e = n-x**2\n",
    "        print(\"x vale\",x , \"eee\",abs(e))\n",
    "        if e==0:\n",
    "            return x\n",
    "        if x**2>=n:\n",
    "            x=(l+(x))/2\n",
    "            l=x\n",
    "            print(\"xx in if\",x)\n",
    "        else:\n",
    "            x=((x/2)+x)/2 \n",
    "            print(\"xx in else\",x)\n",
    "        print(abs(e))\n",
    "    return x\n",
    "print(\"val\",mySqrt(9)  )    \n",
    "        "
   ]
  },
  {
   "cell_type": "markdown",
   "metadata": {},
   "source": [
    "###  ( a * b) % c = ( ( a % c ) * ( b % c ) ) % c\n",
    "First take a remainder or individual number like arr[i] % n. Then multiply the remainder with current result. After multiplication, again take remainder to avoid overflow. This works because of distributive properties of modular arithmetic.  \n",
    "\n",
    "use for Given multiple numbers and a number n, the task is to print the remainder after multiply all the number divide by n.  "
   ]
  },
  {
   "cell_type": "code",
   "execution_count": 11,
   "metadata": {},
   "outputs": [],
   "source": [
    "import seaborn as sns"
   ]
  },
  {
   "cell_type": "code",
   "execution_count": 17,
   "metadata": {},
   "outputs": [
    {
     "data": {
      "text/plain": [
       "<matplotlib.axes._subplots.AxesSubplot at 0x1ebbbcd0b38>"
      ]
     },
     "execution_count": 17,
     "metadata": {},
     "output_type": "execute_result"
    },
    {
     "data": {
      "image/png": "[encoded data removed]",
      "text/plain": [
       "<Figure size 432x288 with 1 Axes>"
      ]
     },
     "metadata": {
      "needs_background": "light"
     },
     "output_type": "display_data"
    }
   ],
   "source": [
    "a = np.random.multivariate_normal(1,1,1000)\n",
    "sns.distplot(a)"
   ]
  },
  {
   "cell_type": "code",
   "execution_count": 22,
   "metadata": {},
   "outputs": [
    {
     "data": {
      "image/png": "[encoded data removed]",
      "text/plain": [
       "<Figure size 432x288 with 1 Axes>"
      ]
     },
     "metadata": {
      "needs_background": "light"
     },
     "output_type": "display_data"
    }
   ],
   "source": [
    "mean = [0, 0]\n",
    ">>> cov = [[1, 0], [0, 1]]  # diagonal covariance\n",
    "\n",
    "\n",
    "\n",
    ">>> import matplotlib.pyplot as plt\n",
    ">>> x, y = np.random.multivariate_normal(mean, cov, 5000).T\n",
    ">>> plt.plot(x, y, 'x')\n",
    ">>> plt.axis('equal')\n",
    ">>> plt.show()\n"
   ]
  },
  {
   "cell_type": "code",
   "execution_count": 73,
   "metadata": {},
   "outputs": [
    {
     "name": "stdout",
     "output_type": "stream",
     "text": [
      "[[3 2 2 3 2]\n",
      " [1 3 2 1 3]\n",
      " [2 1 2 2 1]\n",
      " [2 1 2 3 3]] 4\n",
      "72,18,8,36\n"
     ]
    }
   ],
   "source": [
    "aa = np.random.randint(1,4,(4,5))\n",
    "print(aa,len(aa))\n",
    "mul= []\n",
    "for i in range(len(aa)):\n",
    "    m=[]\n",
    "    mu=1\n",
    "    for j in range(len(aa[i])):\n",
    "        if aa[i][j]==0:\n",
    "            pass\n",
    "        else:\n",
    "            mu*=aa[i][j]\n",
    "            #print(mu,aa[i][j])\n",
    "    mul.append(mu)\n",
    "print(\",\".join([str(i) for i in mul]))\n",
    "            #print(aa[i][j])"
   ]
  },
  {
   "cell_type": "code",
   "execution_count": 126,
   "metadata": {},
   "outputs": [
    {
     "name": "stdout",
     "output_type": "stream",
     "text": [
      "No\n"
     ]
    }
   ],
   "source": [
    "a=list(np.random.randint(1,20,7))\n",
    "a= [-1,2,-3,-4]\n",
    "inc= False\n",
    "dec = False\n",
    "for i in range(len(a)-1):\n",
    "    if a[i+1]>a[i]:\n",
    "        dec=True\n",
    "    else:\n",
    "        inc=True\n",
    "\n",
    "if inc==False:\n",
    "    print(\"Yes\")\n",
    "elif dec==False:\n",
    "    print(\"Yes\")\n",
    "else:\n",
    "    print(\"No\")"
   ]
  },
  {
   "cell_type": "markdown",
   "metadata": {},
   "source": [
    "### SwapList"
   ]
  },
  {
   "cell_type": "code",
   "execution_count": 2,
   "metadata": {},
   "outputs": [
    {
     "name": "stdout",
     "output_type": "stream",
     "text": [
      "original [19, 5, 9, 11, 9, 7, 1]\n",
      "[1, 5, 9, 11, 9, 7, 19]\n",
      "original [12, 12, 15, 16, 2, 9, 9]\n",
      "[9, 12, 15, 16, 2, 9, 12]\n"
     ]
    }
   ],
   "source": [
    "def swapList(lis): \n",
    "      \n",
    "    start, *middle, end = lis\n",
    "    lis = [end, *middle, start] \n",
    "      \n",
    "    return lis  \n",
    "a=list(np.random.randint(1,20,7))\n",
    "print(\"original\",a)\n",
    "print(swapList(a))\n",
    "def swapList(lis): \n",
    "      \n",
    "    first = lis.pop(0)    \n",
    "    last = lis.pop(-1) \n",
    "      \n",
    "    lis.insert(0, last)   \n",
    "    lis.append(first)    \n",
    "      \n",
    "    return lis\n",
    "a=list(np.random.randint(1,20,7))\n",
    "print(\"original\",a)\n",
    "print(swapList(a))"
   ]
  },
  {
   "cell_type": "markdown",
   "metadata": {},
   "source": [
    "### Reversing a List"
   ]
  },
  {
   "cell_type": "code",
   "execution_count": 10,
   "metadata": {},
   "outputs": [
    {
     "name": "stdout",
     "output_type": "stream",
     "text": [
      "[5, 9, 4, 2, 1]\n",
      "reverse of list: [5, 9, 4, 2, 1]\n",
      "[1, 2, 4, 9, 5]\n"
     ]
    },
    {
     "data": {
      "text/plain": [
       "[5, 9, 4, 2, 1]"
      ]
     },
     "execution_count": 10,
     "metadata": {},
     "output_type": "execute_result"
    }
   ],
   "source": [
    "a = [1,2,4,9,5]\n",
    "print(a[::-1])                             #Method 1\n",
    "a.reverse()                             #Method 2\n",
    "print(\"reverse of list:\",a)\n",
    "for i in range(1, int(len(a)/2)+1):\n",
    "    a[i-1],a[-i]=a[-i],a[i-1]\n",
    "print(a)                             #Method 3\n",
    "aa = [i for i in reversed(a)]                             #Method 4\n",
    "aa"
   ]
  },
  {
   "cell_type": "markdown",
   "metadata": {},
   "source": [
    "### Find the 2nd highest in a list"
   ]
  },
  {
   "cell_type": "code",
   "execution_count": 59,
   "metadata": {},
   "outputs": [
    {
     "name": "stdout",
     "output_type": "stream",
     "text": [
      "45\n",
      "10\n"
     ]
    },
    {
     "data": {
      "text/plain": [
       "{1, 3}"
      ]
     },
     "execution_count": 59,
     "metadata": {},
     "output_type": "execute_result"
    }
   ],
   "source": [
    "a =[10,45,45,45,45,3,1]\n",
    "m1=0\n",
    "m2=0\n",
    "for i in a:\n",
    "    if i>m1:\n",
    "        m1,m2=i,m1 \n",
    "    elif i>m2:\n",
    "        m2=i\n",
    "#print(m2, m1)                             #Method 1\n",
    "a.sort()                                   #Method 2\n",
    "a[-2]\n",
    "counter =2\n",
    "a = set(a)\n",
    "while counter >0:\n",
    "    print(max(a))\n",
    "    temp = max(a)\n",
    "    a.remove(temp)\n",
    "    counter-=1\n",
    "a"
   ]
  },
  {
   "cell_type": "markdown",
   "metadata": {},
   "source": [
    "### sort dictionay by key"
   ]
  },
  {
   "cell_type": "code",
   "execution_count": 63,
   "metadata": {},
   "outputs": [
    {
     "name": "stdout",
     "output_type": "stream",
     "text": [
      "The list printed sorting by age: \n",
      "[{'name': 'Nikhil', 'age': 19}, {'name': 'Nandini', 'age': 20}, {'name': 'Manjeet', 'age': 20}]\n",
      "The list printed sorting by age and name: \n",
      "[{'name': 'Nandini', 'age': 20}, {'name': 'Manjeet', 'age': 20}, {'name': 'Nikhil', 'age': 19}]\n"
     ]
    }
   ],
   "source": [
    "lis = [{ \"name\" : \"Nandini\", \"age\" : 20},  \n",
    "{ \"name\" : \"Manjeet\", \"age\" : 20 }, \n",
    "{ \"name\" : \"Nikhil\" , \"age\" : 19 }] \n",
    "# using sorted and lambda to print list sorted \n",
    "# by age  \n",
    "print( \"The list printed sorting by age: \")\n",
    "print (sorted(lis, key = lambda i: i['age'])) \n",
    "\n",
    "#using sorted and lambda to print list sorted  \n",
    "# by both age and name. Notice that \"Manjeet\" \n",
    "# now comes before \"Nandini\" \n",
    "print (\"The list printed sorting by age and name: \")\n",
    "print (sorted(lis, key = lambda i: (i['age'], i['name']),reverse=True)) "
   ]
  },
  {
   "cell_type": "code",
   "execution_count": 71,
   "metadata": {},
   "outputs": [
    {
     "name": "stdout",
     "output_type": "stream",
     "text": [
      "[1, 4, 9, 16, 25]\n"
     ]
    }
   ],
   "source": [
    "x= [1,2,3,4,5]\n",
    "print(list(map(lambda x:x**2,x)))"
   ]
  },
  {
   "cell_type": "markdown",
   "metadata": {},
   "source": [
    "#### join function only work for str so do a map"
   ]
  },
  {
   "cell_type": "code",
   "execution_count": 123,
   "metadata": {},
   "outputs": [
    {
     "name": "stdout",
     "output_type": "stream",
     "text": [
      "[5, 2, 1]\n",
      "521\n"
     ]
    }
   ],
   "source": [
    "n =-125\n",
    "n= abs(n)\n",
    "l=[]\n",
    "while n>=1:\n",
    "    l.append(n%10)\n",
    "    n=n//10\n",
    "print(l)\n",
    "print(int(\"\".join(map(str,l))))"
   ]
  },
  {
   "cell_type": "code",
   "execution_count": 4,
   "metadata": {},
   "outputs": [
    {
     "data": {
      "text/plain": [
       "'function be word one function more five in or one but of consist passed of etirW the sdrow'"
      ]
     },
     "execution_count": 4,
     "metadata": {},
     "output_type": "execute_result"
    }
   ],
   "source": [
    "sentence = \"noitcnuf be word one noitcnuf more five in or one but of tsisnoc dessap of Write the words\"\n",
    "def spin_words(sentence):\n",
    "    # Your code goes here\n",
    "    a =[]\n",
    "    word = sentence.split(\" \")\n",
    "    for w in word:\n",
    "        if len(w)>= 5:\n",
    "            a.append(w[::-1])\n",
    "        else:\n",
    "            a.append(w)\n",
    "    return \" \".join(a)\n",
    "spin_words(sentence)"
   ]
  },
  {
   "cell_type": "code",
   "execution_count": 117,
   "metadata": {},
   "outputs": [
    {
     "data": {
      "text/plain": [
       "7"
      ]
     },
     "execution_count": 117,
     "metadata": {},
     "output_type": "execute_result"
    }
   ],
   "source": [
    "-113%10"
   ]
  },
  {
   "cell_type": "code",
   "execution_count": null,
   "metadata": {},
   "outputs": [],
   "source": []
  }
 ],
 "metadata": {
  "kernelspec": {
   "display_name": "Python 3",
   "language": "python",
   "name": "python3"
  },
  "language_info": {
   "codemirror_mode": {
    "name": "ipython",
    "version": 3
   },
   "file_extension": ".py",
   "mimetype": "text/x-python",
   "name": "python",
   "nbconvert_exporter": "python",
   "pygments_lexer": "ipython3",
   "version": "3.6.9"
  }
 },
 "nbformat": 4,
 "nbformat_minor": 2
}
