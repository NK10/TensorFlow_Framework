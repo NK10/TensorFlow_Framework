{
 "cells": [
  {
   "cell_type": "code",
   "execution_count": 5,
   "metadata": {},
   "outputs": [],
   "source": [
    "import tweepy as tp\n",
    "import pandas as  pd\n",
    "import tweepy\n",
    "import mysql.connector"
   ]
  },
  {
   "cell_type": "code",
   "execution_count": 2,
   "metadata": {},
   "outputs": [
    {
     "data": {
      "text/plain": [
       "{'consumer_key': 'lQtSwfUGbRlds5H4HGCFtAJf8',\n",
       " 'consumer_secret': 'koTQq2Fg3kWHTD9xErVnYz6w6LlrAc8HEnkqanA3NSYLHERM7i',\n",
       " 'access_token': '816642772656619520-azBNPCPzeYQ473xYq8Jujw35PcQV1A8',\n",
       " 'access_token_secret': '9q3T7XkEkexFKgzp2FbgyVaReCokySVQHpJ0FGpmn7ROd'}"
      ]
     },
     "execution_count": 2,
     "metadata": {},
     "output_type": "execute_result"
    }
   ],
   "source": [
    "# Way to import .py file and then use its function, also make sure the path for both the files are same\n",
    "from running import *\n",
    "data = twitter_keys(\"keydetails\")\n",
    "data\n",
    "# 2nd way to import the python file (espically .ipynb)\n",
    "import ipynb.fs.full.running_det\n",
    "from ipynb.fs.full.running_det import twitter_keys\n",
    "dat =twitter_keys(\"keydetails\")\n",
    "dat"
   ]
  },
  {
   "cell_type": "code",
   "execution_count": 3,
   "metadata": {},
   "outputs": [
    {
     "data": {
      "text/plain": [
       "({'consumer_key': 'lQtSwfUGbRlds5H4HGCFtAJf8',\n",
       "  'consumer_secret': 'koTQq2Fg3kWHTD9xErVnYz6w6LlrAc8HEnkqanA3NSYLHERM7i',\n",
       "  'access_token': '816642772656619520-azBNPCPzeYQ473xYq8Jujw35PcQV1A8',\n",
       "  'access_token_secret': '9q3T7XkEkexFKgzp2FbgyVaReCokySVQHpJ0FGpmn7ROd'},\n",
       " {'consumer_key': 'lQtSwfUGbRlds5H4HGCFtAJf8',\n",
       "  'consumer_secret': 'koTQq2Fg3kWHTD9xErVnYz6w6LlrAc8HEnkqanA3NSYLHERM7i',\n",
       "  'access_token': '816642772656619520-azBNPCPzeYQ473xYq8Jujw35PcQV1A8',\n",
       "  'access_token_secret': '9q3T7XkEkexFKgzp2FbgyVaReCokySVQHpJ0FGpmn7ROd'})"
      ]
     },
     "execution_count": 3,
     "metadata": {},
     "output_type": "execute_result"
    }
   ],
   "source": [
    "data, dat."
   ]
  },
  {
   "cell_type": "code",
   "execution_count": null,
   "metadata": {},
   "outputs": [],
   "source": []
  },
  {
   "cell_type": "code",
   "execution_count": null,
   "metadata": {},
   "outputs": [],
   "source": []
  }
 ],
 "metadata": {
  "kernelspec": {
   "display_name": "Python 3",
   "language": "python",
   "name": "python3"
  },
  "language_info": {
   "codemirror_mode": {
    "name": "ipython",
    "version": 3
   },
   "file_extension": ".py",
   "mimetype": "text/x-python",
   "name": "python",
   "nbconvert_exporter": "python",
   "pygments_lexer": "ipython3",
   "version": "3.6.9"
  }
 },
 "nbformat": 4,
 "nbformat_minor": 2
}
