{
 "cells": [
  {
   "cell_type": "code",
   "execution_count": 59,
   "metadata": {},
   "outputs": [],
   "source": [
    "import tensorflow as tf\n",
    "import numpy as np\n",
    "import time"
   ]
  },
  {
   "cell_type": "code",
   "execution_count": 8,
   "metadata": {},
   "outputs": [],
   "source": [
    "filename = 'C:/Users/USX28939/PYTHON_CODE_BASE/GitHub_Doc/stanford-tensorflow-tutorials/examples/data/birth_life_2010.txt'\n",
    "\n",
    "text = open(filename, 'r').readlines()[1:]\n",
    "data = [line[:-1].split('\\t') for line in text]\n",
    "births = [float(line[1]) for line in data]\n",
    "lifes = [float(line[2]) for line in data]\n",
    "data = list(zip(births, lifes))\n",
    "n_samples = len(data)\n",
    "data = np.asarray(data, dtype=np.float32)"
   ]
  },
  {
   "cell_type": "code",
   "execution_count": 75,
   "metadata": {},
   "outputs": [
    {
     "data": {
      "text/plain": [
       "array([[  1.82200003,  74.82824707],\n",
       "       [  3.86899996,  70.81948853],\n",
       "       [  3.91100001,  72.15065765],\n",
       "       [  5.57800007,  61.99985504],\n",
       "       [  1.579     ,  73.92765808],\n",
       "       [  4.22900009,  67.4651947 ],\n",
       "       [  1.14999998,  81.64146423],\n",
       "       [  3.8599999 ,  72.30638885],\n",
       "       [  3.14199996,  68.48431396],\n",
       "       [  3.95099998,  62.44060898],\n",
       "       [  2.16000009,  80.70243835],\n",
       "       [  2.14100003,  76.30168152],\n",
       "       [  2.00200009,  64.66209412],\n",
       "       [  2.50399995,  68.19497681],\n",
       "       [  3.45099998,  68.76483154],\n",
       "       [  2.63499999,  74.02455902],\n",
       "       [  1.09200001,  80.77531433],\n",
       "       [  2.74699998,  67.06400299],\n",
       "       [  1.22000003,  80.76194763],\n",
       "       [  1.38999999,  82.93268585],\n",
       "       [  2.1170001 ,  68.88965607],\n",
       "       [  1.10800004,  82.87805176],\n",
       "       [  2.47000003,  75.99427032],\n",
       "       [  2.08999991,  75.07688141],\n",
       "       [  2.66799998,  69.22583008],\n",
       "       [  2.02200007,  68.53214264],\n",
       "       [  1.59800005,  73.27309418],\n",
       "       [  2.58100009,  62.53622055],\n",
       "       [  2.04200006,  77.93202209],\n",
       "       [  1.91999996,  81.69512177],\n",
       "       [  2.49900007,  68.00099945],\n",
       "       [  1.94000006,  80.4024353 ],\n",
       "       [  1.44500005,  70.27561188],\n",
       "       [  2.39899993,  64.86351013],\n",
       "       [  2.08800006,  73.69665527],\n",
       "       [  3.29699993,  67.25990295],\n",
       "       [  1.5       ,  82.24633789],\n",
       "       [  1.98000002,  81.45121765],\n",
       "       [  1.38999999,  81.62683105],\n",
       "       [  1.57000005,  79.42195129],\n",
       "       [  1.39999998,  75.11219788],\n",
       "       [  1.39999998,  73.93658447],\n",
       "       [  1.53999996,  68.80487823],\n",
       "       [  1.38      ,  73.45853424],\n",
       "       [  1.32000005,  79.02683258],\n",
       "       [  1.38      ,  76.24633789],\n",
       "       [  1.95000005,  80.99755859],\n",
       "       [  1.78999996,  80.70243835],\n",
       "       [  1.65600002,  74.31109619],\n",
       "       [  1.47500002,  68.90370941],\n",
       "       [  1.42200005,  74.61885071],\n",
       "       [  1.63      ,  80.0878067 ],\n",
       "       [  1.54999995,  73.26829529],\n",
       "       [  1.16999996,  73.48292542],\n",
       "       [  2.898     ,  69.36846161],\n",
       "       [  2.28929996,  69.88439178],\n",
       "       [  2.58999991,  68.29536438],\n",
       "       [  1.39999998,  81.73658752],\n",
       "       [  2.06999993,  80.29195404],\n",
       "       [  2.20000005,  81.45121765],\n",
       "       [  1.25      ,  74.20731354],\n",
       "       [  1.44000006,  80.38780212],\n",
       "       [  1.38999999,  79.98780823],\n",
       "       [  1.55499995,  73.32733917],\n",
       "       [  2.        ,  81.36829376],\n",
       "       [  1.87      ,  79.87073517],\n",
       "       [  1.63      ,  75.42926788],\n",
       "       [  1.87      ,  79.09999847],\n",
       "       [  1.49000001,  77.4243927 ],\n",
       "       [  1.47599995,  79.38039398],\n",
       "       [  1.46000004,  76.47560883],\n",
       "       [  1.46000004,  79.83200073],\n",
       "       [  1.49000001,  73.51219177],\n",
       "       [  1.148     ,  75.4004364 ],\n",
       "       [  1.84000003,  79.93658447],\n",
       "       [  1.44000006,  70.40487671],\n",
       "       [  2.29999995,  70.5065155 ],\n",
       "       [  1.44000006,  80.38292694],\n",
       "       [  1.73599994,  73.78356171],\n",
       "       [  1.53600001,  76.90094757],\n",
       "       [  1.79999995,  79.18943787],\n",
       "       [  2.49000001,  74.12731934],\n",
       "       [  1.98559999,  76.23683167],\n",
       "       [  1.63900006,  69.75499725],\n",
       "       [  1.89600003,  75.22212219],\n",
       "       [  2.33599997,  70.33531952],\n",
       "       [  2.06399989,  72.11253357],\n",
       "       [  1.98000002,  74.43990326],\n",
       "       [  1.79700005,  78.91329193],\n",
       "       [  2.50099993,  73.7649765 ],\n",
       "       [  2.954     ,  72.27700043],\n",
       "       [  2.48399997,  75.97424316],\n",
       "       [  2.62199998,  73.72921753],\n",
       "       [  2.31999993,  76.68377686],\n",
       "       [  2.329     ,  72.84712219],\n",
       "       [  3.13899994,  72.82592773],\n",
       "       [  3.33999991,  61.76300049],\n",
       "       [  2.26200008,  69.54914856],\n",
       "       [  3.98300004,  70.82541656],\n",
       "       [  2.2349999 ,  75.66043854],\n",
       "       [  2.25      ,  71.73236847],\n",
       "       [  2.47900009,  75.46229553],\n",
       "       [  2.57999992,  73.20002747],\n",
       "       [  1.46700001,  78.96414948],\n",
       "       [  1.84800005,  79.19261169],\n",
       "       [  2.0999999 ,  73.42967987],\n",
       "       [  1.86199999,  78.88573456],\n",
       "       [  1.83000004,  73.09953308],\n",
       "       [  3.34800005,  66.26856232],\n",
       "       [  2.78999996,  75.83995056],\n",
       "       [  1.551     ,  76.5728302 ],\n",
       "       [  1.699     ,  74.97517395],\n",
       "       [  2.21099997,  75.63214874],\n",
       "       [  5.19999981,  65.03046417],\n",
       "       [  4.45300007,  72.64368439],\n",
       "       [  1.74899995,  76.5736084 ],\n",
       "       [  2.03999996,  74.59999847],\n",
       "       [  2.93400002,  75.70256042],\n",
       "       [  2.81100011,  73.85041809],\n",
       "       [  2.27099991,  78.09758759],\n",
       "       [  2.30900002,  73.1246109 ],\n",
       "       [  2.27900004,  71.86463165],\n",
       "       [  1.38      ,  80.94878387],\n",
       "       [  2.56399989,  74.75312042],\n",
       "       [  1.79999995,  72.40875244],\n",
       "       [  2.29500008,  74.6047287 ],\n",
       "       [  3.79999995,  73.28965759],\n",
       "       [  3.02999997,  81.50487518],\n",
       "       [  4.70200014,  68.48604584],\n",
       "       [  1.66999996,  72.75185394],\n",
       "       [  2.73300004,  72.9752655 ],\n",
       "       [  3.75      ,  57.52738953],\n",
       "       [  2.53999996,  75.0238266 ],\n",
       "       [  2.26399994,  72.85253906],\n",
       "       [  2.0999999 ,  78.24146271],\n",
       "       [  1.67700005,  80.79780579],\n",
       "       [  1.76400006,  79.28853607],\n",
       "       [  2.31299996,  74.72261047],\n",
       "       [  3.4230001 ,  65.19885254],\n",
       "       [  2.727     ,  68.3948288 ],\n",
       "       [  1.75199997,  76.55141449],\n",
       "       [  2.625     ,  65.13134003],\n",
       "       [  2.39899993,  66.90885162],\n",
       "       [  2.24499989,  68.63480377],\n",
       "       [  6.28800011,  48.28219604],\n",
       "       [  3.28999996,  49.86087799],\n",
       "       [  6.2579999 ,  48.4554863 ],\n",
       "       [  6.14900017,  53.61463547],\n",
       "       [  4.07200003,  56.58870697],\n",
       "       [  4.89599991,  58.16002274],\n",
       "       [  5.54400015,  57.38748932],\n",
       "       [  3.36400008,  48.34280396],\n",
       "       [  4.4000001 ,  61.10824203],\n",
       "       [  2.45799994,  52.08148956],\n",
       "       [  6.33900023,  50.89553833],\n",
       "       [  4.98199987,  47.40219498],\n",
       "       [  2.5       ,  73.03414917],\n",
       "       [  4.81899977,  58.95407486],\n",
       "       [  5.37099981,  55.05712128],\n",
       "       [  5.5250001 ,  51.41002274],\n",
       "       [  7.0630002 ,  54.26563263],\n",
       "       [  3.21700001,  62.07009888],\n",
       "       [  4.91200018,  49.69692612],\n",
       "       [  1.47000003,  72.96731567],\n",
       "       [  4.53299999,  58.21694946],\n",
       "       [  6.29400015,  50.95483017],\n",
       "       [  5.98999977,  53.46263504],\n",
       "       [  4.65100002,  66.46707153],\n",
       "       [  5.23799992,  56.14758682],\n",
       "       [  3.19899988,  47.36507416],\n",
       "       [  4.71799994,  56.49707413],\n",
       "       [  5.0630002 ,  47.70065689],\n",
       "       [  5.24599981,  53.63858414],\n",
       "       [  4.17000008,  63.83726883],\n",
       "       [  3.25      ,  62.28668213],\n",
       "       [  4.19299984,  58.71509933],\n",
       "       [  4.45300007,  60.99419403],\n",
       "       [  5.18499994,  50.84080505],\n",
       "       [  5.7750001 ,  48.06958389],\n",
       "       [  4.54400015,  56.96019363],\n",
       "       [  4.91900015,  60.62626648],\n",
       "       [  5.98099995,  49.19482803],\n",
       "       [  4.63100004,  47.61846161],\n",
       "       [  2.40499997,  73.77404785],\n",
       "       [  4.48699999,  51.06275558],\n",
       "       [  4.33799982,  49.87722015],\n",
       "       [  5.8499999 ,  54.92419434],\n",
       "       [  2.75      ,  53.10951233],\n",
       "       [  5.28700018,  55.58558655],\n",
       "       [  5.44299984,  50.65365982]], dtype=float32)"
      ]
     },
     "execution_count": 75,
     "metadata": {},
     "output_type": "execute_result"
    }
   ],
   "source": [
    "data"
   ]
  },
  {
   "cell_type": "code",
   "execution_count": 65,
   "metadata": {
    "collapsed": true
   },
   "outputs": [],
   "source": [
    "tf.reset_default_graph() "
   ]
  },
  {
   "cell_type": "code",
   "execution_count": 66,
   "metadata": {},
   "outputs": [],
   "source": [
    "X = tf.placeholder(dtype = tf.float32, shape = None, name = \"birth_rate\")\n",
    "Y = tf.placeholder(dtype = tf.float32, shape = None, name = \"life_expectancy\")"
   ]
  },
  {
   "cell_type": "code",
   "execution_count": 67,
   "metadata": {},
   "outputs": [
    {
     "name": "stdout",
     "output_type": "stream",
     "text": [
      "Tensor(\"birth_rate:0\", dtype=float32) Tensor(\"life_expectancy:0\", dtype=float32)\n"
     ]
    }
   ],
   "source": [
    "print(X,Y)"
   ]
  },
  {
   "cell_type": "code",
   "execution_count": 68,
   "metadata": {},
   "outputs": [],
   "source": [
    "# tf.get_variable , it checks if the variable is already created or not if not, create a new variable\n",
    "W = tf.get_variable(name = \"Weights\",shape = None, initializer = 0.0,dtype = tf.float32)\n",
    "B = tf.get_variable(name = \"Bias\",shape = None, initializer = 0.0,dtype = tf.float32 )"
   ]
  },
  {
   "cell_type": "code",
   "execution_count": 69,
   "metadata": {},
   "outputs": [],
   "source": [
    "Y_Predicted = X*W + B"
   ]
  },
  {
   "cell_type": "code",
   "execution_count": 70,
   "metadata": {},
   "outputs": [],
   "source": [
    "loss = tf.square(Y - Y_Predicted, name='loss')"
   ]
  },
  {
   "cell_type": "code",
   "execution_count": 71,
   "metadata": {},
   "outputs": [],
   "source": [
    "opt = tf.train.GradientDescentOptimizer(learning_rate=0.001).minimize(loss)"
   ]
  },
  {
   "cell_type": "code",
   "execution_count": 72,
   "metadata": {},
   "outputs": [],
   "source": [
    "start = time.time()"
   ]
  },
  {
   "cell_type": "code",
   "execution_count": 77,
   "metadata": {},
   "outputs": [
    {
     "name": "stdout",
     "output_type": "stream",
     "text": [
      "nitin 1.822 74.8282\n"
     ]
    },
    {
     "ename": "TypeError",
     "evalue": "Fetch argument 5599.2666 has invalid type <class 'numpy.float32'>, must be a string or Tensor. (Can not convert a float32 into a Tensor or Operation.)",
     "output_type": "error",
     "traceback": [
      "\u001b[1;31m---------------------------------------------------------------------------\u001b[0m",
      "\u001b[1;31mTypeError\u001b[0m                                 Traceback (most recent call last)",
      "\u001b[1;32mC:\\ProgramData\\Anaconda3\\lib\\site-packages\\tensorflow\\python\\client\\session.py\u001b[0m in \u001b[0;36m__init__\u001b[1;34m(self, fetches, contraction_fn)\u001b[0m\n\u001b[0;32m    270\u001b[0m         self._unique_fetches.append(ops.get_default_graph().as_graph_element(\n\u001b[1;32m--> 271\u001b[1;33m             fetch, allow_tensor=True, allow_operation=True))\n\u001b[0m\u001b[0;32m    272\u001b[0m       \u001b[1;32mexcept\u001b[0m \u001b[0mTypeError\u001b[0m \u001b[1;32mas\u001b[0m \u001b[0me\u001b[0m\u001b[1;33m:\u001b[0m\u001b[1;33m\u001b[0m\u001b[0m\n",
      "\u001b[1;32mC:\\ProgramData\\Anaconda3\\lib\\site-packages\\tensorflow\\python\\framework\\ops.py\u001b[0m in \u001b[0;36mas_graph_element\u001b[1;34m(self, obj, allow_tensor, allow_operation)\u001b[0m\n\u001b[0;32m   3034\u001b[0m     \u001b[1;32mwith\u001b[0m \u001b[0mself\u001b[0m\u001b[1;33m.\u001b[0m\u001b[0m_lock\u001b[0m\u001b[1;33m:\u001b[0m\u001b[1;33m\u001b[0m\u001b[0m\n\u001b[1;32m-> 3035\u001b[1;33m       \u001b[1;32mreturn\u001b[0m \u001b[0mself\u001b[0m\u001b[1;33m.\u001b[0m\u001b[0m_as_graph_element_locked\u001b[0m\u001b[1;33m(\u001b[0m\u001b[0mobj\u001b[0m\u001b[1;33m,\u001b[0m \u001b[0mallow_tensor\u001b[0m\u001b[1;33m,\u001b[0m \u001b[0mallow_operation\u001b[0m\u001b[1;33m)\u001b[0m\u001b[1;33m\u001b[0m\u001b[0m\n\u001b[0m\u001b[0;32m   3036\u001b[0m \u001b[1;33m\u001b[0m\u001b[0m\n",
      "\u001b[1;32mC:\\ProgramData\\Anaconda3\\lib\\site-packages\\tensorflow\\python\\framework\\ops.py\u001b[0m in \u001b[0;36m_as_graph_element_locked\u001b[1;34m(self, obj, allow_tensor, allow_operation)\u001b[0m\n\u001b[0;32m   3123\u001b[0m       raise TypeError(\"Can not convert a %s into a %s.\" % (type(obj).__name__,\n\u001b[1;32m-> 3124\u001b[1;33m                                                            types_str))\n\u001b[0m\u001b[0;32m   3125\u001b[0m \u001b[1;33m\u001b[0m\u001b[0m\n",
      "\u001b[1;31mTypeError\u001b[0m: Can not convert a float32 into a Tensor or Operation.",
      "\nDuring handling of the above exception, another exception occurred:\n",
      "\u001b[1;31mTypeError\u001b[0m                                 Traceback (most recent call last)",
      "\u001b[1;32m<ipython-input-77-d27b60cac527>\u001b[0m in \u001b[0;36m<module>\u001b[1;34m()\u001b[0m\n\u001b[0;32m      6\u001b[0m         \u001b[1;32mfor\u001b[0m \u001b[0mx\u001b[0m\u001b[1;33m,\u001b[0m \u001b[0my\u001b[0m \u001b[1;32min\u001b[0m \u001b[0mdata\u001b[0m\u001b[1;33m:\u001b[0m\u001b[1;33m\u001b[0m\u001b[0m\n\u001b[0;32m      7\u001b[0m             \u001b[0mprint\u001b[0m\u001b[1;33m(\u001b[0m\u001b[1;34m\"nitin\"\u001b[0m \u001b[1;33m,\u001b[0m\u001b[0mx\u001b[0m\u001b[1;33m,\u001b[0m \u001b[0my\u001b[0m\u001b[1;33m)\u001b[0m\u001b[1;33m\u001b[0m\u001b[0m\n\u001b[1;32m----> 8\u001b[1;33m             \u001b[0m_\u001b[0m\u001b[1;33m,\u001b[0m \u001b[0mloss\u001b[0m \u001b[1;33m=\u001b[0m \u001b[0msess\u001b[0m\u001b[1;33m.\u001b[0m\u001b[0mrun\u001b[0m\u001b[1;33m(\u001b[0m\u001b[1;33m[\u001b[0m\u001b[0mopt\u001b[0m\u001b[1;33m,\u001b[0m \u001b[0mloss\u001b[0m\u001b[1;33m]\u001b[0m\u001b[1;33m,\u001b[0m \u001b[0mfeed_dict\u001b[0m \u001b[1;33m=\u001b[0m \u001b[1;33m{\u001b[0m\u001b[0mX\u001b[0m\u001b[1;33m:\u001b[0m\u001b[0mx\u001b[0m\u001b[1;33m,\u001b[0m\u001b[0mY\u001b[0m\u001b[1;33m:\u001b[0m\u001b[0my\u001b[0m\u001b[1;33m}\u001b[0m\u001b[1;33m)\u001b[0m\u001b[1;33m\u001b[0m\u001b[0m\n\u001b[0m\u001b[0;32m      9\u001b[0m \u001b[1;33m\u001b[0m\u001b[0m\n\u001b[0;32m     10\u001b[0m             \u001b[0mtotal_loss\u001b[0m \u001b[1;33m+=\u001b[0m \u001b[0mloss\u001b[0m\u001b[1;33m\u001b[0m\u001b[0m\n",
      "\u001b[1;32mC:\\ProgramData\\Anaconda3\\lib\\site-packages\\tensorflow\\python\\client\\session.py\u001b[0m in \u001b[0;36mrun\u001b[1;34m(self, fetches, feed_dict, options, run_metadata)\u001b[0m\n\u001b[0;32m    887\u001b[0m     \u001b[1;32mtry\u001b[0m\u001b[1;33m:\u001b[0m\u001b[1;33m\u001b[0m\u001b[0m\n\u001b[0;32m    888\u001b[0m       result = self._run(None, fetches, feed_dict, options_ptr,\n\u001b[1;32m--> 889\u001b[1;33m                          run_metadata_ptr)\n\u001b[0m\u001b[0;32m    890\u001b[0m       \u001b[1;32mif\u001b[0m \u001b[0mrun_metadata\u001b[0m\u001b[1;33m:\u001b[0m\u001b[1;33m\u001b[0m\u001b[0m\n\u001b[0;32m    891\u001b[0m         \u001b[0mproto_data\u001b[0m \u001b[1;33m=\u001b[0m \u001b[0mtf_session\u001b[0m\u001b[1;33m.\u001b[0m\u001b[0mTF_GetBuffer\u001b[0m\u001b[1;33m(\u001b[0m\u001b[0mrun_metadata_ptr\u001b[0m\u001b[1;33m)\u001b[0m\u001b[1;33m\u001b[0m\u001b[0m\n",
      "\u001b[1;32mC:\\ProgramData\\Anaconda3\\lib\\site-packages\\tensorflow\\python\\client\\session.py\u001b[0m in \u001b[0;36m_run\u001b[1;34m(self, handle, fetches, feed_dict, options, run_metadata)\u001b[0m\n\u001b[0;32m   1103\u001b[0m     \u001b[1;31m# Create a fetch handler to take care of the structure of fetches.\u001b[0m\u001b[1;33m\u001b[0m\u001b[1;33m\u001b[0m\u001b[0m\n\u001b[0;32m   1104\u001b[0m     fetch_handler = _FetchHandler(\n\u001b[1;32m-> 1105\u001b[1;33m         self._graph, fetches, feed_dict_tensor, feed_handles=feed_handles)\n\u001b[0m\u001b[0;32m   1106\u001b[0m \u001b[1;33m\u001b[0m\u001b[0m\n\u001b[0;32m   1107\u001b[0m     \u001b[1;31m# Run request and get response.\u001b[0m\u001b[1;33m\u001b[0m\u001b[1;33m\u001b[0m\u001b[0m\n",
      "\u001b[1;32mC:\\ProgramData\\Anaconda3\\lib\\site-packages\\tensorflow\\python\\client\\session.py\u001b[0m in \u001b[0;36m__init__\u001b[1;34m(self, graph, fetches, feeds, feed_handles)\u001b[0m\n\u001b[0;32m    412\u001b[0m     \"\"\"\n\u001b[0;32m    413\u001b[0m     \u001b[1;32mwith\u001b[0m \u001b[0mgraph\u001b[0m\u001b[1;33m.\u001b[0m\u001b[0mas_default\u001b[0m\u001b[1;33m(\u001b[0m\u001b[1;33m)\u001b[0m\u001b[1;33m:\u001b[0m\u001b[1;33m\u001b[0m\u001b[0m\n\u001b[1;32m--> 414\u001b[1;33m       \u001b[0mself\u001b[0m\u001b[1;33m.\u001b[0m\u001b[0m_fetch_mapper\u001b[0m \u001b[1;33m=\u001b[0m \u001b[0m_FetchMapper\u001b[0m\u001b[1;33m.\u001b[0m\u001b[0mfor_fetch\u001b[0m\u001b[1;33m(\u001b[0m\u001b[0mfetches\u001b[0m\u001b[1;33m)\u001b[0m\u001b[1;33m\u001b[0m\u001b[0m\n\u001b[0m\u001b[0;32m    415\u001b[0m     \u001b[0mself\u001b[0m\u001b[1;33m.\u001b[0m\u001b[0m_fetches\u001b[0m \u001b[1;33m=\u001b[0m \u001b[1;33m[\u001b[0m\u001b[1;33m]\u001b[0m\u001b[1;33m\u001b[0m\u001b[0m\n\u001b[0;32m    416\u001b[0m     \u001b[0mself\u001b[0m\u001b[1;33m.\u001b[0m\u001b[0m_targets\u001b[0m \u001b[1;33m=\u001b[0m \u001b[1;33m[\u001b[0m\u001b[1;33m]\u001b[0m\u001b[1;33m\u001b[0m\u001b[0m\n",
      "\u001b[1;32mC:\\ProgramData\\Anaconda3\\lib\\site-packages\\tensorflow\\python\\client\\session.py\u001b[0m in \u001b[0;36mfor_fetch\u001b[1;34m(fetch)\u001b[0m\n\u001b[0;32m    232\u001b[0m     \u001b[1;32melif\u001b[0m \u001b[0misinstance\u001b[0m\u001b[1;33m(\u001b[0m\u001b[0mfetch\u001b[0m\u001b[1;33m,\u001b[0m \u001b[1;33m(\u001b[0m\u001b[0mlist\u001b[0m\u001b[1;33m,\u001b[0m \u001b[0mtuple\u001b[0m\u001b[1;33m)\u001b[0m\u001b[1;33m)\u001b[0m\u001b[1;33m:\u001b[0m\u001b[1;33m\u001b[0m\u001b[0m\n\u001b[0;32m    233\u001b[0m       \u001b[1;31m# NOTE(touts): This is also the code path for namedtuples.\u001b[0m\u001b[1;33m\u001b[0m\u001b[1;33m\u001b[0m\u001b[0m\n\u001b[1;32m--> 234\u001b[1;33m       \u001b[1;32mreturn\u001b[0m \u001b[0m_ListFetchMapper\u001b[0m\u001b[1;33m(\u001b[0m\u001b[0mfetch\u001b[0m\u001b[1;33m)\u001b[0m\u001b[1;33m\u001b[0m\u001b[0m\n\u001b[0m\u001b[0;32m    235\u001b[0m     \u001b[1;32melif\u001b[0m \u001b[0misinstance\u001b[0m\u001b[1;33m(\u001b[0m\u001b[0mfetch\u001b[0m\u001b[1;33m,\u001b[0m \u001b[0mdict\u001b[0m\u001b[1;33m)\u001b[0m\u001b[1;33m:\u001b[0m\u001b[1;33m\u001b[0m\u001b[0m\n\u001b[0;32m    236\u001b[0m       \u001b[1;32mreturn\u001b[0m \u001b[0m_DictFetchMapper\u001b[0m\u001b[1;33m(\u001b[0m\u001b[0mfetch\u001b[0m\u001b[1;33m)\u001b[0m\u001b[1;33m\u001b[0m\u001b[0m\n",
      "\u001b[1;32mC:\\ProgramData\\Anaconda3\\lib\\site-packages\\tensorflow\\python\\client\\session.py\u001b[0m in \u001b[0;36m__init__\u001b[1;34m(self, fetches)\u001b[0m\n\u001b[0;32m    339\u001b[0m     \"\"\"\n\u001b[0;32m    340\u001b[0m     \u001b[0mself\u001b[0m\u001b[1;33m.\u001b[0m\u001b[0m_fetch_type\u001b[0m \u001b[1;33m=\u001b[0m \u001b[0mtype\u001b[0m\u001b[1;33m(\u001b[0m\u001b[0mfetches\u001b[0m\u001b[1;33m)\u001b[0m\u001b[1;33m\u001b[0m\u001b[0m\n\u001b[1;32m--> 341\u001b[1;33m     \u001b[0mself\u001b[0m\u001b[1;33m.\u001b[0m\u001b[0m_mappers\u001b[0m \u001b[1;33m=\u001b[0m \u001b[1;33m[\u001b[0m\u001b[0m_FetchMapper\u001b[0m\u001b[1;33m.\u001b[0m\u001b[0mfor_fetch\u001b[0m\u001b[1;33m(\u001b[0m\u001b[0mfetch\u001b[0m\u001b[1;33m)\u001b[0m \u001b[1;32mfor\u001b[0m \u001b[0mfetch\u001b[0m \u001b[1;32min\u001b[0m \u001b[0mfetches\u001b[0m\u001b[1;33m]\u001b[0m\u001b[1;33m\u001b[0m\u001b[0m\n\u001b[0m\u001b[0;32m    342\u001b[0m     \u001b[0mself\u001b[0m\u001b[1;33m.\u001b[0m\u001b[0m_unique_fetches\u001b[0m\u001b[1;33m,\u001b[0m \u001b[0mself\u001b[0m\u001b[1;33m.\u001b[0m\u001b[0m_value_indices\u001b[0m \u001b[1;33m=\u001b[0m \u001b[0m_uniquify_fetches\u001b[0m\u001b[1;33m(\u001b[0m\u001b[0mself\u001b[0m\u001b[1;33m.\u001b[0m\u001b[0m_mappers\u001b[0m\u001b[1;33m)\u001b[0m\u001b[1;33m\u001b[0m\u001b[0m\n\u001b[0;32m    343\u001b[0m \u001b[1;33m\u001b[0m\u001b[0m\n",
      "\u001b[1;32mC:\\ProgramData\\Anaconda3\\lib\\site-packages\\tensorflow\\python\\client\\session.py\u001b[0m in \u001b[0;36m<listcomp>\u001b[1;34m(.0)\u001b[0m\n\u001b[0;32m    339\u001b[0m     \"\"\"\n\u001b[0;32m    340\u001b[0m     \u001b[0mself\u001b[0m\u001b[1;33m.\u001b[0m\u001b[0m_fetch_type\u001b[0m \u001b[1;33m=\u001b[0m \u001b[0mtype\u001b[0m\u001b[1;33m(\u001b[0m\u001b[0mfetches\u001b[0m\u001b[1;33m)\u001b[0m\u001b[1;33m\u001b[0m\u001b[0m\n\u001b[1;32m--> 341\u001b[1;33m     \u001b[0mself\u001b[0m\u001b[1;33m.\u001b[0m\u001b[0m_mappers\u001b[0m \u001b[1;33m=\u001b[0m \u001b[1;33m[\u001b[0m\u001b[0m_FetchMapper\u001b[0m\u001b[1;33m.\u001b[0m\u001b[0mfor_fetch\u001b[0m\u001b[1;33m(\u001b[0m\u001b[0mfetch\u001b[0m\u001b[1;33m)\u001b[0m \u001b[1;32mfor\u001b[0m \u001b[0mfetch\u001b[0m \u001b[1;32min\u001b[0m \u001b[0mfetches\u001b[0m\u001b[1;33m]\u001b[0m\u001b[1;33m\u001b[0m\u001b[0m\n\u001b[0m\u001b[0;32m    342\u001b[0m     \u001b[0mself\u001b[0m\u001b[1;33m.\u001b[0m\u001b[0m_unique_fetches\u001b[0m\u001b[1;33m,\u001b[0m \u001b[0mself\u001b[0m\u001b[1;33m.\u001b[0m\u001b[0m_value_indices\u001b[0m \u001b[1;33m=\u001b[0m \u001b[0m_uniquify_fetches\u001b[0m\u001b[1;33m(\u001b[0m\u001b[0mself\u001b[0m\u001b[1;33m.\u001b[0m\u001b[0m_mappers\u001b[0m\u001b[1;33m)\u001b[0m\u001b[1;33m\u001b[0m\u001b[0m\n\u001b[0;32m    343\u001b[0m \u001b[1;33m\u001b[0m\u001b[0m\n",
      "\u001b[1;32mC:\\ProgramData\\Anaconda3\\lib\\site-packages\\tensorflow\\python\\client\\session.py\u001b[0m in \u001b[0;36mfor_fetch\u001b[1;34m(fetch)\u001b[0m\n\u001b[0;32m    240\u001b[0m         \u001b[1;32mif\u001b[0m \u001b[0misinstance\u001b[0m\u001b[1;33m(\u001b[0m\u001b[0mfetch\u001b[0m\u001b[1;33m,\u001b[0m \u001b[0mtensor_type\u001b[0m\u001b[1;33m)\u001b[0m\u001b[1;33m:\u001b[0m\u001b[1;33m\u001b[0m\u001b[0m\n\u001b[0;32m    241\u001b[0m           \u001b[0mfetches\u001b[0m\u001b[1;33m,\u001b[0m \u001b[0mcontraction_fn\u001b[0m \u001b[1;33m=\u001b[0m \u001b[0mfetch_fn\u001b[0m\u001b[1;33m(\u001b[0m\u001b[0mfetch\u001b[0m\u001b[1;33m)\u001b[0m\u001b[1;33m\u001b[0m\u001b[0m\n\u001b[1;32m--> 242\u001b[1;33m           \u001b[1;32mreturn\u001b[0m \u001b[0m_ElementFetchMapper\u001b[0m\u001b[1;33m(\u001b[0m\u001b[0mfetches\u001b[0m\u001b[1;33m,\u001b[0m \u001b[0mcontraction_fn\u001b[0m\u001b[1;33m)\u001b[0m\u001b[1;33m\u001b[0m\u001b[0m\n\u001b[0m\u001b[0;32m    243\u001b[0m     \u001b[1;31m# Did not find anything.\u001b[0m\u001b[1;33m\u001b[0m\u001b[1;33m\u001b[0m\u001b[0m\n\u001b[0;32m    244\u001b[0m     raise TypeError('Fetch argument %r has invalid type %r' %\n",
      "\u001b[1;32mC:\\ProgramData\\Anaconda3\\lib\\site-packages\\tensorflow\\python\\client\\session.py\u001b[0m in \u001b[0;36m__init__\u001b[1;34m(self, fetches, contraction_fn)\u001b[0m\n\u001b[0;32m    273\u001b[0m         raise TypeError('Fetch argument %r has invalid type %r, '\n\u001b[0;32m    274\u001b[0m                         \u001b[1;34m'must be a string or Tensor. (%s)'\u001b[0m\u001b[1;33m\u001b[0m\u001b[0m\n\u001b[1;32m--> 275\u001b[1;33m                         % (fetch, type(fetch), str(e)))\n\u001b[0m\u001b[0;32m    276\u001b[0m       \u001b[1;32mexcept\u001b[0m \u001b[0mValueError\u001b[0m \u001b[1;32mas\u001b[0m \u001b[0me\u001b[0m\u001b[1;33m:\u001b[0m\u001b[1;33m\u001b[0m\u001b[0m\n\u001b[0;32m    277\u001b[0m         raise ValueError('Fetch argument %r cannot be interpreted as a '\n",
      "\u001b[1;31mTypeError\u001b[0m: Fetch argument 5599.2666 has invalid type <class 'numpy.float32'>, must be a string or Tensor. (Can not convert a float32 into a Tensor or Operation.)"
     ]
    }
   ],
   "source": [
    "with tf.Session() as sess:\n",
    "    sess.run(tf.global_variables_initializer())\n",
    "    writer = tf.summary.FileWriter(\"C:/Users/USX28939/PYTHON_CODE_BASE/graphs\",sess.graph)\n",
    "    for i in range(100):\n",
    "        total_loss = 0\n",
    "        for x, y in data:\n",
    "            print(\"nitin\" ,x, y)\n",
    "            _, loss = sess.run([opt, loss], feed_dict = {X:x,Y:y})\n",
    "            \n",
    "            total_loss += loss\n",
    "\n",
    "        print('Epoch {0}: {1}'.format(i, total_loss/n_samples))\n",
    "    writer.close()"
   ]
  },
  {
   "cell_type": "code",
   "execution_count": 57,
   "metadata": {},
   "outputs": [
    {
     "data": {
      "text/plain": [
       "<tf.Operation 'init' type=NoOp>"
      ]
     },
     "execution_count": 57,
     "metadata": {},
     "output_type": "execute_result"
    }
   ],
   "source": [
    "w_value , b_value = sess.run([W,B])"
   ]
  },
  {
   "cell_type": "code",
   "execution_count": null,
   "metadata": {
    "collapsed": true
   },
   "outputs": [],
   "source": []
  }
 ],
 "metadata": {
  "kernelspec": {
   "display_name": "Python 3",
   "language": "python",
   "name": "python3"
  },
  "language_info": {
   "codemirror_mode": {
    "name": "ipython",
    "version": 3
   },
   "file_extension": ".py",
   "mimetype": "text/x-python",
   "name": "python",
   "nbconvert_exporter": "python",
   "pygments_lexer": "ipython3",
   "version": "3.6.1"
  }
 },
 "nbformat": 4,
 "nbformat_minor": 2
}
