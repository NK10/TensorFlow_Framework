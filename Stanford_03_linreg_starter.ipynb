{
 "cells": [
  {
   "cell_type": "code",
   "execution_count": 1,
   "metadata": {
    "collapsed": true
   },
   "outputs": [],
   "source": [
    "import tensorflow as tf\n",
    "import numpy as np\n",
    "import time\n",
    "import matplotlib.pyplot as plt"
   ]
  },
  {
   "cell_type": "code",
   "execution_count": 2,
   "metadata": {
    "collapsed": true
   },
   "outputs": [],
   "source": [
    "filename = 'C:/Users/USX28939/PYTHON_CODE_BASE/GitHub_Doc/stanford-tensorflow-tutorials/examples/data/birth_life_2010.txt'\n",
    "\n",
    "text = open(filename, 'r').readlines()[1:]\n",
    "data = [line[:-1].split('\\t') for line in text]\n",
    "births = [float(line[1]) for line in data]\n",
    "lifes = [float(line[2]) for line in data]\n",
    "data = list(zip(births, lifes))\n",
    "n_samples = len(data)\n",
    "data = np.asarray(data, dtype=np.float32)"
   ]
  },
  {
   "cell_type": "code",
   "execution_count": 70,
   "metadata": {
    "collapsed": true
   },
   "outputs": [],
   "source": [
    "tf.reset_default_graph() "
   ]
  },
  {
   "cell_type": "code",
   "execution_count": 71,
   "metadata": {
    "collapsed": true
   },
   "outputs": [],
   "source": [
    "X = tf.placeholder(dtype = tf.float32, shape = None, name = \"birth_rate\")\n",
    "Y = tf.placeholder(dtype = tf.float32, shape = None, name = \"life_expectancy\")"
   ]
  },
  {
   "cell_type": "code",
   "execution_count": 72,
   "metadata": {},
   "outputs": [
    {
     "name": "stdout",
     "output_type": "stream",
     "text": [
      "Tensor(\"birth_rate:0\", dtype=float32) Tensor(\"life_expectancy:0\", dtype=float32)\n"
     ]
    }
   ],
   "source": [
    "print(X,Y)"
   ]
  },
  {
   "cell_type": "code",
   "execution_count": 73,
   "metadata": {},
   "outputs": [
    {
     "name": "stdout",
     "output_type": "stream",
     "text": [
      "<tf.Variable 'Weights:0' shape=() dtype=float32_ref> <tf.Variable 'Bias:0' shape=() dtype=float32_ref>\n"
     ]
    }
   ],
   "source": [
    "# tf.get_variable , it checks if the variable is already created or not if not, create a new variable\n",
    "W = tf.get_variable(name = \"Weights\",initializer = 0.0,shape = None,dtype = tf.float32)\n",
    "B = tf.get_variable(name = \"Bias\",initializer = 0.0, shape = None,dtype = tf.float32)\n",
    "print(W,B)"
   ]
  },
  {
   "cell_type": "code",
   "execution_count": 74,
   "metadata": {
    "collapsed": true
   },
   "outputs": [],
   "source": [
    "Y_Predicted = X*W + B"
   ]
  },
  {
   "cell_type": "code",
   "execution_count": 75,
   "metadata": {},
   "outputs": [
    {
     "name": "stdout",
     "output_type": "stream",
     "text": [
      "Tensor(\"loss:0\", dtype=float32)\n"
     ]
    }
   ],
   "source": [
    "loss = tf.square(Y - Y_Predicted, name='loss')\n",
    "print(loss)"
   ]
  },
  {
   "cell_type": "code",
   "execution_count": 76,
   "metadata": {},
   "outputs": [
    {
     "name": "stdout",
     "output_type": "stream",
     "text": [
      "name: \"GradientDescent\"\n",
      "op: \"NoOp\"\n",
      "input: \"^GradientDescent/update_Weights/ApplyGradientDescent\"\n",
      "input: \"^GradientDescent/update_Bias/ApplyGradientDescent\"\n",
      "\n"
     ]
    }
   ],
   "source": [
    "optimizer  = tf.train.GradientDescentOptimizer(learning_rate=0.001).minimize(loss)\n",
    "print(optimizer)"
   ]
  },
  {
   "cell_type": "code",
   "execution_count": 77,
   "metadata": {
    "collapsed": true
   },
   "outputs": [],
   "source": [
    "start = time.time()"
   ]
  },
  {
   "cell_type": "code",
   "execution_count": 83,
   "metadata": {},
   "outputs": [
    {
     "name": "stdout",
     "output_type": "stream",
     "text": [
      "Epoch 0: 1661.863764550287\n",
      "Epoch 1: 956.3224439573916\n",
      "Epoch 2: 844.6737683409139\n",
      "Epoch 3: 750.7312372197838\n",
      "Epoch 4: 667.659830722252\n",
      "Epoch 5: 594.1417484349327\n",
      "Epoch 6: 529.0787271179651\n",
      "Epoch 7: 471.5003584364135\n",
      "Epoch 8: 420.5458252520938\n",
      "Epoch 9: 375.45531067297253\n",
      "Epoch 10: 335.55436177954664\n",
      "Epoch 11: 300.24627770512666\n",
      "Epoch 12: 269.00374521501146\n",
      "Epoch 13: 241.3595776562824\n",
      "Epoch 14: 216.9003910217238\n",
      "Epoch 15: 195.25972397061292\n",
      "Epoch 16: 176.1137731664483\n",
      "Epoch 17: 159.17551683403158\n",
      "Epoch 18: 144.19069889799545\n",
      "Epoch 19: 130.93503690609023\n",
      "Epoch 20: 119.20935661137888\n",
      "Epoch 21: 108.83793506244884\n",
      "Epoch 22: 99.66458668207358\n",
      "Epoch 23: 91.55171666162971\n",
      "Epoch 24: 84.37658985632197\n",
      "Epoch 25: 78.03213362396008\n",
      "Epoch 26: 72.42178616552172\n",
      "Epoch 27: 67.46132107331957\n",
      "Epoch 28: 63.07563027821873\n",
      "Epoch 29: 59.19871881428714\n",
      "Epoch 30: 55.77163058824279\n",
      "Epoch 31: 52.742706123048954\n",
      "Epoch 32: 50.06563247971506\n",
      "Epoch 33: 47.70006537150391\n",
      "Epoch 34: 45.61017402416389\n",
      "Epoch 35: 43.763794843404014\n",
      "Epoch 36: 42.13259061904698\n",
      "Epoch 37: 40.692217106133775\n",
      "Epoch 38: 39.420219863367905\n",
      "Epoch 39: 38.297008645340895\n",
      "Epoch 40: 37.305592010505066\n",
      "Epoch 41: 36.43066341609841\n",
      "Epoch 42: 35.658454647898296\n",
      "Epoch 43: 34.977248985403655\n",
      "Epoch 44: 34.376551568753236\n",
      "Epoch 45: 33.846705867195695\n",
      "Epoch 46: 33.37967463995998\n",
      "Epoch 47: 32.9680108638946\n",
      "Epoch 48: 32.60548541990942\n",
      "Epoch 49: 32.28618434173986\n",
      "Epoch 50: 32.004961317298495\n",
      "Epoch 51: 31.75752976890163\n",
      "Epoch 52: 31.53978877073019\n",
      "Epoch 53: 31.34836144135732\n",
      "Epoch 54: 31.180118720635072\n",
      "Epoch 55: 31.03225782010038\n",
      "Epoch 56: 30.902463045723714\n",
      "Epoch 57: 30.788599823501748\n",
      "Epoch 58: 30.68872023182676\n",
      "Epoch 59: 30.60122912194102\n",
      "Epoch 60: 30.524589418089263\n",
      "Epoch 61: 30.457532704476954\n",
      "Epoch 62: 30.398964531451316\n",
      "Epoch 63: 30.34777825418737\n",
      "Epoch 64: 30.303121465726413\n",
      "Epoch 65: 30.264247165074092\n",
      "Epoch 66: 30.230395186190357\n",
      "Epoch 67: 30.200965440111528\n",
      "Epoch 68: 30.175501555469697\n",
      "Epoch 69: 30.153343991707324\n",
      "Epoch 70: 30.134226098457216\n",
      "Epoch 71: 30.117758308603477\n",
      "Epoch 72: 30.103543774372174\n",
      "Epoch 73: 30.091394110470336\n",
      "Epoch 74: 30.08093890536509\n",
      "Epoch 75: 30.072084357345624\n",
      "Epoch 76: 30.06452434975899\n",
      "Epoch 77: 30.0581486002297\n",
      "Epoch 78: 30.05278219980139\n",
      "Epoch 79: 30.04828310612785\n",
      "Epoch 80: 30.04458791257593\n",
      "Epoch 81: 30.041549566215345\n",
      "Epoch 82: 30.039046151249817\n",
      "Epoch 83: 30.037039793959796\n",
      "Epoch 84: 30.035464155240486\n",
      "Epoch 85: 30.034287342776263\n",
      "Epoch 86: 30.033386764163456\n",
      "Epoch 87: 30.03276857610855\n",
      "Epoch 88: 30.032388654677273\n",
      "Epoch 89: 30.032152204158926\n",
      "Epoch 90: 30.03209388247043\n",
      "Epoch 91: 30.03219517776896\n",
      "Epoch 92: 30.032402951199575\n",
      "Epoch 93: 30.03264380555698\n",
      "Epoch 94: 30.033044778692265\n",
      "Epoch 95: 30.03343712379727\n",
      "Epoch 96: 30.033913317535955\n",
      "Epoch 97: 30.03442924663878\n",
      "Epoch 98: 30.0349335548615\n",
      "Epoch 99: 30.03552558278714\n",
      "Epoch 100: 30.036051805281865\n",
      "Epoch 101: 30.036615595640615\n",
      "Epoch 102: 30.03720084236518\n",
      "Epoch 103: 30.03772991797029\n",
      "Epoch 104: 30.038308496508552\n",
      "Epoch 105: 30.03883843990288\n",
      "Epoch 106: 30.03939055101456\n",
      "Epoch 107: 30.039888296367014\n",
      "Epoch 108: 30.040397570414566\n",
      "Epoch 109: 30.04089150359903\n",
      "Epoch 110: 30.041382349228584\n",
      "Epoch 111: 30.041842723015304\n",
      "Epoch 112: 30.042252392145365\n",
      "Epoch 113: 30.042683755866204\n",
      "Epoch 114: 30.04311073087401\n",
      "Epoch 115: 30.04345049355179\n",
      "Epoch 116: 30.043879056481742\n",
      "Epoch 117: 30.044181536103746\n",
      "Epoch 118: 30.044563252206792\n",
      "Epoch 119: 30.04485828237804\n",
      "Epoch 120: 30.04518032633381\n",
      "Epoch 121: 30.045481761526563\n",
      "Epoch 122: 30.045776799446166\n",
      "Epoch 123: 30.046012441484308\n",
      "Epoch 124: 30.046271036195225\n",
      "Epoch 125: 30.046529047567347\n",
      "Epoch 126: 30.04677379034631\n",
      "Epoch 127: 30.046976930043954\n",
      "Epoch 128: 30.047168352599503\n",
      "Epoch 129: 30.04738207001386\n",
      "Epoch 130: 30.04755875802182\n",
      "Epoch 131: 30.047735433345416\n",
      "Epoch 132: 30.04787486255855\n",
      "Epoch 133: 30.04803492928561\n",
      "Epoch 134: 30.048165932923897\n",
      "Epoch 135: 30.048300349646198\n",
      "Epoch 136: 30.048431530308076\n",
      "Epoch 137: 30.048575838135655\n",
      "Epoch 138: 30.048697722440977\n",
      "Epoch 139: 30.0488110802602\n",
      "Epoch 140: 30.04890401590934\n",
      "Epoch 141: 30.0490113239429\n",
      "Epoch 142: 30.04910597803169\n",
      "Epoch 143: 30.049193336558528\n",
      "Epoch 144: 30.049264799233672\n",
      "Epoch 145: 30.04935534306385\n",
      "Epoch 146: 30.049417629188515\n",
      "Epoch 147: 30.049494439807084\n",
      "Epoch 148: 30.04955407475293\n",
      "Epoch 149: 30.04961669857761\n",
      "Epoch 150: 30.049686625004306\n",
      "Epoch 151: 30.04977354470665\n",
      "Epoch 152: 30.049816861317346\n",
      "Epoch 153: 30.049868470307832\n",
      "Epoch 154: 30.049926266354802\n",
      "Epoch 155: 30.049974072477657\n",
      "Epoch 156: 30.05001272645681\n",
      "Epoch 157: 30.050059225834833\n",
      "Epoch 158: 30.05008824789088\n",
      "Epoch 159: 30.050111384797646\n",
      "Epoch 160: 30.05014311506989\n",
      "Epoch 161: 30.05015919801571\n",
      "Epoch 162: 30.050195074965565\n",
      "Epoch 163: 30.050203340959516\n",
      "Epoch 164: 30.050220672527058\n",
      "Epoch 165: 30.050222846481482\n",
      "Epoch 166: 30.050235561511823\n",
      "Epoch 167: 30.05026806024099\n",
      "Epoch 168: 30.05028546315091\n",
      "Epoch 169: 30.05030606028771\n",
      "Epoch 170: 30.05032130444643\n",
      "Epoch 171: 30.05033383462088\n",
      "Epoch 172: 30.05035339840443\n",
      "Epoch 173: 30.050364811497275\n",
      "Epoch 174: 30.050376914570254\n",
      "Epoch 175: 30.050388640082\n",
      "Epoch 176: 30.050412765133046\n",
      "Epoch 177: 30.050418562786408\n",
      "Epoch 178: 30.050434155124975\n",
      "Epoch 179: 30.05044786258184\n",
      "Epoch 180: 30.050457173960872\n",
      "Epoch 181: 30.050464828931847\n",
      "Epoch 182: 30.050473114221333\n",
      "Epoch 183: 30.050481455955705\n",
      "Epoch 184: 30.050494113748304\n",
      "Epoch 185: 30.05049770091121\n",
      "Epoch 186: 30.050513817042138\n",
      "Epoch 187: 30.05052038654746\n",
      "Epoch 188: 30.05053332831931\n",
      "Epoch 189: 30.05053982361661\n",
      "Epoch 190: 30.05055167332512\n",
      "Epoch 191: 30.050560252098858\n",
      "Epoch 192: 30.05056586484731\n",
      "Epoch 193: 30.050562161218227\n",
      "Epoch 194: 30.050569298993917\n",
      "Epoch 195: 30.05057793139284\n",
      "Epoch 196: 30.050577750680723\n",
      "Epoch 197: 30.050579674415733\n",
      "Epoch 198: 30.05058267748253\n",
      "Epoch 199: 30.050586876431847\n",
      "Epoch 200: 30.050587951735668\n",
      "Epoch 201: 30.050588064047655\n",
      "Epoch 202: 30.050590094556345\n",
      "Epoch 203: 30.05059391315046\n",
      "Epoch 204: 30.05059156129627\n",
      "Epoch 205: 30.050591965382427\n",
      "Epoch 206: 30.050591854015856\n",
      "Epoch 207: 30.050592849418326\n",
      "Epoch 208: 30.05059808725491\n",
      "Epoch 209: 30.05059407334836\n",
      "Epoch 210: 30.05059531813512\n",
      "Epoch 211: 30.05059287224247\n",
      "Epoch 212: 30.050601428052975\n",
      "Epoch 213: 30.05059785634267\n",
      "Epoch 214: 30.050599382654763\n",
      "Epoch 215: 30.05059894298718\n",
      "Epoch 216: 30.050599345416565\n",
      "Epoch 217: 30.05061092306002\n",
      "Epoch 218: 30.050607155135978\n",
      "Epoch 219: 30.050612027115974\n",
      "Epoch 220: 30.05060948470338\n",
      "Epoch 221: 30.050614673043846\n",
      "Epoch 222: 30.050611644118142\n",
      "Epoch 223: 30.050611884778636\n",
      "Epoch 224: 30.05061264771809\n",
      "Epoch 225: 30.05061264771809\n",
      "Epoch 226: 30.05061264771809\n",
      "Epoch 227: 30.05061264771809\n",
      "Epoch 228: 30.05061264771809\n",
      "Epoch 229: 30.05061264771809\n",
      "Epoch 230: 30.05061264771809\n",
      "Epoch 231: 30.05061264771809\n",
      "Epoch 232: 30.05061264771809\n",
      "Epoch 233: 30.05061264771809\n",
      "Epoch 234: 30.05061264771809\n",
      "Epoch 235: 30.05061264771809\n",
      "Epoch 236: 30.05061264771809\n",
      "Epoch 237: 30.05061264771809\n",
      "Epoch 238: 30.05061264771809\n",
      "Epoch 239: 30.05061264771809\n",
      "Epoch 240: 30.05061264771809\n",
      "Epoch 241: 30.05061264771809\n",
      "Epoch 242: 30.05061264771809\n",
      "Epoch 243: 30.05061264771809\n",
      "Epoch 244: 30.05061264771809\n",
      "Epoch 245: 30.05061264771809\n",
      "Epoch 246: 30.05061264771809\n",
      "Epoch 247: 30.05061264771809\n",
      "Epoch 248: 30.05061264771809\n",
      "Epoch 249: 30.05061264771809\n"
     ]
    }
   ],
   "source": [
    "with tf.Session() as sess:\n",
    "    sess.run(tf.global_variables_initializer())\n",
    "    writer = tf.summary.FileWriter(\"C:/Users/USX28939/PYTHON_CODE_BASE/graphs\",sess.graph)\n",
    "    for i in range(250):\n",
    "        total_loss = 0\n",
    "        for x, y in data:\n",
    "            \n",
    "            _,l = sess.run([optimizer, loss], feed_dict = {X:x,Y:y})\n",
    "            total_loss += l\n",
    "\n",
    "        print('Epoch {0}: {1}'.format(i, total_loss/n_samples))\n",
    "    \n",
    "    writer.close()\n",
    "    w_value , b_value = sess.run([W,B])"
   ]
  },
  {
   "cell_type": "code",
   "execution_count": 84,
   "metadata": {
    "scrolled": true
   },
   "outputs": [
    {
     "data": {
      "image/png": "[encoded data removed]",
      "text/plain": [
       "<matplotlib.figure.Figure at 0xd8570b8>"
      ]
     },
     "metadata": {},
     "output_type": "display_data"
    }
   ],
   "source": [
    "X_X,Y_Y = data.T[0], data.T[1]\n",
    "plt.plot(X_X,Y_Y, \"bo\",label = \"Real_data\")\n",
    "plt.plot(X_X,X_X*w_value + b_value, \"r\",label = \"Predicted_data\")\n",
    "plt.legend()\n",
    "plt.show()"
   ]
  },
  {
   "cell_type": "code",
   "execution_count": 98,
   "metadata": {},
   "outputs": [
    {
     "data": {
      "image/png": "[encoded data removed]",
      "text/plain": [
       "<matplotlib.figure.Figure at 0xed927f0>"
      ]
     },
     "metadata": {},
     "output_type": "display_data"
    }
   ],
   "source": [
    "X_X,Y_Y = data.T[0], data.T[1]\n",
    "#plt.plot(X_X,Y_Y, \"bo\",label = \"Real_data\")\n",
    "y_pre =  X_X*w_value + b_value\n",
    "plt.plot(Y_Y,y_pre, \"go\",label = \"Predicted_data(y axis) vs actual data( x axis) \")\n",
    "plt.legend()\n",
    "plt.show()"
   ]
  },
  {
   "cell_type": "code",
   "execution_count": null,
   "metadata": {
    "collapsed": true
   },
   "outputs": [],
   "source": []
  }
 ],
 "metadata": {
  "kernelspec": {
   "display_name": "Python 3",
   "language": "python",
   "name": "python3"
  },
  "language_info": {
   "codemirror_mode": {
    "name": "ipython",
    "version": 3
   },
   "file_extension": ".py",
   "mimetype": "text/x-python",
   "name": "python",
   "nbconvert_exporter": "python",
   "pygments_lexer": "ipython3",
   "version": "3.6.1"
  }
 },
 "nbformat": 4,
 "nbformat_minor": 2
}
