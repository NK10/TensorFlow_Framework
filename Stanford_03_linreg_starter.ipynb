{
 "cells": [
  {
   "cell_type": "code",
   "execution_count": 1,
   "metadata": {
    "collapsed": true
   },
   "outputs": [],
   "source": [
    "import tensorflow as tf\n",
    "import numpy as np\n",
    "import time\n",
    "import matplotlib.pyplot as plt"
   ]
  },
  {
   "cell_type": "code",
   "execution_count": 2,
   "metadata": {
    "collapsed": true
   },
   "outputs": [],
   "source": [
    "filename = 'C:/Users/USX28939/PYTHON_CODE_BASE/GitHub_Doc/stanford-tensorflow-tutorials/examples/data/birth_life_2010.txt'\n",
    "\n",
    "text = open(filename, 'r').readlines()[1:]\n",
    "data = [line[:-1].split('\\t') for line in text]\n",
    "births = [float(line[1]) for line in data]\n",
    "lifes = [float(line[2]) for line in data]\n",
    "data = list(zip(births, lifes))\n",
    "n_samples = len(data)\n",
    "data = np.asarray(data, dtype=np.float32)"
   ]
  },
  {
   "cell_type": "code",
   "execution_count": 3,
   "metadata": {
    "collapsed": true
   },
   "outputs": [],
   "source": [
    "tf.reset_default_graph() "
   ]
  },
  {
   "cell_type": "code",
   "execution_count": 4,
   "metadata": {
    "collapsed": true
   },
   "outputs": [],
   "source": [
    "X = tf.placeholder(dtype = tf.float32, shape = None, name = \"birth_rate\")\n",
    "Y = tf.placeholder(dtype = tf.float32, shape = None, name = \"life_expectancy\")"
   ]
  },
  {
   "cell_type": "code",
   "execution_count": 5,
   "metadata": {},
   "outputs": [
    {
     "name": "stdout",
     "output_type": "stream",
     "text": [
      "Tensor(\"birth_rate:0\", dtype=float32) Tensor(\"life_expectancy:0\", dtype=float32)\n"
     ]
    }
   ],
   "source": [
    "print(X,Y)"
   ]
  },
  {
   "cell_type": "code",
   "execution_count": 6,
   "metadata": {},
   "outputs": [
    {
     "name": "stdout",
     "output_type": "stream",
     "text": [
      "<tf.Variable 'Weights:0' shape=() dtype=float32_ref> <tf.Variable 'Bias:0' shape=() dtype=float32_ref>\n"
     ]
    }
   ],
   "source": [
    "# tf.get_variable , it checks if the variable is already created or not if not, create a new variable\n",
    "W = tf.get_variable(name = \"Weights\",initializer = 0.0,shape = None,dtype = tf.float32)\n",
    "B = tf.get_variable(name = \"Bias\",initializer = 0.0, shape = None,dtype = tf.float32)\n",
    "print(W,B)"
   ]
  },
  {
   "cell_type": "code",
   "execution_count": 7,
   "metadata": {
    "collapsed": true
   },
   "outputs": [],
   "source": [
    "Y_Predicted = X*W + B"
   ]
  },
  {
   "cell_type": "code",
   "execution_count": 8,
   "metadata": {},
   "outputs": [
    {
     "name": "stdout",
     "output_type": "stream",
     "text": [
      "Tensor(\"loss:0\", dtype=float32)\n"
     ]
    }
   ],
   "source": [
    "loss = tf.square(Y - Y_Predicted, name='loss')\n",
    "print(loss)"
   ]
  },
  {
   "cell_type": "code",
   "execution_count": 12,
   "metadata": {},
   "outputs": [
    {
     "name": "stdout",
     "output_type": "stream",
     "text": [
      "name: \"GradientDescent\"\n",
      "op: \"NoOp\"\n",
      "input: \"^GradientDescent/update_Weights/ApplyGradientDescent\"\n",
      "input: \"^GradientDescent/update_Bias/ApplyGradientDescent\"\n",
      "\n"
     ]
    }
   ],
   "source": [
    "optimizer  = tf.train.GradientDescentOptimizer(learning_rate=0.001).minimize(loss_h)\n",
    "print(optimizer)"
   ]
  },
  {
   "cell_type": "code",
   "execution_count": 13,
   "metadata": {
    "collapsed": true
   },
   "outputs": [],
   "source": [
    "start = time.time()"
   ]
  },
  {
   "cell_type": "code",
   "execution_count": 14,
   "metadata": {},
   "outputs": [
    {
     "name": "stdout",
     "output_type": "stream",
     "text": [
      "Epoch 0: 712.5349932218853\n",
      "Epoch 1: 480.1768338768106\n",
      "Epoch 2: 411.27837095009653\n",
      "Epoch 3: 381.143803016763\n",
      "Epoch 4: 363.96519568942387\n",
      "Epoch 5: 352.0028216342001\n",
      "Epoch 6: 342.65910039112754\n",
      "Epoch 7: 334.84100784196664\n",
      "Epoch 8: 327.9518736341282\n",
      "Epoch 9: 321.63482000235666\n",
      "Epoch 10: 315.6941960449968\n",
      "Epoch 11: 310.0039571509844\n",
      "Epoch 12: 304.4644903231608\n",
      "Epoch 13: 299.0284345306064\n",
      "Epoch 14: 293.6694770147926\n",
      "Epoch 15: 288.3639233997778\n",
      "Epoch 16: 283.0933333819634\n",
      "Epoch 17: 277.85644171355585\n",
      "Epoch 18: 272.6439291345446\n",
      "Epoch 19: 267.44677355952166\n",
      "Epoch 20: 262.2604390375855\n",
      "Epoch 21: 257.0869516860634\n",
      "Epoch 22: 251.93409620844758\n",
      "Epoch 23: 246.7978311511443\n",
      "Epoch 24: 241.68042829000441\n",
      "Epoch 25: 236.58249802497158\n",
      "Epoch 26: 231.50381602431207\n",
      "Epoch 27: 226.4469073355737\n",
      "Epoch 28: 221.41355832310785\n",
      "Epoch 29: 216.40122747868298\n",
      "Epoch 30: 211.41857506291646\n",
      "Epoch 31: 206.4636872577824\n",
      "Epoch 32: 201.5256608824981\n",
      "Epoch 33: 196.60663773480215\n",
      "Epoch 34: 191.69949661995236\n",
      "Epoch 35: 186.81957386904642\n",
      "Epoch 36: 181.97026195526124\n",
      "Epoch 37: 177.15822704340283\n",
      "Epoch 38: 172.36515824982993\n",
      "Epoch 39: 167.59127469086334\n",
      "Epoch 40: 162.8461132945983\n",
      "Epoch 41: 158.1302945310348\n",
      "Epoch 42: 153.4446832491379\n",
      "Epoch 43: 148.78938361339664\n",
      "Epoch 44: 144.17467782383687\n",
      "Epoch 45: 139.59350521709572\n",
      "Epoch 46: 135.0799269277359\n",
      "Epoch 47: 130.61376950433967\n",
      "Epoch 48: 126.20577719486073\n",
      "Epoch 49: 121.83948346442224\n",
      "Epoch 50: 117.53008066379407\n",
      "Epoch 51: 113.27451417348163\n",
      "Epoch 52: 109.09293648436372\n",
      "Epoch 53: 104.98878251981422\n",
      "Epoch 54: 100.96831291019916\n",
      "Epoch 55: 97.04090007381073\n",
      "Epoch 56: 93.20598697668848\n",
      "Epoch 57: 89.44805010246407\n",
      "Epoch 58: 85.79511913707185\n",
      "Epoch 59: 82.24485294783587\n",
      "Epoch 60: 78.81007368673913\n",
      "Epoch 61: 75.46468300612055\n",
      "Epoch 62: 72.22824628802114\n",
      "Epoch 63: 69.0970203716504\n",
      "Epoch 64: 66.07316139007085\n",
      "Epoch 65: 63.17249699153364\n",
      "Epoch 66: 60.39144998395717\n",
      "Epoch 67: 57.732441508548185\n",
      "Epoch 68: 55.18886458672289\n",
      "Epoch 69: 52.765521257783064\n",
      "Epoch 70: 50.44132069787501\n",
      "Epoch 71: 48.232464265970414\n",
      "Epoch 72: 46.147971851262916\n",
      "Epoch 73: 44.156567127835984\n",
      "Epoch 74: 42.26910537076428\n",
      "Epoch 75: 40.4945643139905\n",
      "Epoch 76: 38.82137201415179\n",
      "Epoch 77: 37.26528371417601\n",
      "Epoch 78: 35.80452302174741\n",
      "Epoch 79: 34.42864761231957\n",
      "Epoch 80: 33.14079166570399\n",
      "Epoch 81: 31.935278984857725\n",
      "Epoch 82: 30.806799320126025\n",
      "Epoch 83: 29.74883725124926\n",
      "Epoch 84: 28.75753059838163\n",
      "Epoch 85: 27.828843814313508\n",
      "Epoch 86: 26.95892982277774\n",
      "Epoch 87: 26.143821478840945\n",
      "Epoch 88: 25.38612711686935\n",
      "Epoch 89: 24.68093857832351\n",
      "Epoch 90: 24.01969862843781\n",
      "Epoch 91: 23.411343748113875\n",
      "Epoch 92: 22.841170396880205\n",
      "Epoch 93: 22.30823898453535\n",
      "Epoch 94: 21.810646478993522\n",
      "Epoch 95: 21.345948342074593\n",
      "Epoch 96: 20.91201211649214\n",
      "Epoch 97: 20.5068725735208\n",
      "Epoch 98: 20.12850519813058\n",
      "Epoch 99: 19.7766584059922\n",
      "Epoch 100: 19.44776971611366\n",
      "Epoch 101: 19.140232045574137\n",
      "Epoch 102: 18.85285928501674\n",
      "Epoch 103: 18.584690317151438\n",
      "Epoch 104: 18.33433819110766\n",
      "Epoch 105: 18.10071299829318\n",
      "Epoch 106: 17.882765202430278\n",
      "Epoch 107: 17.679340816938662\n",
      "Epoch 108: 17.489506946937304\n",
      "Epoch 109: 17.31236636782399\n",
      "Epoch 110: 17.147132454539257\n",
      "Epoch 111: 16.992865229706513\n",
      "Epoch 112: 16.848989264522434\n",
      "Epoch 113: 16.714744662758157\n",
      "Epoch 114: 16.58961681701108\n",
      "Epoch 115: 16.472865738592258\n",
      "Epoch 116: 16.363965087516945\n",
      "Epoch 117: 16.26251352359541\n",
      "Epoch 118: 16.167784450116176\n",
      "Epoch 119: 16.07949615646411\n",
      "Epoch 120: 15.997153819585373\n",
      "Epoch 121: 15.920413070769467\n",
      "Epoch 122: 15.848848664847749\n",
      "Epoch 123: 15.782134081922031\n",
      "Epoch 124: 15.719933012887639\n",
      "Epoch 125: 15.661937317296887\n",
      "Epoch 126: 15.6079368178627\n",
      "Epoch 127: 15.557641345033373\n",
      "Epoch 128: 15.510684569876053\n",
      "Epoch 129: 15.467009442596158\n",
      "Epoch 130: 15.426315139159316\n",
      "Epoch 131: 15.388391771922992\n",
      "Epoch 132: 15.353103660042766\n",
      "Epoch 133: 15.320224233221655\n",
      "Epoch 134: 15.289598218861379\n",
      "Epoch 135: 15.261124753638319\n",
      "Epoch 136: 15.234597089781278\n",
      "Epoch 137: 15.209946079350285\n",
      "Epoch 138: 15.186970237713755\n",
      "Epoch 139: 15.165667977518751\n",
      "Epoch 140: 15.145761520898361\n",
      "Epoch 141: 15.127303674667584\n",
      "Epoch 142: 15.110122479695066\n",
      "Epoch 143: 15.094162347130508\n",
      "Epoch 144: 15.079305324585967\n",
      "Epoch 145: 15.06554642145914\n",
      "Epoch 146: 15.05271871353953\n",
      "Epoch 147: 15.040810203600037\n",
      "Epoch 148: 15.029775713616369\n",
      "Epoch 149: 15.01955319579176\n",
      "Epoch 150: 15.010015305071015\n",
      "Epoch 151: 15.00119750129402\n",
      "Epoch 152: 14.992998564002866\n",
      "Epoch 153: 14.985379317954319\n",
      "Epoch 154: 14.97831047226102\n",
      "Epoch 155: 14.971837390222783\n",
      "Epoch 156: 14.965756399152758\n",
      "Epoch 157: 14.960198610310295\n",
      "Epoch 158: 14.955005932555345\n",
      "Epoch 159: 14.950203517359975\n",
      "Epoch 160: 14.945767563504265\n",
      "Epoch 161: 14.941684416264884\n",
      "Epoch 162: 14.937918517944796\n",
      "Epoch 163: 14.934409436631311\n",
      "Epoch 164: 14.931199403922687\n",
      "Epoch 165: 14.92823189193824\n",
      "Epoch 166: 14.92549592201647\n",
      "Epoch 167: 14.922963995403169\n",
      "Epoch 168: 14.920640243727126\n",
      "Epoch 169: 14.918523328717013\n",
      "Epoch 170: 14.916549761029646\n",
      "Epoch 171: 14.914725441769942\n",
      "Epoch 172: 14.913090194521569\n",
      "Epoch 173: 14.911586755455325\n",
      "Epoch 174: 14.910186109044835\n",
      "Epoch 175: 14.908949233248437\n",
      "Epoch 176: 14.90777462287806\n",
      "Epoch 177: 14.906736697430576\n",
      "Epoch 178: 14.905776373125416\n",
      "Epoch 179: 14.90490679207356\n",
      "Epoch 180: 14.904100247097544\n",
      "Epoch 181: 14.903379676682189\n",
      "Epoch 182: 14.902755661977848\n",
      "Epoch 183: 14.902161974146178\n",
      "Epoch 184: 14.90162571287763\n",
      "Epoch 185: 14.90118097380833\n",
      "Epoch 186: 14.900739071449559\n",
      "Epoch 187: 14.900374827228829\n",
      "Epoch 188: 14.90004222755884\n",
      "Epoch 189: 14.89976739335413\n",
      "Epoch 190: 14.899485617987567\n",
      "Epoch 191: 14.899274229650434\n",
      "Epoch 192: 14.899086639731141\n",
      "Epoch 193: 14.898922049680627\n",
      "Epoch 194: 14.898772784474453\n",
      "Epoch 195: 14.898663505255\n",
      "Epoch 196: 14.898583152265239\n",
      "Epoch 197: 14.898488108747589\n",
      "Epoch 198: 14.898441787094098\n",
      "Epoch 199: 14.898388151508314\n",
      "Epoch 200: 14.898382902237293\n",
      "Epoch 201: 14.8983556929988\n",
      "Epoch 202: 14.898370028716684\n",
      "Epoch 203: 14.898368564298327\n",
      "Epoch 204: 14.89840515491087\n",
      "Epoch 205: 14.898410514416787\n",
      "Epoch 206: 14.898472010812378\n",
      "Epoch 207: 14.898510800891458\n",
      "Epoch 208: 14.898551406266511\n",
      "Epoch 209: 14.8986158749274\n",
      "Epoch 210: 14.898681358240642\n",
      "Epoch 211: 14.898739012419002\n",
      "Epoch 212: 14.898813608380825\n",
      "Epoch 213: 14.89888230638983\n",
      "Epoch 214: 14.89894579635063\n",
      "Epoch 215: 14.899042205300525\n",
      "Epoch 216: 14.899105751303814\n",
      "Epoch 217: 14.89919126294691\n",
      "Epoch 218: 14.899275962237152\n",
      "Epoch 219: 14.899355505263483\n",
      "Epoch 220: 14.89944566401843\n",
      "Epoch 221: 14.899525331727867\n",
      "Epoch 222: 14.899624128439035\n",
      "Epoch 223: 14.899714735628406\n",
      "Epoch 224: 14.89977828064569\n",
      "Epoch 225: 14.89987081546033\n",
      "Epoch 226: 14.89994115454687\n",
      "Epoch 227: 14.900024015454141\n",
      "Epoch 228: 14.900121433912519\n",
      "Epoch 229: 14.900199899511216\n",
      "Epoch 230: 14.900281471390993\n",
      "Epoch 231: 14.900361048660738\n",
      "Epoch 232: 14.900453864002607\n",
      "Epoch 233: 14.90052337331198\n",
      "Epoch 234: 14.900590374598151\n",
      "Epoch 235: 14.900666334973128\n",
      "Epoch 236: 14.900750950078853\n",
      "Epoch 237: 14.900800351234379\n",
      "Epoch 238: 14.900875961022164\n",
      "Epoch 239: 14.90094901396078\n",
      "Epoch 240: 14.901004882153938\n",
      "Epoch 241: 14.901086976043542\n",
      "Epoch 242: 14.901149310896749\n",
      "Epoch 243: 14.901201118194303\n",
      "Epoch 244: 14.90126680173179\n",
      "Epoch 245: 14.901323241711209\n",
      "Epoch 246: 14.901380322871448\n",
      "Epoch 247: 14.901438172574853\n",
      "Epoch 248: 14.901503608394782\n",
      "Epoch 249: 14.901564043500663\n"
     ]
    }
   ],
   "source": [
    "with tf.Session() as sess:\n",
    "    sess.run(tf.global_variables_initializer())\n",
    "    writer = tf.summary.FileWriter(\"C:/Users/USX28939/PYTHON_CODE_BASE/graphs\",sess.graph)\n",
    "    for i in range(250):\n",
    "        total_loss = 0\n",
    "        for x, y in data:\n",
    "            \n",
    "            _,l = sess.run([optimizer, loss_h], feed_dict = {X:x,Y:y})\n",
    "            total_loss += l\n",
    "\n",
    "        print('Epoch {0}: {1}'.format(i, total_loss/n_samples))\n",
    "    \n",
    "    writer.close()\n",
    "    w_value , b_value = sess.run([W,B])"
   ]
  },
  {
   "cell_type": "code",
   "execution_count": 15,
   "metadata": {
    "scrolled": true
   },
   "outputs": [
    {
     "data": {
      "image/png": "[encoded data removed]",
      "text/plain": [
       "<matplotlib.figure.Figure at 0xdb8e898>"
      ]
     },
     "metadata": {},
     "output_type": "display_data"
    }
   ],
   "source": [
    "X_X,Y_Y = data.T[0], data.T[1]\n",
    "plt.plot(X_X,Y_Y, \"bo\",label = \"Real_data\")\n",
    "plt.plot(X_X,X_X*w_value + b_value, \"r\",label = \"Predicted_data\")\n",
    "plt.legend()\n",
    "plt.show()"
   ]
  },
  {
   "cell_type": "code",
   "execution_count": 14,
   "metadata": {},
   "outputs": [
    {
     "data": {
      "image/png": "[encoded data removed]",
      "text/plain": [
       "<matplotlib.figure.Figure at 0xd89be10>"
      ]
     },
     "metadata": {},
     "output_type": "display_data"
    }
   ],
   "source": [
    "X_X,Y_Y = data.T[0], data.T[1]\n",
    "#plt.plot(X_X,Y_Y, \"bo\",label = \"Real_data\")\n",
    "y_pre =  X_X*w_value + b_value\n",
    "plt.plot(Y_Y,y_pre, \"go\",label = \"Predicted_data(y axis) vs actual data( x axis) \")\n",
    "plt.legend()\n",
    "plt.show()"
   ]
  },
  {
   "cell_type": "markdown",
   "metadata": {},
   "source": [
    "# Huber Loss"
   ]
  },
  {
   "cell_type": "markdown",
   "metadata": {},
   "source": [
    "This is used if there are outliers in the data which makes the overall square error value too large.\n",
    "If the difference between the predicted value and the real value is smaller than a delta value, square it\n",
    "If it’s large, take its absolute value\n"
   ]
  },
  {
   "cell_type": "code",
   "execution_count": 10,
   "metadata": {
    "collapsed": true
   },
   "outputs": [],
   "source": [
    "def huber_loss(labels, predictions, delta=14.0):\n",
    "    residual = tf.abs(labels - predictions, name = \"Residual\")\n",
    "    def f1(): return 0.5 * tf.square(residual)\n",
    "    def f2(): return delta * residual - 0.5 * tf.square(delta)\n",
    "    return tf.cond(residual < delta, f1, f2)"
   ]
  },
  {
   "cell_type": "code",
   "execution_count": 11,
   "metadata": {
    "collapsed": true
   },
   "outputs": [],
   "source": [
    "loss_h = huber_loss(Y,Y_Predicted)"
   ]
  },
  {
   "cell_type": "code",
   "execution_count": null,
   "metadata": {
    "collapsed": true
   },
   "outputs": [],
   "source": []
  }
 ],
 "metadata": {
  "kernelspec": {
   "display_name": "Python 3",
   "language": "python",
   "name": "python3"
  },
  "language_info": {
   "codemirror_mode": {
    "name": "ipython",
    "version": 3
   },
   "file_extension": ".py",
   "mimetype": "text/x-python",
   "name": "python",
   "nbconvert_exporter": "python",
   "pygments_lexer": "ipython3",
   "version": "3.6.1"
  }
 },
 "nbformat": 4,
 "nbformat_minor": 2
}
