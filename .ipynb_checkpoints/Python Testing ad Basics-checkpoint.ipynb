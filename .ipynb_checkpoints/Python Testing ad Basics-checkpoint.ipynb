{
 "cells": [
  {
   "cell_type": "code",
   "execution_count": 1,
   "metadata": {},
   "outputs": [],
   "source": [
    "import numpy as np\n",
    "import pandas as pd"
   ]
  },
  {
   "cell_type": "markdown",
   "metadata": {},
   "source": [
    "There are four collection data types in the Python programming language:\n",
    "\n",
    "1) List is a collection which is indexed and ordered(meaning, The elements have a defined order. )\n",
    "d= [11,2,3,]\n",
    "\n",
    "2) Tuple is a collection which is ordered and unchangeable. Allows duplicate members. It is represented by parentheses.\n",
    "    a = (1,2,3,4)\n",
    "\n",
    "3) Set is a collection which is unordered and unindexed. No duplicate members.It is represented by by curly({) bracket.\n",
    "    b=  {1,2,3,4,}\n",
    "    Frozen Sets Frozen sets are immutable objects that only support methods and operators that produce a result without     a?ecting the frozen set or sets to which they are applied.\n",
    "    frozen_set = frozenset([\"e\", \"f\", \"g\"]) \n",
    "\n",
    "4) Dictionary is a collection which is unordered, changeable and indexed. No duplicate members.It is represented by curly({) bracket.\n",
    "    c=  {\"A\":34,\"B\":33}\n",
    "    \n",
    "\n",
    "http://www.thelearningpoint.net/computer-science/learning-python-programming-and-data-structures/learning-python-programming-and-data-structures--tutorial-4--built-in-data-structures-strings-lists-tuples-dictionaries-mutability"
   ]
  },
  {
   "cell_type": "markdown",
   "metadata": {},
   "source": [
    "Tuples are fixed size in nature whereas lists are dynamic.\n",
    "In other words, a tuple is immutable whereas a list is mutable.\n",
    "\n",
    "You can't add elements to a tuple. Tuples have no append or extend method.\n",
    "You can't remove elements from a tuple. Tuples have no remove or pop method.\n",
    "You can find elements in a tuple, since this doesn’t change the tuple.\n",
    "You can also use the in operator to check if an element exists in the tuple.\n",
    "Tuples are faster than lists. If you're defining a constant set of values and all you're ever going to do with it is iterate through it, use a tuple instead of a list.\n",
    "\n",
    "It makes your code safer if you “write-protect” data that does not need to be changed. Using a tuple instead of a list is like having an implied assert statement that this data is constant, and that special thought (and a specific function) is required to override that.\n",
    "\n",
    "Some tuples can be used as dictionary keys (specifically, tuples that contain immutable values like strings, numbers, and other tuples). Lists can never be used as dictionary keys, because lists are not immutable.\n",
    "\n",
    "Source: Dive into Python "
   ]
  },
  {
   "cell_type": "markdown",
   "metadata": {},
   "source": [
    "<b>Python tuples and lists are ordered, but dictionaries and sets are not ordered</b>  \n",
    "if you put a few key/value pairs into a dictionary, they won't be in the order you added them, whereas new values would be appended to the end of lists/tuples as you add them. \n",
    "\n",
    "make a dictionary of a couple name/age pairs or something simple, then try printing out every item in the dict you made; try the same thing with a list of anything"
   ]
  },
  {
   "cell_type": "markdown",
   "metadata": {},
   "source": [
    "# List Operations"
   ]
  },
  {
   "cell_type": "code",
   "execution_count": 158,
   "metadata": {},
   "outputs": [
    {
     "name": "stdout",
     "output_type": "stream",
     "text": [
      "1\n",
      "6\n",
      "\n",
      "List with the use of String: \n",
      "['GeeksForGeeks']\n",
      "\n",
      "List with the use of in built list function: \n",
      "['G', 'e', 'e', 'k', 's', 'F', 'o', 'r', 'G', 'e', 'e', 'k', 's']\n"
     ]
    }
   ],
   "source": [
    "arr = list()\n",
    "# or simply\n",
    "arr = []\n",
    "arr = [1,2,3]\n",
    "print(arr[0])\n",
    "# result is 1\n",
    "print (arr[0] + arr[1] + arr[2])\n",
    "# result is 6\n",
    "List = ['GeeksForGeeks'] \n",
    "print(\"\\nList with the use of String: \") \n",
    "print(List) \n",
    "List = list('GeeksForGeeks')\n",
    "print(\"\\nList with the use of in built list function: \") \n",
    "print(List) "
   ]
  },
  {
   "cell_type": "markdown",
   "metadata": {},
   "source": [
    "Elements can be added to the List by using built-in append() function. Only one element at a time can be added to the list by using append() method, for addition of multiple elements with the append() method, loops are used. \n",
    "append() method only works for addition of elements at the end of the List, for addition of element at the desired position, insert() method is used.  \n",
    "Unlike append() which takes only one argument, insert() method requires two arguments(position, value). Other than append() and insert() methods,  \n",
    "extend(), this method is used to add multiple elements at the same time at the end of the list.\n"
   ]
  },
  {
   "cell_type": "code",
   "execution_count": 126,
   "metadata": {},
   "outputs": [
    {
     "name": "stdout",
     "output_type": "stream",
     "text": [
      "Original list: [77, 77, 11, 10, 10, 3, 2]\n",
      "Appending 9: [77, 77, 11, 10, 10, 3, 2, 9]\n",
      "Extend [10,11]: [77, 77, 11, 10, 10, 3, 2, 9, 10, 11]\n",
      "Insert 77 at index 3: [77, 77, 11, 77, 10, 10, 3, 2, 9, 10, 11]\n",
      "Remove 9: [77, 77, 11, 77, 10, 10, 3, 2, 10, 11]\n",
      "Pop the last element out: 11\n",
      "First Index of a value in list : 6\n",
      "Count the occurance of an element in list 3\n",
      "Sort: [2, 3, 10, 10, 10, 11, 77, 77, 77]\n",
      "Reverse: [77, 77, 77, 11, 10, 10, 10, 3, 2]\n",
      "another way to reverse the list [2, 3, 10, 10, 10, 11, 77, 77, 77]\n"
     ]
    }
   ],
   "source": [
    "#Adds a single element x to the end of a list.\n",
    "print(\"Original list:\",arr)\n",
    "arr.append(9) \n",
    "print(\"Appending 9:\", arr)\n",
    "#Merges another list L to the end.\n",
    "arr.extend([10,11])\n",
    "print(\"Extend [10,11]:\",arr)\n",
    "#Inserts element x at position i.\n",
    "arr.insert(3,77)\n",
    "print(\"Insert 77 at index 3:\",arr)\n",
    "#Removes the first occurrence of element x.\n",
    "arr.remove(9)\n",
    "print(\"Remove 9:\",arr)\n",
    "#Removes the last element of a list. If an argument is passed, that index item is popped out.\n",
    "print(\"Pop the last element out:\",arr.pop())\n",
    "#Returns the first index of a value in the list. Throws an error if it's not found.\n",
    "print(\"First Index of a value in list :\",arr.index(3))\n",
    "#Counts the number of occurrences of an element x.\n",
    "print(\"Count the occurance of an element in list\",arr.count(77))\n",
    "#Sorts the list.\n",
    "arr.sort()\n",
    "print(\"Sort:\",arr)\n",
    "#Reverses the list.\n",
    "arr.reverse()\n",
    "print(\"Reverse:\", arr)\n",
    "print(\"another way to reverse the list\",arr[::-1])"
   ]
  },
  {
   "cell_type": "code",
   "execution_count": 128,
   "metadata": {},
   "outputs": [
    {
     "data": {
      "text/plain": [
       "[1, 1, 1, 2, 2, 2, 2, 3, 3, 1, 3, 2]"
      ]
     },
     "execution_count": 128,
     "metadata": {},
     "output_type": "execute_result"
    }
   ],
   "source": [
    "li=[1,6,9,22,31,42,54,908,658,4,785,95]\n",
    "[len(str(li[i])) for i in range(len(li))]"
   ]
  },
  {
   "cell_type": "code",
   "execution_count": 124,
   "metadata": {},
   "outputs": [
    {
     "name": "stdout",
     "output_type": "stream",
     "text": [
      "5\n",
      "3.7142857142857144\n",
      "3\n"
     ]
    }
   ],
   "source": [
    "print(26 % 7) #(you will get remainder)\n",
    "\n",
    "print(26 / 7) #(you will get divisor can be float value )\n",
    "\n",
    "print(26 // 7) #(you will get divisor only integer value) )"
   ]
  },
  {
   "cell_type": "markdown",
   "metadata": {},
   "source": [
    "# List Comprehensions vs Generator Expressions"
   ]
  },
  {
   "cell_type": "code",
   "execution_count": 130,
   "metadata": {},
   "outputs": [
    {
     "name": "stdout",
     "output_type": "stream",
     "text": [
      "[0, 2, 4, 6, 8, 10]\n"
     ]
    }
   ],
   "source": [
    "list_comprehension = [i for i in range(11) if i % 2 == 0] \n",
    "print(list_comprehension)"
   ]
  },
  {
   "cell_type": "markdown",
   "metadata": {},
   "source": [
    "generator expression: syntax difference is paranthesis vs square bracket"
   ]
  },
  {
   "cell_type": "code",
   "execution_count": 133,
   "metadata": {},
   "outputs": [
    {
     "name": "stdout",
     "output_type": "stream",
     "text": [
      "<generator object <genexpr> at 0x000001A90E93A518>\n",
      "0 2 4 6 8 10 "
     ]
    }
   ],
   "source": [
    "generator_expression = (i for i in range(11) if i % 2 == 0)  \n",
    "print(generator_expression) \n",
    "for i in generator_expression: \n",
    "    print(i, end=\" \") "
   ]
  },
  {
   "cell_type": "markdown",
   "metadata": {},
   "source": [
    "So what’s the difference between Generator Expressions and List Comprehensions?\n",
    "The generator yields one item at a time and generates item only when in demand. Whereas, in a list comprehension, Python reserves memory for the whole list. Thus we can say that the generator expressions are memory efficient than the lists.  <br> Generator expression are faster and memory efficient"
   ]
  },
  {
   "cell_type": "markdown",
   "metadata": {},
   "source": [
    "# Sets"
   ]
  },
  {
   "cell_type": "markdown",
   "metadata": {},
   "source": [
    "<b>In Python, Set is an unordered and unindex collection of data type that is iterable, mutable and has no duplicate elements</b>.  Set in Python is equivalent to sets in mathematics. The order of elements in a set is undefined though it may consist of various elements. Elements of a set can be added and deleted, elements of the set can be iterated, various standard operations (union, intersection, difference) can be performed on sets. Besides that, the major advantage of using a set, as opposed to a list, is that it has a highly optimized method for checking whether a specific element is contained in the set."
   ]
  },
  {
   "cell_type": "markdown",
   "metadata": {},
   "source": [
    "You cannot access items in a set by referring to an index, since sets are unordered the items has no index.\n",
    "\n",
    "But you can loop through the set items using a for loop, or ask if a specified value is present in a set, by using the in keyword.  \n",
    "Once a set is created, you cannot change its items, but you can add new items."
   ]
  },
  {
   "cell_type": "code",
   "execution_count": 194,
   "metadata": {},
   "outputs": [
    {
     "data": {
      "text/plain": [
       "{'a', 'b'}"
      ]
     },
     "execution_count": 194,
     "metadata": {},
     "output_type": "execute_result"
    }
   ],
   "source": [
    "myset = {1, 2} # Directly assigning values to a set\n",
    "myset = set()  # Initializing a set\n",
    "myset = set(['a', 'b']) # Creating a set from a list\n",
    "frozen_set = frozenset([\"e\", \"f\", \"g\"]) \n",
    "myset"
   ]
  },
  {
   "cell_type": "markdown",
   "metadata": {},
   "source": [
    "<b>Frozen sets</b> in Python are immutable objects that only support methods and operators that produce a result without affecting the frozen set or sets to which they are applied. While elements of a set can be modified at any time, elements of the frozen set remain the same after creation."
   ]
  },
  {
   "cell_type": "markdown",
   "metadata": {},
   "source": [
    "## MODIFYING SETS"
   ]
  },
  {
   "cell_type": "markdown",
   "metadata": {},
   "source": [
    "add() function  \n",
    "adds an individual element to the set  \n",
    "cannot work with an iterable, unless it is hashable."
   ]
  },
  {
   "cell_type": "code",
   "execution_count": 197,
   "metadata": {},
   "outputs": [
    {
     "data": {
      "text/plain": [
       "'b'"
      ]
     },
     "execution_count": 197,
     "metadata": {},
     "output_type": "execute_result"
    }
   ],
   "source": [
    "myset.add('c')\n",
    "myset\n",
    "myset.add('a') # As 'a' already exists in the set, nothing happens\n",
    "myset.add((5, 4))\n",
    "myset\n",
    "myset.pop()\n",
    "# See below the way elements are added is not same as the way they are printed. that is why they are unordered"
   ]
  },
  {
   "cell_type": "markdown",
   "metadata": {},
   "source": [
    "update() function  \n",
    "you can pass multiple iterables to it and it will iterate all iterables and will include the individual elements in the set. Remember: It can accept only iterables"
   ]
  },
  {
   "cell_type": "code",
   "execution_count": 9,
   "metadata": {},
   "outputs": [
    {
     "name": "stdout",
     "output_type": "stream",
     "text": [
      "{1, (5, 4), 2, 3, 4, 'c', 'a', 'b'}\n",
      "{1, (5, 4), 2, 3, 4, 7, 8, 'c', 'a', 'b'}\n",
      "{1, (5, 4), 2, 3, 4, 6, 7, 8, 'c', 5, 13, 'a', 'b'}\n"
     ]
    }
   ],
   "source": [
    "myset.update([1, 2, 3, 4]) # update() only works for iterable objects\n",
    "print(myset)\n",
    "myset.update({1, 7, 8})\n",
    "print(myset)\n",
    "myset.update({1, 6}, [5, 13])\n",
    "print(myset)"
   ]
  },
  {
   "cell_type": "code",
   "execution_count": 11,
   "metadata": {},
   "outputs": [
    {
     "name": "stdout",
     "output_type": "stream",
     "text": [
      "{2, 4, 5, 9, 11, 12}\n",
      "{2, 4}\n",
      "{9, 5}\n"
     ]
    }
   ],
   "source": [
    "a = {2, 4, 5, 9}\n",
    "b = {2, 4, 11, 12}\n",
    "print(a.union(b)) # Values which exist in a or b\n",
    "print(a.intersection(b)) # Values which exist in a and b\n",
    "print(a.difference(b)) # Values which exist in a but not in b"
   ]
  },
  {
   "cell_type": "code",
   "execution_count": 209,
   "metadata": {},
   "outputs": [
    {
     "name": "stdout",
     "output_type": "stream",
     "text": [
      "Set1 =  {1, 2, 3, 4, 5}\n",
      "Set2 =  {3, 4, 5, 6, 7}\n",
      "\n",
      "\n",
      "Union of Set1 & Set2: Set3 =  {1, 2, 3, 4, 5, 6, 7}\n",
      "Intersection of Set1 & Set2: Set4 =  {3, 4, 5}\n",
      "\n",
      "\n",
      "Set3 is superset of Set4\n",
      "Set4 is subset of Set3\n",
      "\n",
      "\n",
      "Elements in Set3 and not in Set4: Set5 =  {1, 2, 6, 7}\n",
      "\n",
      "\n",
      "Set4 and Set5 have nothing in common\n",
      "\n",
      "After applying clear on sets Set5: \n",
      "Set5 =  set()\n",
      "Set1 {1, 2, 3, 4, 5} and Set2 {3, 4, 5, 6, 7}\n",
      "After Difference Set1 {1, 2, 3, 4, 5} and Set2 {3, 4, 5, 6, 7}\n",
      "set Symmetric difference {1, 2, 6, 7} and Symmetric difference_update None\n",
      "After Difference Set1 {1, 2, 6, 7} and Set2 {3, 4, 5, 6, 7}\n"
     ]
    }
   ],
   "source": [
    "# Python program to demonstrate working# of \n",
    "# Set in Python \n",
    "\n",
    "# Creating two sets \n",
    "set1 = set() \n",
    "set2 = set() \n",
    "\n",
    "# Adding elements to set1 \n",
    "for i in range(1, 6): \n",
    "\tset1.add(i) \n",
    "\n",
    "# Adding elements to set2 \n",
    "for i in range(3, 8): \n",
    "\tset2.add(i) \n",
    "\n",
    "print(\"Set1 = \", set1) \n",
    "print(\"Set2 = \", set2) \n",
    "print(\"\\n\") \n",
    "\n",
    "# Union of set1 and set2 \n",
    "set3 = set1 | set2# set1.union(set2) \n",
    "print(\"Union of Set1 & Set2: Set3 = \", set3) \n",
    "\n",
    "# Intersection of set1 and set2 \n",
    "set4 = set1 & set2# set1.intersection(set2) \n",
    "print(\"Intersection of Set1 & Set2: Set4 = \", set4) \n",
    "print(\"\\n\") \n",
    "\n",
    "# Checking relation between set3 and set4 \n",
    "if set3 > set4: # set3.issuperset(set4) \n",
    "\tprint(\"Set3 is superset of Set4\") \n",
    "elif set3 < set4: # set3.issubset(set4) \n",
    "\tprint(\"Set3 is subset of Set4\") \n",
    "else : # set3 == set4 \n",
    "\tprint(\"Set3 is same as Set4\") \n",
    "\n",
    "# displaying relation between set4 and set3 \n",
    "if set4 < set3: # set4.issubset(set3) \n",
    "\tprint(\"Set4 is subset of Set3\") \n",
    "\tprint(\"\\n\") \n",
    "\n",
    "# difference between set3 and set4 \n",
    "set5 = set3 - set4 \n",
    "print(\"Elements in Set3 and not in Set4: Set5 = \", set5) \n",
    "print(\"\\n\") \n",
    "\n",
    "# checkv if set4 and set5 are disjoint sets \n",
    "if set4.isdisjoint(set5): \n",
    "\tprint(\"Set4 and Set5 have nothing in common\\n\") \n",
    "\n",
    "# Removing all the values of set5 \n",
    "set5.clear() \n",
    "\n",
    "print(\"After applying clear on sets Set5: \") \n",
    "print(\"Set5 = \", set5)\n",
    "\n",
    "print(\"Set1 {} and Set2 {}\".format(set1,set2))\n",
    "#print(\"Set difference {} and difference_update {}\".format(set1.difference(set2), set1.difference_update(set2)))\n",
    "print(\"After Difference Set1 {} and Set2 {}\".format(set1,set2))\n",
    "\n",
    "# The symmetric difference of two sets A and B is the set of elements which are in either of the sets A or B \n",
    "#but not in both.\n",
    "print(\"set Symmetric difference {} and Symmetric difference_update {}\"\n",
    "      .format(set1.symmetric_difference(set2), set1.symmetric_difference_update(set2)))\n",
    "print(\"After Difference Set1 {} and Set2 {}\".format(set1,set2))"
   ]
  },
  {
   "cell_type": "markdown",
   "metadata": {},
   "source": [
    "## Strings "
   ]
  },
  {
   "cell_type": "markdown",
   "metadata": {},
   "source": [
    "In Python, Strings are arrays of bytes representing Unicode characters. However, Python does not have a character data type, a single character is simply a string with a length of 1. Square brackets can be used to access elements of the string."
   ]
  },
  {
   "cell_type": "markdown",
   "metadata": {},
   "source": [
    "String in single quotes cannot hold any other single quoted character in it otherwise an error arises because the compiler won’t recognize where to start and end the string. To overcome this error, use of double quotes is preferred, because it helps in creation of Strings with single quotes in them. For strings which contain Double quoted words in them, use of triple quotes is suggested. Along with this, triple quotes also allow the creation of multiline strings."
   ]
  },
  {
   "cell_type": "code",
   "execution_count": 134,
   "metadata": {},
   "outputs": [
    {
     "name": "stdout",
     "output_type": "stream",
     "text": [
      "String with the use of Single Quotes: \n",
      "Welcome to the Geeks World\n",
      "\n",
      "String with the use of Double Quotes: \n",
      "I'm a Geek\n",
      "\n",
      "String with the use of Triple Quotes: \n",
      "I'm a Geek and I live in a world of \"Geeks\"\n",
      "\n",
      "Creating a multiline String: \n",
      "Geeks \n",
      "            For \n",
      "            Life\n"
     ]
    }
   ],
   "source": [
    "# Creating a String  \n",
    "# with single Quotes \n",
    "String1 = 'Welcome to the Geeks World'\n",
    "print(\"String with the use of Single Quotes: \") \n",
    "print(String1) \n",
    "  \n",
    "# Creating a String \n",
    "# with double Quotes \n",
    "String1 = \"I'm a Geek\"\n",
    "print(\"\\nString with the use of Double Quotes: \") \n",
    "print(String1) \n",
    "  \n",
    "# Creating a String \n",
    "# with triple Quotes \n",
    "String1 = '''I'm a Geek and I live in a world of \"Geeks\"'''\n",
    "print(\"\\nString with the use of Triple Quotes: \") \n",
    "print(String1) \n",
    "  \n",
    "# Creating String with triple \n",
    "# Quotes allows multiple lines \n",
    "String1 = '''Geeks \n",
    "            For \n",
    "            Life'''\n",
    "print(\"\\nCreating a multiline String: \") \n",
    "print(String1) "
   ]
  },
  {
   "cell_type": "code",
   "execution_count": 142,
   "metadata": {},
   "outputs": [
    {
     "data": {
      "text/plain": [
       "('Life', 'Geek')"
      ]
     },
     "execution_count": 142,
     "metadata": {},
     "output_type": "execute_result"
    }
   ],
   "source": [
    "String1[-4:],String1[:4]"
   ]
  },
  {
   "cell_type": "markdown",
   "metadata": {},
   "source": [
    "In Python, <b>Updation or deletion of characters from a String is not allowed</b>. This will cause an error because item assignment or item deletion from a String is not supported. Although deletion of entire String is possible with the use of a built-in del keyword. This is because Strings are immutable, hence elements of a String cannot be changed once it has been assigned. Only new strings can be reassigned to the same name."
   ]
  },
  {
   "cell_type": "markdown",
   "metadata": {},
   "source": [
    "While printing Strings with single and double quotes in it causes SyntaxError because String already contains Single and Double Quotes and hence cannot be printed with the use of either of these. Hence, to print such a String either Triple Quotes are used or Escape sequences are used to print such Strings.\n",
    "Escape sequences start with a backslash and can be interpreted differently. If single quotes are used to represent a string, then all the single quotes present in the string must be escaped and same is done for Double Quotes."
   ]
  },
  {
   "cell_type": "code",
   "execution_count": 143,
   "metadata": {},
   "outputs": [
    {
     "name": "stdout",
     "output_type": "stream",
     "text": [
      "Initial String with use of Triple Quotes: \n",
      "I'm a \"Geek\"\n",
      "\n",
      "Escaping Single Quote: \n",
      "I'm a \"Geek\"\n",
      "\n",
      "Escaping Double Quotes: \n",
      "I'm a \"Geek\"\n",
      "\n",
      "Escaping Backslashes: \n",
      "C:\\Python\\Geeks\\\n"
     ]
    }
   ],
   "source": [
    "# Initial String \n",
    "String1 = '''I'm a \"Geek\"'''\n",
    "print(\"Initial String with use of Triple Quotes: \") \n",
    "print(String1) \n",
    "  \n",
    "# Escaping Single Quote  \n",
    "String1 = 'I\\'m a \"Geek\"'\n",
    "print(\"\\nEscaping Single Quote: \") \n",
    "print(String1) \n",
    "  \n",
    "# Escaping Doule Quotes \n",
    "String1 = \"I'm a \\\"Geek\\\"\"\n",
    "print(\"\\nEscaping Double Quotes: \") \n",
    "print(String1) \n",
    "  \n",
    "# Printing Paths with the  \n",
    "# use of Escape Sequences \n",
    "String1 = \"C:\\\\Python\\\\Geeks\\\\\"\n",
    "print(\"\\nEscaping Backslashes: \") \n",
    "print(String1) "
   ]
  },
  {
   "cell_type": "code",
   "execution_count": 145,
   "metadata": {},
   "outputs": [
    {
     "name": "stdout",
     "output_type": "stream",
     "text": [
      "Print String in default order: \n",
      "Geeks For Life\n",
      "\n",
      "Print String in Positional order: \n",
      "For Geeks Life\n",
      "\n",
      "Print String in order of Keywords: \n",
      "Life For Geeks\n",
      "\n",
      "Binary representation of 16 is \n",
      "10000\n",
      "\n",
      "Exponent representation of 165.6458 is \n",
      "1.656458e+02\n",
      "\n",
      " one-sixth is : \n",
      "0.17\n",
      "\n",
      "Left, center and right alignment with Formatting: \n",
      "|Geeks     |   for    |     Geeks|\n"
     ]
    }
   ],
   "source": [
    "# Python Program for \n",
    "# Formatting of Strings \n",
    "\n",
    "# Default order \n",
    "String1 = \"{} {} {}\".format('Geeks', 'For', 'Life') \n",
    "print(\"Print String in default order: \") \n",
    "print(String1) \n",
    "\n",
    "# Positional Formatting \n",
    "String1 = \"{1} {0} {2}\".format('Geeks', 'For', 'Life') \n",
    "print(\"\\nPrint String in Positional order: \") \n",
    "print(String1) \n",
    "\n",
    "# Keyword Formatting \n",
    "String1 = \"{l} {f} {g}\".format(g = 'Geeks', f = 'For', l = 'Life') \n",
    "print(\"\\nPrint String in order of Keywords: \") \n",
    "print(String1) \n",
    "\n",
    "# Formatting of Integers \n",
    "String1 = \"{0:b}\".format(16) \n",
    "print(\"\\nBinary representation of 16 is \") \n",
    "print(String1) \n",
    "\n",
    "# Formatting of Floats \n",
    "String1 = \"{0:e}\".format(165.6458) \n",
    "print(\"\\nExponent representation of 165.6458 is \") \n",
    "print(String1) \n",
    "\n",
    "# Rounding off Integers \n",
    "String1 = \"{0:.2f}\".format(1/6) \n",
    "print(\"\\n one-sixth is : \") \n",
    "print(String1) \n",
    "\n",
    "# String alignment \n",
    "String1 = \"|{:<10}|{:^10}|{:>10}|\".format('Geeks','for','Geeks') \n",
    "print(\"\\nLeft, center and right alignment with Formatting: \") \n",
    "print(String1) \n"
   ]
  },
  {
   "cell_type": "markdown",
   "metadata": {},
   "source": [
    "## Tuples "
   ]
  },
  {
   "cell_type": "markdown",
   "metadata": {},
   "source": [
    "Tuple is a collection of Python objects much like a list. The sequence of values stored in a tuple can be of any type, and they are indexed by integers. The important difference between a list and a tuple is that tuples are immutable. Also, Tuples are hashable whereas lists are not."
   ]
  },
  {
   "cell_type": "markdown",
   "metadata": {},
   "source": [
    "In Python, tuples are created by placing sequence of values separated by ‘comma’ with or without the use of parentheses for grouping of data sequence. Tuples can contain any number of elements and of any datatype (like strings, integers, list, etc.). Tuples can also be created with a single element, but it is a bit tricky. Having one element in the parentheses is not sufficient, there must be a trailing ‘comma’ to make it a tuple."
   ]
  },
  {
   "cell_type": "code",
   "execution_count": 190,
   "metadata": {},
   "outputs": [
    {
     "name": "stdout",
     "output_type": "stream",
     "text": [
      "<class 'tuple'> (1, 2, 3, 4, 4)\n",
      "<class 'tuple'> (1, 2, 3, 4, 4)\n",
      "<class 'tuple'> (1, 2, 3, 4, 55)\n"
     ]
    }
   ],
   "source": [
    "t = 1,2,3,4,4\n",
    "tt = (1,2,3,4,4 )\n",
    "ttt = tuple((1,2,3,4,55)) # use the double brackets for inbuilt function otherwise it will throw an error\n",
    "print(type(t), t)\n",
    "print(type(tt), tt)\n",
    "print(type(ttt), ttt)"
   ]
  },
  {
   "cell_type": "code",
   "execution_count": 157,
   "metadata": {},
   "outputs": [
    {
     "name": "stdout",
     "output_type": "stream",
     "text": [
      "Initial empty Tuple: \n",
      "()\n",
      "\n",
      "Tuple with the use of String: \n",
      "('Geeks', 'For')\n",
      "\n",
      "Tuple using List: \n",
      "(1, 2, 4, 5, 6)\n",
      "\n",
      "Tuple with a loop\n",
      "('Geeks',)\n",
      "(('Geeks',),)\n",
      "((('Geeks',),),)\n",
      "(((('Geeks',),),),)\n",
      "((((('Geeks',),),),),)\n",
      "\n",
      "Tuple with the use of function: \n",
      "('G', 'e', 'e', 'k', 's')\n",
      "\n",
      "Tuple with Mixed Datatypes: \n",
      "(5, 'Welcome', 7, 'Geeks')\n",
      "\n",
      "Tuple with nested tuples: \n",
      "((0, 1, 2, 3), ('python', 'geek'))\n",
      "\n",
      "Tuple with repetition: \n",
      "('Geeks', 'Geeks', 'Geeks')\n"
     ]
    }
   ],
   "source": [
    "# Python program to demonstrate \n",
    "# Addition of elements in a Set \n",
    "\n",
    "# Creating an empty tuple \n",
    "Tuple1 = () \n",
    "print(\"Initial empty Tuple: \") \n",
    "print (Tuple1) \n",
    "\n",
    "# Creating a Tuple with \n",
    "# the use of Strings \n",
    "Tuple1 = ('Geeks', 'For') \n",
    "print(\"\\nTuple with the use of String: \") \n",
    "print(Tuple1) \n",
    "\n",
    "# Creating a Tuple with \n",
    "# the use of list \n",
    "list1 = [1, 2, 4, 5, 6] \n",
    "print(\"\\nTuple using List: \") \n",
    "print(tuple(list1)) \n",
    "\n",
    "# Creating a Tuple \n",
    "# with the use of loop \n",
    "Tuple1 = ('Geeks') \n",
    "n = 5\n",
    "print(\"\\nTuple with a loop\") \n",
    "for i in range(int(n)): \n",
    "\tTuple1 = (Tuple1,) #there must be a trailing ‘comma’ to make it a tuple\n",
    "\tprint(Tuple1) \n",
    "\n",
    "# Creating a Tuple with the \n",
    "# use of built-in function \n",
    "Tuple1 = tuple('Geeks') \n",
    "print(\"\\nTuple with the use of function: \") \n",
    "print(Tuple1) \n",
    "\n",
    "# Creating a Tuple with \n",
    "# Mixed Datatypes \n",
    "Tuple1 = (5, 'Welcome', 7, 'Geeks') \n",
    "print(\"\\nTuple with Mixed Datatypes: \") \n",
    "print(Tuple1) \n",
    "\n",
    "# Creating a Tuple \n",
    "# with nested tuples \n",
    "Tuple1 = (0, 1, 2, 3) \n",
    "Tuple2 = ('python', 'geek') \n",
    "Tuple3 = (Tuple1, Tuple2) \n",
    "print(\"\\nTuple with nested tuples: \") \n",
    "print(Tuple3) \n",
    "\n",
    "# Creating a Tuple \n",
    "# with repetition \n",
    "Tuple1 = ('Geeks',) * 3\n",
    "print(\"\\nTuple with repetition: \") \n",
    "print(Tuple1) \n"
   ]
  },
  {
   "cell_type": "code",
   "execution_count": 163,
   "metadata": {},
   "outputs": [
    {
     "data": {
      "text/plain": [
       "(2, 3)"
      ]
     },
     "execution_count": 163,
     "metadata": {},
     "output_type": "execute_result"
    }
   ],
   "source": [
    "tt.count(4), tt.index(4)"
   ]
  },
  {
   "cell_type": "markdown",
   "metadata": {},
   "source": [
    "Concatenation of tuple is the process of joining of two or more Tuples. Concatenation is done by the use of ‘+’ operator. Concatenation of tuples is done always from the end of the original tuple. Other arithmetic operations do not apply on Tuples."
   ]
  },
  {
   "cell_type": "code",
   "execution_count": 164,
   "metadata": {},
   "outputs": [
    {
     "data": {
      "text/plain": [
       "(1, 2, 3, 4, 4, 1, 2, 3, 4, 4)"
      ]
     },
     "execution_count": 164,
     "metadata": {},
     "output_type": "execute_result"
    }
   ],
   "source": [
    "t+tt"
   ]
  },
  {
   "cell_type": "code",
   "execution_count": 165,
   "metadata": {},
   "outputs": [
    {
     "name": "stdout",
     "output_type": "stream",
     "text": [
      "Removal of First Element: \n",
      "('E', 'E', 'K', 'S', 'F', 'O', 'R', 'G', 'E', 'E', 'K', 'S')\n",
      "\n",
      "Tuple after sequence of Element is reversed: \n",
      "('S', 'K', 'E', 'E', 'G', 'R', 'O', 'F', 'S', 'K', 'E', 'E', 'G')\n",
      "\n",
      "Printing elements between Range 4-9: \n",
      "('S', 'F', 'O', 'R', 'G')\n"
     ]
    }
   ],
   "source": [
    "# Slicing of a Tuple \n",
    "# with Numbers \n",
    "Tuple1 = tuple('GEEKSFORGEEKS') \n",
    "  \n",
    "# Removing First element \n",
    "print(\"Removal of First Element: \") \n",
    "print(Tuple1[1:]) \n",
    "  \n",
    "# Reversing the Tuple  \n",
    "print(\"\\nTuple after sequence of Element is reversed: \") \n",
    "print(Tuple1[::-1]) \n",
    "  \n",
    "# Printing elements of a Range \n",
    "print(\"\\nPrinting elements between Range 4-9: \") \n",
    "print(Tuple1[4:9]) "
   ]
  },
  {
   "cell_type": "markdown",
   "metadata": {},
   "source": [
    "<b>Tuples are immutable and hence they do not allow deletion of a part of it. Entire tuple gets deleted by the use of del() method.</b>"
   ]
  },
  {
   "cell_type": "code",
   "execution_count": 170,
   "metadata": {},
   "outputs": [
    {
     "data": {
      "text/plain": [
       "[(0, 1), (1, 2), (2, 3), (3, 4), (4, 4)]"
      ]
     },
     "execution_count": 170,
     "metadata": {},
     "output_type": "execute_result"
    }
   ],
   "source": [
    "[(i,j) for i,j in enumerate(tt)]"
   ]
  },
  {
   "cell_type": "code",
   "execution_count": 176,
   "metadata": {},
   "outputs": [
    {
     "data": {
      "text/plain": [
       "[4, 4, 3, 2, 1]"
      ]
     },
     "execution_count": 176,
     "metadata": {},
     "output_type": "execute_result"
    }
   ],
   "source": [
    "sorted(tt,reverse=True)"
   ]
  },
  {
   "cell_type": "code",
   "execution_count": 6,
   "metadata": {},
   "outputs": [
    {
     "ename": "TypeError",
     "evalue": "'set' object does not support indexing",
     "output_type": "error",
     "traceback": [
      "\u001b[1;31m---------------------------------------------------------------------------\u001b[0m",
      "\u001b[1;31mTypeError\u001b[0m                                 Traceback (most recent call last)",
      "\u001b[1;32m<ipython-input-6-6a4d6bc5638c>\u001b[0m in \u001b[0;36m<module>\u001b[1;34m\u001b[0m\n\u001b[0;32m      1\u001b[0m \u001b[0mt\u001b[0m \u001b[1;33m=\u001b[0m \u001b[0mset\u001b[0m\u001b[1;33m(\u001b[0m\u001b[1;33m[\u001b[0m\u001b[1;36m1\u001b[0m\u001b[1;33m,\u001b[0m\u001b[1;36m2\u001b[0m\u001b[1;33m,\u001b[0m\u001b[1;36m3\u001b[0m\u001b[1;33m,\u001b[0m\u001b[1;36m4\u001b[0m\u001b[1;33m,\u001b[0m\u001b[1;36m5\u001b[0m\u001b[1;33m]\u001b[0m\u001b[1;33m)\u001b[0m\u001b[1;33m\u001b[0m\u001b[1;33m\u001b[0m\u001b[0m\n\u001b[0;32m      2\u001b[0m \u001b[1;32mfor\u001b[0m \u001b[0mi\u001b[0m \u001b[1;32min\u001b[0m \u001b[0mrange\u001b[0m\u001b[1;33m(\u001b[0m\u001b[0mlen\u001b[0m\u001b[1;33m(\u001b[0m\u001b[0mt\u001b[0m\u001b[1;33m)\u001b[0m\u001b[1;33m)\u001b[0m\u001b[1;33m:\u001b[0m\u001b[1;33m\u001b[0m\u001b[1;33m\u001b[0m\u001b[0m\n\u001b[1;32m----> 3\u001b[1;33m     \u001b[0mprint\u001b[0m\u001b[1;33m(\u001b[0m\u001b[0mt\u001b[0m\u001b[1;33m[\u001b[0m\u001b[0mi\u001b[0m\u001b[1;33m]\u001b[0m\u001b[1;33m)\u001b[0m\u001b[1;33m\u001b[0m\u001b[1;33m\u001b[0m\u001b[0m\n\u001b[0m",
      "\u001b[1;31mTypeError\u001b[0m: 'set' object does not support indexing"
     ]
    }
   ],
   "source": [
    "t = set([1,2,3,4,5])\n",
    "for i in range(len(t)):\n",
    "    print(t[i])"
   ]
  },
  {
   "cell_type": "markdown",
   "metadata": {},
   "source": [
    "## Dictionary "
   ]
  },
  {
   "cell_type": "markdown",
   "metadata": {},
   "source": [
    "Dictionary in Python is an unordered collection of data values, used to store data values like a map, which unlike other Data Types that hold only single value as an element, Dictionary holds key:value pair. Key value is provided in the dictionary to make it more optimized. Each key-value pair in a Dictionary is separated by a colon :, whereas each key is separated by a ‘comma’."
   ]
  },
  {
   "cell_type": "markdown",
   "metadata": {},
   "source": [
    "A Dictionary in Python works similar to the Dictionary in a real world. Keys of a Dictionary must be unique and of immutable data type such as Strings, Integers and tuples, but the key-values can be repeated and be of any type."
   ]
  },
  {
   "cell_type": "code",
   "execution_count": 210,
   "metadata": {},
   "outputs": [
    {
     "name": "stdout",
     "output_type": "stream",
     "text": [
      "Empty Dictionary: \n",
      "{}\n",
      "\n",
      "Dictionary after adding 3 elements: \n",
      "{0: 'Geeks', 2: 'For', 3: 1}\n",
      "\n",
      "Dictionary after adding 3 elements: \n",
      "{0: 'Geeks', 2: 'For', 3: 1, 'Value_set': (2, 3, 4)}\n",
      "\n",
      "Updated key value: \n",
      "{0: 'Geeks', 2: 'Welcome', 3: 1, 'Value_set': (2, 3, 4)}\n",
      "\n",
      "Adding a Nested Key: \n",
      "{0: 'Geeks', 2: 'Welcome', 3: 1, 'Value_set': (2, 3, 4), 5: {'Nested': {'1': 'Life', '2': 'Geeks'}}}\n"
     ]
    }
   ],
   "source": [
    "# Creating an empty Dictionary \n",
    "Dict = {} \n",
    "print(\"Empty Dictionary: \") \n",
    "print(Dict) \n",
    "  \n",
    "# Adding elements one at a time \n",
    "Dict[0] = 'Geeks'\n",
    "Dict[2] = 'For'\n",
    "Dict[3] = 1\n",
    "print(\"\\nDictionary after adding 3 elements: \") \n",
    "print(Dict) \n",
    "  \n",
    "# Adding set of values  \n",
    "# to a single Key \n",
    "Dict['Value_set'] = 2, 3, 4\n",
    "print(\"\\nDictionary after adding 3 elements: \") \n",
    "print(Dict) \n",
    "  \n",
    "# Updating existing Key's Value \n",
    "Dict[2] = 'Welcome'\n",
    "print(\"\\nUpdated key value: \") \n",
    "print(Dict) \n",
    "  \n",
    "# Adding Nested Key value to Dictionary \n",
    "Dict[5] = {'Nested' :{'1' : 'Life', '2' : 'Geeks'}} \n",
    "print(\"\\nAdding a Nested Key: \") \n",
    "print(Dict) "
   ]
  },
  {
   "cell_type": "code",
   "execution_count": 211,
   "metadata": {},
   "outputs": [
    {
     "name": "stdout",
     "output_type": "stream",
     "text": [
      "Acessing a element using key:\n",
      "For\n",
      "Acessing a element using key:\n",
      "Geeks\n",
      "Acessing a element using get:\n",
      "Geeks\n"
     ]
    }
   ],
   "source": [
    "# accesing a element from a Dictionary  \n",
    "  \n",
    "# Creating a Dictionary  \n",
    "Dict = {1: 'Geeks', 'name': 'For', 3: 'Geeks'} \n",
    "  \n",
    "# accessing a element using key \n",
    "print(\"Acessing a element using key:\") \n",
    "print(Dict['name']) \n",
    "  \n",
    "# accessing a element using key \n",
    "print(\"Acessing a element using key:\") \n",
    "print(Dict[1]) \n",
    "  \n",
    "# accessing a element using get() \n",
    "# method \n",
    "print(\"Acessing a element using get:\") \n",
    "print(Dict.get(3)) "
   ]
  },
  {
   "cell_type": "code",
   "execution_count": 212,
   "metadata": {},
   "outputs": [
    {
     "name": "stdout",
     "output_type": "stream",
     "text": [
      "Initial Dictionary: \n",
      "{5: 'Welcome', 6: 'To', 7: 'Geeks', 'A': {1: 'Geeks', 2: 'For', 3: 'Geeks'}, 'B': {1: 'Geeks', 2: 'Life'}}\n",
      "\n",
      "Deleting a specific key: \n",
      "{5: 'Welcome', 7: 'Geeks', 'A': {1: 'Geeks', 2: 'For', 3: 'Geeks'}, 'B': {1: 'Geeks', 2: 'Life'}}\n",
      "\n",
      "Deleting a key from Nested Dictionary: \n",
      "{5: 'Welcome', 7: 'Geeks', 'A': {1: 'Geeks', 3: 'Geeks'}, 'B': {1: 'Geeks', 2: 'Life'}}\n",
      "\n",
      "Popping specific element: \n",
      "{7: 'Geeks', 'A': {1: 'Geeks', 3: 'Geeks'}, 'B': {1: 'Geeks', 2: 'Life'}}\n",
      "\n",
      "Pops first element: \n",
      "{7: 'Geeks', 'A': {1: 'Geeks', 3: 'Geeks'}}\n",
      "\n",
      "Deleting Entire Dictionary: \n",
      "{}\n"
     ]
    }
   ],
   "source": [
    "# Initial Dictionary \n",
    "Dict = { 5 : 'Welcome', 6 : 'To', 7 : 'Geeks', \n",
    "        'A' : {1 : 'Geeks', 2 : 'For', 3 : 'Geeks'}, \n",
    "        'B' : {1 : 'Geeks', 2 : 'Life'}} \n",
    "print(\"Initial Dictionary: \") \n",
    "print(Dict) \n",
    "  \n",
    "# Deleting a Key value \n",
    "del Dict[6] \n",
    "print(\"\\nDeleting a specific key: \") \n",
    "print(Dict) \n",
    "  \n",
    "# Deleting a Key from \n",
    "# Nested Dictionary \n",
    "del Dict['A'][2] \n",
    "print(\"\\nDeleting a key from Nested Dictionary: \") \n",
    "print(Dict) \n",
    "  \n",
    "# Deleting a Key  \n",
    "# using pop() \n",
    "Dict.pop(5) \n",
    "print(\"\\nPopping specific element: \") \n",
    "print(Dict) \n",
    "  \n",
    "# Deleting a Key \n",
    "# using popitem() \n",
    "Dict.popitem() \n",
    "print(\"\\nPops first element: \") \n",
    "print(Dict) \n",
    "  \n",
    "# Deleting entire Dictionary \n",
    "Dict.clear() \n",
    "print(\"\\nDeleting Entire Dictionary: \") \n",
    "print(Dict) "
   ]
  },
  {
   "cell_type": "code",
   "execution_count": 213,
   "metadata": {},
   "outputs": [
    {
     "name": "stdout",
     "output_type": "stream",
     "text": [
      "Initial Dictionary: \n",
      "{5: 'Welcome', 6: 'To', 7: 'Geeks', 'A': {1: 'Geeks', 2: 'For', 3: 'Geeks'}, 'B': {1: 'Geeks', 2: 'Life'}}\n"
     ]
    }
   ],
   "source": [
    "Dict = { 5 : 'Welcome', 6 : 'To', 7 : 'Geeks', \n",
    "        'A' : {1 : 'Geeks', 2 : 'For', 3 : 'Geeks'}, \n",
    "        'B' : {1 : 'Geeks', 2 : 'Life'}} \n",
    "print(\"Initial Dictionary: \") \n",
    "print(Dict) "
   ]
  },
  {
   "cell_type": "code",
   "execution_count": 214,
   "metadata": {},
   "outputs": [],
   "source": [
    "dict.fromkeys()"
   ]
  },
  {
   "cell_type": "code",
   "execution_count": 215,
   "metadata": {},
   "outputs": [
    {
     "name": "stdout",
     "output_type": "stream",
     "text": [
      "{1: 'one', 2: 'two'}\n",
      "{1: 'one', 2: 'two', 3: 'three'}\n",
      "{'x': 2, 'y': 3, 'z': 0}\n"
     ]
    }
   ],
   "source": [
    "d = {1: \"one\", 2: \"three\"}\n",
    "d1 = {2: \"two\"}\n",
    "\n",
    "# updates the value of key 2\n",
    "d.update(d1)\n",
    "print(d)\n",
    "\n",
    "d1 = {3: \"three\"}\n",
    "\n",
    "# adds element with key 3\n",
    "d.update(d1)\n",
    "print(d)\n",
    "d = {'x': 2}\n",
    "\n",
    "d.update(y = 3, z = 0)\n",
    "print(d)"
   ]
  },
  {
   "cell_type": "markdown",
   "metadata": {},
   "source": [
    "Return Value from get()\n",
    "The get() method returns:\n",
    "\n",
    "the value for the specified key if key is in dictionary.  \n",
    "None if the key is not found and value is not specified.  \n",
    "value if the key is not found and value is specified."
   ]
  },
  {
   "cell_type": "code",
   "execution_count": 217,
   "metadata": {},
   "outputs": [
    {
     "name": "stdout",
     "output_type": "stream",
     "text": [
      "dict_items([('apple', 2), ('orange', 3), ('grapes', 4)])\n",
      "dict_keys(['apple', 'orange', 'grapes'])\n",
      "dict_values([2, 3, 4])\n"
     ]
    }
   ],
   "source": [
    "sales = { 'apple': 2, 'orange': 3, 'grapes': 4 }\n",
    "\n",
    "print(sales.items())\n",
    "print(sales.keys())\n",
    "print(sales.values())"
   ]
  },
  {
   "cell_type": "markdown",
   "metadata": {},
   "source": [
    "setdefault() Parameters\n",
    "The setdefault() takes maximum of two parameters:\n",
    "\n",
    "key - key to be searched in the dictionary  \n",
    "default_value (optional) - key with a value default_value is inserted to the dictionary if key is not in the dictionary.  \n",
    "If not provided, the default_value will be None.  "
   ]
  },
  {
   "cell_type": "markdown",
   "metadata": {},
   "source": [
    "pop() Parameters\n",
    "The pop() method takes two parameters:\n",
    "\n",
    "key - key which is to be searched for removal  \n",
    "default - value which is to be returned when the key is not in the dictionary  "
   ]
  },
  {
   "cell_type": "code",
   "execution_count": 218,
   "metadata": {},
   "outputs": [
    {
     "name": "stdout",
     "output_type": "stream",
     "text": [
      "person =  {'name': 'Phill', 'age': 22}\n",
      "Return Value =  ('salary', 3500.0)\n"
     ]
    }
   ],
   "source": [
    "person = {'name': 'Phill', 'age': 22, 'salary': 3500.0}\n",
    "\n",
    "result = person.popitem()\n",
    "print('person = ',person)\n",
    "print('Return Value = ',result)"
   ]
  },
  {
   "cell_type": "markdown",
   "metadata": {},
   "source": [
    "The popitem()\n",
    "\n",
    "returns an arbitrary element (key, value) pair from the dictionary  \n",
    "removes an arbitrary element (the same element which is returned) from the dictionary.  "
   ]
  },
  {
   "cell_type": "code",
   "execution_count": 230,
   "metadata": {},
   "outputs": [
    {
     "data": {
      "text/plain": [
       "'Phill'"
      ]
     },
     "execution_count": 230,
     "metadata": {},
     "output_type": "execute_result"
    }
   ],
   "source": [
    "person[\"name\"]"
   ]
  },
  {
   "cell_type": "markdown",
   "metadata": {},
   "source": [
    "## Arrays"
   ]
  },
  {
   "cell_type": "markdown",
   "metadata": {},
   "source": [
    "benefits over Python lists, such as: being more compact, faster access in reading and writing items, being more convenient and more efficient."
   ]
  },
  {
   "cell_type": "markdown",
   "metadata": {},
   "source": [
    "You see that, in the example above, the data are integers. The array holds and represents any regular data in a structured way.  \n",
    "\n",
    "However, you should know that, on a structural level, an array is basically nothing but pointers. It’s a combination of a memory address, a data type, a shape, and strides:  \n",
    "\n",
    "The data pointer indicates the memory address of the first byte in the array,  \n",
    "The data type or dtype pointer describes the kind of elements that are contained within the array,     \n",
    "The shape indicates the shape of the array, and\n",
    "The strides are the number of bytes that should be skipped in memory to go to the next element. If your strides are (10,1), you need to proceed one byte to get to the next column and 10 bytes to locate the next row."
   ]
  },
  {
   "cell_type": "code",
   "execution_count": 283,
   "metadata": {},
   "outputs": [
    {
     "name": "stdout",
     "output_type": "stream",
     "text": [
      "my_array [[1 2 3 4]\n",
      " [5 6 7 8]]\n",
      "\n",
      "Create an array of ones \n",
      " [[1. 1. 1. 1.]\n",
      " [1. 1. 1. 1.]\n",
      " [1. 1. 1. 1.]]\n",
      "\n",
      " Create an array of zeros \n",
      " [[[0 0 0 0]\n",
      "  [0 0 0 0]\n",
      "  [0 0 0 0]]\n",
      "\n",
      " [[0 0 0 0]\n",
      "  [0 0 0 0]\n",
      "  [0 0 0 0]]]\n",
      "\n",
      " Create an array with random values \n",
      " [[0.865925   0.73062537]\n",
      " [0.41285225 0.40771274]]\n",
      "\n",
      " Create an empty array \n",
      " [[0. 0.]\n",
      " [0. 0.]\n",
      " [0. 0.]]\n",
      "\n",
      " Create a full array \n",
      "  [[7 7]\n",
      " [7 7]]\n",
      "\n",
      " Create an array of evenly-spaced values \n",
      "  [10 15 20]\n",
      "\n",
      " Create an array of evenly-spaced values \n",
      "  [0.   0.25 0.5  0.75 1.   1.25 1.5  1.75 2.  ]\n"
     ]
    },
    {
     "data": {
      "text/plain": [
       "'With np.linspace() and np.arange() you can make arrays of evenly spaced values. The difference between these two \\nfunctions is that the last value of the three that are passed in the code chunk above designates either the step \\nvalue for np.linspace() or a number of samples for np.arange(). What happens in the first is that you want, for \\nexample, an array of 9 values that lie between 0 and 2. For the latter, you specify that you want an array to \\nstart at 10 and per steps of 5, generate values for the array that you’re creating.'"
      ]
     },
     "execution_count": 283,
     "metadata": {},
     "output_type": "execute_result"
    }
   ],
   "source": [
    "# Make the array `my_array`\n",
    "my_array = np.array([[1,2,3,4], [5,6,7,8]], dtype=np.int64)\n",
    "\n",
    "# Print `my_array`\n",
    "print(\"my_array\", my_array)\n",
    "\n",
    "# Create an array of ones\n",
    "############################# watch for the double brackets for ones, and other functions################\n",
    "print(\"\\nCreate an array of ones \\n\" ,np.ones((3,4)))\n",
    "\n",
    "# Create an array of zeros\n",
    "print(\"\\n Create an array of zeros \\n\" ,np.zeros((2,3,4),dtype=np.int16))\n",
    "\n",
    "# Create an array with random values\n",
    "print(\"\\n Create an array with random values \\n\" , np.random.random((2,2)))\n",
    "\n",
    "# Create an empty array\n",
    "print(\"\\n Create an empty array \\n\", np.empty((3,2)))\n",
    "\n",
    "# Create a full array\n",
    "print(\"\\n Create a full array \\n \",np.full((2,2),7))\n",
    "\n",
    "# Create an array of evenly-spaced values\n",
    "print(\"\\n Create an array of evenly-spaced values \\n \",np.arange(10,25,5))\n",
    "\n",
    "# Create an array of evenly-spaced values\n",
    "print(\"\\n Create an array of evenly-spaced values \\n \", np.linspace(0,2,9))\n",
    "\n",
    "\"\"\"With np.linspace() and np.arange() you can make arrays of evenly spaced values. The difference between these two \n",
    "functions is that the last value of the three that are passed in the code chunk above designates either the step \n",
    "value for np.linspace() or a number of samples for np.arange(). What happens in the first is that you want, for \n",
    "example, an array of 9 values that lie between 0 and 2. For the latter, you specify that you want an array to \n",
    "start at 10 and per steps of 5, generate values for the array that you’re creating.\"\"\""
   ]
  },
  {
   "cell_type": "code",
   "execution_count": 289,
   "metadata": {},
   "outputs": [
    {
     "name": "stdout",
     "output_type": "stream",
     "text": [
      "<memory at 0x000001A90E779CF0>\n",
      "Shape (3, 3)\n",
      "dtype int32\n",
      "stride (12, 4)\n",
      "dimension 2\n",
      "number of elemnets 8\n",
      "memory layout   C_CONTIGUOUS : True\n",
      "  F_CONTIGUOUS : False\n",
      "  OWNDATA : True\n",
      "  WRITEABLE : True\n",
      "  ALIGNED : True\n",
      "  WRITEBACKIFCOPY : False\n",
      "  UPDATEIFCOPY : False\n",
      "length of one array elemnets in bytes 8\n",
      "total number of bytes 64\n",
      "len 2\n",
      "change dtype [[1. 2. 3. 4.]\n",
      " [5. 6. 7. 8.]]\n",
      "total number of bytes 64\n"
     ]
    }
   ],
   "source": [
    "my_2d_array = np.arange(9).reshape(3,3)\n",
    "print(my_2d_array.data)\n",
    "\n",
    "# Print out the shape of `my_array`\n",
    "print(\"Shape\" ,my_2d_array.shape)\n",
    "\n",
    "# Print out the data type of `my_array`\n",
    "print(\"dtype\",my_2d_array.dtype)\n",
    "\n",
    "# Print out the stride of `my_array`\n",
    "print(\"stride\",my_2d_array.strides)\n",
    "\n",
    "print(\"dimension\",my_array.ndim)\n",
    "\n",
    "# Print the number of `my_array`'s elements\n",
    "print(\"number of elemnets\",my_array.size)\n",
    "\n",
    "# Print information about `my_array`'s memory layout\n",
    "print(\"memory layout\",my_array.flags)\n",
    "\n",
    "# Print the length of one array element in bytes\n",
    "print(\"length of one array elemnets in bytes\",my_array.itemsize)\n",
    "\n",
    "# Print the total consumed bytes by `my_array`'s elements\n",
    "print(\"total number of bytes\",my_array.nbytes)\n",
    "# Print the length of `my_array`\n",
    "print(\"len\", len(my_array))\n",
    "\n",
    "# Change the data type of `my_array`\n",
    "print(\"change dtype\",my_array.astype(float))"
   ]
  },
  {
   "cell_type": "code",
   "execution_count": 331,
   "metadata": {},
   "outputs": [
    {
     "data": {
      "text/plain": [
       "array([[[20, 21, 22],\n",
       "        [23, 24, 25]],\n",
       "\n",
       "       [[26, 27, 28],\n",
       "        [29, 30, 31]]])"
      ]
     },
     "execution_count": 331,
     "metadata": {},
     "output_type": "execute_result"
    }
   ],
   "source": [
    "a = np.arange(20,32,1).reshape(2,2,3)\n",
    "a"
   ]
  },
  {
   "cell_type": "markdown",
   "metadata": {},
   "source": [
    "array are indexed row (0,1,2,3) and column as (0,1,2,3) in above case and not each elementwise. so if we use array[row,column] it will give that specific row and column.  \n",
    "If we use : is to get a value from either row or col, as show below"
   ]
  },
  {
   "cell_type": "code",
   "execution_count": 339,
   "metadata": {},
   "outputs": [
    {
     "name": "stdout",
     "output_type": "stream",
     "text": [
      "24\n"
     ]
    }
   ],
   "source": [
    "print(a[0,1,1])\n",
    "#print(a[:,1:2])\n",
    "#print(a[a>24])"
   ]
  },
  {
   "cell_type": "code",
   "execution_count": null,
   "metadata": {},
   "outputs": [],
   "source": []
  },
  {
   "cell_type": "code",
   "execution_count": null,
   "metadata": {},
   "outputs": [],
   "source": []
  },
  {
   "cell_type": "code",
   "execution_count": null,
   "metadata": {},
   "outputs": [],
   "source": []
  },
  {
   "cell_type": "code",
   "execution_count": null,
   "metadata": {},
   "outputs": [],
   "source": []
  },
  {
   "cell_type": "code",
   "execution_count": null,
   "metadata": {},
   "outputs": [],
   "source": []
  },
  {
   "cell_type": "code",
   "execution_count": null,
   "metadata": {},
   "outputs": [],
   "source": []
  },
  {
   "cell_type": "code",
   "execution_count": null,
   "metadata": {},
   "outputs": [],
   "source": []
  },
  {
   "cell_type": "markdown",
   "metadata": {},
   "source": [
    "# Formating of Values"
   ]
  },
  {
   "cell_type": "code",
   "execution_count": null,
   "metadata": {},
   "outputs": [],
   "source": []
  },
  {
   "cell_type": "code",
   "execution_count": null,
   "metadata": {},
   "outputs": [],
   "source": []
  },
  {
   "cell_type": "code",
   "execution_count": null,
   "metadata": {},
   "outputs": [],
   "source": []
  },
  {
   "cell_type": "code",
   "execution_count": null,
   "metadata": {},
   "outputs": [],
   "source": []
  },
  {
   "cell_type": "code",
   "execution_count": null,
   "metadata": {},
   "outputs": [],
   "source": []
  },
  {
   "cell_type": "code",
   "execution_count": null,
   "metadata": {},
   "outputs": [],
   "source": []
  },
  {
   "cell_type": "code",
   "execution_count": null,
   "metadata": {},
   "outputs": [],
   "source": [
    "my_string = \"Hello, World!\"\n",
    "print(my_string)"
   ]
  },
  {
   "cell_type": "markdown",
   "metadata": {},
   "source": [
    "Given an integer, , perform the following conditional actions:\n",
    "\n",
    "If n is odd, print Weird\n",
    "\n",
    "If n is even and in the inclusive range of 2 to 5, print Not Weird\n",
    "\n",
    "If n is even and in the inclusive range of 6 to 20, print Weird\n",
    "\n",
    "If n is even and greater than 20, print Not Weird"
   ]
  },
  {
   "cell_type": "code",
   "execution_count": null,
   "metadata": {},
   "outputs": [],
   "source": [
    "N = int(input())\n",
    "if (N%2 != 0):\n",
    "    print(\"Weird\")\n",
    "elif (N>=2 and N<=5):\n",
    "    print(\"Not Weird\")\n",
    "elif(N>=6 and N<=20):\n",
    "    print(\"Weird\")\n",
    "elif(N>20):\n",
    "    print(\"Not Weird\")"
   ]
  },
  {
   "cell_type": "markdown",
   "metadata": {},
   "source": [
    "Read two integers and print two lines. \n",
    "The first line should contain integer division,  // . \n",
    "The second line should contain float division,  / .\n",
    "\n",
    "You don't need to perform any rounding or formatting operations."
   ]
  },
  {
   "cell_type": "code",
   "execution_count": null,
   "metadata": {},
   "outputs": [],
   "source": [
    "    a = int(input())\n",
    "    b = int(input())\n",
    "    print(int(a/b))\n",
    "    print(a/b)"
   ]
  },
  {
   "cell_type": "markdown",
   "metadata": {},
   "source": [
    "Read an integer N . For all non-negative integers i<N, print i2. See the sample for details."
   ]
  },
  {
   "cell_type": "code",
   "execution_count": null,
   "metadata": {},
   "outputs": [],
   "source": [
    "    n = int(input())\n",
    "    for i in range(n):\n",
    "     print(i*i)"
   ]
  },
  {
   "cell_type": "markdown",
   "metadata": {},
   "source": [
    "We add a Leap Day on February 29, almost every four years. The leap day is an extra, or intercalary day and we add it to the shortest month of the year, February. \n",
    "In the Gregorian calendar three criteria must be taken into account to identify leap years:\n",
    "\n",
    "The year can be evenly divided by 4, is a leap year, unless:\n",
    "\n",
    "    The year can be evenly divided by 100, it is NOT a leap year, unless:\n",
    "\n",
    "        The year is also evenly divisible by 400. Then it is a leap year.\n",
    "\n",
    "This means that in the Gregorian calendar, the years 2000 and 2400 are leap years, while 1800, 1900, 2100, 2200, 2300 and 2500 are NOT leap years.Source\n",
    "\n",
    "Task \n",
    "You are given the year, and you have to write a function to check if the year is leap or not.\n",
    "\n",
    "Note that you have to complete the function and remaining code is given as template."
   ]
  },
  {
   "cell_type": "code",
   "execution_count": null,
   "metadata": {},
   "outputs": [],
   "source": [
    "def is_leap(year):\n",
    "    leap = False\n",
    "    \n",
    "    if ((year%4 ==0) ):\n",
    "        leap = True\n",
    "        if(year%100==0 ):\n",
    "            leap = False\n",
    "            if((year%400==0)):\n",
    "        \n",
    "                leap = True\n",
    "    return leap\n",
    "\n",
    "year = int(input())\n",
    "print(is_leap(year))\n",
    "\n",
    "\n",
    "year = int(input())\n",
    "print(is_leap(year))"
   ]
  },
  {
   "cell_type": "markdown",
   "metadata": {},
   "source": [
    "Read an integer .\n",
    "\n",
    "Without using any string methods, try to print the following:\n",
    "123...N\n",
    "end in the print statement is used to supress the new line"
   ]
  },
  {
   "cell_type": "code",
   "execution_count": 25,
   "metadata": {},
   "outputs": [
    {
     "name": "stdout",
     "output_type": "stream",
     "text": [
      "3\n",
      "123"
     ]
    }
   ],
   "source": [
    "n = int(input())\n",
    "for i in range(n):\n",
    "    print(i+1, end='')"
   ]
  },
  {
   "cell_type": "code",
   "execution_count": 23,
   "metadata": {},
   "outputs": [
    {
     "name": "stdout",
     "output_type": "stream",
     "text": [
      "hACKERrANK.COM PRESENTS pYTHONIST 2\n"
     ]
    }
   ],
   "source": [
    "s =  \"HackerRank.com presents Pythonist 2\"\n",
    "print(s.swapcase())"
   ]
  },
  {
   "cell_type": "code",
   "execution_count": 3,
   "metadata": {},
   "outputs": [
    {
     "name": "stdout",
     "output_type": "stream",
     "text": [
      "thisisgood\n",
      "thisisgood\n"
     ]
    }
   ],
   "source": [
    "t= [\"this\", \"is\", \"good\"]\n",
    "print(\"\".join([t[i] for i in range(len(t))]))\n",
    "print(\"\".join(t))"
   ]
  },
  {
   "cell_type": "markdown",
   "metadata": {},
   "source": [
    "#### String Split and Join"
   ]
  },
  {
   "cell_type": "code",
   "execution_count": 35,
   "metadata": {},
   "outputs": [
    {
     "name": "stdout",
     "output_type": "stream",
     "text": [
      "['this', 'is', 'a', 'string']\n",
      "this-is-a-string\n"
     ]
    }
   ],
   "source": [
    "a = \"this is a string\"\n",
    "a = a.split(\" \") # a is converted to a list of strings. \n",
    "print( a)\n",
    "a = \"-\".join(a)\n",
    "print( a)"
   ]
  },
  {
   "cell_type": "code",
   "execution_count": 36,
   "metadata": {},
   "outputs": [
    {
     "name": "stdout",
     "output_type": "stream",
     "text": [
      "this-is-a-string\n"
     ]
    }
   ],
   "source": [
    "a = \"this is a string\"\n",
    "print(\"-\".join(a.split()))"
   ]
  },
  {
   "cell_type": "code",
   "execution_count": 47,
   "metadata": {},
   "outputs": [
    {
     "name": "stdout",
     "output_type": "stream",
     "text": [
      "Nit\n",
      "Ku\n",
      "Hello Nit Ku ! You just delved into python.\n"
     ]
    }
   ],
   "source": [
    "fn = str(input())\n",
    "ln= str(input())\n",
    "print(\"Hello {0} {1}! You just delved into python.\".format(fn,ln))"
   ]
  },
  {
   "cell_type": "markdown",
   "metadata": {},
   "source": [
    "#### String Manipluation"
   ]
  },
  {
   "cell_type": "markdown",
   "metadata": {},
   "source": [
    "We have seen that lists are mutable (they can be changed), and tuples are immutable (they cannot be changed).\n",
    "\n",
    "Let's try to understand this with an example.\n",
    "\n",
    "You are given an immutable string, and you want to make changes to it.\n",
    "You can access an index by:\n",
    "    print string[5]\n",
    "    What if you would like to assign a value?\n",
    "    string[5] = 'k' \n",
    "Traceback (most recent call last):\n",
    "  File \"<stdin>\", line 1, in <module>\n",
    "TypeError: 'str' object does not support item assignment"
   ]
  },
  {
   "cell_type": "code",
   "execution_count": 55,
   "metadata": {},
   "outputs": [
    {
     "name": "stdout",
     "output_type": "stream",
     "text": [
      "One solution is to convert the string to a list and then change the value.\n",
      "before: abracadabra\n",
      "after: abracYdabra\n",
      "Another approach is to slice the string and join it back.\n",
      "abrackdabra\n"
     ]
    }
   ],
   "source": [
    "print(\"One solution is to convert the string to a list and then change the value.\")\n",
    "string = \"abracadabra\"\n",
    "print(\"before:\",string)\n",
    "l = list(string)\n",
    "l[5] = 'Y'\n",
    "string = ''.join(l)\n",
    "print(\"after:\",string)\n",
    "\n",
    "print(\"Another approach is to slice the string and join it back.\")\n",
    "string = string[:5] + \"k\" + string[6:]\n",
    "print (string)"
   ]
  },
  {
   "cell_type": "code",
   "execution_count": 157,
   "metadata": {},
   "outputs": [
    {
     "name": "stdout",
     "output_type": "stream",
     "text": [
      "0\n"
     ]
    }
   ],
   "source": [
    "string = \"ininini\"\n",
    "substr = \"ini\"\n",
    "print(string.find(substr))\n",
    "#print(string[string.find(substr)+1:len(string)])"
   ]
  },
  {
   "cell_type": "code",
   "execution_count": 158,
   "metadata": {},
   "outputs": [
    {
     "name": "stdout",
     "output_type": "stream",
     "text": [
      "3\n"
     ]
    }
   ],
   "source": [
    "l= 0\n",
    "count= 0\n",
    "while(l>=0):\n",
    "    l = string.find(substr,l,len(string))\n",
    "    #print(l)\n",
    "    if(l==0):\n",
    "        l+=1\n",
    "    if(l>=0):\n",
    "        count+=1\n",
    "        string = string[l:len(string)]\n",
    "        #print(string, count)\n",
    "print(count)"
   ]
  },
  {
   "cell_type": "markdown",
   "metadata": {},
   "source": [
    "Python any() function. The any() function tests whether any item in the iterable evaluates to True to not. \n",
    "It accepts an iterable and returns True, if at least one item in the iterable is true, otherwise, it returns False.\n",
    "\n",
    "Below functions can can check on a string or at a character level as shown below with a for loop"
   ]
  },
  {
   "cell_type": "code",
   "execution_count": 166,
   "metadata": {},
   "outputs": [
    {
     "name": "stdout",
     "output_type": "stream",
     "text": [
      "True\n",
      "False\n",
      "False\n",
      "False\n",
      "False\n"
     ]
    }
   ],
   "source": [
    "s = \"Th23\"\n",
    "print(s.isalnum())\n",
    "print(s.isalpha())\n",
    "print(s.isdigit())\n",
    "print(s.islower())\n",
    "print(s.isupper())\n"
   ]
  },
  {
   "cell_type": "code",
   "execution_count": 167,
   "metadata": {},
   "outputs": [
    {
     "name": "stdout",
     "output_type": "stream",
     "text": [
      "w2E\n",
      "True\n",
      "True\n",
      "True\n",
      "True\n",
      "True\n"
     ]
    }
   ],
   "source": [
    "    str = input()\n",
    "    print (any(c.isalnum()  for c in str))\n",
    "    print (any(c.isalpha() for c in str))\n",
    "    print (any(c.isdigit() for c in str))\n",
    "    print (any(c.islower() for c in str))\n",
    "    print (any(c.isupper() for c in str))"
   ]
  },
  {
   "cell_type": "markdown",
   "metadata": {},
   "source": [
    "in Python, a string of text can be aligned left, right and center.\n",
    "\n",
    ".ljust(width)           This method returns a left aligned string of length width.\n",
    "\n",
    ".center(width)          This method returns a centered string of length width.\n",
    "\n",
    ".rjust(width)           This method returns a right aligned string of length width.\n"
   ]
  },
  {
   "cell_type": "code",
   "execution_count": 170,
   "metadata": {},
   "outputs": [
    {
     "name": "stdout",
     "output_type": "stream",
     "text": [
      "HackerRank----------\n",
      "----------HackerRank\n",
      "-----HackerRank-----\n"
     ]
    }
   ],
   "source": [
    "width = 20\n",
    "print( 'HackerRank'.ljust(width,'-'))\n",
    "print( 'HackerRank'.rjust(width,'-'))\n",
    "print( 'HackerRank'.center(width,'-'))"
   ]
  },
  {
   "cell_type": "markdown",
   "metadata": {},
   "source": [
    "https://www.geeksforgeeks.org/python-format-function/\n",
    "\n",
    "s – strings\n",
    "\n",
    "d – decimal integers (base-10)\n",
    "f – floating point display\n",
    "c – character\n",
    "b – binary\n",
    "o – octal\n",
    "x – hexadecimal with lowercase letters after 9\n",
    "X – hexadecimal with uppercase letters after 9\n",
    "e – exponent notation"
   ]
  },
  {
   "cell_type": "code",
   "execution_count": 175,
   "metadata": {},
   "outputs": [
    {
     "name": "stdout",
     "output_type": "stream",
     "text": [
      "5\n"
     ]
    }
   ],
   "source": [
    "number = int(input())"
   ]
  },
  {
   "cell_type": "code",
   "execution_count": 210,
   "metadata": {},
   "outputs": [
    {
     "name": "stdout",
     "output_type": "stream",
     "text": [
      "101\n",
      "1 1 1 1\n",
      "2 2 2 10\n",
      "3 3 3 11\n",
      "4 4 4 100\n",
      "5 5 5 101\n"
     ]
    }
   ],
   "source": [
    "width = len(\"{0:b}\".format(number))\n",
    "for i in range(1, number + 1):\n",
    "        print(\"{0:{width}d} {0:{width}o} {0:{width}X} {0:{width}b}\".format(i, width=width))"
   ]
  },
  {
   "cell_type": "code",
   "execution_count": 215,
   "metadata": {},
   "outputs": [
    {
     "name": "stdout",
     "output_type": "stream",
     "text": [
      "Hello Nitin Kumar, how are you doing. You owe 10000900.000 2\n"
     ]
    }
   ],
   "source": [
    "print(\"Hello {0} {1}, how are you doing. You owe {2:.3f} {3:d}\".format(\"Nitin\",\"Kumar\",10000900,2))"
   ]
  },
  {
   "cell_type": "markdown",
   "metadata": {},
   "source": [
    "If sep is not specified or is None, a different splitting algorithm is applied: runs of consecutive whitespace \n",
    "    are regarded as a single separator, and the result will contain no empty strings at the start or end if the \n",
    "    string has leading or trailing whitespace. Consequently, splitting an empty string or a string consisting of \n",
    "    just whitespace with a None separator returns []."
   ]
  },
  {
   "cell_type": "code",
   "execution_count": 277,
   "metadata": {},
   "outputs": [],
   "source": [
    "s = \"hello   world  lol\""
   ]
  },
  {
   "cell_type": "code",
   "execution_count": 292,
   "metadata": {},
   "outputs": [
    {
     "name": "stdout",
     "output_type": "stream",
     "text": [
      "Hello   World  Lol\n"
     ]
    }
   ],
   "source": [
    "t = s.split( \" \")\n",
    "print(' '.join([t[i].capitalize() for i in range(len(t))] ))"
   ]
  },
  {
   "cell_type": "code",
   "execution_count": 290,
   "metadata": {},
   "outputs": [
    {
     "data": {
      "text/plain": [
       "['hello', 'world', 'lol']"
      ]
     },
     "execution_count": 290,
     "metadata": {},
     "output_type": "execute_result"
    }
   ],
   "source": [
    "\"hello   world  lol\".split()"
   ]
  },
  {
   "cell_type": "code",
   "execution_count": 1,
   "metadata": {},
   "outputs": [
    {
     "name": "stdout",
     "output_type": "stream",
     "text": [
      "Stuart 12\n",
      "Count of Cont is: 12 and Count of Vol is 9\n"
     ]
    }
   ],
   "source": [
    "p = \"BANANA\"\n",
    "p = list(p)\n",
    "vow = [\"A\",\"E\",\"I\",\"O\",\"U\"]\n",
    "count_vol = 0\n",
    "count_cons = 0\n",
    "vol =[]\n",
    "con = []\n",
    "t = []\n",
    "for i in range(len(p)):\n",
    "    for j in range(i,len(p)):\n",
    "        #print(\"inside j\",i,j)\n",
    "        if(p[i]in vow):\n",
    "            #vol.append(p[i]+[j])\n",
    "            vol.append(p[j])\n",
    "            #print(\"vol\" ,vol)\n",
    "            count_vol+=1\n",
    "        else:\n",
    "            #con.append(p[i]+[j])\n",
    "            con.append(p[j])\n",
    "            count_cons+=1\n",
    "            #print(\"con\",con )\n",
    "\n",
    "if(count_cons>=count_vol):\n",
    "    print(\"Stuart\", count_cons)\n",
    "else:\n",
    "    print(\"Kevin\", count_vol)   \n",
    "print(\"Count of Cont is: {} and Count of Vol is {}\" .format(count_cons, count_vol))     "
   ]
  },
  {
   "cell_type": "code",
   "execution_count": 61,
   "metadata": {},
   "outputs": [
    {
     "name": "stdout",
     "output_type": "stream",
     "text": [
      "1 2 3 4 5 6 7 8 9\n",
      "[[1 2 3]\n",
      " [4 5 6]\n",
      " [7 8 9]]\n"
     ]
    }
   ],
   "source": [
    "num = input()\n",
    "a = (np.array(num.split(\" \"),int)).reshape(3,3)\n",
    "print(a)"
   ]
  },
  {
   "cell_type": "code",
   "execution_count": 107,
   "metadata": {},
   "outputs": [
    {
     "name": "stdout",
     "output_type": "stream",
     "text": [
      "3\n",
      "1 1 1 2 2 2 3 3 3 4\n",
      "{1, 2, 3, 4} [1, 1, 1, 2, 2, 2, 3, 3, 3, 4]\n",
      "30\n",
      "22\n",
      "4\n"
     ]
    }
   ],
   "source": [
    "k,arr = int(input()),list(map(int, input().split()))\n",
    "\n",
    "myset = set(arr)\n",
    "print(myset, arr)\n",
    "print(sum(myset)*k)\n",
    "print(sum(arr))\n",
    "print(((sum(myset)*k)-(sum(arr)))//(k-1))"
   ]
  },
  {
   "cell_type": "markdown",
   "metadata": {},
   "source": [
    "# searching pairs in list or missing pair"
   ]
  },
  {
   "cell_type": "code",
   "execution_count": 5,
   "metadata": {},
   "outputs": [
    {
     "name": "stdout",
     "output_type": "stream",
     "text": [
      "[10, 10, 10, 10]\n",
      "[20, 20, 20]\n",
      "[20, 20, 20]\n",
      "[10, 10, 10, 10]\n",
      "[10, 10, 10, 10]\n",
      "[30]\n",
      "[50]\n",
      "[10, 10, 10, 10]\n",
      "[20, 20, 20]\n"
     ]
    }
   ],
   "source": [
    "ar = [10 ,20 ,20 ,10 ,10 ,30 ,50 ,10 ,20]\n",
    "count= []\n",
    "for i in range(len(ar)):\n",
    "    print([e for j, e in enumerate(ar) if e == ar[i]])"
   ]
  },
  {
   "cell_type": "markdown",
   "metadata": {},
   "source": [
    "John works at a clothing store. He has a large pile of socks that he must pair by color for sale. Given an array of integers representing the color of each sock, determine how many pairs of socks with matching colors there are.\n",
    "\n",
    "For example, there are n= 7 socks with colors ar = [1,2,1,2,1,3,2]. There is one pair of color 1  and one of color 2. There are three odd socks left, one of each color. The number of pairs is 2."
   ]
  },
  {
   "cell_type": "code",
   "execution_count": 118,
   "metadata": {},
   "outputs": [
    {
     "name": "stdout",
     "output_type": "stream",
     "text": [
      "values is 10 and count is 4\n",
      "values is 20 and count is 3\n",
      "values is 20 and count is 1\n",
      "values is 10 and count is 1\n",
      "3\n"
     ]
    }
   ],
   "source": [
    "pair = 0\n",
    "s = tuple(set(ar))\n",
    "for i in range(len(s)):\n",
    "    c = ar.count(s[i])\n",
    "    #print(\"values is {} and count is {}\".format(ar[i],c))\n",
    "    val = c//2\n",
    "    pair += val\n",
    "print(pair)"
   ]
  },
  {
   "cell_type": "code",
   "execution_count": 56,
   "metadata": {},
   "outputs": [],
   "source": [
    "colors = {}\n",
    "pairs = 0\n",
    "for i in range(len(socks)):\n",
    "    if (socks[i] not in colors):\n",
    "        colors.update({socks[i]:1})\n",
    "    else:\n",
    "        pairs +=1\n",
    "        colors.pop(socks[i])"
   ]
  },
  {
   "cell_type": "code",
   "execution_count": 58,
   "metadata": {},
   "outputs": [
    {
     "data": {
      "text/plain": [
       "({30: 1, 50: 1, 20: 1}, 3)"
      ]
     },
     "execution_count": 58,
     "metadata": {},
     "output_type": "execute_result"
    }
   ],
   "source": [
    "colors, pairs"
   ]
  },
  {
   "cell_type": "code",
   "execution_count": 76,
   "metadata": {},
   "outputs": [],
   "source": [
    "strg = list(\"UDDDUDUU\")\n",
    "strg = list(\"DDUUDDUDUUUD\")"
   ]
  },
  {
   "cell_type": "code",
   "execution_count": 77,
   "metadata": {},
   "outputs": [
    {
     "data": {
      "text/plain": [
       "['D', 'D', 'U', 'U', 'D', 'D', 'U', 'D', 'U', 'U', 'U', 'D']"
      ]
     },
     "execution_count": 77,
     "metadata": {},
     "output_type": "execute_result"
    }
   ],
   "source": [
    "strg"
   ]
  },
  {
   "cell_type": "code",
   "execution_count": 80,
   "metadata": {},
   "outputs": [
    {
     "data": {
      "text/plain": [
       "2"
      ]
     },
     "execution_count": 80,
     "metadata": {},
     "output_type": "execute_result"
    }
   ],
   "source": [
    "val=0\n",
    "u=0\n",
    "d = 0\n",
    "temp = 0\n",
    "for i in range(len(strg)):\n",
    "    if strg[i]==\"U\":\n",
    "        u +=1\n",
    "    else:\n",
    "        d+=1\n",
    "    if d>u and temp <1:\n",
    "        val+=1\n",
    "        temp +=1\n",
    "    elif (u>=d):\n",
    "        temp = 0\n",
    "val"
   ]
  },
  {
   "cell_type": "code",
   "execution_count": 357,
   "metadata": {},
   "outputs": [],
   "source": [
    "s =  list([0,0, 1, 0, 0, 1, 0])"
   ]
  },
  {
   "cell_type": "code",
   "execution_count": 3,
   "metadata": {},
   "outputs": [
    {
     "name": "stdout",
     "output_type": "stream",
     "text": [
      "0 0 0 0.0\n",
      "1 0 1 0.5\n",
      "2 1 0 1.0\n",
      "3 1 1 1.5\n",
      "4 2 0 2.0\n",
      "5 2 1 2.5\n",
      "6 3 0 3.0\n",
      "7 3 1 3.5\n",
      "8 4 0 4.0\n",
      "9 4 1 4.5\n"
     ]
    }
   ],
   "source": [
    "for i in range(10):\n",
    "    print(i,i//2, i%2, i/2)"
   ]
  },
  {
   "cell_type": "code",
   "execution_count": 82,
   "metadata": {},
   "outputs": [],
   "source": [
    "def minsum(num,k):\n",
    "    import random as r\n",
    "    sum=0\n",
    "    for i in range(k):\n",
    "        a = r.choice(num)\n",
    "        ind = num.index(a)\n",
    "        num.pop(ind)\n",
    "        num.insert(ind,round(a/2))\n",
    "        for ii in range(len(num)):\n",
    "            sum+=num[ii]\n",
    "        if sum==0:\n",
    "            sum+=1\n",
    "    return num, sum"
   ]
  },
  {
   "cell_type": "code",
   "execution_count": 83,
   "metadata": {},
   "outputs": [
    {
     "data": {
      "text/plain": [
       "([0, 0, 1, 6, 1, 1, 1, 1, 6, 1, 1, 1, 1, 2, 2, 2, 2, 2, 11, 2], 558)"
      ]
     },
     "execution_count": 83,
     "metadata": {},
     "output_type": "execute_result"
    }
   ],
   "source": [
    "minsum(num,k)"
   ]
  }
 ],
 "metadata": {
  "kernelspec": {
   "display_name": "Python 3",
   "language": "python",
   "name": "python3"
  },
  "language_info": {
   "codemirror_mode": {
    "name": "ipython",
    "version": 3
   },
   "file_extension": ".py",
   "mimetype": "text/x-python",
   "name": "python",
   "nbconvert_exporter": "python",
   "pygments_lexer": "ipython3",
   "version": "3.6.9"
  }
 },
 "nbformat": 4,
 "nbformat_minor": 2
}
