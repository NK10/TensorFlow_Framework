{
 "cells": [
  {
   "cell_type": "code",
   "execution_count": 1,
   "metadata": {},
   "outputs": [],
   "source": [
    "import numpy as np\n",
    "import pandas as pd"
   ]
  },
  {
   "cell_type": "markdown",
   "metadata": {},
   "source": [
    "There are four collection data types in the Python programming language:\n",
    "\n",
    "1) List is a collection which is ordered(meaning, The elements of a tuple have a defined order, just like a list. Tuples indices are zero-based, just like a list, so the first element of a non-empty tuple is always t[0]) and changeable. Allows duplicate members. It is represented by square bracket\n",
    "d= [11,2,3,]\n",
    "\n",
    "2) Tuple is a collection which is ordered and unchangeable. Allows duplicate members. It is represented by parentheses.\n",
    "    a = (1,2,3,4)\n",
    "\n",
    "3) Set is a collection which is unordered and unindexed. No duplicate members.It is represented by by curly({) bracket.\n",
    "    b=  {1,2,3,4,}\n",
    "\n",
    "4) Dictionary is a collection which is unordered, changeable and indexed. No duplicate members.It is represented by curly({) bracket.\n",
    "    c=  {\"A\":34,\"B\":33}"
   ]
  },
  {
   "cell_type": "code",
   "execution_count": 25,
   "metadata": {},
   "outputs": [
    {
     "name": "stdout",
     "output_type": "stream",
     "text": [
      "1\n",
      "6\n"
     ]
    }
   ],
   "source": [
    "arr = list()\n",
    "# or simply\n",
    "arr = []\n",
    "arr = [1,2,3]\n",
    "print(arr[0])\n",
    "# result is 1\n",
    "print (arr[0] + arr[1] + arr[2])\n",
    "\n",
    "# result is 6"
   ]
  },
  {
   "cell_type": "markdown",
   "metadata": {},
   "source": [
    "# List Operations"
   ]
  },
  {
   "cell_type": "code",
   "execution_count": 29,
   "metadata": {},
   "outputs": [
    {
     "name": "stdout",
     "output_type": "stream",
     "text": [
      "Append: [10, 9, 9, 7, 7, 7, 3, 2, 1, 9]\n",
      "Extend: [10, 9, 9, 7, 7, 7, 3, 2, 1, 9, 10, 11]\n",
      "Insert: [10, 9, 9, 7, 7, 7, 7, 3, 2, 1, 9, 10, 11]\n",
      "Remove: [10, 9, 7, 7, 7, 7, 3, 2, 1, 9, 10, 11]\n",
      "11\n",
      "6\n",
      "1\n",
      "Sort: [1, 2, 3, 7, 7, 7, 7, 9, 9, 10, 10]\n",
      "Reverse: [10, 10, 9, 9, 7, 7, 7, 7, 3, 2, 1]\n"
     ]
    }
   ],
   "source": [
    "#Adds a single element x to the end of a list.\n",
    "arr.append(9) \n",
    "print(\"Append:\", arr)\n",
    "#Merges another list L to the end.\n",
    "arr.extend([10,11])\n",
    "print(\"Extend:\",arr)\n",
    "#Inserts element x at position i.\n",
    "arr.insert(3,7)\n",
    "print(\"Insert:\",arr)\n",
    "#Removes the first occurrence of element x.\n",
    "arr.remove(9)\n",
    "print(\"Remove:\",arr)\n",
    "#Removes the last element of a list. If an argument is passed, that index item is popped out.\n",
    "print(arr.pop())\n",
    "#Returns the first index of a value in the list. Throws an error if it's not found.\n",
    "print(arr.index(3))\n",
    "#Counts the number of occurrences of an element x.\n",
    "print(arr.count(1))\n",
    "#Sorts the list.\n",
    "arr.sort()\n",
    "print(\"Sort:\",arr)\n",
    "#Reverses the list.\n",
    "arr.reverse()\n",
    "print(\"Reverse:\", arr)"
   ]
  },
  {
   "cell_type": "markdown",
   "metadata": {},
   "source": [
    "# Sets"
   ]
  },
  {
   "cell_type": "code",
   "execution_count": null,
   "metadata": {},
   "outputs": [],
   "source": [
    ">> myset = {1, 2} # Directly assigning values to a set\n",
    ">> myset = set()  # Initializing a set\n",
    ">> myset = set(['a', 'b']) # Creating a set from a list\n",
    ">> myset\n",
    "{'a', 'b'}"
   ]
  },
  {
   "cell_type": "code",
   "execution_count": null,
   "metadata": {},
   "outputs": [],
   "source": [
    ">> myset.add('c')\n",
    ">> myset\n",
    "{'a', 'c', 'b'}\n",
    ">> myset.add('a') # As 'a' already exists in the set, nothing happens\n",
    ">> myset.add((5, 4))\n",
    ">> myset\n",
    "{'a', 'c', 'b', (5, 4)"
   ]
  },
  {
   "cell_type": "code",
   "execution_count": null,
   "metadata": {},
   "outputs": [],
   "source": []
  },
  {
   "cell_type": "code",
   "execution_count": null,
   "metadata": {},
   "outputs": [],
   "source": []
  },
  {
   "cell_type": "code",
   "execution_count": null,
   "metadata": {},
   "outputs": [],
   "source": []
  },
  {
   "cell_type": "code",
   "execution_count": null,
   "metadata": {},
   "outputs": [],
   "source": []
  },
  {
   "cell_type": "markdown",
   "metadata": {},
   "source": [
    "# Formating of Values"
   ]
  },
  {
   "cell_type": "code",
   "execution_count": null,
   "metadata": {},
   "outputs": [],
   "source": []
  },
  {
   "cell_type": "code",
   "execution_count": null,
   "metadata": {},
   "outputs": [],
   "source": []
  },
  {
   "cell_type": "code",
   "execution_count": null,
   "metadata": {},
   "outputs": [],
   "source": []
  },
  {
   "cell_type": "code",
   "execution_count": null,
   "metadata": {},
   "outputs": [],
   "source": []
  },
  {
   "cell_type": "code",
   "execution_count": null,
   "metadata": {},
   "outputs": [],
   "source": []
  },
  {
   "cell_type": "code",
   "execution_count": 2,
   "metadata": {},
   "outputs": [
    {
     "name": "stdout",
     "output_type": "stream",
     "text": [
      "Hello, World!\n"
     ]
    }
   ],
   "source": [
    "my_string = \"Hello, World!\"\n",
    "print(my_string)"
   ]
  },
  {
   "cell_type": "markdown",
   "metadata": {},
   "source": [
    "Given an integer, , perform the following conditional actions:\n",
    "\n",
    "If n is odd, print Weird\n",
    "\n",
    "If n is even and in the inclusive range of 2 to 5, print Not Weird\n",
    "\n",
    "If n is even and in the inclusive range of 6 to 20, print Weird\n",
    "\n",
    "If n is even and greater than 20, print Not Weird"
   ]
  },
  {
   "cell_type": "code",
   "execution_count": 3,
   "metadata": {},
   "outputs": [
    {
     "name": "stdout",
     "output_type": "stream",
     "text": [
      "3\n",
      "Weird\n"
     ]
    }
   ],
   "source": [
    "N = int(input())\n",
    "if (N%2 != 0):\n",
    "    print(\"Weird\")\n",
    "elif (N>=2 and N<=5):\n",
    "    print(\"Not Weird\")\n",
    "elif(N>=6 and N<=20):\n",
    "    print(\"Weird\")\n",
    "elif(N>20):\n",
    "    print(\"Not Weird\")"
   ]
  },
  {
   "cell_type": "markdown",
   "metadata": {},
   "source": [
    "Read two integers and print two lines. \n",
    "The first line should contain integer division,  // . \n",
    "The second line should contain float division,  / .\n",
    "\n",
    "You don't need to perform any rounding or formatting operations."
   ]
  },
  {
   "cell_type": "code",
   "execution_count": 4,
   "metadata": {},
   "outputs": [
    {
     "name": "stdout",
     "output_type": "stream",
     "text": [
      "2\n",
      "1\n",
      "2\n",
      "2.0\n"
     ]
    }
   ],
   "source": [
    "    a = int(input())\n",
    "    b = int(input())\n",
    "    print(int(a/b))\n",
    "    print(a/b)"
   ]
  },
  {
   "cell_type": "markdown",
   "metadata": {},
   "source": [
    "Read an integer N . For all non-negative integers i<N, print i2. See the sample for details."
   ]
  },
  {
   "cell_type": "code",
   "execution_count": 5,
   "metadata": {},
   "outputs": [
    {
     "name": "stdout",
     "output_type": "stream",
     "text": [
      "3\n",
      "0\n",
      "1\n",
      "4\n"
     ]
    }
   ],
   "source": [
    "    n = int(input())\n",
    "    for i in range(n):\n",
    "     print(i*i)"
   ]
  },
  {
   "cell_type": "markdown",
   "metadata": {},
   "source": [
    "We add a Leap Day on February 29, almost every four years. The leap day is an extra, or intercalary day and we add it to the shortest month of the year, February. \n",
    "In the Gregorian calendar three criteria must be taken into account to identify leap years:\n",
    "\n",
    "The year can be evenly divided by 4, is a leap year, unless:\n",
    "\n",
    "    The year can be evenly divided by 100, it is NOT a leap year, unless:\n",
    "\n",
    "        The year is also evenly divisible by 400. Then it is a leap year.\n",
    "\n",
    "This means that in the Gregorian calendar, the years 2000 and 2400 are leap years, while 1800, 1900, 2100, 2200, 2300 and 2500 are NOT leap years.Source\n",
    "\n",
    "Task \n",
    "You are given the year, and you have to write a function to check if the year is leap or not.\n",
    "\n",
    "Note that you have to complete the function and remaining code is given as template."
   ]
  },
  {
   "cell_type": "code",
   "execution_count": 6,
   "metadata": {},
   "outputs": [
    {
     "name": "stdout",
     "output_type": "stream",
     "text": [
      "1992\n",
      "True\n",
      "2000\n",
      "True\n"
     ]
    }
   ],
   "source": [
    "def is_leap(year):\n",
    "    leap = False\n",
    "    \n",
    "    if ((year%4 ==0) ):\n",
    "        leap = True\n",
    "        if(year%100==0 ):\n",
    "            leap = False\n",
    "            if((year%400==0)):\n",
    "        \n",
    "                leap = True\n",
    "    return leap\n",
    "\n",
    "year = int(input())\n",
    "print(is_leap(year))\n",
    "\n",
    "\n",
    "year = int(input())\n",
    "print(is_leap(year))"
   ]
  },
  {
   "cell_type": "markdown",
   "metadata": {},
   "source": [
    "Read an integer .\n",
    "\n",
    "Without using any string methods, try to print the following:\n",
    "123...N\n",
    "end in the print statement is used to supress the new line"
   ]
  },
  {
   "cell_type": "code",
   "execution_count": null,
   "metadata": {},
   "outputs": [],
   "source": [
    "n = int(input())\n",
    "for i in range(n):\n",
    "    print(i+1, end='')"
   ]
  },
  {
   "cell_type": "code",
   "execution_count": null,
   "metadata": {},
   "outputs": [],
   "source": []
  },
  {
   "cell_type": "code",
   "execution_count": null,
   "metadata": {},
   "outputs": [],
   "source": [
    "wwerwer"
   ]
  },
  {
   "cell_type": "code",
   "execution_count": null,
   "metadata": {},
   "outputs": [],
   "source": []
  },
  {
   "cell_type": "code",
   "execution_count": null,
   "metadata": {},
   "outputs": [],
   "source": []
  }
 ],
 "metadata": {
  "kernelspec": {
   "display_name": "Python 3",
   "language": "python",
   "name": "python3"
  },
  "language_info": {
   "codemirror_mode": {
    "name": "ipython",
    "version": 3
   },
   "file_extension": ".py",
   "mimetype": "text/x-python",
   "name": "python",
   "nbconvert_exporter": "python",
   "pygments_lexer": "ipython3",
   "version": "3.6.5"
  }
 },
 "nbformat": 4,
 "nbformat_minor": 2
}
