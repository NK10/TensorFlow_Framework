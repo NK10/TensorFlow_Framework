{
 "cells": [
  {
   "cell_type": "code",
   "execution_count": 1,
   "metadata": {
    "collapsed": true
   },
   "outputs": [],
   "source": [
    "import numpy as np\n",
    "import tensorflow as tf"
   ]
  },
  {
   "cell_type": "code",
   "execution_count": 2,
   "metadata": {
    "collapsed": true
   },
   "outputs": [],
   "source": [
    "from tensorflow.examples.tutorials.mnist import input_data"
   ]
  },
  {
   "cell_type": "code",
   "execution_count": 5,
   "metadata": {
    "collapsed": true
   },
   "outputs": [],
   "source": [
    "data_dir = \"C:/R_Lang/Deep_Learning_Python/MNIST/data/\"\n",
    "NUM_STEPS = 1000\n",
    "MINIBATCH_SIZE = 100"
   ]
  },
  {
   "cell_type": "code",
   "execution_count": 6,
   "metadata": {},
   "outputs": [
    {
     "name": "stdout",
     "output_type": "stream",
     "text": [
      "Extracting C:/R_Lang/Deep_Learning_Python/MNIST/data/train-images-idx3-ubyte.gz\n",
      "Extracting C:/R_Lang/Deep_Learning_Python/MNIST/data/train-labels-idx1-ubyte.gz\n",
      "Extracting C:/R_Lang/Deep_Learning_Python/MNIST/data/t10k-images-idx3-ubyte.gz\n",
      "Extracting C:/R_Lang/Deep_Learning_Python/MNIST/data/t10k-labels-idx1-ubyte.gz\n"
     ]
    }
   ],
   "source": [
    "data = input_data.read_data_sets(data_dir, one_hot=True)"
   ]
  },
  {
   "cell_type": "code",
   "execution_count": 7,
   "metadata": {},
   "outputs": [
    {
     "data": {
      "text/plain": [
       "((55000, 784), (55000, 10))"
      ]
     },
     "execution_count": 7,
     "metadata": {},
     "output_type": "execute_result"
    }
   ],
   "source": [
    "data.train.images.shape,data.train.labels.shape"
   ]
  },
  {
   "cell_type": "code",
   "execution_count": 8,
   "metadata": {},
   "outputs": [
    {
     "data": {
      "text/plain": [
       "((10000, 784), (10000, 10))"
      ]
     },
     "execution_count": 8,
     "metadata": {},
     "output_type": "execute_result"
    }
   ],
   "source": [
    "data.test.images.shape,data.test.labels.shape"
   ]
  },
  {
   "cell_type": "code",
   "execution_count": null,
   "metadata": {},
   "outputs": [],
   "source": [
    "tf.reset_default_graph() \n",
    "xx = tf.placeholder(tf.float32, [784,None])\n",
    "ww = tf.Variable(tf.zeros([784, 10]))\n",
    "y_t = tf.placeholder(tf.float32, [10,None])\n",
    "y_p = tf.matmul(tf.transpose(ww),xx)\n",
    "cross_ent = tf.reduce_mean(tf.nn.softmax_cross_entropy_with_logits(logits=y_p, labels=y_t), name = \"cross_ent\")\n",
    "print(cross_ent)\n",
    "gd_st = tf.train.GradientDescentOptimizer(0.5).minimize(cross_ent)\n",
    "correct_ma = tf.equal(tf.argmax(y_p, 0), tf.argmax(y_t, 0))\n",
    "accur = tf.reduce_mean(tf.cast(correct_ma, tf.float32))\n",
    "with tf.Session() as ses:\n",
    "# Train\n",
    "    ses.run(tf.global_variables_initializer())\n",
    "    for _ in range(NUM_STEPS):\n",
    "        batch_xs, batch_ys = data.train.next_batch(MINIBATCH_SIZE)\n",
    "        ses.run(gd_st, feed_dict={xx: np.transpose(batch_xs), y_t: np.transpose(batch_ys)})\n",
    "        # Test\n",
    "    ans = ses.run(accur, feed_dict={xx: np.transpose(data.test.images),y_t: np.transpose(data.test.labels)})\n",
    "print( \"Accuracy: {:.4}%\".format(ans*100))"
   ]
  },
  {
   "cell_type": "code",
   "execution_count": 9,
   "metadata": {
    "collapsed": true
   },
   "outputs": [],
   "source": [
    "dat = data.train"
   ]
  },
  {
   "cell_type": "markdown",
   "metadata": {},
   "source": [
    "# AS PER COURSE , Having X and Y as [nx, mx] where nx is features and mx is total examples"
   ]
  },
  {
   "cell_type": "code",
   "execution_count": 18,
   "metadata": {},
   "outputs": [
    {
     "name": "stdout",
     "output_type": "stream",
     "text": [
      "nnnn 0.9161\n"
     ]
    }
   ],
   "source": [
    "tf.reset_default_graph() \n",
    "Weights = tf.get_variable(name=\"Weights\", shape = [784, 10] ,initializer = tf.contrib.layers.xavier_initializer())\n",
    "X= tf.placeholder(name=\"InputX\",shape=[784,None], dtype=tf.float32)\n",
    "Y= tf.placeholder(name=\"InputY\",shape=[10, None], dtype=tf.float32)\n",
    "#X = tf.placeholder(tf.float32, [784,None])\n",
    "#Weights = tf.Variable(tf.zeros([784, 10]))\n",
    "#Y = tf.placeholder(tf.float32, [10,None])\n",
    "y_pr = tf.matmul(tf.transpose(Weights),X)\n",
    "loss = tf.reduce_mean(tf.nn.softmax_cross_entropy_with_logits(logits =tf.transpose(y_pr), labels=tf.transpose(Y)))\n",
    "gd_st = tf.train.GradientDescentOptimizer(0.5).minimize(loss)\n",
    "correct_mas = tf.equal(tf.argmax(y_pr, 0), tf.argmax(Y, 0))\n",
    "accur = tf.reduce_mean(tf.cast(correct_mas, tf.float32))\n",
    "with tf.Session() as sess:\n",
    "    sess.run(tf.global_variables_initializer())\n",
    "    #writer = tf.summary.FileWriter('C:/Users/USX28939/PYTHON_CODE_BASE/graphs', tf.get_default_graph())\n",
    "    \n",
    "    for _ in range(NUM_STEPS):\n",
    "        batch_xs, batch_ys = dat.next_batch(MINIBATCH_SIZE)\n",
    "        sess.run(gd_st, feed_dict={X: np.transpose(batch_xs), Y: np.transpose(batch_ys)})\n",
    "        #print(\"\\n Weights\" , Weights.eval(), \"\\n\\n\")\n",
    "        #print(\"\\n Value of X\" , sess.run(X, feed_dict ={ X: np.transpose(batch_xss)}), \"\\n\\n\\n\")\n",
    "        #print(\"\\n y_pred\" , sess.run(y_pr, feed_dict ={ X: np.transpose(batch_xs)}), \"\\n\\n shape\\n\" , \"\\n\\n\")\n",
    "        ans = sess.run(accur, feed_dict={X: np.transpose(data.test.images),Y: np.transpose(data.test.labels)})\n",
    "        #print( \"Accuracy Test: {:.4}%\".format(ans*100))\n",
    "print(\"nnnn\",ans)\n",
    "#print \"Accuracy Train: {:.4}%\".format(accuracy*100)\n",
    "#writer.close()"
   ]
  },
  {
   "cell_type": "markdown",
   "metadata": {},
   "source": [
    "# AS PER BOOK"
   ]
  },
  {
   "cell_type": "code",
   "execution_count": 12,
   "metadata": {},
   "outputs": [
    {
     "name": "stdout",
     "output_type": "stream",
     "text": [
      "Accuracy: 91.5%\n"
     ]
    }
   ],
   "source": [
    "tf.reset_default_graph() \n",
    "x = tf.placeholder(tf.float32, [None, 784])\n",
    "W = tf.Variable(tf.zeros([784, 10]))\n",
    "y_true = tf.placeholder(tf.float32, [None, 10])\n",
    "y_pred = tf.matmul(x, W)\n",
    "cross_entropy = tf.reduce_mean(tf.nn.softmax_cross_entropy_with_logits(logits=y_pred, labels=y_true))\n",
    "gd_step = tf.train.GradientDescentOptimizer(0.5).minimize(cross_entropy)\n",
    "correct_mask = tf.equal(tf.argmax(y_pred, 1), tf.argmax(y_true, 1))\n",
    "accuracy = tf.reduce_mean(tf.cast(correct_mask, tf.float32))\n",
    "with tf.Session() as sess:\n",
    "# Train\n",
    "    sess.run(tf.global_variables_initializer())\n",
    "    for _ in range(NUM_STEPS):\n",
    "        batch_xs, batch_ys = data.train.next_batch(MINIBATCH_SIZE)\n",
    "        sess.run(gd_step, feed_dict={x: batch_xs, y_true: batch_ys})\n",
    "        #print(\"Weights\" , W.eval(), \"\\n\\n\")\n",
    "        #print(\"\\n Value of X\" ,sess.run(x, feed_dict ={ x: batch_xs}), \"\\n\\n\\n\")\n",
    "        #print(\"\\n y_pred\" ,sess.run(y_pred, feed_dict ={x: batch_xs}), \"\\n\\n shape\\n\",\"\\n\\n\" )\n",
    "        # Test\n",
    "    ans = sess.run(accuracy, feed_dict={x: data.test.images,y_true: data.test.labels})\n",
    "print( \"Accuracy: {:.4}%\".format(ans*100))"
   ]
  },
  {
   "cell_type": "code",
   "execution_count": null,
   "metadata": {
    "collapsed": true
   },
   "outputs": [],
   "source": [
    "t = "
   ]
  },
  {
   "cell_type": "code",
   "execution_count": null,
   "metadata": {},
   "outputs": [],
   "source": [
    "2.02718735e-01  "
   ]
  },
  {
   "cell_type": "code",
   "execution_count": null,
   "metadata": {
    "collapsed": true
   },
   "outputs": [],
   "source": []
  }
 ],
 "metadata": {
  "kernelspec": {
   "display_name": "Python 3",
   "language": "python",
   "name": "python3"
  },
  "language_info": {
   "codemirror_mode": {
    "name": "ipython",
    "version": 3
   },
   "file_extension": ".py",
   "mimetype": "text/x-python",
   "name": "python",
   "nbconvert_exporter": "python",
   "pygments_lexer": "ipython3",
   "version": "3.6.1"
  }
 },
 "nbformat": 4,
 "nbformat_minor": 2
}
