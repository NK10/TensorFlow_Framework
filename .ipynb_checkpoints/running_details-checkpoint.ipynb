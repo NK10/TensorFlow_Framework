{
 "cells": [
  {
   "cell_type": "code",
   "execution_count": null,
   "metadata": {},
   "outputs": [],
   "source": [
    "def twitter_keys(getkey):\n",
    "#   global dictionary \n",
    "    if(getkey == \"keydetails\"):\n",
    "    \n",
    "        dictionary = {\"consumer_key\":\"lQtSwfUGbRlds5H4HGCFtAJf8\",\n",
    "                     \"consumer_secret\":\"koTQq2Fg3kWHTD9xErVnYz6w6LlrAc8HEnkqanA3NSYLHERM7i\",\n",
    "                     \"access_token\":\"816642772656619520-azBNPCPzeYQ473xYq8Jujw35PcQV1A8\",\n",
    "                     \"access_token_secret\":\"9q3T7XkEkexFKgzp2FbgyVaReCokySVQHpJ0FGpmn7ROd\"}\n",
    "    return (dictionary)"
   ]
  },
  {
   "cell_type": "code",
   "execution_count": null,
   "metadata": {},
   "outputs": [],
   "source": []
  }
 ],
 "metadata": {
  "kernelspec": {
   "display_name": "Python 3",
   "language": "python",
   "name": "python3"
  },
  "language_info": {
   "codemirror_mode": {
    "name": "ipython",
    "version": 3
   },
   "file_extension": ".py",
   "mimetype": "text/x-python",
   "name": "python",
   "nbconvert_exporter": "python",
   "pygments_lexer": "ipython3",
   "version": "3.6.9"
  }
 },
 "nbformat": 4,
 "nbformat_minor": 2
}
