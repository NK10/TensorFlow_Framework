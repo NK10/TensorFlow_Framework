{
 "cells": [
  {
   "cell_type": "code",
   "execution_count": 1,
   "metadata": {
    "collapsed": true
   },
   "outputs": [],
   "source": [
    "import numpy as np\n",
    "import tensorflow as tf\n",
    "import matplotlib.pyplot as plt"
   ]
  },
  {
   "cell_type": "code",
   "execution_count": 2,
   "metadata": {
    "collapsed": true
   },
   "outputs": [],
   "source": [
    "import os\n",
    "import gzip\n",
    "import shutil\n",
    "import struct\n",
    "import urllib.request"
   ]
  },
  {
   "cell_type": "code",
   "execution_count": 3,
   "metadata": {
    "collapsed": true
   },
   "outputs": [],
   "source": [
    "import time"
   ]
  },
  {
   "cell_type": "code",
   "execution_count": 30,
   "metadata": {
    "collapsed": true
   },
   "outputs": [],
   "source": [
    "learning_rate = 0.01\n",
    "batch_size = 128\n",
    "n_epochs = 100\n",
    "n_train = 60000\n",
    "n_test = 10000"
   ]
  },
  {
   "cell_type": "code",
   "execution_count": 5,
   "metadata": {
    "collapsed": true
   },
   "outputs": [],
   "source": [
    "    #Download and unzip the dataset mnist if it's not already downloaded \n",
    "    #Download from http://yann.lecun.com/exdb/mnist\n",
    "    mnist_folder = \"C:\\\\Users\\\\USX28939\\\\PYTHON_CODE_BASE\\\\GitHub_Doc\\\\stanford-tensorflow-tutorials\\\\examples\\\\data\\\\MNST_DATA\""
   ]
  },
  {
   "cell_type": "code",
   "execution_count": 32,
   "metadata": {
    "collapsed": true
   },
   "outputs": [],
   "source": [
    "def download_one_file(download_url, \n",
    "                    local_dest, \n",
    "                    expected_byte=None, \n",
    "                    unzip_and_remove=False):\n",
    "    \"\"\" \n",
    "    Download the file from download_url into local_dest\n",
    "    if the file doesn't already exists.\n",
    "    If expected_byte is provided, check if \n",
    "    the downloaded file has the same number of bytes.\n",
    "    If unzip_and_remove is True, unzip the file and remove the zip file\n",
    "    \"\"\"\n",
    "    if os.path.exists(local_dest) or os.path.exists(local_dest[:-3]):\n",
    "        print('%s already exists' %local_dest)\n",
    "    else:\n",
    "        print('Downloading %s' %download_url)\n",
    "        local_file, headers = urllib.request.urlretrieve(download_url, local_dest)\n",
    "        file_stat = os.stat(local_dest)\n",
    "        if expected_byte:\n",
    "            if file_stat.st_size == expected_byte:\n",
    "                print('Successfully downloaded %s' %local_dest)\n",
    "                if unzip_and_remove:\n",
    "                    with gzip.open(local_dest, 'rb') as f_in, open(local_dest[:-3],'wb') as f_out:\n",
    "                        shutil.copyfileobj(f_in, f_out)\n",
    "                    os.remove(local_dest)\n",
    "            else:\n",
    "                print('The downloaded file has unexpected number of bytes')"
   ]
  },
  {
   "cell_type": "code",
   "execution_count": 35,
   "metadata": {},
   "outputs": [
    {
     "ename": "SyntaxError",
     "evalue": "EOL while scanning string literal (<ipython-input-35-d986ab718bac>, line 2)",
     "output_type": "error",
     "traceback": [
      "\u001b[1;36m  File \u001b[1;32m\"<ipython-input-35-d986ab718bac>\"\u001b[1;36m, line \u001b[1;32m2\u001b[0m\n\u001b[1;33m    print (urllib.request.urlopen(\"http://yann.lecun.com/exdb/mnist\\\"))\u001b[0m\n\u001b[1;37m                                                                       ^\u001b[0m\n\u001b[1;31mSyntaxError\u001b[0m\u001b[1;31m:\u001b[0m EOL while scanning string literal\n"
     ]
    }
   ],
   "source": [
    "import urllib\n",
    "print (urllib.request.urlopen(\"http://yann.lecun.com/exdb/mnist\\\"))\n"
   ]
  },
  {
   "cell_type": "code",
   "execution_count": 36,
   "metadata": {
    "collapsed": true
   },
   "outputs": [],
   "source": [
    "def download_mnist(path):\n",
    "    \"\"\" \n",
    "    Download and unzip the dataset mnist if it's not already downloaded \n",
    "    Download from http://yann.lecun.com/exdb/mnist\n",
    "    \"\"\"\n",
    "    os.mkdir(path)\n",
    "    url = 'http://yann.lecun.com/exdb/mnist/'\n",
    "    filenames = ['train-images-idx3-ubyte.gz',\n",
    "                'train-labels-idx1-ubyte.gz',\n",
    "                't10k-images-idx3-ubyte.gz',\n",
    "                't10k-labels-idx1-ubyte.gz']\n",
    "    expected_bytes = [9912422, 28881, 1648877, 4542]\n",
    "\n",
    "    for filename, byte in zip(filenames, expected_bytes):\n",
    "        download_url = os.path.join(url, filename)\n",
    "        local_dest = os.path.join(path, filename)\n",
    "        print(download_url,\"    -> \", local_dest)\n",
    "        download_one_file(download_url, local_dest, byte, True)"
   ]
  },
  {
   "cell_type": "code",
   "execution_count": 37,
   "metadata": {},
   "outputs": [
    {
     "name": "stdout",
     "output_type": "stream",
     "text": [
      "http://yann.lecun.com/exdb/mnist/train-images-idx3-ubyte.gz     ->  C:\\Users\\USX28939\\PYTHON_CODE_BASE\\GitHub_Doc\\stanford-tensorflow-tutorials\\examples\\data\\MNST_DATA\\train-images-idx3-ubyte.gz\n",
      "Downloading http://yann.lecun.com/exdb/mnist/train-images-idx3-ubyte.gz\n",
      "Successfully downloaded C:\\Users\\USX28939\\PYTHON_CODE_BASE\\GitHub_Doc\\stanford-tensorflow-tutorials\\examples\\data\\MNST_DATA\\train-images-idx3-ubyte.gz\n",
      "http://yann.lecun.com/exdb/mnist/train-labels-idx1-ubyte.gz     ->  C:\\Users\\USX28939\\PYTHON_CODE_BASE\\GitHub_Doc\\stanford-tensorflow-tutorials\\examples\\data\\MNST_DATA\\train-labels-idx1-ubyte.gz\n",
      "Downloading http://yann.lecun.com/exdb/mnist/train-labels-idx1-ubyte.gz\n",
      "Successfully downloaded C:\\Users\\USX28939\\PYTHON_CODE_BASE\\GitHub_Doc\\stanford-tensorflow-tutorials\\examples\\data\\MNST_DATA\\train-labels-idx1-ubyte.gz\n",
      "http://yann.lecun.com/exdb/mnist/t10k-images-idx3-ubyte.gz     ->  C:\\Users\\USX28939\\PYTHON_CODE_BASE\\GitHub_Doc\\stanford-tensorflow-tutorials\\examples\\data\\MNST_DATA\\t10k-images-idx3-ubyte.gz\n",
      "Downloading http://yann.lecun.com/exdb/mnist/t10k-images-idx3-ubyte.gz\n",
      "Successfully downloaded C:\\Users\\USX28939\\PYTHON_CODE_BASE\\GitHub_Doc\\stanford-tensorflow-tutorials\\examples\\data\\MNST_DATA\\t10k-images-idx3-ubyte.gz\n",
      "http://yann.lecun.com/exdb/mnist/t10k-labels-idx1-ubyte.gz     ->  C:\\Users\\USX28939\\PYTHON_CODE_BASE\\GitHub_Doc\\stanford-tensorflow-tutorials\\examples\\data\\MNST_DATA\\t10k-labels-idx1-ubyte.gz\n",
      "Downloading http://yann.lecun.com/exdb/mnist/t10k-labels-idx1-ubyte.gz\n",
      "Successfully downloaded C:\\Users\\USX28939\\PYTHON_CODE_BASE\\GitHub_Doc\\stanford-tensorflow-tutorials\\examples\\data\\MNST_DATA\\t10k-labels-idx1-ubyte.gz\n"
     ]
    }
   ],
   "source": [
    "download_mnist(mnist_folder)"
   ]
  },
  {
   "cell_type": "code",
   "execution_count": 6,
   "metadata": {
    "collapsed": true
   },
   "outputs": [],
   "source": [
    "def parse_data(path, dataset, flatten):\n",
    "    if dataset != 'train' and dataset != 't10k':\n",
    "        raise NameError('dataset must be train or t10k')\n",
    "\n",
    "    label_file = os.path.join(path, dataset + '-labels-idx1-ubyte')\n",
    "    #print(label_file )\n",
    "    with open(label_file, 'rb') as file:\n",
    "        _, num = struct.unpack(\">II\", file.read(8))\n",
    "        labels = np.fromfile(file, dtype=np.int8) #int8\n",
    "        new_labels = np.zeros((num, 10))\n",
    "        new_labels[np.arange(num), labels] = 1\n",
    "    \n",
    "    img_file = os.path.join(path, dataset + '-images-idx3-ubyte')\n",
    "    with open(img_file, 'rb') as file:\n",
    "        _, num, rows, cols = struct.unpack(\">IIII\", file.read(16))\n",
    "        imgs = np.fromfile(file, dtype=np.uint8).reshape(num, rows, cols) #uint8\n",
    "        imgs = imgs.astype(np.float32) / 255.0\n",
    "        if flatten:\n",
    "            imgs = imgs.reshape([num, -1])\n",
    "\n",
    "    return imgs, new_labels"
   ]
  },
  {
   "cell_type": "code",
   "execution_count": 7,
   "metadata": {
    "collapsed": true
   },
   "outputs": [],
   "source": [
    "def read_mnist(path, flatten=True, num_train=55000):\n",
    "    \"\"\"\n",
    "    Read in the mnist dataset, given that the data is stored in path\n",
    "    Return two tuples of numpy arrays\n",
    "    ((train_imgs, train_labels), (test_imgs, test_labels))\n",
    "    \"\"\"\n",
    "    imgs, labels = parse_data(path, 'train', flatten)\n",
    "    indices = np.random.permutation(labels.shape[0])\n",
    "    train_idx, val_idx = indices[:num_train], indices[num_train:]\n",
    "    train_img, train_labels = imgs[train_idx, :], labels[train_idx, :]\n",
    "    val_img, val_labels = imgs[val_idx, :], labels[val_idx, :]\n",
    "    test = parse_data(path, 't10k', flatten)\n",
    "    return (train_img, train_labels), (val_img, val_labels), test\n"
   ]
  },
  {
   "cell_type": "code",
   "execution_count": 8,
   "metadata": {
    "collapsed": true
   },
   "outputs": [],
   "source": [
    "tf.reset_default_graph() "
   ]
  },
  {
   "cell_type": "code",
   "execution_count": 9,
   "metadata": {
    "collapsed": true
   },
   "outputs": [],
   "source": [
    "train, val, test = read_mnist(mnist_folder, flatten=True)"
   ]
  },
  {
   "cell_type": "code",
   "execution_count": 10,
   "metadata": {},
   "outputs": [
    {
     "name": "stdout",
     "output_type": "stream",
     "text": [
      "2\n",
      "2\n",
      "2\n"
     ]
    }
   ],
   "source": [
    "print(len(train))\n",
    "print(len(val))\n",
    "print(len(test))"
   ]
  },
  {
   "cell_type": "code",
   "execution_count": 11,
   "metadata": {
    "collapsed": true
   },
   "outputs": [],
   "source": [
    "train_data = tf.data.Dataset.from_tensor_slices(train)\n",
    "train_data = train_data.shuffle(10000) # if you want to shuffle your data\n",
    "train_data = train_data.batch(batch_size)"
   ]
  },
  {
   "cell_type": "code",
   "execution_count": 40,
   "metadata": {},
   "outputs": [
    {
     "name": "stdout",
     "output_type": "stream",
     "text": [
      "[[ 0.  0.  0. ...,  0.  0.  1.]\n",
      " [ 0.  0.  1. ...,  0.  0.  0.]\n",
      " [ 0.  0.  0. ...,  0.  0.  0.]\n",
      " ..., \n",
      " [ 0.  0.  0. ...,  0.  0.  0.]\n",
      " [ 0.  0.  0. ...,  0.  0.  0.]\n",
      " [ 0.  0.  0. ...,  0.  0.  0.]]\n"
     ]
    }
   ],
   "source": [
    "print(train[1])"
   ]
  },
  {
   "cell_type": "code",
   "execution_count": 12,
   "metadata": {
    "collapsed": true
   },
   "outputs": [],
   "source": [
    "test_data = tf.data.Dataset.from_tensor_slices(test)\n",
    "test_data = test_data.batch(batch_size)"
   ]
  },
  {
   "cell_type": "code",
   "execution_count": 24,
   "metadata": {},
   "outputs": [
    {
     "name": "stdout",
     "output_type": "stream",
     "text": [
      "<BatchDataset shapes: ((?, 784), (?, 10)), types: (tf.float32, tf.float64)>\n"
     ]
    }
   ],
   "source": [
    "print(test_data)"
   ]
  },
  {
   "cell_type": "code",
   "execution_count": 14,
   "metadata": {},
   "outputs": [
    {
     "name": "stdout",
     "output_type": "stream",
     "text": [
      "(tf.float32, tf.float64)\n",
      "(TensorShape([Dimension(None), Dimension(784)]), TensorShape([Dimension(None), Dimension(10)]))\n"
     ]
    }
   ],
   "source": [
    "print(train_data.output_types)\n",
    "print(train_data.output_shapes)"
   ]
  },
  {
   "cell_type": "code",
   "execution_count": 15,
   "metadata": {
    "collapsed": true
   },
   "outputs": [],
   "source": [
    "iterator = tf.data.Iterator.from_structure(train_data.output_types,train_data.output_shapes)"
   ]
  },
  {
   "cell_type": "code",
   "execution_count": 16,
   "metadata": {
    "collapsed": true
   },
   "outputs": [],
   "source": [
    "img, label = iterator.get_next()"
   ]
  },
  {
   "cell_type": "code",
   "execution_count": 35,
   "metadata": {},
   "outputs": [
    {
     "name": "stdout",
     "output_type": "stream",
     "text": [
      "Tensor(\"IteratorGetNext:1\", shape=(?, 10), dtype=float64)\n"
     ]
    }
   ],
   "source": [
    "print(label)"
   ]
  },
  {
   "cell_type": "code",
   "execution_count": 18,
   "metadata": {
    "collapsed": true
   },
   "outputs": [],
   "source": [
    "train_init = iterator.make_initializer(train_data)\n",
    "test_init = iterator.make_initializer(test_data)"
   ]
  },
  {
   "cell_type": "code",
   "execution_count": 19,
   "metadata": {
    "collapsed": true
   },
   "outputs": [],
   "source": [
    "w = tf.get_variable(name = \"Weights\", dtype = tf.float32, shape = (784,10), initializer = tf.random_normal_initializer(mean=0.0,\n",
    "    stddev=1.0,seed=None,dtype=tf.float32))\n",
    "b = tf.get_variable(name = \"Bias\", dtype = tf.float32, shape = (1,1) , initializer = tf.zeros_initializer())"
   ]
  },
  {
   "cell_type": "code",
   "execution_count": 20,
   "metadata": {
    "collapsed": true
   },
   "outputs": [],
   "source": [
    "logits = tf.matmul(img,w) + b"
   ]
  },
  {
   "cell_type": "code",
   "execution_count": 21,
   "metadata": {
    "collapsed": true
   },
   "outputs": [],
   "source": [
    "entropy = tf.nn.softmax_cross_entropy_with_logits(labels=label, logits=logits)\n",
    "loss = tf.reduce_mean(entropy)"
   ]
  },
  {
   "cell_type": "code",
   "execution_count": 33,
   "metadata": {
    "collapsed": true
   },
   "outputs": [],
   "source": [
    "optimizer = tf.train.AdamOptimizer(learning_rate=0.001).minimize(loss)"
   ]
  },
  {
   "cell_type": "code",
   "execution_count": 34,
   "metadata": {},
   "outputs": [
    {
     "name": "stdout",
     "output_type": "stream",
     "text": [
      "Average loss epoch 0: 5.553724542329478\n",
      "Average loss epoch 1: 2.0240308701992036\n",
      "Average loss epoch 2: 1.2926190721434216\n",
      "Average loss epoch 3: 1.0135457294624906\n",
      "Average loss epoch 4: 0.8602579070385112\n",
      "Average loss epoch 5: 0.760311698982882\n",
      "Average loss epoch 6: 0.6894168471181116\n",
      "Average loss epoch 7: 0.6350925520062447\n",
      "Average loss epoch 8: 0.5932630167451016\n",
      "Average loss epoch 9: 0.5591764127445775\n",
      "Average loss epoch 10: 0.5311809979552446\n",
      "Average loss epoch 11: 0.507234031031298\n",
      "Average loss epoch 12: 0.48650355058354\n",
      "Average loss epoch 13: 0.4690629993067231\n",
      "Average loss epoch 14: 0.4534820486293283\n",
      "Average loss epoch 15: 0.4399673217950865\n",
      "Average loss epoch 16: 0.42749148177546126\n",
      "Average loss epoch 17: 0.41674007922410966\n",
      "Average loss epoch 18: 0.40671663156082466\n",
      "Average loss epoch 19: 0.39749280423965566\n",
      "Average loss epoch 20: 0.389822822133469\n",
      "Average loss epoch 21: 0.38187384742290476\n",
      "Average loss epoch 22: 0.3750682829770931\n",
      "Average loss epoch 23: 0.36849533905123555\n",
      "Average loss epoch 24: 0.36219351220616075\n",
      "Average loss epoch 25: 0.3572057265701682\n",
      "Average loss epoch 26: 0.35160395736957706\n",
      "Average loss epoch 27: 0.34679685572898666\n",
      "Average loss epoch 28: 0.34236165541549063\n",
      "Average loss epoch 29: 0.33793766625052274\n",
      "Average loss epoch 30: 0.33448774521780567\n",
      "Average loss epoch 31: 0.330452448614808\n",
      "Average loss epoch 32: 0.3268588394792967\n",
      "Average loss epoch 33: 0.3235302249186261\n",
      "Average loss epoch 34: 0.320340404330298\n",
      "Average loss epoch 35: 0.31735661371156226\n",
      "Average loss epoch 36: 0.31430805758681407\n",
      "Average loss epoch 37: 0.3115136867778939\n",
      "Average loss epoch 38: 0.3092171040731807\n",
      "Average loss epoch 39: 0.3062079374353553\n",
      "Average loss epoch 40: 0.30432571623214455\n",
      "Average loss epoch 41: 0.30194231474468874\n",
      "Average loss epoch 42: 0.2996304448607356\n",
      "Average loss epoch 43: 0.2973491453327412\n",
      "Average loss epoch 44: 0.2957058199962904\n",
      "Average loss epoch 45: 0.2936887450169685\n",
      "Average loss epoch 46: 0.29161420069461647\n",
      "Average loss epoch 47: 0.2900713712496813\n",
      "Average loss epoch 48: 0.2880129315998665\n",
      "Average loss epoch 49: 0.2867965054719947\n",
      "Average loss epoch 50: 0.2848558910191059\n",
      "Average loss epoch 51: 0.2832794757083405\n",
      "Average loss epoch 52: 0.28208791322486343\n",
      "Average loss epoch 53: 0.2804077881193438\n",
      "Average loss epoch 54: 0.2788936430285143\n",
      "Average loss epoch 55: 0.27797450733392737\n",
      "Average loss epoch 56: 0.2762589015586432\n",
      "Average loss epoch 57: 0.2752098049621942\n",
      "Average loss epoch 58: 0.274024866902551\n",
      "Average loss epoch 59: 0.27263531106155975\n",
      "Average loss epoch 60: 0.2719970334927703\n",
      "Average loss epoch 61: 0.2709324430241141\n",
      "Average loss epoch 62: 0.2697421913576681\n",
      "Average loss epoch 63: 0.26831485525120136\n",
      "Average loss epoch 64: 0.2674505363370097\n",
      "Average loss epoch 65: 0.2665035232901573\n",
      "Average loss epoch 66: 0.2656744308596434\n",
      "Average loss epoch 67: 0.26478733732256776\n",
      "Average loss epoch 68: 0.2639380274817001\n",
      "Average loss epoch 69: 0.2624225352912448\n",
      "Average loss epoch 70: 0.26242311506770377\n",
      "Average loss epoch 71: 0.2612809046929659\n",
      "Average loss epoch 72: 0.26062535709419915\n",
      "Average loss epoch 73: 0.25976601908373276\n",
      "Average loss epoch 74: 0.25900881818907207\n",
      "Average loss epoch 75: 0.25814707494059275\n",
      "Average loss epoch 76: 0.25765489220272664\n",
      "Average loss epoch 77: 0.2568603419113991\n",
      "Average loss epoch 78: 0.25642767042614695\n",
      "Average loss epoch 79: 0.25537483842913494\n",
      "Average loss epoch 80: 0.25491165092518164\n",
      "Average loss epoch 81: 0.25446517794977785\n",
      "Average loss epoch 82: 0.25368474503589233\n",
      "Average loss epoch 83: 0.25310154207224067\n",
      "Average loss epoch 84: 0.25242453938306764\n",
      "Average loss epoch 85: 0.25206427901636724\n",
      "Average loss epoch 86: 0.251078097210374\n",
      "Average loss epoch 87: 0.25093167588807813\n",
      "Average loss epoch 88: 0.25034796671811926\n",
      "Average loss epoch 89: 0.24965566396713257\n",
      "Average loss epoch 90: 0.2491507578208003\n",
      "Average loss epoch 91: 0.24874193999309874\n",
      "Average loss epoch 92: 0.248255078702472\n",
      "Average loss epoch 93: 0.24810693354107613\n",
      "Average loss epoch 94: 0.2474795429685781\n",
      "Average loss epoch 95: 0.24677589336453482\n",
      "Average loss epoch 96: 0.24644358662325283\n",
      "Average loss epoch 97: 0.24598654177646304\n",
      "Average loss epoch 98: 0.24526451231781826\n",
      "Average loss epoch 99: 0.24519524449525879\n",
      "Total time: 64.3948118686676 seconds\n",
      "Accuracy 0.9204\n"
     ]
    }
   ],
   "source": [
    "preds = tf.nn.softmax(logits)\n",
    "correct_preds = tf.equal(tf.argmax(preds, 1), tf.argmax(label, 1))\n",
    "accuracy = tf.reduce_sum(tf.cast(correct_preds, tf.float32))\n",
    "\n",
    "writer = tf.summary.FileWriter('C:/Users/USX28939/PYTHON_CODE_BASE/graphs', tf.get_default_graph())\n",
    "# to access the tensorboard graph use tensorboard --logdir training:C:\\path of the log dir\n",
    "# there is no equal sign after the logdir and add any text before the drive as its a bug\n",
    "with tf.Session() as sess:\n",
    "   \n",
    "    start_time = time.time()\n",
    "    sess.run(tf.global_variables_initializer())\n",
    "\n",
    "    # train the model n_epochs times\n",
    "    for i in range(n_epochs): \t\n",
    "        sess.run(train_init)\t# drawing samples from train_data\n",
    "        total_loss = 0\n",
    "        n_batches = 0\n",
    "        try:\n",
    "            while True:\n",
    "                _, l = sess.run([optimizer, loss])\n",
    "                total_loss += l\n",
    "                n_batches += 1\n",
    "        except tf.errors.OutOfRangeError:\n",
    "            pass\n",
    "        print('Average loss epoch {0}: {1}'.format(i, total_loss/n_batches))\n",
    "    print('Total time: {0} seconds'.format(time.time() - start_time))\n",
    "\n",
    "    # test the model\n",
    "    sess.run(test_init)\t\t\t# drawing samples from test_data\n",
    "    total_correct_preds = 0\n",
    "    try:\n",
    "        while True:\n",
    "            accuracy_batch = sess.run(accuracy)\n",
    "            total_correct_preds += accuracy_batch\n",
    "    except tf.errors.OutOfRangeError:\n",
    "        pass\n",
    "\n",
    "    print('Accuracy {0}'.format(total_correct_preds/n_test))\n",
    "writer.close()"
   ]
  },
  {
   "cell_type": "code",
   "execution_count": 26,
   "metadata": {
    "collapsed": true
   },
   "outputs": [],
   "source": [
    "import os as os"
   ]
  },
  {
   "cell_type": "code",
   "execution_count": 28,
   "metadata": {},
   "outputs": [
    {
     "data": {
      "text/plain": [
       "'C:\\\\Users\\\\USX28939\\\\PYTHON_CODE_BASE\\\\GitHub_Doc\\\\TensorFlow_Framework'"
      ]
     },
     "execution_count": 28,
     "metadata": {},
     "output_type": "execute_result"
    }
   ],
   "source": [
    "os.getcwd()"
   ]
  },
  {
   "cell_type": "code",
   "execution_count": null,
   "metadata": {
    "collapsed": true
   },
   "outputs": [],
   "source": []
  }
 ],
 "metadata": {
  "kernelspec": {
   "display_name": "Python 3",
   "language": "python",
   "name": "python3"
  },
  "language_info": {
   "codemirror_mode": {
    "name": "ipython",
    "version": 3
   },
   "file_extension": ".py",
   "mimetype": "text/x-python",
   "name": "python",
   "nbconvert_exporter": "python",
   "pygments_lexer": "ipython3",
   "version": "3.6.1"
  }
 },
 "nbformat": 4,
 "nbformat_minor": 2
}
