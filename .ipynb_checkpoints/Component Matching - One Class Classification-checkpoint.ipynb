{
 "cells": [
  {
   "cell_type": "markdown",
   "metadata": {
    "collapsed": true
   },
   "source": [
    "# Component Data"
   ]
  },
  {
   "cell_type": "code",
   "execution_count": 1,
   "metadata": {
    "collapsed": true
   },
   "outputs": [],
   "source": [
    "import pandas as pd\n",
    "import numpy as np\n",
    "import seaborn as sns\n",
    "import matplotlib.pyplot as plt"
   ]
  },
  {
   "cell_type": "code",
   "execution_count": 2,
   "metadata": {
    "collapsed": true
   },
   "outputs": [],
   "source": [
    "total_data  = pd.read_csv(\"C:\\\\R_Lang\\Hackathons\\\\Sample Data\\\\Classification\\\\vipin_sms_to_id.csv\")"
   ]
  },
  {
   "cell_type": "code",
   "execution_count": 3,
   "metadata": {},
   "outputs": [
    {
     "data": {
      "text/plain": [
       "(808, 310)"
      ]
     },
     "execution_count": 3,
     "metadata": {},
     "output_type": "execute_result"
    }
   ],
   "source": [
    "total_data.shape"
   ]
  },
  {
   "cell_type": "code",
   "execution_count": 4,
   "metadata": {},
   "outputs": [
    {
     "data": {
      "text/html": [
       "<div>\n",
       "<style>\n",
       "    .dataframe thead tr:only-child th {\n",
       "        text-align: right;\n",
       "    }\n",
       "\n",
       "    .dataframe thead th {\n",
       "        text-align: left;\n",
       "    }\n",
       "\n",
       "    .dataframe tbody tr th {\n",
       "        vertical-align: top;\n",
       "    }\n",
       "</style>\n",
       "<table border=\"1\" class=\"dataframe\">\n",
       "  <thead>\n",
       "    <tr style=\"text-align: right;\">\n",
       "      <th></th>\n",
       "      <th>SMSId</th>\n",
       "      <th>RadarId</th>\n",
       "      <th>CrashId</th>\n",
       "      <th>Submit Date</th>\n",
       "      <th>Current State</th>\n",
       "      <th>LogLocation</th>\n",
       "      <th>FileName</th>\n",
       "      <th>Current Component</th>\n",
       "      <th>ComponentMovement_1</th>\n",
       "      <th>SIG_100000</th>\n",
       "      <th>...</th>\n",
       "      <th>SIG_200280</th>\n",
       "      <th>SIG_200282</th>\n",
       "      <th>SIG_200284</th>\n",
       "      <th>SIG_200286</th>\n",
       "      <th>SIG_200288</th>\n",
       "      <th>SIG_200290</th>\n",
       "      <th>SIG_200292</th>\n",
       "      <th>SIG_200294</th>\n",
       "      <th>SIG_200296</th>\n",
       "      <th>SIG_200298</th>\n",
       "    </tr>\n",
       "  </thead>\n",
       "  <tbody>\n",
       "    <tr>\n",
       "      <th>0</th>\n",
       "      <td>1</td>\n",
       "      <td>Radar-33176651</td>\n",
       "      <td>null</td>\n",
       "      <td>7/7/2017 11:17</td>\n",
       "      <td>Closed</td>\n",
       "      <td>SMS20642181/log-bb-2017-06-27-11-33-32-444-bb-...</td>\n",
       "      <td>log-bb-2017-06-27-11-33-32-444-bb-trace_</td>\n",
       "      <td>E-RRC</td>\n",
       "      <td>E-RRC</td>\n",
       "      <td>0</td>\n",
       "      <td>...</td>\n",
       "      <td>0.0</td>\n",
       "      <td>0.0</td>\n",
       "      <td>0.0</td>\n",
       "      <td>0.0</td>\n",
       "      <td>0.0</td>\n",
       "      <td>0.0</td>\n",
       "      <td>0.0</td>\n",
       "      <td>0.0</td>\n",
       "      <td>0.0</td>\n",
       "      <td>NaN</td>\n",
       "    </tr>\n",
       "  </tbody>\n",
       "</table>\n",
       "<p>1 rows × 310 columns</p>\n",
       "</div>"
      ],
      "text/plain": [
       "   SMSId         RadarId CrashId     Submit Date Current State  \\\n",
       "0      1  Radar-33176651    null  7/7/2017 11:17        Closed   \n",
       "\n",
       "                                         LogLocation  \\\n",
       "0  SMS20642181/log-bb-2017-06-27-11-33-32-444-bb-...   \n",
       "\n",
       "                                   FileName Current Component  \\\n",
       "0  log-bb-2017-06-27-11-33-32-444-bb-trace_             E-RRC   \n",
       "\n",
       "  ComponentMovement_1  SIG_100000     ...      SIG_200280  SIG_200282  \\\n",
       "0               E-RRC           0     ...             0.0         0.0   \n",
       "\n",
       "   SIG_200284  SIG_200286  SIG_200288  SIG_200290  SIG_200292  SIG_200294  \\\n",
       "0         0.0         0.0         0.0         0.0         0.0         0.0   \n",
       "\n",
       "   SIG_200296  SIG_200298  \n",
       "0         0.0         NaN  \n",
       "\n",
       "[1 rows x 310 columns]"
      ]
     },
     "execution_count": 4,
     "metadata": {},
     "output_type": "execute_result"
    }
   ],
   "source": [
    "total_data.head(1)"
   ]
  },
  {
   "cell_type": "code",
   "execution_count": 5,
   "metadata": {},
   "outputs": [],
   "source": [
    "total_data = total_data.drop(['RadarId','CrashId','Submit Date','Current State','LogLocation','FileName','ComponentMovement_1', 'SIG_200298'], axis = 1)"
   ]
  },
  {
   "cell_type": "code",
   "execution_count": 6,
   "metadata": {},
   "outputs": [],
   "source": [
    "total_data = total_data.drop([807], axis = 0)"
   ]
  },
  {
   "cell_type": "code",
   "execution_count": null,
   "metadata": {
    "collapsed": true
   },
   "outputs": [],
   "source": [
    "#total_data.groupby(['Current Component'], sort = False).count()"
   ]
  },
  {
   "cell_type": "code",
   "execution_count": 7,
   "metadata": {
    "collapsed": true
   },
   "outputs": [],
   "source": [
    "total_data.loc[total_data['Current Component'] != 'E-RRC','Current Component' ] =0"
   ]
  },
  {
   "cell_type": "code",
   "execution_count": 8,
   "metadata": {
    "collapsed": true
   },
   "outputs": [],
   "source": [
    "total_data.loc[total_data['Current Component'] == 'E-RRC' ,'Current Component'] = 1"
   ]
  },
  {
   "cell_type": "code",
   "execution_count": 9,
   "metadata": {},
   "outputs": [
    {
     "data": {
      "text/html": [
       "<div>\n",
       "<style>\n",
       "    .dataframe thead tr:only-child th {\n",
       "        text-align: right;\n",
       "    }\n",
       "\n",
       "    .dataframe thead th {\n",
       "        text-align: left;\n",
       "    }\n",
       "\n",
       "    .dataframe tbody tr th {\n",
       "        vertical-align: top;\n",
       "    }\n",
       "</style>\n",
       "<table border=\"1\" class=\"dataframe\">\n",
       "  <thead>\n",
       "    <tr style=\"text-align: right;\">\n",
       "      <th></th>\n",
       "      <th>SMSId</th>\n",
       "      <th>Current Component</th>\n",
       "      <th>SIG_100000</th>\n",
       "      <th>SIG_100002</th>\n",
       "      <th>SIG_100004</th>\n",
       "      <th>SIG_100006</th>\n",
       "      <th>SIG_100008</th>\n",
       "      <th>SIG_100010</th>\n",
       "      <th>SIG_100012</th>\n",
       "      <th>SIG_100014</th>\n",
       "      <th>...</th>\n",
       "      <th>SIG_200278</th>\n",
       "      <th>SIG_200280</th>\n",
       "      <th>SIG_200282</th>\n",
       "      <th>SIG_200284</th>\n",
       "      <th>SIG_200286</th>\n",
       "      <th>SIG_200288</th>\n",
       "      <th>SIG_200290</th>\n",
       "      <th>SIG_200292</th>\n",
       "      <th>SIG_200294</th>\n",
       "      <th>SIG_200296</th>\n",
       "    </tr>\n",
       "  </thead>\n",
       "  <tbody>\n",
       "    <tr>\n",
       "      <th>0</th>\n",
       "      <td>1.0</td>\n",
       "      <td>1.0</td>\n",
       "      <td>0.0</td>\n",
       "      <td>0.0</td>\n",
       "      <td>0.0</td>\n",
       "      <td>0.0</td>\n",
       "      <td>0.0</td>\n",
       "      <td>0.0</td>\n",
       "      <td>0.0</td>\n",
       "      <td>0.0</td>\n",
       "      <td>...</td>\n",
       "      <td>0.0</td>\n",
       "      <td>0.0</td>\n",
       "      <td>0.0</td>\n",
       "      <td>0.0</td>\n",
       "      <td>0.0</td>\n",
       "      <td>0.0</td>\n",
       "      <td>0.0</td>\n",
       "      <td>0.0</td>\n",
       "      <td>0.0</td>\n",
       "      <td>0.0</td>\n",
       "    </tr>\n",
       "    <tr>\n",
       "      <th>1</th>\n",
       "      <td>2.0</td>\n",
       "      <td>1.0</td>\n",
       "      <td>0.0</td>\n",
       "      <td>0.0</td>\n",
       "      <td>0.0</td>\n",
       "      <td>0.0</td>\n",
       "      <td>0.0</td>\n",
       "      <td>0.0</td>\n",
       "      <td>0.0</td>\n",
       "      <td>0.0</td>\n",
       "      <td>...</td>\n",
       "      <td>0.0</td>\n",
       "      <td>0.0</td>\n",
       "      <td>0.0</td>\n",
       "      <td>0.0</td>\n",
       "      <td>0.0</td>\n",
       "      <td>0.0</td>\n",
       "      <td>0.0</td>\n",
       "      <td>0.0</td>\n",
       "      <td>0.0</td>\n",
       "      <td>0.0</td>\n",
       "    </tr>\n",
       "    <tr>\n",
       "      <th>2</th>\n",
       "      <td>3.0</td>\n",
       "      <td>0.0</td>\n",
       "      <td>0.0</td>\n",
       "      <td>0.0</td>\n",
       "      <td>0.0</td>\n",
       "      <td>0.0</td>\n",
       "      <td>0.0</td>\n",
       "      <td>0.0</td>\n",
       "      <td>0.0</td>\n",
       "      <td>0.0</td>\n",
       "      <td>...</td>\n",
       "      <td>0.0</td>\n",
       "      <td>0.0</td>\n",
       "      <td>0.0</td>\n",
       "      <td>0.0</td>\n",
       "      <td>0.0</td>\n",
       "      <td>0.0</td>\n",
       "      <td>0.0</td>\n",
       "      <td>0.0</td>\n",
       "      <td>0.0</td>\n",
       "      <td>0.0</td>\n",
       "    </tr>\n",
       "    <tr>\n",
       "      <th>3</th>\n",
       "      <td>4.0</td>\n",
       "      <td>0.0</td>\n",
       "      <td>0.0</td>\n",
       "      <td>0.0</td>\n",
       "      <td>0.0</td>\n",
       "      <td>0.0</td>\n",
       "      <td>0.0</td>\n",
       "      <td>0.0</td>\n",
       "      <td>0.0</td>\n",
       "      <td>0.0</td>\n",
       "      <td>...</td>\n",
       "      <td>0.0</td>\n",
       "      <td>0.0</td>\n",
       "      <td>0.0</td>\n",
       "      <td>0.0</td>\n",
       "      <td>0.0</td>\n",
       "      <td>0.0</td>\n",
       "      <td>0.0</td>\n",
       "      <td>0.0</td>\n",
       "      <td>0.0</td>\n",
       "      <td>0.0</td>\n",
       "    </tr>\n",
       "  </tbody>\n",
       "</table>\n",
       "<p>4 rows × 302 columns</p>\n",
       "</div>"
      ],
      "text/plain": [
       "   SMSId  Current Component  SIG_100000  SIG_100002  SIG_100004  SIG_100006  \\\n",
       "0    1.0                1.0         0.0         0.0         0.0         0.0   \n",
       "1    2.0                1.0         0.0         0.0         0.0         0.0   \n",
       "2    3.0                0.0         0.0         0.0         0.0         0.0   \n",
       "3    4.0                0.0         0.0         0.0         0.0         0.0   \n",
       "\n",
       "   SIG_100008  SIG_100010  SIG_100012  SIG_100014     ...      SIG_200278  \\\n",
       "0         0.0         0.0         0.0         0.0     ...             0.0   \n",
       "1         0.0         0.0         0.0         0.0     ...             0.0   \n",
       "2         0.0         0.0         0.0         0.0     ...             0.0   \n",
       "3         0.0         0.0         0.0         0.0     ...             0.0   \n",
       "\n",
       "   SIG_200280  SIG_200282  SIG_200284  SIG_200286  SIG_200288  SIG_200290  \\\n",
       "0         0.0         0.0         0.0         0.0         0.0         0.0   \n",
       "1         0.0         0.0         0.0         0.0         0.0         0.0   \n",
       "2         0.0         0.0         0.0         0.0         0.0         0.0   \n",
       "3         0.0         0.0         0.0         0.0         0.0         0.0   \n",
       "\n",
       "   SIG_200292  SIG_200294  SIG_200296  \n",
       "0         0.0         0.0         0.0  \n",
       "1         0.0         0.0         0.0  \n",
       "2         0.0         0.0         0.0  \n",
       "3         0.0         0.0         0.0  \n",
       "\n",
       "[4 rows x 302 columns]"
      ]
     },
     "execution_count": 9,
     "metadata": {},
     "output_type": "execute_result"
    }
   ],
   "source": [
    "total_data.astype(np.float64).head(4)"
   ]
  },
  {
   "cell_type": "code",
   "execution_count": 10,
   "metadata": {
    "collapsed": true
   },
   "outputs": [],
   "source": [
    "total_data_Y = total_data[\"Current Component\"].copy().astype(np.float64)"
   ]
  },
  {
   "cell_type": "code",
   "execution_count": 11,
   "metadata": {},
   "outputs": [
    {
     "data": {
      "text/plain": [
       "0    1.0\n",
       "1    1.0\n",
       "2    0.0\n",
       "3    0.0\n",
       "4    0.0\n",
       "Name: Current Component, dtype: float64"
      ]
     },
     "execution_count": 11,
     "metadata": {},
     "output_type": "execute_result"
    }
   ],
   "source": [
    "total_data_Y.head(5)"
   ]
  },
  {
   "cell_type": "code",
   "execution_count": null,
   "metadata": {
    "collapsed": true
   },
   "outputs": [],
   "source": [
    "#total_data_YY =  total_data_Y.to_frame(name =  \"Current Component\")"
   ]
  },
  {
   "cell_type": "code",
   "execution_count": 12,
   "metadata": {
    "collapsed": true
   },
   "outputs": [],
   "source": [
    "total_data_X = total_data.drop([\"Current Component\"], axis = 1).copy()"
   ]
  },
  {
   "cell_type": "code",
   "execution_count": 13,
   "metadata": {
    "collapsed": true
   },
   "outputs": [],
   "source": [
    "#total_data_X.reset_index(drop=True)\n",
    "#total_data_arr_X = total_data_X.as_matrix(columns=None)"
   ]
  },
  {
   "cell_type": "code",
   "execution_count": 14,
   "metadata": {},
   "outputs": [
    {
     "data": {
      "text/plain": [
       "((807, 301), (807,))"
      ]
     },
     "execution_count": 14,
     "metadata": {},
     "output_type": "execute_result"
    }
   ],
   "source": [
    " total_data_X.shape, total_data_Y.shape"
   ]
  },
  {
   "cell_type": "code",
   "execution_count": null,
   "metadata": {
    "collapsed": true
   },
   "outputs": [],
   "source": [
    "#total_data_Y.reset_index(drop=True)\n",
    "#total_data_Y=total_data_Y.astype('int')\n",
    "#total_data_arr_Y = total_data_Y.as_matrix(columns=None)"
   ]
  },
  {
   "cell_type": "code",
   "execution_count": null,
   "metadata": {
    "collapsed": true
   },
   "outputs": [],
   "source": [
    "#total_data_arr_Y.shape, total_data_arr_X.shape, total_data_Y.shape, total_data_X.shape"
   ]
  },
  {
   "cell_type": "code",
   "execution_count": null,
   "metadata": {
    "collapsed": true
   },
   "outputs": [],
   "source": [
    "#type(total_data_arr_Y),type(total_data_arr_X),type(total_data_Y),type(total_data_X)"
   ]
  },
  {
   "cell_type": "code",
   "execution_count": 15,
   "metadata": {
    "scrolled": true
   },
   "outputs": [
    {
     "data": {
      "text/html": [
       "<div>\n",
       "<style>\n",
       "    .dataframe thead tr:only-child th {\n",
       "        text-align: right;\n",
       "    }\n",
       "\n",
       "    .dataframe thead th {\n",
       "        text-align: left;\n",
       "    }\n",
       "\n",
       "    .dataframe tbody tr th {\n",
       "        vertical-align: top;\n",
       "    }\n",
       "</style>\n",
       "<table border=\"1\" class=\"dataframe\">\n",
       "  <thead>\n",
       "    <tr style=\"text-align: right;\">\n",
       "      <th></th>\n",
       "      <th>SMSId</th>\n",
       "      <th>SIG_100000</th>\n",
       "      <th>SIG_100002</th>\n",
       "      <th>SIG_100004</th>\n",
       "      <th>SIG_100006</th>\n",
       "      <th>SIG_100008</th>\n",
       "      <th>SIG_100010</th>\n",
       "      <th>SIG_100012</th>\n",
       "      <th>SIG_100014</th>\n",
       "      <th>SIG_100016</th>\n",
       "      <th>...</th>\n",
       "      <th>SIG_200278</th>\n",
       "      <th>SIG_200280</th>\n",
       "      <th>SIG_200282</th>\n",
       "      <th>SIG_200284</th>\n",
       "      <th>SIG_200286</th>\n",
       "      <th>SIG_200288</th>\n",
       "      <th>SIG_200290</th>\n",
       "      <th>SIG_200292</th>\n",
       "      <th>SIG_200294</th>\n",
       "      <th>SIG_200296</th>\n",
       "    </tr>\n",
       "  </thead>\n",
       "  <tbody>\n",
       "    <tr>\n",
       "      <th>count</th>\n",
       "      <td>807.000000</td>\n",
       "      <td>807.000000</td>\n",
       "      <td>807.000000</td>\n",
       "      <td>807.000000</td>\n",
       "      <td>807.0</td>\n",
       "      <td>807.000000</td>\n",
       "      <td>807.000000</td>\n",
       "      <td>807.000000</td>\n",
       "      <td>807.0</td>\n",
       "      <td>807.0</td>\n",
       "      <td>...</td>\n",
       "      <td>807.0</td>\n",
       "      <td>807.0</td>\n",
       "      <td>807.0</td>\n",
       "      <td>807.0</td>\n",
       "      <td>807.0</td>\n",
       "      <td>807.0</td>\n",
       "      <td>807.0</td>\n",
       "      <td>807.0</td>\n",
       "      <td>807.0</td>\n",
       "      <td>807.0</td>\n",
       "    </tr>\n",
       "    <tr>\n",
       "      <th>mean</th>\n",
       "      <td>404.000000</td>\n",
       "      <td>0.070632</td>\n",
       "      <td>0.009913</td>\n",
       "      <td>0.009913</td>\n",
       "      <td>0.0</td>\n",
       "      <td>0.006196</td>\n",
       "      <td>0.001239</td>\n",
       "      <td>0.001239</td>\n",
       "      <td>0.0</td>\n",
       "      <td>0.0</td>\n",
       "      <td>...</td>\n",
       "      <td>0.0</td>\n",
       "      <td>0.0</td>\n",
       "      <td>0.0</td>\n",
       "      <td>0.0</td>\n",
       "      <td>0.0</td>\n",
       "      <td>0.0</td>\n",
       "      <td>0.0</td>\n",
       "      <td>0.0</td>\n",
       "      <td>0.0</td>\n",
       "      <td>0.0</td>\n",
       "    </tr>\n",
       "    <tr>\n",
       "      <th>std</th>\n",
       "      <td>233.105126</td>\n",
       "      <td>0.256368</td>\n",
       "      <td>0.099132</td>\n",
       "      <td>0.099132</td>\n",
       "      <td>0.0</td>\n",
       "      <td>0.078518</td>\n",
       "      <td>0.035202</td>\n",
       "      <td>0.035202</td>\n",
       "      <td>0.0</td>\n",
       "      <td>0.0</td>\n",
       "      <td>...</td>\n",
       "      <td>0.0</td>\n",
       "      <td>0.0</td>\n",
       "      <td>0.0</td>\n",
       "      <td>0.0</td>\n",
       "      <td>0.0</td>\n",
       "      <td>0.0</td>\n",
       "      <td>0.0</td>\n",
       "      <td>0.0</td>\n",
       "      <td>0.0</td>\n",
       "      <td>0.0</td>\n",
       "    </tr>\n",
       "    <tr>\n",
       "      <th>min</th>\n",
       "      <td>1.000000</td>\n",
       "      <td>0.000000</td>\n",
       "      <td>0.000000</td>\n",
       "      <td>0.000000</td>\n",
       "      <td>0.0</td>\n",
       "      <td>0.000000</td>\n",
       "      <td>0.000000</td>\n",
       "      <td>0.000000</td>\n",
       "      <td>0.0</td>\n",
       "      <td>0.0</td>\n",
       "      <td>...</td>\n",
       "      <td>0.0</td>\n",
       "      <td>0.0</td>\n",
       "      <td>0.0</td>\n",
       "      <td>0.0</td>\n",
       "      <td>0.0</td>\n",
       "      <td>0.0</td>\n",
       "      <td>0.0</td>\n",
       "      <td>0.0</td>\n",
       "      <td>0.0</td>\n",
       "      <td>0.0</td>\n",
       "    </tr>\n",
       "    <tr>\n",
       "      <th>25%</th>\n",
       "      <td>202.500000</td>\n",
       "      <td>0.000000</td>\n",
       "      <td>0.000000</td>\n",
       "      <td>0.000000</td>\n",
       "      <td>0.0</td>\n",
       "      <td>0.000000</td>\n",
       "      <td>0.000000</td>\n",
       "      <td>0.000000</td>\n",
       "      <td>0.0</td>\n",
       "      <td>0.0</td>\n",
       "      <td>...</td>\n",
       "      <td>0.0</td>\n",
       "      <td>0.0</td>\n",
       "      <td>0.0</td>\n",
       "      <td>0.0</td>\n",
       "      <td>0.0</td>\n",
       "      <td>0.0</td>\n",
       "      <td>0.0</td>\n",
       "      <td>0.0</td>\n",
       "      <td>0.0</td>\n",
       "      <td>0.0</td>\n",
       "    </tr>\n",
       "    <tr>\n",
       "      <th>50%</th>\n",
       "      <td>404.000000</td>\n",
       "      <td>0.000000</td>\n",
       "      <td>0.000000</td>\n",
       "      <td>0.000000</td>\n",
       "      <td>0.0</td>\n",
       "      <td>0.000000</td>\n",
       "      <td>0.000000</td>\n",
       "      <td>0.000000</td>\n",
       "      <td>0.0</td>\n",
       "      <td>0.0</td>\n",
       "      <td>...</td>\n",
       "      <td>0.0</td>\n",
       "      <td>0.0</td>\n",
       "      <td>0.0</td>\n",
       "      <td>0.0</td>\n",
       "      <td>0.0</td>\n",
       "      <td>0.0</td>\n",
       "      <td>0.0</td>\n",
       "      <td>0.0</td>\n",
       "      <td>0.0</td>\n",
       "      <td>0.0</td>\n",
       "    </tr>\n",
       "    <tr>\n",
       "      <th>75%</th>\n",
       "      <td>605.500000</td>\n",
       "      <td>0.000000</td>\n",
       "      <td>0.000000</td>\n",
       "      <td>0.000000</td>\n",
       "      <td>0.0</td>\n",
       "      <td>0.000000</td>\n",
       "      <td>0.000000</td>\n",
       "      <td>0.000000</td>\n",
       "      <td>0.0</td>\n",
       "      <td>0.0</td>\n",
       "      <td>...</td>\n",
       "      <td>0.0</td>\n",
       "      <td>0.0</td>\n",
       "      <td>0.0</td>\n",
       "      <td>0.0</td>\n",
       "      <td>0.0</td>\n",
       "      <td>0.0</td>\n",
       "      <td>0.0</td>\n",
       "      <td>0.0</td>\n",
       "      <td>0.0</td>\n",
       "      <td>0.0</td>\n",
       "    </tr>\n",
       "    <tr>\n",
       "      <th>max</th>\n",
       "      <td>807.000000</td>\n",
       "      <td>1.000000</td>\n",
       "      <td>1.000000</td>\n",
       "      <td>1.000000</td>\n",
       "      <td>0.0</td>\n",
       "      <td>1.000000</td>\n",
       "      <td>1.000000</td>\n",
       "      <td>1.000000</td>\n",
       "      <td>0.0</td>\n",
       "      <td>0.0</td>\n",
       "      <td>...</td>\n",
       "      <td>0.0</td>\n",
       "      <td>0.0</td>\n",
       "      <td>0.0</td>\n",
       "      <td>0.0</td>\n",
       "      <td>0.0</td>\n",
       "      <td>0.0</td>\n",
       "      <td>0.0</td>\n",
       "      <td>0.0</td>\n",
       "      <td>0.0</td>\n",
       "      <td>0.0</td>\n",
       "    </tr>\n",
       "  </tbody>\n",
       "</table>\n",
       "<p>8 rows × 301 columns</p>\n",
       "</div>"
      ],
      "text/plain": [
       "            SMSId  SIG_100000  SIG_100002  SIG_100004  SIG_100006  SIG_100008  \\\n",
       "count  807.000000  807.000000  807.000000  807.000000       807.0  807.000000   \n",
       "mean   404.000000    0.070632    0.009913    0.009913         0.0    0.006196   \n",
       "std    233.105126    0.256368    0.099132    0.099132         0.0    0.078518   \n",
       "min      1.000000    0.000000    0.000000    0.000000         0.0    0.000000   \n",
       "25%    202.500000    0.000000    0.000000    0.000000         0.0    0.000000   \n",
       "50%    404.000000    0.000000    0.000000    0.000000         0.0    0.000000   \n",
       "75%    605.500000    0.000000    0.000000    0.000000         0.0    0.000000   \n",
       "max    807.000000    1.000000    1.000000    1.000000         0.0    1.000000   \n",
       "\n",
       "       SIG_100010  SIG_100012  SIG_100014  SIG_100016     ...      SIG_200278  \\\n",
       "count  807.000000  807.000000       807.0       807.0     ...           807.0   \n",
       "mean     0.001239    0.001239         0.0         0.0     ...             0.0   \n",
       "std      0.035202    0.035202         0.0         0.0     ...             0.0   \n",
       "min      0.000000    0.000000         0.0         0.0     ...             0.0   \n",
       "25%      0.000000    0.000000         0.0         0.0     ...             0.0   \n",
       "50%      0.000000    0.000000         0.0         0.0     ...             0.0   \n",
       "75%      0.000000    0.000000         0.0         0.0     ...             0.0   \n",
       "max      1.000000    1.000000         0.0         0.0     ...             0.0   \n",
       "\n",
       "       SIG_200280  SIG_200282  SIG_200284  SIG_200286  SIG_200288  SIG_200290  \\\n",
       "count       807.0       807.0       807.0       807.0       807.0       807.0   \n",
       "mean          0.0         0.0         0.0         0.0         0.0         0.0   \n",
       "std           0.0         0.0         0.0         0.0         0.0         0.0   \n",
       "min           0.0         0.0         0.0         0.0         0.0         0.0   \n",
       "25%           0.0         0.0         0.0         0.0         0.0         0.0   \n",
       "50%           0.0         0.0         0.0         0.0         0.0         0.0   \n",
       "75%           0.0         0.0         0.0         0.0         0.0         0.0   \n",
       "max           0.0         0.0         0.0         0.0         0.0         0.0   \n",
       "\n",
       "       SIG_200292  SIG_200294  SIG_200296  \n",
       "count       807.0       807.0       807.0  \n",
       "mean          0.0         0.0         0.0  \n",
       "std           0.0         0.0         0.0  \n",
       "min           0.0         0.0         0.0  \n",
       "25%           0.0         0.0         0.0  \n",
       "50%           0.0         0.0         0.0  \n",
       "75%           0.0         0.0         0.0  \n",
       "max           0.0         0.0         0.0  \n",
       "\n",
       "[8 rows x 301 columns]"
      ]
     },
     "execution_count": 15,
     "metadata": {},
     "output_type": "execute_result"
    }
   ],
   "source": [
    " total_data_X.describe()"
   ]
  },
  {
   "cell_type": "code",
   "execution_count": 16,
   "metadata": {
    "collapsed": true
   },
   "outputs": [],
   "source": [
    "seed = 2\n",
    "scoring = 'accuracy'"
   ]
  },
  {
   "cell_type": "code",
   "execution_count": 17,
   "metadata": {
    "collapsed": true
   },
   "outputs": [],
   "source": [
    "\n",
    "from sklearn.metrics import classification_report\n",
    "from sklearn.metrics import confusion_matrix\n",
    "from sklearn.metrics import accuracy_score\n",
    "from sklearn.linear_model import LogisticRegression\n",
    "from sklearn.tree import DecisionTreeClassifier\n",
    "from sklearn.neighbors import KNeighborsClassifier\n",
    "from sklearn.discriminant_analysis import LinearDiscriminantAnalysis\n",
    "from sklearn.naive_bayes import GaussianNB\n",
    "from sklearn.svm import SVC\n",
    "from sklearn.ensemble import RandomForestClassifier\n",
    "from sklearn import model_selection"
   ]
  },
  {
   "cell_type": "code",
   "execution_count": 18,
   "metadata": {
    "collapsed": true
   },
   "outputs": [],
   "source": [
    "X_train, X_validation, Y_train, Y_validation = model_selection.train_test_split(total_data_X, total_data_Y, test_size=.2, random_state=seed)"
   ]
  },
  {
   "cell_type": "code",
   "execution_count": 19,
   "metadata": {},
   "outputs": [
    {
     "data": {
      "text/plain": [
       "((645, 301), (162, 301), (645,), (162,))"
      ]
     },
     "execution_count": 19,
     "metadata": {},
     "output_type": "execute_result"
    }
   ],
   "source": [
    "X_train.shape, X_validation.shape, Y_train.shape, Y_validation.shape"
   ]
  },
  {
   "cell_type": "code",
   "execution_count": 20,
   "metadata": {},
   "outputs": [
    {
     "name": "stdout",
     "output_type": "stream",
     "text": [
      "LR: 0.785986 (0.037453)\n",
      "KNN: 0.775240 (0.025815)\n",
      "CART: 0.789207 (0.044268)\n",
      "NB: 0.482308 (0.055118)\n",
      "SVM: 0.779736 (0.031454)\n",
      "RanFor: 0.804447 (0.048463)\n"
     ]
    }
   ],
   "source": [
    "models = []\n",
    "models.append(('LR', LogisticRegression()))\n",
    "#models.append(('LDA', LinearDiscriminantAnalysis()))\n",
    "models.append(('KNN', KNeighborsClassifier()))\n",
    "models.append(('CART', DecisionTreeClassifier()))\n",
    "models.append(('NB', GaussianNB()))\n",
    "models.append(('SVM', SVC()))\n",
    "models.append(('RanFor', RandomForestClassifier()))\n",
    "# evaluate each model in turn\n",
    "results = []\n",
    "names = []\n",
    "for name, model in models:\n",
    "    kfold = model_selection.KFold(n_splits=10, random_state=seed)\n",
    "    cv_results = model_selection.cross_val_score(model, X_train.loc[:,\"SIG_100000\":], Y_train, cv=kfold, scoring=scoring)\n",
    "    results.append(cv_results)\n",
    "    names.append(name)\n",
    "    msg = \"%s: %f (%f)\" % (name, cv_results.mean(), cv_results.std())\n",
    "    print(msg)"
   ]
  },
  {
   "cell_type": "code",
   "execution_count": 21,
   "metadata": {},
   "outputs": [
    {
     "name": "stdout",
     "output_type": "stream",
     "text": [
      "0.852713178295\n",
      "0.70987654321\n",
      "[[64 14]\n",
      " [33 51]]\n",
      "             precision    recall  f1-score   support\n",
      "\n",
      "        0.0       0.66      0.82      0.73        78\n",
      "        1.0       0.78      0.61      0.68        84\n",
      "\n",
      "avg / total       0.72      0.71      0.71       162\n",
      "\n"
     ]
    }
   ],
   "source": [
    "knn = LogisticRegression( )\n",
    "knn.fit(X_train.loc[:,\"SIG_100000\":], Y_train)\n",
    "predictions_val = knn.predict(X_validation.loc[:,\"SIG_100000\":])\n",
    "predictions_train = knn.predict(X_train.loc[:,\"SIG_100000\":])\n",
    "print(accuracy_score(Y_train, predictions_train))\n",
    "print(accuracy_score(Y_validation, predictions_val))\n",
    "print(confusion_matrix(Y_validation, predictions_val,labels = [0,1]))\n",
    "print(classification_report(Y_validation, predictions_val))\n",
    "#print(X_validation.shape)"
   ]
  },
  {
   "cell_type": "code",
   "execution_count": 42,
   "metadata": {},
   "outputs": [],
   "source": [
    "predicti = pd.DataFrame(predictions_val)\n",
    "predicti.reset_index(drop=True, inplace=True)"
   ]
  },
  {
   "cell_type": "code",
   "execution_count": 43,
   "metadata": {},
   "outputs": [],
   "source": [
    "breakupval = pd.concat([X_validation,Y_validation], axis = 1\n",
    "                      ,ignore_index=False)\n",
    "breakupval.reset_index(drop=True, inplace=True)\n",
    "breakup_train = pd.concat([breakupval,predicti], axis = 1\n",
    "                      ,ignore_index=False, names = [\"Actual test\",'Predicted Value']  )"
   ]
  },
  {
   "cell_type": "code",
   "execution_count": 44,
   "metadata": {},
   "outputs": [],
   "source": [
    "#breakup_train.head(2)"
   ]
  },
  {
   "cell_type": "code",
   "execution_count": 45,
   "metadata": {},
   "outputs": [],
   "source": [
    "breakup_train.rename(index=str, columns={\"Current Component\":\"Actual Value\", 0: \"Predicted Value\"}, inplace = True)"
   ]
  },
  {
   "cell_type": "code",
   "execution_count": 46,
   "metadata": {
    "collapsed": true
   },
   "outputs": [],
   "source": [
    "breakup_train.to_csv(\"C:\\\\R_Lang\\Hackathons\\\\Sample Data\\\\Classification\\\\Validation_Shuffle_Act_vs_Pred.csv\",index=False)"
   ]
  },
  {
   "cell_type": "code",
   "execution_count": 48,
   "metadata": {},
   "outputs": [],
   "source": [
    "predictin = pd.DataFrame(predictions_train)\n",
    "predictin.reset_index(drop=True, inplace=True)\n",
    "breakuptrain = pd.concat([X_train,Y_train], axis = 1\n",
    "                      ,ignore_index=False)\n",
    "breakuptrain.reset_index(drop=True, inplace=True)\n",
    "breakuptrain = pd.concat([breakuptrain,predictin], axis = 1\n",
    "                      ,ignore_index=False, names = [\"Actual test\",'Predicted Value']  )\n",
    "breakuptrain.rename(index=str, columns={\"Current Component\":\"Actual Value\", 0: \"Predicted Value\"}, inplace = True)"
   ]
  },
  {
   "cell_type": "code",
   "execution_count": 49,
   "metadata": {
    "collapsed": true
   },
   "outputs": [],
   "source": [
    "breakuptrain.to_csv(\"C:\\\\R_Lang\\Hackathons\\\\Sample Data\\\\Classification\\\\Train_Shuffle_Act_vs_Pred.csv\",index=False)"
   ]
  },
  {
   "cell_type": "code",
   "execution_count": 27,
   "metadata": {},
   "outputs": [
    {
     "name": "stdout",
     "output_type": "stream",
     "text": [
      "0.945736434109\n",
      "0.808641975309\n",
      "[[73  5]\n",
      " [26 58]]\n",
      "             precision    recall  f1-score   support\n",
      "\n",
      "        0.0       0.74      0.94      0.82        78\n",
      "        1.0       0.92      0.69      0.79        84\n",
      "\n",
      "avg / total       0.83      0.81      0.81       162\n",
      "\n"
     ]
    }
   ],
   "source": [
    "rf = RandomForestClassifier( )\n",
    "#knn.fit(X_train, Y_train)\n",
    "rf.fit(X_train.loc[:,\"SIG_100000\":], Y_train)\n",
    "predictions_val = rf.predict(X_validation.loc[:,\"SIG_100000\":])\n",
    "predictions_train = rf.predict(X_train.loc[:,\"SIG_100000\":])\n",
    "print(accuracy_score(Y_train, predictions_train))\n",
    "print(accuracy_score(Y_validation, predictions_val))\n",
    "print(confusion_matrix(Y_validation, predictions_val,labels = [0,1]))\n",
    "print(classification_report(Y_validation, predictions_val))"
   ]
  },
  {
   "cell_type": "markdown",
   "metadata": {},
   "source": [
    "#### This shows the predicted vs True( Actual) cases. 88 and 43 are the right predictions and 23 and 8 are incorrect, as the Machine predicted as 0 but in actual it was 1 and vice versa."
   ]
  },
  {
   "cell_type": "code",
   "execution_count": 28,
   "metadata": {},
   "outputs": [
    {
     "data": {
      "text/html": [
       "<div>\n",
       "<style>\n",
       "    .dataframe thead tr:only-child th {\n",
       "        text-align: right;\n",
       "    }\n",
       "\n",
       "    .dataframe thead th {\n",
       "        text-align: left;\n",
       "    }\n",
       "\n",
       "    .dataframe tbody tr th {\n",
       "        vertical-align: top;\n",
       "    }\n",
       "</style>\n",
       "<table border=\"1\" class=\"dataframe\">\n",
       "  <thead>\n",
       "    <tr style=\"text-align: right;\">\n",
       "      <th>Predicted</th>\n",
       "      <th>0.0</th>\n",
       "      <th>1.0</th>\n",
       "      <th>All</th>\n",
       "    </tr>\n",
       "    <tr>\n",
       "      <th>True</th>\n",
       "      <th></th>\n",
       "      <th></th>\n",
       "      <th></th>\n",
       "    </tr>\n",
       "  </thead>\n",
       "  <tbody>\n",
       "    <tr>\n",
       "      <th>0.0</th>\n",
       "      <td>73</td>\n",
       "      <td>5</td>\n",
       "      <td>78</td>\n",
       "    </tr>\n",
       "    <tr>\n",
       "      <th>1.0</th>\n",
       "      <td>26</td>\n",
       "      <td>58</td>\n",
       "      <td>84</td>\n",
       "    </tr>\n",
       "    <tr>\n",
       "      <th>All</th>\n",
       "      <td>99</td>\n",
       "      <td>63</td>\n",
       "      <td>162</td>\n",
       "    </tr>\n",
       "  </tbody>\n",
       "</table>\n",
       "</div>"
      ],
      "text/plain": [
       "Predicted  0.0  1.0  All\n",
       "True                    \n",
       "0.0         73    5   78\n",
       "1.0         26   58   84\n",
       "All         99   63  162"
      ]
     },
     "execution_count": 28,
     "metadata": {},
     "output_type": "execute_result"
    }
   ],
   "source": [
    "pd.crosstab(Y_validation, predictions_val,rownames=['True'], colnames=['Predicted'], margins=True)"
   ]
  },
  {
   "cell_type": "code",
   "execution_count": null,
   "metadata": {},
   "outputs": [],
   "source": []
  },
  {
   "cell_type": "code",
   "execution_count": 29,
   "metadata": {},
   "outputs": [],
   "source": [
    "importance = rf.feature_importances_\n",
    "importance = pd.DataFrame(importance, index=list(X_train.loc[[],\"SIG_100000\":]), \n",
    "                          columns=[\"Importance\"])"
   ]
  },
  {
   "cell_type": "code",
   "execution_count": null,
   "metadata": {},
   "outputs": [],
   "source": [
    "importance"
   ]
  },
  {
   "cell_type": "code",
   "execution_count": null,
   "metadata": {
    "collapsed": true
   },
   "outputs": [],
   "source": [
    "data_sorted_values = importance.sort_values('Importance',axis=0, ascending=False)"
   ]
  },
  {
   "cell_type": "code",
   "execution_count": null,
   "metadata": {},
   "outputs": [],
   "source": [
    "data_sorted_values[0:10].index"
   ]
  },
  {
   "cell_type": "code",
   "execution_count": null,
   "metadata": {
    "collapsed": true
   },
   "outputs": [],
   "source": [
    "grap = pd.concat([total_data_Y, total_data[data_sorted_values[0:10].index]], axis = 1)"
   ]
  },
  {
   "cell_type": "code",
   "execution_count": null,
   "metadata": {},
   "outputs": [],
   "source": [
    "grap.head(2)"
   ]
  },
  {
   "cell_type": "code",
   "execution_count": null,
   "metadata": {
    "collapsed": true
   },
   "outputs": [],
   "source": [
    "#total_data[data_sorted_values[0:3].index]"
   ]
  },
  {
   "cell_type": "code",
   "execution_count": null,
   "metadata": {},
   "outputs": [],
   "source": [
    "#rf.feature_importances_"
   ]
  },
  {
   "cell_type": "markdown",
   "metadata": {},
   "source": [
    "#### This graph shows the histogram of the positive and negative class"
   ]
  },
  {
   "cell_type": "code",
   "execution_count": null,
   "metadata": {},
   "outputs": [],
   "source": [
    "total_data['Current Component'].hist()\n",
    "plt.show()"
   ]
  },
  {
   "cell_type": "code",
   "execution_count": null,
   "metadata": {
    "collapsed": true
   },
   "outputs": [],
   "source": [
    "corr = grap.corr()"
   ]
  },
  {
   "cell_type": "markdown",
   "metadata": {},
   "source": [
    "#### This graph shows how the probablities of positive and negative outcomes are related. This will the probabilties compared toactual outcome ( X_validation set) , point to be noted there are total 31 records which are misclassified and those are also here."
   ]
  },
  {
   "cell_type": "code",
   "execution_count": null,
   "metadata": {},
   "outputs": [],
   "source": [
    "plt.scatter(np.ravel(Y_validation),knn.predict_proba(X_validation)[:,1])\n",
    "plt.xlabel(\"Component\")\n",
    "plt.ylabel(\"Probability of Component marked Correct\")\n",
    "plt.show()"
   ]
  },
  {
   "cell_type": "markdown",
   "metadata": {},
   "source": [
    "#### This graph will show how the top 11 variables and correlated to each other, scale is on the right side to show +ve and -ve correlation\n"
   ]
  },
  {
   "cell_type": "code",
   "execution_count": null,
   "metadata": {},
   "outputs": [],
   "source": [
    "#f, ax = plt.subplots(figsize=(12, 9))\n",
    "plt.figure(figsize=(16,16))\n",
    "sns.heatmap(corr, vmax=1, square=True)\n",
    "plt.show()"
   ]
  },
  {
   "cell_type": "code",
   "execution_count": null,
   "metadata": {},
   "outputs": [],
   "source": [
    "total_data.count_"
   ]
  },
  {
   "cell_type": "code",
   "execution_count": null,
   "metadata": {},
   "outputs": [],
   "source": [
    "1/0"
   ]
  },
  {
   "cell_type": "code",
   "execution_count": null,
   "metadata": {},
   "outputs": [],
   "source": [
    "df = pd.DataFrame({\"A\": [1, 2, 3], \"B\": [4, 5, 6]})\n",
    "df.rename(index=str, columns={\"A\": \"a\", \"B\": \"c\"})\n",
    "print(df)"
   ]
  },
  {
   "cell_type": "code",
   "execution_count": null,
   "metadata": {
    "collapsed": true
   },
   "outputs": [],
   "source": []
  }
 ],
 "metadata": {
  "kernelspec": {
   "display_name": "Python 3",
   "language": "python",
   "name": "python3"
  },
  "language_info": {
   "codemirror_mode": {
    "name": "ipython",
    "version": 3
   },
   "file_extension": ".py",
   "mimetype": "text/x-python",
   "name": "python",
   "nbconvert_exporter": "python",
   "pygments_lexer": "ipython3",
   "version": "3.6.1"
  }
 },
 "nbformat": 4,
 "nbformat_minor": 2
}
