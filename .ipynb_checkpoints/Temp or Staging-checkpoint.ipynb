{
 "cells": [
  {
   "cell_type": "code",
   "execution_count": 118,
   "metadata": {},
   "outputs": [
    {
     "name": "stdout",
     "output_type": "stream",
     "text": [
      "*\n",
      "**\n",
      "***\n",
      "****\n"
     ]
    }
   ],
   "source": [
    "for i in range(1,5):\n",
    "    print(\"*\"*i)"
   ]
  },
  {
   "cell_type": "markdown",
   "metadata": {},
   "source": [
    "When slicing always check the index, as A[1:5] will retrive elements from 1 and till 5 but not included 5\n",
    "Always start wtih check how many loops\n"
   ]
  },
  {
   "cell_type": "code",
   "execution_count": 165,
   "metadata": {},
   "outputs": [
    {
     "name": "stdout",
     "output_type": "stream",
     "text": [
      "1\n",
      "2\n",
      "3\n",
      "5\n",
      "8\n",
      "13\n",
      "21\n",
      "34\n"
     ]
    }
   ],
   "source": [
    "#Fibonnaci Series\n",
    "a=0\n",
    "b=1\n",
    "n=8\n",
    "counter =0\n",
    "while(counter < n):\n",
    "    c =a+b\n",
    "    a =b\n",
    "    b =c\n",
    "    counter+=1\n",
    "    print(c)"
   ]
  },
  {
   "cell_type": "code",
   "execution_count": 182,
   "metadata": {},
   "outputs": [
    {
     "name": "stdout",
     "output_type": "stream",
     "text": [
      "11001000\n"
     ]
    }
   ],
   "source": [
    "# function to convert number to binary\n",
    "n=200\n",
    "lis=[]\n",
    "while n>=1:\n",
    "    lis.append(str(n%2))\n",
    "    n=n//2\n",
    "bi = \"\".join(lis[::-1])\n",
    "print(bi)"
   ]
  },
  {
   "cell_type": "code",
   "execution_count": 183,
   "metadata": {},
   "outputs": [
    {
     "name": "stdout",
     "output_type": "stream",
     "text": [
      "10100010 [1, 5, 7]\n",
      "length is  3\n",
      "Length with On is 3\n"
     ]
    }
   ],
   "source": [
    "# to check the number of 0 in the binary representation\n",
    "n=162\n",
    "lis=[]\n",
    "ones =[]\n",
    "counter =0\n",
    "diff =0\n",
    "count = 0\n",
    "dii=0\n",
    "su=0\n",
    "s=0\n",
    "while n>=1:    \n",
    "    lis.append(str(n%2))\n",
    "    if (n%2) == 1:\n",
    "        dii = counter - count\n",
    "        if dii>s:\n",
    "            s=dii-1\n",
    "        #print(\"BEFORE: counter is {} and count is {}\".format(counter,count))\n",
    "        count= counter\n",
    "        #print(\"After: counter is {} and count is {}\".format(counter,count))\n",
    "        ones.append(counter)\n",
    "        #print(\"diffs\",diff ,\"and counter\",counter,\"count is \",count)\n",
    "    counter+=1\n",
    "    n=n//2\n",
    "bi = \"\".join(lis[::-1])\n",
    "print(bi,ones)\n",
    "\n",
    "# this is not needed as its handled above\n",
    "for i in range(0,len(ones)-1):\n",
    "    diff = ones[i+1] - ones[i]\n",
    "    if diff>su:\n",
    "        su=diff-1\n",
    "    #print(diff)\n",
    "if (len(ones)<=1):\n",
    "    print(\"length is \",0)\n",
    "else:\n",
    "    print(\"length is \",su)\n",
    "print(\"Length with On is\",s)"
   ]
  },
  {
   "cell_type": "markdown",
   "metadata": {},
   "source": [
    "a = 1 2 3 ... n - 1 n  \n",
    "b = n n - 1 n - 2 ... 2 1 ( same as b in reverse order)    \n",
    "now a+b = n * (n+1)  \n",
    "n + 1 n + 1 n + 1 ... n + 1 n + 1  "
   ]
  },
  {
   "cell_type": "code",
   "execution_count": 196,
   "metadata": {},
   "outputs": [
    {
     "data": {
      "text/plain": [
       "15"
      ]
     },
     "execution_count": 196,
     "metadata": {},
     "output_type": "execute_result"
    }
   ],
   "source": [
    "model_solution(5)"
   ]
  },
  {
   "cell_type": "code",
   "execution_count": 40,
   "metadata": {},
   "outputs": [
    {
     "data": {
      "text/plain": [
       "[0, 4, 4, 3, 2, 1]"
      ]
     },
     "execution_count": 40,
     "metadata": {},
     "output_type": "execute_result"
    }
   ],
   "source": [
    "n= len(a)\n",
    "count= [0]*6\n",
    "for k in range(n):\n",
    "    #print(\"value for ak {} and count ak is \".format(a[k],count[a[k]]))\n",
    "    count[a[k]]+=1\n",
    "count"
   ]
  },
  {
   "cell_type": "code",
   "execution_count": 51,
   "metadata": {},
   "outputs": [],
   "source": [
    "def slow_solution(A, B, m):\n",
    "    n = len(A)\n",
    "    sum_a = sum(A)\n",
    "    sum_b = sum(B)\n",
    "    for i in range(n):\n",
    "        for j in range(n):\n",
    "            \n",
    "            change = A[j] - B[i]\n",
    "            sum_a += change\n",
    "            \n",
    "            sum_b -= change\n",
    "            print(sum_a, sum_b,B[j], A[i])\n",
    "            if sum_a == sum_b:\n",
    "                 return True\n",
    "            sum_a -= change\n",
    "            sum_b += change\n",
    "    return False\n",
    "slow_solution(A,B,m)"
   ]
  },
  {
   "cell_type": "code",
   "execution_count": 55,
   "metadata": {},
   "outputs": [
    {
     "data": {
      "text/plain": [
       "(2, 3, 2.25)"
      ]
     },
     "execution_count": 55,
     "metadata": {},
     "output_type": "execute_result"
    }
   ],
   "source": [
    "11//4,11%4,9/4"
   ]
  },
  {
   "cell_type": "code",
   "execution_count": 92,
   "metadata": {},
   "outputs": [],
   "source": [
    "K=K%len(A)"
   ]
  },
  {
   "cell_type": "code",
   "execution_count": 93,
   "metadata": {},
   "outputs": [
    {
     "name": "stdout",
     "output_type": "stream",
     "text": [
      "[6, 3, 8, 9, 7]\n"
     ]
    }
   ],
   "source": [
    "# rotating the list K times\n",
    "A =[3,3,9,7,6]\n",
    "K =31\n",
    "K = K%len(A)\n",
    "for i in range(K):\n",
    "    nex=A[0]\n",
    "    tem=0\n",
    "    for j in range(len(A)):\n",
    "        if j+1>len(A)-1:\n",
    "            j=j-len(A)\n",
    "        tem=A[j+1]\n",
    "        A[j+1]=nex\n",
    "        nex=tem\n",
    "print(A)"
   ]
  },
  {
   "cell_type": "code",
   "execution_count": 279,
   "metadata": {},
   "outputs": [
    {
     "name": "stdout",
     "output_type": "stream",
     "text": [
      "6\n",
      "K is 3\n",
      "{3: 2}\n",
      "K is 9\n",
      "{3: 2, 9: 2}\n"
     ]
    },
    {
     "data": {
      "text/plain": [
       "6"
      ]
     },
     "execution_count": 279,
     "metadata": {},
     "output_type": "execute_result"
    }
   ],
   "source": [
    "# Find the odd one from the pairs in a list\n",
    "A =[3,3,9,9,6]\n",
    "li=[]\n",
    "for i in range(len(A)):\n",
    "    if A[i] in li:\n",
    "        li.pop(li.index(A[i]))\n",
    "    else:\n",
    "        li.append(A[i])\n",
    "print(li[0])\n",
    "\n",
    "\n",
    "# Detected time complexity: O(N) or O(N*log(N))\n",
    "def solution(A):\n",
    "    # write your code in Python 3.6\n",
    "    dic={}\n",
    "    for k in A:\n",
    "        if k in dic:\n",
    "            print(\"K is\",k)\n",
    "            dic[k]+=1\n",
    "            print(dic)\n",
    "        else:\n",
    "            dic[k]=1\n",
    "    for k in dic:\n",
    "        if dic[k]%2!=0:\n",
    "            return k\n",
    "\n",
    "A =[3,3,9,9,6]\n",
    "solution(A)"
   ]
  },
  {
   "cell_type": "code",
   "execution_count": 122,
   "metadata": {},
   "outputs": [
    {
     "data": {
      "text/plain": [
       "'0b101'"
      ]
     },
     "execution_count": 122,
     "metadata": {},
     "output_type": "execute_result"
    }
   ],
   "source": [
    "#frog jump where you have to give the next number in a floating type\n"
   ]
  },
  {
   "cell_type": "code",
   "execution_count": 162,
   "metadata": {},
   "outputs": [
    {
     "data": {
      "text/plain": [
       "3"
      ]
     },
     "execution_count": 162,
     "metadata": {},
     "output_type": "execute_result"
    }
   ],
   "source": [
    "# find missing number in a ascending list of numbers\n",
    "def solution(A):\n",
    "    # write your code in Python 3.6\n",
    "    num = len(A)+1\n",
    "    A.sort()\n",
    "    if len(A)==0:\n",
    "        num =1\n",
    "        return num\n",
    "    else:\n",
    "        for i, j in enumerate(A):\n",
    "            if (j-i)>1:\n",
    "                num =i+1\n",
    "                return num\n",
    "    return num\n",
    "A=[1,2]\n",
    "solution(A)"
   ]
  },
  {
   "cell_type": "code",
   "execution_count": 283,
   "metadata": {},
   "outputs": [
    {
     "name": "stdout",
     "output_type": "stream",
     "text": [
      "3\n",
      "another sol 3.466666666666667\n"
     ]
    }
   ],
   "source": [
    "#frog jump use the math.ceil function\n",
    "X = 10\n",
    "Y = 85\n",
    "D = 30\n",
    "\n",
    "print(math.ceil((Y-X)/D))\n",
    "print(\"another sol\",(Y-X+D-1)/D)"
   ]
  },
  {
   "cell_type": "code",
   "execution_count": 288,
   "metadata": {},
   "outputs": [
    {
     "data": {
      "text/plain": [
       "0"
      ]
     },
     "execution_count": 288,
     "metadata": {},
     "output_type": "execute_result"
    }
   ],
   "source": [
    "#tape equilibrium, this is to find the min sum if we split the list recursively.\n",
    "\n",
    "def solution(A):\n",
    "    head = A[0]\n",
    "    tail = sum(A[1:])\n",
    "    #the sum is calculated once and then the loop is run to adjust the sum of each side\n",
    "    min_dif = abs(head - tail)\n",
    "    for index in range(1, len(A)-1):\n",
    "        head += A[index]\n",
    "        tail -= A[index]\n",
    "        if abs(head-tail) < min_dif:\n",
    "            min_dif = abs(head-tail)\n",
    "    return min_dif\n",
    "A=[1,1]\n",
    "solution(A)"
   ]
  },
  {
   "cell_type": "code",
   "execution_count": 275,
   "metadata": {},
   "outputs": [
    {
     "name": "stdout",
     "output_type": "stream",
     "text": [
      "{1: 0}\n",
      "{1: 0, 5: 1}\n",
      "{1: 0, 5: 1, 3: 2}\n",
      "{1: 3, 5: 1, 3: 2}\n",
      "{1: 3, 5: 1, 3: 2, 4: 4}\n",
      "{1: 3, 5: 1, 3: 2, 4: 4, 2: 5}\n"
     ]
    },
    {
     "data": {
      "text/plain": [
       "5"
      ]
     },
     "execution_count": 275,
     "metadata": {},
     "output_type": "execute_result"
    }
   ],
   "source": [
    "#frog jump:\n",
    "def solution(X, A):\n",
    "    # write your code in Python 3.6\n",
    "    finish=0\n",
    "    finish_arr=[0]*X\n",
    "    for i,j in enumerate(A):\n",
    "        if finish_arr[j-1]==0:\n",
    "            finish_arr[j-1]=j\n",
    "            finish+=1\n",
    "            if finish==X:\n",
    "                return i\n",
    "    return -1\n",
    "A=[1,5,3,1,4,2,3,4]\n",
    "solution(5,A)\n",
    "\n",
    "# dict solution\n",
    "def solution(X, A):\n",
    "    pos = {}\n",
    "    for i,j in enumerate(A):\n",
    "        pos.update({A[i]:i})\n",
    "        print(pos)\n",
    "        if len(pos)==X:\n",
    "            return (i)\n",
    "    return -1\n",
    "A=[1,5,3,1,4,2,3,4]\n",
    "solution(5,A)"
   ]
  },
  {
   "cell_type": "code",
   "execution_count": 331,
   "metadata": {},
   "outputs": [
    {
     "name": "stdout",
     "output_type": "stream",
     "text": [
      "{2, 3}\n",
      "start\n",
      "begin\n",
      "0 [1, 2, 3]\n",
      "len 2\n",
      "1 [2, 3]\n",
      "len 1\n",
      "2 [2]\n"
     ]
    },
    {
     "ename": "IndexError",
     "evalue": "list index out of range",
     "output_type": "error",
     "traceback": [
      "\u001b[1;31m---------------------------------------------------------------------------\u001b[0m",
      "\u001b[1;31mIndexError\u001b[0m                                Traceback (most recent call last)",
      "\u001b[1;32m<ipython-input-331-f956b5196f96>\u001b[0m in \u001b[0;36m<module>\u001b[1;34m\u001b[0m\n\u001b[0;32m     48\u001b[0m         \u001b[1;32mreturn\u001b[0m \u001b[1;36m1\u001b[0m\u001b[1;33m\u001b[0m\u001b[1;33m\u001b[0m\u001b[0m\n\u001b[0;32m     49\u001b[0m \u001b[0mA\u001b[0m\u001b[1;33m=\u001b[0m\u001b[1;33m[\u001b[0m\u001b[1;36m1\u001b[0m\u001b[1;33m,\u001b[0m\u001b[1;36m2\u001b[0m\u001b[1;33m,\u001b[0m\u001b[1;36m3\u001b[0m\u001b[1;33m,\u001b[0m\u001b[1;36m3\u001b[0m\u001b[1;33m]\u001b[0m\u001b[1;33m\u001b[0m\u001b[1;33m\u001b[0m\u001b[0m\n\u001b[1;32m---> 50\u001b[1;33m \u001b[0msolution\u001b[0m\u001b[1;33m(\u001b[0m\u001b[0mA\u001b[0m\u001b[1;33m)\u001b[0m\u001b[1;33m\u001b[0m\u001b[1;33m\u001b[0m\u001b[0m\n\u001b[0m",
      "\u001b[1;32m<ipython-input-331-f956b5196f96>\u001b[0m in \u001b[0;36msolution\u001b[1;34m(A)\u001b[0m\n\u001b[0;32m     39\u001b[0m     \u001b[1;32mfor\u001b[0m \u001b[0mi\u001b[0m \u001b[1;32min\u001b[0m \u001b[0mrange\u001b[0m\u001b[1;33m(\u001b[0m\u001b[0mlen\u001b[0m\u001b[1;33m(\u001b[0m\u001b[0mA\u001b[0m\u001b[1;33m)\u001b[0m\u001b[1;33m)\u001b[0m\u001b[1;33m:\u001b[0m\u001b[1;33m\u001b[0m\u001b[1;33m\u001b[0m\u001b[0m\n\u001b[0;32m     40\u001b[0m         \u001b[0mprint\u001b[0m\u001b[1;33m(\u001b[0m\u001b[0mi\u001b[0m\u001b[1;33m,\u001b[0m \u001b[0mfact\u001b[0m\u001b[1;33m)\u001b[0m\u001b[1;33m\u001b[0m\u001b[1;33m\u001b[0m\u001b[0m\n\u001b[1;32m---> 41\u001b[1;33m         \u001b[1;32mif\u001b[0m \u001b[0mA\u001b[0m\u001b[1;33m[\u001b[0m\u001b[0mi\u001b[0m\u001b[1;33m]\u001b[0m \u001b[1;32min\u001b[0m \u001b[0mfact\u001b[0m\u001b[1;33m:\u001b[0m\u001b[1;33m\u001b[0m\u001b[1;33m\u001b[0m\u001b[0m\n\u001b[0m\u001b[0;32m     42\u001b[0m             \u001b[0mfact\u001b[0m\u001b[1;33m.\u001b[0m\u001b[0mpop\u001b[0m\u001b[1;33m(\u001b[0m\u001b[0mfact\u001b[0m\u001b[1;33m.\u001b[0m\u001b[0mindex\u001b[0m\u001b[1;33m(\u001b[0m\u001b[0mA\u001b[0m\u001b[1;33m[\u001b[0m\u001b[0mi\u001b[0m\u001b[1;33m]\u001b[0m\u001b[1;33m)\u001b[0m\u001b[1;33m)\u001b[0m\u001b[1;33m\u001b[0m\u001b[1;33m\u001b[0m\u001b[0m\n\u001b[0;32m     43\u001b[0m             \u001b[0mA\u001b[0m\u001b[1;33m.\u001b[0m\u001b[0mpop\u001b[0m\u001b[1;33m(\u001b[0m\u001b[0mi\u001b[0m\u001b[1;33m)\u001b[0m\u001b[1;33m\u001b[0m\u001b[1;33m\u001b[0m\u001b[0m\n",
      "\u001b[1;31mIndexError\u001b[0m: list index out of range"
     ]
    }
   ],
   "source": [
    "# perm check, this is to find the number missing in the permuation\n",
    "def solution(A):\n",
    "    # write your code in Python 3.6\n",
    "    idx=0\n",
    "    ele=0\n",
    "    for i, j in enumerate(A):\n",
    "        idx+=i+1\n",
    "        ele +=j\n",
    "    if idx==ele:\n",
    "        return 1\n",
    "    else:\n",
    "        return 0\n",
    "A=[1,4,1]\n",
    "solution(A)\n",
    "\n",
    "def solution(A):\n",
    "    num=set(range(1,len(A)+2))-set(A)\n",
    "    print(num)\n",
    "    for i in num:\n",
    "        return(i)\n",
    "A=[1,4,1]\n",
    "solution(A)\n",
    "\n",
    "print(\"start\")\n",
    "def solution(A):    \n",
    "    Set= set(range(1,max(A)))\n",
    "    SetB= set(A)\n",
    "    if len(Set-SetB)>0:\n",
    "        return 0\n",
    "    else:\n",
    "        return 1\n",
    "A=[1,2,5]\n",
    "solution(A)\n",
    "\n",
    "print(\"begin\")\n",
    "def solution(A):\n",
    "    fact= list(range(1,max(A)+1))\n",
    "    count=0\n",
    "    for i in range(len(A)):\n",
    "        print(i, fact)\n",
    "        if A[i] in fact:\n",
    "            fact.pop(fact.index(A[i]))\n",
    "            A.pop(i)\n",
    "            print(\"len\",len(fact))\n",
    "    if len(fact)>0 or len(A)>0:\n",
    "        return 0\n",
    "    else:\n",
    "        return 1\n",
    "A=[1,2,3,3]\n",
    "solution(A)"
   ]
  },
  {
   "cell_type": "code",
   "execution_count": 323,
   "metadata": {},
   "outputs": [
    {
     "name": "stdout",
     "output_type": "stream",
     "text": [
      "[1, 2]\n"
     ]
    }
   ],
   "source": [
    "a=list(range(1,3))\n",
    "print(a)"
   ]
  },
  {
   "cell_type": "code",
   "execution_count": null,
   "metadata": {},
   "outputs": [],
   "source": [
    "/ you can write to stdout for debugging purposes, e.g.\n",
    "// printf(\"this is a debug message\\n\");\n",
    "\n",
    "int solution(int arr[], int n) {\n",
    "    \n",
    "    // write your code in C99 (gcc 6.2.0)\n",
    "    if (n==0) return -1;\n",
    "    int i;\n",
    "    \n",
    "    for(i=0;i<n;i++){\n",
    "        long long sum_left = 0;\n",
    "        long long sum_right = 0;\n",
    "        int j;\n",
    "        \n",
    "        for(j=0;j<i;j++) sum_left += (long long) arr[j];\n",
    "        for(j=i+1;j<n;j++) sum_right += (long long) arr[j];\n",
    "        \n",
    "        if (sum_left == sum_right) return i;\n",
    "    }\n",
    "    \n",
    "    return -1;\n",
    "}"
   ]
  },
  {
   "cell_type": "markdown",
   "metadata": {},
   "source": [
    "This is a demo task.\n",
    "\n",
    "Write a function:\n",
    "\n",
    "def solution(A)\n",
    "\n",
    "that, given an array A of N integers, returns the smallest positive integer (greater than 0) that does not occur in A.\n",
    "\n",
    "For example, given A = [1, 3, 6, 4, 1, 2], the function should return 5.\n",
    "\n",
    "Given A = [1, 2, 3], the function should return 4.\n",
    "\n",
    "Given A = [−1, −3], the function should return 1.\n",
    "\n",
    "Write an efficient algorithm for the following assumptions:\n",
    "\n",
    "N is an integer within the range [1..100,000];\n",
    "each element of array A is an integer within the range [−1,000,000..1,000,000].\n",
    "Copyright 2009–2020 by Codility Limited. All Rights Reserved. Unauthorized copying, publication or disclosure prohibited."
   ]
  },
  {
   "cell_type": "code",
   "execution_count": 263,
   "metadata": {},
   "outputs": [
    {
     "data": {
      "text/plain": [
       "2"
      ]
     },
     "execution_count": 263,
     "metadata": {},
     "output_type": "execute_result"
    }
   ],
   "source": [
    "def maxx(A):\n",
    "    if all(i<=0 for i in A):\n",
    "        return 1\n",
    "    A= list(set(A))\n",
    "    m= max(A)\n",
    "    a = len(A)\n",
    "    le=a\n",
    "    while a>1:\n",
    "        print(a)\n",
    "        A.pop(A.index(max(A)))\n",
    "        print(A)\n",
    "        if (m-max(A))>1:\n",
    "            return max(A)+1\n",
    "        else:\n",
    "            m= max(A)\n",
    "            a-=1\n",
    "    return le+1\n",
    "A =[1,1,1]\n",
    "maxx (A)\n",
    "        "
   ]
  },
  {
   "cell_type": "code",
   "execution_count": null,
   "metadata": {},
   "outputs": [],
   "source": [
    "def solution(A):\n",
    "    \n",
    "    \n",
    "\n",
    "A=[1,2,3]\n",
    "solution(A)"
   ]
  }
 ],
 "metadata": {
  "kernelspec": {
   "display_name": "Python 3",
   "language": "python",
   "name": "python3"
  },
  "language_info": {
   "codemirror_mode": {
    "name": "ipython",
    "version": 3
   },
   "file_extension": ".py",
   "mimetype": "text/x-python",
   "name": "python",
   "nbconvert_exporter": "python",
   "pygments_lexer": "ipython3",
   "version": "3.6.9"
  }
 },
 "nbformat": 4,
 "nbformat_minor": 2
}
