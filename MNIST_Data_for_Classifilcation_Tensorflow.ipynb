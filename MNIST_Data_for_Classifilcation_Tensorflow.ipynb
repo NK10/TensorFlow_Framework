{
 "cells": [
  {
   "cell_type": "code",
   "execution_count": 1,
   "metadata": {
    "collapsed": true
   },
   "outputs": [],
   "source": [
    "import numpy as np\n",
    "import tensorflow as tf\n",
    "import matplotlib.pyplot as plt"
   ]
  },
  {
   "cell_type": "code",
   "execution_count": 2,
   "metadata": {
    "collapsed": true
   },
   "outputs": [],
   "source": [
    "import os\n",
    "import gzip\n",
    "import shutil\n",
    "import struct\n",
    "import urllib.request"
   ]
  },
  {
   "cell_type": "code",
   "execution_count": 3,
   "metadata": {
    "collapsed": true
   },
   "outputs": [],
   "source": [
    "    #Download and unzip the dataset mnist if it's not already downloaded \n",
    "    #Download from http://yann.lecun.com/exdb/mnist\n",
    "    mnist_folder = \"C:\\\\Users\\\\USX28939\\\\PYTHON_CODE_BASE\\\\GitHub_Doc\\\\stanford-tensorflow-tutorials\\\\examples\\\\data\\\\MNST_DATA\""
   ]
  },
  {
   "cell_type": "code",
   "execution_count": 32,
   "metadata": {
    "collapsed": true
   },
   "outputs": [],
   "source": [
    "def download_one_file(download_url, \n",
    "                    local_dest, \n",
    "                    expected_byte=None, \n",
    "                    unzip_and_remove=False):\n",
    "    \"\"\" \n",
    "    Download the file from download_url into local_dest\n",
    "    if the file doesn't already exists.\n",
    "    If expected_byte is provided, check if \n",
    "    the downloaded file has the same number of bytes.\n",
    "    If unzip_and_remove is True, unzip the file and remove the zip file\n",
    "    \"\"\"\n",
    "    if os.path.exists(local_dest) or os.path.exists(local_dest[:-3]):\n",
    "        print('%s already exists' %local_dest)\n",
    "    else:\n",
    "        print('Downloading %s' %download_url)\n",
    "        local_file, headers = urllib.request.urlretrieve(download_url, local_dest)\n",
    "        file_stat = os.stat(local_dest)\n",
    "        if expected_byte:\n",
    "            if file_stat.st_size == expected_byte:\n",
    "                print('Successfully downloaded %s' %local_dest)\n",
    "                if unzip_and_remove:\n",
    "                    with gzip.open(local_dest, 'rb') as f_in, open(local_dest[:-3],'wb') as f_out:\n",
    "                        shutil.copyfileobj(f_in, f_out)\n",
    "                    os.remove(local_dest)\n",
    "            else:\n",
    "                print('The downloaded file has unexpected number of bytes')"
   ]
  },
  {
   "cell_type": "code",
   "execution_count": 35,
   "metadata": {},
   "outputs": [
    {
     "ename": "SyntaxError",
     "evalue": "EOL while scanning string literal (<ipython-input-35-d986ab718bac>, line 2)",
     "output_type": "error",
     "traceback": [
      "\u001b[1;36m  File \u001b[1;32m\"<ipython-input-35-d986ab718bac>\"\u001b[1;36m, line \u001b[1;32m2\u001b[0m\n\u001b[1;33m    print (urllib.request.urlopen(\"http://yann.lecun.com/exdb/mnist\\\"))\u001b[0m\n\u001b[1;37m                                                                       ^\u001b[0m\n\u001b[1;31mSyntaxError\u001b[0m\u001b[1;31m:\u001b[0m EOL while scanning string literal\n"
     ]
    }
   ],
   "source": [
    "import urllib\n",
    "print (urllib.request.urlopen(\"http://yann.lecun.com/exdb/mnist\\\"))\n"
   ]
  },
  {
   "cell_type": "code",
   "execution_count": 36,
   "metadata": {
    "collapsed": true
   },
   "outputs": [],
   "source": [
    "def download_mnist(path):\n",
    "    \"\"\" \n",
    "    Download and unzip the dataset mnist if it's not already downloaded \n",
    "    Download from http://yann.lecun.com/exdb/mnist\n",
    "    \"\"\"\n",
    "    os.mkdir(path)\n",
    "    url = 'http://yann.lecun.com/exdb/mnist/'\n",
    "    filenames = ['train-images-idx3-ubyte.gz',\n",
    "                'train-labels-idx1-ubyte.gz',\n",
    "                't10k-images-idx3-ubyte.gz',\n",
    "                't10k-labels-idx1-ubyte.gz']\n",
    "    expected_bytes = [9912422, 28881, 1648877, 4542]\n",
    "\n",
    "    for filename, byte in zip(filenames, expected_bytes):\n",
    "        download_url = os.path.join(url, filename)\n",
    "        local_dest = os.path.join(path, filename)\n",
    "        print(download_url,\"    -> \", local_dest)\n",
    "        download_one_file(download_url, local_dest, byte, True)"
   ]
  },
  {
   "cell_type": "code",
   "execution_count": 37,
   "metadata": {},
   "outputs": [
    {
     "name": "stdout",
     "output_type": "stream",
     "text": [
      "http://yann.lecun.com/exdb/mnist/train-images-idx3-ubyte.gz     ->  C:\\Users\\USX28939\\PYTHON_CODE_BASE\\GitHub_Doc\\stanford-tensorflow-tutorials\\examples\\data\\MNST_DATA\\train-images-idx3-ubyte.gz\n",
      "Downloading http://yann.lecun.com/exdb/mnist/train-images-idx3-ubyte.gz\n",
      "Successfully downloaded C:\\Users\\USX28939\\PYTHON_CODE_BASE\\GitHub_Doc\\stanford-tensorflow-tutorials\\examples\\data\\MNST_DATA\\train-images-idx3-ubyte.gz\n",
      "http://yann.lecun.com/exdb/mnist/train-labels-idx1-ubyte.gz     ->  C:\\Users\\USX28939\\PYTHON_CODE_BASE\\GitHub_Doc\\stanford-tensorflow-tutorials\\examples\\data\\MNST_DATA\\train-labels-idx1-ubyte.gz\n",
      "Downloading http://yann.lecun.com/exdb/mnist/train-labels-idx1-ubyte.gz\n",
      "Successfully downloaded C:\\Users\\USX28939\\PYTHON_CODE_BASE\\GitHub_Doc\\stanford-tensorflow-tutorials\\examples\\data\\MNST_DATA\\train-labels-idx1-ubyte.gz\n",
      "http://yann.lecun.com/exdb/mnist/t10k-images-idx3-ubyte.gz     ->  C:\\Users\\USX28939\\PYTHON_CODE_BASE\\GitHub_Doc\\stanford-tensorflow-tutorials\\examples\\data\\MNST_DATA\\t10k-images-idx3-ubyte.gz\n",
      "Downloading http://yann.lecun.com/exdb/mnist/t10k-images-idx3-ubyte.gz\n",
      "Successfully downloaded C:\\Users\\USX28939\\PYTHON_CODE_BASE\\GitHub_Doc\\stanford-tensorflow-tutorials\\examples\\data\\MNST_DATA\\t10k-images-idx3-ubyte.gz\n",
      "http://yann.lecun.com/exdb/mnist/t10k-labels-idx1-ubyte.gz     ->  C:\\Users\\USX28939\\PYTHON_CODE_BASE\\GitHub_Doc\\stanford-tensorflow-tutorials\\examples\\data\\MNST_DATA\\t10k-labels-idx1-ubyte.gz\n",
      "Downloading http://yann.lecun.com/exdb/mnist/t10k-labels-idx1-ubyte.gz\n",
      "Successfully downloaded C:\\Users\\USX28939\\PYTHON_CODE_BASE\\GitHub_Doc\\stanford-tensorflow-tutorials\\examples\\data\\MNST_DATA\\t10k-labels-idx1-ubyte.gz\n"
     ]
    }
   ],
   "source": [
    "download_mnist(mnist_folder)"
   ]
  },
  {
   "cell_type": "code",
   "execution_count": 41,
   "metadata": {
    "collapsed": true
   },
   "outputs": [],
   "source": [
    "def parse_data(path, dataset, flatten):\n",
    "    if dataset != 'train' and dataset != 't10k':\n",
    "        raise NameError('dataset must be train or t10k')\n",
    "\n",
    "    label_file = os.path.join(path, dataset + '-labels-idx1-ubyte')\n",
    "    #print(label_file )\n",
    "    with open(label_file, 'rb') as file:\n",
    "        _, num = struct.unpack(\">II\", file.read(8))\n",
    "        labels = np.fromfile(file, dtype=np.int8) #int8\n",
    "        new_labels = np.zeros((num, 10))\n",
    "        new_labels[np.arange(num), labels] = 1\n",
    "    \n",
    "    img_file = os.path.join(path, dataset + '-images-idx3-ubyte')\n",
    "    with open(img_file, 'rb') as file:\n",
    "        _, num, rows, cols = struct.unpack(\">IIII\", file.read(16))\n",
    "        imgs = np.fromfile(file, dtype=np.uint8).reshape(num, rows, cols) #uint8\n",
    "        imgs = imgs.astype(np.float32) / 255.0\n",
    "        if flatten:\n",
    "            imgs = imgs.reshape([num, -1])\n",
    "\n",
    "    return imgs, new_labels"
   ]
  },
  {
   "cell_type": "code",
   "execution_count": 42,
   "metadata": {
    "collapsed": true
   },
   "outputs": [],
   "source": [
    "def read_mnist(path, flatten=True, num_train=55000):\n",
    "    \"\"\"\n",
    "    Read in the mnist dataset, given that the data is stored in path\n",
    "    Return two tuples of numpy arrays\n",
    "    ((train_imgs, train_labels), (test_imgs, test_labels))\n",
    "    \"\"\"\n",
    "    imgs, labels = parse_data(path, 'train', flatten)\n",
    "    indices = np.random.permutation(labels.shape[0])\n",
    "    train_idx, val_idx = indices[:num_train], indices[num_train:]\n",
    "    train_img, train_labels = imgs[train_idx, :], labels[train_idx, :]\n",
    "    val_img, val_labels = imgs[val_idx, :], labels[val_idx, :]\n",
    "    test = parse_data(path, 't10k', flatten)\n",
    "    return (train_img, train_labels), (val_img, val_labels), test\n"
   ]
  },
  {
   "cell_type": "code",
   "execution_count": 43,
   "metadata": {},
   "outputs": [],
   "source": [
    "train, val, test = read_mnist(mnist_folder, flatten=True)"
   ]
  },
  {
   "cell_type": "code",
   "execution_count": 47,
   "metadata": {},
   "outputs": [
    {
     "name": "stdout",
     "output_type": "stream",
     "text": [
      "2\n"
     ]
    }
   ],
   "source": [
    "print(len(val))"
   ]
  },
  {
   "cell_type": "code",
   "execution_count": null,
   "metadata": {},
   "outputs": [],
   "source": []
  },
  {
   "cell_type": "code",
   "execution_count": null,
   "metadata": {
    "collapsed": true
   },
   "outputs": [],
   "source": []
  }
 ],
 "metadata": {
  "kernelspec": {
   "display_name": "Python 3",
   "language": "python",
   "name": "python3"
  },
  "language_info": {
   "codemirror_mode": {
    "name": "ipython",
    "version": 3
   },
   "file_extension": ".py",
   "mimetype": "text/x-python",
   "name": "python",
   "nbconvert_exporter": "python",
   "pygments_lexer": "ipython3",
   "version": "3.6.1"
  }
 },
 "nbformat": 4,
 "nbformat_minor": 2
}
