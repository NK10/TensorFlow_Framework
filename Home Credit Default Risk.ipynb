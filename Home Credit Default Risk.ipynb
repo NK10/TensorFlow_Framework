{
 "cells": [
  {
   "cell_type": "code",
   "execution_count": 1,
   "metadata": {},
   "outputs": [],
   "source": [
    "import numpy as np\n",
    "import pandas as pd\n",
    "import matplotlib.pyplot as plt"
   ]
  },
  {
   "cell_type": "code",
   "execution_count": 2,
   "metadata": {
    "collapsed": true
   },
   "outputs": [],
   "source": [
    "data_dir =  \"C:/R_Lang/Hackathons/Kaggle/Home_Credit_Group/\""
   ]
  },
  {
   "cell_type": "code",
   "execution_count": 3,
   "metadata": {
    "collapsed": true
   },
   "outputs": [],
   "source": [
    "read_train =  pd.read_csv(data_dir+\"application_train.csv\")"
   ]
  },
  {
   "cell_type": "code",
   "execution_count": 4,
   "metadata": {
    "scrolled": false
   },
   "outputs": [
    {
     "data": {
      "text/plain": [
       "(307511, (307511, 122))"
      ]
     },
     "execution_count": 4,
     "metadata": {},
     "output_type": "execute_result"
    }
   ],
   "source": [
    "len(read_train),read_train.shape"
   ]
  },
  {
   "cell_type": "code",
   "execution_count": 5,
   "metadata": {},
   "outputs": [
    {
     "data": {
      "text/html": [
       "<div>\n",
       "<style>\n",
       "    .dataframe thead tr:only-child th {\n",
       "        text-align: right;\n",
       "    }\n",
       "\n",
       "    .dataframe thead th {\n",
       "        text-align: left;\n",
       "    }\n",
       "\n",
       "    .dataframe tbody tr th {\n",
       "        vertical-align: top;\n",
       "    }\n",
       "</style>\n",
       "<table border=\"1\" class=\"dataframe\">\n",
       "  <thead>\n",
       "    <tr style=\"text-align: right;\">\n",
       "      <th></th>\n",
       "      <th>SK_ID_CURR</th>\n",
       "      <th>TARGET</th>\n",
       "      <th>NAME_CONTRACT_TYPE</th>\n",
       "      <th>CODE_GENDER</th>\n",
       "      <th>FLAG_OWN_CAR</th>\n",
       "      <th>FLAG_OWN_REALTY</th>\n",
       "      <th>CNT_CHILDREN</th>\n",
       "      <th>AMT_INCOME_TOTAL</th>\n",
       "      <th>AMT_CREDIT</th>\n",
       "      <th>AMT_ANNUITY</th>\n",
       "      <th>...</th>\n",
       "      <th>FLAG_DOCUMENT_18</th>\n",
       "      <th>FLAG_DOCUMENT_19</th>\n",
       "      <th>FLAG_DOCUMENT_20</th>\n",
       "      <th>FLAG_DOCUMENT_21</th>\n",
       "      <th>AMT_REQ_CREDIT_BUREAU_HOUR</th>\n",
       "      <th>AMT_REQ_CREDIT_BUREAU_DAY</th>\n",
       "      <th>AMT_REQ_CREDIT_BUREAU_WEEK</th>\n",
       "      <th>AMT_REQ_CREDIT_BUREAU_MON</th>\n",
       "      <th>AMT_REQ_CREDIT_BUREAU_QRT</th>\n",
       "      <th>AMT_REQ_CREDIT_BUREAU_YEAR</th>\n",
       "    </tr>\n",
       "  </thead>\n",
       "  <tbody>\n",
       "    <tr>\n",
       "      <th>0</th>\n",
       "      <td>100002</td>\n",
       "      <td>1</td>\n",
       "      <td>Cash loans</td>\n",
       "      <td>M</td>\n",
       "      <td>N</td>\n",
       "      <td>Y</td>\n",
       "      <td>0</td>\n",
       "      <td>202500.0</td>\n",
       "      <td>406597.5</td>\n",
       "      <td>24700.5</td>\n",
       "      <td>...</td>\n",
       "      <td>0</td>\n",
       "      <td>0</td>\n",
       "      <td>0</td>\n",
       "      <td>0</td>\n",
       "      <td>0.0</td>\n",
       "      <td>0.0</td>\n",
       "      <td>0.0</td>\n",
       "      <td>0.0</td>\n",
       "      <td>0.0</td>\n",
       "      <td>1.0</td>\n",
       "    </tr>\n",
       "    <tr>\n",
       "      <th>1</th>\n",
       "      <td>100003</td>\n",
       "      <td>0</td>\n",
       "      <td>Cash loans</td>\n",
       "      <td>F</td>\n",
       "      <td>N</td>\n",
       "      <td>N</td>\n",
       "      <td>0</td>\n",
       "      <td>270000.0</td>\n",
       "      <td>1293502.5</td>\n",
       "      <td>35698.5</td>\n",
       "      <td>...</td>\n",
       "      <td>0</td>\n",
       "      <td>0</td>\n",
       "      <td>0</td>\n",
       "      <td>0</td>\n",
       "      <td>0.0</td>\n",
       "      <td>0.0</td>\n",
       "      <td>0.0</td>\n",
       "      <td>0.0</td>\n",
       "      <td>0.0</td>\n",
       "      <td>0.0</td>\n",
       "    </tr>\n",
       "    <tr>\n",
       "      <th>2</th>\n",
       "      <td>100004</td>\n",
       "      <td>0</td>\n",
       "      <td>Revolving loans</td>\n",
       "      <td>M</td>\n",
       "      <td>Y</td>\n",
       "      <td>Y</td>\n",
       "      <td>0</td>\n",
       "      <td>67500.0</td>\n",
       "      <td>135000.0</td>\n",
       "      <td>6750.0</td>\n",
       "      <td>...</td>\n",
       "      <td>0</td>\n",
       "      <td>0</td>\n",
       "      <td>0</td>\n",
       "      <td>0</td>\n",
       "      <td>0.0</td>\n",
       "      <td>0.0</td>\n",
       "      <td>0.0</td>\n",
       "      <td>0.0</td>\n",
       "      <td>0.0</td>\n",
       "      <td>0.0</td>\n",
       "    </tr>\n",
       "    <tr>\n",
       "      <th>3</th>\n",
       "      <td>100006</td>\n",
       "      <td>0</td>\n",
       "      <td>Cash loans</td>\n",
       "      <td>F</td>\n",
       "      <td>N</td>\n",
       "      <td>Y</td>\n",
       "      <td>0</td>\n",
       "      <td>135000.0</td>\n",
       "      <td>312682.5</td>\n",
       "      <td>29686.5</td>\n",
       "      <td>...</td>\n",
       "      <td>0</td>\n",
       "      <td>0</td>\n",
       "      <td>0</td>\n",
       "      <td>0</td>\n",
       "      <td>NaN</td>\n",
       "      <td>NaN</td>\n",
       "      <td>NaN</td>\n",
       "      <td>NaN</td>\n",
       "      <td>NaN</td>\n",
       "      <td>NaN</td>\n",
       "    </tr>\n",
       "  </tbody>\n",
       "</table>\n",
       "<p>4 rows × 122 columns</p>\n",
       "</div>"
      ],
      "text/plain": [
       "   SK_ID_CURR  TARGET NAME_CONTRACT_TYPE CODE_GENDER FLAG_OWN_CAR  \\\n",
       "0      100002       1         Cash loans           M            N   \n",
       "1      100003       0         Cash loans           F            N   \n",
       "2      100004       0    Revolving loans           M            Y   \n",
       "3      100006       0         Cash loans           F            N   \n",
       "\n",
       "  FLAG_OWN_REALTY  CNT_CHILDREN  AMT_INCOME_TOTAL  AMT_CREDIT  AMT_ANNUITY  \\\n",
       "0               Y             0          202500.0    406597.5      24700.5   \n",
       "1               N             0          270000.0   1293502.5      35698.5   \n",
       "2               Y             0           67500.0    135000.0       6750.0   \n",
       "3               Y             0          135000.0    312682.5      29686.5   \n",
       "\n",
       "              ...              FLAG_DOCUMENT_18 FLAG_DOCUMENT_19  \\\n",
       "0             ...                             0                0   \n",
       "1             ...                             0                0   \n",
       "2             ...                             0                0   \n",
       "3             ...                             0                0   \n",
       "\n",
       "  FLAG_DOCUMENT_20 FLAG_DOCUMENT_21 AMT_REQ_CREDIT_BUREAU_HOUR  \\\n",
       "0                0                0                        0.0   \n",
       "1                0                0                        0.0   \n",
       "2                0                0                        0.0   \n",
       "3                0                0                        NaN   \n",
       "\n",
       "  AMT_REQ_CREDIT_BUREAU_DAY  AMT_REQ_CREDIT_BUREAU_WEEK  \\\n",
       "0                       0.0                         0.0   \n",
       "1                       0.0                         0.0   \n",
       "2                       0.0                         0.0   \n",
       "3                       NaN                         NaN   \n",
       "\n",
       "   AMT_REQ_CREDIT_BUREAU_MON  AMT_REQ_CREDIT_BUREAU_QRT  \\\n",
       "0                        0.0                        0.0   \n",
       "1                        0.0                        0.0   \n",
       "2                        0.0                        0.0   \n",
       "3                        NaN                        NaN   \n",
       "\n",
       "   AMT_REQ_CREDIT_BUREAU_YEAR  \n",
       "0                         1.0  \n",
       "1                         0.0  \n",
       "2                         0.0  \n",
       "3                         NaN  \n",
       "\n",
       "[4 rows x 122 columns]"
      ]
     },
     "execution_count": 5,
     "metadata": {},
     "output_type": "execute_result"
    }
   ],
   "source": [
    "read_train.head(4)"
   ]
  },
  {
   "cell_type": "code",
   "execution_count": 6,
   "metadata": {},
   "outputs": [
    {
     "data": {
      "text/plain": [
       "SK_ID_CURR             int64\n",
       "TARGET                 int64\n",
       "NAME_CONTRACT_TYPE    object\n",
       "dtype: object"
      ]
     },
     "execution_count": 6,
     "metadata": {},
     "output_type": "execute_result"
    }
   ],
   "source": [
    "read_train.dtypes.head(3)"
   ]
  },
  {
   "cell_type": "markdown",
   "metadata": {},
   "source": [
    "info will give you what are the different datatypes and count in your dataframe"
   ]
  },
  {
   "cell_type": "code",
   "execution_count": 7,
   "metadata": {},
   "outputs": [
    {
     "name": "stdout",
     "output_type": "stream",
     "text": [
      "<class 'pandas.core.frame.DataFrame'>\n",
      "RangeIndex: 307511 entries, 0 to 307510\n",
      "Columns: 122 entries, SK_ID_CURR to AMT_REQ_CREDIT_BUREAU_YEAR\n",
      "dtypes: float64(65), int64(41), object(16)\n",
      "memory usage: 286.2+ MB\n"
     ]
    }
   ],
   "source": [
    "read_train.info()"
   ]
  },
  {
   "cell_type": "markdown",
   "metadata": {},
   "source": [
    "To get a list of specific data type in a dataframe use the command select_dtypes([\"object\"]), it will give the dataframe. To get the column names from that dataframe use the list command"
   ]
  },
  {
   "cell_type": "code",
   "execution_count": 8,
   "metadata": {},
   "outputs": [
    {
     "data": {
      "text/plain": [
       "['NAME_CONTRACT_TYPE',\n",
       " 'CODE_GENDER',\n",
       " 'FLAG_OWN_CAR',\n",
       " 'FLAG_OWN_REALTY',\n",
       " 'NAME_TYPE_SUITE',\n",
       " 'NAME_INCOME_TYPE',\n",
       " 'NAME_EDUCATION_TYPE',\n",
       " 'NAME_FAMILY_STATUS',\n",
       " 'NAME_HOUSING_TYPE',\n",
       " 'OCCUPATION_TYPE',\n",
       " 'WEEKDAY_APPR_PROCESS_START',\n",
       " 'ORGANIZATION_TYPE',\n",
       " 'FONDKAPREMONT_MODE',\n",
       " 'HOUSETYPE_MODE',\n",
       " 'WALLSMATERIAL_MODE',\n",
       " 'EMERGENCYSTATE_MODE']"
      ]
     },
     "execution_count": 8,
     "metadata": {},
     "output_type": "execute_result"
    }
   ],
   "source": [
    "list(read_train.select_dtypes([\"object\"]))"
   ]
  },
  {
   "cell_type": "code",
   "execution_count": 9,
   "metadata": {},
   "outputs": [
    {
     "name": "stdout",
     "output_type": "stream",
     "text": [
      "NAME_CONTRACT_TYPE\n",
      "Cash loans         278232\n",
      "Revolving loans     29279\n",
      "dtype: int64 \n",
      "\n",
      "CODE_GENDER\n",
      "F      202448\n",
      "M      105059\n",
      "XNA         4\n",
      "dtype: int64 \n",
      "\n",
      "FLAG_OWN_CAR\n",
      "N    202924\n",
      "Y    104587\n",
      "dtype: int64 \n",
      "\n",
      "FLAG_OWN_REALTY\n",
      "N     94199\n",
      "Y    213312\n",
      "dtype: int64 \n",
      "\n",
      "NAME_TYPE_SUITE\n",
      "Children             3267\n",
      "Family              40149\n",
      "Group of people       271\n",
      "Other_A               866\n",
      "Other_B              1770\n",
      "Spouse, partner     11370\n",
      "Unaccompanied      248526\n",
      "dtype: int64 \n",
      "\n",
      "NAME_INCOME_TYPE\n",
      "Businessman                 10\n",
      "Commercial associate     71617\n",
      "Maternity leave              5\n",
      "Pensioner                55362\n",
      "State servant            21703\n",
      "Student                     18\n",
      "Unemployed                  22\n",
      "Working                 158774\n",
      "dtype: int64 \n",
      "\n",
      "NAME_EDUCATION_TYPE\n",
      "Academic degree                     164\n",
      "Higher education                  74863\n",
      "Incomplete higher                 10277\n",
      "Lower secondary                    3816\n",
      "Secondary / secondary special    218391\n",
      "dtype: int64 \n",
      "\n",
      "NAME_FAMILY_STATUS\n",
      "Civil marriage           29775\n",
      "Married                 196432\n",
      "Separated                19770\n",
      "Single / not married     45444\n",
      "Unknown                      2\n",
      "Widow                    16088\n",
      "dtype: int64 \n",
      "\n",
      "NAME_HOUSING_TYPE\n",
      "Co-op apartment          1122\n",
      "House / apartment      272868\n",
      "Municipal apartment     11183\n",
      "Office apartment         2617\n",
      "Rented apartment         4881\n",
      "With parents            14840\n",
      "dtype: int64 \n",
      "\n",
      "OCCUPATION_TYPE\n",
      "Accountants               9813\n",
      "Cleaning staff            4653\n",
      "Cooking staff             5946\n",
      "Core staff               27570\n",
      "Drivers                  18603\n",
      "HR staff                   563\n",
      "High skill tech staff    11380\n",
      "IT staff                   526\n",
      "Laborers                 55186\n",
      "Low-skill Laborers        2093\n",
      "Managers                 21371\n",
      "Medicine staff            8537\n",
      "Private service staff     2652\n",
      "Realty agents              751\n",
      "Sales staff              32102\n",
      "Secretaries               1305\n",
      "Security staff            6721\n",
      "Waiters/barmen staff      1348\n",
      "dtype: int64 \n",
      "\n",
      "WEEKDAY_APPR_PROCESS_START\n",
      "FRIDAY       50338\n",
      "MONDAY       50714\n",
      "SATURDAY     33852\n",
      "SUNDAY       16181\n",
      "THURSDAY     50591\n",
      "TUESDAY      53901\n",
      "WEDNESDAY    51934\n",
      "dtype: int64 \n",
      "\n",
      "ORGANIZATION_TYPE\n",
      "Advertising                 429\n",
      "Agriculture                2454\n",
      "Bank                       2507\n",
      "Business Entity Type 1     5984\n",
      "Business Entity Type 2    10553\n",
      "Business Entity Type 3    67992\n",
      "Cleaning                    260\n",
      "Construction               6721\n",
      "Culture                     379\n",
      "Electricity                 950\n",
      "Emergency                   560\n",
      "Government                10404\n",
      "Hotel                       966\n",
      "Housing                    2958\n",
      "Industry: type 1           1039\n",
      "Industry: type 10           109\n",
      "Industry: type 11          2704\n",
      "Industry: type 12           369\n",
      "Industry: type 13            67\n",
      "Industry: type 2            458\n",
      "Industry: type 3           3278\n",
      "Industry: type 4            877\n",
      "Industry: type 5            599\n",
      "Industry: type 6            112\n",
      "Industry: type 7           1307\n",
      "Industry: type 8             24\n",
      "Industry: type 9           3368\n",
      "Insurance                   597\n",
      "Kindergarten               6880\n",
      "Legal Services              305\n",
      "Medicine                  11193\n",
      "Military                   2634\n",
      "Mobile                      317\n",
      "Other                     16683\n",
      "Police                     2341\n",
      "Postal                     2157\n",
      "Realtor                     396\n",
      "Religion                     85\n",
      "Restaurant                 1811\n",
      "School                     8893\n",
      "Security                   3247\n",
      "Security Ministries        1974\n",
      "Self-employed             38412\n",
      "Services                   1575\n",
      "Telecom                     577\n",
      "Trade: type 1               348\n",
      "Trade: type 2              1900\n",
      "Trade: type 3              3492\n",
      "Trade: type 4                64\n",
      "Trade: type 5                49\n",
      "Trade: type 6               631\n",
      "Trade: type 7              7831\n",
      "Transport: type 1           201\n",
      "Transport: type 2          2204\n",
      "Transport: type 3          1187\n",
      "Transport: type 4          5398\n",
      "University                 1327\n",
      "XNA                       55374\n",
      "dtype: int64 \n",
      "\n",
      "FONDKAPREMONT_MODE\n",
      "not specified             5687\n",
      "org spec account          5619\n",
      "reg oper account         73830\n",
      "reg oper spec account    12080\n",
      "dtype: int64 \n",
      "\n",
      "HOUSETYPE_MODE\n",
      "block of flats      150503\n",
      "specific housing      1499\n",
      "terraced house        1212\n",
      "dtype: int64 \n",
      "\n",
      "WALLSMATERIAL_MODE\n",
      "Block            9253\n",
      "Mixed            2296\n",
      "Monolithic       1779\n",
      "Others           1625\n",
      "Panel           66040\n",
      "Stone, brick    64815\n",
      "Wooden           5362\n",
      "dtype: int64 \n",
      "\n",
      "EMERGENCYSTATE_MODE\n",
      "No     159428\n",
      "Yes      2328\n",
      "dtype: int64 \n",
      "\n"
     ]
    }
   ],
   "source": [
    "for i in list(read_train.select_dtypes([\"object\"])):\n",
    "    print(read_train.groupby(i).size(), \"\\n\")"
   ]
  },
  {
   "cell_type": "markdown",
   "metadata": {},
   "source": [
    "size command will give you the frequency of the unique values of a column from data frame, where as unique as shown below will give only the unique values"
   ]
  },
  {
   "cell_type": "code",
   "execution_count": 10,
   "metadata": {},
   "outputs": [
    {
     "data": {
      "text/plain": [
       "WEEKDAY_APPR_PROCESS_START\n",
       "FRIDAY       50338\n",
       "MONDAY       50714\n",
       "SATURDAY     33852\n",
       "SUNDAY       16181\n",
       "THURSDAY     50591\n",
       "TUESDAY      53901\n",
       "WEDNESDAY    51934\n",
       "dtype: int64"
      ]
     },
     "execution_count": 10,
     "metadata": {},
     "output_type": "execute_result"
    }
   ],
   "source": [
    "read_train.groupby(\"WEEKDAY_APPR_PROCESS_START\").size()"
   ]
  },
  {
   "cell_type": "code",
   "execution_count": 13,
   "metadata": {},
   "outputs": [
    {
     "data": {
      "text/plain": [
       "array(['Cash loans', 'Revolving loans'], dtype=object)"
      ]
     },
     "execution_count": 13,
     "metadata": {},
     "output_type": "execute_result"
    }
   ],
   "source": [
    "read_train[\"NAME_CONTRACT_TYPE\"].unique()"
   ]
  },
  {
   "cell_type": "markdown",
   "metadata": {},
   "source": [
    "count will give you the counts of values and sum will give you the sum of those values"
   ]
  },
  {
   "cell_type": "code",
   "execution_count": 14,
   "metadata": {
    "collapsed": true
   },
   "outputs": [],
   "source": [
    "#read_train.groupby(\"TARGET\")[\"TARGET\"].count()\n",
    "#read_train.groupby(\"TARGET\")[\"TARGET\"].sum()"
   ]
  },
  {
   "cell_type": "code",
   "execution_count": 15,
   "metadata": {},
   "outputs": [
    {
     "data": {
      "image/png": "[encoded data removed]",
      "text/plain": [
       "<matplotlib.figure.Figure at 0x98b1c18>"
      ]
     },
     "metadata": {},
     "output_type": "display_data"
    }
   ],
   "source": [
    "read_train[\"TARGET\"].hist()\n",
    "plt.show()"
   ]
  },
  {
   "cell_type": "code",
   "execution_count": 16,
   "metadata": {},
   "outputs": [
    {
     "data": {
      "text/plain": [
       "8.0728819456864951"
      ]
     },
     "execution_count": 16,
     "metadata": {},
     "output_type": "execute_result"
    }
   ],
   "source": [
    "read_train[read_train[\"TARGET\"] == 1][\"TARGET\"].count()/read_train[\"TARGET\"].count()*100"
   ]
  },
  {
   "cell_type": "markdown",
   "metadata": {},
   "source": [
    "To check the % of missing values in the data frame ( use the is null to get the count of missing values)"
   ]
  },
  {
   "cell_type": "code",
   "execution_count": 21,
   "metadata": {
    "collapsed": true
   },
   "outputs": [],
   "source": [
    "missing_val_col_name  = (read_train.isnull().sum()*100/len(read_train)).sort_values(ascending=False) > 0.0"
   ]
  },
  {
   "cell_type": "code",
   "execution_count": 27,
   "metadata": {},
   "outputs": [
    {
     "data": {
      "text/html": [
       "<div>\n",
       "<style>\n",
       "    .dataframe thead tr:only-child th {\n",
       "        text-align: right;\n",
       "    }\n",
       "\n",
       "    .dataframe thead th {\n",
       "        text-align: left;\n",
       "    }\n",
       "\n",
       "    .dataframe tbody tr th {\n",
       "        vertical-align: top;\n",
       "    }\n",
       "</style>\n",
       "<table border=\"1\" class=\"dataframe\">\n",
       "  <thead>\n",
       "    <tr style=\"text-align: right;\">\n",
       "      <th></th>\n",
       "      <th>COMMONAREA_MEDI</th>\n",
       "      <th>COMMONAREA_AVG</th>\n",
       "      <th>COMMONAREA_MODE</th>\n",
       "      <th>NONLIVINGAPARTMENTS_MODE</th>\n",
       "      <th>NONLIVINGAPARTMENTS_MEDI</th>\n",
       "      <th>NONLIVINGAPARTMENTS_AVG</th>\n",
       "      <th>FONDKAPREMONT_MODE</th>\n",
       "      <th>LIVINGAPARTMENTS_MEDI</th>\n",
       "      <th>LIVINGAPARTMENTS_MODE</th>\n",
       "      <th>LIVINGAPARTMENTS_AVG</th>\n",
       "      <th>...</th>\n",
       "      <th>FLAG_DOCUMENT_20</th>\n",
       "      <th>FLAG_DOCUMENT_21</th>\n",
       "      <th>ORGANIZATION_TYPE</th>\n",
       "      <th>LIVE_CITY_NOT_WORK_CITY</th>\n",
       "      <th>REG_CITY_NOT_WORK_CITY</th>\n",
       "      <th>REG_CITY_NOT_LIVE_CITY</th>\n",
       "      <th>LIVE_REGION_NOT_WORK_REGION</th>\n",
       "      <th>REG_REGION_NOT_WORK_REGION</th>\n",
       "      <th>HOUR_APPR_PROCESS_START</th>\n",
       "      <th>SK_ID_CURR</th>\n",
       "    </tr>\n",
       "  </thead>\n",
       "  <tbody>\n",
       "    <tr>\n",
       "      <th>0</th>\n",
       "      <td>0.0144</td>\n",
       "      <td>0.0143</td>\n",
       "      <td>0.0144</td>\n",
       "      <td>0.0</td>\n",
       "      <td>0.0000</td>\n",
       "      <td>0.0000</td>\n",
       "      <td>reg oper account</td>\n",
       "      <td>0.0205</td>\n",
       "      <td>0.0220</td>\n",
       "      <td>0.0202</td>\n",
       "      <td>...</td>\n",
       "      <td>0</td>\n",
       "      <td>0</td>\n",
       "      <td>Business Entity Type 3</td>\n",
       "      <td>0</td>\n",
       "      <td>0</td>\n",
       "      <td>0</td>\n",
       "      <td>0</td>\n",
       "      <td>0</td>\n",
       "      <td>10</td>\n",
       "      <td>100002</td>\n",
       "    </tr>\n",
       "    <tr>\n",
       "      <th>1</th>\n",
       "      <td>0.0608</td>\n",
       "      <td>0.0605</td>\n",
       "      <td>0.0497</td>\n",
       "      <td>0.0</td>\n",
       "      <td>0.0039</td>\n",
       "      <td>0.0039</td>\n",
       "      <td>reg oper account</td>\n",
       "      <td>0.0787</td>\n",
       "      <td>0.0790</td>\n",
       "      <td>0.0773</td>\n",
       "      <td>...</td>\n",
       "      <td>0</td>\n",
       "      <td>0</td>\n",
       "      <td>School</td>\n",
       "      <td>0</td>\n",
       "      <td>0</td>\n",
       "      <td>0</td>\n",
       "      <td>0</td>\n",
       "      <td>0</td>\n",
       "      <td>11</td>\n",
       "      <td>100003</td>\n",
       "    </tr>\n",
       "    <tr>\n",
       "      <th>2</th>\n",
       "      <td>0.0000</td>\n",
       "      <td>0.0000</td>\n",
       "      <td>0.0000</td>\n",
       "      <td>0.0</td>\n",
       "      <td>0.0000</td>\n",
       "      <td>0.0000</td>\n",
       "      <td>reg oper account</td>\n",
       "      <td>0.0513</td>\n",
       "      <td>0.0551</td>\n",
       "      <td>0.0504</td>\n",
       "      <td>...</td>\n",
       "      <td>0</td>\n",
       "      <td>0</td>\n",
       "      <td>Government</td>\n",
       "      <td>0</td>\n",
       "      <td>0</td>\n",
       "      <td>0</td>\n",
       "      <td>0</td>\n",
       "      <td>0</td>\n",
       "      <td>9</td>\n",
       "      <td>100004</td>\n",
       "    </tr>\n",
       "    <tr>\n",
       "      <th>3</th>\n",
       "      <td>0.0000</td>\n",
       "      <td>0.0000</td>\n",
       "      <td>0.0000</td>\n",
       "      <td>0.0</td>\n",
       "      <td>0.0000</td>\n",
       "      <td>0.0000</td>\n",
       "      <td>reg oper account</td>\n",
       "      <td>0.0513</td>\n",
       "      <td>0.0551</td>\n",
       "      <td>0.0504</td>\n",
       "      <td>...</td>\n",
       "      <td>0</td>\n",
       "      <td>0</td>\n",
       "      <td>Business Entity Type 3</td>\n",
       "      <td>0</td>\n",
       "      <td>0</td>\n",
       "      <td>0</td>\n",
       "      <td>0</td>\n",
       "      <td>0</td>\n",
       "      <td>17</td>\n",
       "      <td>100006</td>\n",
       "    </tr>\n",
       "    <tr>\n",
       "      <th>4</th>\n",
       "      <td>0.0000</td>\n",
       "      <td>0.0000</td>\n",
       "      <td>0.0000</td>\n",
       "      <td>0.0</td>\n",
       "      <td>0.0000</td>\n",
       "      <td>0.0000</td>\n",
       "      <td>reg oper account</td>\n",
       "      <td>0.0513</td>\n",
       "      <td>0.0551</td>\n",
       "      <td>0.0504</td>\n",
       "      <td>...</td>\n",
       "      <td>0</td>\n",
       "      <td>0</td>\n",
       "      <td>Religion</td>\n",
       "      <td>1</td>\n",
       "      <td>1</td>\n",
       "      <td>0</td>\n",
       "      <td>0</td>\n",
       "      <td>0</td>\n",
       "      <td>11</td>\n",
       "      <td>100007</td>\n",
       "    </tr>\n",
       "    <tr>\n",
       "      <th>5</th>\n",
       "      <td>0.0000</td>\n",
       "      <td>0.0000</td>\n",
       "      <td>0.0000</td>\n",
       "      <td>0.0</td>\n",
       "      <td>0.0000</td>\n",
       "      <td>0.0000</td>\n",
       "      <td>reg oper account</td>\n",
       "      <td>0.0513</td>\n",
       "      <td>0.0551</td>\n",
       "      <td>0.0504</td>\n",
       "      <td>...</td>\n",
       "      <td>0</td>\n",
       "      <td>0</td>\n",
       "      <td>Other</td>\n",
       "      <td>0</td>\n",
       "      <td>0</td>\n",
       "      <td>0</td>\n",
       "      <td>0</td>\n",
       "      <td>0</td>\n",
       "      <td>16</td>\n",
       "      <td>100008</td>\n",
       "    </tr>\n",
       "    <tr>\n",
       "      <th>6</th>\n",
       "      <td>0.0000</td>\n",
       "      <td>0.0000</td>\n",
       "      <td>0.0000</td>\n",
       "      <td>0.0</td>\n",
       "      <td>0.0000</td>\n",
       "      <td>0.0000</td>\n",
       "      <td>reg oper account</td>\n",
       "      <td>0.0513</td>\n",
       "      <td>0.0551</td>\n",
       "      <td>0.0504</td>\n",
       "      <td>...</td>\n",
       "      <td>0</td>\n",
       "      <td>0</td>\n",
       "      <td>Business Entity Type 3</td>\n",
       "      <td>0</td>\n",
       "      <td>0</td>\n",
       "      <td>0</td>\n",
       "      <td>0</td>\n",
       "      <td>0</td>\n",
       "      <td>16</td>\n",
       "      <td>100009</td>\n",
       "    </tr>\n",
       "    <tr>\n",
       "      <th>7</th>\n",
       "      <td>0.0000</td>\n",
       "      <td>0.0000</td>\n",
       "      <td>0.0000</td>\n",
       "      <td>0.0</td>\n",
       "      <td>0.0000</td>\n",
       "      <td>0.0000</td>\n",
       "      <td>reg oper account</td>\n",
       "      <td>0.0513</td>\n",
       "      <td>0.0551</td>\n",
       "      <td>0.0504</td>\n",
       "      <td>...</td>\n",
       "      <td>0</td>\n",
       "      <td>0</td>\n",
       "      <td>Other</td>\n",
       "      <td>1</td>\n",
       "      <td>1</td>\n",
       "      <td>0</td>\n",
       "      <td>0</td>\n",
       "      <td>0</td>\n",
       "      <td>16</td>\n",
       "      <td>100010</td>\n",
       "    </tr>\n",
       "    <tr>\n",
       "      <th>8</th>\n",
       "      <td>0.0000</td>\n",
       "      <td>0.0000</td>\n",
       "      <td>0.0000</td>\n",
       "      <td>0.0</td>\n",
       "      <td>0.0000</td>\n",
       "      <td>0.0000</td>\n",
       "      <td>reg oper account</td>\n",
       "      <td>0.0513</td>\n",
       "      <td>0.0551</td>\n",
       "      <td>0.0504</td>\n",
       "      <td>...</td>\n",
       "      <td>0</td>\n",
       "      <td>0</td>\n",
       "      <td>XNA</td>\n",
       "      <td>0</td>\n",
       "      <td>0</td>\n",
       "      <td>0</td>\n",
       "      <td>0</td>\n",
       "      <td>0</td>\n",
       "      <td>14</td>\n",
       "      <td>100011</td>\n",
       "    </tr>\n",
       "    <tr>\n",
       "      <th>9</th>\n",
       "      <td>0.0000</td>\n",
       "      <td>0.0000</td>\n",
       "      <td>0.0000</td>\n",
       "      <td>0.0</td>\n",
       "      <td>0.0000</td>\n",
       "      <td>0.0000</td>\n",
       "      <td>reg oper account</td>\n",
       "      <td>0.0513</td>\n",
       "      <td>0.0551</td>\n",
       "      <td>0.0504</td>\n",
       "      <td>...</td>\n",
       "      <td>0</td>\n",
       "      <td>0</td>\n",
       "      <td>Electricity</td>\n",
       "      <td>0</td>\n",
       "      <td>0</td>\n",
       "      <td>0</td>\n",
       "      <td>0</td>\n",
       "      <td>0</td>\n",
       "      <td>8</td>\n",
       "      <td>100012</td>\n",
       "    </tr>\n",
       "  </tbody>\n",
       "</table>\n",
       "<p>10 rows × 122 columns</p>\n",
       "</div>"
      ],
      "text/plain": [
       "   COMMONAREA_MEDI  COMMONAREA_AVG  COMMONAREA_MODE  NONLIVINGAPARTMENTS_MODE  \\\n",
       "0           0.0144          0.0143           0.0144                       0.0   \n",
       "1           0.0608          0.0605           0.0497                       0.0   \n",
       "2           0.0000          0.0000           0.0000                       0.0   \n",
       "3           0.0000          0.0000           0.0000                       0.0   \n",
       "4           0.0000          0.0000           0.0000                       0.0   \n",
       "5           0.0000          0.0000           0.0000                       0.0   \n",
       "6           0.0000          0.0000           0.0000                       0.0   \n",
       "7           0.0000          0.0000           0.0000                       0.0   \n",
       "8           0.0000          0.0000           0.0000                       0.0   \n",
       "9           0.0000          0.0000           0.0000                       0.0   \n",
       "\n",
       "   NONLIVINGAPARTMENTS_MEDI  NONLIVINGAPARTMENTS_AVG FONDKAPREMONT_MODE  \\\n",
       "0                    0.0000                   0.0000   reg oper account   \n",
       "1                    0.0039                   0.0039   reg oper account   \n",
       "2                    0.0000                   0.0000   reg oper account   \n",
       "3                    0.0000                   0.0000   reg oper account   \n",
       "4                    0.0000                   0.0000   reg oper account   \n",
       "5                    0.0000                   0.0000   reg oper account   \n",
       "6                    0.0000                   0.0000   reg oper account   \n",
       "7                    0.0000                   0.0000   reg oper account   \n",
       "8                    0.0000                   0.0000   reg oper account   \n",
       "9                    0.0000                   0.0000   reg oper account   \n",
       "\n",
       "   LIVINGAPARTMENTS_MEDI  LIVINGAPARTMENTS_MODE  LIVINGAPARTMENTS_AVG  \\\n",
       "0                 0.0205                 0.0220                0.0202   \n",
       "1                 0.0787                 0.0790                0.0773   \n",
       "2                 0.0513                 0.0551                0.0504   \n",
       "3                 0.0513                 0.0551                0.0504   \n",
       "4                 0.0513                 0.0551                0.0504   \n",
       "5                 0.0513                 0.0551                0.0504   \n",
       "6                 0.0513                 0.0551                0.0504   \n",
       "7                 0.0513                 0.0551                0.0504   \n",
       "8                 0.0513                 0.0551                0.0504   \n",
       "9                 0.0513                 0.0551                0.0504   \n",
       "\n",
       "      ...      FLAG_DOCUMENT_20  FLAG_DOCUMENT_21       ORGANIZATION_TYPE  \\\n",
       "0     ...                     0                 0  Business Entity Type 3   \n",
       "1     ...                     0                 0                  School   \n",
       "2     ...                     0                 0              Government   \n",
       "3     ...                     0                 0  Business Entity Type 3   \n",
       "4     ...                     0                 0                Religion   \n",
       "5     ...                     0                 0                   Other   \n",
       "6     ...                     0                 0  Business Entity Type 3   \n",
       "7     ...                     0                 0                   Other   \n",
       "8     ...                     0                 0                     XNA   \n",
       "9     ...                     0                 0             Electricity   \n",
       "\n",
       "   LIVE_CITY_NOT_WORK_CITY  REG_CITY_NOT_WORK_CITY  REG_CITY_NOT_LIVE_CITY  \\\n",
       "0                        0                       0                       0   \n",
       "1                        0                       0                       0   \n",
       "2                        0                       0                       0   \n",
       "3                        0                       0                       0   \n",
       "4                        1                       1                       0   \n",
       "5                        0                       0                       0   \n",
       "6                        0                       0                       0   \n",
       "7                        1                       1                       0   \n",
       "8                        0                       0                       0   \n",
       "9                        0                       0                       0   \n",
       "\n",
       "   LIVE_REGION_NOT_WORK_REGION  REG_REGION_NOT_WORK_REGION  \\\n",
       "0                            0                           0   \n",
       "1                            0                           0   \n",
       "2                            0                           0   \n",
       "3                            0                           0   \n",
       "4                            0                           0   \n",
       "5                            0                           0   \n",
       "6                            0                           0   \n",
       "7                            0                           0   \n",
       "8                            0                           0   \n",
       "9                            0                           0   \n",
       "\n",
       "   HOUR_APPR_PROCESS_START  SK_ID_CURR  \n",
       "0                       10      100002  \n",
       "1                       11      100003  \n",
       "2                        9      100004  \n",
       "3                       17      100006  \n",
       "4                       11      100007  \n",
       "5                       16      100008  \n",
       "6                       16      100009  \n",
       "7                       16      100010  \n",
       "8                       14      100011  \n",
       "9                        8      100012  \n",
       "\n",
       "[10 rows x 122 columns]"
      ]
     },
     "execution_count": 27,
     "metadata": {},
     "output_type": "execute_result"
    }
   ],
   "source": [
    "read_train[missing_val_col_name.index].head(10)"
   ]
  },
  {
   "cell_type": "code",
   "execution_count": 28,
   "metadata": {},
   "outputs": [
    {
     "data": {
      "text/plain": [
       "(AMT_REQ_CREDIT_BUREAU_YEAR      0\n",
       " REGION_RATING_CLIENT            0\n",
       " WEEKDAY_APPR_PROCESS_START      0\n",
       " HOUR_APPR_PROCESS_START         0\n",
       " REG_REGION_NOT_LIVE_REGION      0\n",
       " REG_REGION_NOT_WORK_REGION      0\n",
       " LIVE_REGION_NOT_WORK_REGION     0\n",
       " REG_CITY_NOT_LIVE_CITY          0\n",
       " REG_CITY_NOT_WORK_CITY          0\n",
       " LIVE_CITY_NOT_WORK_CITY         0\n",
       " ORGANIZATION_TYPE               0\n",
       " EXT_SOURCE_1                    0\n",
       " EXT_SOURCE_2                    0\n",
       " EXT_SOURCE_3                    0\n",
       " APARTMENTS_AVG                  0\n",
       " BASEMENTAREA_AVG                0\n",
       " YEARS_BEGINEXPLUATATION_AVG     0\n",
       " YEARS_BUILD_AVG                 0\n",
       " COMMONAREA_AVG                  0\n",
       " ELEVATORS_AVG                   0\n",
       " ENTRANCES_AVG                   0\n",
       " FLOORSMAX_AVG                   0\n",
       " FLOORSMIN_AVG                   0\n",
       " LANDAREA_AVG                    0\n",
       " LIVINGAPARTMENTS_AVG            0\n",
       " LIVINGAREA_AVG                  0\n",
       " NONLIVINGAPARTMENTS_AVG         0\n",
       " NONLIVINGAREA_AVG               0\n",
       " APARTMENTS_MODE                 0\n",
       " REGION_RATING_CLIENT_W_CITY     0\n",
       "                                ..\n",
       " OBS_30_CNT_SOCIAL_CIRCLE        0\n",
       " EMERGENCYSTATE_MODE             0\n",
       " YEARS_BUILD_MEDI                0\n",
       " ELEVATORS_MODE                  0\n",
       " ENTRANCES_MODE                  0\n",
       " FLOORSMAX_MODE                  0\n",
       " FLOORSMIN_MODE                  0\n",
       " LANDAREA_MODE                   0\n",
       " LIVINGAPARTMENTS_MODE           0\n",
       " LIVINGAREA_MODE                 0\n",
       " NONLIVINGAPARTMENTS_MODE        0\n",
       " NONLIVINGAREA_MODE              0\n",
       " APARTMENTS_MEDI                 0\n",
       " BASEMENTAREA_MEDI               0\n",
       " YEARS_BEGINEXPLUATATION_MEDI    0\n",
       " COMMONAREA_MEDI                 0\n",
       " WALLSMATERIAL_MODE              0\n",
       " ELEVATORS_MEDI                  0\n",
       " ENTRANCES_MEDI                  0\n",
       " FLOORSMAX_MEDI                  0\n",
       " FLOORSMIN_MEDI                  0\n",
       " LANDAREA_MEDI                   0\n",
       " LIVINGAPARTMENTS_MEDI           0\n",
       " LIVINGAREA_MEDI                 0\n",
       " NONLIVINGAPARTMENTS_MEDI        0\n",
       " NONLIVINGAREA_MEDI              0\n",
       " FONDKAPREMONT_MODE              0\n",
       " HOUSETYPE_MODE                  0\n",
       " TOTALAREA_MODE                  0\n",
       " SK_ID_CURR                      0\n",
       " Length: 122, dtype: int64, 307511)"
      ]
     },
     "execution_count": 28,
     "metadata": {},
     "output_type": "execute_result"
    }
   ],
   "source": [
    "read_train.isnull().sum().sort_values(ascending=False), len(read_train)"
   ]
  },
  {
   "cell_type": "code",
   "execution_count": 20,
   "metadata": {},
   "outputs": [
    {
     "data": {
      "text/plain": [
       "'reg oper account'"
      ]
     },
     "execution_count": 20,
     "metadata": {},
     "output_type": "execute_result"
    }
   ],
   "source": [
    "read_train[\"FONDKAPREMONT_MODE\"].mode()[0]"
   ]
  },
  {
   "cell_type": "code",
   "execution_count": 25,
   "metadata": {},
   "outputs": [],
   "source": [
    "for i in range(len(missing_val_col_name)):\n",
    "    \n",
    "    if  missing_val_col_name[i]:\n",
    "        #temp = read_train[missing_val_col_name.index[i]].mode()[0]\n",
    "        if read_train[missing_val_col_name.index[i]].dtypes == \"object\":\n",
    "            #print(read_train[missing_val_col_name.index[i]].groupby(read_train[missing_val_col_name.index[i]]).size())\n",
    "            read_train[missing_val_col_name.index[i]] = read_train[missing_val_col_name.index[i]].fillna(read_train[missing_val_col_name.index[i]].mode()[0])\n",
    "            \n",
    "            #read_train[missing_val_col_name.index[i]] = read_train[missing_val_col_name.index[i]].fillna(temp)\n",
    "        if read_train[missing_val_col_name.index[i]].dtypes == \"float64\":\n",
    "            #read_train[missing_val_col_name.index[i]] = read_train[missing_val_col_name.index[i]].fillna(0)\n",
    "            read_train[missing_val_col_name.index[i]] = read_train[missing_val_col_name.index[i]].fillna(read_train[missing_val_col_name.index[i]].mode()[0])\n",
    "            "
   ]
  },
  {
   "cell_type": "code",
   "execution_count": 26,
   "metadata": {},
   "outputs": [
    {
     "data": {
      "text/plain": [
       "AMT_REQ_CREDIT_BUREAU_YEAR    0\n",
       "REGION_RATING_CLIENT          0\n",
       "WEEKDAY_APPR_PROCESS_START    0\n",
       "HOUR_APPR_PROCESS_START       0\n",
       "REG_REGION_NOT_LIVE_REGION    0\n",
       "dtype: int64"
      ]
     },
     "execution_count": 26,
     "metadata": {},
     "output_type": "execute_result"
    }
   ],
   "source": [
    "read_train.isnull().sum().sort_values(ascending=False).head(5)"
   ]
  },
  {
   "cell_type": "code",
   "execution_count": 29,
   "metadata": {
    "collapsed": true
   },
   "outputs": [],
   "source": [
    "read_train.loc[read_train[\"CODE_GENDER\"] == \"XNA\",'CODE_GENDER'] = \"F\"\n",
    "read_train.loc[read_train[\"NAME_INCOME_TYPE\"] == \"Maternity leave\",'NAME_INCOME_TYPE'] = \"Working\"\n",
    "read_train.loc[read_train[\"NAME_FAMILY_STATUS\"] == \"Unknown\",'NAME_FAMILY_STATUS'] = \"Married\""
   ]
  },
  {
   "cell_type": "code",
   "execution_count": 30,
   "metadata": {
    "collapsed": true
   },
   "outputs": [],
   "source": [
    "read_train_dummy = pd.get_dummies(data= read_train)"
   ]
  },
  {
   "cell_type": "code",
   "execution_count": 31,
   "metadata": {},
   "outputs": [
    {
     "data": {
      "text/plain": [
       "((307511, 122), (307511, 243))"
      ]
     },
     "execution_count": 31,
     "metadata": {},
     "output_type": "execute_result"
    }
   ],
   "source": [
    "read_train.shape, read_train_dummy.shape"
   ]
  },
  {
   "cell_type": "code",
   "execution_count": 32,
   "metadata": {},
   "outputs": [
    {
     "data": {
      "text/html": [
       "<div>\n",
       "<style>\n",
       "    .dataframe thead tr:only-child th {\n",
       "        text-align: right;\n",
       "    }\n",
       "\n",
       "    .dataframe thead th {\n",
       "        text-align: left;\n",
       "    }\n",
       "\n",
       "    .dataframe tbody tr th {\n",
       "        vertical-align: top;\n",
       "    }\n",
       "</style>\n",
       "<table border=\"1\" class=\"dataframe\">\n",
       "  <thead>\n",
       "    <tr style=\"text-align: right;\">\n",
       "      <th></th>\n",
       "      <th>SK_ID_CURR</th>\n",
       "      <th>TARGET</th>\n",
       "      <th>CNT_CHILDREN</th>\n",
       "      <th>AMT_INCOME_TOTAL</th>\n",
       "      <th>AMT_CREDIT</th>\n",
       "      <th>AMT_ANNUITY</th>\n",
       "      <th>AMT_GOODS_PRICE</th>\n",
       "      <th>REGION_POPULATION_RELATIVE</th>\n",
       "      <th>DAYS_BIRTH</th>\n",
       "      <th>DAYS_EMPLOYED</th>\n",
       "      <th>...</th>\n",
       "      <th>HOUSETYPE_MODE_terraced house</th>\n",
       "      <th>WALLSMATERIAL_MODE_Block</th>\n",
       "      <th>WALLSMATERIAL_MODE_Mixed</th>\n",
       "      <th>WALLSMATERIAL_MODE_Monolithic</th>\n",
       "      <th>WALLSMATERIAL_MODE_Others</th>\n",
       "      <th>WALLSMATERIAL_MODE_Panel</th>\n",
       "      <th>WALLSMATERIAL_MODE_Stone, brick</th>\n",
       "      <th>WALLSMATERIAL_MODE_Wooden</th>\n",
       "      <th>EMERGENCYSTATE_MODE_No</th>\n",
       "      <th>EMERGENCYSTATE_MODE_Yes</th>\n",
       "    </tr>\n",
       "  </thead>\n",
       "  <tbody>\n",
       "    <tr>\n",
       "      <th>0</th>\n",
       "      <td>100002</td>\n",
       "      <td>1</td>\n",
       "      <td>0</td>\n",
       "      <td>202500.0</td>\n",
       "      <td>406597.5</td>\n",
       "      <td>24700.5</td>\n",
       "      <td>351000.0</td>\n",
       "      <td>0.018801</td>\n",
       "      <td>-9461</td>\n",
       "      <td>-637</td>\n",
       "      <td>...</td>\n",
       "      <td>0</td>\n",
       "      <td>0</td>\n",
       "      <td>0</td>\n",
       "      <td>0</td>\n",
       "      <td>0</td>\n",
       "      <td>0</td>\n",
       "      <td>1</td>\n",
       "      <td>0</td>\n",
       "      <td>1</td>\n",
       "      <td>0</td>\n",
       "    </tr>\n",
       "    <tr>\n",
       "      <th>1</th>\n",
       "      <td>100003</td>\n",
       "      <td>0</td>\n",
       "      <td>0</td>\n",
       "      <td>270000.0</td>\n",
       "      <td>1293502.5</td>\n",
       "      <td>35698.5</td>\n",
       "      <td>1129500.0</td>\n",
       "      <td>0.003541</td>\n",
       "      <td>-16765</td>\n",
       "      <td>-1188</td>\n",
       "      <td>...</td>\n",
       "      <td>0</td>\n",
       "      <td>1</td>\n",
       "      <td>0</td>\n",
       "      <td>0</td>\n",
       "      <td>0</td>\n",
       "      <td>0</td>\n",
       "      <td>0</td>\n",
       "      <td>0</td>\n",
       "      <td>1</td>\n",
       "      <td>0</td>\n",
       "    </tr>\n",
       "    <tr>\n",
       "      <th>2</th>\n",
       "      <td>100004</td>\n",
       "      <td>0</td>\n",
       "      <td>0</td>\n",
       "      <td>67500.0</td>\n",
       "      <td>135000.0</td>\n",
       "      <td>6750.0</td>\n",
       "      <td>135000.0</td>\n",
       "      <td>0.010032</td>\n",
       "      <td>-19046</td>\n",
       "      <td>-225</td>\n",
       "      <td>...</td>\n",
       "      <td>0</td>\n",
       "      <td>0</td>\n",
       "      <td>0</td>\n",
       "      <td>0</td>\n",
       "      <td>0</td>\n",
       "      <td>1</td>\n",
       "      <td>0</td>\n",
       "      <td>0</td>\n",
       "      <td>1</td>\n",
       "      <td>0</td>\n",
       "    </tr>\n",
       "  </tbody>\n",
       "</table>\n",
       "<p>3 rows × 243 columns</p>\n",
       "</div>"
      ],
      "text/plain": [
       "   SK_ID_CURR  TARGET  CNT_CHILDREN  AMT_INCOME_TOTAL  AMT_CREDIT  \\\n",
       "0      100002       1             0          202500.0    406597.5   \n",
       "1      100003       0             0          270000.0   1293502.5   \n",
       "2      100004       0             0           67500.0    135000.0   \n",
       "\n",
       "   AMT_ANNUITY  AMT_GOODS_PRICE  REGION_POPULATION_RELATIVE  DAYS_BIRTH  \\\n",
       "0      24700.5         351000.0                    0.018801       -9461   \n",
       "1      35698.5        1129500.0                    0.003541      -16765   \n",
       "2       6750.0         135000.0                    0.010032      -19046   \n",
       "\n",
       "   DAYS_EMPLOYED           ...             HOUSETYPE_MODE_terraced house  \\\n",
       "0           -637           ...                                         0   \n",
       "1          -1188           ...                                         0   \n",
       "2           -225           ...                                         0   \n",
       "\n",
       "   WALLSMATERIAL_MODE_Block  WALLSMATERIAL_MODE_Mixed  \\\n",
       "0                         0                         0   \n",
       "1                         1                         0   \n",
       "2                         0                         0   \n",
       "\n",
       "   WALLSMATERIAL_MODE_Monolithic  WALLSMATERIAL_MODE_Others  \\\n",
       "0                              0                          0   \n",
       "1                              0                          0   \n",
       "2                              0                          0   \n",
       "\n",
       "   WALLSMATERIAL_MODE_Panel  WALLSMATERIAL_MODE_Stone, brick  \\\n",
       "0                         0                                1   \n",
       "1                         0                                0   \n",
       "2                         1                                0   \n",
       "\n",
       "   WALLSMATERIAL_MODE_Wooden  EMERGENCYSTATE_MODE_No  EMERGENCYSTATE_MODE_Yes  \n",
       "0                          0                       1                        0  \n",
       "1                          0                       1                        0  \n",
       "2                          0                       1                        0  \n",
       "\n",
       "[3 rows x 243 columns]"
      ]
     },
     "execution_count": 32,
     "metadata": {},
     "output_type": "execute_result"
    }
   ],
   "source": [
    "read_train_dummy.head(3)"
   ]
  },
  {
   "cell_type": "code",
   "execution_count": 33,
   "metadata": {},
   "outputs": [],
   "source": [
    "from sklearn.ensemble import GradientBoostingClassifier, RandomForestClassifier \n",
    "from sklearn.model_selection import train_test_split\n",
    "from sklearn.metrics import roc_curve, roc_auc_score\n",
    "import xgboost as xgb"
   ]
  },
  {
   "cell_type": "code",
   "execution_count": 34,
   "metadata": {},
   "outputs": [],
   "source": [
    "train_x, test_x, train_y,test_y = train_test_split(read_train_dummy.loc[:, 'CNT_CHILDREN':'EMERGENCYSTATE_MODE_Yes']\n",
    "                                                   ,read_train_dummy[\"TARGET\"],test_size=.3, random_state=0)"
   ]
  },
  {
   "cell_type": "code",
   "execution_count": 35,
   "metadata": {},
   "outputs": [
    {
     "data": {
      "text/plain": [
       "((215257, 241), (215257,), (92254, 241), (92254,))"
      ]
     },
     "execution_count": 35,
     "metadata": {},
     "output_type": "execute_result"
    }
   ],
   "source": [
    "train_x.shape, train_y.shape, test_x.shape,test_y.shape"
   ]
  },
  {
   "cell_type": "code",
   "execution_count": 43,
   "metadata": {},
   "outputs": [],
   "source": [
    "rf = RandomForestClassifier(criterion=\"entropy\",n_estimators=1000,max_depth = 4,min_samples_leaf = 10\n",
    "                           ,min_samples_split = 10,)\n",
    "xgb_model = xgb.XGBClassifier(colsample_bytree=0.4603, gamma=0.0468, \n",
    "                             learning_rate=0.05, max_depth=5, \n",
    "                             min_child_weight=1.7817, n_estimators=2200,\n",
    "                             reg_alpha=0.4640, reg_lambda=0.8571,\n",
    "                             subsample=0.5213, silent=1,\n",
    "                             random_state =7, nthread = -1 )\n",
    "GBoost = GradientBoostingClassifier(n_estimators=3000, learning_rate=0.05,\n",
    "                                   max_depth=4, max_features='sqrt',\n",
    "                                   min_samples_leaf=15, min_samples_split=10, \n",
    "                                   loss='deviance', random_state =5)"
   ]
  },
  {
   "cell_type": "code",
   "execution_count": null,
   "metadata": {},
   "outputs": [],
   "source": [
    "#rf.fit(read_train_dummy.loc[:, 'CNT_CHILDREN':'EMERGENCYSTATE_MODE_Yes'], read_train_dummy[\"TARGET\"])\n",
    "rf.fit(train_x,train_y)"
   ]
  },
  {
   "cell_type": "code",
   "execution_count": null,
   "metadata": {},
   "outputs": [],
   "source": [
    "y_pred = rf.predict_proba(test_x)[:,1]"
   ]
  },
  {
   "cell_type": "code",
   "execution_count": 44,
   "metadata": {},
   "outputs": [],
   "source": [
    "xgb_model.fit(train_x,train_y)\n",
    "y_pred_xgb = xgb_model.predict_proba(test_x)[:,1]"
   ]
  },
  {
   "cell_type": "code",
   "execution_count": null,
   "metadata": {},
   "outputs": [],
   "source": [
    "fpr, tpr, _ = roc_curve(test_y, y_pred)"
   ]
  },
  {
   "cell_type": "code",
   "execution_count": 41,
   "metadata": {},
   "outputs": [],
   "source": [
    "area =  roc_auc_score(test_y, y_pred_xgb)"
   ]
  },
  {
   "cell_type": "code",
   "execution_count": 42,
   "metadata": {},
   "outputs": [
    {
     "data": {
      "text/plain": [
       "0.7596924455190085"
      ]
     },
     "execution_count": 42,
     "metadata": {},
     "output_type": "execute_result"
    }
   ],
   "source": [
    "area"
   ]
  },
  {
   "cell_type": "code",
   "execution_count": null,
   "metadata": {},
   "outputs": [],
   "source": [
    "plt.plot(fpr, tpr)\n",
    "plt.show()"
   ]
  },
  {
   "cell_type": "code",
   "execution_count": null,
   "metadata": {},
   "outputs": [],
   "source": [
    "GBoost.fit(read_train_dummy.loc[:, 'CNT_CHILDREN':'EMERGENCYSTATE_MODE_Yes'], read_train_dummy[\"TARGET\"])"
   ]
  },
  {
   "cell_type": "code",
   "execution_count": null,
   "metadata": {},
   "outputs": [],
   "source": [
    "#xgb_model.fit(read_train_dummy.loc[:, 'CNT_CHILDREN':'EMERGENCYSTATE_MODE_Yes'], read_train_dummy[\"TARGET\"])\n",
    "xgb_model.fit(train_x,train_y)"
   ]
  },
  {
   "cell_type": "code",
   "execution_count": null,
   "metadata": {
    "collapsed": true
   },
   "outputs": [],
   "source": [
    "xgb"
   ]
  },
  {
   "cell_type": "code",
   "execution_count": null,
   "metadata": {
    "collapsed": true
   },
   "outputs": [],
   "source": [
    "#rf.feature_importances_"
   ]
  },
  {
   "cell_type": "code",
   "execution_count": null,
   "metadata": {
    "collapsed": true
   },
   "outputs": [],
   "source": [
    "read_test =  pd.read_csv(data_dir+\"application_test.csv\")"
   ]
  },
  {
   "cell_type": "code",
   "execution_count": null,
   "metadata": {},
   "outputs": [],
   "source": [
    "read_test.shape,read_train.shape"
   ]
  },
  {
   "cell_type": "code",
   "execution_count": null,
   "metadata": {
    "collapsed": true
   },
   "outputs": [],
   "source": [
    "missing_val_col_name_test  = (read_test.isnull().sum()*100/len(read_test)).sort_values(ascending=False) > 0.0"
   ]
  },
  {
   "cell_type": "code",
   "execution_count": null,
   "metadata": {
    "collapsed": true
   },
   "outputs": [],
   "source": [
    "for i in range(len(missing_val_col_name_test)):\n",
    "    if  missing_val_col_name_test[i]:\n",
    "        if read_test[missing_val_col_name_test.index[i]].dtypes == \"object\":\n",
    "            \n",
    "            #print(read_train[missing_val_col_name.index[i]].dtypes, \"value of i : \",i)\n",
    "            read_test[missing_val_col_name_test.index[i]] = read_test[missing_val_col_name_test.index[i]].fillna('None')\n",
    "    \n",
    "        if read_test[missing_val_col_name_test.index[i]].dtypes == \"float64\":\n",
    "            \n",
    "            #print(read_train[missing_val_col_name.index[i]].dtypes, \"value of i : \",i)\n",
    "            read_test[missing_val_col_name_test.index[i]] = read_test[missing_val_col_name_test.index[i]].fillna(0)"
   ]
  },
  {
   "cell_type": "code",
   "execution_count": null,
   "metadata": {},
   "outputs": [],
   "source": [
    "(read_test.isnull().sum()*100/len(read_test)).sort_values(ascending=False).head(4)"
   ]
  },
  {
   "cell_type": "code",
   "execution_count": null,
   "metadata": {
    "collapsed": true
   },
   "outputs": [],
   "source": [
    "read_test_dummy = pd.get_dummies(read_test)"
   ]
  },
  {
   "cell_type": "code",
   "execution_count": null,
   "metadata": {
    "collapsed": true,
    "scrolled": false
   },
   "outputs": [],
   "source": [
    "#list(read_test_dummy)"
   ]
  },
  {
   "cell_type": "code",
   "execution_count": null,
   "metadata": {
    "collapsed": true
   },
   "outputs": [],
   "source": [
    "log_reg_pred  = rf.predict_proba(read_test_dummy.loc[:,'CNT_CHILDREN':'EMERGENCYSTATE_MODE_Yes'])[:,1]"
   ]
  },
  {
   "cell_type": "code",
   "execution_count": null,
   "metadata": {
    "collapsed": true
   },
   "outputs": [],
   "source": [
    "log_reg_pred_xgb  = xgb_model.predict_proba(read_test_dummy.loc[:,'CNT_CHILDREN':'EMERGENCYSTATE_MODE_Yes'])[:,1]"
   ]
  },
  {
   "cell_type": "code",
   "execution_count": null,
   "metadata": {
    "collapsed": true
   },
   "outputs": [],
   "source": [
    "log_reg_pred_gboost  = GBoost.predict_proba(read_test_dummy.loc[:,'CNT_CHILDREN':'EMERGENCYSTATE_MODE_Yes'])[:,1]"
   ]
  },
  {
   "cell_type": "code",
   "execution_count": null,
   "metadata": {
    "collapsed": true
   },
   "outputs": [],
   "source": [
    "ave_values1 = (.8*log_reg_pred_xgb) + (.1* log_reg_pred_gboost) + (.1*log_reg_pred)"
   ]
  },
  {
   "cell_type": "code",
   "execution_count": null,
   "metadata": {},
   "outputs": [],
   "source": [
    "log_reg_pred, log_reg_pred_xgb, ave_values1, log_reg_pred_gboost"
   ]
  },
  {
   "cell_type": "code",
   "execution_count": null,
   "metadata": {
    "collapsed": true
   },
   "outputs": [],
   "source": [
    "target =  pd.DataFrame(ave_values1,columns = [\"TARGET\"])\n",
    "sub  = read_test[\"SK_ID_CURR\"]"
   ]
  },
  {
   "cell_type": "code",
   "execution_count": null,
   "metadata": {
    "collapsed": true
   },
   "outputs": [],
   "source": [
    "submission = pd.concat([sub,target], axis = 1)"
   ]
  },
  {
   "cell_type": "code",
   "execution_count": null,
   "metadata": {},
   "outputs": [],
   "source": [
    "submission.head(2)"
   ]
  },
  {
   "cell_type": "code",
   "execution_count": null,
   "metadata": {
    "collapsed": true
   },
   "outputs": [],
   "source": [
    "submission.to_csv(data_dir+\"boost_xgb_rf.csv\",index = False)"
   ]
  },
  {
   "cell_type": "code",
   "execution_count": null,
   "metadata": {
    "collapsed": true
   },
   "outputs": [],
   "source": []
  },
  {
   "cell_type": "code",
   "execution_count": null,
   "metadata": {
    "collapsed": true
   },
   "outputs": [],
   "source": []
  },
  {
   "cell_type": "code",
   "execution_count": null,
   "metadata": {
    "collapsed": true
   },
   "outputs": [],
   "source": []
  },
  {
   "cell_type": "code",
   "execution_count": null,
   "metadata": {
    "collapsed": true
   },
   "outputs": [],
   "source": []
  },
  {
   "cell_type": "code",
   "execution_count": null,
   "metadata": {
    "collapsed": true
   },
   "outputs": [],
   "source": []
  },
  {
   "cell_type": "code",
   "execution_count": null,
   "metadata": {
    "collapsed": true
   },
   "outputs": [],
   "source": []
  },
  {
   "cell_type": "code",
   "execution_count": null,
   "metadata": {
    "collapsed": true
   },
   "outputs": [],
   "source": []
  },
  {
   "cell_type": "code",
   "execution_count": null,
   "metadata": {
    "collapsed": true
   },
   "outputs": [],
   "source": []
  },
  {
   "cell_type": "code",
   "execution_count": null,
   "metadata": {},
   "outputs": [],
   "source": [
    "df = pd.DataFrame({'A': ['a', 'b', 'a'], 'B': ['b', 'a', 'c'],'C': [1, 2, 3]})\n",
    "df"
   ]
  },
  {
   "cell_type": "code",
   "execution_count": null,
   "metadata": {
    "collapsed": true
   },
   "outputs": [],
   "source": [
    "df = pd.get_dummies(data=df)"
   ]
  },
  {
   "cell_type": "code",
   "execution_count": null,
   "metadata": {},
   "outputs": [],
   "source": [
    "df.dtypes"
   ]
  },
  {
   "cell_type": "code",
   "execution_count": null,
   "metadata": {
    "collapsed": true
   },
   "outputs": [],
   "source": []
  }
 ],
 "metadata": {
  "kernelspec": {
   "display_name": "Python 3",
   "language": "python",
   "name": "python3"
  },
  "language_info": {
   "codemirror_mode": {
    "name": "ipython",
    "version": 3
   },
   "file_extension": ".py",
   "mimetype": "text/x-python",
   "name": "python",
   "nbconvert_exporter": "python",
   "pygments_lexer": "ipython3",
   "version": "3.6.1"
  }
 },
 "nbformat": 4,
 "nbformat_minor": 2
}
