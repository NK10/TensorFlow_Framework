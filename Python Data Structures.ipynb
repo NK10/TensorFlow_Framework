{
 "cells": [
  {
   "cell_type": "markdown",
   "metadata": {},
   "source": [
    "# Dictionary"
   ]
  },
  {
   "cell_type": "code",
   "execution_count": 8,
   "metadata": {},
   "outputs": [
    {
     "name": "stdout",
     "output_type": "stream",
     "text": [
      "<class 'dict'>\n",
      "{1: 'nitin1', 2: 'Kumar1', '1': 'Arav'}\n",
      "{'a': 'nitin', 'b': 'Kumar', 1: 'funny'}\n",
      "{1: 'funny', 2: 'Kumar1', '1': 'Arav', 'a': 'nitin', 'b': 'Kumar'}\n",
      "length of Dic is: 5\n",
      "enumerate 0 1\n",
      "enumerate 1 2\n",
      "enumerate 2 1\n",
      "enumerate 3 a\n",
      "enumerate 4 b\n",
      "dictionary.items() 1 funny\n",
      "dictionary.items() 2 Kumar1\n",
      "dictionary.items() 1 Arav\n",
      "dictionary.items() a nitin\n",
      "dictionary.items() b Kumar\n"
     ]
    }
   ],
   "source": [
    "a= {}\n",
    "print(type(a))\n",
    "a[1]=\"nitin1\"\n",
    "a[2]=\"Kumar1\"\n",
    "a['1']= \"Arav\"\n",
    "print(a)\n",
    "b={\"a\":\"nitin\",\"b\":\"Kumar\",1:\"funny\"}\n",
    "print(b)\n",
    "a.update(b)\n",
    "print(a)\n",
    "print(\"length of Dic is:\",len(a))\n",
    "for key, values in enumerate(a):\n",
    "    print(\"enumerate\",key,values)\n",
    "for key, val in a.items():\n",
    "    print(\"dictionary.items()\",key,val)\n"
   ]
  },
  {
   "cell_type": "markdown",
   "metadata": {},
   "source": [
    "# List"
   ]
  },
  {
   "cell_type": "code",
   "execution_count": 25,
   "metadata": {},
   "outputs": [
    {
     "name": "stdout",
     "output_type": "stream",
     "text": [
      "[1, 2, 3, 4, '3', 'nitin']\n",
      "printing append another list [1, 2, 3, 4, '3', 'nitin', [11, 22, 33, 44]]\n",
      "printing extend another list [1, 2, 3, 4, '3', 'nitin', [11, 22, 33, 44, 111, 222, 333, 444]]\n",
      "printing addition of list [1, 2, 3, 4, 11, 22, 33, 34, 11, 11, 11] and sum 10\n",
      "zip function to combine the list (1, 11)\n",
      "zip function to combine the list (2, 22)\n",
      "zip function to combine the list (3, 33)\n",
      "zip function to combine the list (4, 34)\n",
      "enumerate 0 1\n",
      "enumerate 1 2\n",
      "enumerate 2 3\n",
      "enumerate 3 4\n",
      "enumerate 4 3\n",
      "enumerate 5 nitin\n",
      "enumerate 6 [11, 22, 33, 44, 111, 222, 333, 444]\n",
      "Count of elements (11) in List:[1, 2, 3, 4, 11, 22, 33, 34, 11, 11, 11]  is 4\n",
      "sorting [1, 2, 3, 4, 11, 11, 11, 11, 22, 33, 34]\n",
      "reversing the list [34, 33, 22, 11, 11, 11, 11, 4, 3, 2, 1]\n",
      "getting the index of first occurance 3\n"
     ]
    }
   ],
   "source": [
    "aa=[1,2,3,4]\n",
    "bb=[11,22,33,34,11,11,11]\n",
    "a=[1,2,3,4,\"3\"]\n",
    "a.append(\"nitin\")\n",
    "print(a)\n",
    "b= [11,22,33,44,]\n",
    "c= [111,222,333,444,]\n",
    "a.append(b)\n",
    "print(\"printing append another list\",a)\n",
    "b.extend(c)\n",
    "print(\"printing extend another list\",a)\n",
    "d=aa+bb\n",
    "print(\"printing addition of list {} and sum {}\".format(d,sum(aa)))\n",
    "#using zip function to combine list\n",
    "for i in zip(aa,bb):\n",
    "    print(\"zip function to combine the list\",i)\n",
    "for key, values in enumerate(a):\n",
    "    print(\"enumerate\",key,values)\n",
    "print(\"Count of elements (11) in List:{}  is {}\".format(d,d.count(11)))\n",
    "d.sort()\n",
    "print(\"sorting\",d)\n",
    "d.reverse()\n",
    "print(\"reversing the list\",d)\n",
    "print(\"getting the index of first occurance\",d.index(11))"
   ]
  },
  {
   "cell_type": "code",
   "execution_count": null,
   "metadata": {},
   "outputs": [],
   "source": []
  }
 ],
 "metadata": {
  "kernelspec": {
   "display_name": "Python 3",
   "language": "python",
   "name": "python3"
  },
  "language_info": {
   "codemirror_mode": {
    "name": "ipython",
    "version": 3
   },
   "file_extension": ".py",
   "mimetype": "text/x-python",
   "name": "python",
   "nbconvert_exporter": "python",
   "pygments_lexer": "ipython3",
   "version": "3.6.9"
  }
 },
 "nbformat": 4,
 "nbformat_minor": 2
}
